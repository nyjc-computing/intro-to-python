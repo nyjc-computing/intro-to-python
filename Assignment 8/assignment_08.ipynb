{
 "cells": [
  {
   "cell_type": "markdown",
   "metadata": {},
   "source": [
    "## 1-minute introduction to Jupyter ##\n",
    "\n",
    "A Jupyter notebook consists of cells. Each cell contains either text or code.\n",
    "\n",
    "A text cell will not have any text to the left of the cell. A code cell has `In [ ]:` to the left of the cell.\n",
    "\n",
    "If the cell contains code, you can edit it. Press <kbd>Enter</kbd> to edit the selected cell. While editing the code, press <kbd>Enter</kbd> to create a new line, or <kbd>Shift</kbd>+<kbd>Enter</kbd> to run the code. If you are not editing the code, select a cell and press <kbd>Ctrl</kbd>+<kbd>Enter</kbd> to run the code."
   ]
  },
  {
   "cell_type": "markdown",
   "metadata": {},
   "source": [
    "Before you turn this problem in, make sure everything runs as expected. First, **restart the kernel** (in the menubar, select Kernel$\\rightarrow$Restart) and then **run all cells** (in the menubar, select Cell$\\rightarrow$Run All).\n",
    "\n",
    "Make sure you fill in any place that says `YOUR CODE HERE` or \"YOUR ANSWER HERE\", as well as your name and collaborators below:"
   ]
  },
  {
   "cell_type": "code",
   "execution_count": null,
   "metadata": {},
   "outputs": [],
   "source": [
    "NAME = \"\"\n",
    "COLLABORATORS = \"\""
   ]
  },
  {
   "cell_type": "markdown",
   "metadata": {},
   "source": [
    "---"
   ]
  },
  {
   "cell_type": "markdown",
   "metadata": {
    "deletable": false,
    "editable": false,
    "nbgrader": {
     "cell_type": "markdown",
     "checksum": "c33223ce3f8a77930152b8fcb3560b4b",
     "grade": false,
     "grade_id": "cell-a965c0c70630d0c7",
     "locked": true,
     "schema_version": 3,
     "solution": false,
     "task": false
    }
   },
   "source": [
    "# Assignment 8: Pseudocode, Flowchart, Decision Table\n",
    "\n",
    "In this assignment, you will write **pseudocode** or fill in **decision tables**. Where a flowchart is required, you may draw it on paper, take a picture, and embed it in the notebook from the `Edit` → `Insert Image` menu."
   ]
  },
  {
   "cell_type": "markdown",
   "metadata": {
    "deletable": false,
    "editable": false,
    "nbgrader": {
     "cell_type": "markdown",
     "checksum": "9051933f17a36683a874e65f48943ed1",
     "grade": false,
     "grade_id": "cell-041351b87d333512",
     "locked": true,
     "schema_version": 3,
     "solution": false,
     "task": false
    }
   },
   "source": [
    "## The Dropbox syncing algorithm\n",
    "\n",
    "When the Dropbox app keeps the files on your laptop in sync with the file list on the server, it uses an algorithm to compare the files and directories on the server with the files and directories on your laptop.\n",
    "\n",
    "## Part 1: 1-way sync without rev\n",
    "\n",
    "A simple algorithm to carry out a one-way sync (from laptop to Dropbox, but not vice-versa) follows the following steps:\n",
    "\n",
    "1. Get a list of files and folders on the Dropbox account -> `dropbox_list`\n",
    "2. Get a list of files and folders on the laptop -> `laptop_list`\n",
    "3. If a folder exists in `laptop_list` but not in `dropbox_list`, **create** it in `dropbox_list`\n",
    "4. If a folder does not exist in `laptop_list` but exists in `dropbox_list`, **delete** it (and all its children) from `dropbox_list`\n",
    "5. If a file exists in `laptop_list` but not in `dropbox_list`, **upload** it to `dropbox_list`\n",
    "6. If a file does not exist in `laptop_list` but exists in `dropbox_list`, **delete** it."
   ]
  },
  {
   "cell_type": "markdown",
   "metadata": {
    "deletable": false,
    "editable": false,
    "nbgrader": {
     "cell_type": "markdown",
     "checksum": "03fcf2ab51cc75c35034b77b76948570",
     "grade": false,
     "grade_id": "cell-9021bf354e4e47c2",
     "locked": true,
     "schema_version": 3,
     "solution": false,
     "task": false
    }
   },
   "source": [
    "### Task 1: Decision table\n",
    "\n",
    "By analysing the instructions above, come up with a decision table detailing all possible condition combinations, and the appropriate action to take.\n",
    "\n",
    "The available actions are listed here:\n",
    "\n",
    "- `create_folder`\n",
    "- `upload_file`\n",
    "- `delete`\n",
    "- None (if no action to be taken)\n",
    "\n",
    "You may type in text format below, or upload an image.  \n",
    "To upload an image:\n",
    "1. add a cell below (`Insert` → `Insert Cell Below`)\n",
    "2. select the cell, then change it to a Markdown cell (`Cell` → `Cell Type` → `Markdown`)\n",
    "3. Upload an image (`Edit` → `Insert Image`)"
   ]
  },
  {
   "cell_type": "markdown",
   "metadata": {},
   "source": [
    "Answer:\n",
    "\n"
   ]
  },
  {
   "cell_type": "markdown",
   "metadata": {
    "deletable": false,
    "editable": false,
    "nbgrader": {
     "cell_type": "markdown",
     "checksum": "f5a136df6955ad9fbf0c322f7c5402f8",
     "grade": false,
     "grade_id": "cell-499aaec50a485b05",
     "locked": true,
     "schema_version": 3,
     "solution": false,
     "task": false
    }
   },
   "source": [
    "### Task 2: Pseudocode\n",
    "\n",
    "In your pseudocode, the following functions are available for use:\n",
    "\n",
    "- `get_dropbox_list()`\n",
    "- `get_laptop_list()`\n",
    "- `create_folder()`\n",
    "- `upload_file()`\n",
    "- `delete()`\n",
    "\n",
    "Write a **program** in pseudocode that implements the 1-way sync (without rev) algorithm. The first two lines of the pseudocode have been written for you."
   ]
  },
  {
   "cell_type": "code",
   "execution_count": null,
   "metadata": {},
   "outputs": [],
   "source": [
    "# Write your pseudocode here\n",
    "\n",
    "dropbox_list = get_dropbox_list()\n",
    "laptop_list = get_laptop_list()"
   ]
  },
  {
   "cell_type": "markdown",
   "metadata": {
    "deletable": false,
    "editable": false,
    "nbgrader": {
     "cell_type": "markdown",
     "checksum": "e9c08e3357dc4d3430210aa85121ec45",
     "grade": false,
     "grade_id": "cell-0836491e70be1561",
     "locked": true,
     "schema_version": 3,
     "solution": false,
     "task": false
    }
   },
   "source": [
    "### Task 3: Flowchart\n",
    "\n",
    "Draw a flowchart/flowcharts for your program code.\n",
    "\n",
    "You can embed your drawing as an image by using the menu option `Edit` → `Insert Image` with the cell below selected."
   ]
  },
  {
   "cell_type": "markdown",
   "metadata": {},
   "source": [
    "[Insert an image here using `Edit` → `Insert Image`]\n",
    "\n"
   ]
  },
  {
   "cell_type": "markdown",
   "metadata": {
    "deletable": false,
    "editable": false,
    "nbgrader": {
     "cell_type": "markdown",
     "checksum": "b6096a21ca0416990d3385a57635aa79",
     "grade": false,
     "grade_id": "cell-2465428d07196b53",
     "locked": true,
     "schema_version": 3,
     "solution": false,
     "task": false
    }
   },
   "source": [
    "## Part 2: 1-way sync with rev\n",
    "\n",
    "The 1-way sync (without rev) algorithm does not check for changes in files that exist both in `dropbox_list` and in `laptop_list`. Any files whose contents have changed byt have not changed filename will not be synced to Dropbox.\n",
    "\n",
    "Dropbox resolves this by creating a **revision hash** (variable name `rev`) for each file from its contents. Folders do not have a `rev` as they do not contain any information.\n",
    "\n",
    "When the file contents change, the `rev` changes as well. When synchonising the listings, therefore, we need to store a copy of the latest rev for each file.\n",
    "\n",
    "By comparing the stored `rev` of the file in `laptop_list` with the latest file`rev` in `dropbox_list`, we can determine whether the file has changed.\n",
    "\n",
    "A simple algorithm to carry out 1-way sync with rev (from laptop to Dropbox, but not vice-versa) follows the following steps:\n",
    "\n",
    "1. Get a list of files and folders on the Dropbox account -> `dropbox_list`\n",
    "2. Get a list of files (with rev) and folders on the laptop -> `laptop_list`\n",
    "3. If a folder exists in `laptop_list` but not in `dropbox_list`, **create** it in `dropbox_list`\n",
    "4. If a folder does not exist in `laptop_list` but exists in `dropbox_list`, **delete** it (and all its children) from `dropbox_list`\n",
    "5. If a file exists in `laptop_list` but not in `dropbox_list`, **upload** `file.DATA` to `dropbox_list`\n",
    "6. If a file does not exist in `laptop_list` but exists in `dropbox_list`, **delete** it.\n",
    "7. If a file exists in both `laptop_list` and `dropbox_list`, compare `file.REV` stored in `laptop_list` with `file.REV` from `dropbox_list`.\n",
    "   - if the `file.REV`s do not match, **upload** `file.DATA` to `dropbox_list` (which will overwrite the file on Dropbox).\n",
    "   - `upload_file()` will return the latest `rev` of the new file.\n",
    "   - store the latest `rev` in `file.REV` in laptop_list."
   ]
  },
  {
   "cell_type": "markdown",
   "metadata": {
    "deletable": false,
    "editable": false,
    "nbgrader": {
     "cell_type": "markdown",
     "checksum": "90b09bcc0fb706711d62df8950d9a90b",
     "grade": false,
     "grade_id": "cell-cdb93132a5cc5d86",
     "locked": true,
     "schema_version": 3,
     "solution": false,
     "task": false
    }
   },
   "source": [
    "### Task 1: Decision table\n",
    "\n",
    "By analysing the instructions above, come up with a decision table detailing all possible condition combinations, and the appropriate action to take.\n",
    "\n",
    "The available actions are listed here:\n",
    "\n",
    "- `create_folder`\n",
    "- `upload_file`\n",
    "- `delete`\n",
    "- None (if no action to be taken)"
   ]
  },
  {
   "cell_type": "markdown",
   "metadata": {},
   "source": [
    "Answer:\n",
    "\n"
   ]
  },
  {
   "cell_type": "markdown",
   "metadata": {
    "deletable": false,
    "editable": false,
    "nbgrader": {
     "cell_type": "markdown",
     "checksum": "e39d62e5df8273db2b9a601aa35218c5",
     "grade": false,
     "grade_id": "cell-04566275a4365fb3",
     "locked": true,
     "schema_version": 3,
     "solution": false,
     "task": false
    }
   },
   "source": [
    "### Task 2: Pseudocode\n",
    "\n",
    "In your pseudocode, the following functions are available for use:\n",
    "\n",
    "- `get_dropbox_list()`\n",
    "- `get_laptop_list()`\n",
    "- `create_folder()`\n",
    "- `upload_file()`\n",
    "- `delete()`\n",
    "\n",
    "Write a **program** in pseudocode that implements the 1-way sync (without rev) algorithm. The first two lines of the pseudocode have been written for you."
   ]
  },
  {
   "cell_type": "code",
   "execution_count": null,
   "metadata": {},
   "outputs": [],
   "source": [
    "# Write your pseudocode here\n",
    "\n",
    "dropbox_list = get_dropbox_list()\n",
    "laptop_list = get_laptop_list()"
   ]
  },
  {
   "cell_type": "markdown",
   "metadata": {
    "deletable": false,
    "editable": false,
    "nbgrader": {
     "cell_type": "markdown",
     "checksum": "7f0335926840d6e3076cae435ae0bcc6",
     "grade": false,
     "grade_id": "cell-8b6c8eac28f2d5be",
     "locked": true,
     "schema_version": 3,
     "solution": false,
     "task": false
    }
   },
   "source": [
    "### Task 3: Flowchart\n",
    "\n",
    "Draw a flowchart/flowcharts for your program code.\n",
    "\n",
    "You can embed your drawing as an image by using the menu option `Edit` → `Insert Image` with the cell below selected."
   ]
  },
  {
   "cell_type": "markdown",
   "metadata": {},
   "source": [
    "[Insert an image here using `Edit` → `Insert Image`]\n",
    "\n"
   ]
  },
  {
   "cell_type": "markdown",
   "metadata": {
    "deletable": false,
    "editable": false,
    "nbgrader": {
     "cell_type": "markdown",
     "checksum": "6261f5013b0bc976c1bc84c3ac2e5879",
     "grade": false,
     "grade_id": "cell-ad1672e66728167f",
     "locked": true,
     "schema_version": 3,
     "solution": false,
     "task": false
    }
   },
   "source": [
    "# Feedback and suggestions\n",
    "\n",
    "Any feedback or suggestions for this assignment?"
   ]
  },
  {
   "cell_type": "markdown",
   "metadata": {},
   "source": []
  }
 ],
 "metadata": {
  "kernelspec": {
   "display_name": "Python 3",
   "language": "python",
   "name": "python3"
  },
  "language_info": {
   "codemirror_mode": {
    "name": "ipython",
    "version": 3
   },
   "file_extension": ".py",
   "mimetype": "text/x-python",
   "name": "python",
   "nbconvert_exporter": "python",
   "pygments_lexer": "ipython3",
   "version": "3.6.7"
  }
 },
 "nbformat": 4,
 "nbformat_minor": 2
}
