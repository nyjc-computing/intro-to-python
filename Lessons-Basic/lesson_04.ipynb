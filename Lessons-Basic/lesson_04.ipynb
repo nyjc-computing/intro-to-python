{
 "cells": [
  {
   "cell_type": "markdown",
   "metadata": {},
   "source": [
    "## 1-minute introduction to Jupyter ##\n",
    "\n",
    "A Jupyter notebook consists of cells. Each cell contains either text or code.\n",
    "\n",
    "A text cell will not have any text to the left of the cell. A code cell has `In [ ]:` to the left of the cell.\n",
    "\n",
    "If the cell contains code, you can edit it. Press <kbd>Enter</kbd> to edit the selected cell. While editing the code, press <kbd>Enter</kbd> to create a new line, or <kbd>Shift</kbd>+<kbd>Enter</kbd> to run the code. If you are not editing the code, select a cell and press <kbd>Ctrl</kbd>+<kbd>Enter</kbd> to run the code."
   ]
  },
  {
   "cell_type": "markdown",
   "metadata": {
    "nbgrader": {
     "cell_type": "markdown",
     "checksum": "734648d4aaa10ed1aa383c24f1db22f2",
     "grade": false,
     "grade_id": "cell-ae67ed4e5ada738d",
     "locked": true,
     "schema_version": 3,
     "solution": false,
     "task": false
    }
   },
   "source": [
    "# Lesson 4: lists, iteration, looping\n",
    "\n",
    "In lesson 3, we looked at how to write code that can check for a condition, and carry out different sets of instructions depending on the result of that condition. In this lesson, we look at how to run the same set of code repeatedly on a collection of items.\n",
    "\n",
    "In Python, we have numerous ways to create collections of items. 4 of them are frequently used: `list`s, `dict`s, `set`s, and `tuple`s. We will start with the most basic of them: `list`s.\n"
   ]
  },
  {
   "cell_type": "markdown",
   "metadata": {
    "nbgrader": {
     "cell_type": "markdown",
     "checksum": "ac3a552d23cbea5d9eb1e4cc6b1ac99c",
     "grade": false,
     "grade_id": "cell-b406602fd14c791b",
     "locked": true,
     "schema_version": 3,
     "solution": false,
     "task": false
    }
   },
   "source": [
    "## Python lists\n",
    "\n",
    "In Python, a list is a simple collection of objects.\n",
    "\n",
    "You can initialise a list from a collection of objects by enclosing them in `[`square brackets`]` and separating them with commas (`,`).\n",
    "\n",
    "Try the following lines of code one by one in the cell below:\n",
    "\n",
    "1. `list_ = [1, 2, 3, 4, 5]` (Remember that the semicolon separates two expressions.)\n",
    "3. `list_ = ['apple', 'blueberry', 'carrot',]` (A list can contain strings too. And it will ignore any trailing commas.)\n",
    "2. `list_ = [1, '2', 3.0, '4.0', 5]` (In fact, a list can consist of a mixture of integers, floats, strings, and other objects.)\n",
    "4. `list_ = []` (This is how you initialise an empty list.)\n",
    "\n",
    "Remember that an assignment statement (using the assignment (`=`) operator) will not produce any output. You will have to invoke the variable again on a separate line."
   ]
  },
  {
   "cell_type": "code",
   "execution_count": null,
   "metadata": {},
   "outputs": [],
   "source": [
    "# Write your code here\n",
    "\n",
    "list()"
   ]
  },
  {
   "cell_type": "markdown",
   "metadata": {
    "nbgrader": {
     "cell_type": "markdown",
     "checksum": "47516756a939eae2b00f39cb9d42ca29",
     "grade": false,
     "grade_id": "cell-c23728a02ade9be5",
     "locked": true,
     "schema_version": 3,
     "solution": false,
     "task": false
    }
   },
   "source": [
    "### List indexing\n",
    "\n",
    "List indexing works very similarly to string slicing ([Lesson 2](lesson_02.ipynb#Accessing-subsets-of-strings:-string-slicing)); in fact, strings are implemented in Python internally as a special type of list.\n",
    "\n",
    "Each item in a list is called an **element**. The elements of a list can be retrieved using their **index**.\n",
    "\n",
    "The first element of a list has index `0`. The subsequent elements have an index that is 1 greater than the previous element. List indexes always go in running order.\n",
    "\n",
    "`list[0]` returns the first element of the list. `list[1]` returns the next element, and so on.\n",
    "\n",
    "Try the following lines of code one by one in the cell below:\n",
    "\n",
    "`mylist = [1, 2, 3, 4, 5]`\n",
    "1. `type(mylist)` (A list is a type of object in Python.)\n",
    "2. `mylist[0]` (Try addressing the list with other integers.)\n",
    "3. `mylist[5]` (The largest index in a list of length `n` is `n-1`, because indexes start from 0. Attempting to address a list with an index greater than `n-1` produces an `IndexError`.)\n",
    "4. `mylist[1.0]` (List indexes must be integers.)\n",
    "5. `mylist[]` (You cannot address a list without an index. To refer to the entire list as an object, use the list's variable name, i.e. `mylist`.)\n",
    "6. `mylist[-1]` (Negative integer indexes address the list backward. Try this with `-1`, `-2`,`-3`, etc. What happens when you go below `-4`?)\n"
   ]
  },
  {
   "cell_type": "code",
   "execution_count": null,
   "metadata": {},
   "outputs": [],
   "source": [
    "mylist = [1, 2, 3, 4, 5] #Do not remove this line.\n",
    "\n",
    "# Type your code below this line.\n",
    "\n"
   ]
  },
  {
   "cell_type": "markdown",
   "metadata": {
    "nbgrader": {
     "cell_type": "markdown",
     "checksum": "6ffe5cc3e4209115e3cedce458ff3917",
     "grade": false,
     "grade_id": "cell-05ba6e485fc850df",
     "locked": true,
     "schema_version": 3,
     "solution": false,
     "task": false
    }
   },
   "source": [
    "### List slicing\n",
    "\n",
    "List slicing allow you to return multiple elements from a list, just as string slicing allows you to return substrings of characters from a string.\n",
    "\n",
    "Try the following lines of code one by one in the cell below:\n",
    "\n",
    "`yourlist = [\"Alice\", \"Bob\", \"Charlie\", \"Dawn\", \"Ernest\"]`\n",
    "1. `yourlist[0:0]` (This should give you an empty list.)\n",
    "2. `yourlist[0:1]` (How does this differ from `yourlist[0]`?)\n",
    "3. `yourlist[0:4]` (Why doesn't this return the whole list?)\n",
    "4. `yourlist[0:6]` (If the slice exceeds the largest index, you won't get an error but those indexes will be ignored.)\n",
    "5. `yourlist[0:5:2]` (Can you figure out what the third number in the slice does?)\n",
    "6. `yourlist[0:4:2]` (Why is `yourlist[4]` not in the result?)\n",
    "7. `yourlist[0::2]` (What happens when you remove any of the numbers in the slice? Can you figure out what the default values are?)\n",
    "8. `yourlist[::-1]` (This is a common pattern to get the reverse of a list)\n",
    "9. `yourlist[0:4:-1]` (Why doesn't this work?)\n",
    "10. `yourlist[4:0:-1]` (Is this the same as expression 8?)\n",
    "11. `type(yourlist[0:0])` (A list indexed with a slice always returns a list, even if the result is only an empty list.)"
   ]
  },
  {
   "cell_type": "code",
   "execution_count": null,
   "metadata": {},
   "outputs": [],
   "source": [
    "yourlist = [\"Alice\", \"Bob\", \"Charlie\", \"Dawn\", \"Ernest\"] #Do not remove this line.\n",
    "\n",
    "# Type your code below this line.\n",
    "\n"
   ]
  },
  {
   "cell_type": "markdown",
   "metadata": {
    "nbgrader": {
     "cell_type": "markdown",
     "checksum": "bc62f453e7ca68968debf7e4da3095bb",
     "grade": false,
     "grade_id": "cell-70cee1bd34530458",
     "locked": true,
     "schema_version": 3,
     "solution": false,
     "task": false
    }
   },
   "source": [
    "### List editing methods ##\n",
    "\n",
    "A list has built-in methods that allow you to add or remove elements from it.\n",
    "\n",
    "Try the expressions in the cell below, one by one:  \n",
    "(Remember that the assignment (`=`) operator does not produce any output.)\n",
    "\n",
    "`countries = [\"America\", \"Brazil\", \"Cambodia\", \"Dominican Republic\", \"Ethiopia\", \"France\", \"Germany\", \"Hungary\"]`  \n",
    "\n",
    "1. `dir(countries)` (This gives you a list of **attributes** that the `samelist` list object has. We will cover attributes in a later lesson, in Object-Oriented Programming)\n",
    "2. `countries.append(\"India\")` (Adds a single item at the end of the list. Calling an object method will not print its value; do you remember how to check an object's value?)\n",
    "3. `countries.append([\"India\",\"Japan\"])` (Did this produce the effect you expected?)\n",
    "4. `countries.extend([\"India\",\"Japan\"])` (Adds multiple elements, which must be in a list. How does this differ from `.append()`?)\n",
    "5. `countries.extend(\"India\",\"Japan\")` (`.extend()` method only accepts one value.)\n",
    "6. `countries.extend(\"India\")` (Interesting! If you feed the `.extend()` method with a string instead of a list, what happens? Why?)\n",
    "7. `countries.insert(4,\"England\")` (The `.insert(n,item)` method lets you insert `item` at the `n`th index.)\n",
    "8. `countries.remove(\"China\")` (You can only remove elements that already exist in the element. Shocking but true. Try this with a country that is already in the list.)\n",
    "9. `countries.remove(0)` (You can't remove the first item in a list this way. Remember that list indexes go in [square brackets].)\n",
    "10. `countries.remove(countries[0])` (Can you explain why this works?)\n",
    "11. `item = countries.pop()` (`.pop()` removes the last element from the list and returns it. You can assign it to a variable, in this case `item`.)\n",
    "12. `item = countries.pop(1)` (`.pop(int)` removes the list element at the (`int`) index stated and returns it. You can assign it to a variable.)\n",
    "13. `countries.clear()` (What does this do?)\n",
    "14. `del countries[0]` (To delete an element from a list, use the `del` keyword on the list element specified by index.)\n",
    "15. `del countries[0:3]` (You can use the `del` keyword to delete multiple elements by list slicing.)"
   ]
  },
  {
   "cell_type": "code",
   "execution_count": null,
   "metadata": {},
   "outputs": [],
   "source": [
    "#Do not remove this line.\n",
    "countries = [\"America\", \"Brazil\", \"Cambodia\", \"Dominican Republic\", \"Ethiopia\", \"France\", \"Germany\", \"Hungary\"]\n",
    "\n",
    "# Type your code below this line.\n",
    "countries.extend(\"India\")\n",
    "countries"
   ]
  },
  {
   "cell_type": "markdown",
   "metadata": {
    "nbgrader": {
     "cell_type": "markdown",
     "checksum": "96f04d7e4f81204a201d479bb5244b1c",
     "grade": false,
     "grade_id": "cell-e7a6298b88f140f9",
     "locked": true,
     "schema_version": 3,
     "solution": false,
     "task": false
    }
   },
   "source": [
    "Q1: Do these methods work for strings?"
   ]
  },
  {
   "cell_type": "code",
   "execution_count": null,
   "metadata": {},
   "outputs": [],
   "source": [
    "a_list = '12345'\n",
    "a_list[0] = 'a'\n",
    "\n",
    "a_list = ['1','2','3','4','5']\n",
    "a_list[0] = 'a'"
   ]
  },
  {
   "cell_type": "markdown",
   "metadata": {
    "nbgrader": {
     "cell_type": "markdown",
     "checksum": "cc5f32d63e93f25b478d3f53c07173d7",
     "grade": false,
     "grade_id": "cell-5ce709ec975a3b04",
     "locked": true,
     "schema_version": 3,
     "solution": false,
     "task": false
    }
   },
   "source": [
    "### List operators\n",
    "\n",
    "The operators `+` and `*` work with lists. So does the `in` keyword.\n",
    "\n",
    "Try the following expressions in the cell below:\n",
    "(Notice that the list methods above modify the original list. the operators below do not; they give the modified list as a return value.)\n",
    "\n",
    "`anewlist = [\"America\", \"Brazil\", \"Cambodia\", \"Dominican Republic\", \"Ethiopia\", \"France\", \"Germany\", \"Hungary\"]`\n",
    "1. `anewlist + \"Ireland\"` (Doesn't work. The error provides a clue: lists can only be \"added\" to other lists, not to strings.)\n",
    "2. `anewlist + [\"Ireland\"]` (This works. You have to convert the string into a list element by putting it in a list first. This is called **list concatenation**. A **new list** is returned containing the result.)\n",
    "3. `anewlist + [\"Ireland\",\"Japan\",\"Kenya\"]` (You can add lists with multiple elements together this way.)\n",
    "4. `anewlist += [\"Ireland\"]` (This is equivalent to `anewlist = anewlist + [\"Ireland\"]`, and is a shorter way to modify the original list.)\n",
    "5. `anewlist[0] = \"Australia\"` (To reassign a list element to a different value, address the element using its index.)\n",
    "6. `anewlist[0] = Australia` (Remember that strings need the quote marks `''` or `\"\"` otherwise they get interpreted as variables.)\n",
    "7. `anewlist*3` (`*` operator with an integer works on lists too.)\n",
    "8. `anewlist *= 3` (This is equivalent to `anewlist = anewlist*3`)\n",
    "9. `'America' in anewlist` (The `in` keyword checks for exact matches with list elements.)\n",
    "10. `['America'] in anewlist` (Does this work? Why or why not?)\n",
    "11. `'Amer' in anewlist` (Although `'Amer' in 'America'` returns `True`, this statement returns `False`. Why?)"
   ]
  },
  {
   "cell_type": "code",
   "execution_count": null,
   "metadata": {},
   "outputs": [],
   "source": [
    "anewlist = [\"America\", \"Brazil\", \"Cambodia\", \"Dominican Republic\", \"Ethiopia\", \"France\", \"Germany\", \"Hungary\"]\n",
    "\n",
    "# Type your code below this line.\n",
    "list_ = [0]*8\n",
    "list_"
   ]
  },
  {
   "cell_type": "markdown",
   "metadata": {
    "nbgrader": {
     "cell_type": "markdown",
     "checksum": "ec912753225f69c79037d002f9e44044",
     "grade": false,
     "grade_id": "cell-73332bdcd57e114b",
     "locked": true,
     "schema_version": 3,
     "solution": false,
     "task": false
    }
   },
   "source": [
    "### Useful functions and methods for lists\n",
    "\n",
    "We often need to know something about the list. Python has built-in functions to give us this information. You have already learnt the `type()` function, which tells us what type of object it is. \n",
    "\n",
    "Try the expressions in the cell below:\n",
    "\n",
    "`numberlist = [8, 7, 6, 5, 4, 3, 3, 2, 1]`\n",
    "\n",
    "1. `len(numberlist)` (`len()` tells you how many elements a list has.)\n",
    "2. `sorted(numberlist)` (`sorted()` gives you a list sorted in ascending order.)\n",
    "3. `sum(numberlist)` (`sum()` returns the sum of all elements. Works on integers and floats only.)\n",
    "4. `min(numberlist)` (`min()` returns the smallest element. Works on strings.)\n",
    "5. `max(numberlist)` (`max()` returns the largest element. Works on strings.)\n",
    "6. `numberlist.index(6)` (`.index(num)` gives you the index of the first occurrence of `num` in the list.)\n",
    "7. `numberlist.count(3)` (`.count(num)` returns the number of occurrences of `num` in the list.)\n",
    "8. `numberlist.reverse()`  -> Examine the value of `numberlist` again; what happened?\n",
    "   (The `.reverse()` method reverses the order of elements in the list without returning any value. This is an alternative to the list-slicing method.)"
   ]
  },
  {
   "cell_type": "code",
   "execution_count": null,
   "metadata": {},
   "outputs": [],
   "source": [
    "numberlist = ['8', '7', '6', '5', '4', '3', '2', '1'] #Do not remove this line.\n",
    "# numberstr = '87654321'\n",
    "\n",
    "# Type your code below this line.\n"
   ]
  },
  {
   "cell_type": "markdown",
   "metadata": {
    "nbgrader": {
     "cell_type": "markdown",
     "checksum": "27ecb97fdff8ee8a45d86aac36bbbc8e",
     "grade": false,
     "grade_id": "cell-bbd2f2ff351869e0",
     "locked": true,
     "schema_version": 3,
     "solution": false,
     "task": false
    }
   },
   "source": [
    "Q2: Do these functions and methods modify the original list?"
   ]
  },
  {
   "cell_type": "markdown",
   "metadata": {
    "nbgrader": {
     "cell_type": "markdown",
     "checksum": "1da3cb6acd6bbfdc82b769aae6bb3d01",
     "grade": false,
     "grade_id": "cell-6c73e272d6cc39e3",
     "locked": true,
     "schema_version": 3,
     "solution": false,
     "task": false
    }
   },
   "source": [
    "Try the expressions in the cell below to understand how these functions work for strings:\n",
    "\n",
    "`countrylist = [\"Hungary\", \"Germany\", \"France\", \"Ethiopia\", \"Dominican Republic\", \"Cambodia\", \"Brazil\", \"America\"]`\n",
    "1. `len(countrylist)`\n",
    "2. `sorted(countrylist)`\n",
    "3. `min(countrylist)`\n",
    "4. `max(countrylist)`"
   ]
  },
  {
   "cell_type": "code",
   "execution_count": null,
   "metadata": {},
   "outputs": [],
   "source": [
    "countrylist = [\"Hungary\", \"Germany\", \"France\", \"Ethiopia\", \"Dominican Republic\", \"Cambodia\", \"Brazil\", \"America\"]\n",
    "#Do not remove this line. Type your code below this line.\n"
   ]
  },
  {
   "cell_type": "markdown",
   "metadata": {
    "nbgrader": {
     "cell_type": "markdown",
     "checksum": "83e98612735ef748edafb890115c6929",
     "grade": false,
     "grade_id": "cell-a32a353146e8b309",
     "locked": true,
     "schema_version": 3,
     "solution": false,
     "task": false
    }
   },
   "source": [
    "Q3: Are there any differences in the way the functions work for `int`s and `string`s?"
   ]
  },
  {
   "cell_type": "markdown",
   "metadata": {
    "nbgrader": {
     "cell_type": "markdown",
     "checksum": "3947ec8aaca136b0ac47b2e164fce600",
     "grade": false,
     "grade_id": "cell-aedd11a8fa4ed109",
     "locked": true,
     "schema_version": 3,
     "solution": false,
     "task": false
    }
   },
   "source": [
    "### A note on naming variables\n",
    "\n",
    "We always write functions with the brackets e.g. `len()`. This is to avoid confusing them with variables. As much as possible, avoid naming your variables in a way that can confuse you.\n",
    "\n",
    "**Negative example:** `len = len(numberlist)` (The first `len` is a variable; the second `len()` is a function)  \n",
    "**Positive example:** `list_len = len(numberlist)` or `list_length = len(numberlist)`"
   ]
  },
  {
   "cell_type": "markdown",
   "metadata": {
    "nbgrader": {
     "cell_type": "markdown",
     "checksum": "79190030c879075909768e13c62681f2",
     "grade": false,
     "grade_id": "cell-6449a72b510eed4e",
     "locked": true,
     "schema_version": 3,
     "solution": false,
     "task": false
    }
   },
   "source": [
    "### Converting other types to lists\n",
    "\n",
    "Python data types that are collections of objects\n",
    "\n",
    "Try the following code line and observe the result:\n",
    "\n",
    "1. `list('apple')` (Strings are collections of characters and can be converted to a list.)\n",
    "2. `list(1)` (Integers are not a collection and cannot be converted to a list.) "
   ]
  },
  {
   "cell_type": "code",
   "execution_count": null,
   "metadata": {},
   "outputs": [],
   "source": [
    "# Type your code below this line\n",
    "\n",
    "list()"
   ]
  },
  {
   "cell_type": "markdown",
   "metadata": {
    "nbgrader": {
     "cell_type": "markdown",
     "checksum": "43e62deb7bc754bbe55a15d3599d330a",
     "grade": false,
     "grade_id": "cell-bcb472973c937429",
     "locked": true,
     "schema_version": 3,
     "solution": false,
     "task": false
    }
   },
   "source": [
    "## Iterating over lists\n",
    "\n",
    "Often, we need to perform more advanced instructions over each item in a collection, and the basic functions will not suffice. In such cases, we need to **iterate** over each item in the collection and carry out a procedure on each item. We can do that using **loops**."
   ]
  },
  {
   "cell_type": "markdown",
   "metadata": {
    "nbgrader": {
     "cell_type": "markdown",
     "checksum": "d458f46445244b06a056ea881aa15d88",
     "grade": false,
     "grade_id": "cell-32dd493abe247c35",
     "locked": true,
     "schema_version": 3,
     "solution": false,
     "task": false
    }
   },
   "source": [
    "### Iterating with a `for` loop\n",
    "\n",
    "Run the following cell and observe the output:"
   ]
  },
  {
   "cell_type": "code",
   "execution_count": null,
   "metadata": {},
   "outputs": [],
   "source": [
    "positions = ['first', 'second', 'third', 'fourth', 'fifth']\n",
    "\n",
    "for num in positions:\n",
    "    print(f'value of positions: {positions}')\n",
    "    print(f'value of num: {num}')"
   ]
  },
  {
   "cell_type": "markdown",
   "metadata": {
    "nbgrader": {
     "cell_type": "markdown",
     "checksum": "b3d9d86d53ebc339bfb2ec59977e820c",
     "grade": false,
     "grade_id": "cell-b012ac2abbc3b2cb",
     "locked": true,
     "schema_version": 3,
     "solution": false,
     "task": false
    }
   },
   "source": [
    "Notice how the `num` and `positions` variables are used.\n",
    "\n",
    "`num` is a placeholder. When we start from the first element of `positions` (i.e. `positions[0]`), `num` temporarily holds the value of `positions[0]`. In each iteration, the value of `positions` remains the same, but the value of `num` changes.\n",
    "\n",
    "**Task: Write a list**\n",
    "\n",
    "Complete the code by replacing the underscores (`_____`) with appropriate variable names or strings.\n",
    "\n",
    "In the code cell below, create a list containing the email addresses of your classmates, and print them out using a `for` loop.\n",
    "\n",
    "Hint: Remember that strings need to be initialised within quotes (`''` or `\"\"`)"
   ]
  },
  {
   "cell_type": "code",
   "execution_count": null,
   "metadata": {
    "nbgrader": {
     "cell_type": "code",
     "checksum": "db5ff29019232d3f4917cee011f70593",
     "grade": true,
     "grade_id": "cell-3815c808c5bd0cea",
     "locked": false,
     "points": 1,
     "schema_version": 3,
     "solution": true,
     "task": false
    }
   },
   "outputs": [],
   "source": [
    "emails = [_____,_____,_____,_____,_____]\n",
    "\n",
    "for _____ in _____:\n",
    "    # Type your code below\n"
   ]
  },
  {
   "cell_type": "markdown",
   "metadata": {
    "nbgrader": {
     "cell_type": "markdown",
     "checksum": "4c57c31ccdff81af1b621ff8c5f0fc09",
     "grade": false,
     "grade_id": "cell-56f155b4c3562120",
     "locked": true,
     "schema_version": 3,
     "solution": false,
     "task": false
    }
   },
   "source": [
    "### Exercise 1: Validate a list of phone numbers\n",
    "\n",
    "In the code cell below, complete the procedure by replacing the underscores (`_____`) with appropriate expressions to:\n",
    "\n",
    "1. validate each entry in the list `phone_numbers` to check that it is a valid phone number, i.e. obeys the following conditions:\n",
    "   - has 8 digits  \n",
    "   - starts with 6, 8, or 9  \n",
    "2. Print out **only the invalid phone numbers**."
   ]
  },
  {
   "cell_type": "code",
   "execution_count": null,
   "metadata": {
    "nbgrader": {
     "cell_type": "code",
     "checksum": "f150ead293ca37ef6b5b670f38e9b5b7",
     "grade": true,
     "grade_id": "cell-fb333740a90e8cc5",
     "locked": false,
     "points": 2,
     "schema_version": 3,
     "solution": true,
     "task": false
    }
   },
   "outputs": [],
   "source": [
    "phone_numbers = [68476397,9448756,83674561,48697485] # Do not edit this line.\n",
    "\n",
    "for number in phone_numbers:\n",
    "#     if not (len(str(number)) == 8 and str(number)[0] in '689'):\n",
    "    print(number)\n",
    "    # Type your validation procedure below this line\n"
   ]
  },
  {
   "cell_type": "markdown",
   "metadata": {
    "nbgrader": {
     "cell_type": "markdown",
     "checksum": "6ced72245285c19d66a66d3155101943",
     "grade": false,
     "grade_id": "cell-2971e78ad492abde",
     "locked": true,
     "schema_version": 3,
     "solution": false,
     "task": false
    }
   },
   "source": [
    "### Exercise 2: Filtering lists with `for` loop\n",
    "\n",
    "The `dir()` function returns all the attributes and methods associated with a Python object, in the form of a list. The object's **special methods** begin and end with a **d**ouble **under**sore (`__`) and are also known as **dunder**s.\n",
    "\n",
    "Complete the code in the code cell below using loops, string methods, and other relevant functions to write a procedure that prints out all the **non-dunder methods** associated with the `string` object."
   ]
  },
  {
   "cell_type": "code",
   "execution_count": null,
   "metadata": {
    "nbgrader": {
     "cell_type": "code",
     "checksum": "8b3808474fa0d30773f97acbf88f6c7a",
     "grade": true,
     "grade_id": "cell-3819c9b49dfab003",
     "locked": false,
     "points": 2,
     "schema_version": 3,
     "solution": true,
     "task": false
    },
    "scrolled": true
   },
   "outputs": [],
   "source": [
    "str_methods = dir(str)\n",
    "\n",
    "for item in str_methods:\n",
    "    if item[0] != '_':\n",
    "        print(item)\n",
    "    # Type your code below\n"
   ]
  },
  {
   "cell_type": "markdown",
   "metadata": {
    "nbgrader": {
     "cell_type": "markdown",
     "checksum": "3bbd85881407c02193dd60ee9b7b37cb",
     "grade": false,
     "grade_id": "cell-56918906b4f090f4",
     "locked": true,
     "schema_version": 3,
     "solution": false,
     "task": false
    }
   },
   "source": [
    "### Generating numbers for iteration: the `range()` function\n",
    "\n",
    "Run each of the following groups of code and observe the output:\n",
    "\n",
    "1. `range(1, 10)` (Hmm, this doesn't seem to do anything ...)\n",
    "2. `list(range(1, 10))` (`range()` **generates** a collection of numbers and it can be converted to a list! Notice that the last number is ignored; this is similar to slicing.)\n",
    "3.  ```\n",
    "    for n in range(1,10):\n",
    "        print(n)\n",
    "    ```\n",
    "    (`range()` can be used in a `for` loop to generate numbers for iterating.)\n",
    "4. `list(range(10))` (If only one value is given, this is assumed to be the end value. The start value is assumed to be 0.)\n",
    "5. `list(range(1, 10, 2))` (Similar to slicing, if 3 values are given, the last value is the step size.)\n",
    "\n",
    "Q4: Which function in Python tells you how to use the `range()` function? Try it on the function and see what it tells you."
   ]
  },
  {
   "cell_type": "code",
   "execution_count": null,
   "metadata": {},
   "outputs": [],
   "source": [
    "# for i in range(1,11,2):\n",
    "#     print(i)\n",
    "    \n",
    "numlist = range(10)\n",
    "# type(numlist)\n",
    "list(numlist)\n",
    "# numlist"
   ]
  },
  {
   "cell_type": "markdown",
   "metadata": {
    "nbgrader": {
     "cell_type": "markdown",
     "checksum": "496c9005df2ff5556988d4aee75f1ead",
     "grade": false,
     "grade_id": "cell-de9916505de69545",
     "locked": true,
     "schema_version": 3,
     "solution": false,
     "task": false
    }
   },
   "source": [
    "### Iterating over a range of numbers with `for` loop\n",
    "\n",
    "Suppose I have two lists:\n",
    "\n",
    "```  \n",
    "positions = ['first', 'second', 'third', 'fourth', 'fifth']\n",
    "fruits = ['apple', 'banana', 'cherry', 'durian', 'elderberry']\n",
    "```\n",
    "\n",
    "How would I generate the following output?\n",
    "\n",
    "  ```\n",
    "  The first value is apple.\n",
    "  The second value is banana.\n",
    "  The third value is cherry.\n",
    "  The fourth value is durian.\n",
    "  ...\n",
    "  ```\n",
    "\n",
    "Can I do that with a `for` loop? Absolutely. But it is not possible for us to iterate over two different lists in one loop. Instead, we need to recognise that in the first iteration, we want the first elements from each list, and for the second iteration we need the second elements, and so on.\n",
    "\n",
    "We need to have a way to generate indexes for each iteration. Python makes it easy to do that with the `range()` function.\n",
    "\n",
    "Run the code cell below and observe the output:"
   ]
  },
  {
   "cell_type": "code",
   "execution_count": null,
   "metadata": {},
   "outputs": [],
   "source": [
    "positions = ['first', 'second', 'third', 'fourth', 'fifth']\n",
    "fruits = ['apple', 'banana', 'cherry', 'durian', 'elderberry']\n",
    "\n",
    "for i in range(len(fruits)):\n",
    "    ith = positions(i)\n",
    "    name = fruits(i)\n",
    "    print(f'The {i} value is {name}.')"
   ]
  },
  {
   "cell_type": "markdown",
   "metadata": {
    "nbgrader": {
     "cell_type": "markdown",
     "checksum": "4e90d3eeaa994aa8969a063c35af0221",
     "grade": false,
     "grade_id": "cell-ab77169cafcdfeb5",
     "locked": true,
     "schema_version": 3,
     "solution": false,
     "task": false
    }
   },
   "source": [
    "### Exercise 3: Predict the output\n",
    "\n",
    "Q5: What will the output look like with the following code?\n",
    "\n",
    "  ```\n",
    "  for i in range(1, len(positions), 2)\n",
    "      ith = positions[i]\n",
    "      name = fruits[i]\n",
    "      print(f'The {ith} value is {name}.')\n",
    "  ```"
   ]
  },
  {
   "cell_type": "markdown",
   "metadata": {
    "nbgrader": {
     "cell_type": "markdown",
     "checksum": "9351e36505a7034e3a34c835a3fb3c78",
     "grade": false,
     "grade_id": "cell-5543389bef804d0a",
     "locked": true,
     "schema_version": 3,
     "solution": false,
     "task": false
    }
   },
   "source": [
    "Q6: What will the output look like with the following code? Why?\n",
    "\n",
    "  ```\n",
    "  for i in [0, 1, 2, 3, 4, 5]:\n",
    "      ith = positions[i]\n",
    "      name = fruits[i]\n",
    "      print(f'The {ith} value is {name}.')\n",
    "  ```"
   ]
  },
  {
   "cell_type": "markdown",
   "metadata": {
    "nbgrader": {
     "cell_type": "markdown",
     "checksum": "6daebeb54aa763210a0f5b90ddfd3ec7",
     "grade": false,
     "grade_id": "cell-8ebf05bec084af76",
     "locked": true,
     "schema_version": 3,
     "solution": false,
     "task": false
    }
   },
   "source": [
    "Q7: What error will you get with the following code? Why?\n",
    "\n",
    "  ```\n",
    "  for i in [0, 1, 2, 3, 4, 5]:\n",
    "      ith = positions\n",
    "      name = fruits\n",
    "      print(f'The {ith} value is {name}.')\n",
    "  ```"
   ]
  },
  {
   "cell_type": "markdown",
   "metadata": {
    "nbgrader": {
     "cell_type": "markdown",
     "checksum": "e6e26a7a8a2ec5c4584c35a2bbc0c4d5",
     "grade": false,
     "grade_id": "cell-1e176bc6db0bbdb6",
     "locked": true,
     "schema_version": 3,
     "solution": false,
     "task": false
    }
   },
   "source": [
    "Q8: What will the output look like with the following code? Why?\n",
    "\n",
    "  ```\n",
    "  for i in range(len(fruits)):\n",
    "      ith = positions(i)\n",
    "      name = fruits(i)\n",
    "      print(f'The {i} value is {name}.')\n",
    "  ```"
   ]
  },
  {
   "cell_type": "markdown",
   "metadata": {
    "nbgrader": {
     "cell_type": "markdown",
     "checksum": "1bffdc59fe15b3d734547d51deea164a",
     "grade": false,
     "grade_id": "cell-4374074903be4831",
     "locked": true,
     "schema_version": 3,
     "solution": false,
     "task": false
    }
   },
   "source": [
    "Q9: What will the output look like with the following code? Why?\n",
    "\n",
    "  ```\n",
    "  for i in range(0, len(positions)):\n",
    "      print(f'The {positions[i]} value is {fruits[i]}.')\n",
    "  ```"
   ]
  },
  {
   "cell_type": "markdown",
   "metadata": {
    "nbgrader": {
     "cell_type": "markdown",
     "checksum": "55e1b5d7d22e379730ba611ee0b50ec0",
     "grade": false,
     "grade_id": "cell-4cef864949ae1d60",
     "locked": true,
     "schema_version": 3,
     "solution": false,
     "task": false
    }
   },
   "source": [
    "### Exercise 4: Make a menu\n",
    "\n",
    "Write code in the code cell below to create a menu and ask the user for input.\n",
    "\n",
    "Sample output:\n",
    "\n",
    "```\n",
    "    == Menu options ==\n",
    "    1. Show the time\n",
    "    2. Round a number to the nearest sf\n",
    "    3. Round a number to the nearest dp\n",
    "    4. Convert temperatures\n",
    "    \n",
    "    Choose an option (1-4): \n",
    "```\n",
    "\n",
    "Your code should store the menu options in a list and generate the options in a `for` loop, so as to allow future developers to extend it easily."
   ]
  },
  {
   "cell_type": "code",
   "execution_count": null,
   "metadata": {
    "nbgrader": {
     "cell_type": "code",
     "checksum": "6e0072326a7a0792d517a6ed6a39b65d",
     "grade": true,
     "grade_id": "cell-de813cc73083ba8f",
     "locked": false,
     "points": 0,
     "schema_version": 3,
     "solution": true,
     "task": false
    }
   },
   "outputs": [],
   "source": [
    "\"\"\"\n",
    "When creating long collections, Python allows you to break up the line of code \n",
    "for easier reading, so long as the line break happens after a comma (,) and\n",
    "before the end of the collection object.\n",
    "\n",
    "If you need to write multiline comments, the best way to do so is using three \n",
    "quote marks at the start and end, on a new line, like this comment.\n",
    "\"\"\"\n",
    "\n",
    "menu_options = [\n",
    "    'Show the time',\n",
    "    'Round a number to the nearest sf',\n",
    "    'Round a number to the nearest dp',\n",
    "    'Convert temperatures',\n",
    "]\n",
    "\n",
    "# Type your code below:\n",
    "print('== Menu options ==')\n",
    "for option in menu_options:\n",
    "    index = menu_options.index(option)\n",
    "    print(f'{index+1}. {option}')\n",
    "    \n",
    "input('Choose an option (1-4): ')"
   ]
  },
  {
   "cell_type": "markdown",
   "metadata": {},
   "source": [
    "## Mutability\n",
    "\n",
    "Notice that we can modify items in lists directly:\n",
    "\n",
    "`\n",
    "fruits = ['apple', 'banana', 'cherry', 'durian', 'elderberry']\n",
    "del fruits[0]  ## Deletes the first item in the fruits list\n",
    "`\n",
    "\n",
    "But we cannot do the same for stirngs:\n",
    "\n",
    "`\n",
    "fruit = 'elderberry'\n",
    "del fruit[0]  ## This will raise a TypeError\n",
    "`\n",
    "\n",
    "We say that lists are **mutable**, while strings are **immutable**. That means the elements of a string cannot be changed, while the elements of a list can be changed.\n",
    "\n",
    "We will learn more about mutability in later lessons."
   ]
  },
  {
   "cell_type": "code",
   "execution_count": null,
   "metadata": {},
   "outputs": [],
   "source": [
    "# Test your code here\n"
   ]
  },
  {
   "cell_type": "markdown",
   "metadata": {
    "nbgrader": {
     "cell_type": "markdown",
     "checksum": "7bb353fd32780aec7ea2b9035dbbf590",
     "grade": false,
     "grade_id": "cell-9d93a6006d49aa80",
     "locked": true,
     "schema_version": 3,
     "solution": false,
     "task": false
    }
   },
   "source": [
    "## Errors in Python: `IndexError`\n",
    "\n",
    "When you try to slice a list or obtain an element from a list using an invalid index, Python will halt and raise an `IndexError`. This often happens if you accidentally use a `string` instead of an `int`, or if you use the wrong variable. Another way to get `IndexError` is when your index is equal to or larger than the length of the list.\n",
    "\n",
    "In the code cell below, try to raise an `IndexError`."
   ]
  },
  {
   "cell_type": "code",
   "execution_count": null,
   "metadata": {},
   "outputs": [],
   "source": [
    "fruits = ['apple','banana','cherry','durian','elderberry']\n",
    "\n",
    "# Type your below this line to raise an IndexError"
   ]
  },
  {
   "cell_type": "markdown",
   "metadata": {
    "nbgrader": {
     "cell_type": "markdown",
     "checksum": "147980aa8a6770f0d20ce3faae60cf56",
     "grade": false,
     "grade_id": "cell-88a5fb839839a277",
     "locked": true,
     "schema_version": 3,
     "solution": false,
     "task": false
    }
   },
   "source": [
    "## (Optional) List comparators\n",
    "\n",
    "The comparison operators `<`, `>`, `<=`, `>=`, `==`, and `!=` work with lists as well.\n",
    "\n",
    "Try the following expressions in the cell below:\n",
    "\n",
    "1. `[1, 2, 3] == [1, 2, 3]`\n",
    "2. `[1, 2, 3] == [1, 2, 4]`\n",
    "3. `[1, 2, 3] <= [1, 2, 4]`\n",
    "4. `[1, 3, 3] <= [1, 2, 4]`\n",
    "5. `1 <= [1, 2, 4]`\n",
    "6. `anewlist.append(\"Ireland\")` (The `append()` list method is another way to add an element to the end of the list.)\n",
    "7. `anewlist[0] = \"Australia\"` (To reassign a list element to a different value, address the element using its index.)\n",
    "8. `anewlist[0] = Australia` (Remember that strings need the quote marks `''` or `\"\"` otherwise they get interpreted as variables.)\n",
    "9. `anewlist*3` (`*` operator with an integer works on lists too.)\n",
    "10. `anewlist *= 3` (This is equivalent to `anewlist = anewlist*3`)\n",
    "\n",
    "Q10: How does the `==` comparator work for lists?"
   ]
  },
  {
   "cell_type": "markdown",
   "metadata": {
    "nbgrader": {
     "cell_type": "markdown",
     "checksum": "37de748fadec80768b6b9f0edf97c148",
     "grade": false,
     "grade_id": "cell-b4136ce072d13f10",
     "locked": true,
     "schema_version": 3,
     "solution": false,
     "task": false
    }
   },
   "source": [
    "Q11: How does the `!=` comparator work for lists?"
   ]
  },
  {
   "cell_type": "markdown",
   "metadata": {
    "nbgrader": {
     "cell_type": "markdown",
     "checksum": "5c041df02450a77e7521ff702645620e",
     "grade": false,
     "grade_id": "cell-ac17dc4f7c04de3e",
     "locked": true,
     "schema_version": 3,
     "solution": false,
     "task": false
    }
   },
   "source": [
    "Q12: How do the `<` and `<=` comparators work for lists?"
   ]
  },
  {
   "cell_type": "markdown",
   "metadata": {
    "nbgrader": {
     "cell_type": "markdown",
     "checksum": "2a9627879df010414fe200175e58d3dc",
     "grade": false,
     "grade_id": "cell-b0e261a591fa98d4",
     "locked": true,
     "schema_version": 3,
     "solution": false,
     "task": false
    }
   },
   "source": [
    "Q13: What does the `<` comparator do if the lists are of unequal length?"
   ]
  }
 ],
 "metadata": {
  "celltoolbar": "Edit Metadata",
  "kernelspec": {
   "display_name": "Python 3",
   "language": "python",
   "name": "python3"
  },
  "language_info": {
   "codemirror_mode": {
    "name": "ipython",
    "version": 3
   },
   "file_extension": ".py",
   "mimetype": "text/x-python",
   "name": "python",
   "nbconvert_exporter": "python",
   "pygments_lexer": "ipython3",
   "version": "3.6.4"
  }
 },
 "nbformat": 4,
 "nbformat_minor": 2
}
