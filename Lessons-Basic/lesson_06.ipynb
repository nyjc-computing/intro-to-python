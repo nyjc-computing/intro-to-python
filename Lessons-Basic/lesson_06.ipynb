{
 "cells": [
  {
   "cell_type": "markdown",
   "metadata": {},
   "source": [
    "## 1-minute introduction to Jupyter ##\n",
    "\n",
    "A Jupyter notebook consists of cells. Each cell contains either text or code.\n",
    "\n",
    "A text cell will not have any text to the left of the cell. A code cell has `In [ ]:` to the left of the cell.\n",
    "\n",
    "If the cell contains code, you can edit it. Press <kbd>Enter</kbd> to edit the selected cell. While editing the code, press <kbd>Enter</kbd> to create a new line, or <kbd>Shift</kbd>+<kbd>Enter</kbd> to run the code. If you are not editing the code, select a cell and press <kbd>Ctrl</kbd>+<kbd>Enter</kbd> to run the code."
   ]
  },
  {
   "cell_type": "markdown",
   "metadata": {},
   "source": [
    "---"
   ]
  },
  {
   "cell_type": "markdown",
   "metadata": {
    "nbgrader": {
     "cell_type": "markdown",
     "checksum": "4eacad593f5ec02643d21af5a2cdd3df",
     "grade": false,
     "grade_id": "cell-9a2b3922113b9011",
     "locked": true,
     "schema_version": 3,
     "solution": false,
     "task": false
    }
   },
   "source": [
    "# Lesson 6: Standard libraries: `time` module, `while` loops, keyword arguments, default parameter values\n",
    "\n",
    "In lesson 4, we learnt how to iterate through a collection of items. We can use this to perform a set of operations on each item. What about cases where we need to keep doing a set of operations until a condition is met? \n",
    "\n",
    "We will learn how to do this in Lesson 6 using `while` loops. Let's take the example of a stopwatch program."
   ]
  },
  {
   "cell_type": "markdown",
   "metadata": {
    "nbgrader": {
     "cell_type": "markdown",
     "checksum": "7e0ea1c9d1aca1d57c71e041e06239ae",
     "grade": false,
     "grade_id": "cell-8dd8af14517735ca",
     "locked": true,
     "schema_version": 3,
     "solution": false,
     "task": false
    }
   },
   "source": [
    "## Timer with a `while` loop\n",
    "\n",
    "To write a stopwatch program, we need to have a way to measure time in Python. Python uses the `time` library for this. A library is a collection of functions and objects that we can use to implement more advanced algorithms.\n",
    "\n",
    "Let's import the `time` library:"
   ]
  },
  {
   "cell_type": "code",
   "execution_count": null,
   "metadata": {},
   "outputs": [],
   "source": [
    "import time\n",
    "\n",
    "seconds = int(input('Enter number of seconds to sleep: '))\n",
    "time.sleep(seconds)\n",
    "print(f'Slept for {seconds} seconds.')"
   ]
  },
  {
   "cell_type": "markdown",
   "metadata": {
    "nbgrader": {
     "cell_type": "markdown",
     "checksum": "571ee544ce93f03e0aec0e12031942ce",
     "grade": false,
     "grade_id": "cell-df9b3455167a4fef",
     "locked": true,
     "schema_version": 3,
     "solution": false,
     "task": false
    }
   },
   "source": [
    "It is kind of painful to wait for more than 10 seconds without some kind of countdown. Let's add in some program code to make it do a countdown to the actual time.\n",
    "\n",
    "We could do this with a `for` loop, but let's look at how to do this in a `while` loop:"
   ]
  },
  {
   "cell_type": "code",
   "execution_count": null,
   "metadata": {},
   "outputs": [],
   "source": [
    "import time\n",
    "\n",
    "def timer(seconds):\n",
    "    while seconds > 0:\n",
    "        print(f'{seconds} ...')\n",
    "        time.sleep(1)\n",
    "    print('Time\\'s up!')\n",
    "\n",
    "seconds = int(input('Enter number of seconds to sleep: '))\n",
    "timer(seconds)"
   ]
  },
  {
   "cell_type": "markdown",
   "metadata": {
    "nbgrader": {
     "cell_type": "markdown",
     "checksum": "20f505322828b60f1d26b704cee389ed",
     "grade": false,
     "grade_id": "cell-71ced9a9ab566672",
     "locked": true,
     "schema_version": 3,
     "solution": false,
     "task": false
    }
   },
   "source": [
    "Oops, looks like it's going to run forever! From the menu, click <kbd>Kernel</kbd> → <kbd>Restart</kbd> to stop the loop.\n",
    "\n",
    "The `while` loop looks somewhat different from a `for` loop. Instead of an interable collection, we use a condition. In each iteration of this `while` loop, Python checks if the value of `seconds` is greater than 0. If `seconds > 0` is `True`, it runs the indented code, then checks the condition again.\n",
    "\n",
    "So what happened? We forgot to update the value of `seconds`, so `seconds > 0` is always `True`, and the loop runs ... forever!\n",
    "\n",
    "To get it to count down, we need to remember to update the value of `seconds` in the indented code.\n",
    "\n",
    "## Exercise 1: Timer on a `while` loop\n",
    "\n",
    "Write a Python function, `timer(seconds)`, that takes in an integer `seconds` and prints a countdown timer every second. Ensure that your code updates the value of `seconds` after each iteration of the `while` loop so that it counts down properly."
   ]
  },
  {
   "cell_type": "code",
   "execution_count": null,
   "metadata": {
    "nbgrader": {
     "cell_type": "code",
     "checksum": "23fc3117259053fabcb1a44573e5fbff",
     "grade": true,
     "grade_id": "cell-24dc4670edccb86c",
     "locked": false,
     "points": 1,
     "schema_version": 3,
     "solution": true,
     "task": false
    }
   },
   "outputs": [],
   "source": [
    "import time\n",
    "\n",
    "def timer(seconds):\n",
    "    while seconds > 0:\n",
    "        \n",
    "    print('Time\\'s up!')\n",
    "\n",
    "timer(10)"
   ]
  },
  {
   "cell_type": "markdown",
   "metadata": {
    "nbgrader": {
     "cell_type": "markdown",
     "checksum": "7261885c9d5397a131964f6b4d3617d2",
     "grade": false,
     "grade_id": "cell-a61ac5926aa921c1",
     "locked": true,
     "schema_version": 3,
     "solution": false,
     "task": false
    }
   },
   "source": [
    "## Taking input continuously\n",
    "\n",
    "Another use of the `while` loop is to keep taking in user input until a certain condition is met.\n",
    "\n",
    "## Exercise 2: User menu with a `for` loop\n",
    "\n",
    "### Part 1\n",
    "\n",
    "Write a Python function, `print_menu(items)`, that uses a `for` loop to print a menu containing `items` in enumerated fashion.\n",
    "\n",
    "### Example output\n",
    "\n",
    "    >>> items = ['Enter student details', 'Update student details', 'Quit the program']\n",
    "    >>> print_menu(items)\n",
    "    MENU\n",
    "    0. Enter student details\n",
    "    1. Update student details\n",
    "    2. Quit the program\n",
    "    \n",
    "**Hint:** You can use the `enumerate()` function to return an index along with each iterated item."
   ]
  },
  {
   "cell_type": "code",
   "execution_count": null,
   "metadata": {
    "nbgrader": {
     "cell_type": "code",
     "checksum": "e76caaa68b578bc5fb5b2b9e7c9baaac",
     "grade": true,
     "grade_id": "cell-94195ff17666eda0",
     "locked": false,
     "points": 2,
     "schema_version": 3,
     "solution": true,
     "task": false
    }
   },
   "outputs": [],
   "source": [
    "def print_menu(items):\n",
    "    \n",
    "items = [\n",
    "    'Enter student details',\n",
    "    'Edit student details',\n",
    "    'Quit the program',\n",
    "]\n",
    "print_menu(items)"
   ]
  },
  {
   "cell_type": "markdown",
   "metadata": {
    "nbgrader": {
     "cell_type": "markdown",
     "checksum": "fbe944b86404e368ec601e6f156eac4e",
     "grade": false,
     "grade_id": "cell-1fc253285aa517e4",
     "locked": true,
     "schema_version": 3,
     "solution": false,
     "task": false
    }
   },
   "source": [
    "### Part 2\n",
    "\n",
    "Use a `while` loop to implement the following:\n",
    "\n",
    "1. Print the menu.\n",
    "2. If the user chooses option 1, prompt the user for the student name and class, and save them to a list named `students` and `classes` respectively.\n",
    "3. If the user chooses option 2, show the user the current lists of student name and class, and ask them if they want to edit the details. If yes, delete the student and bring the user to menu option 1.\n",
    "4. If the user chooses option 3, exit the program.\n",
    "5. If the input is not valid, print the menu again.\n",
    "\n",
    "### Example output\n",
    "\n",
    "    MENU\n",
    "    1. Enter student details\n",
    "    2. Update student details\n",
    "    3. Quit the program\n",
    "    Choose an option: 1\n",
    "    Enter student name: Alice\n",
    "    Enter student class: 2001\n",
    "    MENU\n",
    "    1. Enter student details\n",
    "    2. Update student details\n",
    "    3. Quit the program\n",
    "    Choose an option: 1\n",
    "    Enter student name: Bob\n",
    "    Enter student class: 2001\n",
    "    MENU\n",
    "    1. Enter student details\n",
    "    2. Update student details\n",
    "    3. Quit the program\n",
    "    Choose an option: 1\n",
    "    Enter student name: Charlie\n",
    "    Enter student class: 2002\n",
    "    MENU\n",
    "    1. Enter student details\n",
    "    2. Update student details\n",
    "    3. Quit the program\n",
    "    Choose an option: 2\n",
    "    Current students:\n",
    "    0. Alice\t2001\n",
    "    1. Bobby\t2001\n",
    "    2. Charlie\t2002\n",
    "    Select student to edit: 0\n",
    "    Enter student name: Alicia\n",
    "    Enter student class: 2001\n",
    "    MENU\n",
    "    1. Enter student details\n",
    "    2. Update student details\n",
    "    3. Quit the program\n",
    "    Choose an option: 3"
   ]
  },
  {
   "cell_type": "code",
   "execution_count": null,
   "metadata": {
    "nbgrader": {
     "cell_type": "code",
     "checksum": "4aa1a09bf386c1d1f6c11433a7063997",
     "grade": true,
     "grade_id": "cell-4c1b0b218244a159",
     "locked": false,
     "points": 3,
     "schema_version": 3,
     "solution": true,
     "task": false
    }
   },
   "outputs": [],
   "source": [
    "# Declare global variables\n",
    "items = [\n",
    "    'Enter student details',\n",
    "    'Update student details',\n",
    "    'Quit the program'\n",
    "]\n",
    "option = None\n",
    "studentdata = []\n",
    "\n",
    "while option != '3':\n",
    "    print_menu(items)\n",
    "    option = input('Choose an option: ')\n",
    "    if option == '1':\n",
    "        # continue the code"
   ]
  },
  {
   "cell_type": "markdown",
   "metadata": {
    "nbgrader": {
     "cell_type": "markdown",
     "checksum": "cf43420b6bbf92b5774cc42908e6b642",
     "grade": false,
     "grade_id": "cell-5e42095ac88f2a83",
     "locked": true,
     "schema_version": 3,
     "solution": false,
     "task": false
    }
   },
   "source": [
    "## Reading selectively from a file\n",
    "\n",
    "Great, you now know how to keep getting input from the user until a certain condition is met. Let's look at using a `while` loop for file IO.\n",
    "\n",
    "You already know how to use a `for` loop to read an entire file (Lesson 4).\n",
    "\n",
    "### Task 1\n",
    "\n",
    "Write program code to read in all the words beginning with `'a'` from `words.txt`."
   ]
  },
  {
   "cell_type": "code",
   "execution_count": null,
   "metadata": {
    "nbgrader": {
     "cell_type": "code",
     "checksum": "595c067f84e2592050cc460eea5504b4",
     "grade": true,
     "grade_id": "cell-e77d044a603e3e42",
     "locked": false,
     "points": 2,
     "schema_version": 3,
     "solution": true,
     "task": false
    }
   },
   "outputs": [],
   "source": [
    "a_words = []\n",
    "with open('words.txt') as f:\n",
    "    for word in f:\n",
    "        if word[0] == 'a':\n",
    "            a_words.append(word)"
   ]
  },
  {
   "cell_type": "markdown",
   "metadata": {
    "nbgrader": {
     "cell_type": "markdown",
     "checksum": "4978ffe0d6b345c28f6909caa9dc9899",
     "grade": false,
     "grade_id": "cell-898e3ea04b5510fc",
     "locked": true,
     "schema_version": 3,
     "solution": false,
     "task": false
    }
   },
   "source": [
    "The file `words.txt` is a list of all the words in the dictionary. It has 370103 lines. If we just want the words starting with 'a', we don't want to read 370103 lines for that!\n",
    "\n",
    "Let's try to get the program to stop when it is no longer reading lines starting with 'a'.\n",
    "\n",
    "Complete the code below by replacing the underscores (`_____`) with appropriate expressions."
   ]
  },
  {
   "cell_type": "code",
   "execution_count": null,
   "metadata": {
    "nbgrader": {
     "cell_type": "code",
     "checksum": "fa67c95f3fb04c94e15c1a62a42bf536",
     "grade": true,
     "grade_id": "cell-a40c3964975409ad",
     "locked": false,
     "points": 1,
     "schema_version": 3,
     "solution": true,
     "task": false
    }
   },
   "outputs": [],
   "source": [
    "# Reading in 'a' words with a while loop\n",
    "a_words = []\n",
    "    with open('words.txt') as f:\n",
    "        word = f.readline().strip()\n",
    "        while _____:\n",
    "            a_words.append(word)\n",
    "            word = f.readline().strip()"
   ]
  },
  {
   "cell_type": "markdown",
   "metadata": {
    "nbgrader": {
     "cell_type": "markdown",
     "checksum": "312da7a9fd8a46339f403288ca360e59",
     "grade": false,
     "grade_id": "cell-11971c5649ff2e5d",
     "locked": true,
     "schema_version": 3,
     "solution": false,
     "task": false
    }
   },
   "source": [
    "The `while` loop will keep reading in each line (containing a word) as long as the word starts with `'a'`. When it reaches a word that does not start with `'a'`, it will exit from the `while` loop.\n",
    "\n",
    "How would we do this to get all words starting with `'b'`? We could keep reading in words until we find a word starting with `'b'`, then keep reading in words starting with `'b'`:"
   ]
  },
  {
   "cell_type": "code",
   "execution_count": null,
   "metadata": {},
   "outputs": [],
   "source": [
    "# Reading in 'b' words with two while loops\n",
    "b_words = []\n",
    "with open('words.txt') as f:\n",
    "    word = f.readline().strip()\n",
    "    while not word.startswith('b'):  # another way to check starting letter\n",
    "        word = f.readline().strip()\n",
    "    while word.startswith('b'):\n",
    "        b_words.append(word)\n",
    "        word = f.readline().strip()"
   ]
  },
  {
   "cell_type": "markdown",
   "metadata": {
    "nbgrader": {
     "cell_type": "markdown",
     "checksum": "3dabf8c3ce93616ef7c28a6703ed224b",
     "grade": false,
     "grade_id": "cell-f0800e190ca64b37",
     "locked": true,
     "schema_version": 3,
     "solution": false,
     "task": false
    }
   },
   "source": [
    "That feels inelegant and repetitive ... can we simplify it to avoid repeating similar code?\n",
    "\n",
    "## Controlling a `while` loop with sentinel values\n",
    "\n",
    "So far, we have controlled `while` loops using expressions that evaluate to a boolean value. Another common pattern for controlling `while` loops is the use of a **sentinel value**.\n",
    "\n",
    "    sentinel (noun):\n",
    "    a person or thing that watches or stands as if watching.\n",
    "    \n",
    "A sentinel value is a value that determines if a loop should continue running. It is usually a boolean value, although it may sometimes also be an integer or string value. It is *as though* this sentinel value is watching over the `while` loop, waiting to terminate it. \n",
    "\n",
    "Revision: Do you remember which integer values evaluate to `True`, and which ones evaluate to `False`? How about string values?\n",
    "\n",
    "Let's use a `while` loop with a sentinel value to read in words starting with `'b'`:"
   ]
  },
  {
   "cell_type": "code",
   "execution_count": null,
   "metadata": {},
   "outputs": [],
   "source": [
    "# Reading in 'b' words using while loop with sentinel value\n",
    "b_words = []\n",
    "stop = False  # the sentinel value\n",
    "with open('words.txt') as f:\n",
    "    while not stop:\n",
    "        word = f.readline().strip()\n",
    "        if word.startswith('b'):\n",
    "            b_words.append(word)\n",
    "        elif word.startswith('c'):\n",
    "            stop = True  # change the sentinel value when a condition is met"
   ]
  },
  {
   "cell_type": "markdown",
   "metadata": {
    "nbgrader": {
     "cell_type": "markdown",
     "checksum": "45db1b444881e5ef26735270b1ec4249",
     "grade": false,
     "grade_id": "cell-d7f3f053c63d5e62",
     "locked": true,
     "schema_version": 3,
     "solution": false,
     "task": false
    }
   },
   "source": [
    "This time, instead of checking whether a word starts with a certain character, we simply use a variable `stop` to determine if the loop should stop or continue.\n",
    "\n",
    "We start by setting `stop = False` so that the loop runs. We know the loop should stop once we reach the 'c' words, since that would mean that we have moved past the 'b' words. So once we come across a word that starts with 'c', we can set `stop = True` inside an `if` statement.\n",
    "\n",
    "Notice that this bypasses the awkward situation earlier when we try to evaluate a condition like ` while word.startswith('a')` before we have read in any lines from a file. It is easier to start by declaring a sentinel value, then changing its value later when a certain condition is met."
   ]
  },
  {
   "cell_type": "markdown",
   "metadata": {
    "nbgrader": {
     "cell_type": "markdown",
     "checksum": "1306c850a1bcb8e3e7d265552d19df56",
     "grade": false,
     "grade_id": "cell-b6664b16ff546e11",
     "locked": true,
     "schema_version": 3,
     "solution": false,
     "task": false
    }
   },
   "source": [
    "## Escaping a loop in a function with `return`\n",
    "\n",
    "Can we do without a sentinel value? Yes, if we are using a `while` loop in a function. Recall that the `return` keyword returns the value of the expression and exits from the function. This also halts any loops running inside the function.\n",
    "\n",
    "With this modular implementation, we can skip using a sentinel value. But if you are using an infinite loop (e.g. `while True`), the onus is on you to ensure that your function eventually reaches a terminating condition!\n",
    "\n",
    "If you want to be safe, it is good practice to set a counter and terminate the `while` loop once it has exceeded a reasonable number of iterations"
   ]
  },
  {
   "cell_type": "code",
   "execution_count": null,
   "metadata": {},
   "outputs": [],
   "source": [
    "# You will learn how this function works in a future lesson\n",
    "def next_char(char):\n",
    "    '''\n",
    "    Returns the next character.\n",
    "    \n",
    "    Usage:\n",
    "    >>> next_char('b')\n",
    "    'c'\n",
    "    '''\n",
    "    return chr(ord(char) + 1)\n",
    "\n",
    "def words_from(filename, char):\n",
    "    '''\n",
    "    Returns all the words from filename that begin with char.\n",
    "    '''\n",
    "    char_words = []\n",
    "    with open(filename) as f:\n",
    "        ctr = 0  # set a counter\n",
    "        while ctr < 100000:  # terminate when it exceeds 100000 lines read\n",
    "            ctr += 1  # remember to increment the counter\n",
    "            word = f.readline().strip()\n",
    "            if word.startswith(char):\n",
    "                char_words.append(word)\n",
    "            elif word.startswith(next_char(char)):\n",
    "                return char_words  # terminates the loop when the function exits\n",
    "\n",
    "words_from('words.txt', 'b')"
   ]
  },
  {
   "cell_type": "markdown",
   "metadata": {
    "nbgrader": {
     "cell_type": "markdown",
     "checksum": "a8cd070585f27549480811c316770647",
     "grade": false,
     "grade_id": "cell-a3a4444b38beb2fe",
     "locked": true,
     "schema_version": 3,
     "solution": false,
     "task": false
    }
   },
   "source": [
    "## Data validation with a `while` loop\n",
    "\n",
    "We can use sentinel values in a `while` loop to validate user input. This can't be done with a `for` loop since we don't know how many tries a user will need to get the input right :)\n",
    "\n",
    "When asking the user to input a phone number, we want to help them check if it is valid, since they might accidentally make a typo. So we should put the input in a `while` loop until they enter a valid number.\n",
    "\n",
    "It is also good practice to get them to confirm their input before storing it."
   ]
  },
  {
   "cell_type": "code",
   "execution_count": null,
   "metadata": {
    "nbgrader": {
     "cell_type": "code",
     "checksum": "376bf15f238b68efb6e17e5f8896120b",
     "grade": true,
     "grade_id": "cell-dd0225e788f6c797",
     "locked": false,
     "points": 1,
     "schema_version": 3,
     "solution": true,
     "task": false
    }
   },
   "outputs": [],
   "source": [
    "# getting valid phone number input from a user using a while loop with sentinel value\n",
    "valid = False  # sentinel value\n",
    "while not valid:\n",
    "    number = input('Please enter your phone number: ')\n",
    "    \n",
    "    # Check that number starts with 6, 8, or 9 (valid numbers)\n",
    "    # Replace underscores (_____) with an expression to ensure number is 8 digits\n",
    "    if number[0] in ['6', '8', '9'] and _____:\n",
    "        confirm = input(f'Your phone number is {number}. Is this correct? (Y/N): ')\n",
    "        if confirm.lower() == 'y':  # accept both uppercase and lowercase 'Y'\n",
    "            valid = True  # change sentinel value only when data is valid and user has c\n",
    "    else:\n",
    "        print('Invalid number')"
   ]
  },
  {
   "cell_type": "markdown",
   "metadata": {
    "nbgrader": {
     "cell_type": "markdown",
     "checksum": "1057d04571398630c1cb4e5bbe1fce61",
     "grade": false,
     "grade_id": "cell-f59f1f100f6ff966",
     "locked": true,
     "schema_version": 3,
     "solution": false,
     "task": false
    }
   },
   "source": [
    "## File operations using the `os` module\n",
    "\n",
    "We used the `time` module earlier for time-related operations. Python programs often also have to work with files, which involve interaction with the operating system (**OS**). This and other functions are accessed through the `os` module.\n",
    "\n",
    "A common use for the `os` module is to check if a file exists. This is done with the `os.path.isfile()` function."
   ]
  },
  {
   "cell_type": "code",
   "execution_count": null,
   "metadata": {},
   "outputs": [],
   "source": [
    "# Check if a file exists using the os module\n",
    "import os\n",
    "\n",
    "print(os.path.isfile('doesnotexist.txt'))\n",
    "print(os.path.isfile('words.txt'))\n"
   ]
  },
  {
   "cell_type": "markdown",
   "metadata": {
    "nbgrader": {
     "cell_type": "markdown",
     "checksum": "19af7d6fa1bfd7fe45ca27bde806ba68",
     "grade": false,
     "grade_id": "cell-60ead3ff9a2b9143",
     "locked": true,
     "schema_version": 3,
     "solution": false,
     "task": false
    }
   },
   "source": [
    "A student tried to write program code to ask the user for a filename pointing to a file that exists. They wrote the following code and got stuck.\n",
    "\n",
    "### Task 2\n",
    "\n",
    "Modify the code below to ask the user for an existing filename."
   ]
  },
  {
   "cell_type": "code",
   "execution_count": null,
   "metadata": {
    "nbgrader": {
     "cell_type": "code",
     "checksum": "1ef79110d1a62b6685d43125d8647284",
     "grade": true,
     "grade_id": "cell-538b3366d9805f0a",
     "locked": false,
     "points": 2,
     "schema_version": 3,
     "solution": true,
     "task": false
    }
   },
   "outputs": [],
   "source": [
    "filename = input('Enter filename to load: ')\n",
    "if os.path.isfile(filename):\n",
    "    print('File does not exist. Please enter filename again: ')\n"
   ]
  },
  {
   "cell_type": "markdown",
   "metadata": {
    "nbgrader": {
     "cell_type": "markdown",
     "checksum": "759d649f7153b0484a5c87a39c72bdfd",
     "grade": false,
     "grade_id": "cell-ca14436dcb3f29f6",
     "locked": true,
     "schema_version": 3,
     "solution": false,
     "task": false
    }
   },
   "source": [
    "## Exercise 3: nested `while` loops\n",
    "\n",
    "Let's use this code in another menu for managing student data. We will reuse your function `print_menu()` from earlier, so make sure you have already run that code cell first.\n",
    "\n",
    "This time, we will load the data from a file and save it back to a file as well.\n",
    "\n",
    "First, let's make a helper function to load data:"
   ]
  },
  {
   "cell_type": "code",
   "execution_count": null,
   "metadata": {
    "nbgrader": {
     "cell_type": "code",
     "checksum": "b5c8615df09eb9427241afb7c5243f3d",
     "grade": true,
     "grade_id": "cell-b8ca2f2fc3e6b41e",
     "locked": false,
     "points": 3,
     "schema_version": 3,
     "solution": true,
     "task": false
    }
   },
   "outputs": [],
   "source": [
    "def load(filename):\n",
    "    '''\n",
    "    Load students and classes from filename.\n",
    "    '''\n",
    "    studentdata = []\n",
    "    with open(filename) as f:\n",
    "        for line in f:\n",
    "            student,class_ = line.strip().split(',')\n",
    "            studentdata.append([student,class_])\n",
    "    return studentdata\n",
    "\n",
    "# See the next part to know what to do here\n"
   ]
  },
  {
   "cell_type": "markdown",
   "metadata": {
    "nbgrader": {
     "cell_type": "markdown",
     "checksum": "75c7bf2524883a058f6ecd5a2fefeca3",
     "grade": false,
     "grade_id": "cell-fae8024f7b4b6631",
     "locked": true,
     "schema_version": 3,
     "solution": false,
     "task": false
    }
   },
   "source": [
    "The code below will not work because it is missing a `save()` function. By analysing the code below, add the `save()` helper function in the above code cell so that the program code will work.\n",
    "\n",
    "The `save()` function should return the number of records written.\n",
    "\n",
    "You can use your code from **Task 2** to get a valid filename from the user."
   ]
  },
  {
   "cell_type": "code",
   "execution_count": null,
   "metadata": {},
   "outputs": [],
   "source": [
    "# Do not modify this program!\n",
    "import os\n",
    "\n",
    "items = [\n",
    "    'Load student details from file',\n",
    "     'See student details',\n",
    "     'Add student',\n",
    "     'Save student details to file',\n",
    "     'Quit the program'\n",
    "]\n",
    "quit = False\n",
    "studentdata = []\n",
    "\n",
    "while not quit:\n",
    "    print_menu(items)\n",
    "    option = input('Choose an option: ')\n",
    "    if option == '1':  # load student details\n",
    "        valid = False\n",
    "        while not valid:\n",
    "            filename = input('Enter filename to load: ')\n",
    "            if os.path.isfile(filename):\n",
    "                valid = True\n",
    "            else:\n",
    "                print('Invalid filename.')\n",
    "        studentdata = load(filename)\n",
    "\n",
    "    elif option == '2':  # print student details\n",
    "        for i in range(len(studentdata)):\n",
    "            print(f'{studentdata[i][0]}: {studentdata[i][1]}')\n",
    "    \n",
    "    elif option == '3':  # add student\n",
    "        student = input('Enter student name: ')\n",
    "        class_ = input('Enter student class: ')\n",
    "        studentdata.append([name, class_])\n",
    "    \n",
    "    elif option == '4':  # save student details\n",
    "        filename = input('Enter filename to save student data to: ')\n",
    "\n",
    "        # Prompt user for write mode\n",
    "        mode = 'w'  # default write mode: overwrite\n",
    "        if os.path.isfile(filename):\n",
    "            overwrite = input('File already exists. Overwrite? (Y to overwrite): ')\n",
    "            if overwrite.lower() != 'y':\n",
    "                mode = 'a'\n",
    "        \n",
    "        count = save(filename, mode, studentdata) # this function does not exist yet!\n",
    "        print(f'{count} records saved.')\n",
    "\n",
    "    elif option == '5': # quit\n",
    "        quit = True\n",
    "    \n",
    "    else:\n",
    "        print('Invalid option.')"
   ]
  },
  {
   "cell_type": "code",
   "execution_count": null,
   "metadata": {},
   "outputs": [],
   "source": [
    "studentdata"
   ]
  },
  {
   "cell_type": "markdown",
   "metadata": {
    "nbgrader": {
     "cell_type": "markdown",
     "checksum": "f3922b6382e7799a5212d4c7a3394606",
     "grade": false,
     "grade_id": "cell-4481af5ad3a2d202",
     "locked": true,
     "schema_version": 3,
     "solution": false,
     "task": false
    }
   },
   "source": [
    "## `datetime` module\n",
    "\n",
    "The `datetime` module contains functions for working with date and time. The `now()` function from this module gives you the current date and time.\n",
    "\n",
    "The date is given in `YYYY-MM-DD` format, while the time is given in `HH:MM:SS.ms` format (where ms is the time with milliseconds)."
   ]
  },
  {
   "cell_type": "code",
   "execution_count": null,
   "metadata": {},
   "outputs": [],
   "source": [
    "import datetime\n",
    "\n",
    "datetime_obj = datetime.datetime.now()\n",
    "print(datetime_obj)\n",
    "print(f'Type: {type(datetime_obj)}')"
   ]
  },
  {
   "cell_type": "markdown",
   "metadata": {
    "nbgrader": {
     "cell_type": "markdown",
     "checksum": "9b4dd28f87e021df184f0248313e12f1",
     "grade": false,
     "grade_id": "cell-629c42ee5a065273",
     "locked": true,
     "schema_version": 3,
     "solution": false,
     "task": false
    }
   },
   "source": [
    "The `now()` function does not return a list, but a `datetime` object. To get specific parts of the datetime, you need to use the methods associated with this object.\n",
    "\n",
    "**Task 3**\n",
    "\n",
    "Using the helper functions `dir()` and `help()`, figure out which methods will give you the\n",
    "\n",
    "- year\n",
    "- month\n",
    "- day\n",
    "- hour\n",
    "- minute\n",
    "- second"
   ]
  },
  {
   "cell_type": "code",
   "execution_count": null,
   "metadata": {
    "nbgrader": {
     "cell_type": "code",
     "checksum": "c61f4151aae8139408b9b93be552d629",
     "grade": true,
     "grade_id": "cell-ddf5317228eab8c9",
     "locked": false,
     "points": 1,
     "schema_version": 3,
     "solution": true,
     "task": false
    }
   },
   "outputs": [],
   "source": [
    "# Write code here to examine the datetime object and its methods\n",
    "\n"
   ]
  },
  {
   "cell_type": "markdown",
   "metadata": {
    "nbgrader": {
     "cell_type": "markdown",
     "checksum": "db438dfffe455ba48d6c22fb0cb88c87",
     "grade": false,
     "grade_id": "cell-a516ac6253f158c3",
     "locked": true,
     "schema_version": 3,
     "solution": false,
     "task": false
    }
   },
   "source": [
    "## Clock with a `while` loop\n",
    "\n",
    "Let's try to write a simple clock program that prints the time once every second. To prevent the clock running forever, we will use a simple condition that stops the clock after 10 seconds."
   ]
  },
  {
   "cell_type": "code",
   "execution_count": null,
   "metadata": {},
   "outputs": [],
   "source": [
    "import datetime\n",
    "\n",
    "timer = 0\n",
    "while timer < 10:\n",
    "    print(datetime.datetime.now())\n",
    "    timer += 1"
   ]
  },
  {
   "cell_type": "markdown",
   "metadata": {
    "nbgrader": {
     "cell_type": "markdown",
     "checksum": "786ccbb9d76a8659ae54c33986887bba",
     "grade": false,
     "grade_id": "cell-4480de7202fecfd2",
     "locked": true,
     "schema_version": 3,
     "solution": false,
     "task": false
    }
   },
   "source": [
    "... oops, that didn't quite work as intended.\n",
    "\n",
    "## Exercise 4\n",
    "\n",
    "Modify the code in the code cell below so that it works as intended.\n",
    "\n",
    "**Hint:** If you are working with time, you may need functions from the `time` module\n",
    "\n",
    "### Expected output\n",
    "\n",
    "    2020-02-11 12:35:17.003265\n",
    "    2020-02-11 12:35:18.005189\n",
    "    2020-02-11 12:35:19.005404\n",
    "    2020-02-11 12:35:20.006884\n",
    "    2020-02-11 12:35:21.007330\n",
    "    2020-02-11 12:35:22.007835\n",
    "    2020-02-11 12:35:23.009908\n",
    "    2020-02-11 12:35:24.010524\n",
    "    2020-02-11 12:35:25.011457\n",
    "    2020-02-11 12:35:26.011538"
   ]
  },
  {
   "cell_type": "code",
   "execution_count": null,
   "metadata": {
    "nbgrader": {
     "cell_type": "code",
     "checksum": "d5ff9b604f59b9f59f7a1aceb23565d8",
     "grade": true,
     "grade_id": "cell-db2ecebf2af93523",
     "locked": false,
     "points": 1,
     "schema_version": 3,
     "solution": true,
     "task": false
    }
   },
   "outputs": [],
   "source": [
    "import datetime\n",
    "\n",
    "## Modify the code below so that it prints the time once every 10 seconds (and stops after 10 seconds)\n",
    "timer = 0\n",
    "while timer < 10:\n",
    "    print(datetime.datetime.now())\n",
    "    timer += 1\n",
    "    "
   ]
  },
  {
   "cell_type": "markdown",
   "metadata": {
    "nbgrader": {
     "cell_type": "markdown",
     "checksum": "a76a8a9a922968d6f2ddd8808543dcfe",
     "grade": false,
     "grade_id": "cell-ce2e045ea2fedb03",
     "locked": true,
     "schema_version": 3,
     "solution": false,
     "task": false
    }
   },
   "source": [
    "## Clock on a single line\n",
    "\n",
    "It would be ridiculous if your digital clock printed the time on a new line each time it updates ... no digital clock does that, right?\n",
    "\n",
    "How would we make our program update the current line instead of printing on a new line? The `print()` function adds the newline (`'\\n'`), what can we do to stop it doing that?\n",
    "\n",
    "### Keyword arguments\n",
    "\n",
    "We need to provide it with a **keyword argument**. You have learnt how to pass \"normal\" arguments to functions; these are known as **positional arguments** since the order of arguments matters. **Keyword arguments** can be provided in any order since they are identified by name and not by position.\n",
    "\n",
    "To make the `print()` function **not** add a new line, we give it the `end=''` keyword argument. This makes it end with an empty string instead of ending with `'\\n'`.\n",
    "\n",
    "Run the code cell below to see this in action:"
   ]
  },
  {
   "cell_type": "code",
   "execution_count": null,
   "metadata": {},
   "outputs": [],
   "source": [
    "# Print time output on a single line\n",
    "import time\n",
    "print(datetime.datetime.now(), end='')\n",
    "time.sleep(1)\n",
    "print(datetime.datetime.now(), end='')\n",
    "time.sleep(1)\n",
    "print(datetime.datetime.now(), end='')\n",
    "time.sleep(1)\n",
    "print(datetime.datetime.now(), end='')\n",
    "time.sleep(1)\n",
    "print(datetime.datetime.now(), end='')"
   ]
  },
  {
   "cell_type": "markdown",
   "metadata": {
    "nbgrader": {
     "cell_type": "markdown",
     "checksum": "5683418fe23a221e3e32db231e91b768",
     "grade": false,
     "grade_id": "cell-2c35158e19010036",
     "locked": true,
     "schema_version": 3,
     "solution": false,
     "task": false
    }
   },
   "source": [
    "Better ... but now everything is one long string. We need to make each new `datetime.datetime.now()` print at the start of the line instead of continuing from the end; we need to **return the cursor** to the start of the line.\n",
    "\n",
    "The special character that tells the program to do so is known as a carriage return, `'\\r'`. Let's make the `print()` end with a carriage return:"
   ]
  },
  {
   "cell_type": "code",
   "execution_count": null,
   "metadata": {},
   "outputs": [],
   "source": [
    "# Print time output in the same place each time\n",
    "import datetime, time\n",
    "print(datetime.datetime.now(), end='\\r')\n",
    "time.sleep(1)\n",
    "print(datetime.datetime.now(), end='\\r')\n",
    "time.sleep(1)\n",
    "print(datetime.datetime.now(), end='\\r')\n",
    "time.sleep(1)\n",
    "print(datetime.datetime.now(), end='\\r')\n",
    "time.sleep(1)\n",
    "print(datetime.datetime.now(), end='\\r')"
   ]
  },
  {
   "cell_type": "markdown",
   "metadata": {
    "nbgrader": {
     "cell_type": "markdown",
     "checksum": "63ed91a5129a5700794d6debcb40c880",
     "grade": false,
     "grade_id": "cell-4ece1471489d7a89",
     "locked": true,
     "schema_version": 3,
     "solution": false,
     "task": false
    }
   },
   "source": [
    "Other functions from standard libraries have keyword arguments that modify their behaviour as well. You will learn about them in future lessons, or you can also look up the use of these functions online to find out what keyword arguments are available."
   ]
  },
  {
   "cell_type": "markdown",
   "metadata": {
    "nbgrader": {
     "cell_type": "markdown",
     "checksum": "c8757fd477c33b3e389e5a6bd7a9ff94",
     "grade": false,
     "grade_id": "cell-1dd5f3ae321a0cf8",
     "locked": true,
     "schema_version": 3,
     "solution": false,
     "task": false
    }
   },
   "source": [
    "## Default parameter values\n",
    "\n",
    "A function cannot be called unless all its positional arguments are provided. Attempting to call a function without providing values for all positional arguments will raise a `TypeError`."
   ]
  },
  {
   "cell_type": "code",
   "execution_count": null,
   "metadata": {},
   "outputs": [],
   "source": [
    "def function_a(arg_a, arg_b):\n",
    "    print(f'a: {arg_a}')\n",
    "    print(f'b: {arg_b}')\n",
    "    \n",
    "function_a()"
   ]
  },
  {
   "cell_type": "markdown",
   "metadata": {
    "nbgrader": {
     "cell_type": "markdown",
     "checksum": "9cd83b0396cf46b292efc59ea1410250",
     "grade": false,
     "grade_id": "cell-1c86d7b7afb9c178",
     "locked": true,
     "schema_version": 3,
     "solution": false,
     "task": false
    }
   },
   "source": [
    "You can provide a default value to positional arguments in the function definition. If that value is not provided as an argument, the default value is assigned:"
   ]
  },
  {
   "cell_type": "code",
   "execution_count": null,
   "metadata": {},
   "outputs": [],
   "source": [
    "# The default value of arg_a is 'a'\n",
    "# The default value of arg_b is 'b'\n",
    "def function_a(arg_a='a', arg_b='b'):\n",
    "    print(f'a: {arg_a}')\n",
    "    print(f'b: {arg_b}')\n",
    "    \n",
    "function_a()"
   ]
  },
  {
   "cell_type": "markdown",
   "metadata": {
    "nbgrader": {
     "cell_type": "markdown",
     "checksum": "193ca40d524db78675f1bd25bd0b3a04",
     "grade": false,
     "grade_id": "cell-c637f33c74a96f91",
     "locked": true,
     "schema_version": 3,
     "solution": false,
     "task": false
    }
   },
   "source": [
    "You can have a mix of arguments with default values and without default values, but arguments with default values **must follow after** arguments without default values:"
   ]
  },
  {
   "cell_type": "code",
   "execution_count": null,
   "metadata": {},
   "outputs": [],
   "source": [
    "# arg_a has no default value; a value must be provided\n",
    "# The default value of arg_b is 'b'\n",
    "def function_a(arg_a, arg_b='b'):\n",
    "    print(f'a: {arg_a}')\n",
    "    print(f'b: {arg_b}')\n",
    "    \n",
    "function_a('a')"
   ]
  },
  {
   "cell_type": "markdown",
   "metadata": {
    "nbgrader": {
     "cell_type": "markdown",
     "checksum": "ddae841a23735cc39d0f2911e46588a6",
     "grade": false,
     "grade_id": "cell-f763e36758dfff4e",
     "locked": true,
     "schema_version": 3,
     "solution": false,
     "task": false
    }
   },
   "source": [
    "Attempting to put arguments with default values before those without default values will raise a `SyntaxError`:"
   ]
  },
  {
   "cell_type": "code",
   "execution_count": null,
   "metadata": {},
   "outputs": [],
   "source": [
    "# The default value of arg_a is 'a'\n",
    "# arg_b has no default value; a value must be provided\n",
    "def function_a(arg_a='a', arg_b):\n",
    "    print(f'a: {arg_a}')\n",
    "    print(f'b: {arg_b}')\n",
    "    \n",
    "function_a('b')"
   ]
  }
 ],
 "metadata": {
  "kernelspec": {
   "display_name": "Python 3",
   "language": "python",
   "name": "python3"
  },
  "language_info": {
   "codemirror_mode": {
    "name": "ipython",
    "version": 3
   },
   "file_extension": ".py",
   "mimetype": "text/x-python",
   "name": "python",
   "nbconvert_exporter": "python",
   "pygments_lexer": "ipython3",
   "version": "3.6.4"
  }
 },
 "nbformat": 4,
 "nbformat_minor": 2
}
