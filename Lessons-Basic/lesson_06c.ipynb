{
 "cells": [
  {
   "cell_type": "markdown",
   "metadata": {},
   "source": [
    "## 1-minute introduction to Jupyter ##\n",
    "\n",
    "A Jupyter notebook consists of cells. Each cell contains either text or code.\n",
    "\n",
    "A text cell will not have any text to the left of the cell. A code cell has `In [ ]:` to the left of the cell.\n",
    "\n",
    "If the cell contains code, you can edit it. Press <kbd>Enter</kbd> to edit the selected cell. While editing the code, press <kbd>Enter</kbd> to create a new line, or <kbd>Shift</kbd>+<kbd>Enter</kbd> to run the code. If you are not editing the code, select a cell and press <kbd>Ctrl</kbd>+<kbd>Enter</kbd> to run the code."
   ]
  },
  {
   "cell_type": "markdown",
   "metadata": {},
   "source": [
    "---"
   ]
  },
  {
   "cell_type": "markdown",
   "metadata": {
    "nbgrader": {
     "cell_type": "markdown",
     "checksum": "4eacad593f5ec02643d21af5a2cdd3df",
     "grade": false,
     "grade_id": "cell-9a2b3922113b9011",
     "locked": true,
     "schema_version": 3,
     "solution": false,
     "task": false
    }
   },
   "source": [
    "# Lesson 6c: nested loops, keyword arguments, default parameter values\n",
    "\n",
    "In lesson 6a, we used single `while` loops to repeat statements until a certain condition is met. Often, in our programs, we wil need to do this for multiple conditions. Let's take a look at an example."
   ]
  },
  {
   "cell_type": "markdown",
   "metadata": {
    "nbgrader": {
     "cell_type": "markdown",
     "checksum": "759d649f7153b0484a5c87a39c72bdfd",
     "grade": false,
     "grade_id": "cell-ca14436dcb3f29f6",
     "locked": true,
     "schema_version": 3,
     "solution": false,
     "task": false
    }
   },
   "source": [
    "## Exercise 3: nested `while` loops\n",
    "\n",
    "Let's use this code in another menu for managing student data. We will reuse your function `print_menu()` from earlier, so make sure you have already run that code cell first.\n",
    "\n",
    "This time, we will load the data from a file and save it back to a file as well.\n",
    "\n",
    "First, let's make a helper function to load data:"
   ]
  },
  {
   "cell_type": "code",
   "execution_count": null,
   "metadata": {
    "nbgrader": {
     "cell_type": "code",
     "checksum": "b5c8615df09eb9427241afb7c5243f3d",
     "grade": true,
     "grade_id": "cell-b8ca2f2fc3e6b41e",
     "locked": false,
     "points": 3,
     "schema_version": 3,
     "solution": true,
     "task": false
    }
   },
   "outputs": [],
   "source": [
    "def load(filename):\n",
    "    '''\n",
    "    Load students and classes from filename.\n",
    "    '''\n",
    "    studentdata = []\n",
    "    with open(filename) as f:\n",
    "        for line in f:\n",
    "            student,class_ = line.strip().split(',')\n",
    "            studentdata.append([student, class_])\n",
    "    return studentdata\n",
    "\n",
    "# See the next part to know what to do here\n"
   ]
  },
  {
   "cell_type": "markdown",
   "metadata": {
    "nbgrader": {
     "cell_type": "markdown",
     "checksum": "75c7bf2524883a058f6ecd5a2fefeca3",
     "grade": false,
     "grade_id": "cell-fae8024f7b4b6631",
     "locked": true,
     "schema_version": 3,
     "solution": false,
     "task": false
    }
   },
   "source": [
    "The code below will not work because it is missing a `save()` function. By analysing the code below, add the `save()` helper function in the above code cell so that the program code will work.\n",
    "\n",
    "The `save()` function should return the number of records written.\n",
    "\n",
    "You can use your code from **Task 2** to get a valid filename from the user."
   ]
  },
  {
   "cell_type": "code",
   "execution_count": null,
   "metadata": {},
   "outputs": [],
   "source": [
    "# Do not modify this program!\n",
    "import os\n",
    "\n",
    "items = [\n",
    "    'Load student details from file',\n",
    "     'See student details',\n",
    "     'Add student',\n",
    "     'Save student details to file',\n",
    "     'Quit the program'\n",
    "]\n",
    "quit = False\n",
    "studentdata = []\n",
    "\n",
    "while not quit:\n",
    "    print_menu(items)\n",
    "    option = input('Choose an option: ')\n",
    "    if option == '1':  # load student details\n",
    "        valid = False\n",
    "        while not valid:\n",
    "            filename = input('Enter filename to load: ')\n",
    "            if os.path.isfile(filename):\n",
    "                valid = True\n",
    "            else:\n",
    "                print('Invalid filename.')\n",
    "        studentdata = load(filename)\n",
    "\n",
    "    elif option == '2':  # print student details\n",
    "        for i in range(len(studentdata)):\n",
    "            print(f'{studentdata[i][0]}: {studentdata[i][1]}')\n",
    "    \n",
    "    elif option == '3':  # add student\n",
    "        student = input('Enter student name: ')\n",
    "        class_ = input('Enter student class: ')\n",
    "        studentdata.append([name, class_])\n",
    "    \n",
    "    elif option == '4':  # save student details\n",
    "        filename = input('Enter filename to save student data to: ')\n",
    "\n",
    "        # Prompt user for write mode\n",
    "        mode = 'w'  # default write mode: overwrite\n",
    "        if os.path.isfile(filename):\n",
    "            overwrite = input('File already exists. Overwrite? (Y to overwrite): ')\n",
    "            if overwrite.lower() != 'y':\n",
    "                mode = 'a'\n",
    "        \n",
    "        count = save(filename, mode, studentdata) # this function does not exist yet!\n",
    "        print(f'{count} records saved.')\n",
    "\n",
    "    elif option == '5': # quit\n",
    "        quit = True\n",
    "    \n",
    "    else:\n",
    "        print('Invalid option.')"
   ]
  },
  {
   "cell_type": "code",
   "execution_count": null,
   "metadata": {},
   "outputs": [],
   "source": [
    "studentdata"
   ]
  },
  {
   "cell_type": "markdown",
   "metadata": {
    "nbgrader": {
     "cell_type": "markdown",
     "checksum": "f3922b6382e7799a5212d4c7a3394606",
     "grade": false,
     "grade_id": "cell-4481af5ad3a2d202",
     "locked": true,
     "schema_version": 3,
     "solution": false,
     "task": false
    }
   },
   "source": [
    "## `datetime` module\n",
    "\n",
    "The `datetime` module contains functions for working with date and time. The `now()` function from this module gives you the current date and time.\n",
    "\n",
    "The date is given in `YYYY-MM-DD` format, while the time is given in `HH:MM:SS.ms` format (where ms is the time with milliseconds)."
   ]
  },
  {
   "cell_type": "code",
   "execution_count": null,
   "metadata": {},
   "outputs": [],
   "source": [
    "import datetime\n",
    "\n",
    "datetime_obj = datetime.datetime.now()\n",
    "print(datetime_obj)\n",
    "print(f'Type: {type(datetime_obj)}')"
   ]
  },
  {
   "cell_type": "markdown",
   "metadata": {
    "nbgrader": {
     "cell_type": "markdown",
     "checksum": "9b4dd28f87e021df184f0248313e12f1",
     "grade": false,
     "grade_id": "cell-629c42ee5a065273",
     "locked": true,
     "schema_version": 3,
     "solution": false,
     "task": false
    }
   },
   "source": [
    "The `now()` function does not return a list, but a `datetime` object. To get specific parts of the datetime, you need to use the methods associated with this object.\n",
    "\n",
    "(Methods will be explained in greater detail in Object-Oriented Programming.)\n",
    "\n",
    "**Task 3**\n",
    "\n",
    "Using the helper functions `dir()` and `help()`, figure out which methods will give you the\n",
    "\n",
    "- year\n",
    "- month\n",
    "- day\n",
    "- hour\n",
    "- minute\n",
    "- second"
   ]
  },
  {
   "cell_type": "code",
   "execution_count": null,
   "metadata": {
    "nbgrader": {
     "cell_type": "code",
     "checksum": "c61f4151aae8139408b9b93be552d629",
     "grade": true,
     "grade_id": "cell-ddf5317228eab8c9",
     "locked": false,
     "points": 1,
     "schema_version": 3,
     "solution": true,
     "task": false
    }
   },
   "outputs": [],
   "source": [
    "# Write code here to examine the datetime object and its methods\n",
    "\n"
   ]
  },
  {
   "cell_type": "markdown",
   "metadata": {
    "nbgrader": {
     "cell_type": "markdown",
     "checksum": "db438dfffe455ba48d6c22fb0cb88c87",
     "grade": false,
     "grade_id": "cell-a516ac6253f158c3",
     "locked": true,
     "schema_version": 3,
     "solution": false,
     "task": false
    }
   },
   "source": [
    "## Clock with a `while` loop\n",
    "\n",
    "Let's try to write a simple clock program that prints the time once every second. To prevent the clock running forever, we will use a simple condition that stops the clock after 10 seconds."
   ]
  },
  {
   "cell_type": "code",
   "execution_count": null,
   "metadata": {},
   "outputs": [],
   "source": [
    "import datetime\n",
    "\n",
    "timer = 0\n",
    "while timer < 10:\n",
    "    print(datetime.datetime.now())\n",
    "    timer += 1"
   ]
  },
  {
   "cell_type": "markdown",
   "metadata": {
    "nbgrader": {
     "cell_type": "markdown",
     "checksum": "786ccbb9d76a8659ae54c33986887bba",
     "grade": false,
     "grade_id": "cell-4480de7202fecfd2",
     "locked": true,
     "schema_version": 3,
     "solution": false,
     "task": false
    }
   },
   "source": [
    "... oops, that didn't quite work as intended.\n",
    "\n",
    "## Exercise 4\n",
    "\n",
    "Modify the code in the code cell below so that it works as intended.\n",
    "\n",
    "**Hint:** If you are working with time, you may need functions from the `time` module\n",
    "\n",
    "### Expected output\n",
    "\n",
    "    2020-02-11 12:35:17.003265\n",
    "    2020-02-11 12:35:18.005189\n",
    "    2020-02-11 12:35:19.005404\n",
    "    2020-02-11 12:35:20.006884\n",
    "    2020-02-11 12:35:21.007330\n",
    "    2020-02-11 12:35:22.007835\n",
    "    2020-02-11 12:35:23.009908\n",
    "    2020-02-11 12:35:24.010524\n",
    "    2020-02-11 12:35:25.011457\n",
    "    2020-02-11 12:35:26.011538"
   ]
  },
  {
   "cell_type": "code",
   "execution_count": null,
   "metadata": {
    "nbgrader": {
     "cell_type": "code",
     "checksum": "d5ff9b604f59b9f59f7a1aceb23565d8",
     "grade": true,
     "grade_id": "cell-db2ecebf2af93523",
     "locked": false,
     "points": 1,
     "schema_version": 3,
     "solution": true,
     "task": false
    }
   },
   "outputs": [],
   "source": [
    "import datetime\n",
    "\n",
    "## Modify the code below so that it prints the time once every 10 seconds (and stops after 10 seconds)\n",
    "timer = 0\n",
    "while timer < 10:\n",
    "    print(datetime.datetime.now())\n",
    "    timer += 1\n",
    "    "
   ]
  },
  {
   "cell_type": "markdown",
   "metadata": {
    "nbgrader": {
     "cell_type": "markdown",
     "checksum": "a76a8a9a922968d6f2ddd8808543dcfe",
     "grade": false,
     "grade_id": "cell-ce2e045ea2fedb03",
     "locked": true,
     "schema_version": 3,
     "solution": false,
     "task": false
    }
   },
   "source": [
    "## Clock on a single line\n",
    "\n",
    "It would be ridiculous if your digital clock printed the time on a new line each time it updates ... no digital clock does that, right?\n",
    "\n",
    "The `print()` function adds the newline (`'\\n'`), what can we do to stop it doing that? How would we make our program update the current line instead of printing on a new line?\n",
    "\n",
    "### Keyword arguments\n",
    "\n",
    "We need to provide it with a **keyword argument**. You have learnt how to pass \"normal\" arguments to functions; these are known as **positional arguments** since the order of arguments matters. **Keyword arguments** can be provided in any order since they are identified by name and not by position.\n",
    "\n",
    "To make the `print()` function **not** add a new line, we give it the `end=''` keyword argument. This makes it end with an empty string instead of ending with `'\\n'`.\n",
    "\n",
    "Run the code cell below to see this in action:"
   ]
  },
  {
   "cell_type": "code",
   "execution_count": null,
   "metadata": {},
   "outputs": [],
   "source": [
    "# Print time output on a single line\n",
    "import time\n",
    "print(datetime.datetime.now(), end='')\n",
    "time.sleep(1)\n",
    "print(datetime.datetime.now(), end='')\n",
    "time.sleep(1)\n",
    "print(datetime.datetime.now(), end='')\n",
    "time.sleep(1)\n",
    "print(datetime.datetime.now(), end='')\n",
    "time.sleep(1)\n",
    "print(datetime.datetime.now(), end='')"
   ]
  },
  {
   "cell_type": "markdown",
   "metadata": {
    "nbgrader": {
     "cell_type": "markdown",
     "checksum": "5683418fe23a221e3e32db231e91b768",
     "grade": false,
     "grade_id": "cell-2c35158e19010036",
     "locked": true,
     "schema_version": 3,
     "solution": false,
     "task": false
    }
   },
   "source": [
    "Better ... but now everything is one long string. We need to make each new `datetime.datetime.now()` print at the start of the line instead of continuing from the end; we need to **return the cursor** to the start of the line.\n",
    "\n",
    "The special character that tells the program to do so is known as a **carriage return**, represented as `'\\r'`. Let's make the `print()` end with a carriage return:"
   ]
  },
  {
   "cell_type": "code",
   "execution_count": null,
   "metadata": {},
   "outputs": [],
   "source": [
    "# Print time output in the same place each time\n",
    "import datetime, time\n",
    "print(datetime.datetime.now(), end='\\r')\n",
    "time.sleep(1)\n",
    "print(datetime.datetime.now(), end='\\r')\n",
    "time.sleep(1)\n",
    "print(datetime.datetime.now(), end='\\r')\n",
    "time.sleep(1)\n",
    "print(datetime.datetime.now(), end='\\r')\n",
    "time.sleep(1)\n",
    "print(datetime.datetime.now(), end='\\r')"
   ]
  },
  {
   "cell_type": "markdown",
   "metadata": {
    "nbgrader": {
     "cell_type": "markdown",
     "checksum": "63ed91a5129a5700794d6debcb40c880",
     "grade": false,
     "grade_id": "cell-4ece1471489d7a89",
     "locked": true,
     "schema_version": 3,
     "solution": false,
     "task": false
    }
   },
   "source": [
    "Other functions from standard libraries have keyword arguments that modify their behaviour as well. You will learn about them in future lessons, or you can also look up the use of these functions online to find out what keyword arguments are available."
   ]
  },
  {
   "cell_type": "markdown",
   "metadata": {
    "nbgrader": {
     "cell_type": "markdown",
     "checksum": "c8757fd477c33b3e389e5a6bd7a9ff94",
     "grade": false,
     "grade_id": "cell-1dd5f3ae321a0cf8",
     "locked": true,
     "schema_version": 3,
     "solution": false,
     "task": false
    }
   },
   "source": [
    "## Default parameter values\n",
    "\n",
    "A function cannot be called unless all its positional arguments are provided. Attempting to call a function without providing values for all positional arguments will raise a `TypeError`."
   ]
  },
  {
   "cell_type": "code",
   "execution_count": null,
   "metadata": {},
   "outputs": [],
   "source": [
    "def function_a(arg_a, arg_b):\n",
    "    print(f'a: {arg_a}')\n",
    "    print(f'b: {arg_b}')\n",
    "    \n",
    "function_a()"
   ]
  },
  {
   "cell_type": "markdown",
   "metadata": {
    "nbgrader": {
     "cell_type": "markdown",
     "checksum": "9cd83b0396cf46b292efc59ea1410250",
     "grade": false,
     "grade_id": "cell-1c86d7b7afb9c178",
     "locked": true,
     "schema_version": 3,
     "solution": false,
     "task": false
    }
   },
   "source": [
    "You can provide a default value to positional arguments in the function definition. If that value is not provided as an argument, the default value is assigned:"
   ]
  },
  {
   "cell_type": "code",
   "execution_count": null,
   "metadata": {},
   "outputs": [],
   "source": [
    "# The default value of arg_a is 'a'\n",
    "# The default value of arg_b is 'b'\n",
    "def function_a(arg_a='a', arg_b='b'):\n",
    "    print(f'a: {arg_a}')\n",
    "    print(f'b: {arg_b}')\n",
    "    \n",
    "function_a()"
   ]
  },
  {
   "cell_type": "markdown",
   "metadata": {
    "nbgrader": {
     "cell_type": "markdown",
     "checksum": "193ca40d524db78675f1bd25bd0b3a04",
     "grade": false,
     "grade_id": "cell-c637f33c74a96f91",
     "locked": true,
     "schema_version": 3,
     "solution": false,
     "task": false
    }
   },
   "source": [
    "You can have a mix of arguments with default values and without default values, but arguments with default values **must follow after** arguments without default values:"
   ]
  },
  {
   "cell_type": "code",
   "execution_count": null,
   "metadata": {},
   "outputs": [],
   "source": [
    "# arg_a has no default value; a value must be provided\n",
    "# The default value of arg_b is 'b'\n",
    "def function_a(arg_a, arg_b='b'):\n",
    "    print(f'a: {arg_a}')\n",
    "    print(f'b: {arg_b}')\n",
    "    \n",
    "function_a('a')"
   ]
  },
  {
   "cell_type": "markdown",
   "metadata": {
    "nbgrader": {
     "cell_type": "markdown",
     "checksum": "ddae841a23735cc39d0f2911e46588a6",
     "grade": false,
     "grade_id": "cell-f763e36758dfff4e",
     "locked": true,
     "schema_version": 3,
     "solution": false,
     "task": false
    }
   },
   "source": [
    "Attempting to put arguments with default values before those without default values will raise a `SyntaxError`:"
   ]
  },
  {
   "cell_type": "code",
   "execution_count": null,
   "metadata": {},
   "outputs": [],
   "source": [
    "# The default value of arg_a is 'a'\n",
    "# arg_b has no default value; a value must be provided\n",
    "def function_a(arg_a='a', arg_b):\n",
    "    print(f'a: {arg_a}')\n",
    "    print(f'b: {arg_b}')\n",
    "    \n",
    "function_a('b')"
   ]
  }
 ],
 "metadata": {
  "kernelspec": {
   "display_name": "Python 3 (ipykernel)",
   "language": "python",
   "name": "python3"
  },
  "language_info": {
   "codemirror_mode": {
    "name": "ipython",
    "version": 3
   },
   "file_extension": ".py",
   "mimetype": "text/x-python",
   "name": "python",
   "nbconvert_exporter": "python",
   "pygments_lexer": "ipython3",
   "version": "3.8.12"
  }
 },
 "nbformat": 4,
 "nbformat_minor": 4
}
