{
 "cells": [
  {
   "cell_type": "markdown",
   "metadata": {},
   "source": [
    "## 1-minute introduction to Jupyter ##\n",
    "\n",
    "A Jupyter notebook consists of cells. Each cell contains either text or code.\n",
    "\n",
    "A text cell will not have any text to the left of the cell. A code cell has `In [ ]:` to the left of the cell.\n",
    "\n",
    "If the cell contains code, you can edit it. Press <kbd>Enter</kbd> to edit the selected cell. While editing the code, press <kbd>Enter</kbd> to create a new line, or <kbd>Shift</kbd>+<kbd>Enter</kbd> to run the code. If you are not editing the code, select a cell and press <kbd>Ctrl</kbd>+<kbd>Enter</kbd> to run the code."
   ]
  },
  {
   "cell_type": "markdown",
   "metadata": {
    "nbgrader": {
     "cell_type": "markdown",
     "checksum": "b7eb1f49ab4e88020528762f6d6d13b4",
     "grade": false,
     "grade_id": "cell-5aa7a23f6944360a",
     "locked": true,
     "schema_version": 3,
     "solution": false,
     "task": false
    }
   },
   "source": [
    "# Lesson 3: Decision-making and branching; advanced formatting\n",
    "\n",
    "In lesson 2, we looked at basic things that Python can do to single objects. Often, we need to process things in different ways depending on what conditions are met. Let's look at how to write code that can do condition checks.\n",
    "\n",
    "Code that carries out condition checks is usually written such that it only produces two possible results: `True` or `False` (See [Lesson 1: Python booleans](lesson_01.ipynb#Python-booleans) for a refresher)."
   ]
  },
  {
   "cell_type": "markdown",
   "metadata": {
    "nbgrader": {
     "cell_type": "markdown",
     "checksum": "5c4e6cd103f87dceb3a269d22dc36c49",
     "grade": false,
     "grade_id": "cell-63440547734d3af4",
     "locked": true,
     "schema_version": 3,
     "solution": false,
     "task": false
    }
   },
   "source": [
    "## Python string checking methods\n",
    "\n",
    "The following methods check if a string fulfils certain criteria:\n",
    "\n",
    "- `isalpha()` checks if a string consists entirely of letters (upper or lowercase).\n",
    "- `isdigit()` checks if a string consists entirely of digits.\n",
    "- `islower()` checks if a string consists entirely of lowercase letters.\n",
    "- `isupper()` checks if a string consists entirely of uppercase letters.\n",
    "- `startswith()` checks if a string begins with a given sequence of letters.\n",
    "- `endswith()` checks if a string ends with a given sequence of letters.\n",
    "\n",
    "The methods return a value of `True` if the criteria is fulfilled, and `False` if the criteria is not fulfilled.\n",
    "\n",
    "Run the code cell to see how to use these methods.\n",
    "\n",
    "Note that no variable is required for the first 4 methods, while a string variable is required for the last 2 methods. `startswith()` and `endswith()` are also case-sensitive. You can use the `help()` function ([Lesson 2](lesson_02.ipynb)) to check how to use these methods."
   ]
  },
  {
   "cell_type": "code",
   "execution_count": null,
   "metadata": {},
   "outputs": [],
   "source": [
    "string = 'Stringofcharacters'\n",
    "print('string is entirely letters:', string.isalpha())\n",
    "string = 'Stringofcharacters'\n",
    "print('string is entirely digits:', string.isdigit())\n",
    "string = 'Stringofcharacters'\n",
    "print('string is entirely lowercase:', string.islower())\n",
    "string = 'Stringofcharacters'\n",
    "print('string is entirely uppercase:', string.isupper())\n",
    "string = 'Stringofcharacters'\n",
    "print('string starts with \"s\":', string.startswith('s'))\n",
    "string = 'Stringofcharacters'\n",
    "print('string ends with \"s\":', string.endswith('s'))"
   ]
  },
  {
   "cell_type": "markdown",
   "metadata": {
    "nbgrader": {
     "cell_type": "markdown",
     "checksum": "31265db908d33d26fb04fb56e7383f07",
     "grade": false,
     "grade_id": "cell-c76eac99307fc56b",
     "locked": true,
     "schema_version": 3,
     "solution": false,
     "task": false
    }
   },
   "source": [
    "## `if`, `elif`, and `else`\n",
    "\n",
    "### The `if` keyword\n",
    "\n",
    "The `if` keyword is used to set up code that runs if the condition is `True`, and another set of code that runs if the condition is `False`."
   ]
  },
  {
   "cell_type": "markdown",
   "metadata": {
    "nbgrader": {
     "cell_type": "markdown",
     "checksum": "f58747be87d7377c7d39be3d0478d784",
     "grade": false,
     "grade_id": "cell-484567dfadee47cb",
     "locked": true,
     "schema_version": 3,
     "solution": false,
     "task": false
    }
   },
   "source": [
    "**Task 1: Checking for valid `float`**\n",
    "\n",
    "The `isdigit()` method is unable to check if a string can be converted into a `float`.\n",
    "\n",
    "```\n",
    ">>> num = '1.0'\n",
    ">>> num.isdigit()\n",
    "False\n",
    "```\n",
    "\n",
    "Let's try to write some code to check if a string can be converted to a float.\n",
    "\n",
    "By replacing the underscores(`_____`) with string slicing and the string methods you have learnt in Lesson 2 and above, complete the code below to:\n",
    "\n",
    "1. ask the user to enter a decimal number,\n",
    "2. check if the part of the number before the decimal is valid,\n",
    "3. check if the part of the number after the decimal is valid."
   ]
  },
  {
   "cell_type": "code",
   "execution_count": null,
   "metadata": {
    "nbgrader": {
     "cell_type": "code",
     "checksum": "83cc97f0eb6f3aeb880bdc7acb36f216",
     "grade": true,
     "grade_id": "cell-f35d7353a2d341d3",
     "locked": false,
     "points": 1,
     "schema_version": 3,
     "solution": true,
     "task": false
    }
   },
   "outputs": [],
   "source": [
    "num = input('Enter a valid decimal number: ')\n",
    "\n",
    "# Step 1: Identify the position of the decimal place\n",
    "decimal_pos = num.find('.')\n",
    "\n",
    "# Step 2: Check that the portion of the string before the decimal consists only of digits\n",
    "if _____[:decimal_pos].isdigit():\n",
    "    print('the portion of the string before the decimal is valid.')\n",
    "\n",
    "# Step 3: Check that the portion of the string after the decimal consists only of digits\n",
    "if num[_____:].isdigit():\n",
    "    print('the portion of the string after the decimal is valid.')\n"
   ]
  },
  {
   "cell_type": "code",
   "execution_count": null,
   "metadata": {},
   "outputs": [],
   "source": [
    "choice = input('Yes or no? ')\n",
    "if choice != '':\n",
    "    print('1')\n",
    "else:\n",
    "    print('not 1')"
   ]
  },
  {
   "cell_type": "markdown",
   "metadata": {
    "nbgrader": {
     "cell_type": "markdown",
     "checksum": "ae388b162371fb6b8fff37136f445fbd",
     "grade": false,
     "grade_id": "cell-771e30dbe416f88e",
     "locked": true,
     "schema_version": 3,
     "solution": false,
     "task": false
    }
   },
   "source": [
    "Look at your code for Steps 2 and 3. Can you see how string-slicing is much cleaner when the last index is excluded?"
   ]
  },
  {
   "cell_type": "markdown",
   "metadata": {
    "nbgrader": {
     "cell_type": "markdown",
     "checksum": "cb27f7920cb38477a8ea9e5aead2428f",
     "grade": false,
     "grade_id": "cell-0582021f15b94ef5",
     "locked": true,
     "schema_version": 3,
     "solution": false,
     "task": false
    }
   },
   "source": [
    "### `if` statement features\n",
    "\n",
    "Notice that:\n",
    "\n",
    "1. A line starting with the `if` keyword (let's call this an `if` statement) must end with a colon (`:`).\n",
    "2. The code to be run if the condition is `True` must be indented from the `if` statement. In other words, it must be aligned 4 spaces to the right of the `if` statement. By convention, we use an indentation of 4 spaces (no tabs)."
   ]
  },
  {
   "cell_type": "markdown",
   "metadata": {
    "nbgrader": {
     "cell_type": "markdown",
     "checksum": "71d82321ea0884b737fd9b7e88d42d3b",
     "grade": false,
     "grade_id": "cell-3bef8d507cc46946",
     "locked": true,
     "schema_version": 3,
     "solution": false,
     "task": false
    }
   },
   "source": [
    "### The `else` keyword\n",
    "\n",
    "What if we want to run another set of code when the condition is not `True`? We use the `else` keyword.\n",
    "\n",
    "**Task 2: Validating NRIC**\n",
    "\n",
    "Complete the code below by replacing the underscores (`_____`) with string slices to extract different parts of the NRIC so that validation checks can be carried out on them."
   ]
  },
  {
   "cell_type": "code",
   "execution_count": null,
   "metadata": {
    "nbgrader": {
     "cell_type": "code",
     "checksum": "b9b5f0b2418579d6f8b3ace185807482",
     "grade": true,
     "grade_id": "cell-a11a5de23309da2a",
     "locked": false,
     "points": 1,
     "schema_version": 3,
     "solution": true,
     "task": false
    }
   },
   "outputs": [],
   "source": [
    "nric = 'S1234567@' #Do not change this line\n",
    "\n",
    "prefix = nric[_____] #The prefix is the letter before the digits\n",
    "if prefix.isalpha():\n",
    "    print('Prefix letter is valid.')\n",
    "else:\n",
    "    print('Prefix letter is invalid.')\n",
    "    \n",
    "digits = nric[_____]\n",
    "if digits.isdigit():\n",
    "    print('Digits are valid.')\n",
    "else:\n",
    "    print('Digits are invalid.')\n",
    "    \n",
    "suffix = nric[_____] #The suffix is the letter after the digits\n",
    "if suffix.isalpha():\n",
    "    print('Suffix letter is valid.')\n",
    "else:\n",
    "    print('Suffix letter is invalid.')\n"
   ]
  },
  {
   "cell_type": "markdown",
   "metadata": {
    "nbgrader": {
     "cell_type": "markdown",
     "checksum": "cd79ed8b7303e14b576140ff7ff36ca2",
     "grade": false,
     "grade_id": "cell-35558527b9188f64",
     "locked": true,
     "schema_version": 3,
     "solution": false,
     "task": false
    }
   },
   "source": [
    "### `else` keyword features\n",
    "Notice that:\n",
    "\n",
    "1. The `else` keyword is not indented, but is aligned with the `if` keyword.\n",
    "2. The else statement is also terminated with a colon (`:`) without any conditional expression.\n",
    "3. The code to be invoked if the condition is `False` is placed below the `else` keyword, and indented.\n",
    "\n",
    "What if we need to check multiple conditions? We could write the code like this:\n",
    "\n",
    "*(You may wish to review [Lesson 1: Comparators](lesson_01.ipynb#Python-comparators) if you cannot remember what the comparator operators do.)*"
   ]
  },
  {
   "cell_type": "code",
   "execution_count": null,
   "metadata": {},
   "outputs": [],
   "source": [
    "#These variables have the same values as the code above.\n",
    "prefix = 'S'\n",
    "digits = '1234567'\n",
    "suffix = '@'\n",
    "\n",
    "if len(prefix) != 1:\n",
    "    print('Wrong prefix length.')\n",
    "else:\n",
    "    if prefix.isalpha():\n",
    "        print('Prefix letter is valid.')\n",
    "    else:\n",
    "        print('Prefix letter is invalid.')\n",
    "    \n",
    "if len(digits) != 7:\n",
    "    print('Wrong number of digits.')\n",
    "else:\n",
    "    if digits.isdigit():\n",
    "        print('Digits are valid.')\n",
    "    else:\n",
    "        print('Digits are invalid.')\n",
    "    \n",
    "if len(prefix) != 1:\n",
    "    print('Wrong suffix length.')\n",
    "else:\n",
    "    if suffix.isalpha():\n",
    "        print('Suffix letter is valid.')\n",
    "    else:\n",
    "        print('Suffix letter is invalid.')"
   ]
  },
  {
   "cell_type": "markdown",
   "metadata": {
    "nbgrader": {
     "cell_type": "markdown",
     "checksum": "33c16d83890eda36e58c6ee4631a4fbc",
     "grade": false,
     "grade_id": "cell-06b11a279a92bab8",
     "locked": true,
     "schema_version": 3,
     "solution": false,
     "task": false
    }
   },
   "source": [
    "Pay close attention to the indentation! The variables `prefix`, `digits`, and `suffix` each go through two sets of checks. The second set of checks is indented rightwards relative to the `else` keyword, because it *only runs if the condition is `False`*.\n",
    "\n",
    "The first check ensures they have valid length: `prefix` should have **one** letter, `digits` should have **seven** digits, and `suffix` should be **one** letter only. If this check fails, we do not need to waste time checking the validity of letters/digits and can proceed to print an error message.\n",
    "\n",
    "If the first check passes, *then* we move on to carry out the second check for validity of letters/digits.\n",
    "\n",
    "For validation code which has to carry out multiple layers of checks, this can make the code look really complicated when it has multiple layers of indentation. To help us write cleaner code, the Python programming language introduced another keyword: `elif`."
   ]
  },
  {
   "cell_type": "markdown",
   "metadata": {
    "nbgrader": {
     "cell_type": "markdown",
     "checksum": "09ffb343b224d4133ce513af8d09c0ed",
     "grade": false,
     "grade_id": "cell-923c5bee8ffe5d89",
     "locked": true,
     "schema_version": 3,
     "solution": false,
     "task": false
    }
   },
   "source": [
    "### The `elif` keyword\n",
    "\n",
    "The code in the above cell is equivalent to the following code:"
   ]
  },
  {
   "cell_type": "code",
   "execution_count": null,
   "metadata": {},
   "outputs": [],
   "source": [
    "#These variables have the same values as the code above.\n",
    "prefix = 'S'\n",
    "digits = '1234567'\n",
    "suffix = '@'\n",
    "\n",
    "if len(prefix) != 1:\n",
    "    print('Wrong prefix length.')\n",
    "elif prefix.isalpha():\n",
    "    print('Prefix letter is valid.')\n",
    "else:\n",
    "    print('Prefix letter is invalid.')\n",
    "    \n",
    "if len(digits) != 7:\n",
    "    print('Wrong number of digits.')\n",
    "elif digits.isdigit():\n",
    "    print('Digits are valid.')\n",
    "else:\n",
    "    print('Digits are invalid.')\n",
    "    \n",
    "if len(prefix) != 1:\n",
    "    print('Wrong suffix length.')\n",
    "elif suffix.isalpha():\n",
    "    print('Suffix letter is valid.')\n",
    "else:\n",
    "    print('Suffix letter is invalid.')"
   ]
  },
  {
   "cell_type": "markdown",
   "metadata": {
    "nbgrader": {
     "cell_type": "markdown",
     "checksum": "c090ab4cb53451e0cb2071e547240911",
     "grade": false,
     "grade_id": "cell-1dbd4574f5040146",
     "locked": true,
     "schema_version": 3,
     "solution": false,
     "task": false
    }
   },
   "source": [
    "The `elif` keyword functions like an `else .. if` construct.\n",
    "\n",
    "The condition in the `if` statement is evaluated first.\n",
    " - if the condition is `True`, the indented code is executed.  \n",
    "   The procedure *skips the rest* of the `if .. elif .. else` code.\n",
    " - if the condition is `False`:, the indented code is not executed.  \n",
    "   The procedure *skips to the next* `elif` statement:\n",
    "   - if the `elif` condition is `True`, the indented code below `elif` is executed.  \n",
    "     The procedure *skips the rest* of the `if .. elif .. else` code.\n",
    "   - if the `elif` condition is `False`, the indented code is not executed.  \n",
    "     The procedure *skips to the* `else` statement (since there are no more `elif` statements):\n",
    "     - the indented code below `else` is executed **only if all** the `if` and `elif` conditions above it evaluate to `False`.\n",
    "  "
   ]
  },
  {
   "cell_type": "markdown",
   "metadata": {
    "nbgrader": {
     "cell_type": "markdown",
     "checksum": "bb771c1ea7605633e4465327afd902c0",
     "grade": false,
     "grade_id": "cell-7c8365af63dc7c9e",
     "locked": true,
     "schema_version": 3,
     "solution": false,
     "task": false
    }
   },
   "source": [
    "## The `in` keyword (membership operator)\n",
    "\n",
    "The `in` keyword can be used to check if a character is in a string. It also has other uses, which we will see again in [Lesson 4](lesson_04.ipynb) on lists.\n",
    "\n",
    "Try the following expressions line by line in the code cell below:\n",
    "\n",
    "1. `'a' in 'alphabet'` (This evaluates to `True`.)\n",
    "2. `0 in 1234567890` (`in` does not work for integers, nor for floats)\n",
    "3. `'15' in '1234567890'` (`in` checks if the first item is a substring of the second item. This is similar to the string method `find()`, but different from the string methods `lstrip()`, `rstrip()`, and `strip()`.)"
   ]
  },
  {
   "cell_type": "code",
   "execution_count": null,
   "metadata": {},
   "outputs": [],
   "source": [
    "# '1234567890'.find('12')\n",
    "'1234567890'.find('21')"
   ]
  },
  {
   "cell_type": "code",
   "execution_count": null,
   "metadata": {},
   "outputs": [],
   "source": [
    "# Try the above code here\n",
    "'123' in '1234567890'\n"
   ]
  },
  {
   "cell_type": "markdown",
   "metadata": {
    "nbgrader": {
     "cell_type": "markdown",
     "checksum": "5f6a60844a3b53f34021642a78895f27",
     "grade": false,
     "grade_id": "cell-d08c02397b46c729",
     "locked": true,
     "schema_version": 3,
     "solution": false,
     "task": false
    }
   },
   "source": [
    "## Exercise 1: Number-checking, revisited\n",
    "\n",
    "Complete the code cell below by replacing the underscores (`_____`) with appropriate strings, conditions, or methods.\n",
    "\n",
    "Use the `if .. elif .. else` construct, and any necessary functions or methods, to:\n",
    "\n",
    "1. ask the user to enter a number (which may be valid or invalid),\n",
    "2. check if the input is one of the following:\n",
    "   - integer\n",
    "   - float\n",
    "   - none of the above\n",
    "3. print the result of the check. The printed string should be one of the following:\n",
    "   - \"This is a `_____`\" if the result is an `int` or `float`\n",
    "   - \"This is not a valid number\" if the result is none of the above\n",
    "  "
   ]
  },
  {
   "cell_type": "code",
   "execution_count": null,
   "metadata": {
    "nbgrader": {
     "cell_type": "code",
     "checksum": "46f5918c66afc0cf760ec47d5b7d02af",
     "grade": true,
     "grade_id": "cell-8cb74770f4600cd7",
     "locked": false,
     "points": 2,
     "schema_version": 3,
     "solution": true,
     "task": false
    }
   },
   "outputs": [],
   "source": [
    "num_str = input('Enter a decimal number to be checked for validity: ')\n",
    "#Write your code below. Watch out for indentation.\n",
    "\n",
    "#1. Check if number is a valid integer\n",
    "if _____:\n",
    "    print('This is an integer.')\n",
    "    \n",
    "#2. If not an integer, check if string has any decimals (.)\n",
    "_____ '.' in num_str:\n",
    "    \n",
    "    #3. If string has decimals, verify that it has only one decimal:\n",
    "    ##Hint: Use dir() and help() to find out how to invoke the count()\n",
    "    ##string method\n",
    "    if _____:\n",
    "        print('This is a float.')\n",
    "        \n",
    "    #4. What is this line for?\n",
    "    else:\n",
    "        print(_____)\n",
    "#5. If checks 1, 2, and 3 fail, this is not a valid number\n",
    "else:\n",
    "    print(_____)\n"
   ]
  },
  {
   "cell_type": "markdown",
   "metadata": {
    "nbgrader": {
     "cell_type": "markdown",
     "checksum": "241ec72887fb083c85cdde38eb60ca6b",
     "grade": false,
     "grade_id": "cell-f9aa03bbb9cadeb2",
     "locked": true,
     "schema_version": 3,
     "solution": false,
     "task": false
    }
   },
   "source": [
    "Q1: What happens if we remove line #4?"
   ]
  },
  {
   "cell_type": "markdown",
   "metadata": {},
   "source": [
    "A1: Nothing happens when the input is neither a valid integer or float."
   ]
  },
  {
   "cell_type": "markdown",
   "metadata": {
    "nbgrader": {
     "cell_type": "markdown",
     "checksum": "fc51364103bf419eb0d2af316088bc91",
     "grade": false,
     "grade_id": "cell-96bc76c3184f6762",
     "locked": true,
     "schema_version": 3,
     "solution": false,
     "task": false
    }
   },
   "source": [
    "## Checking for multiple conditions with boolean operators\n",
    "\n",
    "Revisit [Python booleans in Lesson 1](lesson_01.ipynb#Python-booleans) for a refresher.\n",
    "\n",
    "Each condition used with `if` or `elif` above returns only one result: `True` or `False`. When we needed to check multiple conditions, we used a **nested `if`** statement (e.g. to check that it has at least 1 decimal, **and then check** that it has only one decimal.) These nested `if` statements are nested within the outer `if` block; they are indented relative to the outer `if` block.\n",
    "\n",
    "In other programming languages, as well as Python, we can chain multiple conditions together using **boolean logic**. In boolean logic, we use 3 additional operator keywords to join conditions together:\n",
    "\n",
    "- The `and` keyword returns a result of `True` only if both conditions are `True`.\n",
    "\n",
    "  ```\n",
    "  >>> True and True\n",
    "  True\n",
    "  >>> True and False\n",
    "  False\n",
    "  >>> False and False\n",
    "  False\n",
    "  ```\n",
    "- The `or` keyword returns a result of `True` if either condition is `True`.\n",
    "\n",
    "  ```\n",
    "  >>> True or True\n",
    "  True\n",
    "  >>> True or False\n",
    "  True\n",
    "  >>> False or False\n",
    "  False\n",
    "  ```\n",
    "- The `not` keyword reverses the condition.\n",
    "\n",
    "  ```\n",
    "  >>> not True\n",
    "  False\n",
    "  >>> not False\n",
    "  True\n",
    "  ```"
   ]
  },
  {
   "cell_type": "markdown",
   "metadata": {
    "nbgrader": {
     "cell_type": "markdown",
     "checksum": "45f5a453401f588f535adfe81d0c72cd",
     "grade": false,
     "grade_id": "cell-70e70742d6ffdf6e",
     "locked": true,
     "schema_version": 3,
     "solution": false,
     "task": false
    }
   },
   "source": [
    "## Exercise 1, revisited\n",
    "\n",
    "Simplify the code in Exercise 1 using boolean operators.\n",
    "\n",
    "Complete the code cell below by replacing the underscores (`_____`) with appropriate strings, conditions, or methods."
   ]
  },
  {
   "cell_type": "code",
   "execution_count": null,
   "metadata": {
    "nbgrader": {
     "cell_type": "code",
     "checksum": "5334956de83ec40ece31bdb9b54ef5a4",
     "grade": true,
     "grade_id": "cell-8c38f6add682e9de",
     "locked": false,
     "points": 1,
     "schema_version": 3,
     "solution": true,
     "task": false
    }
   },
   "outputs": [],
   "source": [
    "num_str = '1.2a'\n",
    "\n",
    "if num_str.isdigit():\n",
    "    print('This is an integer.')\n",
    "    \n",
    "#2. If not an integer, check if string has any decimals (.)\n",
    "#   and if it has only one decimal.\n",
    "elif ('.' in num_str) _____ num_str.count('.') == _____:\n",
    "    print('This is a float.')\n",
    "\n",
    "#3. If checks 1 and 2 fail, this is not a valid number\n",
    "else:\n",
    "    print('This is not a valid number.')\n"
   ]
  },
  {
   "cell_type": "markdown",
   "metadata": {
    "nbgrader": {
     "cell_type": "markdown",
     "checksum": "a1df1c4052b3169fea0eea3d484cdb00",
     "grade": false,
     "grade_id": "cell-06595914d7a399c3",
     "locked": true,
     "schema_version": 3,
     "solution": false,
     "task": false
    }
   },
   "source": [
    "We can save ourselves from writing a lot of error-printing code if we combine checks smartly!"
   ]
  },
  {
   "cell_type": "markdown",
   "metadata": {
    "nbgrader": {
     "cell_type": "markdown",
     "checksum": "07a144c6c6b8d68e5268cdd10e3d593d",
     "grade": false,
     "grade_id": "cell-3159bc878a068fb2",
     "locked": true,
     "schema_version": 3,
     "solution": false,
     "task": false
    }
   },
   "source": [
    "## Grouping boolean logic comparators\n",
    "\n",
    "We can also chain three or more boolean conditions using boolean operators. The conditions are evaluated pair by pair, from left to right:\n",
    "\n",
    "  ```\n",
    "  >>> True or True\n",
    "  True\n",
    "  >>> True or True and False\n",
    "  True\n",
    "  ```\n",
    "  \n",
    "You can control the order in which the pairs are evaluated using parentheses:\n",
    "  \n",
    "  ```\n",
    "  >>> (True or True) and False\n",
    "  False\n",
    "  ```\n",
    "\n",
    "Try it yourself below:"
   ]
  },
  {
   "cell_type": "code",
   "execution_count": null,
   "metadata": {},
   "outputs": [],
   "source": [
    "True or True and False"
   ]
  },
  {
   "cell_type": "code",
   "execution_count": null,
   "metadata": {},
   "outputs": [],
   "source": [
    "# Try your code here\n",
    "\n",
    "True or True"
   ]
  },
  {
   "cell_type": "markdown",
   "metadata": {
    "nbgrader": {
     "cell_type": "markdown",
     "checksum": "89e5d0de3af3c6aa88daa0ff30a055ed",
     "grade": false,
     "grade_id": "cell-9be7ac7838e19b17",
     "locked": true,
     "schema_version": 3,
     "solution": false,
     "task": false
    }
   },
   "source": [
    "## Boolean logic with non-boolean data types\n",
    "\n",
    "Remember that the boolean values `True` and `False` can also be converted to other types, or from other types. That means we can also use the boolean logic keywords with non-boolean values.\n",
    "\n",
    "Run each of the following lines of code one by one and observe the result:\n",
    "\n",
    "1. `bool(0)` (When used with boolean operators, variables are converted to boolean first. Can you describe how integers and/or floats are converted to boolean?)\n",
    "2. `bool('0')` (The `bool()` function converts Python variables to boolean, if applicable. Strings follow a different conversion logic. Can you describe how strings are converted to boolean?)\n",
    "3. `not 0` (The boolean operators will cast the value to a boolean using `bool()` before evaluating it.)\n",
    "4. `1 and 1` (Check your understanding of how integers are cast to booleans. Try this line with the `or` keyword, and with other integer values.)\n",
    "5. `'0' and '1'` (Check your understanding of how strings are cast to booleans.)"
   ]
  },
  {
   "cell_type": "code",
   "execution_count": null,
   "metadata": {},
   "outputs": [],
   "source": [
    "#Write your code here\n",
    "\n",
    "bool(0)"
   ]
  },
  {
   "cell_type": "markdown",
   "metadata": {
    "nbgrader": {
     "cell_type": "markdown",
     "checksum": "ab583ea9a421c60c4c13c365ca2ee2dc",
     "grade": false,
     "grade_id": "cell-7df1c8cd8143d87a",
     "locked": true,
     "schema_version": 3,
     "solution": false,
     "task": false
    }
   },
   "source": [
    "## Non-evaluative checking\n",
    "\n",
    "Boolean logic has a special feature: under certain circumstances, it can return a result after the first condition without having to evaluate subsequent conditions.\n",
    "\n",
    "Notice that the following statements return the same result:\n",
    "\n",
    "- `False and True` gives the same return value as `False and False`\n",
    "- `True or False` gives the same return value as `True or True`\n",
    "\n",
    "When using the `and` keyword, if the first condition returns `False`, the second condition **doesn't matter**! Likewise, when using the `or` keyword, if the first condition returns `True`, the second condition doesn't matter either.\n",
    "\n",
    "We can prove this by first coming up with a statement that will throw an error. Can you think of one?"
   ]
  },
  {
   "cell_type": "code",
   "execution_count": null,
   "metadata": {
    "nbgrader": {
     "cell_type": "code",
     "checksum": "692a1f4b7c2e3ad4cde2c6c32fb645fa",
     "grade": true,
     "grade_id": "cell-cb1a21d743da64ad",
     "locked": false,
     "points": 1,
     "schema_version": 3,
     "solution": true,
     "task": false
    },
    "scrolled": true
   },
   "outputs": [],
   "source": [
    "#Come up with a statement that will throw an error:\n",
    "\n",
    "# TypeError? \n",
    "# ValueError? \n",
    "# NameError?\n",
    "# IndexError?\n",
    "string = '12345'\n",
    "string[6]"
   ]
  },
  {
   "cell_type": "markdown",
   "metadata": {
    "nbgrader": {
     "cell_type": "markdown",
     "checksum": "989ab0286389f53dade813a0404674ab",
     "grade": false,
     "grade_id": "cell-11c2e3520b439091",
     "locked": true,
     "schema_version": 3,
     "solution": false,
     "task": false
    }
   },
   "source": [
    "Add it to a boolean logic statement:"
   ]
  },
  {
   "cell_type": "code",
   "execution_count": null,
   "metadata": {
    "nbgrader": {
     "cell_type": "code",
     "checksum": "1f1f8e43d2013e8f9de48ee8b275f905",
     "grade": true,
     "grade_id": "cell-cc4edf3a356ee29b",
     "locked": false,
     "points": 1,
     "schema_version": 3,
     "solution": true,
     "task": false
    }
   },
   "outputs": [],
   "source": [
    "#Replace the underscores (_____) with your error-throwing statement:\n",
    "True and 'abcde'[6]\n",
    "\n"
   ]
  },
  {
   "cell_type": "markdown",
   "metadata": {
    "nbgrader": {
     "cell_type": "markdown",
     "checksum": "d72db40a20ec905ef24a400e31df48a1",
     "grade": false,
     "grade_id": "cell-297edf46adecf591",
     "locked": true,
     "schema_version": 3,
     "solution": false,
     "task": false
    }
   },
   "source": [
    "This should throw an error, because the statement is evaluated. But if we run it with a different first condition:"
   ]
  },
  {
   "cell_type": "code",
   "execution_count": null,
   "metadata": {
    "nbgrader": {
     "cell_type": "code",
     "checksum": "66718a38a49b19a8bbd640e9089c3962",
     "grade": true,
     "grade_id": "cell-40262d685ff3e29b",
     "locked": false,
     "points": 1,
     "schema_version": 3,
     "solution": true,
     "task": false
    }
   },
   "outputs": [],
   "source": [
    "#Replace the underscores (_____) with your error-throwing statement:\n",
    "False and 'abcde'[6]\n",
    "\n"
   ]
  },
  {
   "cell_type": "markdown",
   "metadata": {
    "nbgrader": {
     "cell_type": "markdown",
     "checksum": "da119704c0ab705122421e59d0aa0602",
     "grade": false,
     "grade_id": "cell-3cb6d01f4df63d50",
     "locked": true,
     "schema_version": 3,
     "solution": false,
     "task": false
    }
   },
   "source": [
    "This time, it is able to return a result without error. The second statement is not being evaluated!\n",
    "\n",
    "**Task 3: Verify non-evaluative checking**\n",
    "\n",
    "In the code cell below, write code to verify that the second statement is not evaluated when the `or` keyword is used with `True` as the first condition."
   ]
  },
  {
   "cell_type": "code",
   "execution_count": null,
   "metadata": {
    "nbgrader": {
     "cell_type": "code",
     "checksum": "84e1d1aaa9a7c8a05516570ccb169e25",
     "grade": true,
     "grade_id": "cell-206c7d8f2a3e123a",
     "locked": false,
     "points": 1,
     "schema_version": 3,
     "solution": true,
     "task": false
    }
   },
   "outputs": [],
   "source": [
    "#Write code to verify that the second statement is not evaluated:\n",
    "\n"
   ]
  },
  {
   "cell_type": "markdown",
   "metadata": {
    "nbgrader": {
     "cell_type": "markdown",
     "checksum": "358517dba8e7a95161112bdfdb6517f5",
     "grade": false,
     "grade_id": "cell-78a346cfe6954ba3",
     "locked": true,
     "schema_version": 3,
     "solution": false,
     "task": false
    }
   },
   "source": [
    "## Advanced strings: f-string formatting\n",
    "\n",
    "Up to this point, if we need to print complex output strings, we either join the strings using the `+` operator (a.k.a. **string concatenation**), or rely on the `print()` function to do it for us. For example, in Assignment 2, we printed the result in scientific E notation like so:\n",
    "\n",
    "  ```\n",
    "  print('This number in E notation is', e_notation + '.')\n",
    "  ```\n",
    "\n",
    "Python has a much more powerful way for us to embed values from variables into strings. This method is known as **formatted string literals**, or **f-strings**  in short. To use f-strings, we put an `f` before the string quotes:\n",
    "\n",
    "    f'This number in E notation is _____.'\n",
    "  \n",
    "Then we insert the variable name where we want the value to appear ...\n",
    "\n",
    "    f'This number in E notation is e_notation.'\n",
    "\n",
    "And we surround the variable name with curly brackets (`{}`):\n",
    "\n",
    "    f'This number in E notation is {e_notation}.'\n",
    "\n",
    "As long as we actually have a variable named `e_notation`, when Python evaluates this statement, it will first evaluate the result of the expression in curly brackets, and then insert it."
   ]
  },
  {
   "cell_type": "code",
   "execution_count": null,
   "metadata": {},
   "outputs": [],
   "source": [
    "## Old method of substituting values in a string\n",
    "\n",
    "name = 'Student1'\n",
    "class_ = 'Class1'\n",
    "contact = 12345678\n",
    "string = 'Student name: %s, Student class: %s, Student contact: %d' % (name, class_, contact)\n",
    "print(string)"
   ]
  },
  {
   "cell_type": "code",
   "execution_count": null,
   "metadata": {},
   "outputs": [],
   "source": [
    "## Another old method of substitutiing values in a string,\n",
    "## using the .format() method\n",
    "\n",
    "name = 'Student1'\n",
    "class_ = 'Class1'\n",
    "contact = 12345678\n",
    "string = 'Student name: {}, Student class: {}, Student contact: {}'.format(name, class_, contact)\n",
    "print(string)"
   ]
  },
  {
   "cell_type": "code",
   "execution_count": null,
   "metadata": {},
   "outputs": [],
   "source": [
    "## The new way of substituting values in a string.\n",
    "## This is called string interpolation.\n",
    "## You will hear this referenced popularly as \"f-strings\".\n",
    "\n",
    "name = 'Student1'\n",
    "class_ = 'Class1'\n",
    "contact = 12345678\n",
    "string = f'Student name: {name}, Student class: {class_}, Student contact: {contact}'\n",
    "print(string)"
   ]
  },
  {
   "cell_type": "markdown",
   "metadata": {
    "nbgrader": {
     "cell_type": "markdown",
     "checksum": "374be34d88df0a0c1dfb63d568bb3e82",
     "grade": false,
     "grade_id": "cell-80cdf6ed9f5e9837",
     "locked": true,
     "schema_version": 3,
     "solution": false,
     "task": false
    }
   },
   "source": [
    "## Using f-strings\n",
    "\n",
    "Run each line of code one by one in the code cell below and observe the result.\n",
    "\n",
    "1. `print(f'{type(True)}')` (you can use functions in the curly-bracket expression. Python will evaluate the result and convert it to a string automatically.)\n",
    "2. `print(f\"Works with double quotes\")`\n",
    "3. `print(f'Mixing single and double quotes\")` (like with regular strings, you still can't mix single and double quotes. You have to start and end an f-string with the same type of quote.)\n",
    "4. `print(f'The result of True and True is {True and True}')` (you can use expressions involving operators, boolean logic, and even other expressions, as long as they evaluate to a result.)\n",
    "\n",
    "f-strings are really powerful, and can help you print much more useful statements to understand what is going on in your code. We will be using them frequently in the subsequent lessons."
   ]
  },
  {
   "cell_type": "code",
   "execution_count": null,
   "metadata": {},
   "outputs": [],
   "source": [
    "## An example of what f-strings can do: format the value of the variable\n",
    "## according to a specified format.\n",
    "## See https://docs.python.org/3/tutorial/inputoutput.html#formatted-string-literals for details.\n",
    "\n",
    "num = '123.45'\n",
    "correct_dp = 2\n",
    "your_ans = 4\n",
    "\n",
    "print(f'The input {num} should have {correct_dp:03} dp but your answer is {your_ans}')"
   ]
  },
  {
   "cell_type": "markdown",
   "metadata": {
    "nbgrader": {
     "cell_type": "markdown",
     "checksum": "98bdc1823526830d61858205eea42a59",
     "grade": false,
     "grade_id": "cell-ab0098fa2df85fc7",
     "locked": true,
     "schema_version": 3,
     "solution": false,
     "task": false
    }
   },
   "source": [
    "## Errors in Python: `NameError`\n",
    "\n",
    "When you try to invoke a variable that does not exist yet (e.g. if you typed the name wrongly), Python will halt and raise a `NameError`. This often happens when you are not careful with naming your variables, or if you try to use a self-written function (Lesson 5) before you have defined it.\n",
    "\n",
    "Run the code cell below without modifying the code. What do you think the result will be?"
   ]
  },
  {
   "cell_type": "code",
   "execution_count": null,
   "metadata": {},
   "outputs": [],
   "source": [
    "print(f'This number in E notation is {e_notation}.')"
   ]
  },
  {
   "cell_type": "markdown",
   "metadata": {
    "nbgrader": {
     "cell_type": "markdown",
     "checksum": "01daf0082f264038608f192cda95918c",
     "grade": false,
     "grade_id": "cell-913ca30b4637101e",
     "locked": true,
     "schema_version": 3,
     "solution": false,
     "task": false
    }
   },
   "source": [
    "Q2: What happened? Why do you think this happened?"
   ]
  }
 ],
 "metadata": {
  "celltoolbar": "Edit Metadata",
  "kernelspec": {
   "display_name": "Python 3 (ipykernel)",
   "language": "python",
   "name": "python3"
  },
  "language_info": {
   "codemirror_mode": {
    "name": "ipython",
    "version": 3
   },
   "file_extension": ".py",
   "mimetype": "text/x-python",
   "name": "python",
   "nbconvert_exporter": "python",
   "pygments_lexer": "ipython3",
   "version": "3.8.12"
  }
 },
 "nbformat": 4,
 "nbformat_minor": 2
}
