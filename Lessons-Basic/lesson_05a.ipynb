{
 "cells": [
  {
   "cell_type": "markdown",
   "metadata": {
    "nbgrader": {
     "grade": false,
     "grade_id": "cell-8dd8af14517735ca",
     "locked": true,
     "schema_version": 3,
     "solution": false,
     "task": false
    }
   },
   "source": [
    "# Lesson 5a: Functions\n",
    "\n",
    "In lesson 4, we looked at how to work with collections of things in the form of a list. This list can be used in many ways: we can perform operations on the items inside, use it to store data from a file, and so on.\n",
    "\n",
    "Many of the procedures we wrote in Assignments 1-4 can only be used once. If we need to use them again, we will have to copy all the code and paste it where we need it. and if we change any part of the procedure, we will have to change it in **all** the places where it is used!\n",
    "\n",
    "A common piece of advice to Python programmers is **Don't Repeat Yourself**. Once you find yourself using the same chunk of code more than twice, you should consider how to write it in a way that you only need to declare it once and then reuse it again afterwards.\n",
    "\n",
    "We can do so using **functions**."
   ]
  },
  {
   "cell_type": "markdown",
   "metadata": {
    "nbgrader": {
     "grade": false,
     "grade_id": "cell-ece179531c973f0c",
     "locked": true,
     "schema_version": 3,
     "solution": false,
     "task": false
    }
   },
   "source": [
    "## Declaring a function\n",
    "\n",
    "You have learned how to write `if` and `for` statements:\n",
    "\n",
    "- they start with a **keyword**\n",
    "- and end with a **colon**\n",
    "- all code to be executed within the block should be **indented**\n",
    "\n",
    "Function definitions follow the same rules. A function is defined with the `def` keyword. This is how we declare a function that determines if a given `string` can be converted to a `float`:  \n",
    "(Run the code cell below.)"
   ]
  },
  {
   "cell_type": "code",
   "execution_count": null,
   "metadata": {},
   "outputs": [],
   "source": [
    "def isfloat(string):\n",
    "    if ('.' in string) and (string.count('.') == 1):\n",
    "        return True\n",
    "    else:\n",
    "        return False\n",
    "    \n",
    "print(isfloat('1.0'))"
   ]
  },
  {
   "cell_type": "markdown",
   "metadata": {
    "nbgrader": {
     "grade": false,
     "grade_id": "cell-080313d62296a01a",
     "locked": true,
     "schema_version": 3,
     "solution": false,
     "task": false
    }
   },
   "source": [
    "### Function input values\n",
    "\n",
    "The function will often need to work on some input values. These input values are known as **arguments**. The arguments are passed to the function through `(` parentheses `)`. In the above function, the argument `string` is passed to the function `isfloat()` and is available for use within the function. If more than one argument needs to be passed to the function, these arguments should be separated by commas (see [Exercise 2](#Exercise-2:-Fill-in-the-blanks))."
   ]
  },
  {
   "cell_type": "markdown",
   "metadata": {
    "nbgrader": {
     "grade": false,
     "grade_id": "cell-68024493341211ef",
     "locked": true,
     "schema_version": 3,
     "solution": false,
     "task": false
    }
   },
   "source": [
    "### Function output\n",
    "\n",
    "For some functions, an explicit return value is required. The above function needs to return a `True` value if the `string` can be converted to a `float`, and to return a `False` value if it cannot be converted to a `float`.\n",
    "\n",
    "This is done using the `return` keyword. When the `return` keyword is invoked, Python halts execution of the function and returns the specified value to the originating statement. In the above case, the originating statement is the `print()` function."
   ]
  },
  {
   "cell_type": "markdown",
   "metadata": {
    "nbgrader": {
     "grade": false,
     "grade_id": "cell-6c41243ba697fde7",
     "locked": true,
     "schema_version": 3,
     "solution": false,
     "task": false
    }
   },
   "source": [
    "### Exercise 1: rearrange the lines\n",
    "\n",
    "Rearrange the following lines of code to produce a valid function declaration for the function `sigfig(num)` which takes in a single integer argument `num`.\n",
    "\n",
    "1.  ```\n",
    "        return len(sig_digits)\n",
    "    ```\n",
    "2.  ```\n",
    "    def sigfig(num):\n",
    "    ```\n",
    "3.  ```\n",
    "        sig_digits = num.lstrip('0').replace('.','') #Strip leftmost 0s and remove decimal\n",
    "    ```\n",
    "4.  ```\n",
    "        num = str(num)\n",
    "    ```\n",
    "    \n",
    "Copy and paste the lines of code into the code cell below in the appropriate order to declare a function `sigfig(num)` that returns the number of significant figures of the input number `num`. Remember to use appropriate indentation."
   ]
  },
  {
   "cell_type": "code",
   "execution_count": null,
   "metadata": {
    "nbgrader": {
     "grade": false,
     "grade_id": "cell-ad62110c33dd74fc",
     "locked": false,
     "schema_version": 3,
     "solution": true,
     "task": false
    }
   },
   "outputs": [],
   "source": [
    "# Paste the code from the lines above in the correct order\n",
    "\n",
    "### BEGIN SOLUTION\n",
    "def sigfig(num):\n",
    "    num = str(num)\n",
    "    sig_digits = num.lstrip('0').replace('.','') #Strip leftmost 0s and remove decimal\n",
    "    return len(sig_digits)\n",
    "### END SOLUTION"
   ]
  },
  {
   "cell_type": "code",
   "execution_count": null,
   "metadata": {
    "nbgrader": {
     "grade": true,
     "grade_id": "cell-01b16f46061d776c",
     "locked": true,
     "points": 1,
     "schema_version": 3,
     "solution": false,
     "task": false
    }
   },
   "outputs": [],
   "source": [
    "assert sigfig(3.0) == 2, 'Incorrect order of lines'\n",
    "### BEGIN HIDDEN TESTS\n",
    "assert sigfig('0123') == 3, 'Incorrect order of lines'\n",
    "### END HIDDEN TESTS"
   ]
  },
  {
   "cell_type": "markdown",
   "metadata": {
    "nbgrader": {
     "grade": false,
     "grade_id": "cell-eb82726376a859a4",
     "locked": true,
     "schema_version": 3,
     "solution": false,
     "task": false
    }
   },
   "source": [
    "### Exercise 2: Fill in the blanks\n",
    "\n",
    "In the code cell below, replace the underscores (`_____`) with appropriate expressions to declare a function `nth_sf(num,n)` that takes in two arguments `num` and `n` and returns the `n`th significant figure of `num`.\n",
    "\n",
    "### Example output\n",
    "\n",
    "```\n",
    ">>> nth_sf(376.3287,1)\n",
    "3\n",
    ">>> nth_sf(376.3287,2)\n",
    "7\n",
    ">>> nth_sf(376.3287,3)\n",
    "6\n",
    ">>> nth_sf(376.3287,4)\n",
    "3\n",
    ">>> nth_sf(376.3287,5)\n",
    "2\n",
    ">>> nth_sf(376.3287,6)\n",
    "8\n",
    "```"
   ]
  },
  {
   "cell_type": "code",
   "execution_count": null,
   "metadata": {
    "nbgrader": {
     "grade": true,
     "grade_id": "cell-67d4acf84d60f215",
     "locked": false,
     "points": 1,
     "schema_version": 3,
     "solution": true,
     "task": false
    }
   },
   "outputs": [],
   "source": [
    "_____ nth_sf(num,n)_____\n",
    "    num = str(num)\n",
    "    sig_digits = num.lstrip('0').replace('.','') #Strip leftmost 0s and remove decimal\n",
    "    n_sf = sig_digits[n-1] #Index starts from 0\n",
    "    _____ n_sf\n",
    "### BEGIN SOLUTION\n",
    "def nth_sf(num,n):\n",
    "    num = str(num)\n",
    "    sig_digits = num.lstrip('0').replace('.','') #Strip leftmost 0s and remove decimal\n",
    "    n_sf = sig_digits[n-1] #Index starts from 0\n",
    "    return n_sf\n",
    "### END SOLUTION"
   ]
  },
  {
   "cell_type": "markdown",
   "metadata": {
    "nbgrader": {
     "grade": false,
     "grade_id": "cell-fd81df8b8986ce94",
     "locked": true,
     "schema_version": 3,
     "solution": false,
     "task": false
    }
   },
   "source": [
    "### Implicit `return` value\n",
    "\n",
    "In functions where there is no `return` statement, a default value of `None` is returned.\n",
    "\n",
    "The `None` value will be covered in later lessons.\n",
    "\n",
    "Run the code cell below to see how a function without a `return` statement still returns a value (of `None`):"
   ]
  },
  {
   "cell_type": "code",
   "execution_count": null,
   "metadata": {},
   "outputs": [],
   "source": [
    "def print_minutes(seconds):\n",
    "    mins,sec = divmod(seconds,60)\n",
    "    if mins == 1:\n",
    "        s_min = ''\n",
    "    else:\n",
    "        s_min = 's'\n",
    "    if sec == 1:\n",
    "        s_sec = ''\n",
    "    else:\n",
    "        s_sec = 's'\n",
    "        \n",
    "    print(f'{mins} minute{s_min} and {sec} second{s_sec}')\n",
    "    \n",
    "return_value = print_minutes(61) #This assigns the return value from print_minutes() to return_value\n",
    "print(return_value)\n",
    "type(return_value)"
   ]
  },
  {
   "cell_type": "markdown",
   "metadata": {
    "nbgrader": {
     "grade": false,
     "grade_id": "cell-bb5267e397b63d33",
     "locked": true,
     "schema_version": 3,
     "solution": false,
     "task": false
    }
   },
   "source": [
    "## Don’t Repeat Yourself\n",
    "\n",
    "A commonly quoted principle in Python programming is **Don’t Repeat Yourself**. While it is just a guideline and not to be religiously followed, often we find ourselves repeating chunks of code in multiple places in a large programming project. This makes updating the code difficult; each change we make to this chunk of code needs to be repeated in multiple places. Missing out even one occurrence can lead to a difficult-to-trace bug!\n",
    "\n",
    "In the above code cell, there was a chunk of code that decides whether to use the plural form for units of time. This chunk of code was repeated twice to check if plural form was needed for minutes, and for seconds.\n",
    "\n",
    "We can make the code shorter and easier to read by putting this chunk of code into another function, `suffix_for()`."
   ]
  },
  {
   "cell_type": "code",
   "execution_count": null,
   "metadata": {},
   "outputs": [],
   "source": [
    "def suffix_for(num):\n",
    "    if num == 1:\n",
    "        s = ''\n",
    "    else:\n",
    "        s = 's'\n",
    "    return s\n",
    "\n",
    "def print_minutes(seconds):\n",
    "    mins,sec = divmod(seconds,60)\n",
    "    s_min = suffix_for(mins)\n",
    "    s_sec = suffix_for(sec)\n",
    "        \n",
    "    print(f'{mins} minute{s_min} and {sec} second{s_sec}')\n",
    "    \n",
    "print_minutes(62)"
   ]
  },
  {
   "cell_type": "markdown",
   "metadata": {
    "nbgrader": {
     "grade": false,
     "grade_id": "cell-572169217a10474c",
     "locked": true,
     "schema_version": 3,
     "solution": false,
     "task": false
    }
   },
   "source": [
    "In the function `suffix_for()`, notice that the variable `s` is only used as a **temporary** holder that is immediately returned. We could simplify the code further by just returning the values `''` or `'s'` directly.\n",
    "\n",
    "In the function `print_minutes()`, the variables `s_min` and `s_sec` function similarly as **temporary** holders that are immediately `print`ed. We could simply substitute the expressions into the f-string directly.\n",
    "\n",
    "The following code illustrates these changes:"
   ]
  },
  {
   "cell_type": "code",
   "execution_count": null,
   "metadata": {},
   "outputs": [],
   "source": [
    "#Improved code\n",
    "\n",
    "def suffix_for(num):\n",
    "    if num == 1:\n",
    "        return ''\n",
    "    else:\n",
    "        return 's'\n",
    "\n",
    "def print_minutes(seconds):\n",
    "    mins,sec = divmod(seconds,60)\n",
    "    print(f'{mins} minute{suffix_for(mins)} and {sec} second{suffix_for(sec)}')\n",
    "    \n",
    "print_minutes(121)"
   ]
  },
  {
   "cell_type": "markdown",
   "metadata": {
    "nbgrader": {
     "grade": false,
     "grade_id": "cell-8a44aaccbbd1abfc",
     "locked": true,
     "schema_version": 3,
     "solution": false,
     "task": false
    }
   },
   "source": [
    "### A note on code readability\n",
    "\n",
    "In compressing code this way, a balance has to be struck for best readability. Unnecessarily long code is tedious to read and difficult to follow, but over-compressed code can also be difficult to read.\n",
    "\n",
    "Can you understand this code easily?\n",
    "\n",
    "    def nth_sf(num,n):\n",
    "        return str(num).lstrip('0').replace('.','')[n-1]\n",
    "\n",
    "Code that is hard to understand at a glance can slow down an entire programming team. This is bad, especially during crunch time, when it is important to be able to quickly understand what a chunk of code is supposed to do.\n",
    "\n",
    "Your skill at writing readable code will improve with experience. The best way to know if your code is readable is to show it to other programmers and see if they can understand it quickly and easily."
   ]
  },
  {
   "cell_type": "markdown",
   "metadata": {
    "nbgrader": {
     "grade": false,
     "grade_id": "cell-4564950a3fa3ca06",
     "locked": true,
     "schema_version": 3,
     "solution": false,
     "task": false
    }
   },
   "source": [
    "### Function declaration order\n",
    "\n",
    "In the menu bar above, click on <kbd>Kernel</kbd> → <kbd>Restart & Clear Output</kbd> before you proceed.\n",
    "\n",
    "Will the following code return an error? Why?"
   ]
  },
  {
   "cell_type": "code",
   "execution_count": 1,
   "metadata": {
    "scrolled": true
   },
   "outputs": [
    {
     "ename": "NameError",
     "evalue": "name 'print_minutes' is not defined",
     "output_type": "error",
     "traceback": [
      "\u001b[0;31m---------------------------------------------------------------------------\u001b[0m",
      "\u001b[0;31mNameError\u001b[0m                                 Traceback (most recent call last)",
      "\u001b[0;32m<ipython-input-1-92bab4632983>\u001b[0m in \u001b[0;36m<module>\u001b[0;34m\u001b[0m\n\u001b[0;32m----> 1\u001b[0;31m \u001b[0mprint_minutes\u001b[0m\u001b[0;34m(\u001b[0m\u001b[0;36m121\u001b[0m\u001b[0;34m)\u001b[0m\u001b[0;34m\u001b[0m\u001b[0;34m\u001b[0m\u001b[0m\n\u001b[0m\u001b[1;32m      2\u001b[0m \u001b[0;34m\u001b[0m\u001b[0m\n\u001b[1;32m      3\u001b[0m \u001b[0;32mdef\u001b[0m \u001b[0mprint_minutes\u001b[0m\u001b[0;34m(\u001b[0m\u001b[0mseconds\u001b[0m\u001b[0;34m)\u001b[0m\u001b[0;34m:\u001b[0m\u001b[0;34m\u001b[0m\u001b[0;34m\u001b[0m\u001b[0m\n\u001b[1;32m      4\u001b[0m     \u001b[0mmins\u001b[0m\u001b[0;34m,\u001b[0m\u001b[0msec\u001b[0m \u001b[0;34m=\u001b[0m \u001b[0mdivmod\u001b[0m\u001b[0;34m(\u001b[0m\u001b[0mseconds\u001b[0m\u001b[0;34m,\u001b[0m\u001b[0;36m60\u001b[0m\u001b[0;34m)\u001b[0m\u001b[0;34m\u001b[0m\u001b[0;34m\u001b[0m\u001b[0m\n\u001b[1;32m      5\u001b[0m     \u001b[0mprint\u001b[0m\u001b[0;34m(\u001b[0m\u001b[0;34mf'{mins} minute{new_suffix_for(mins)} and {sec} second{new_suffix_for(sec)}'\u001b[0m\u001b[0;34m)\u001b[0m\u001b[0;34m\u001b[0m\u001b[0;34m\u001b[0m\u001b[0m\n",
      "\u001b[0;31mNameError\u001b[0m: name 'print_minutes' is not defined"
     ]
    }
   ],
   "source": [
    "print_minutes(121)\n",
    "\n",
    "def print_minutes(seconds):\n",
    "    mins,sec = divmod(seconds,60)\n",
    "    print(f'{mins} minute{new_suffix_for(mins)} and {sec} second{new_suffix_for(sec)}')\n",
    "    \n",
    "def new_suffix_for(num):\n",
    "    if num == 1:\n",
    "        return ''\n",
    "    else:\n",
    "        return 's'"
   ]
  },
  {
   "cell_type": "markdown",
   "metadata": {
    "nbgrader": {
     "grade": false,
     "grade_id": "cell-c452ff424bc97a02",
     "locked": true,
     "schema_version": 3,
     "solution": false,
     "task": false
    }
   },
   "source": [
    "Functions must be declared before they are used. Since the Python interpreter reads the code line by line, functions are only added for use when the interpreter encounters the function declaration and **parses** it.\n",
    "\n",
    "If you attempt to use the function `print_minutes()` before it is declared, Python checks in its memory for available functions named `print_minutes`, finds nothing, and raises a `NameError`.\n",
    "\n",
    "### A function is an object in Python\n",
    "\n",
    "Python treats a function as just another object. That means you can examine it with the built-in helper functions `dir()`, `help()`, and `type()`.\n",
    "\n",
    "Try this in the code cell below and observe the output produced by the helper functions."
   ]
  },
  {
   "cell_type": "code",
   "execution_count": null,
   "metadata": {
    "nbgrader": {
     "grade": true,
     "grade_id": "cell-4beb3675e2d73f17",
     "locked": false,
     "points": 1,
     "schema_version": 3,
     "solution": true,
     "task": false
    }
   },
   "outputs": [],
   "source": [
    "def print_minutes(seconds):\n",
    "    '''\n",
    "    Converts seconds to minutes & seconds and prints the output.\n",
    "    \n",
    "    Example:\n",
    "    >>> print_minutes(61)\n",
    "    1 minute and 1 second\n",
    "    '''\n",
    "    mins,sec = divmod(seconds,60)\n",
    "    print(f'{mins} minute{new_suffix_for(mins)} and {sec} second{new_suffix_for(sec)}')\n",
    "\n",
    "#Type your code below to examine the function print_minutes() with the built-in helper functions\n",
    "### BEGIN SOLUTION\n",
    "help(print_minutes)\n",
    "### END SOLUTION"
   ]
  },
  {
   "cell_type": "markdown",
   "metadata": {
    "nbgrader": {
     "grade": false,
     "grade_id": "cell-c3a994bf77da96ae",
     "locked": true,
     "schema_version": 3,
     "solution": false,
     "task": false
    }
   },
   "source": [
    "### Docstrings\n",
    "\n",
    "The multiline comment (starting and ending with `'''`) you see in the previous cell, immediately below the `def` statement, is known as a **docstring**, short for **documentation string**. This docstring helps other programmers understand how to use the function. It is also returned by the `help()` function, so that programmers do not have to read the source code to know how to use it in Python.\n",
    "\n",
    "It is standard programming practice to include docstrings in **all** functions that you write.\n",
    "\n",
    "Docstrings may also begin and end with three double-quotes i.e. `\"\"\"`.\n",
    "\n",
    "### Function type\n",
    "\n",
    "Python treats functions as a special type of object. You can even write functions that take in other functions as input values!\n",
    "\n",
    "Notice that a function has many special (dunder) methods and attributes. Almost all Python objects have special methods and attributes associated with them. We will explore special methods and attributes in future lessons."
   ]
  },
  {
   "cell_type": "markdown",
   "metadata": {
    "nbgrader": {
     "grade": false,
     "grade_id": "cell-ee767a8e6691485d",
     "locked": true,
     "schema_version": 3,
     "solution": false,
     "task": false
    }
   },
   "source": [
    "## Variable scoping\n",
    "\n",
    "Variables work differently inside a function and outside of the function. That is because the Python space inside the function and outside is different. We refer to these different spaces as the **scope**.\n",
    "\n",
    "Run the code cell below and see what happens."
   ]
  },
  {
   "cell_type": "code",
   "execution_count": null,
   "metadata": {
    "scrolled": true
   },
   "outputs": [],
   "source": [
    "var1 = 1\n",
    "def fn():\n",
    "    '''A test function to examine local vs global scoping.'''\n",
    "    var1 = 2\n",
    "    var2 = 2\n",
    "    print('In function fn(), after declaring var2:')\n",
    "    print(f'var1 is {var1}')\n",
    "    print(f'var2 is {var2}')\n",
    "    \n",
    "fn()"
   ]
  },
  {
   "cell_type": "markdown",
   "metadata": {
    "nbgrader": {
     "grade": false,
     "grade_id": "cell-d220ad8314638d34",
     "locked": true,
     "schema_version": 3,
     "solution": false,
     "task": false
    }
   },
   "source": [
    "In the above code cell, `var1` was defined first and assigned to the value `1`, outside of any functions or objects. We refer to such variables as **global** variables. Global variables exist in the global scope.\n",
    "\n",
    "Inside the function `fn()`, the variable `var1` is assigned to the value `2`. This space is known as the **local** scope. We say that the variable `var1` has a value of `2` in the local scope and a value of `1` in the global scope.\n",
    "\n",
    "This means that when we access `var1` in the local scope, it will return a value of `2`, and when we access `var1` in the global scope, it will return a value of `1`. You can see this happening in the code cell below, when we evaluate `var1` in the **global** scope:"
   ]
  },
  {
   "cell_type": "code",
   "execution_count": null,
   "metadata": {},
   "outputs": [],
   "source": [
    "var1 = 1\n",
    "def fn():\n",
    "    '''A test function to examine local vs global scoping.'''\n",
    "    var1 = 2\n",
    "    var2 = 2\n",
    "    print('In function fn(), after declaring var2:')\n",
    "    print(f'var1 is {var1}')\n",
    "    print(f'var2 is {var2}')\n",
    "    \n",
    "fn()\n",
    "print('Outside function fn():')\n",
    "print(f'var1 is {var1}')\n",
    "print(f'var2 is {var2}')"
   ]
  },
  {
   "cell_type": "markdown",
   "metadata": {
    "nbgrader": {
     "grade": false,
     "grade_id": "cell-5aa365275cb6386d",
     "locked": true,
     "schema_version": 3,
     "solution": false,
     "task": false
    }
   },
   "source": [
    "Notice that `var2` was defined within the function, in the local scope. After the function exits and we are back in the global scope, `var2` is no longer accessible. Attempting to access `var2` in the global scope results in a `NameError` being raised.\n",
    "\n",
    "### Protip: avoid using Python reserved keywords as variable names\n",
    "\n",
    "This is why you should avoid using Python reserved keywords (such as `def`, `int`, `float`, `str`, ...) as variable names. You may end up overwriting important functions or keywords and not be able to use them!\n",
    "\n",
    "In the example below, I *naively* define a variable `int` and assign it a value of `2`. This results in two `int`s existing in the global scope. Calling `int` will return the **variable** instead of the **integer** object."
   ]
  },
  {
   "cell_type": "code",
   "execution_count": null,
   "metadata": {},
   "outputs": [],
   "source": [
    "# This line removes any old `int` variables so that the below code cells\n",
    "# do not screw up\n",
    "if 'int' in globals():\n",
    "    del globals()['int']\n",
    "\n",
    "# At this point, int is a function object\n",
    "print(f'int is {int}')\n",
    "\n",
    "# Before defining an int variable, let's assign the int function to\n",
    "# another object named int_fn first:\n",
    "int_fn = int\n",
    "\n",
    "# Now let's define an int variable and assign it the value 2\n",
    "int = 2\n",
    "\n",
    "# If we attempt to access the int object, we now get the int variable\n",
    "# instead of the function:\n",
    "print(f'int is {int}')\n",
    "\n",
    "# fortunately, the original function is still available as int_fn:\n",
    "print(f'int_fn is {int_fn}')"
   ]
  },
  {
   "cell_type": "markdown",
   "metadata": {
    "nbgrader": {
     "grade": false,
     "grade_id": "cell-eac341220c86ff9c",
     "locked": true,
     "schema_version": 3,
     "solution": false,
     "task": false
    }
   },
   "source": [
    "If I try to use `int()` to cast a string to an integer, that will not longer work!"
   ]
  },
  {
   "cell_type": "code",
   "execution_count": null,
   "metadata": {
    "scrolled": true
   },
   "outputs": [],
   "source": [
    "int('1')"
   ]
  },
  {
   "cell_type": "markdown",
   "metadata": {
    "nbgrader": {
     "grade": false,
     "grade_id": "cell-f6a26461f6ad9aaa",
     "locked": true,
     "schema_version": 3,
     "solution": false,
     "task": false
    }
   },
   "source": [
    "Luckily, with foresight we had assigned the built-in `int` object to `int_fn`, so we can still use `int_fn()` to perform the casting:"
   ]
  },
  {
   "cell_type": "code",
   "execution_count": null,
   "metadata": {},
   "outputs": [],
   "source": [
    "int_fn('1')"
   ]
  },
  {
   "cell_type": "markdown",
   "metadata": {
    "nbgrader": {
     "grade": false,
     "grade_id": "cell-d389b6a4fd4faca8",
     "locked": true,
     "schema_version": 3,
     "solution": false,
     "task": false
    }
   },
   "source": [
    "### Protip: if you absolutely must use a reserved keyword, put an underscore after it\n",
    "\n",
    "PEP 8, the Style Guide for Python Code, [recommends using a trailing underscore_ for variables that will conflict with Python reserved keywords](https://www.python.org/dev/peps/pep-0008/#id36). For instance, to avoid a variable name collision with the reserved `class` keyword:\n",
    "\n",
    "```\n",
    "name = 'Wu Moyan'\n",
    "class_ = '2021'\n",
    "```"
   ]
  },
  {
   "cell_type": "markdown",
   "metadata": {
    "nbgrader": {
     "grade": false,
     "grade_id": "cell-ef1dbc5c3a736453",
     "locked": true,
     "schema_version": 3,
     "solution": false,
     "task": false
    }
   },
   "source": [
    "## (Optional) Nested functions\n",
    "\n",
    "In [Don't Repeat Yourself](#Don't-Repeat-Yourself), I demonstrated how to package repeated code into a function. The functions were all defined in the **global** scope, so all the functions have access to other functions in the global scope.\n",
    "\n",
    "What if we want to declare a function that can **only be used within another function**?\n",
    "\n",
    "In the code cell below, `suffix_for()` is defined *within* the `print_minutes()` function. It can only be accessed in the **local** scope of the `print_minutes()` function, but not outside of it."
   ]
  },
  {
   "cell_type": "code",
   "execution_count": null,
   "metadata": {},
   "outputs": [],
   "source": [
    "# Remove any existing functions named print_minutes or suffix_for\n",
    "if 'print_minutes' in globals():\n",
    "    del globals()['print_minutes']\n",
    "if 'suffix_for' in globals():\n",
    "    del globals()['suffix_for']\n",
    "\n",
    "def print_minutes(seconds):\n",
    "    '''\n",
    "    Prints the time given in seconds in minutes and seconds format.\n",
    "    '''\n",
    "    def suffix_for(num):\n",
    "        '''\n",
    "        Returns an appropriate suffix for num.\n",
    "\n",
    "        Example:\n",
    "        >>> suffix_for(1)\n",
    "        ''\n",
    "        >>> suffix_for(2)\n",
    "        's'\n",
    "        '''\n",
    "        if num == 1:\n",
    "            return ''\n",
    "        else:\n",
    "            return 's'\n",
    "    mins,sec = divmod(seconds,60)\n",
    "    print(f'{mins} minute{suffix_for(mins)} and {sec} second{suffix_for(sec)}')\n",
    "    \n",
    "print_minutes(121)\n",
    "print(suffix_for(2)) # Cannot be accessed outside of print_minutes()"
   ]
  },
  {
   "cell_type": "markdown",
   "metadata": {
    "nbgrader": {
     "grade": false,
     "grade_id": "cell-47d2f518f97c0b3a",
     "locked": true,
     "schema_version": 3,
     "solution": false,
     "task": false
    }
   },
   "source": [
    "# Feedback and suggestions\n",
    "\n",
    "Any feedback or suggestions for this assignment?"
   ]
  },
  {
   "cell_type": "markdown",
   "metadata": {
    "nbgrader": {
     "grade": true,
     "grade_id": "cell-cff3e51d3e9a7c7b",
     "locked": false,
     "points": 0,
     "schema_version": 3,
     "solution": true,
     "task": false
    }
   },
   "source": []
  }
 ],
 "metadata": {
  "celltoolbar": "Create Assignment",
  "kernelspec": {
   "display_name": "Python 3",
   "language": "python",
   "name": "python3"
  },
  "language_info": {
   "codemirror_mode": {
    "name": "ipython",
    "version": 3
   },
   "file_extension": ".py",
   "mimetype": "text/x-python",
   "name": "python",
   "nbconvert_exporter": "python",
   "pygments_lexer": "ipython3",
   "version": "3.6.7"
  }
 },
 "nbformat": 4,
 "nbformat_minor": 2
}
