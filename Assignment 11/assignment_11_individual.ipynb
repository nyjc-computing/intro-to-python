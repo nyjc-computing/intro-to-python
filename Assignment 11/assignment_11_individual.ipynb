{
 "cells": [
  {
   "cell_type": "markdown",
   "metadata": {},
   "source": [
    "## 1-minute introduction to Jupyter ##\n",
    "\n",
    "A Jupyter notebook consists of cells. Each cell contains either text or code.\n",
    "\n",
    "A text cell will not have any text to the left of the cell. A code cell has `In [ ]:` to the left of the cell.\n",
    "\n",
    "If the cell contains code, you can edit it. Press <kbd>Enter</kbd> to edit the selected cell. While editing the code, press <kbd>Enter</kbd> to create a new line, or <kbd>Shift</kbd>+<kbd>Enter</kbd> to run the code. If you are not editing the code, select a cell and press <kbd>Ctrl</kbd>+<kbd>Enter</kbd> to run the code."
   ]
  },
  {
   "cell_type": "markdown",
   "metadata": {},
   "source": [
    "Before you turn this problem in, make sure everything runs as expected. First, **restart the kernel** (in the menubar, select Kernel$\\rightarrow$Restart) and then **run all cells** (in the menubar, select Cell$\\rightarrow$Run All).\n",
    "\n",
    "Make sure you fill in any place that says `YOUR CODE HERE` or \"YOUR ANSWER HERE\", as well as your name and collaborators below:"
   ]
  },
  {
   "cell_type": "code",
   "execution_count": null,
   "metadata": {},
   "outputs": [],
   "source": [
    "NAME = \"\"\n",
    "COLLABORATORS = \"\""
   ]
  },
  {
   "cell_type": "markdown",
   "metadata": {},
   "source": [
    "---"
   ]
  },
  {
   "cell_type": "markdown",
   "metadata": {
    "deletable": false,
    "editable": false,
    "nbgrader": {
     "cell_type": "markdown",
     "checksum": "8790a5d1b3d1ccfe6e9febe1b0b771be",
     "grade": false,
     "grade_id": "cell-a965c0c70630d0c7",
     "locked": true,
     "schema_version": 3,
     "solution": false,
     "task": false
    }
   },
   "source": [
    "# Assignment 11: Object-Oriented Programming and Classes (individual)\n",
    "\n",
    "In this assignment, you should write your code in a **readable** way, and **modularise** chunks of code that would otherwise be repeated.\n",
    "\n",
    "Your function and class definitions should have appropriate **docstrings**.\n",
    "\n",
    "You are expected to follow PEP8 conventions as far as possible. Run the code cell below to load a Jupyter extension that will inform you of any non-compliant code."
   ]
  },
  {
   "cell_type": "code",
   "execution_count": null,
   "metadata": {},
   "outputs": [],
   "source": [
    "# This code cell loads a PEP8 linter.\n",
    "# Linting is the process of flagging programming errors,\n",
    "# bugs, stylistic errors, and other code problems\n",
    "# pycodestyle is a linter that highlights any syntax that\n",
    "# is not PEP8-compliant.\n",
    "# You only need to load it once in each notebook.\n",
    "\n",
    "%load_ext pycodestyle_magic\n",
    "%pycodestyle_on"
   ]
  },
  {
   "cell_type": "markdown",
   "metadata": {
    "deletable": false,
    "editable": false,
    "nbgrader": {
     "cell_type": "markdown",
     "checksum": "ad2897192a85b7ca12dc14524fc6a7c5",
     "grade": false,
     "grade_id": "cell-02630fc3daa783fd",
     "locked": true,
     "schema_version": 3,
     "solution": false,
     "task": false
    }
   },
   "source": [
    "## Part 1: Implement a `Temperature` class\n",
    "\n",
    "Temperature conversion is such a pain. The same temperature can be represented in units of °C, F, or K! It would be really handy if we could bundle them up into a `Temperature` class that will make it easy for us to think about temperature.\n",
    "\n",
    "### Fomulas\n",
    "\n",
    "**Celsius (C) to Kelvin (K)**  \n",
    "$K = C + 273.15$\n",
    "\n",
    "**Celsius (C) to Fahrenheit (F)**  \n",
    "$F = (C\\times\\frac{9}{5})+32$\n",
    "\n",
    "### Task 1: define a `Temperature` class\n",
    "\n",
    "1. Define an `__init__()` method that takes in a temperature (in °C), and stores three **attributes**:\n",
    "   - `celsius`, which returns the temperature in degrees Celsius\n",
    "   - `fahrenheit`, which returns the temperature in Fahrenheit\n",
    "   - `kelvin`, which returns the temperature in Kelvin\n",
    "\n",
    "\n",
    "2. The method should raise a `TypeError` if the input is not `int` or `float` type.\n",
    "\n",
    "\n",
    "3. The method should raise a `ValueError` if the temperature is invalid (e.g. below absolute zero).\n",
    "   - C >= –273.15 °C\n",
    "\n",
    "\n",
    "4. Define a `__repr__()` method that returns the expression used to initialise the object\n",
    "   - e.g. Temperature(0)\n",
    "\n"
   ]
  },
  {
   "cell_type": "code",
   "execution_count": null,
   "metadata": {
    "deletable": false,
    "nbgrader": {
     "cell_type": "code",
     "checksum": "04ece1bfbaf2251c5d5e57e6539e8c2b",
     "grade": false,
     "grade_id": "cell-261b0ff2b9c665c0",
     "locked": false,
     "schema_version": 3,
     "solution": true,
     "task": false
    }
   },
   "outputs": [],
   "source": [
    "# Define a Temperature class\n",
    "\n",
    "\n",
    "class Temperature:\n",
    "    '''\n",
    "    A class that stores a temperature value and facilitates conversion\n",
    "    between units.\n",
    "    '''\n",
    "    def __init__(self, temp_c):\n",
    "        ### Type your code below\n",
    "        "
   ]
  },
  {
   "cell_type": "code",
   "execution_count": null,
   "metadata": {
    "deletable": false,
    "editable": false,
    "nbgrader": {
     "cell_type": "code",
     "checksum": "00a42605e70df99fd346b122144ff30a",
     "grade": true,
     "grade_id": "cell-4e8031a164b15436",
     "locked": true,
     "points": 2,
     "schema_version": 3,
     "solution": false,
     "task": false
    }
   },
   "outputs": [],
   "source": [
    "# AUTOGRADING: Formula correctness check\n",
    "test_temp = Temperature(0)\n",
    "assert test_temp.celsius == 0, \\\n",
    "    ('Wrong value for celsius attribute, '\n",
    "     f'got {test_temp.celsius} instead of 0.')\n",
    "assert test_temp.fahrenheit == 32, \\\n",
    "    ('Wrong value for fahrenheit attribute, '\n",
    "     f'got {test_temp.fahrenheit} instead of 32.')\n",
    "assert test_temp.kelvin == 273.15, \\\n",
    "    ('Wrong value for kelvin attribute, '\n",
    "     f'got {test_temp.kelvin} instead of 273.15.')\n",
    "\n",
    "test_temp = Temperature(100)\n",
    "assert test_temp.celsius == 100, \\\n",
    "    (f'Wrong value for celsius attribute, '\n",
    "     f'got {test_temp.celsius} instead of 100.')\n",
    "assert test_temp.fahrenheit == 212, \\\n",
    "    (f'Wrong value for fahrenheit attribute, '\n",
    "     f'got {test_temp.fahrenheit} instead of 212')\n",
    "assert test_temp.kelvin == 373.15, \\\n",
    "    (f'Wrong value for kelvin attribute, '\n",
    "     f'got {test_temp.kelvin} instead of 373.15.')"
   ]
  },
  {
   "cell_type": "code",
   "execution_count": null,
   "metadata": {
    "deletable": false,
    "editable": false,
    "nbgrader": {
     "cell_type": "code",
     "checksum": "86cdbeea81ab7629d9503d8dc45e7386",
     "grade": true,
     "grade_id": "cell-3e66e69d63d925af",
     "locked": true,
     "points": 1,
     "schema_version": 3,
     "solution": false,
     "task": false
    }
   },
   "outputs": [],
   "source": [
    "# AUTOGRADING: Type check\n",
    "import unittest\n",
    "\n",
    "\n",
    "class TypeCheck(unittest.TestCase):\n",
    "    def testTypeError(self):\n",
    "        self.assertRaises(TypeError, Temperature, '38°C')\n",
    "        self.assertRaises(TypeError, Temperature, [38])\n",
    "\n",
    "\n",
    "# unittest.main looks at sys.argv and first parameter is what\n",
    "# started IPython or Jupyter\n",
    "# exit=False prevents unittest.main from shutting down the kernel process\n",
    "result = unittest.main(argv=['ignored'], exit=False)"
   ]
  },
  {
   "cell_type": "code",
   "execution_count": null,
   "metadata": {
    "deletable": false,
    "editable": false,
    "nbgrader": {
     "cell_type": "code",
     "checksum": "3ca3b81594b3db73fed74909184821ac",
     "grade": true,
     "grade_id": "cell-94d7520a92dac8f4",
     "locked": true,
     "points": 1,
     "schema_version": 3,
     "solution": false,
     "task": false
    }
   },
   "outputs": [],
   "source": [
    "# AUTOGRADING: Value check\n",
    "import unittest\n",
    "\n",
    "\n",
    "class TypeCheck(unittest.TestCase):\n",
    "    def testTypeError(self):\n",
    "        self.assertRaises(ValueError, Temperature, -273.16)\n",
    "        self.assertRaises(ValueError, Temperature, -274)\n",
    "\n",
    "\n",
    "result = unittest.main(argv=['ignored'], exit=False)"
   ]
  },
  {
   "cell_type": "markdown",
   "metadata": {
    "deletable": false,
    "editable": false,
    "nbgrader": {
     "cell_type": "markdown",
     "checksum": "6e38224bba57d466c1ae8c53f6c77536",
     "grade": false,
     "grade_id": "cell-0abbbe55fc9748f2",
     "locked": true,
     "schema_version": 3,
     "solution": false,
     "task": false
    }
   },
   "source": [
    "### Task 2a: Define a `set()` method to change the value of temperature\n",
    "\n",
    "Now let’s have a way to change the initial value of temperature; let’s add a `set()` method to `Temperature`.\n",
    "\n",
    "1. Define a `set()` method that takes in an argument `value` (`float` or `int`) representing the temperature in units of °C.\n",
    "2. `set()` should update the value of temperature in Fahrenheit and Kelvin as well.\n",
    "\n",
    "### Task 2b: Update the `__init__()` method\n",
    "\n",
    "Now it looks like `__init__()` and `set()` perform a very similar task. Instead of repeating code, let’s update `__init__()` to call `set()` instead.\n",
    "\n",
    "3. Update `__init__()` to call `set()` instead."
   ]
  },
  {
   "cell_type": "code",
   "execution_count": null,
   "metadata": {
    "deletable": false,
    "nbgrader": {
     "cell_type": "code",
     "checksum": "b17e79e22259689dd0ab93d6444a4a0f",
     "grade": true,
     "grade_id": "cell-02abfd3e847b0f1e",
     "locked": false,
     "points": 3,
     "schema_version": 3,
     "solution": true,
     "task": false
    }
   },
   "outputs": [],
   "source": [
    "# Define a set() method\n",
    "# Update the __init__() method\n",
    "\n",
    "\n",
    "class Temperature:\n",
    "    '''\n",
    "    A class that stores a temperature value and facilitates conversion\n",
    "    between units.\n",
    "    '''\n",
    "    def __init__(self, temp_c):\n",
    "        ### Type your code below\n",
    "        "
   ]
  },
  {
   "cell_type": "markdown",
   "metadata": {
    "deletable": false,
    "editable": false,
    "nbgrader": {
     "cell_type": "markdown",
     "checksum": "6845a4cf843644e10795d20d8c9d2f48",
     "grade": false,
     "grade_id": "cell-f29c35d390656a6f",
     "locked": true,
     "schema_version": 3,
     "solution": false,
     "task": false
    }
   },
   "source": [
    "We won't always get our input in units of degree Celsius; sometimes we may get input in Fahrenheit or Kelvin. We need a way to allow `__init__()` to accept those units as well.\n",
    "\n",
    "### Task 3: update `set()` to accept other units\n",
    "\n",
    "1. Update the `__init__()` method to take in two arguments:\n",
    "   - a temperature value\n",
    "   - a keyword argument, `units=` defining the units of the temperature value\n",
    "       - 'c' for degrees Celsius (default)\n",
    "       - 'k' for Kelvin\n",
    "       - 'f' for Fahrenheit\n",
    "       \n",
    "   - The method should still meet the other requirements of **Task 1**.\n",
    "   - You should also update `__init__()` and `__repr__()` to follow the new syntax of `set()`."
   ]
  },
  {
   "cell_type": "code",
   "execution_count": null,
   "metadata": {
    "deletable": false,
    "nbgrader": {
     "cell_type": "code",
     "checksum": "9ec5f46d64eda7ba9de4b20f19ea60b5",
     "grade": false,
     "grade_id": "cell-411419efe239e9d4",
     "locked": false,
     "schema_version": 3,
     "solution": true,
     "task": false
    }
   },
   "outputs": [],
   "source": [
    "# Update the set() method\n",
    "\n",
    "\n",
    "class Temperature:\n",
    "    '''\n",
    "    A class that stores a temperature value and facilitates conversion\n",
    "    between units.\n",
    "    '''\n",
    "    def __init__(self, temp, **kwargs):\n",
    "        # Paste your code from earlier\n",
    "        self.set(temp, units=kwargs.get('units', 'c').lower())\n",
    "\n",
    "    def __repr__(self):\n",
    "        # Paste your code from earlier\n",
    "        pass\n",
    "\n",
    "    def set(self, temp, **kwargs):\n",
    "        '''\n",
    "        Updates the temperature value, depending on the units given.\n",
    "\n",
    "        Usage:\n",
    "        temp.set(temp, units='c')\n",
    "            sets the temperature to be temp in degrees Celsius\n",
    "\n",
    "        temp.set(temp, units='f')\n",
    "            sets the temperature to be temp in degrees Fahrenheit\n",
    "\n",
    "        temp.set(temp, units='k')\n",
    "            sets the temperature to be temp in Kelvin\n",
    "        '''\n",
    "        # Validation code is already written for you here\n",
    "        units = kwargs.get('units', 'c').lower()\n",
    "        if units is None:\n",
    "            raise KeyError('No units specified '\n",
    "                           '(must be \\'c\\', \\'f\\', or \\'k\\')')\n",
    "        elif type(units) != str:\n",
    "            raise TypeError(f'Invalid input type: got {type(units)}, '\n",
    "                            'str expected')\n",
    "        elif units not in 'cfk':\n",
    "            raise KeyError('Invalid units specified '\n",
    "                           '(must be \\'c\\', \\'f\\', or \\'k\\')')\n",
    "\n",
    "        if type(temp) not in (int, float):\n",
    "            raise TypeError('Invalid input type, '\n",
    "                            'must be int or float.')\n",
    "        ### Type your code here\n",
    "        # No return statement needed\n",
    "        "
   ]
  },
  {
   "cell_type": "code",
   "execution_count": null,
   "metadata": {
    "deletable": false,
    "editable": false,
    "nbgrader": {
     "cell_type": "code",
     "checksum": "8da17b944f91e6e060fd62bea0f22058",
     "grade": true,
     "grade_id": "cell-874e8166cd7d6bcf",
     "locked": true,
     "points": 3,
     "schema_version": 3,
     "solution": false,
     "task": false
    }
   },
   "outputs": [],
   "source": [
    "# AUTOGRADING: Value check\n",
    "\n",
    "test_temp = Temperature(0, units='c')\n",
    "assert test_temp.celsius == 0, \\\n",
    "    ('Wrong value for celsius attribute, '\n",
    "     f'got {test_temp.celsius} instead of 0.')\n",
    "assert test_temp.fahrenheit == 32, \\\n",
    "    ('Wrong value for fahrenheit attribute, '\n",
    "     f'got {test_temp.fahrenheit} instead of 32.')\n",
    "assert test_temp.kelvin == 273.15, \\\n",
    "    ('Wrong value for kelvin attribute, '\n",
    "     f'got {test_temp.kelvin} instead of 273.15.')\n",
    "\n",
    "test_temp = Temperature(0, units='f')\n",
    "assert abs(test_temp.celsius - (-17.8)) < 0.05, \\\n",
    "    ('Wrong value for celsius attribute, '\n",
    "     f'got {test_temp.celsius} instead of -32.')\n",
    "assert test_temp.fahrenheit == 0, \\\n",
    "    ('Wrong value for fahrenheit attribute, '\n",
    "     f'got {test_temp.fahrenheit} instead of 0.')\n",
    "assert abs(test_temp.kelvin - 255.4) < 0.05, \\\n",
    "    ('Wrong value for kelvin attribute, '\n",
    "     f'got {test_temp.kelvin} instead of 255.4.')\n",
    "\n",
    "test_temp = Temperature(0, units='k')\n",
    "assert test_temp.celsius == -273.15, \\\n",
    "    ('Wrong value for celsius attribute, '\n",
    "     f'got {test_temp.celsius} instead of -273.15.')\n",
    "assert abs(test_temp.fahrenheit - (-459.7)) < 0.05, \\\n",
    "    ('Wrong value for fahrenheit attribute, '\n",
    "     f'got {test_temp.fahrenheit} which is too far from -459.7.')\n",
    "assert test_temp.kelvin == 0, \\\n",
    "    ('Wrong value for kelvin attribute, '\n",
    "     f'got {test_temp.kelvin} instead of 0.')"
   ]
  },
  {
   "cell_type": "markdown",
   "metadata": {
    "deletable": false,
    "editable": false,
    "nbgrader": {
     "cell_type": "markdown",
     "checksum": "6261f5013b0bc976c1bc84c3ac2e5879",
     "grade": false,
     "grade_id": "cell-ad1672e66728167f",
     "locked": true,
     "schema_version": 3,
     "solution": false,
     "task": false
    }
   },
   "source": [
    "# Feedback and suggestions\n",
    "\n",
    "Any feedback or suggestions for this assignment?"
   ]
  },
  {
   "cell_type": "markdown",
   "metadata": {
    "deletable": false,
    "nbgrader": {
     "cell_type": "markdown",
     "checksum": "8b2c5aa73b1a793329d6b92780994acd",
     "grade": true,
     "grade_id": "cell-63f8f1cb7ff65bb1",
     "locked": false,
     "points": 0,
     "schema_version": 3,
     "solution": true,
     "task": false
    }
   },
   "source": [
    "YOUR ANSWER HERE"
   ]
  }
 ],
 "metadata": {
  "kernelspec": {
   "display_name": "Python 3",
   "language": "python",
   "name": "python3"
  },
  "language_info": {
   "codemirror_mode": {
    "name": "ipython",
    "version": 3
   },
   "file_extension": ".py",
   "mimetype": "text/x-python",
   "name": "python",
   "nbconvert_exporter": "python",
   "pygments_lexer": "ipython3",
   "version": "3.6.7"
  }
 },
 "nbformat": 4,
 "nbformat_minor": 2
}
