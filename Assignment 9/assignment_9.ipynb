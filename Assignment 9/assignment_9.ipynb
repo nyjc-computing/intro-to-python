{
 "cells": [
  {
   "cell_type": "markdown",
   "metadata": {},
   "source": [
    "## 1-minute introduction to Jupyter ##\n",
    "\n",
    "A Jupyter notebook consists of cells. Each cell contains either text or code.\n",
    "\n",
    "A text cell will not have any text to the left of the cell. A code cell has `In [ ]:` to the left of the cell.\n",
    "\n",
    "If the cell contains code, you can edit it. Press <kbd>Enter</kbd> to edit the selected cell. While editing the code, press <kbd>Enter</kbd> to create a new line, or <kbd>Shift</kbd>+<kbd>Enter</kbd> to run the code. If you are not editing the code, select a cell and press <kbd>Ctrl</kbd>+<kbd>Enter</kbd> to run the code."
   ]
  },
  {
   "cell_type": "markdown",
   "metadata": {},
   "source": [
    "Before you turn this problem in, make sure everything runs as expected. First, **restart the kernel** (in the menubar, select Kernel$\\rightarrow$Restart) and then **run all cells** (in the menubar, select Cell$\\rightarrow$Run All).\n",
    "\n",
    "Make sure you fill in any place that says `YOUR CODE HERE` or \"YOUR ANSWER HERE\", as well as your name and collaborators below:"
   ]
  },
  {
   "cell_type": "code",
   "execution_count": null,
   "metadata": {},
   "outputs": [],
   "source": [
    "NAME = \"\"\n",
    "COLLABORATORS = \"\""
   ]
  },
  {
   "cell_type": "markdown",
   "metadata": {},
   "source": [
    "---"
   ]
  },
  {
   "cell_type": "markdown",
   "metadata": {
    "deletable": false,
    "editable": false,
    "nbgrader": {
     "cell_type": "markdown",
     "checksum": "bd3386e612daf461f6466db7840fa24a",
     "grade": false,
     "grade_id": "cell-a965c0c70630d0c7",
     "locked": true,
     "schema_version": 3,
     "solution": false,
     "task": false
    }
   },
   "source": [
    "# Assignment 9: Recursion\n",
    "\n",
    "In this assignment, you should write your code in a **readable** way, and **modularise** chunks of code that would otherwise be repeated.\n",
    "\n",
    "Modularising a section of program code means to reorganise it in a way that allows it to be reused in another part of the code easily, usually in the form of a function.\n",
    "\n",
    "Your function definitions should have appropriate **docstrings**."
   ]
  },
  {
   "cell_type": "markdown",
   "metadata": {
    "deletable": false,
    "editable": false,
    "nbgrader": {
     "cell_type": "markdown",
     "checksum": "93bcbca273b34fc3577af80f84a298b3",
     "grade": false,
     "grade_id": "cell-5642e8b2c073294a",
     "locked": true,
     "schema_version": 3,
     "solution": false,
     "task": false
    }
   },
   "source": [
    "## Part 1: Shuffling\n",
    "\n",
    "A simple recursive function, `shuffle(inputlist)`, shuffles a list of numbers is as follows:\n",
    "\n",
    "1. Let `inputlist` have length `n`, and its indexes running from `0` to `n - 1`.\n",
    "2. `pop()` a random `list` element from `inputlist` at index `x`, where `0` <= `x` <= `n - 1`. Append this element to a new `list`, `new_list`.\n",
    "3. Call `shuffle()` again with the remaining list, and append the result to `new_list`.\n",
    "\n",
    "Implement `shuffle()` below. Include a simple validation to verify that the input is a `list` type.\n",
    "\n",
    "You may assume that all the elements are `int`. You may use the `randint` function from the `random` module to generate a random index."
   ]
  },
  {
   "cell_type": "code",
   "execution_count": null,
   "metadata": {
    "deletable": false,
    "nbgrader": {
     "cell_type": "code",
     "checksum": "796ae207eaddba26d1f36af4c3a34eb6",
     "grade": false,
     "grade_id": "cell-3e0505a5dd883ba4",
     "locked": false,
     "schema_version": 3,
     "solution": true,
     "task": false
    }
   },
   "outputs": [],
   "source": [
    "def shuffle(inputlist):\n",
    "    "
   ]
  },
  {
   "cell_type": "code",
   "execution_count": null,
   "metadata": {
    "deletable": false,
    "editable": false,
    "nbgrader": {
     "cell_type": "code",
     "checksum": "4015035341785ba021288079cfe1fbf0",
     "grade": true,
     "grade_id": "cell-8774eb740517b1f7",
     "locked": true,
     "points": 1,
     "schema_version": 3,
     "solution": false,
     "task": false
    }
   },
   "outputs": [],
   "source": [
    "# Autograder test for valid docstring\n",
    "import string\n",
    "\n",
    "mark = '✓'\n",
    "docstring = shuffle.__doc__\n",
    "for char in string.whitespace:\n",
    "    docstring = docstring.replace(char,'')\n",
    "\n",
    "try:\n",
    "    assert docstring != '', \\\n",
    "        'No docstring defined for shuffle()'\n",
    "except AssertionError as e:\n",
    "    mark = '✗'\n",
    "    print(e)\n",
    "# Hidden test!\n",
    "\n",
    "result = f'[{mark}] Appropriate docstring  '\n",
    "print(result)"
   ]
  },
  {
   "cell_type": "code",
   "execution_count": null,
   "metadata": {
    "deletable": false,
    "editable": false,
    "nbgrader": {
     "cell_type": "code",
     "checksum": "0174d10064f85d02598705dba3a7fe41",
     "grade": true,
     "grade_id": "cell-c0f7760ca7850727",
     "locked": true,
     "points": 1,
     "schema_version": 3,
     "solution": false,
     "task": false
    }
   },
   "outputs": [],
   "source": [
    "# Autograder test for output\n",
    "\n",
    "mark = '✓'\n",
    "inputlist = list(range(1,10))\n",
    "_inputlist = inputlist.copy()\n",
    "outputlist = shuffle(_inputlist)\n",
    "\n",
    "try:\n",
    "    assert type(outputlist) == list, \\\n",
    "        f'Return value should be a list, not {type(outputlist)}'\n",
    "    assert len(outputlist) == len(inputlist), \\\n",
    "        'Returned list does not have the same number of '\\\n",
    "        'elements as input list'\n",
    "    assert set(outputlist) == set(inputlist), \\\n",
    "        'Returned list does not have the same elements as input list'\n",
    "    assert outputlist != inputlist, \\\n",
    "        'Returned list should not be the same as input list'\n",
    "except AssertionError as e:\n",
    "    mark = '✗'\n",
    "    print(e)\n",
    "\n",
    "try:\n",
    "    assert outputlist != inputlist, \\\n",
    "        'Returned list should not be the same as input list'\n",
    "except AssertionError as e:\n",
    "    mark = '✗'\n",
    "    print(e)\n",
    "\n",
    "result = f'[{mark}] Correct output  '\n",
    "print(result)"
   ]
  },
  {
   "cell_type": "code",
   "execution_count": null,
   "metadata": {
    "deletable": false,
    "editable": false,
    "nbgrader": {
     "cell_type": "code",
     "checksum": "28bf24a22375a8f6af782b651c9146a2",
     "grade": true,
     "grade_id": "cell-c9be70eedcf413a0",
     "locked": true,
     "points": 1,
     "schema_version": 3,
     "solution": false,
     "task": false
    }
   },
   "outputs": [],
   "source": [
    "# Autograding test for recursive call\n",
    "def func(list_):\n",
    "    func.counter += 1\n",
    "    return list_\n",
    "func.counter = 0\n",
    "\n",
    "mark = '✓'\n",
    "__shuffle, shuffle = shuffle, func\n",
    "\n",
    "inputlist = [1, 2, 3, 4, 5]\n",
    "result = __shuffle(inputlist)\n",
    "shuffle = __shuffle\n",
    "\n",
    "try:\n",
    "    assert func.counter > 0, \\\n",
    "        'shuffle() was not called recursively within itself'\n",
    "except AssertionError as e:\n",
    "    mark = '✗'\n",
    "    print(e)\n",
    "\n",
    "result = f'[{mark}] Correct self-invocation  '\n",
    "print(result)"
   ]
  },
  {
   "cell_type": "code",
   "execution_count": null,
   "metadata": {
    "deletable": false,
    "editable": false,
    "nbgrader": {
     "cell_type": "code",
     "checksum": "7d1db59623f0ee2d976455a5e1d4e764",
     "grade": true,
     "grade_id": "cell-e4894f62c4e6dd9a",
     "locked": true,
     "points": 1,
     "schema_version": 3,
     "solution": false,
     "task": false
    }
   },
   "outputs": [],
   "source": [
    "# Autograding test for recursion\n",
    "import functools\n",
    "\n",
    "mark = '✓'\n",
    "__shuffle = shuffle\n",
    "def counter(func, **kwargs):\n",
    "    @functools.wraps(func)\n",
    "    def wrapper(*args, **kwargs):\n",
    "        counter.called += 1\n",
    "        counter.depth += 1\n",
    "        if counter.debug:\n",
    "            print(f'Calling shuffle(), '\n",
    "                  f'depth {counter.depth}, '\n",
    "                  f'calls {counter.called}, '\n",
    "                  f'args {args[0]}')\n",
    "        result = func(*args, **kwargs)\n",
    "        counter.depth -= 1\n",
    "        return result\n",
    "    counter.debug = kwargs.get('debug', False)\n",
    "    return wrapper\n",
    "counter.called, counter.depth = 0, 0\n",
    "counter.depth = 0\n",
    "\n",
    "shuffle = counter(shuffle, debug=False)\n",
    "\n",
    "inputlist = list(range(1,11))\n",
    "return_list = shuffle(inputlist)\n",
    "try:\n",
    "    assert counter.called >= 9, \\\n",
    "        'shuffle() should be called at least 9 times for a '\\\n",
    "        f'10-element list, was called {counter.called} times instead'\n",
    "except AssertionError as e:\n",
    "    mark = '✗'\n",
    "    print(e)\n",
    "finally:\n",
    "    shuffle = __shuffle\n",
    "\n",
    "result = f'[{mark}] Correct recursion depth  '\n",
    "print(result)"
   ]
  },
  {
   "cell_type": "code",
   "execution_count": null,
   "metadata": {
    "deletable": false,
    "editable": false,
    "nbgrader": {
     "cell_type": "code",
     "checksum": "2dcd778cce93fa26a991b30491ad0529",
     "grade": true,
     "grade_id": "cell-05cbacc8ab2c0781",
     "locked": true,
     "points": 1,
     "schema_version": 3,
     "solution": false,
     "task": false
    }
   },
   "outputs": [],
   "source": [
    "# Autograding test for base case\n",
    "mark = '✓'\n",
    "try:\n",
    "    assert shuffle([1]) == [1], \\\n",
    "        'shuffle() does not seem to handle a base case '\\\n",
    "        '(single-element list) properly'\n",
    "except AssertionError as e:\n",
    "    mark = '✗'\n",
    "    print(e)\n",
    "\n",
    "result = f'[{mark}] Correct base case handling  '\n",
    "print(result)"
   ]
  },
  {
   "cell_type": "markdown",
   "metadata": {},
   "source": [
    "## Part 2: Write a palindrome checker\n",
    "\n",
    "A palindrome is a sentence or number with a sequence of letters, such that it reads the same way forwards and backwards.\n",
    "\n",
    "Write a function, `is_palindrome()`, that checks whether an input string is a valid palindrome. Use a recursive algorithm to do so.\n",
    "\n",
    "1. The result should be case-insensitive\n",
    "2. The function should ignore punctuation and whitespace\n",
    "\n",
    "**Hint 1:** A palindrome should have the first and last letters be the same.\n",
    "\n",
    "**Hint 2:** If a string is a valid palindrome, the same string without its first and last letters is also a palindrome."
   ]
  },
  {
   "cell_type": "code",
   "execution_count": null,
   "metadata": {
    "deletable": false,
    "nbgrader": {
     "cell_type": "code",
     "checksum": "ece98ac28de8940ecb08d550308e2eff",
     "grade": false,
     "grade_id": "cell-be18132fed12a054",
     "locked": false,
     "schema_version": 3,
     "solution": true,
     "task": false
    }
   },
   "outputs": [],
   "source": [
    "import string\n",
    "\n",
    "\n",
    "def is_palindrome(inputstr):\n",
    "    \n",
    "    \n",
    "is_palindrome('A man, a plan, a canal, Panama!')"
   ]
  },
  {
   "cell_type": "code",
   "execution_count": null,
   "metadata": {
    "deletable": false,
    "editable": false,
    "nbgrader": {
     "cell_type": "code",
     "checksum": "daf8159b20a5082ed35fca2c41d3d0b8",
     "grade": true,
     "grade_id": "cell-54cf900b3b0f9ff5",
     "locked": true,
     "points": 1,
     "schema_version": 3,
     "solution": false,
     "task": false
    }
   },
   "outputs": [],
   "source": [
    "# Autograder test for valid docstring\n",
    "import string\n",
    "\n",
    "mark = '✓'\n",
    "docstring = is_palindrome.__doc__\n",
    "for char in string.whitespace:\n",
    "    docstring = docstring.replace(char,'')\n",
    "\n",
    "try:\n",
    "    assert docstring != '', \\\n",
    "        'No docstring defined for shuffle()'\n",
    "except AssertionError as e:\n",
    "    mark = '✗'\n",
    "    print(e)\n",
    "# Hidden test!\n",
    "\n",
    "result = f'[{mark}] Appropriate docstring  '\n",
    "print(result)"
   ]
  },
  {
   "cell_type": "code",
   "execution_count": null,
   "metadata": {
    "deletable": false,
    "editable": false,
    "nbgrader": {
     "cell_type": "code",
     "checksum": "8fd3fdb42c582d0d1da82156ab448fdc",
     "grade": true,
     "grade_id": "cell-cd4a2454d599361d",
     "locked": true,
     "points": 1,
     "schema_version": 3,
     "solution": false,
     "task": false
    }
   },
   "outputs": [],
   "source": [
    "# Autograder test for output\n",
    "\n",
    "mark = '✓'\n",
    "testdata = [('ABBA', True),\n",
    "            ('ABBA! ', True),\n",
    "            ('Able was I, ere I saw Elba', True),\n",
    "            ('A man, a plan, a canal, Panama!', True),\n",
    "            ('Not a palindrome', False)\n",
    "            ]\n",
    "\n",
    "for seq, ans in testdata:\n",
    "    try:\n",
    "        result = is_palindrome(seq)\n",
    "        assert result == ans, \\\n",
    "            f'is_palindrome(\"{seq}\") is {result} but should be {ans}'\n",
    "    except AssertionError as e:\n",
    "        mark = '✗'\n",
    "        print(e)\n",
    "\n",
    "result = f'[{mark}] Correct output  '\n",
    "print(result)"
   ]
  },
  {
   "cell_type": "code",
   "execution_count": null,
   "metadata": {
    "deletable": false,
    "editable": false,
    "nbgrader": {
     "cell_type": "code",
     "checksum": "aaf57379812182e1307161fb1d7dc085",
     "grade": true,
     "grade_id": "cell-c4e10aac5dc5ffdc",
     "locked": true,
     "points": 1,
     "schema_version": 3,
     "solution": false,
     "task": false
    }
   },
   "outputs": [],
   "source": [
    "# Autograding test for recursive call\n",
    "def func(list_):\n",
    "    func.counter += 1\n",
    "    return list_\n",
    "func.counter = 0\n",
    "\n",
    "mark = '✓'\n",
    "__is_palindrome, is_palindrome = is_palindrome, func\n",
    "\n",
    "inputstr = 'apalindrome'\n",
    "result = __is_palindrome(inputstr)\n",
    "is_palindrome = __is_palindrome\n",
    "\n",
    "try:\n",
    "    assert func.counter > 0, \\\n",
    "        'is_palindrome() was not called recursively within itself'\n",
    "except AssertionError as e:\n",
    "    mark = '✗'\n",
    "    print(e)\n",
    "\n",
    "result = f'[{mark}] Correct self-invocation  '\n",
    "print(result)"
   ]
  },
  {
   "cell_type": "code",
   "execution_count": null,
   "metadata": {
    "deletable": false,
    "editable": false,
    "nbgrader": {
     "cell_type": "code",
     "checksum": "f8f499f2b90d83acebbaebbc85e9ab7d",
     "grade": true,
     "grade_id": "cell-affbae9f9bc0ae5e",
     "locked": true,
     "points": 1,
     "schema_version": 3,
     "solution": false,
     "task": false
    }
   },
   "outputs": [],
   "source": [
    "# Autograding test for recursion\n",
    "import functools\n",
    "\n",
    "mark = '✓'\n",
    "__is_palindrome = is_palindrome\n",
    "def counter(func, **kwargs):\n",
    "    @functools.wraps(func)\n",
    "    def wrapper(*args, **kwargs):\n",
    "        counter.called += 1\n",
    "        counter.depth += 1\n",
    "        if counter.debug:\n",
    "            print(f'Calling is_palindrome(), '\n",
    "                  f'depth {counter.depth}, '\n",
    "                  f'calls {counter.called}, '\n",
    "                  f'args {args[0]}')\n",
    "        result = func(*args, **kwargs)\n",
    "        counter.depth -= 1\n",
    "        return result\n",
    "    counter.debug = kwargs.get('debug', False)\n",
    "    return wrapper\n",
    "counter.called, counter.depth = 0, 0\n",
    "counter.depth = 0\n",
    "\n",
    "is_palindrome = counter(is_palindrome, debug=False)\n",
    "\n",
    "inputstr = 'A man, a plan, a canal, Panama!'\n",
    "return_str = is_palindrome(inputstr)\n",
    "try:\n",
    "    assert counter.called >= 6, \\\n",
    "        'is_palindrome() should be called at least 10 times for a '\\\n",
    "        f'21-element str, was called {counter.called} times instead'\n",
    "except AssertionError as e:\n",
    "    mark = '✗'\n",
    "    print(e)\n",
    "finally:\n",
    "    is_palindrome = __is_palindrome\n",
    "\n",
    "result = f'[{mark}] Correct recursion depth  '\n",
    "print(result)"
   ]
  },
  {
   "cell_type": "code",
   "execution_count": null,
   "metadata": {
    "deletable": false,
    "editable": false,
    "nbgrader": {
     "cell_type": "code",
     "checksum": "390ed62da05b7beb49157c749ed0387f",
     "grade": true,
     "grade_id": "cell-a9aaf4942f8dbd3a",
     "locked": true,
     "points": 1,
     "schema_version": 3,
     "solution": false,
     "task": false
    }
   },
   "outputs": [],
   "source": [
    "# Autograding test for base case\n",
    "mark = '✓'\n",
    "try:\n",
    "    assert is_palindrome('') == True, \\\n",
    "        'is_palindrome() does not seem to handle a base case '\\\n",
    "        '(empty string) properly'\n",
    "    assert is_palindrome('a') == True, \\\n",
    "        'is_palindrome() does not seem to handle a base case '\\\n",
    "        '(single char) properly'        \n",
    "except AssertionError as e:\n",
    "    mark = '✗'\n",
    "    print(e)\n",
    "\n",
    "result = f'[{mark}] Correct base case handling  '\n",
    "print(result)"
   ]
  },
  {
   "cell_type": "markdown",
   "metadata": {
    "deletable": false,
    "editable": false,
    "nbgrader": {
     "cell_type": "markdown",
     "checksum": "6261f5013b0bc976c1bc84c3ac2e5879",
     "grade": false,
     "grade_id": "cell-ad1672e66728167f",
     "locked": true,
     "schema_version": 3,
     "solution": false,
     "task": false
    }
   },
   "source": [
    "# Feedback and suggestions\n",
    "\n",
    "Any feedback or suggestions for this assignment?"
   ]
  },
  {
   "cell_type": "markdown",
   "metadata": {
    "deletable": false,
    "nbgrader": {
     "cell_type": "markdown",
     "checksum": "8b2c5aa73b1a793329d6b92780994acd",
     "grade": true,
     "grade_id": "cell-63f8f1cb7ff65bb1",
     "locked": false,
     "points": 0,
     "schema_version": 3,
     "solution": true,
     "task": false
    }
   },
   "source": [
    "YOUR ANSWER HERE"
   ]
  }
 ],
 "metadata": {
  "kernelspec": {
   "display_name": "Python 3",
   "language": "python",
   "name": "python3"
  },
  "language_info": {
   "codemirror_mode": {
    "name": "ipython",
    "version": 3
   },
   "file_extension": ".py",
   "mimetype": "text/x-python",
   "name": "python",
   "nbconvert_exporter": "python",
   "pygments_lexer": "ipython3",
   "version": "3.6.7"
  }
 },
 "nbformat": 4,
 "nbformat_minor": 2
}
