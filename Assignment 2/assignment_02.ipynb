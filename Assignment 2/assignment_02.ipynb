{
 "cells": [
  {
   "cell_type": "markdown",
   "metadata": {},
   "source": [
    "## 1-minute introduction to Jupyter ##\n",
    "\n",
    "A Jupyter notebook consists of cells. Each cell contains either text or code.\n",
    "\n",
    "A text cell will not have any text to the left of the cell. A code cell has `In [ ]:` to the left of the cell.\n",
    "\n",
    "If the cell contains code, you can edit it. Press <kbd>Enter</kbd> to edit the selected cell. While editing the code, press <kbd>Enter</kbd> to create a new line, or <kbd>Shift</kbd>+<kbd>Enter</kbd> to run the code. If you are not editing the code, select a cell and press <kbd>Ctrl</kbd>+<kbd>Enter</kbd> to run the code."
   ]
  },
  {
   "cell_type": "markdown",
   "metadata": {},
   "source": [
    "Before you turn this problem in, make sure everything runs as expected. First, **restart the kernel** (in the menubar, select Kernel$\\rightarrow$Restart) and then **run all cells** (in the menubar, select Cell$\\rightarrow$Run All).\n",
    "\n",
    "Make sure you fill in any place that says `YOUR CODE HERE` or \"YOUR ANSWER HERE\", as well as your name and collaborators below:"
   ]
  },
  {
   "cell_type": "code",
   "execution_count": null,
   "metadata": {},
   "outputs": [],
   "source": [
    "NAME = \"\"\n",
    "COLLABORATORS = \"\""
   ]
  },
  {
   "cell_type": "markdown",
   "metadata": {},
   "source": [
    "---"
   ]
  },
  {
   "cell_type": "markdown",
   "metadata": {
    "deletable": false,
    "editable": false,
    "nbgrader": {
     "cell_type": "markdown",
     "checksum": "eb1ac369ef749d89bc9bae0b1abf4fc9",
     "grade": false,
     "grade_id": "cell-91d2155995abe439",
     "locked": true,
     "schema_version": 3,
     "solution": false,
     "task": false
    }
   },
   "source": [
    "# Assignment 2: Basic data manipulation"
   ]
  },
  {
   "cell_type": "markdown",
   "metadata": {
    "deletable": false,
    "editable": false,
    "nbgrader": {
     "cell_type": "markdown",
     "checksum": "937aa1f642c93b7a742402bb0f22310b",
     "grade": false,
     "grade_id": "cell-41126048232d62d6",
     "locked": true,
     "schema_version": 3,
     "solution": false,
     "task": false
    }
   },
   "source": [
    "## Part 1\n",
    "\n",
    "Write program code to:\n",
    "\n",
    "1. ask the user to input a number (decimal or integer),\n",
    "2. determine the number of significant figures in the number,\n",
    "3. print the number of significant figures (sf).\n",
    "\n",
    "You should **validate** the input by stripping any whitespace around the numbers.\n",
    "\n",
    "The following concise set of rules are used to determine if a digit is significant:\n",
    "\n",
    "- All non-zero digits are significant: 1, 2, 3, 4, 5, 6, 7, 8, 9.\n",
    "- Zeros between non-zero digits are significant: 102, 2005, 50009.\n",
    "- Leading zeros are never significant: 0.02, 001.887, 0.000515.\n",
    "- In a number with or without a decimal point, trailing zeros (those to the right of the last non-zero digit) are significant provided they are justified by the precision of their derivation: 389000; 2.02000; 5.400; 57.5400.  \n",
    "(For the purpose of this assignment, you may assume that all trailing zeros are justified by the precision of their derivation.)\n",
    "\n",
    "### Example\n",
    "\n",
    "- Enter a number (decimal or integer): 2.345  \n",
    "  The number 2.345 has 4 significant figures.\n",
    "  \n",
    "  \n",
    "- Enter a number (decimal or integer): 02.345  \n",
    "  The number 02.345 has 4 significant figures.  \n",
    "  \n",
    "  \n",
    "- Enter a number (decimal or integer):    0.0023  \n",
    "  The number 0.0023 has 2 significant figures.  \n",
    "  \n",
    "  \n",
    "- Enter a number (decimal or integer): 2.3400   \n",
    "  The number 2.3400 has 5 significant figures.  \n"
   ]
  },
  {
   "cell_type": "code",
   "execution_count": null,
   "metadata": {
    "deletable": false,
    "nbgrader": {
     "cell_type": "code",
     "checksum": "b6695b7184d33114d76490ad37a93058",
     "grade": true,
     "grade_id": "cell-bf05f4c2eb0e44b3",
     "locked": false,
     "points": 2,
     "schema_version": 3,
     "solution": true,
     "task": false
    }
   },
   "outputs": [],
   "source": [
    "num1 = input('Enter a number (decimal or integer): ')\n",
    "\n",
    "# type your code here\n",
    "\n",
    "# do not change any code beyond this point\n",
    "\n",
    "print('The number',num1,'has',sf,'significant figures.')"
   ]
  },
  {
   "cell_type": "markdown",
   "metadata": {
    "deletable": false,
    "editable": false,
    "nbgrader": {
     "cell_type": "markdown",
     "checksum": "bf7f27d47b8270a3cf26b0ec3fb0e32c",
     "grade": false,
     "grade_id": "cell-24e29726e70353fe",
     "locked": true,
     "schema_version": 3,
     "solution": false,
     "task": false
    }
   },
   "source": [
    "## Part 2\n",
    "\n",
    "Write program code to:\n",
    "\n",
    "1. ask the user to input a number (decimal or integer),\n",
    "2. determine the number of decimal places in the number,\n",
    "3. print the number of decimal places.\n",
    "\n",
    "(For the purpose of this assignment, you may assume that the number of decimal places will be zero or any positive integer.)\n",
    "\n",
    "### Example\n",
    "\n",
    "- Enter a number (decimal or integer): 2.345  \n",
    "  The number 2.345 has 3 decimal places.\n",
    "  \n",
    "  \n",
    "- Enter a number (decimal or integer): 02.345  \n",
    "  The number 02.345 has 3 decimal places.  \n",
    "  \n",
    "  \n",
    "- Enter a number (decimal or integer):    0.0023  \n",
    "  The number 0.0023 has 4 decimal places.  \n",
    "  \n",
    "  \n",
    "- Enter a number (decimal or integer): 2.3400   \n",
    "  The number 2.3400 has 4 decimal places.  \n"
   ]
  },
  {
   "cell_type": "code",
   "execution_count": null,
   "metadata": {
    "deletable": false,
    "nbgrader": {
     "cell_type": "code",
     "checksum": "20c0225afd870a7379af5902a9cf6a64",
     "grade": true,
     "grade_id": "cell-3319be19bd3fe76b",
     "locked": false,
     "points": 2,
     "schema_version": 3,
     "solution": true,
     "task": false
    }
   },
   "outputs": [],
   "source": [
    "num2 = input('Enter a number (decimal or integer): ')\n",
    "\n",
    "# type your code here\n",
    "\n",
    "# do not change any code beyond this point\n",
    "\n",
    "print('The number',num2,'has',dp,'decimal places.')"
   ]
  },
  {
   "cell_type": "markdown",
   "metadata": {
    "deletable": false,
    "editable": false,
    "nbgrader": {
     "cell_type": "markdown",
     "checksum": "1b36a6470e76a40da18d123cba49d1a1",
     "grade": false,
     "grade_id": "cell-e5d8d86419a9e518",
     "locked": true,
     "schema_version": 3,
     "solution": false,
     "task": false
    }
   },
   "source": [
    "## Part 3\n",
    "\n",
    "Scientific E notation is a way of presenting very large or very small numbers in scientific notation (i.e. standard form) without the `×` symbol, superscripts, or subscripts.\n",
    "\n",
    "**Example**\n",
    "\n",
    "The following examples show text-based scientific notation on the left and scientific E notation on the right:\n",
    "\n",
    "1. \"1.03x10^7\" → \"1.03E7\"\n",
    "2. \"2.008x10^-5\" → \"2.008E-5\"\n",
    "\n",
    "In both examples, the letter `x` represents the 'multiply' mathematical operator, while the caret symbol (`^`) represents the 'power of' mathematical operator. In example 1, the \"1.03\" part of the number is called the **mantissa** (or *significand*), while the power of 10, i.e. the \"7\", is called the **exponent**.\n",
    "\n",
    "Write program code to:\n",
    "\n",
    "1. ask the user to input a number in valid scientific notation,\n",
    "2. extract the mantissa and exponent from user input,\n",
    "3. print the number in scientific notation.\n",
    "\n",
    "*Hint: You can search for the positions of special characters in scientific notation to extract substrings from user input.*"
   ]
  },
  {
   "cell_type": "code",
   "execution_count": null,
   "metadata": {
    "deletable": false,
    "nbgrader": {
     "cell_type": "code",
     "checksum": "e6ddf161091c6f1c90758a3c4dfedcc3",
     "grade": true,
     "grade_id": "cell-abe24e25b290bb48",
     "locked": false,
     "points": 3,
     "schema_version": 3,
     "solution": true,
     "task": false
    }
   },
   "outputs": [],
   "source": [
    "stdform = input('Enter a number in valid scientific notation: ')\n",
    "\n",
    "# type your code here\n",
    "\n",
    "# do not change any code beyond this point\n",
    "\n",
    "print('This number in E notation is',e_notation+'.')"
   ]
  },
  {
   "cell_type": "markdown",
   "metadata": {
    "deletable": false,
    "editable": false,
    "nbgrader": {
     "cell_type": "markdown",
     "checksum": "d00fa0de87477ef4f1dbba9d64744b1b",
     "grade": false,
     "grade_id": "cell-28c016e78cb16e31",
     "locked": true,
     "schema_version": 3,
     "solution": false,
     "task": false
    }
   },
   "source": [
    "# Feedback and suggestions\n",
    "\n",
    "Any feedback or suggestions for this assignment?"
   ]
  },
  {
   "cell_type": "markdown",
   "metadata": {
    "deletable": false,
    "nbgrader": {
     "cell_type": "markdown",
     "checksum": "aa206c2aa80785a2fd6419858cf94f78",
     "grade": true,
     "grade_id": "cell-f0b5780027ac2192",
     "locked": false,
     "points": 0,
     "schema_version": 3,
     "solution": true,
     "task": false
    }
   },
   "source": [
    "YOUR ANSWER HERE"
   ]
  }
 ],
 "metadata": {
  "kernelspec": {
   "display_name": "Python 3",
   "language": "python",
   "name": "python3"
  },
  "language_info": {
   "codemirror_mode": {
    "name": "ipython",
    "version": 3
   },
   "file_extension": ".py",
   "mimetype": "text/x-python",
   "name": "python",
   "nbconvert_exporter": "python",
   "pygments_lexer": "ipython3",
   "version": "3.6.7"
  }
 },
 "nbformat": 4,
 "nbformat_minor": 2
}
