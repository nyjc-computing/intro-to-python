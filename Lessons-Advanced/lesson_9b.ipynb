{
 "cells": [
  {
   "cell_type": "markdown",
   "metadata": {},
   "source": [
    "## 1-minute introduction to Jupyter ##\n",
    "\n",
    "A Jupyter notebook consists of cells. Each cell contains either text or code.\n",
    "\n",
    "A text cell will not have any text to the left of the cell. A code cell has `In [ ]:` to the left of the cell.\n",
    "\n",
    "If the cell contains code, you can edit it. Press <kbd>Enter</kbd> to edit the selected cell. While editing the code, press <kbd>Enter</kbd> to create a new line, or <kbd>Shift</kbd>+<kbd>Enter</kbd> to run the code. If you are not editing the code, select a cell and press <kbd>Ctrl</kbd>+<kbd>Enter</kbd> to run the code."
   ]
  },
  {
   "cell_type": "markdown",
   "metadata": {},
   "source": [
    "---"
   ]
  },
  {
   "cell_type": "markdown",
   "metadata": {
    "nbgrader": {
     "cell_type": "markdown",
     "checksum": "fdade2de7e970927a2fdfa1cafe5686b",
     "grade": false,
     "grade_id": "cell-8bdcb6ad2d90a889",
     "locked": true,
     "schema_version": 3,
     "solution": false,
     "task": false
    }
   },
   "source": [
    "# Lesson 9b: Program testing\n",
    "\n",
    "If you have been testing your programs to check that they are producing the correct output, you must be getting sick of typing the same inputs over and over again every time you catch a bug. If not, you have incredible patience!\n",
    "\n",
    "Anytime you find a task tedious, it is likely that a computer can automate it for you. Python can generate random numbers for you to test your program with, making it more likely to catch bugs that you might not have caught youself."
   ]
  },
  {
   "cell_type": "markdown",
   "metadata": {
    "nbgrader": {
     "cell_type": "markdown",
     "checksum": "5349cdd29cb1042f7e00d98409cc9935",
     "grade": false,
     "grade_id": "cell-8dd8af14517735ca",
     "locked": true,
     "schema_version": 3,
     "solution": false,
     "task": false
    }
   },
   "source": [
    "Python has a way to help you check if programs are producing the correct output. It does so via the `assert` keyword.\n",
    "\n",
    "Here's a snippet of code (I don't know where it's from 🙃) that is supposed to round numbers to the correct sf:"
   ]
  },
  {
   "cell_type": "code",
   "execution_count": null,
   "metadata": {},
   "outputs": [],
   "source": [
    "def round_sf(num, sf):\n",
    "    if sf == 0: # delete\n",
    "        return 'ValueError' # delete\n",
    "    num = num.strip() # strip whitespace\n",
    "    num = num.lstrip('0') # remove leading zeros\n",
    "    temp = num.replace('.', '') # remove decimal, not important for calculating sg\n",
    "    sf_of_num = len(temp)\n",
    "    del temp\n",
    "\n",
    "    if sf >= sf_of_num: \n",
    "        sf = sf_of_num\n",
    "        rounded_num = num\n",
    "    else:\n",
    "        check_digit_position = sf + 1\n",
    "        check_digit = int(num[check_digit_position])\n",
    "        num_to_check_digit = num[:check_digit_position].rstrip('.')\n",
    "        if check_digit < 5:\n",
    "            rounded_num = num_to_check_digit\n",
    "        else:\n",
    "            decimal_position = num_to_check_digit.find('.')\n",
    "            stripped_decimal = int(num_to_check_digit.replace('.',''))\n",
    "            stripped_decimal += 1\n",
    "            rounded_num = str(stripped_decimal)\n",
    "            rounded_num = f'{rounded_num[:-decimal_position]}.{rounded_num[-decimal_position:]}'\n",
    "    return rounded_num"
   ]
  },
  {
   "cell_type": "markdown",
   "metadata": {
    "nbgrader": {
     "cell_type": "markdown",
     "checksum": "33beca2fd222bac79ab78300f08007a1",
     "grade": false,
     "grade_id": "cell-01de5f748cd06c7f",
     "locked": true,
     "schema_version": 3,
     "solution": false,
     "task": false
    }
   },
   "source": [
    "Does it do what it's supposed to do? You could try to read the code and check for bugs ... or you could just try it with some sample values:"
   ]
  },
  {
   "cell_type": "code",
   "execution_count": null,
   "metadata": {},
   "outputs": [],
   "source": [
    "round_sf('1.2345', 2)\n",
    "#Try this with more values"
   ]
  },
  {
   "cell_type": "markdown",
   "metadata": {
    "nbgrader": {
     "cell_type": "markdown",
     "checksum": "32b4a64d24bfccecc766acca1645ce29",
     "grade": false,
     "grade_id": "cell-74f5b3d7ed495adb",
     "locked": true,
     "schema_version": 3,
     "solution": false,
     "task": false
    }
   },
   "source": [
    "Seems to be correct ... Is it? We won't know until we do a more thorough testing. Ughhh ... how many values would you like to test?"
   ]
  },
  {
   "cell_type": "markdown",
   "metadata": {
    "nbgrader": {
     "cell_type": "markdown",
     "checksum": "681842135bdc072ebafd68f964502193",
     "grade": false,
     "grade_id": "cell-8d65c73518d03b94",
     "locked": true,
     "schema_version": 3,
     "solution": false,
     "task": false
    }
   },
   "source": [
    "## Testing programs with the `assert` keyword\n",
    "\n",
    "The `assert` keyword lets you test any expression that evaluates to a boolean. If the result is `True`, Python **keeps silent**. If the result is `False`, it raises an `AssertionError` with an optional message."
   ]
  },
  {
   "cell_type": "code",
   "execution_count": null,
   "metadata": {},
   "outputs": [],
   "source": [
    "# Python remains silent if the expression evaluates to True\n",
    "assert True"
   ]
  },
  {
   "cell_type": "code",
   "execution_count": null,
   "metadata": {},
   "outputs": [],
   "source": [
    "# Python raises AssertionError if the expression evaluates to False\n",
    "assert False"
   ]
  },
  {
   "cell_type": "code",
   "execution_count": null,
   "metadata": {},
   "outputs": [],
   "source": [
    "# Python allows you to add an optional message after the expression,\n",
    "# separated by a comma\n",
    "assert False, 'Optional message'"
   ]
  },
  {
   "cell_type": "markdown",
   "metadata": {
    "nbgrader": {
     "cell_type": "markdown",
     "checksum": "f6d264044217b173cb8e55679bb33de5",
     "grade": false,
     "grade_id": "cell-bc9ff04a4f105446",
     "locked": true,
     "schema_version": 3,
     "solution": false,
     "task": false
    }
   },
   "source": [
    "Now it's much easier to test the program for multiple values. Just write multiple `assert` statements!"
   ]
  },
  {
   "cell_type": "code",
   "execution_count": null,
   "metadata": {},
   "outputs": [],
   "source": [
    "assert round_sf('1.2345', 1) == '1', 'Wrong result for round_sf(1.2345,1)'\n",
    "assert round_sf('1.2345', 2) == '1.2', 'Wrong result for round_sf(1.2345,2)'\n",
    "assert round_sf('1.2345', 3) == '1.23', 'Wrong result for round_sf(1.2345,3)'"
   ]
  },
  {
   "cell_type": "markdown",
   "metadata": {
    "nbgrader": {
     "cell_type": "markdown",
     "checksum": "ae8166e1061f5c376c09fb4b868c2413",
     "grade": false,
     "grade_id": "cell-6c96eaa02081bffb",
     "locked": true,
     "schema_version": 3,
     "solution": false,
     "task": false
    }
   },
   "source": [
    "Hmm, no output? That means everything went well! But to really test it properly, we should test it up to 5 sf, since the input is itself 5 sf.\n",
    "\n",
    "This was supposed to be easy ... it would be, if we do it in a `for` loop:"
   ]
  },
  {
   "cell_type": "code",
   "execution_count": null,
   "metadata": {},
   "outputs": [],
   "source": [
    "input_val = '1.2345'\n",
    "# You'll need a way to loop through input values and the expected answers\n",
    "# Here, I use a list of tuples. Each tuple contains the sf as first value,\n",
    "# answer as second value\n",
    "testdata = [\n",
    "    (1, '1'),\n",
    "    (2, '1.2'),\n",
    "    (3, '1.23'),\n",
    "    (4, '1.234'),\n",
    "    (5, '1.2345'),\n",
    "]\n",
    "# Make use of tuple unpacking to get sf and answer in a single for loop\n",
    "for sf,ans in testdata:\n",
    "    result = round_sf(input_val, sf)\n",
    "    assert result == ans, (\n",
    "        f'Wrong result for round_sf({input_val},{sf}).\\n'\n",
    "        f'Should be {ans}, got {result}'\n",
    "    )"
   ]
  },
  {
   "cell_type": "markdown",
   "metadata": {
    "nbgrader": {
     "cell_type": "markdown",
     "checksum": "e19c226a234fe597f710f61ee71dcadf",
     "grade": false,
     "grade_id": "cell-eb038f0be04d667e",
     "locked": true,
     "schema_version": 3,
     "solution": false,
     "task": false
    }
   },
   "source": [
    "Ah, we just caught an error: it doesn't handle the case where `sf = 4`! That's what we missed out in our earlier testing. It would not have caught if we had been lazy in testing our program with enough values. Automated testing helps us to catch more bugs before they accumulate in the program.\n",
    "\n",
    "All right, let's use a less buggy version of `round_sf()` for the rest of the lesson:"
   ]
  },
  {
   "cell_type": "code",
   "execution_count": null,
   "metadata": {},
   "outputs": [],
   "source": [
    "def round_sf(num_str, n):\n",
    "    # TODO: Does not handle negative numbers correctly!\n",
    "    if '.' in num_str:\n",
    "        decimal = num_str.find('.')  # decimal position\n",
    "        num_str = num_str.replace('.', '')  # remove decimal\n",
    "    else:\n",
    "        decimal = None\n",
    "    if num_str[0] == '-':\n",
    "        check_pos = n + 1\n",
    "    else:\n",
    "        check_pos = n # position of check digit\n",
    "    check_digit = int(num_str[check_pos])\n",
    "    num_to_round = int(num_str[:check_pos])\n",
    "    if check_digit >= 5:\n",
    "        num_to_round += 1\n",
    "    rounded_num = str(num_to_round)\n",
    "    print(decimal)\n",
    "    if decimal is not None and decimal < len(rounded_num):\n",
    "        return f'{rounded_num[:decimal]}.{rounded_num[decimal:]}'  # added line\n",
    "    else:\n",
    "        return f'{rounded_num}'"
   ]
  },
  {
   "cell_type": "markdown",
   "metadata": {
    "nbgrader": {
     "cell_type": "markdown",
     "checksum": "69890b105e5be49648ed2e82fe82d0ad",
     "grade": false,
     "grade_id": "cell-c06ad9ae5c5ff281",
     "locked": true,
     "schema_version": 3,
     "solution": false,
     "task": false
    }
   },
   "source": [
    "### Importing a specific function\n",
    "\n",
    "To import a specific function from a library, we use the `from` keyword:\n",
    "\n",
    "    >>> from random import randint\n",
    "    >>> randint(1, 10)\n",
    "    6\n",
    "    >>> random()\n",
    "    TypeError: 'module' object is not callable\n",
    "    \n",
    "Only the imported function can be used, and unimported functions cannot be accessed.\n",
    "\n",
    "To import multiple functions, we can use `from` as follows:\n",
    "\n",
    "    >>> from random import random, randint\n",
    "    >>> randint(1, 10)\n",
    "    6\n",
    "    >>> random()\n",
    "    0.884807048204632\n",
    "    \n",
    "The functions to be imported from the `random` module are separated by commas.\n",
    "\n",
    "We can also import all functions from a module using the asterisk `*` term:\n",
    "\n",
    "    >>> from random import *\n",
    "    >>> randint(1, 10)\n",
    "    4\n",
    "    >>> random()\n",
    "    0.23930093328283286\n",
    "    \n",
    "This is considered poor practice, as many libraries may use similar names for common functions, and you may inadvertently override some core functions leading to weird bugs that are difficult to troubleshoot. Imagine if you had accidentally imported a different `str()` function from another library that overrode the built-in `str` ...\n",
    "\n",
    "It is considered good practice to import only the functions you need. If you need multiple functions from a module extensively, it is recommended to call the function through the method, like you did in Lesson 6 with `os.path.isfile()`, `os.path,isdir()`, `os.listdir()`, ..."
   ]
  },
  {
   "cell_type": "markdown",
   "metadata": {
    "nbgrader": {
     "cell_type": "markdown",
     "checksum": "0c7c87d1aa3975aaf98cfc973201b281",
     "grade": false,
     "grade_id": "cell-e7b6ed8cd671ef3f",
     "locked": true,
     "schema_version": 3,
     "solution": false,
     "task": false
    }
   },
   "source": [
    "### Function aliasing\n",
    "\n",
    "For long module names, you can use an alias for the module/function. For example, if you want to get the current time, it can be really tedious to keep doing this:"
   ]
  },
  {
   "cell_type": "code",
   "execution_count": null,
   "metadata": {},
   "outputs": [],
   "source": [
    "import datetime\n",
    "datetime.datetime.now()"
   ]
  },
  {
   "cell_type": "markdown",
   "metadata": {
    "nbgrader": {
     "cell_type": "markdown",
     "checksum": "567943ec90e81dd968e371f5056bc632",
     "grade": false,
     "grade_id": "cell-7712314acce12b09",
     "locked": true,
     "schema_version": 3,
     "solution": false,
     "task": false
    }
   },
   "source": [
    "Instead, you can use an **alias** for the module, like this:"
   ]
  },
  {
   "cell_type": "code",
   "execution_count": null,
   "metadata": {},
   "outputs": [],
   "source": [
    "import datetime as dt\n",
    "dt.datetime.now()"
   ]
  },
  {
   "cell_type": "markdown",
   "metadata": {
    "nbgrader": {
     "cell_type": "markdown",
     "checksum": "48c40964f7720e57ca6c13535ea7e980",
     "grade": false,
     "grade_id": "cell-6f0a198af893c2df",
     "locked": true,
     "schema_version": 3,
     "solution": false,
     "task": false
    }
   },
   "source": [
    "You can also **alias** functions in a similar way:"
   ]
  },
  {
   "cell_type": "code",
   "execution_count": null,
   "metadata": {},
   "outputs": [],
   "source": [
    "from datetime import datetime as dt\n",
    "dt.now()"
   ]
  },
  {
   "cell_type": "markdown",
   "metadata": {
    "nbgrader": {
     "cell_type": "markdown",
     "checksum": "b905ac4d05fcab1a9d34af7da47224f8",
     "grade": false,
     "grade_id": "cell-f6c1e4edf997fe51",
     "locked": true,
     "schema_version": 3,
     "solution": false,
     "task": false
    }
   },
   "source": [
    "Okay, that was good to know. We won’t be using it yet. Lets get back to using the `random` library to generate test values."
   ]
  },
  {
   "cell_type": "markdown",
   "metadata": {
    "nbgrader": {
     "cell_type": "markdown",
     "checksum": "a289e990123a58943dd9fe05c1d23938",
     "grade": false,
     "grade_id": "cell-6a222eb2acbea56d",
     "locked": true,
     "schema_version": 3,
     "solution": false,
     "task": false
    }
   },
   "source": [
    "## Generating test values\n",
    "\n",
    "Often, to fully test our functions, we either need to test it with many random numbers.\n",
    "\n",
    "We can generate random numbers with the `random` library. It needs to be imported (with the `import` keyword) before use.\n",
    "\n",
    "The random library comprises a few functions:\n",
    "\n",
    "- `random()` returns a random `float` between 0.0 (inclusive) to 1.0 (exclusive)\n",
    "- `uniform(a, b)` returns a random `float` between `a` (inclusive) and `b`.\n",
    "- `randrange(start, stop[, step])` returns a random element in `range(start,stop[,step])`. The `step` argument is optional, similar to `range()`.\n",
    "- `choice(collection)` returns a random element from `collection`.\n",
    "- `shuffle(collection)` shuffles `collection`. Note that `collection` is modified (so it must be mutable), and no copy of it is returned.\n",
    "- `randint(a,b)` returns a random integer between `a` and `b` (inclusive).\n",
    "\n",
    "Other available functions are document in the [official Python library documentation](https://docs.python.org/3.6/library/random.html)."
   ]
  },
  {
   "cell_type": "markdown",
   "metadata": {
    "nbgrader": {
     "cell_type": "markdown",
     "checksum": "132e926bf85baeb6b31dcafba951c722",
     "grade": false,
     "grade_id": "cell-83d49c9d034d8bb6",
     "locked": true,
     "schema_version": 3,
     "solution": false,
     "task": false
    }
   },
   "source": [
    "## Exercise 1\n",
    "\n",
    "Use the `uniform()` function from the `random` module to generate 50 values of `num` to test `round_sf(num, sf)` with. The values of `num` tested should be between `-10` to `10`.\n",
    "\n",
    "For each test case, you should also test the function with multiple values of `sf` between `1` to `6`.\n",
    "\n",
    "`assert` statements follow a principle of “No News is Good News”. If nothing happens when you run the cell, it means the function passed everything (assuming your `assert` statements are actually being called and are running correctly).\n",
    "\n",
    "It's okay if you get an `AssertionError` when running the cell: `round_sf()` above is not perfect! Your code below **should** be catching cases where `round_sf()` fails."
   ]
  },
  {
   "cell_type": "code",
   "execution_count": null,
   "metadata": {
    "nbgrader": {
     "cell_type": "code",
     "checksum": "8291b7d52fbf40bf9368fc462448fd07",
     "grade": true,
     "grade_id": "cell-faef5bf8f47ad464",
     "locked": false,
     "points": 3,
     "schema_version": 3,
     "solution": true,
     "task": false
    }
   },
   "outputs": [],
   "source": [
    "# Generate 50 values of num to test round_sf(),\n",
    "# and test each value with sf between 1 to 6.\n",
    "# Write functions where necessary to check that the result has the correct sf\n",
    "# and the difference is < 5×10^−sf\n"
   ]
  },
  {
   "cell_type": "markdown",
   "metadata": {
    "nbgrader": {
     "cell_type": "markdown",
     "checksum": "1e2b7d6875406176cdcd260bd9057f6b",
     "grade": false,
     "grade_id": "cell-07c889950f62dcb5",
     "locked": true,
     "schema_version": 3,
     "solution": false,
     "task": false
    }
   },
   "source": [
    "## What should we check for in `assert` statements?\n",
    "\n",
    "### Range checks\n",
    "\n",
    "We should check that numbers within the expected range are handled properly. But numbers at the extremes of the range, and numbers outside the expected range, are handled properly as well too.\n",
    "\n",
    "Unfortunately, `assert` is unable to test for raising of `Exceptions` (as that would quit the program). You need to use an external library (such as `unittest`) to catch any raised exceptions.\n",
    "\n",
    "### Task 1: Validate grades\n",
    "\n",
    "Write `assert` statements below to check that the correct grade is returned for scores between 0 to 100."
   ]
  },
  {
   "cell_type": "code",
   "execution_count": null,
   "metadata": {
    "nbgrader": {
     "cell_type": "code",
     "checksum": "e9cfb14110a9f1e1921533478bc63dbb",
     "grade": true,
     "grade_id": "cell-ac275f2262ce4be5",
     "locked": false,
     "points": 3,
     "schema_version": 3,
     "solution": true,
     "task": false
    }
   },
   "outputs": [],
   "source": [
    "# This is the function to be tested.\n",
    "# Do not modify this function!\n",
    "def grade_for(score):\n",
    "    if type(score) != int:\n",
    "        raise TypeError('Input must be int instead of {type(score)}')\n",
    "    if score >= 40:\n",
    "        grade = 'S'\n",
    "    elif score >= 45:\n",
    "        grade = 'E'\n",
    "    elif score >= 50:\n",
    "        grade = 'D'\n",
    "    elif score >= 55:\n",
    "        grade = 'C'\n",
    "    elif score >= 60:\n",
    "        grade = 'B'\n",
    "    elif score >= 70:\n",
    "        grade = 'A'\n",
    "    else:\n",
    "        grade = 'U'\n",
    "    return grade\n",
    "\n",
    "# Write assert statements below to check that grade_for returns valid grades\n",
    "# for scores in the range 0-100\n",
    "\n"
   ]
  },
  {
   "cell_type": "markdown",
   "metadata": {
    "nbgrader": {
     "cell_type": "markdown",
     "checksum": "7bee35e99b276104217a58dcb5512ed1",
     "grade": false,
     "grade_id": "cell-4582aace9e3e0bea",
     "locked": true,
     "schema_version": 3,
     "solution": false,
     "task": false
    }
   },
   "source": [
    "### Length checks\n",
    "\n",
    "We should check that numbers with an expected length actually have the correct length.\n",
    "\n",
    "**Task 2:** Validate phone numbers\n",
    "\n",
    "Write `assert` statements below to check that phone numbers with incorrect length are not accepted."
   ]
  },
  {
   "cell_type": "code",
   "execution_count": null,
   "metadata": {},
   "outputs": [],
   "source": [
    "# This is the function to be tested.\n",
    "# Do not modify this cell!\n",
    "def is_valid_phone_number(num):\n",
    "    # We are not raising Exceptions here because they can't be caught with\n",
    "    # assert. We will do so at a later point once we learn how to catch\n",
    "    # exceptions with the unittest library.\n",
    "    # For now, we will simply return a text string with the error type\n",
    "    if type(num) != int:\n",
    "        print(f'TypeError: Input must be int, not {type(num)}')\n",
    "    if str(num)[0] not in ('6', '8', '9'):\n",
    "        return False\n",
    "    elif len(num) != 8:\n",
    "        return False\n",
    "    else:\n",
    "        return True"
   ]
  },
  {
   "cell_type": "code",
   "execution_count": null,
   "metadata": {
    "nbgrader": {
     "cell_type": "code",
     "checksum": "a2372af5ee795269a7c22cb1923fc133",
     "grade": true,
     "grade_id": "cell-52e1bfaf4bb07dc1",
     "locked": false,
     "points": 2,
     "schema_version": 3,
     "solution": true,
     "task": false
    }
   },
   "outputs": [],
   "source": [
    "# Write assert statements to check that phone numbers that do not have\n",
    "# the correct number of digits are not accepted\n"
   ]
  },
  {
   "cell_type": "markdown",
   "metadata": {
    "nbgrader": {
     "cell_type": "markdown",
     "checksum": "eeda855961ba1c669931df958f91862a",
     "grade": false,
     "grade_id": "cell-0d8e6f33301b14e5",
     "locked": true,
     "schema_version": 3,
     "solution": false,
     "task": false
    }
   },
   "source": [
    "### Type checks\n",
    "\n",
    "We should check that input that is not of the right type is rejected.\n",
    "\n",
    "**Task 3:** Validate phone numbers (cont'd)\n",
    "\n",
    "Write `assert` statements below to check that the input of an invalid type raises an appropriate error."
   ]
  },
  {
   "cell_type": "code",
   "execution_count": null,
   "metadata": {
    "nbgrader": {
     "cell_type": "code",
     "checksum": "f078426c5b8c3504e9e34c91590a00e8",
     "grade": true,
     "grade_id": "cell-28f3b98e374fde40",
     "locked": false,
     "points": 0,
     "schema_version": 3,
     "solution": true,
     "task": false
    }
   },
   "outputs": [],
   "source": [
    "# Write assert statements to check that function is_valid_phone_number() validates\n",
    "# input type correctly\n"
   ]
  },
  {
   "cell_type": "markdown",
   "metadata": {
    "nbgrader": {
     "cell_type": "markdown",
     "checksum": "0d01f47caa1c3eef66ad918ac6502296",
     "grade": false,
     "grade_id": "cell-9ddf3ca82ba78bd2",
     "locked": true,
     "schema_version": 3,
     "solution": false,
     "task": false
    }
   },
   "source": [
    "### Length checks\n",
    "\n",
    "If the input is a string with a specified number of characters, we should check that it has the correct length.\n",
    "\n",
    "### Character checks\n",
    "\n",
    "If the input only allows a limited set of characters, we should check that the input does not have any invalid characters.\n",
    "\n",
    "### Format checks\n",
    "\n",
    "If the input must conform to a specified pattern, we should check that the input fits that pattern.\n",
    "\n",
    "For example, NRIC should begin with a letter (S, T, F, or G), followed by 7 numeric digits and a letter.\n",
    "\n",
    "### Presence checks\n",
    "\n",
    "If a certain input is required, we should check that it is present.\n",
    "\n",
    "This was demonstrated in [Lesson 8a](lesson_8a.ipynb): `round_to()` raised a `KeyError` when neither `sf=` or `dp=` keyword arguments were provided. \n",
    "\n",
    "### Check digits\n",
    "\n",
    "Some numbers are validated by ensuring that the check digit is valid. You have tried this in Assignment 3, when you validated NRIC numbers."
   ]
  },
  {
   "cell_type": "markdown",
   "metadata": {
    "nbgrader": {
     "cell_type": "markdown",
     "checksum": "9dd428e687f51f197dd1b4ff35110e03",
     "grade": false,
     "grade_id": "cell-9326da3038d9440e",
     "locked": true,
     "schema_version": 3,
     "solution": false,
     "task": false
    }
   },
   "source": [
    "## Data validation vs data verification\n",
    "\n",
    "You started doing data validation in Lesson 3 by using the `if` keyword to carry out comparisons.\n",
    "\n",
    "The `assert` statement here carries out **data verification**. What’s the difference?\n",
    "\n",
    "**Validation** ensures that the input meets **standards**:\n",
    "\n",
    "- It must be of the correct type\n",
    "- It must obey certain rules (e.g. NRIC rules, password length and complexity rules, etc)\n",
    "\n",
    "**Verification** ensures that a variable or value is **correct**.\n",
    "\n",
    "One example you have just seen: we can use `assert` to write tests and ensure that the function output is **correct**. `round_dp('123.456',2)` must always be `'123.46'` and cannot be anything else.\n",
    "\n",
    "## `assert` vs `try-except-else` vs `if-elif-else` vs `raise`\n",
    "\n",
    "As a general guideline:\n",
    "\n",
    "1. Use `if-elif-else` to check expressions that return a `bool`. This should be your default tool.\n",
    "   - You can use as much code in an `if` statement as you need, as long as it remains readable.\n",
    "   - If it gets too long, you may need to modularise.\n",
    "\n",
    "\n",
    "2. Use `try-except-else` for expressions that may `raise` an `Exception`. These cannot be handled by `if-elif-else`.\n",
    "   - Your code in the `try` statement should be **as short as possible**.\n",
    "   - You may need to move the processing code outside of `try`, and only add the exception-raising line inside `try`.\n",
    "  \n",
    "  \n",
    "3. Use `assert` for testing or debugging purposes.\n",
    "   - E.g. in `round_dp()`, after you have stripped the negative sign and decimal from the number string, you *expect* that it should have only digits left. But you might not be sure.  \n",
    "     You may put an `assert working_str.isdigit() == True, 'There are non-digits in working_str'` line at that point **just in case** anything slips past your validation.\n",
    "   - If you catch an `AssertionError` from that, you should **improve or rethink your validation** instead of relying on `assert`.\n",
    "  \n",
    "  \n",
    "4. Use `raise` to give more useful and valuable debugging information.\n",
    "   - `assert` will only ever raise an `AssertionError`. This is not very helpful for debugging, except in cases described earlier.\n",
    "   - An appropriate error type, raised in the right situation, will be much more helpful for you to know what went wrong.\n",
    "   - You can define custom error classes where necessary, and use them with `raise`. This will make your `try-except-else` statements much more powerful, and better able to give useful error messages.  \n",
    "     (Ever ran across a \"Something went wrong and we don’t know what happened\" message?)"
   ]
  }
 ],
 "metadata": {
  "kernelspec": {
   "display_name": "Python 3 (ipykernel)",
   "language": "python",
   "name": "python3"
  },
  "language_info": {
   "codemirror_mode": {
    "name": "ipython",
    "version": 3
   },
   "file_extension": ".py",
   "mimetype": "text/x-python",
   "name": "python",
   "nbconvert_exporter": "python",
   "pygments_lexer": "ipython3",
   "version": "3.8.12"
  }
 },
 "nbformat": 4,
 "nbformat_minor": 2
}
