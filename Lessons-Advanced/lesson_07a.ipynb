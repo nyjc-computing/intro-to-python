{
 "cells": [
  {
   "cell_type": "markdown",
   "metadata": {},
   "source": [
    "## 1-minute introduction to Jupyter ##\n",
    "\n",
    "A Jupyter notebook consists of cells. Each cell contains either text or code.\n",
    "\n",
    "A text cell will not have any text to the left of the cell. A code cell has `In [ ]:` to the left of the cell.\n",
    "\n",
    "If the cell contains code, you can edit it. Press <kbd>Enter</kbd> to edit the selected cell. While editing the code, press <kbd>Enter</kbd> to create a new line, or <kbd>Shift</kbd>+<kbd>Enter</kbd> to run the code. If you are not editing the code, select a cell and press <kbd>Ctrl</kbd>+<kbd>Enter</kbd> to run the code."
   ]
  },
  {
   "cell_type": "markdown",
   "metadata": {
    "nbgrader": {
     "cell_type": "markdown",
     "checksum": "8c8e8ba89b32c69a822083fde3766282",
     "grade": false,
     "grade_id": "cell-8dd8af14517735ca",
     "locked": true,
     "schema_version": 3,
     "solution": false,
     "task": false
    }
   },
   "source": [
    "# Lesson 7a: Python data types: `dict`\n",
    "\n",
    "In lesson 4, we learnt that nested lists are one way to store data that would not fit neatly into a `list`. And we used this in lesson 6 to store student data, which includes their name and class.\n",
    "\n",
    "    >>> studentdata\n",
    "    [['Alice', '2001'], ['Bob', '2001'], ['Charlie', '2002']]\n",
    "\n",
    "If we need to store first name, last name, class, contact number, email, ... you can see that this system quickly gets unwieldy. Besides using a separate \"header\" `list`, is there a better way to store this data? Could we, perhaps, include the \"header\" within the list?\n",
    "\n",
    "## Python `dict`s\n",
    "\n",
    "The answer is yes. This type of data structure is known as an associative array, a mapping, or in the case of Python, a **dictionary**. While it is not a literal dictionary, it works like one: a dictionary has definitions mapped to words, a Python `dict` has **values** mapped to **keys**.\n",
    "\n",
    "Let's see how to define a dictionary."
   ]
  },
  {
   "cell_type": "code",
   "execution_count": null,
   "metadata": {},
   "outputs": [],
   "source": [
    "# Method 1\n",
    "studentdata = {'Alice':'2001', 'Bobby':'2001', 'Charlie':'2002'}\n",
    "studentdata"
   ]
  },
  {
   "cell_type": "markdown",
   "metadata": {
    "nbgrader": {
     "cell_type": "markdown",
     "checksum": "405e050cb6eb6e1dc22f0428b33bde38",
     "grade": false,
     "grade_id": "cell-afde9414aaf503b7",
     "locked": true,
     "schema_version": 3,
     "solution": false,
     "task": false
    }
   },
   "source": [
    "A `list` is constructed using `[`square bracket`]` notation;\n",
    "a `dict` is constructed using `{`curly bracket`}` notation.\n",
    "\n",
    "Within the curly brackets, keys are mapped to values with a semicolon (`:`) delimiter. Each `key:value` pair is separated by commas.\n",
    "\n",
    "Is this really helpful though? What if we need to store other details, such as contact number, email, and so on?\n",
    "\n",
    "A more extensible way to use a mapping is to have the key *describe* the value. A single dictionary would therefore be a group of values, described by their keys. Rather than storing all students in one dictionary, each student should be stored as a single dictionary:\n",
    "\n",
    "    student1 = {'name':'Alice', 'class':'2001'}\n",
    "    student2 = {'name':'Bobby', 'class':'2001'}\n",
    "    student3 = {'name':'Charlie', 'class':'2002'}\n",
    "    \n",
    "We wouldn't want to have to give a separate variable name for each student, of course; what if we have 800 students? Instead, we would group them into a sensible collection. We could use a `list` here:"
   ]
  },
  {
   "cell_type": "code",
   "execution_count": null,
   "metadata": {},
   "outputs": [],
   "source": [
    "# This code to create a list is split to multiple lines for better\n",
    "# readability.\n",
    "students = [\n",
    "    {'name':'Alice', 'class':'2001'},\n",
    "    {'name':'Bobby', 'class':'2001'},\n",
    "    {'name':'Charlie', 'class':'2002'},\n",
    "    ]\n",
    "\n",
    "print(f'students: {students}')\n",
    "print(f'This is a list of dicts.')"
   ]
  },
  {
   "cell_type": "markdown",
   "metadata": {
    "nbgrader": {
     "cell_type": "markdown",
     "checksum": "a1e63039f78128f3f6182b4d509c355e",
     "grade": false,
     "grade_id": "cell-c2220c357b253405",
     "locked": true,
     "schema_version": 3,
     "solution": false,
     "task": false
    }
   },
   "source": [
    "## Addressing key, value in `dict`s"
   ]
  },
  {
   "cell_type": "code",
   "execution_count": null,
   "metadata": {},
   "outputs": [],
   "source": [
    "print(f'We can address individual students in the list through the list index.')\n",
    "print(f'first student: {students[0]}')\n",
    "print(f'second student: {students[1]}')\n",
    "print(f'To access values within each dictionary, we use the key in square brackets.')\n",
    "first_student = students[0]\n",
    "# remember not to mix single-quotes and double-quotes in an f-string!\n",
    "print(f'Name of first student: {first_student[\"name\"]}')\n",
    "print(f'Class of first student: {first_student[\"class\"]}')\n",
    "print(f'We don\\'t have to assign the list element to a variable; we could also \"stack\" the indexes like this:')\n",
    "print(f'Directly access name of first student in the list: {students[0][\"name\"]}')\n",
    "print(f'Directly access class of first student in the list: {students[0][\"class\"]}')"
   ]
  },
  {
   "cell_type": "markdown",
   "metadata": {
    "nbgrader": {
     "cell_type": "markdown",
     "checksum": "1c8f75fadc74cddb4e7e9a0e81abb235",
     "grade": false,
     "grade_id": "cell-38ba335b4b37d353",
     "locked": true,
     "schema_version": 3,
     "solution": false,
     "task": false
    }
   },
   "source": [
    "## Task 1: access value in `dict`"
   ]
  },
  {
   "cell_type": "code",
   "execution_count": null,
   "metadata": {
    "nbgrader": {
     "cell_type": "code",
     "checksum": "5a1c11806eba16b217ecb631cec0f9f0",
     "grade": true,
     "grade_id": "cell-4aeb52f6ecb0176a",
     "locked": false,
     "points": 0,
     "schema_version": 3,
     "solution": true,
     "task": false
    }
   },
   "outputs": [],
   "source": [
    "# Write code here to print the name and class of the last student\n",
    "\n"
   ]
  },
  {
   "cell_type": "markdown",
   "metadata": {
    "nbgrader": {
     "cell_type": "markdown",
     "checksum": "75711236574ba8ca7be2d2d85c6214d2",
     "grade": false,
     "grade_id": "cell-e8ccb7e150b87e23",
     "locked": true,
     "schema_version": 3,
     "solution": false,
     "task": false
    }
   },
   "source": [
    "### Best practices: key-value pairs on individual lines\n",
    "\n",
    "For longer lists of `key:value` pairs, it is good programming practice to write each `key:value` pair on a new line, after the comma:\n",
    "\n",
    "    alphabet_mapping = {\n",
    "        'a': 1,\n",
    "        'b': 2,\n",
    "        'c': 3,\n",
    "        'd': 4,\n",
    "        'e': 5,\n",
    "        'f': 6,\n",
    "        'g': 7,\n",
    "        ...\n",
    "        'z': 26,\n",
    "    }\n",
    "                        \n",
    "### Best practices: Generating `dict`s with procedures\n",
    "\n",
    "Better yet, if there is a pattern to the mapping, it should be generated with program code instead:"
   ]
  },
  {
   "cell_type": "code",
   "execution_count": null,
   "metadata": {},
   "outputs": [],
   "source": [
    "import string\n",
    "\n",
    "print(f'The string.ascii_lowercase attribute from the string module gives us: {string.ascii_lowercase}')\n",
    "print('Notice that we don\\'t need to use (parentheses) behind ascii_lowercase; it is not a function!')\n",
    "print('')\n",
    "print('Will the below code work?')\n",
    "for i, char in enumerate(string.ascii_lowercase):\n",
    "    alphabet_mapping[char] = i"
   ]
  },
  {
   "cell_type": "markdown",
   "metadata": {
    "nbgrader": {
     "cell_type": "markdown",
     "checksum": "bdbdc88aad71cf11a6138456c57630c8",
     "grade": false,
     "grade_id": "cell-941c1b496d7ec80a",
     "locked": true,
     "schema_version": 3,
     "solution": false,
     "task": false
    }
   },
   "source": [
    "What happened? We tried to access `alphabet_mapping[char]` and assign it the value of variable `i`, but `alphabet_mapping` doesn't exist yet! So Python raises a `NameError`.\n",
    "\n",
    "We have to initialise an empty `dict` first:"
   ]
  },
  {
   "cell_type": "code",
   "execution_count": null,
   "metadata": {},
   "outputs": [],
   "source": [
    "alphabet_mapping = {} # initialise empty dict first\n",
    "for i, char in enumerate(string.ascii_lowercase, start=1):\n",
    "    alphabet_mapping[char] = i\n",
    "print(alphabet_mapping)"
   ]
  },
  {
   "cell_type": "markdown",
   "metadata": {
    "nbgrader": {
     "cell_type": "markdown",
     "checksum": "4a8df7299ccfb7572b80771210d06483",
     "grade": false,
     "grade_id": "cell-c8a08631b6ba2679",
     "locked": true,
     "schema_version": 3,
     "solution": false,
     "task": false
    }
   },
   "source": [
    "## Accessing `dict` key, value in a `for` loop\n",
    "\n",
    "That's nice, but not very neat. Let's print it more neatly, with a `for` loop. We would need to iterate through all the keys in the dictionary ... how do we do that?\n",
    "\n",
    "Every Python `dict` has methods for you to access its keys and values:"
   ]
  },
  {
   "cell_type": "code",
   "execution_count": null,
   "metadata": {},
   "outputs": [],
   "source": [
    "print(f'Keys: {alphabet_mapping.keys()}')\n",
    "print(f'Keys type: {type(alphabet_mapping.keys())}')\n",
    "print(f'Values: {alphabet_mapping.values()}')\n",
    "print(f'Values type: {type(alphabet_mapping.values())}')\n",
    "print('Notice that these are not lists; they are a special object type, <dict_keys> and <dict_values>.')\n",
    "print('We will not be able to use list operators (+,*) or methods (append, extend, etc) on them.')\n",
    "print('But we can convert them to lists using the list() function:')\n",
    "print(f'Keys as a list: {list(alphabet_mapping.keys())}')\n",
    "print(f'Values as a list: {list(alphabet_mapping.values())}')\n",
    "print('We can access dict values using the keys, in a for loop:')\n",
    "for key in alphabet_mapping.keys():\n",
    "    print(f'{key}: {alphabet_mapping[key]}')"
   ]
  },
  {
   "cell_type": "code",
   "execution_count": null,
   "metadata": {
    "nbgrader": {
     "cell_type": "code",
     "checksum": "f76534acb68127f7679b12b9f3640e3e",
     "grade": false,
     "grade_id": "cell-794e8f9fd7708664",
     "locked": true,
     "schema_version": 3,
     "solution": false,
     "task": false
    }
   },
   "outputs": [],
   "source": [
    "print('dicts have one more method, items(), to let you access both the key and value in a single for loop:')\n",
    "print(f'Key-value pairs: {alphabet_mapping.items()}')\n",
    "print('We can use these key-value pairs as follows:')\n",
    "for key,value in alphabet_mapping.items():\n",
    "    print(f'{key}: {value}')\n",
    "print('These key-value pairs are a different type of object in Python, \\n\\\n",
    "which you will learn about in the next lesson.')"
   ]
  },
  {
   "cell_type": "code",
   "execution_count": null,
   "metadata": {},
   "outputs": [],
   "source": [
    "print('We can convert iterable collections into a list using the list() function.')\n",
    "print('Is there a dict() function for converting mappings to dicts? Yes.')\n",
    "map = dict(a=1, b=2, c=3, d=4)\n",
    "print(map)\n",
    "print('It is not useful for most scenarios, but when we look at advanced function features, \\n \\\n",
    "we will see one instance where this comes in really handy.')\n",
    "print('Another way:')\n",
    "map = dict([['a', 1], ['b', 2], ['c', 3], ['d', 4]])\n",
    "print(map)\n",
    "print('Yep, we can convert a list of lists into a dictionary, if the inner list is a key-value pair.')"
   ]
  },
  {
   "cell_type": "markdown",
   "metadata": {
    "nbgrader": {
     "cell_type": "markdown",
     "checksum": "ea7de790a0d6351bce9b777a91e258c5",
     "grade": false,
     "grade_id": "cell-462445f194020756",
     "locked": true,
     "schema_version": 3,
     "solution": false,
     "task": false
    }
   },
   "source": [
    "## Other `dict` methods"
   ]
  },
  {
   "cell_type": "code",
   "execution_count": null,
   "metadata": {},
   "outputs": [],
   "source": [
    "print(f'Length of alphabet_mapping: {len(alphabet_mapping)}')\n",
    "print('len() function works on dicts.')\n",
    "print('')\n",
    "print(f'Membership check for \\'e\\': {\"e\" in alphabet_mapping}')\n",
    "print('\"in\" keyword works for dicts too.')\n",
    "print('Note that the \"in\" keyword only checks for membership in dict keys, not values.')"
   ]
  },
  {
   "cell_type": "markdown",
   "metadata": {
    "nbgrader": {
     "cell_type": "markdown",
     "checksum": "82ba24da7d9c3916c7ec14bbdd94ada0",
     "grade": false,
     "grade_id": "cell-21a3774ac77c976c",
     "locked": true,
     "schema_version": 3,
     "solution": false,
     "task": false
    }
   },
   "source": [
    "## `dict` exceptions: `KeyError`\n",
    "\n",
    "Trying to access a dictionary key that doesn't exist will raise a `KeyError`:"
   ]
  },
  {
   "cell_type": "code",
   "execution_count": null,
   "metadata": {},
   "outputs": [],
   "source": [
    "alpha_dict = {'a': 1, 'b': 2, 'c': 3}\n",
    "alpha_dict['d'] # raises a KeyError"
   ]
  },
  {
   "cell_type": "markdown",
   "metadata": {
    "nbgrader": {
     "cell_type": "markdown",
     "checksum": "e152900acc80739ef7f7328e6bf37d7d",
     "grade": false,
     "grade_id": "cell-5564fc282ebfaba1",
     "locked": true,
     "schema_version": 3,
     "solution": false,
     "task": false
    }
   },
   "source": [
    "To avoid encountering a KeyError, we could check that the key exists before we try to access it:"
   ]
  },
  {
   "cell_type": "code",
   "execution_count": null,
   "metadata": {},
   "outputs": [],
   "source": [
    "if 'd' in alpha_dict.keys(): # `if 'd' in alpha-dict` will also work; see Other dict methods above\n",
    "    d = alpha_dict[d]\n",
    "else:\n",
    "    d = None\n",
    "print(d)"
   ]
  },
  {
   "cell_type": "markdown",
   "metadata": {
    "nbgrader": {
     "cell_type": "markdown",
     "checksum": "954aee8e5293d03176acf2020d6bfe77",
     "grade": false,
     "grade_id": "cell-88a93ffdd16e1141",
     "locked": true,
     "schema_version": 3,
     "solution": false,
     "task": false
    }
   },
   "source": [
    "### `dict.get()`: A way to assign fallback values\n",
    "\n",
    "Another way is to use the `dict.get(key, default)` method.\n",
    "\n",
    "`value = dict.get(key, default)` will attempt to access `dict[key]`, and assign the result to `value` if the key exists. If the key does not exist, it assigns the result of `default` instead. This is a handy way to handle `KeyError`s and assign fallback values."
   ]
  },
  {
   "cell_type": "code",
   "execution_count": null,
   "metadata": {},
   "outputs": [],
   "source": [
    "d = alpha_dict.get('d', None)\n",
    "print(d)"
   ]
  }
 ],
 "metadata": {
  "kernelspec": {
   "display_name": "Python 3",
   "language": "python",
   "name": "python3"
  },
  "language_info": {
   "codemirror_mode": {
    "name": "ipython",
    "version": 3
   },
   "file_extension": ".py",
   "mimetype": "text/x-python",
   "name": "python",
   "nbconvert_exporter": "python",
   "pygments_lexer": "ipython3",
   "version": "3.6.4"
  }
 },
 "nbformat": 4,
 "nbformat_minor": 2
}
