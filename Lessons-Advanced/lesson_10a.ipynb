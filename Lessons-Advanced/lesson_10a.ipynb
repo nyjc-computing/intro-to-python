{
 "cells": [
  {
   "cell_type": "markdown",
   "metadata": {},
   "source": [
    "## 1-minute introduction to Jupyter ##\n",
    "\n",
    "A Jupyter notebook consists of cells. Each cell contains either text or code.\n",
    "\n",
    "A text cell will not have any text to the left of the cell. A code cell has `In [ ]:` to the left of the cell.\n",
    "\n",
    "If the cell contains code, you can edit it. Press <kbd>Enter</kbd> to edit the selected cell. While editing the code, press <kbd>Enter</kbd> to create a new line, or <kbd>Shift</kbd>+<kbd>Enter</kbd> to run the code. If you are not editing the code, select a cell and press <kbd>Ctrl</kbd>+<kbd>Enter</kbd> to run the code."
   ]
  },
  {
   "cell_type": "markdown",
   "metadata": {},
   "source": [
    "---"
   ]
  },
  {
   "cell_type": "markdown",
   "metadata": {
    "nbgrader": {
     "cell_type": "markdown",
     "checksum": "cdca9785e783cb28f89e31a4a15c88f5",
     "grade": false,
     "grade_id": "cell-8dd8af14517735ca",
     "locked": true,
     "schema_version": 3,
     "solution": false,
     "task": false
    }
   },
   "source": [
    "# Lesson 10a: Advanced functions\n",
    "\n",
    "In lesson 5, we learnt one way of writing modules of code that can be reused: by defining a function. We learnt that a function takes in **parameters**, and **returns** an output:\n",
    "\n",
    "    def isfloat(string):\n",
    "        if ('.' in string) and (string.count('.') == 1):\n",
    "            return True\n",
    "        else:\n",
    "            return False\n",
    "\n",
    "In the above code snippet, the defined function `isfloat()` takes in a parameter<sup>[1]</sup>, `string`, and returns an output value (either `True` or `False`).\n",
    "\n",
    "    >>> to_hms(7199,'list')\n",
    "    [1,59,59]\n",
    "    >>> to_hms(7199,'string')\n",
    "    '1 hour, 59 minutes, 59 seconds'\n",
    "\n",
    "In the above code snippet, the called function `to_hms()` takes in two arguments<sup>[1]</sup>, `7199` and `'list'` and returns a list. But if it takes in arguments `7199` and `'string'`, it returns a string.\n",
    "\n",
    "[1]: **See:** [What's the difference between a parameter and an argument?](#What's-the-difference-between-a-parameter-and-an-argument?)\n",
    "\n",
    "These arguments are known as **positional arguments**, because their position matters. I cannot call the function as `to_hms('list',7199)`; the function will assign the arguments `7199` and `'list'` to the wrong parameters in the definition!\n",
    "\n",
    "How do we write even more complex functions?"
   ]
  },
  {
   "cell_type": "markdown",
   "metadata": {
    "nbgrader": {
     "cell_type": "markdown",
     "checksum": "07731545114f6bfeed51336e3e5b68f3",
     "grade": false,
     "grade_id": "cell-64b0ff655fa81e9d",
     "locked": true,
     "schema_version": 3,
     "solution": false,
     "task": false
    }
   },
   "source": [
    "## The weirdness of Python's `print()` function\n",
    "\n",
    "You might have noticed by now that Python's `print()` function is really strange ... and really powerful.\n",
    "\n",
    "`print()` needs a `str` input to print to the console; any non`str` types must first be casted to `str`. So it can't do this:\n",
    "\n",
    "    >>> print('1 + 2 = '+(1+2))\n",
    "    TypeError: must be str, not int\n",
    "    \n",
    "But it can do this:\n",
    "\n",
    "    >>> print(f'1 + 2 = {1 + 2}')\n",
    "    1 + 2 = 3\n",
    "    >>> print('1 + 2 =', 1 + 2)\n",
    "    1 + 2 = 3\n",
    "    \n",
    "We know that `print(f'1 + 2 = {1 + 2}')` is making use of an f-string which will auto-cast non-`str` types to `str`.\n",
    "\n",
    "But what is going on with `print('1 + 2 =', 1 + 2)`? `print()` can take 1 argument, but it can also take 2 arguments?\n",
    "\n",
    "In fact, this works too:\n",
    "\n",
    "    >>> print('1 + 2', '=', 1 + 2)\n",
    "    1 + 2 = 3\n",
    "    \n",
    "And so does this:\n",
    "\n",
    "    >>> print('1', '+', '2', '=', 1 + 2)\n",
    "    1 + 2 = 3\n",
    "    \n",
    "How is a function able to accept 1 argument, 2 arguments, 3 arguments, and even 5 arguments?"
   ]
  },
  {
   "cell_type": "markdown",
   "metadata": {
    "nbgrader": {
     "cell_type": "markdown",
     "checksum": "b6345cd53a0e486b75825911837d7157",
     "grade": false,
     "grade_id": "cell-565aff0f104f57b4",
     "locked": true,
     "schema_version": 3,
     "solution": false,
     "task": false
    }
   },
   "source": [
    "## Using multiple arguments (args) in a function\n",
    "\n",
    "Let's extend our `isfloat()` function to accept multiple arguments and return a value (`True` or `False`) for each argument. We want it to be able to do this:\n",
    "\n",
    "    >>> a, b, c = isfloat('1.0', '200', '.3')\n",
    "    >>> a\n",
    "    True\n",
    "    >>> b\n",
    "    False\n",
    "    >>> c\n",
    "    True\n",
    "    \n",
    "And we want this function to be able to handle any number of arguments (more than 0).\n",
    "\n",
    "Let's start with a simple function definition:"
   ]
  },
  {
   "cell_type": "code",
   "execution_count": null,
   "metadata": {},
   "outputs": [],
   "source": [
    "def isfloat(*args):\n",
    "    '''Write the rest of the function here.'''\n",
    "    # This function does nothing\n",
    "    pass"
   ]
  },
  {
   "cell_type": "markdown",
   "metadata": {
    "nbgrader": {
     "cell_type": "markdown",
     "checksum": "76a183efde3096d8200bf44dc0af64bc",
     "grade": false,
     "grade_id": "cell-1435f0f0290f7181",
     "locked": true,
     "schema_version": 3,
     "solution": false,
     "task": false
    }
   },
   "source": [
    "### The `pass` keyword: Python's way of doing nothing\n",
    "\n",
    "`pass` is a special Python keyword that does ... nothing. With it, we can declare the functions we need first, use `pass` as a placeholder for code we will write in future, and plan out the rest of the program while writing minimal code.\n",
    "\n",
    "We need to `pass` keyword because Python won't let us write any statements ending in a colon(`:`) without any code after it. Likewise, we cannot write `if .. else` statements that have no code after the statement.\n",
    "\n",
    "This means you can't use `pass` as a variable name ... important to know when using variable names to store user passwords.\n",
    "\n",
    "Notice that in this function declaration, instead of using a positional argument `string` like we did at the start, we use another argument, called `*args`. What kind of variable is that?\n",
    "\n",
    "Let's write some code to investigate what this `*args` is. We'll simply make the function return `args` so we can inspect it:"
   ]
  },
  {
   "cell_type": "code",
   "execution_count": null,
   "metadata": {},
   "outputs": [],
   "source": [
    "def return_args(*args):\n",
    "    '''Let's investigate what args is.'''\n",
    "    # Let's return args as the function output so we can inspect it\n",
    "    # after calling the function\n",
    "    return args\n",
    "\n",
    "args = return_args('1.0', '200', '.3')\n",
    "args"
   ]
  },
  {
   "cell_type": "markdown",
   "metadata": {
    "nbgrader": {
     "cell_type": "markdown",
     "checksum": "64eef2f44aeaa4a657a714d4719e4e2c",
     "grade": false,
     "grade_id": "cell-ff04e919f5b1b86c",
     "locked": true,
     "schema_version": 3,
     "solution": false,
     "task": false
    }
   },
   "source": [
    "Interesting ... Python bundles up all the arguments we fed to `isfloat()` and assigns it to the `args` parameter as a tuple!\n",
    "\n",
    "Actually, we don't need to name it `args`, any other name will do as well. `args` is a common name used by convention so that other Python programmers an identify it easily:"
   ]
  },
  {
   "cell_type": "code",
   "execution_count": null,
   "metadata": {},
   "outputs": [],
   "source": [
    "def isfloat(*anyvariablenamewilldo):\n",
    "    '''\n",
    "    To show that any variable name will do for the parameter.\n",
    "    The important thing is to make sure there is only one asterisk\n",
    "    in front of it.\n",
    "    '''\n",
    "    return anyvariablenamewilldo\n",
    "\n",
    "args = isfloat('1.0', '200', '.3')\n",
    "args"
   ]
  },
  {
   "cell_type": "markdown",
   "metadata": {
    "nbgrader": {
     "cell_type": "markdown",
     "checksum": "7b41bc3b8cd354f697821d59d1273d53",
     "grade": false,
     "grade_id": "cell-030d68a08563fbf2",
     "locked": true,
     "schema_version": 3,
     "solution": false,
     "task": false
    }
   },
   "source": [
    "So now we can iterate over this tuple and process it:"
   ]
  },
  {
   "cell_type": "code",
   "execution_count": null,
   "metadata": {},
   "outputs": [],
   "source": [
    "def isfloat(*args):\n",
    "    '''\n",
    "    Takes in multiple arguments and returns a boolean value for each.\n",
    "    True if the string is a float, False if it is not.\n",
    "    '''\n",
    "    result = [] # Initialise a list instead of tuple to store the results\n",
    "                # since tuples are immutable\n",
    "    for string in args: # Iterate over args tuple\n",
    "        if ('.' in string) and (string.count('.') == 1):\n",
    "            result.append(True)\n",
    "        else:\n",
    "            result.append(False)\n",
    "    return tuple(result) # Convert result to tuple before returning\n",
    "\n",
    "isfloat('1.0','200','.3')"
   ]
  },
  {
   "cell_type": "markdown",
   "metadata": {
    "nbgrader": {
     "cell_type": "markdown",
     "checksum": "b3864f0c1dcde50dc2ffa56dd3107ab9",
     "grade": false,
     "grade_id": "cell-48f31ec295e17b77",
     "locked": true,
     "schema_version": 3,
     "solution": false,
     "task": false
    }
   },
   "source": [
    "### Returning immutable results as a tuple\n",
    "\n",
    "You saw earlier that Python bundles up the arguments into `args` and returns it as a tuple, not as a list; we try to be consistent with this practice in our code.\n",
    "\n",
    "In general, we try to return collections of immutable results as tuples and not lists, unless the output is intended to be a list. This prevents any accidental modification of the result."
   ]
  },
  {
   "cell_type": "markdown",
   "metadata": {
    "nbgrader": {
     "cell_type": "markdown",
     "checksum": "9677b87534117f6b6f96c09a369e44a1",
     "grade": false,
     "grade_id": "cell-b909ff17062abac6",
     "locked": true,
     "schema_version": 3,
     "solution": false,
     "task": false
    }
   },
   "source": [
    "## Using positional arguments with multiple arguments\n",
    "\n",
    "Let's try to extend multiple argument support to other functions we have written, such as `round_dp(n, num_str)` which rounds a given numeral string `num_str` to the requested number of decimal places `dp`:"
   ]
  },
  {
   "cell_type": "code",
   "execution_count": null,
   "metadata": {},
   "outputs": [],
   "source": [
    "def round_dp(n, num_str):\n",
    "    '''\n",
    "    Usage:\n",
    "    round_dp(num_str,n)\n",
    "    \n",
    "    Round an input numerical string num_str to n number of decimal places.\n",
    "    '''\n",
    "    # We are simplifying this function by skipping the usual validation checks\n",
    "    # We assume there is always a decimal place,\n",
    "    # the number of dp is >= 0,\n",
    "    # and the requested number of dp will always be smaller than dp of number\n",
    "    decimal_position = num_str.find('.')\n",
    "    stripped_num_str = num-str.replace('.', '')\n",
    "    check_digit_position = decimal_position + n\n",
    "    check_digit = int(num_str[check_digit_position])\n",
    "    num_to_round = int(num_str[:check_digit_position])\n",
    "    if check_digit >= 5:\n",
    "        num_to_round += 1\n",
    "    num_to_round = str(num_to_round)\n",
    "\n",
    "    return f'{num_to_round[:decimal_position]}.{num_to_round[decimal_position:]}'"
   ]
  },
  {
   "cell_type": "markdown",
   "metadata": {
    "nbgrader": {
     "cell_type": "markdown",
     "checksum": "964feb57d5646f9a8f461a343e507400",
     "grade": false,
     "grade_id": "cell-7defe3edf7887383",
     "locked": true,
     "schema_version": 3,
     "solution": false,
     "task": false
    }
   },
   "source": [
    "How do we get this function to support multiple arguments? We will always need  the positional argument `n`, and at least one input argument to `args`.\n",
    "\n",
    "One way is to simply extract `n` from the `args` tuple:"
   ]
  },
  {
   "cell_type": "code",
   "execution_count": null,
   "metadata": {},
   "outputs": [],
   "source": [
    "def round_dp(*args):\n",
    "    n = args[0] # assign first argument to n\n",
    "    del args[0] # remove first argument from args\n",
    "    # args should now contain the remaining arguments\n",
    "    [...]"
   ]
  },
  {
   "cell_type": "markdown",
   "metadata": {
    "nbgrader": {
     "cell_type": "markdown",
     "checksum": "c191584191b8409def8ae2be7930dc95",
     "grade": false,
     "grade_id": "cell-487942f084af27cd",
     "locked": true,
     "schema_version": 3,
     "solution": false,
     "task": false
    }
   },
   "source": [
    "But this method is prone to failure if the user does not use the function as intended. It is better for Python to be aware that the first argument is positional, while the remaining arguments can be grouped into a (tuple) collection.\n",
    "\n",
    "We do that by declaring positional arguments first, and multiple arguments later:"
   ]
  },
  {
   "cell_type": "code",
   "execution_count": null,
   "metadata": {},
   "outputs": [],
   "source": [
    "def round_dp(n, *args):\n",
    "    # Skipping docstring and other comments for brevity\n",
    "    result = [] # added line\n",
    "    for num_str in args:  # added line\n",
    "        decimal_position = num_str.find('.')\n",
    "        stripped_num_str = num_str.replace('.', '')\n",
    "        check_digit_position = decimal_position + n\n",
    "        check_digit = int(num_str[check_digit_position])\n",
    "        num_to_round = int(num_str[:check_digit_position])\n",
    "        if check_digit >= 5:\n",
    "            num_to_round += 1\n",
    "        num_to_round = str(num_to_round)\n",
    "        result.append(f'{num_to_round[:decimal_position]}.{num_to_round[decimal_position:]}')  # added line\n",
    "    return result  # added line"
   ]
  },
  {
   "cell_type": "markdown",
   "metadata": {
    "nbgrader": {
     "cell_type": "markdown",
     "checksum": "8e66be434254a25b6ae1ef2bf6ae02da",
     "grade": false,
     "grade_id": "cell-282e47bf2a46d2bc",
     "locked": true,
     "schema_version": 3,
     "solution": false,
     "task": false
    }
   },
   "source": [
    "We can use as many positional arguments as we like, provided they are declared **before \\*args**.\n",
    "\n",
    "Q1: Can positional arguments with default values be mixed with multiple arguments? If yes, how?"
   ]
  },
  {
   "cell_type": "markdown",
   "metadata": {},
   "source": [
    "A1: Yes. Parameters with default values must be defined after parameters without default values."
   ]
  },
  {
   "cell_type": "markdown",
   "metadata": {
    "nbgrader": {
     "cell_type": "markdown",
     "checksum": "571b510a0ceaccfe3875f24baa859dbf",
     "grade": false,
     "grade_id": "cell-3bd423e34825d5f9",
     "locked": true,
     "schema_version": 3,
     "solution": false,
     "task": false
    }
   },
   "source": [
    "## Multipurpose functions\n",
    "\n",
    "You have just seen how to make a function take in an arbitrary number of arguments. And you already know how to make a function use default values for unspecified arguments.\n",
    "\n",
    "But what if we have to write functions that are really advanced and have all kinds of parameters?\n",
    "\n",
    "For instance, the `print()` function lets you set the separator (default: `' '`):\n",
    "\n",
    "    >>> print('1', '+', '1', '=', '2', sep='^')\n",
    "    1^+^1^=^2\n",
    "    \n",
    "It also lets you decide what character to print at the end of each line (default: `\\n`)\n",
    "\n",
    "    >>> print('1', '+', '1', '=', '2', end=';')\n",
    "    1 + 1 = 2;\n",
    "    \n",
    "And we can also combine both options:\n",
    "\n",
    "    >>> print('1', '+', '1', '=', '2', sep='^', end=';')\n",
    "    1^+^1^=^2;\n",
    "    \n",
    "Notice that these argument require a different specification: we have to call them by name. These arguments are known as **keyword arguments**."
   ]
  },
  {
   "cell_type": "markdown",
   "metadata": {
    "nbgrader": {
     "cell_type": "markdown",
     "checksum": "e9f66cd4bd8cb4ca07080a0f42a40d4f",
     "grade": false,
     "grade_id": "cell-adf4e9cd92c0dab1",
     "locked": true,
     "schema_version": 3,
     "solution": false,
     "task": false
    }
   },
   "source": [
    "## Using keyword arguments in a function\n",
    "\n",
    "Let’s write a test function to help us examine how keyword arguments are used.\n",
    "\n",
    "We declare the function this way:"
   ]
  },
  {
   "cell_type": "code",
   "execution_count": null,
   "metadata": {},
   "outputs": [],
   "source": [
    "def return_kwargs(**kwargs):\n",
    "    '''Let's investigate kwargs.'''\n",
    "    # Let's just return kwargs and see what we get.\n",
    "    return kwargs\n",
    "\n",
    "kwargs = return_kwargs('1.234', sf=2) # '1.234' will be stored in args\n",
    "kwargs\n",
    "# Try calling return_kwargs with dp=2 and observe the result\n",
    "# Try calling return_kwargs with sf=2, dp=2 and observe the result"
   ]
  },
  {
   "cell_type": "markdown",
   "metadata": {
    "nbgrader": {
     "cell_type": "markdown",
     "checksum": "5e7abd41f6ba71b8c1d7065c6ed28e8f",
     "grade": false,
     "grade_id": "cell-aae5c7da5b3e44e7",
     "locked": true,
     "schema_version": 3,
     "solution": false,
     "task": false
    }
   },
   "source": [
    "The keyword arguments are stored in `kwargs` and returned as a dictionary. So simple!\n",
    "\n",
    "Again, naming it `kwargs` is just a convention; you can name the parameter anything you like, so long as there are two asterisks in front of it.\n",
    "\n",
    "Access the arguments through the `kwarg` dictionary like any ordinary dictionary:"
   ]
  },
  {
   "cell_type": "code",
   "execution_count": null,
   "metadata": {},
   "outputs": [],
   "source": [
    "# Call return_kwargs above with an `sf=` keyword argument first.\n",
    "# The run this cell to observe the return value of kwargs['sf']\n",
    "kwargs['sf']"
   ]
  },
  {
   "cell_type": "markdown",
   "metadata": {
    "nbgrader": {
     "cell_type": "markdown",
     "checksum": "8368417b77d9e16cb28b1add6d7894f7",
     "grade": false,
     "grade_id": "cell-50821286d1f8973d",
     "locked": true,
     "schema_version": 3,
     "solution": false,
     "task": false
    }
   },
   "source": [
    "If no `sf=` keyword argument was given, that would throw a `KeyError` since `kwargs` would not have a `'sf'` key. To get around this, we can do a membership check with the `in` keyword:\n",
    "\n",
    "    def return_kwargs(**kwargs):\n",
    "        if 'sf' in kwargs.keys():\n",
    "            sf = kwargs['sf']\n",
    "        \n",
    "or we can use the `dict.get()` method to [assign a fallback value](lesson_07a.ipynb) if the key is not present. This chunk of code will assign the value `None` to the `sf` parameter if `return_kwargs()` was called without a `sf=` keyword argument:\n",
    "\n",
    "    def return_kwargs(**kwargs):\n",
    "        sf = kwargs.get('sf',None)\n",
    "        if sf is not None:\n",
    "            [... the rest of your code here ...]\n",
    "\n",
    "We will use these examples shortly. But first, let’s learn more advanced ways of handling errors: by raising the right errors where relevant."
   ]
  },
  {
   "cell_type": "markdown",
   "metadata": {
    "nbgrader": {
     "cell_type": "markdown",
     "checksum": "4f91ab96eed0533b4a2a568c6a024af3",
     "grade": false,
     "grade_id": "cell-8ad1ee19a7f6daae",
     "locked": true,
     "schema_version": 3,
     "solution": false,
     "task": false
    }
   },
   "source": [
    "### Raising an error with the `raise` statement\n",
    "\n",
    "To raise an error, use the `raise` keyword:"
   ]
  },
  {
   "cell_type": "code",
   "execution_count": null,
   "metadata": {},
   "outputs": [],
   "source": [
    "raise SyntaxError"
   ]
  },
  {
   "cell_type": "markdown",
   "metadata": {
    "nbgrader": {
     "cell_type": "markdown",
     "checksum": "d69e68e680458766caba1f63e4cf9d59",
     "grade": false,
     "grade_id": "cell-196541949deea89f",
     "locked": true,
     "schema_version": 3,
     "solution": false,
     "task": false
    }
   },
   "source": [
    "To provide more information, you can also provide a message as an argument to the error:"
   ]
  },
  {
   "cell_type": "code",
   "execution_count": null,
   "metadata": {},
   "outputs": [],
   "source": [
    "raise SyntaxError('Playing with the raise keyword')"
   ]
  },
  {
   "cell_type": "markdown",
   "metadata": {
    "nbgrader": {
     "cell_type": "markdown",
     "checksum": "359207d41164f05cdde1d8db23148b1e",
     "grade": false,
     "grade_id": "cell-e813e0a3338f54f1",
     "locked": true,
     "schema_version": 3,
     "solution": false,
     "task": false
    }
   },
   "source": [
    "Great. Let’s get back to using keyword arguments and raising errors."
   ]
  },
  {
   "cell_type": "markdown",
   "metadata": {
    "nbgrader": {
     "cell_type": "markdown",
     "checksum": "a0199cd33a043d0eb193ea9fe51a548d",
     "grade": false,
     "grade_id": "cell-b1b56fd9e518d39e",
     "locked": true,
     "schema_version": 3,
     "solution": false,
     "task": false
    }
   },
   "source": [
    "## Combining `round_dp()` and `round_sf()` functions\n",
    "\n",
    "We wrote two functions in assignment 5: `round_dp()` and `round_sf()`. It would be better if we had one function, `round_to()` that could handle both dp and sf arguments, and round accordingly.\n",
    "\n",
    "How should we define this function?\n",
    "\n",
    "    def round_to(num_str, sf_or_dp):\n",
    "    \n",
    "Will this work? We wouldn't know if the second argument was meant to be `dp` or `sf`, so this would not work. How about this:\n",
    "\n",
    "    def round_to(num_str, sf=None, dp=None):\n",
    "    \n",
    "Ehhh … it's possible, but if you want to give a dp argument you would have to do something like `round_to('123.456', None, 2)` to round `'123.456'` to 2 dp. That’s not nice. It’s not _elegant_.\n",
    "\n",
    "It would be nice if we could call `round_to('123.456', dp=2)` to round to 2 dp, and `round_to('123.456', sf=2)` to round to 2 sf. It’s easy to read, with no ambiguity. This means we should use keyword arguments to implement this function.\n",
    "\n",
    "But first, we have to do some validation. The user must give _either_ the `sf=` or the `dp=` argument, but not both together. Let’s focus on the validation first without worrying about the rest of the function:"
   ]
  },
  {
   "cell_type": "markdown",
   "metadata": {
    "nbgrader": {
     "cell_type": "markdown",
     "checksum": "74b4b05002fdd45677d4e984c7676ee5",
     "grade": false,
     "grade_id": "cell-9a9b44553bd0f9d6",
     "locked": true,
     "schema_version": 3,
     "solution": false,
     "task": false
    }
   },
   "source": [
    "### Task 1: Prevent two keyword arguments being used at the same time\n",
    "\n",
    "Complete the function definition below to validate the keyword arguments and:\n",
    "\n",
    "1. raise a `TypeError` if either the `sf=` or `dp=` keyword arguments are non-integers, and provide a helpful error message;\n",
    "2. raise a `ValueError` if the `sf=` and `dp=` keyword arguments are used together\n",
    "3. raise a `TypeError` if the `sf=` and `dp=` keyword arguments are not provided at all"
   ]
  },
  {
   "cell_type": "code",
   "execution_count": null,
   "metadata": {
    "nbgrader": {
     "cell_type": "code",
     "checksum": "3e0cf1dff3cad9d69bd2ff91e2d4193f",
     "grade": false,
     "grade_id": "cell-6288888c35f967c4",
     "locked": false,
     "schema_version": 3,
     "solution": true,
     "task": false
    }
   },
   "outputs": [],
   "source": [
    "# Step 1 is done for you below.\n",
    "# Complete the code below to complete validation steps 2 and 3\n",
    "def round_to(num_str,**kwargs):\n",
    "    '''Validate the input to keyword arguments.'''\n",
    "    if 'sf' in kwargs.keys() and 'dp' in kwargs.keys():\n",
    "        raise ValueError('Cannot use dp= and sf= keyword arguments at the same time.')\n",
    "    # Continue your code here\n",
    "    "
   ]
  },
  {
   "cell_type": "code",
   "execution_count": null,
   "metadata": {
    "nbgrader": {
     "cell_type": "code",
     "checksum": "d255c2086dcfedaa6a45513200b637c9",
     "grade": true,
     "grade_id": "cell-ea2519e82a89b476",
     "locked": true,
     "points": 3,
     "schema_version": 3,
     "solution": false,
     "task": false
    }
   },
   "outputs": [],
   "source": [
    "# Test cell to check your code above\n",
    "# We can't use assert statements to check if errors are raised, since those errors will halt the program.\n",
    "# We will need to use other Python libraries, such as unittest.\n",
    "# This will not be covered in the syllabus, but you can read up on it\n",
    "# at https://docs.python.org/3.6/library/unittest.html\n",
    "# You will see 'OK' at the end of the output if all tests passed\n",
    "import unittest\n",
    "\n",
    "class ErrorCheck(unittest.TestCase):\n",
    "    def testKwargTypeError(self):\n",
    "        self.assertRaises(TypeError,round_to, '123.456', sf='2')\n",
    "        self.assertRaises(TypeError,round_to, '123.456', dp='2')\n",
    "\n",
    "    def testKwargNumError(self):\n",
    "        self.assertRaises(ValueError,round_to, '123.456', dp=2, sf=2)\n",
    "\n",
    "    def testKwargNoneError(self):\n",
    "        self.assertRaises(KeyError,round_to, '123.456')\n",
    "\n",
    "result = unittest.main(argv=['ignored'], exit=False)"
   ]
  },
  {
   "cell_type": "markdown",
   "metadata": {
    "nbgrader": {
     "cell_type": "markdown",
     "checksum": "3f594a0d32b533068ee527d39a9fa1c3",
     "grade": false,
     "grade_id": "cell-e96b16ccee0daed7",
     "locked": true,
     "schema_version": 3,
     "solution": false,
     "task": false
    }
   },
   "source": [
    "Okay, you’ve done some basic validation for the keyword arguments. Let’s write the rest of the function, assuming that the input is valid. We will focus on the core features of the rounding, without worrying about negative numbers and other edge cases (e.g. 99.999).\n",
    "\n",
    "Let's look at `round_dp()` and `round_sf()` again. Here, they have been rewritten and simplified to highlight their similarities:"
   ]
  },
  {
   "cell_type": "code",
   "execution_count": null,
   "metadata": {},
   "outputs": [],
   "source": [
    "round_dp(n,num_str):\n",
    "    if '.' in num_str:\n",
    "        decimal = num_str.find('.') # decimal position\n",
    "        num_str = num_str.replace('.', '') # remove decimal\n",
    "    else:\n",
    "        decimal = None\n",
    "    check_pos = decimal + n # position of check digit\n",
    "    check_digit = int(num_str[check_pos])\n",
    "    num_to_round = int(num_str[:check_pos])\n",
    "    if check_digit >= 5:\n",
    "        num_to_round += 1\n",
    "    rounded_num = str(num_to_round)\n",
    "    if decimal is not None and decimal < len(rounded_num):\n",
    "        return f'{rounded_num[:decimal]}.{rounded_num[decimal:]}' # added line\n",
    "    else:\n",
    "        return rounded_num"
   ]
  },
  {
   "cell_type": "code",
   "execution_count": null,
   "metadata": {},
   "outputs": [],
   "source": [
    "round_sf(n,num_str):\n",
    "    if '.' in num_str:\n",
    "        decimal = num_str.find('.') # decimal position\n",
    "        num_str = num_str.replace('.', '') # remove decimal\n",
    "    else:\n",
    "        decimal = None\n",
    "    check_pos = n # position of check digit\n",
    "    check_digit = int(num_str[check_pos])\n",
    "    num_to_round = int(num_str[:check_pos])\n",
    "    if check_digit >= 5:\n",
    "        num_to_round += 1\n",
    "    rounded_num = str(num_to_round)\n",
    "    if decimal is not None and decimal < len(rounded_num):\n",
    "        return f'{rounded_num[:decimal]}.{rounded_num[decimal:]}' # added line\n",
    "    else:\n",
    "        return rounded_num"
   ]
  },
  {
   "cell_type": "markdown",
   "metadata": {
    "nbgrader": {
     "cell_type": "markdown",
     "checksum": "95d743b60a83fb626bfa19dfb3d7d945",
     "grade": false,
     "grade_id": "cell-3b810956bd5aeaee",
     "locked": true,
     "schema_version": 3,
     "solution": false,
     "task": false
    }
   },
   "source": [
    "## Exercise 1: Refactor `round_dp()` and `round_sf()`into `round_to()`\n",
    "\n",
    "### Task 2\n",
    "\n",
    "Combine `round_dp()` and `round_sf()` as defined above into one function, `round_to()`, that can take either a `dp=` or a `sf=` declaration.\n",
    "\n",
    "This act of rewriting code to support more advanced features, or just to simplify the code, without changing its functionality, is known as [**refactoring**](https://refactoring.com/). You will see this term _a lot_ in the software industry.\n",
    "\n",
    "**Example output**\n",
    "\n",
    "    >>> round_to('1.234', dp=2)\n",
    "    '1.23'\n",
    "    >>> round_to('1.234', sf=2)\n",
    "    '1.2'\n",
    "    \n",
    "Let’s ignore the validation for now, so you can focus on refactoring `round_dp()` and `round_sf()`."
   ]
  },
  {
   "cell_type": "code",
   "execution_count": null,
   "metadata": {
    "nbgrader": {
     "cell_type": "code",
     "checksum": "5deccbd4b5bc10780c71b89e2e83b105",
     "grade": false,
     "grade_id": "cell-cc28d8a35209cf7e",
     "locked": false,
     "schema_version": 3,
     "solution": true,
     "task": false
    }
   },
   "outputs": [],
   "source": [
    "def round_to(num_str, **kwargs):\n",
    "    '''\n",
    "    Usage:\n",
    "    round_to(num_str, [sf=int][, dp=int])\n",
    "    \n",
    "    Rounds a given numerical string to the desired number of dp or sf.\n",
    "    Either dp or sf may be specified, but not both.\n",
    "    '''\n",
    "    # Refactor round_dp() and round_sf().\n",
    "    # Ignore validation steps for now.\n",
    "    # Write your code below.\n",
    "    "
   ]
  },
  {
   "cell_type": "code",
   "execution_count": null,
   "metadata": {
    "nbgrader": {
     "cell_type": "code",
     "checksum": "5cc23070a705de49e02cbca3ce42e5d5",
     "grade": true,
     "grade_id": "cell-0c41a018dfae6c71",
     "locked": true,
     "points": 2,
     "schema_version": 3,
     "solution": false,
     "task": false
    }
   },
   "outputs": [],
   "source": [
    "# Test cell to check your code above\n",
    "# We can't use assert statements to check if errors are raised, since those errors will halt the program.\n",
    "# We will need to use other Python libraries, such as unittest.\n",
    "# This will not be covered in the syllabus, but you can read up on it\n",
    "# at https://docs.python.org/3.6/library/unittest.html\n",
    "# You will see 'OK' at the end of the output if all tests passed\n",
    "import unittest\n",
    "\n",
    "class ErrorCheck(unittest.TestCase):\n",
    "    def testRoundToDp(self):\n",
    "        testdata = [('1.23456', 0, '1'),\n",
    "                    ('1.23456', 1, '1.2'),\n",
    "                    ('1.23456', 2, '1.23'),\n",
    "                    ('1.23456', 3, '1.235'),\n",
    "                    ('1.23456', 4, '1.2346'),\n",
    "                    ('1.23456', 5, '1.23456'),\n",
    "                    ('-1.2345', 3, '-1.234'),\n",
    "                    ]\n",
    "        for num, dp, ans in testdata:\n",
    "            result = round_to(num, dp=dp)\n",
    "            self.assertEqual(result, ans)\n",
    "\n",
    "    def testRoundToSf(self):\n",
    "        testdata = [('1.23456', 1, '1'),\n",
    "                    ('1.23456', 2, '1.2'),\n",
    "                    ('1.23456', 3, '1.23'),\n",
    "                    ('1.23456', 4, '1.235'),\n",
    "                    ('1.23456', 5, '1.2346'),\n",
    "                    ('1.23456', 6, '1.23456'),\n",
    "                    ('-1.23456', 4, '-1.234'),\n",
    "                    ('123456', 4, '123500'),\n",
    "                    ]\n",
    "        for num, sf, ans in testdata:\n",
    "            result = round_to(num, sf=sf)\n",
    "            self.assertEqual(result, ans)\n",
    "\n",
    "result = unittest.main(argv=['ignored'], exit=False)"
   ]
  },
  {
   "cell_type": "markdown",
   "metadata": {},
   "source": [
    "Okay, now you can add in validation.\n",
    "\n",
    "### Task 3: Validate the input for `round_to()`\n",
    "\n",
    "By combining your code from Task 1 with the function above, raise an appropriate error when invalid keyword arguments are provided.\n",
    "\n",
    "Also write an appropriate docstring for the function.\n",
    "\n",
    "You are not expected to get `round_to()` working perfectly for this lesson. If you can implement keyword arguments and raise errors appropriately, you have achieved the lesson objective.\n",
    "\n",
    "\n",
    "\n",
    "**Example output**\n",
    "\n",
    "    >>> round_to('1.234', dp=2, sf=2)\n",
    "    ValueError\n",
    "    >>> round_to('1.234')\n",
    "    ValueError\n",
    "    >>> round_to('1.234', sf='0')\n",
    "    TypeError"
   ]
  },
  {
   "cell_type": "code",
   "execution_count": null,
   "metadata": {
    "nbgrader": {
     "cell_type": "code",
     "checksum": "d5956e6b3d7820c05bc4eeb326c09181",
     "grade": false,
     "grade_id": "cell-391a1dfb7eee168d",
     "locked": false,
     "schema_version": 3,
     "solution": true,
     "task": false
    }
   },
   "outputs": [],
   "source": [
    "def round_to(num_str, **kwargs):\n",
    "    # (1) Write a docstring\n",
    "    # (2) Validate the keyword arguments.\n",
    "    # (3) Round the function to the requested number of dp/sf.\n",
    "    "
   ]
  },
  {
   "cell_type": "code",
   "execution_count": null,
   "metadata": {
    "nbgrader": {
     "cell_type": "code",
     "checksum": "5c2777798c33f23ed63fc9a2bcc926a5",
     "grade": true,
     "grade_id": "cell-021b53d1d1ebd631",
     "locked": true,
     "points": 3,
     "schema_version": 3,
     "solution": false,
     "task": false
    }
   },
   "outputs": [],
   "source": [
    "# Test cell to check your code above\n",
    "# We can't use assert statements to check if errors are raised, since those errors will halt the program.\n",
    "# We will need to use other Python libraries, such as unittest.\n",
    "# This will not be covered in the syllabus, but you can read up on it\n",
    "# at https://docs.python.org/3.6/library/unittest.html\n",
    "# You will see 'OK' at the end of the output if all tests passed\n",
    "import unittest\n",
    "\n",
    "class ErrorCheck(unittest.TestCase):\n",
    "    def testKwargTypeError(self):\n",
    "        self.assertRaises(TypeError, round_to, '123.456', sf='2')\n",
    "        self.assertRaises(TypeError, round_to, '123.456', dp='2')\n",
    "\n",
    "    def testKwargNumError(self):\n",
    "        self.assertRaises(ValueError, round_to, '123.456', dp=2, sf=2)\n",
    "\n",
    "    def testKwargNoneError(self):\n",
    "        self.assertRaises(TypeError, round_to, '123.456')\n",
    "        \n",
    "    def testRoundToDp(self):\n",
    "        testdata = [\n",
    "            ('1.23456', 0, '1'),\n",
    "            ('1.23456', 1, '1.2'),\n",
    "            ('1.23456', 2, '1.23'),\n",
    "            ('1.23456', 3, '1.235'),\n",
    "            ('1.23456', 4, '1.2346'),\n",
    "            ('1.23456', 5, '1.23456'),\n",
    "            ('-1.2345', 3, '-1.234'),\n",
    "        ]\n",
    "        for num, dp, ans in testdata:\n",
    "            result = round_to(num, dp=dp)\n",
    "            self.assertEqual(result, ans)\n",
    "\n",
    "    def testRoundToSf(self):\n",
    "        testdata = [\n",
    "            ('1.23456', 1, '1'),\n",
    "            ('1.23456', 2, '1.2'),\n",
    "            ('1.23456', 3, '1.23'),\n",
    "            ('1.23456', 4, '1.235'),\n",
    "            ('1.23456', 5, '1.2346'),\n",
    "            ('1.23456', 6, '1.23456'),\n",
    "            ('-1.23456',4, '-1.234'),\n",
    "            ('123456', 4, '123500'),\n",
    "        ]\n",
    "        for num, sf, ans in testdata:\n",
    "            result = round_to(num, sf=sf)\n",
    "            self.assertEqual(result, ans)\n",
    "\n",
    "result = unittest.main(argv=['ignored'], exit=False)"
   ]
  },
  {
   "cell_type": "markdown",
   "metadata": {
    "nbgrader": {
     "cell_type": "markdown",
     "checksum": "bb1698a3d1b14c1c9fbe981e9befba25",
     "grade": false,
     "grade_id": "cell-277d0c1adc149a55",
     "locked": true,
     "schema_version": 3,
     "solution": false,
     "task": false
    }
   },
   "source": [
    "Was it tedious testing your `round_to()` function? I bet! We will learn more efficient ways of testing your code in the next lesson. This code testing is _much easier_ if you learn to write your code as functions instead of procedures."
   ]
  }
 ],
 "metadata": {
  "kernelspec": {
   "display_name": "Python 3 (ipykernel)",
   "language": "python",
   "name": "python3"
  },
  "language_info": {
   "codemirror_mode": {
    "name": "ipython",
    "version": 3
   },
   "file_extension": ".py",
   "mimetype": "text/x-python",
   "name": "python",
   "nbconvert_exporter": "python",
   "pygments_lexer": "ipython3",
   "version": "3.8.12"
  }
 },
 "nbformat": 4,
 "nbformat_minor": 2
}
