{
 "cells": [
  {
   "cell_type": "markdown",
   "metadata": {},
   "source": [
    "## 1-minute introduction to Jupyter ##\n",
    "\n",
    "A Jupyter notebook consists of cells. Each cell contains either text or code.\n",
    "\n",
    "A text cell will not have any text to the left of the cell. A code cell has `In [ ]:` to the left of the cell.\n",
    "\n",
    "If the cell contains code, you can edit it. Press <kbd>Enter</kbd> to edit the selected cell. While editing the code, press <kbd>Enter</kbd> to create a new line, or <kbd>Shift</kbd>+<kbd>Enter</kbd> to run the code. If you are not editing the code, select a cell and press <kbd>Ctrl</kbd>+<kbd>Enter</kbd> to run the code."
   ]
  },
  {
   "cell_type": "markdown",
   "metadata": {
    "nbgrader": {
     "cell_type": "markdown",
     "checksum": "e751fa644cc3b7b4124c55aa8c3b641d",
     "grade": false,
     "grade_id": "cell-42e2c6c28565fc8a",
     "locked": true,
     "schema_version": 3,
     "solution": false,
     "task": false
    }
   },
   "source": [
    "# Lesson 9: Recursion\n",
    "\n",
    "In Assignment 6 Part 2, you wrote a function that walked through a list of files and directories, and returned the contents of the subdirectories as well.\n",
    "\n",
    "You probably used a `while` loop to do this. But have you ever wondered, “If the purpose of this function is to return a directory listing, why cant we use it to get the contents of the subdirectories too?”\n",
    "\n",
    "As it turns out, we can. This idea of *using a function within itself* is called **recursion**.\n",
    "\n",
    "Let’s revisit the original code:"
   ]
  },
  {
   "cell_type": "code",
   "execution_count": null,
   "metadata": {},
   "outputs": [],
   "source": [
    "import os\n",
    "\n",
    "def walk_listing(filepath):\n",
    "    list_of_files = os.listdir(filepath)\n",
    "    i = 0\n",
    "    while i < len(list_of_files):\n",
    "        this = list_of_files[i]\n",
    "        full_path = '/'.join([filepath, this])\n",
    "        if os.path.isdir(full_path):\n",
    "            sub_list = os.listdir(full_path)\n",
    "            for each in sub_list:\n",
    "                list_of_files.append(f'{this}/{each}')\n",
    "        i += 1\n",
    "    return list_of_files\n",
    "\n",
    "walk_listing('.')  # walk the current directory"
   ]
  },
  {
   "cell_type": "markdown",
   "metadata": {
    "nbgrader": {
     "cell_type": "markdown",
     "checksum": "5dfe171f305ff4426b9a68a6a0ad1cb7",
     "grade": false,
     "grade_id": "cell-215ed5b79dd3cc7e",
     "locked": true,
     "schema_version": 3,
     "solution": false,
     "task": false
    }
   },
   "source": [
    "The code is doing a few things:\n",
    "\n",
    "    this = list_of_files[i]\n",
    "    full_path = '/'.join([filepath, this])\n",
    "    \n",
    "It has to construct a full path that it can pass to `os.listdir()` to get the subdirectory listing.\n",
    "\n",
    "    if os.path.isdir(full_path):\n",
    "        sub_list = os.listdir(full_path)\n",
    "\n",
    "If it finds a directory, it has to get the directory listing of that directory.\n",
    "\n",
    "    for each in sub_list:\n",
    "        list_of_files.append(f'{this}/{each}')\n",
    "\n",
    "... and then it has to remember to add the current directory in front to form the full path."
   ]
  },
  {
   "cell_type": "markdown",
   "metadata": {
    "nbgrader": {
     "cell_type": "markdown",
     "checksum": "8f243e4360eacafb857d2fc4291e31f9",
     "grade": false,
     "grade_id": "cell-037a6a05b2df3214",
     "locked": true,
     "schema_version": 3,
     "solution": false,
     "task": false
    }
   },
   "source": [
    "## Recursive implementation of `walk_listing()`\n",
    "\n",
    "Another way to implement `walk_listing()` is as follows:\n",
    "\n",
    "1. Get the list of files and directories in the `filepath` directory.\n",
    "2. Initialise a new list, `full_list`.\n",
    "3. For each entry,\n",
    "   - if it is a file, append it to `full_list`,\n",
    "   - if it is a directory,append it to `full_list`.\n",
    "     Then call `walk_listing()` to get its files and directories as a list.\n",
    "4. return `full_list`\n",
    "\n",
    "Notice that in this implementation, we are calling `walk_listing()` *within itelf*.\n",
    "\n",
    "What does that look like in Python code?"
   ]
  },
  {
   "cell_type": "code",
   "execution_count": null,
   "metadata": {},
   "outputs": [],
   "source": [
    "import os\n",
    "\n",
    "def walk_listing(filepath):\n",
    "    full_list = []\n",
    "    for each in os.listdir(filepath):\n",
    "        full_path = '/'.join([filepath, each])\n",
    "        full_list.append(full_path)                 # Adds entry to full_list\n",
    "        if os.path.isdir(full_path):\n",
    "            sub_listing = walk_listing(full_path)   # Calls walk_listing() to get listing from subdirectory\n",
    "            full_list.extend(sub_listing)           # Adds subdirectory listing to full_list\n",
    "    return full_list\n",
    "\n",
    "walk_listing('.')  # walk the current directory"
   ]
  },
  {
   "cell_type": "markdown",
   "metadata": {
    "nbgrader": {
     "cell_type": "markdown",
     "checksum": "c98fe671253e43afb02c90a729051430",
     "grade": false,
     "grade_id": "cell-08e44f6e835dc973",
     "locked": true,
     "schema_version": 3,
     "solution": false,
     "task": false
    }
   },
   "source": [
    "Much shorter, and only one loop instead of two. Let’s see what this is doing:\n",
    "\n",
    "    for each in os.listdir(filepath):\n",
    "\n",
    "We are simply checking the requested directory (without going into subdirectories).\n",
    "\n",
    "    full_list.append(full_path)\n",
    "\n",
    "We add each entry to our new list, `full_list`\n",
    "\n",
    "    if os.path.isdir(full_path):\n",
    "        sub_listing = walk_listing(full_path)\n",
    "        full_list.extend(sub_listing)\n",
    "\n",
    "If the entry is a directory, we just call `walk_listing()` to get the list of files in that subdirectory.\n",
    "\n",
    "But what about the sub-sub-subdirectories?\n",
    "\n",
    "Let’s put in some `print()` statements to help us see what is going on. I added some prefixes to help us know what's happening:\n",
    "- `ENTER` means it is calling `walk_listing()` on a directory (and listing its contents)\n",
    "- `ADD` means it added a new entry to the list\n",
    "- `EXIT` means `walk_listing()` has completed returning a list of files to the function that called it."
   ]
  },
  {
   "cell_type": "code",
   "execution_count": null,
   "metadata": {},
   "outputs": [],
   "source": [
    "import os\n",
    "\n",
    "def walk_listing(filepath):\n",
    "    print(f'INSIDE: {filepath}')\n",
    "    full_list = []\n",
    "    for each in os.listdir(filepath):\n",
    "        full_path = '/'.join([filepath, each])\n",
    "        print(f'   ADD: {full_path}')\n",
    "        full_list.append(full_path)\n",
    "        if os.path.isdir(full_path):\n",
    "            print(f' ENTER: {full_path}')\n",
    "            sub_listing = walk_listing(full_path)\n",
    "            full_list.extend(sub_listing)\n",
    "    print(f'  EXIT: {filepath}')\n",
    "    return full_list\n",
    "\n",
    "walk_listing('.')   # walk the current directory"
   ]
  },
  {
   "cell_type": "markdown",
   "metadata": {
    "nbgrader": {
     "cell_type": "markdown",
     "checksum": "36383d6903149d64e13503b690209def",
     "grade": false,
     "grade_id": "cell-3017b470a939ed7e",
     "locked": true,
     "schema_version": 3,
     "solution": false,
     "task": false
    }
   },
   "source": [
    "See what happens when it encounters a subdirectory? It calls `walk_listing()` to enter that subdirectory, and then gathers a list of files.\n",
    "\n",
    "And if it encounters another subdirectory there? Call `walk_listing()` again.\n",
    "\n",
    "Finally, when the innermost `walk_listing()` returns the list, the next-innermost `walk_listing()` adds it to `full_list()`.\n",
    "\n",
    "With a recursive implementation of `walk_listing()`, we are able to use a `for` loop instead."
   ]
  },
  {
   "cell_type": "markdown",
   "metadata": {},
   "source": [
    "## Checking a recursive implementation\n",
    "\n",
    "How do we catch recursive implementations that will never terminate? In general, recursive functions should meet the following 3 conditions:\n",
    "\n",
    "1. A recursive function should have at least one **base case** that returns a value directly without calling itself.\n",
    "   - This is necessary because it must eventually reach a starting value from which it can \"work backward\".\n",
    "\n",
    "\n",
    "2. A recursive function should call itself (**self-invocation**) when the base case is unmet.\n",
    "   - It should call itself with a different state, i.e. the input to the next function call should not be the same as the input for the current function call.\n",
    "   - Each successive recursive call should **reduce the input** (problem) to bring it *closer to the base case*.\n",
    "\n",
    "\n",
    "3. A recursive function should have a **return value** that enables the calling function (i.e. the \"parent\" function) to build up the final return value.\n",
    "   - It is much easier to think through the logic of recursion if the *return value has a consistent type*."
   ]
  },
  {
   "cell_type": "markdown",
   "metadata": {},
   "source": [
    "# How does walk_listing() meet these conditions?\n",
    "\n",
    "1. **Base case**: There must necessarily be a folder that contains no other folders.\n",
    "2. **Self-invocation**: `walk_listing()` calls itself in line 12, when a subdirectory is detected.\n",
    "3. **Return value**: `walk_listing()` returns the list of files and directories that it has built up so far, allowing the calling function to add that to its own list."
   ]
  },
  {
   "cell_type": "markdown",
   "metadata": {
    "nbgrader": {
     "cell_type": "markdown",
     "checksum": "a3838d1a932ce9b0ae75875658bac7bd",
     "grade": false,
     "grade_id": "cell-f0bf5698b5875ed6",
     "locked": true,
     "schema_version": 3,
     "solution": false,
     "task": false
    }
   },
   "source": [
    "## (optional) Tracking recursion level\n",
    "\n",
    "We can make use of additional arguments to trace how deep we are in the recursion."
   ]
  },
  {
   "cell_type": "code",
   "execution_count": null,
   "metadata": {},
   "outputs": [],
   "source": [
    "import os\n",
    "\n",
    "def walk_listing(filepath, lvl):\n",
    "    print(f'INSIDE: {filepath} ({lvl} level(s) deep)')\n",
    "    full_list = []\n",
    "    for each in os.listdir(filepath):\n",
    "        full_path = '/'.join([filepath, each])\n",
    "        print(f'   ADD: {full_path}')\n",
    "        full_list.append(full_path)\n",
    "        if os.path.isdir(full_path):\n",
    "            print(f' ENTER: {full_path}')\n",
    "            sub_listing = walk_listing(full_path, lvl=(lvl + 1)\n",
    "            full_list.extend(sub_listing)\n",
    "    print(f'  EXIT: {filepath}')\n",
    "    return full_list\n",
    "\n",
    "walk_listing('.', lvl=1)"
   ]
  },
  {
   "cell_type": "markdown",
   "metadata": {
    "nbgrader": {
     "cell_type": "markdown",
     "checksum": "05c0e5929d3c359860e0570571cc1521",
     "grade": false,
     "grade_id": "cell-4da421bb4bcda7b0",
     "locked": true,
     "schema_version": 3,
     "solution": false,
     "task": false
    }
   },
   "source": [
    "## Exercise 1: Write a recursive Fibonacci function\n",
    "\n",
    "In the Fibonacci sequence, each term is the sum of the **previous two terms**.\n",
    "\n",
    "A non-recursive implementation of the fibonacci sequence is shown below:"
   ]
  },
  {
   "cell_type": "code",
   "execution_count": null,
   "metadata": {},
   "outputs": [],
   "source": [
    "def fibonacci(n):\n",
    "    if type(n) != int or n <= 0:\n",
    "        raise ValueError('n must be a positive integer (got {n})')\n",
    "    if n == 1:\n",
    "        return 0\n",
    "    elif n == 2:\n",
    "        return 1\n",
    "    else:\n",
    "        prev = 0\n",
    "        this = 1\n",
    "        for i in range(3, n + 1):\n",
    "            new = this + prev\n",
    "            prev = this\n",
    "            this = new\n",
    "        return this\n",
    "\n",
    "for n in range(1, 10):\n",
    "    print(f'{fibonacci(n)}, ', end='')\n",
    "print(fibonacci(10))"
   ]
  },
  {
   "cell_type": "markdown",
   "metadata": {
    "nbgrader": {
     "cell_type": "markdown",
     "checksum": "7e5f82357c388952581c2536d38e360d",
     "grade": false,
     "grade_id": "cell-1949252e62a431ad",
     "locked": true,
     "schema_version": 3,
     "solution": false,
     "task": false
    }
   },
   "source": [
    "Write a function that calculates the Fibonacci sequence **recursively**."
   ]
  },
  {
   "cell_type": "code",
   "execution_count": null,
   "metadata": {
    "nbgrader": {
     "cell_type": "code",
     "checksum": "706ae401a36e14d9dacdfdb8351075a7",
     "grade": false,
     "grade_id": "cell-5bd358484bf17945",
     "locked": false,
     "schema_version": 3,
     "solution": true,
     "task": false
    }
   },
   "outputs": [],
   "source": [
    "def fibonacci(n):\n",
    "    if type(n) != int or n <= 0:\n",
    "        raise ValueError('n must be a positive integer (got {n})')\n",
    "    if n == 1:\n",
    "        return 0\n",
    "    elif n == 2:\n",
    "        return 1\n",
    "    else:\n",
    "        return fibonacci(n - 1) + fibonacci(n - 2)\n",
    "\n",
    "for n in range(1,10):\n",
    "    print(f'{fibonacci(n)}, ', end='')\n",
    "print(fibonacci(10))"
   ]
  },
  {
   "cell_type": "code",
   "execution_count": null,
   "metadata": {
    "nbgrader": {
     "cell_type": "code",
     "checksum": "ba78ae1a6cf7edf1df13644b5fa50605",
     "grade": true,
     "grade_id": "cell-d66d94a748265c3a",
     "locked": true,
     "points": 2,
     "schema_version": 3,
     "solution": false,
     "task": false
    }
   },
   "outputs": [],
   "source": [
    "test_ans = [0, 1, 1, 2, 3, 5, 8, 13, 21, 34]\n",
    "\n",
    "for i in range(len(test_ans)):\n",
    "    result = fibonacci(i + 1)\n",
    "    assert result == test_ans[i], \\\n",
    "        f'Term {i} of fibonacci sequence should be {test_ans[i]}, got {result} instead.'"
   ]
  }
 ],
 "metadata": {
  "kernelspec": {
   "display_name": "Python 3 (ipykernel)",
   "language": "python",
   "name": "python3"
  },
  "language_info": {
   "codemirror_mode": {
    "name": "ipython",
    "version": 3
   },
   "file_extension": ".py",
   "mimetype": "text/x-python",
   "name": "python",
   "nbconvert_exporter": "python",
   "pygments_lexer": "ipython3",
   "version": "3.8.12"
  }
 },
 "nbformat": 4,
 "nbformat_minor": 2
}
