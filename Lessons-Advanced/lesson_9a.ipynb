{
 "cells": [
  {
   "cell_type": "markdown",
   "metadata": {},
   "source": [
    "## 1-minute introduction to Jupyter ##\n",
    "\n",
    "A Jupyter notebook consists of cells. Each cell contains either text or code.\n",
    "\n",
    "A text cell will not have any text to the left of the cell. A code cell has `In [ ]:` to the left of the cell.\n",
    "\n",
    "If the cell contains code, you can edit it. Press <kbd>Enter</kbd> to edit the selected cell. While editing the code, press <kbd>Enter</kbd> to create a new line, or <kbd>Shift</kbd>+<kbd>Enter</kbd> to run the code. If you are not editing the code, select a cell and press <kbd>Ctrl</kbd>+<kbd>Enter</kbd> to run the code."
   ]
  },
  {
   "cell_type": "markdown",
   "metadata": {},
   "source": [
    "---"
   ]
  },
  {
   "cell_type": "markdown",
   "metadata": {
    "nbgrader": {
     "cell_type": "markdown",
     "checksum": "cdca9785e783cb28f89e31a4a15c88f5",
     "grade": false,
     "grade_id": "cell-8dd8af14517735ca",
     "locked": true,
     "schema_version": 3,
     "solution": false,
     "task": false
    }
   },
   "source": [
    "# Lesson 9a: Advanced functions\n",
    "\n",
    "In lesson 5, we learnt one way of writing modules of code that can be reused: by defining a function. We learnt that a function takes in **parameters**, and **returns** an output:\n",
    "\n",
    "```python\n",
    "def isfloat(string):\n",
    "    if ('.' in string) and (string.count('.') == 1):\n",
    "        return True\n",
    "    else:\n",
    "        return False\n",
    "```\n",
    "\n",
    "In the above code snippet, the defined function `isfloat()` declares a parameter<sup>[1]</sup>, `string`, and returns an output value (either `True` or `False`).\n",
    "\n",
    "    >>> to_hms(7199, 'list')\n",
    "    [1, 59, 59]\n",
    "    >>> to_hms(7199, 'string')\n",
    "    '1 hour, 59 minutes, 59 seconds'\n",
    "\n",
    "In the above code snippet, the called function `to_hms()` takes in two arguments<sup>[1]</sup>, `7199` and `'list'` and returns a list. But if it takes in arguments `7199` and `'string'`, it returns a string.\n",
    "\n",
    "[1]: **See:** [What's the difference between a parameter and an argument?](#What's-the-difference-between-a-parameter-and-an-argument?)\n",
    "\n",
    "These arguments are known as **positional arguments**, because their position matters. I cannot call the function as `to_hms('list', 7199)`; the function will assign the arguments `7199` and `'list'` to the wrong parameters in the definition!\n",
    "\n",
    "How do we write more complex functions that can handle arguments passed in a different order from the functions defined parameters?"
   ]
  },
  {
   "cell_type": "markdown",
   "metadata": {
    "nbgrader": {
     "cell_type": "markdown",
     "checksum": "07731545114f6bfeed51336e3e5b68f3",
     "grade": false,
     "grade_id": "cell-64b0ff655fa81e9d",
     "locked": true,
     "schema_version": 3,
     "solution": false,
     "task": false
    }
   },
   "source": [
    "## The weirdness of Python's `print()` function\n",
    "\n",
    "You might have noticed by now that Python's `print()` function is really strange ... and really powerful.\n",
    "\n",
    "`print()` needs a `str` input to print to the console; any non`str` types must first be casted to `str`. So it can't do this:\n",
    "\n",
    "    >>> print('1 + 2 = '+(1+2))\n",
    "    TypeError: must be str, not int\n",
    "    \n",
    "But it can do this:\n",
    "\n",
    "    >>> print(f'1 + 2 = {1 + 2}')\n",
    "    1 + 2 = 3\n",
    "    >>> print('1 + 2 =', 1 + 2)\n",
    "    1 + 2 = 3\n",
    "    \n",
    "We know that `print(f'1 + 2 = {1 + 2}')` is making use of an f-string which will auto-cast non-`str` types to `str`.\n",
    "\n",
    "But what is going on with `print('1 + 2 =', 1 + 2)`? `print()` can take 1 argument, but it can also take 2 arguments?\n",
    "\n",
    "In fact, this works too:\n",
    "\n",
    "    >>> print('1 + 2', '=', 1 + 2)\n",
    "    1 + 2 = 3\n",
    "    \n",
    "And so does this:\n",
    "\n",
    "    >>> print('1', '+', '2', '=', 1 + 2)\n",
    "    1 + 2 = 3\n",
    "    \n",
    "How is a function able to accept 1 argument, 2 arguments, 3 arguments, and even 5 arguments?"
   ]
  },
  {
   "cell_type": "markdown",
   "metadata": {
    "nbgrader": {
     "cell_type": "markdown",
     "checksum": "b6345cd53a0e486b75825911837d7157",
     "grade": false,
     "grade_id": "cell-565aff0f104f57b4",
     "locked": true,
     "schema_version": 3,
     "solution": false,
     "task": false
    }
   },
   "source": [
    "## Using multiple arguments (args) in a function\n",
    "\n",
    "Let's extend our `isfloat()` function to accept multiple arguments and return a value (`True` or `False`) for each argument. We want it to be able to do this:\n",
    "\n",
    "    >>> a, b, c = isfloat('1.0', '200', '.3')\n",
    "    >>> a\n",
    "    True\n",
    "    >>> b\n",
    "    False\n",
    "    >>> c\n",
    "    True\n",
    "    \n",
    "And we want this function to be able to handle any number of arguments (more than 0).\n",
    "\n",
    "Let's start with a simple function definition:"
   ]
  },
  {
   "cell_type": "code",
   "execution_count": null,
   "metadata": {},
   "outputs": [],
   "source": [
    "def isfloat(*args):\n",
    "    \"\"\"Write the rest of the function here.\"\"\"\n",
    "    # This function does nothing\n",
    "    pass"
   ]
  },
  {
   "cell_type": "markdown",
   "metadata": {
    "nbgrader": {
     "cell_type": "markdown",
     "checksum": "76a183efde3096d8200bf44dc0af64bc",
     "grade": false,
     "grade_id": "cell-1435f0f0290f7181",
     "locked": true,
     "schema_version": 3,
     "solution": false,
     "task": false
    }
   },
   "source": [
    "### [Detour] The `pass` keyword: Python's way of doing nothing\n",
    "\n",
    "`pass` is a special Python keyword that does ... nothing. With it, we can declare the functions we need first, use `pass` as a placeholder for code we will write in future, and plan out the rest of the program while writing minimal code.\n",
    "\n",
    "We need to `pass` keyword because Python won't let us write any statements ending in a colon(`:`) without any code after it. Likewise, we cannot write `if .. else` statements that have no code after the statement.\n",
    "\n",
    "This means you can't use `pass` as a variable name ... important to know when using variable names to store user passwords.\n",
    "\n",
    "Notice that in this function declaration, instead of using a positional argument `string` like we did at the start, we use another argument, called `*args`. What kind of variable is that?\n",
    "\n",
    "Let's write some code to investigate what this `*args` is. We'll simply make the function return `args` so we can inspect it:"
   ]
  },
  {
   "cell_type": "code",
   "execution_count": null,
   "metadata": {},
   "outputs": [],
   "source": [
    "def return_args(*args):\n",
    "    \"\"\"Let's investigate what args is.\"\"\"\n",
    "    # Let's return args as the function output so we can inspect it\n",
    "    # after calling the function\n",
    "    return args\n",
    "\n",
    "args = return_args('1.0', '200', '.3')\n",
    "args"
   ]
  },
  {
   "cell_type": "markdown",
   "metadata": {
    "nbgrader": {
     "cell_type": "markdown",
     "checksum": "64eef2f44aeaa4a657a714d4719e4e2c",
     "grade": false,
     "grade_id": "cell-ff04e919f5b1b86c",
     "locked": true,
     "schema_version": 3,
     "solution": false,
     "task": false
    }
   },
   "source": [
    "Interesting ... Python bundles up all the arguments we fed to `isfloat()` and assigns it to the `args` parameter as a tuple!\n",
    "\n",
    "**Convention:** Actually, we don't need to name it `args`, any other name will do as well. `args` is a common name used **by convention** so that other Python programmers an identify it easily:"
   ]
  },
  {
   "cell_type": "code",
   "execution_count": null,
   "metadata": {},
   "outputs": [],
   "source": [
    "def isfloat(*anyvariablenamewilldo):\n",
    "    \"\"\"To show that any variable name will do for the parameter.\n",
    "    The important thing is to make sure there is only one asterisk\n",
    "    in front of it.\n",
    "    \"\"\"\n",
    "    return anyvariablenamewilldo\n",
    "\n",
    "args = isfloat('1.0', '200', '.3')\n",
    "args"
   ]
  },
  {
   "cell_type": "markdown",
   "metadata": {
    "nbgrader": {
     "cell_type": "markdown",
     "checksum": "7b41bc3b8cd354f697821d59d1273d53",
     "grade": false,
     "grade_id": "cell-030d68a08563fbf2",
     "locked": true,
     "schema_version": 3,
     "solution": false,
     "task": false
    }
   },
   "source": [
    "So now we can iterate over this tuple and process it:"
   ]
  },
  {
   "cell_type": "code",
   "execution_count": null,
   "metadata": {},
   "outputs": [],
   "source": [
    "def isfloat(*args):\n",
    "    \"\"\"Takes in multiple arguments and returns a boolean value for each.\n",
    "    True if the string is a float, False if it is not.\n",
    "    \"\"\"\n",
    "    result = [] # Initialise a list instead of tuple to store the results\n",
    "                # since tuples are immutable\n",
    "    for string in args: # Iterate over args tuple\n",
    "        if ('.' in string) and (string.count('.') == 1):\n",
    "            result.append(True)\n",
    "        else:\n",
    "            result.append(False)\n",
    "    return tuple(result) # Convert result to tuple before returning\n",
    "\n",
    "isfloat('1.0', '200', '.3')"
   ]
  },
  {
   "cell_type": "markdown",
   "metadata": {
    "nbgrader": {
     "cell_type": "markdown",
     "checksum": "b3864f0c1dcde50dc2ffa56dd3107ab9",
     "grade": false,
     "grade_id": "cell-48f31ec295e17b77",
     "locked": true,
     "schema_version": 3,
     "solution": false,
     "task": false
    }
   },
   "source": [
    "### Returning immutable results as a tuple\n",
    "\n",
    "You saw earlier that Python bundles up the arguments into `args` and returns it as a tuple, not as a list; we try to be consistent with this practice in our code.\n",
    "\n",
    "In general, we try to return collections of immutable results as tuples and not lists, unless the output is intended to be a list. This prevents any accidental modification of the result."
   ]
  },
  {
   "cell_type": "markdown",
   "metadata": {
    "nbgrader": {
     "cell_type": "markdown",
     "checksum": "571b510a0ceaccfe3875f24baa859dbf",
     "grade": false,
     "grade_id": "cell-3bd423e34825d5f9",
     "locked": true,
     "schema_version": 3,
     "solution": false,
     "task": false
    }
   },
   "source": [
    "## Customisable functions\n",
    "\n",
    "You have just seen how to make a function take in an arbitrary number of arguments. And you already know how to make a function use default values for unspecified arguments.\n",
    "\n",
    "How do we customise the behaviour of functions?\n",
    "\n",
    "For instance, the `print()` function lets you set the separator (default: `' '`):\n",
    "\n",
    "    >>> print('1', '+', '1', '=', '2', sep='^')\n",
    "    1^+^1^=^2\n",
    "    \n",
    "It also lets you decide what character to print at the end of each line (default: `\\n`)\n",
    "\n",
    "    >>> print('1', '+', '1', '=', '2', end=';')\n",
    "    1 + 1 = 2;\n",
    "    \n",
    "And we can also combine both options:\n",
    "\n",
    "    >>> print('1', '+', '1', '=', '2', sep='^', end=';')\n",
    "    1^+^1^=^2;\n",
    "    \n",
    "Notice that these argument require a different specification: we have to call them by name. These arguments are known as **keyword arguments**."
   ]
  },
  {
   "cell_type": "markdown",
   "metadata": {
    "nbgrader": {
     "cell_type": "markdown",
     "checksum": "e9f66cd4bd8cb4ca07080a0f42a40d4f",
     "grade": false,
     "grade_id": "cell-adf4e9cd92c0dab1",
     "locked": true,
     "schema_version": 3,
     "solution": false,
     "task": false
    }
   },
   "source": [
    "## Using keyword arguments in a function\n",
    "\n",
    "Let’s write a test function to help us examine how keyword arguments are used.\n",
    "\n",
    "We declare the function this way:"
   ]
  },
  {
   "cell_type": "code",
   "execution_count": null,
   "metadata": {},
   "outputs": [],
   "source": [
    "def return_kwargs(**kwargs):\n",
    "    '''Let's investigate kwargs.'''\n",
    "    # Let's just return kwargs and see what we get.\n",
    "    return kwargs\n",
    "\n",
    "kwargs = return_kwargs('1.234', sf=2) # '1.234' will be stored in args\n",
    "kwargs\n",
    "# Try calling return_kwargs with dp=2 and observe the result\n",
    "# Try calling return_kwargs with sf=2, dp=2 and observe the result"
   ]
  },
  {
   "cell_type": "markdown",
   "metadata": {
    "nbgrader": {
     "cell_type": "markdown",
     "checksum": "5e7abd41f6ba71b8c1d7065c6ed28e8f",
     "grade": false,
     "grade_id": "cell-aae5c7da5b3e44e7",
     "locked": true,
     "schema_version": 3,
     "solution": false,
     "task": false
    }
   },
   "source": [
    "The keyword arguments are stored in `kwargs` and returned as a dictionary. So simple!\n",
    "\n",
    "Again, naming it `kwargs` is just a convention; you can name the parameter anything you like, so long as there are two asterisks in front of it.\n",
    "\n",
    "Access the arguments through the `kwarg` dictionary like any ordinary dictionary:"
   ]
  },
  {
   "cell_type": "code",
   "execution_count": null,
   "metadata": {},
   "outputs": [],
   "source": [
    "# Call return_kwargs above with an `sf=` keyword argument first.\n",
    "# The run this cell to observe the return value of kwargs['sf']\n",
    "kwargs['sf']"
   ]
  },
  {
   "cell_type": "markdown",
   "metadata": {
    "nbgrader": {
     "cell_type": "markdown",
     "checksum": "8368417b77d9e16cb28b1add6d7894f7",
     "grade": false,
     "grade_id": "cell-50821286d1f8973d",
     "locked": true,
     "schema_version": 3,
     "solution": false,
     "task": false
    }
   },
   "source": [
    "If no `sf=` keyword argument was given, that would throw a `KeyError` since `kwargs` would not have a `'sf'` key. To get around this, we can do a membership check with the `in` keyword:\n",
    "\n",
    "    def return_kwargs(**kwargs):\n",
    "        if 'sf' in kwargs.keys():\n",
    "            sf = kwargs['sf']\n",
    "        \n",
    "or we can use the `dict.get()` method to [assign a fallback value](lesson_07a.ipynb) if the key is not present. This chunk of code will assign the value `None` to the `sf` parameter if `return_kwargs()` was called without a `sf=` keyword argument:\n",
    "\n",
    "    def return_kwargs(**kwargs):\n",
    "        sf = kwargs.get('sf',None)\n",
    "        if sf is not None:\n",
    "            [... the rest of your code here ...]\n",
    "\n",
    "We will use these examples shortly. But first, let’s learn more advanced ways of handling errors: by raising the right errors where relevant."
   ]
  },
  {
   "cell_type": "markdown",
   "metadata": {
    "nbgrader": {
     "cell_type": "markdown",
     "checksum": "4f91ab96eed0533b4a2a568c6a024af3",
     "grade": false,
     "grade_id": "cell-8ad1ee19a7f6daae",
     "locked": true,
     "schema_version": 3,
     "solution": false,
     "task": false
    }
   },
   "source": [
    "## Raising an error with the `raise` statement\n",
    "\n",
    "To raise an error, use the `raise` keyword:"
   ]
  },
  {
   "cell_type": "code",
   "execution_count": null,
   "metadata": {},
   "outputs": [],
   "source": [
    "raise SyntaxError"
   ]
  },
  {
   "cell_type": "markdown",
   "metadata": {
    "nbgrader": {
     "cell_type": "markdown",
     "checksum": "d69e68e680458766caba1f63e4cf9d59",
     "grade": false,
     "grade_id": "cell-196541949deea89f",
     "locked": true,
     "schema_version": 3,
     "solution": false,
     "task": false
    }
   },
   "source": [
    "To provide more information, you can also provide a message as an argument to the error:"
   ]
  },
  {
   "cell_type": "code",
   "execution_count": null,
   "metadata": {},
   "outputs": [],
   "source": [
    "raise SyntaxError('Playing with the raise keyword')"
   ]
  }
 ],
 "metadata": {
  "kernelspec": {
   "display_name": "Python 3 (ipykernel)",
   "language": "python",
   "name": "python3"
  },
  "language_info": {
   "codemirror_mode": {
    "name": "ipython",
    "version": 3
   },
   "file_extension": ".py",
   "mimetype": "text/x-python",
   "name": "python",
   "nbconvert_exporter": "python",
   "pygments_lexer": "ipython3",
   "version": "3.8.12"
  }
 },
 "nbformat": 4,
 "nbformat_minor": 2
}
