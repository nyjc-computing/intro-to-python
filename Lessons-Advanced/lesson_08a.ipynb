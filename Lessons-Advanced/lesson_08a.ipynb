{
 "cells": [
  {
   "cell_type": "markdown",
   "metadata": {},
   "source": [
    "## 1-minute introduction to Jupyter ##\n",
    "\n",
    "A Jupyter notebook consists of cells. Each cell contains either text or code.\n",
    "\n",
    "A text cell will not have any text to the left of the cell. A code cell has `In [ ]:` to the left of the cell.\n",
    "\n",
    "If the cell contains code, you can edit it. Press <kbd>Enter</kbd> to edit the selected cell. While editing the code, press <kbd>Enter</kbd> to create a new line, or <kbd>Shift</kbd>+<kbd>Enter</kbd> to run the code. If you are not editing the code, select a cell and press <kbd>Ctrl</kbd>+<kbd>Enter</kbd> to run the code."
   ]
  },
  {
   "cell_type": "markdown",
   "metadata": {
    "nbgrader": {
     "cell_type": "markdown",
     "checksum": "d4326dd746c934cd862a6f43bab49cba",
     "grade": false,
     "grade_id": "cell-8dd8af14517735ca",
     "locked": true,
     "schema_version": 3,
     "solution": false,
     "task": false
    }
   },
   "source": [
    "# Lesson 8a: Thinking tools\n",
    "\n",
    "Oftentimes, a programmer may not be working in the best of conditions. They might not have access to a good keyboard, a fast computer, and asufficiently large screen. Those we cann't do much about.\n",
    "\n",
    "More annoyingly, they may not have access to good tools: a good <b>i</b>ntegrated <b>d</b>evelopment <b>e</b>nvironment (**IDE**), and a useful debugger.\n",
    "\n",
    "In such case, they must fall back on the oldest tools known to programmers: `print()` statements, paper, and pencil."
   ]
  },
  {
   "cell_type": "markdown",
   "metadata": {
    "nbgrader": {
     "cell_type": "markdown",
     "checksum": "7e5ae480a41513c0d60f14456dc90442",
     "grade": false,
     "grade_id": "cell-3377ffb73bcccab8",
     "locked": true,
     "schema_version": 3,
     "solution": false,
     "task": false
    }
   },
   "source": [
    "## Fibonacci sequence\n",
    "\n",
    "The fibonacci sequence is a sequence where each successive term is the sum of the two previous terms.\n",
    "\n",
    "The sequence runs: 0, 1, 1, 2, 3, 5, 8, 13, 21, 34, 55, 89, 144, ...\n",
    "\n",
    "Ths sequence is found in many phenomena in nature, and also used in some algorithms.\n",
    "\n",
    "Let’s see how it is represented in different thinking tools."
   ]
  },
  {
   "cell_type": "markdown",
   "metadata": {
    "nbgrader": {
     "cell_type": "markdown",
     "checksum": "6014777252cd6d809e1fb2fc4265b50e",
     "grade": false,
     "grade_id": "cell-b33c2824697c89a9",
     "locked": true,
     "schema_version": 3,
     "solution": false,
     "task": false
    }
   },
   "source": [
    "## Pseudocode\n",
    "\n",
    "Before writing actual program code, programmers often think and write in a code-like language known as pseudocode.\n",
    "\n",
    "The following pseudocode attempts to define a function, `fibonacci(n)`, that generates the `n`th value of a fibonacci sequence:\n",
    "\n",
    "    FUNCTION fibonacci(n)\n",
    "        IF n == 1 THEN\n",
    "            RETURN 0\n",
    "        ELSEIF n == 2 THEN\n",
    "            RETURN 1\n",
    "        ELSE\n",
    "            prev = 0\n",
    "            this = 1\n",
    "            FOR i = 3 to n\n",
    "                this = this + prev\n",
    "                prev = this\n",
    "            RETURN this"
   ]
  },
  {
   "cell_type": "markdown",
   "metadata": {
    "nbgrader": {
     "cell_type": "markdown",
     "checksum": "1752ce54bb69c689a7772578a9e38964",
     "grade": false,
     "grade_id": "cell-92c48b71c828598a",
     "locked": true,
     "schema_version": 3,
     "solution": false,
     "task": false
    }
   },
   "source": [
    "### Examples of real-world pseudocode\n",
    "\n",
    "As some complex algorithms need to be implemented in different programming languages, they are often written in pseudocode. This pseudocode needs to be **abstract** enough that programmers working in different languages will not be distracted by particularities of one language, yet clear enough, so that it is easy to see what steps need to be taken.\n",
    "\n",
    "This is the MD5 algorithm, used to calculate a **hash** for a chunk of data. Two chunks of data that are different are almost guaranteed to have different MD5 hashes. Thus, their MD5 hashes can be compared to se if they are different; a much more efficient method than comparing the two data chunks bit by bit.\n",
    "\n",
    "MD5 algorithm:\n",
    "\n",
    "```\n",
    "// Note: All variables are unsigned 32 bit and wrap modulo 2^32 when calculating\n",
    "var int s[64], K[64]\n",
    "var int i\n",
    "\n",
    "// s specifies the per-round shift amounts\n",
    "s[ 0..15] := { 7, 12, 17, 22,  7, 12, 17, 22,  7, 12, 17, 22,  7, 12, 17, 22 }\n",
    "s[16..31] := { 5,  9, 14, 20,  5,  9, 14, 20,  5,  9, 14, 20,  5,  9, 14, 20 }\n",
    "s[32..47] := { 4, 11, 16, 23,  4, 11, 16, 23,  4, 11, 16, 23,  4, 11, 16, 23 }\n",
    "s[48..63] := { 6, 10, 15, 21,  6, 10, 15, 21,  6, 10, 15, 21,  6, 10, 15, 21 }\n",
    "\n",
    "// Use binary integer part of the sines of integers (Radians) as constants:\n",
    "for i from 0 to 63 do\n",
    "    K[i] := floor(232 × abs (sin(i + 1)))\n",
    "end for\n",
    "// (Or just use the following precomputed table):\n",
    "K[ 0.. 3] := { 0xd76aa478, 0xe8c7b756, 0x242070db, 0xc1bdceee }\n",
    "K[ 4.. 7] := { 0xf57c0faf, 0x4787c62a, 0xa8304613, 0xfd469501 }\n",
    "K[ 8..11] := { 0x698098d8, 0x8b44f7af, 0xffff5bb1, 0x895cd7be }\n",
    "K[12..15] := { 0x6b901122, 0xfd987193, 0xa679438e, 0x49b40821 }\n",
    "K[16..19] := { 0xf61e2562, 0xc040b340, 0x265e5a51, 0xe9b6c7aa }\n",
    "K[20..23] := { 0xd62f105d, 0x02441453, 0xd8a1e681, 0xe7d3fbc8 }\n",
    "K[24..27] := { 0x21e1cde6, 0xc33707d6, 0xf4d50d87, 0x455a14ed }\n",
    "K[28..31] := { 0xa9e3e905, 0xfcefa3f8, 0x676f02d9, 0x8d2a4c8a }\n",
    "K[32..35] := { 0xfffa3942, 0x8771f681, 0x6d9d6122, 0xfde5380c }\n",
    "K[36..39] := { 0xa4beea44, 0x4bdecfa9, 0xf6bb4b60, 0xbebfbc70 }\n",
    "K[40..43] := { 0x289b7ec6, 0xeaa127fa, 0xd4ef3085, 0x04881d05 }\n",
    "K[44..47] := { 0xd9d4d039, 0xe6db99e5, 0x1fa27cf8, 0xc4ac5665 }\n",
    "K[48..51] := { 0xf4292244, 0x432aff97, 0xab9423a7, 0xfc93a039 }\n",
    "K[52..55] := { 0x655b59c3, 0x8f0ccc92, 0xffeff47d, 0x85845dd1 }\n",
    "K[56..59] := { 0x6fa87e4f, 0xfe2ce6e0, 0xa3014314, 0x4e0811a1 }\n",
    "K[60..63] := { 0xf7537e82, 0xbd3af235, 0x2ad7d2bb, 0xeb86d391 }\n",
    "\n",
    "// Initialize variables:\n",
    "var int a0 := 0x67452301   // A\n",
    "var int b0 := 0xefcdab89   // B\n",
    "var int c0 := 0x98badcfe   // C\n",
    "var int d0 := 0x10325476   // D\n",
    "\n",
    "// Pre-processing: adding a single 1 bit\n",
    "append \"1\" bit to message    \n",
    "// Notice: the input bytes are considered as bits strings,\n",
    "//  where the first bit is the most significant bit of the byte.[50]\n",
    "\n",
    "// Pre-processing: padding with zeros\n",
    "append \"0\" bit until message length in bits ≡ 448 (mod 512)\n",
    "append original length in bits mod 264 to message\n",
    "\n",
    "// Process the message in successive 512-bit chunks:\n",
    "for each 512-bit chunk of padded message do\n",
    "    break chunk into sixteen 32-bit words M[j], 0 ≤ j ≤ 15\n",
    "    // Initialize hash value for this chunk:\n",
    "    var int A := a0\n",
    "    var int B := b0\n",
    "    var int C := c0\n",
    "    var int D := d0\n",
    "    // Main loop:\n",
    "    for i from 0 to 63 do\n",
    "        var int F, g\n",
    "        if 0 ≤ i ≤ 15 then\n",
    "            F := (B and C) or ((not B) and D)\n",
    "            g := i\n",
    "        else if 16 ≤ i ≤ 31 then\n",
    "            F := (D and B) or ((not D) and C)\n",
    "            g := (5×i + 1) mod 16\n",
    "        else if 32 ≤ i ≤ 47 then\n",
    "            F := B xor C xor D\n",
    "            g := (3×i + 5) mod 16\n",
    "        else if 48 ≤ i ≤ 63 then\n",
    "            F := C xor (B or (not D))\n",
    "            g := (7×i) mod 16\n",
    "        // Be wary of the below definitions of a,b,c,d\n",
    "        F := F + A + K[i] + M[g]  // M[g] must be a 32-bits block\n",
    "        A := D\n",
    "        D := C\n",
    "        C := B\n",
    "        B := B + leftrotate(F, s[i])\n",
    "    end for\n",
    "    // Add this chunk's hash to result so far:\n",
    "    a0 := a0 + A\n",
    "    b0 := b0 + B\n",
    "    c0 := c0 + C\n",
    "    d0 := d0 + D\n",
    "end for\n",
    "\n",
    "var char digest[16] := a0 append b0 append c0 append d0 // (Output is in little-endian)\n",
    "\n",
    "// leftrotate function definition\n",
    "leftrotate (x, c)\n",
    "    return (x << c) binary or (x >> (32-c));\n",
    "```\n",
    "\n",
    "Source: https://en.wikipedia.org/wiki/MD5#Pseudocode"
   ]
  },
  {
   "cell_type": "markdown",
   "metadata": {
    "nbgrader": {
     "cell_type": "markdown",
     "checksum": "5bdfa85c64938bcc095fa511e214dd51",
     "grade": false,
     "grade_id": "cell-c2d6261c37ac844c",
     "locked": true,
     "schema_version": 3,
     "solution": false,
     "task": false
    }
   },
   "source": [
    "## Flowcharts\n",
    "\n",
    "As an alternative to language, programmers also use flowcharts to describe and explain program code.\n",
    "\n",
    "The following diagram shows the flowchart for generating a Fibonacci sequence, written in the syntax of the C programming language:"
   ]
  },
  {
   "attachments": {
    "FlowChart_Fibonacci.jpg": {
     "image/jpeg": "[encoded data removed]"
    }
   },
   "cell_type": "markdown",
   "metadata": {
    "nbgrader": {
     "cell_type": "markdown",
     "checksum": "e69e7ab1070ac7db802020c09171154f",
     "grade": false,
     "grade_id": "cell-71b1c189f83d421f",
     "locked": true,
     "schema_version": 3,
     "solution": false,
     "task": false
    }
   },
   "source": [
    "![FlowChart_Fibonacci.jpg](attachment:FlowChart_Fibonacci.jpg)"
   ]
  },
  {
   "cell_type": "markdown",
   "metadata": {
    "nbgrader": {
     "cell_type": "markdown",
     "checksum": "0372b44882a94b9d36efcfad8b04462f",
     "grade": false,
     "grade_id": "cell-231ecf96c6ad10c0",
     "locked": true,
     "schema_version": 3,
     "solution": false,
     "task": false
    }
   },
   "source": [
    "## Decision tables\n",
    "\n",
    "In situations where there are many conditions to be checked, it is easy to get confused about which condition(s) need to be `True` and which need to be `False` before an action is carried out. It can also be confusing to know what to check first in a series of `if` statements.\n",
    "\n",
    "A decision table is a thinking tool for laying out all the possible combinations of conditions, deciding what action should take place, and then simplifying the number of conditions to check.\n",
    "\n",
    "Read the following instructions and see if you can identify the key conditions to check:\n",
    "\n",
    "1. Students must report to school before their first lesson, or they will be marked late.\n",
    "\n",
    "2. Students must report latest by 0850h on all days, or they will be marked late.\n",
    "\n",
    "3. If the first lesson is a lecture at 9am, students must report by 0840h. Attendance will be taken at the lecture venue.\n",
    "\n",
    "4. If the first lesson is a tutorial at 9am, students must report by 0850h. Attendance will be taken at the lesson venue.\n",
    "\n",
    "5. If there is no lesson at 9am, students must have their attendance taken at the foyer (fountain area)."
   ]
  },
  {
   "cell_type": "markdown",
   "metadata": {
    "nbgrader": {
     "cell_type": "markdown",
     "checksum": "cf24a994da4c985619cbe9a18f27f6cf",
     "grade": false,
     "grade_id": "cell-186f8eedbde73d90",
     "locked": true,
     "schema_version": 3,
     "solution": false,
     "task": false
    }
   },
   "source": [
    "**Conditions** (Yes/No answer):\n",
    "\n",
    "1. Is there a 9am lesson? (`is_9am`)\n",
    "2. Is it a lecture? (`is_lecture`)\n",
    "\n",
    "**Output** (actions):\n",
    "- `report_by`: `{`0840h, 0850h, 0930h`}`\n",
    "- `attendance_at`: `{`lesson venue, lecture venue, foyer`}`\n",
    "\n",
    "## Task 1\n",
    "\n",
    "Complete the following table with an appropriate `report_by` time and `attendance_at` venue:\n",
    "\n",
    "| `is_9am` | `is_lecture` | `report_by` | `attendance_at` |\n",
    "| -------- | ------------ | ----------- | --------------- |\n",
    "|  `True`  |    `True`    |                               |\n",
    "|                                                         |\n",
    "|  `True`  |   `False`    |                               |\n",
    "|                                                         |\n",
    "| `False`  |    `True`    |                               |\n",
    "|                                                         |\n",
    "| `False`  |   `False`    |             |                 |\n"
   ]
  },
  {
   "cell_type": "markdown",
   "metadata": {
    "nbgrader": {
     "cell_type": "markdown",
     "checksum": "bf19e97292afa3c574800615df71a58e",
     "grade": true,
     "grade_id": "cell-5e69a8fe12d71c60",
     "locked": false,
     "points": 4,
     "schema_version": 3,
     "solution": true,
     "task": false
    }
   },
   "source": [
    "Answer:\n",
    "YOUR ANSWER HERE"
   ]
  },
  {
   "cell_type": "markdown",
   "metadata": {
    "nbgrader": {
     "cell_type": "markdown",
     "checksum": "51e6017ef2464e5ad9c3c14facb538cd",
     "grade": false,
     "grade_id": "cell-09be7a4735a5062b",
     "locked": true,
     "schema_version": 3,
     "solution": false,
     "task": false
    }
   },
   "source": [
    "## Task 2\n",
    "\n",
    "Write pseudocode to assign appropriate (string) values to the `report_by` and `attendance_at` variables:"
   ]
  },
  {
   "cell_type": "code",
   "execution_count": null,
   "metadata": {
    "nbgrader": {
     "cell_type": "code",
     "checksum": "bc310fe8b458d527d8728f46493bd1f9",
     "grade": true,
     "grade_id": "cell-ed26cfee362f6657",
     "locked": false,
     "points": 3,
     "schema_version": 3,
     "solution": true,
     "task": false
    }
   },
   "outputs": [],
   "source": [
    "# Write pseudocode here\n",
    "\n"
   ]
  },
  {
   "cell_type": "markdown",
   "metadata": {
    "nbgrader": {
     "cell_type": "markdown",
     "checksum": "2cd84be53085256e6ed34db65c9a84cf",
     "grade": false,
     "grade_id": "cell-c3598875e0b40255",
     "locked": true,
     "schema_version": 3,
     "solution": false,
     "task": false
    }
   },
   "source": [
    "## Task 3\n",
    "\n",
    "Draw a flowchart to depict the logic flow of the decision."
   ]
  }
 ],
 "metadata": {
  "kernelspec": {
   "display_name": "Python 3 (ipykernel)",
   "language": "python",
   "name": "python3"
  },
  "language_info": {
   "codemirror_mode": {
    "name": "ipython",
    "version": 3
   },
   "file_extension": ".py",
   "mimetype": "text/x-python",
   "name": "python",
   "nbconvert_exporter": "python",
   "pygments_lexer": "ipython3",
   "version": "3.8.12"
  }
 },
 "nbformat": 4,
 "nbformat_minor": 2
}
