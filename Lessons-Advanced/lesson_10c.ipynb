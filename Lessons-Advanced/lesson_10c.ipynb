{
 "cells": [
  {
   "cell_type": "markdown",
   "metadata": {},
   "source": [
    "## 1-minute introduction to Jupyter ##\n",
    "\n",
    "A Jupyter notebook consists of cells. Each cell contains either text or code.\n",
    "\n",
    "A text cell will not have any text to the left of the cell. A code cell has `In [ ]:` to the left of the cell.\n",
    "\n",
    "If the cell contains code, you can edit it. Press <kbd>Enter</kbd> to edit the selected cell. While editing the code, press <kbd>Enter</kbd> to create a new line, or <kbd>Shift</kbd>+<kbd>Enter</kbd> to run the code. If you are not editing the code, select a cell and press <kbd>Ctrl</kbd>+<kbd>Enter</kbd> to run the code."
   ]
  },
  {
   "cell_type": "markdown",
   "metadata": {},
   "source": [
    "---"
   ]
  },
  {
   "cell_type": "markdown",
   "metadata": {
    "nbgrader": {
     "cell_type": "markdown",
     "checksum": "b059c6fe837193f884d25afd532452c8",
     "grade": false,
     "grade_id": "cell-ff4ebfb94624d9f3",
     "locked": true,
     "schema_version": 3,
     "solution": false,
     "task": false
    }
   },
   "source": [
    "# Lesson 10c: Handling errors with `try-except`\n",
    "\n",
    "Now that you have learnt how to test your programs with `assert`, let’s look at handling errors.\n",
    "\n",
    "When you are using a program, it is esepcially annoying when the program crashes and exits. You curse and swear at the company that released this program, wondering if they actually know what they are doing. Crashing all the way back to your operating system is *catastrophic*.\n",
    "\n",
    "You would usually expect the program to handle errors, at the very least telling you that an error occured, displaying some helpful info about it, and maybe asking you if you want to submit a bug report so they can fix it.\n",
    "\n",
    "### When to catch errors\n",
    "\n",
    "In Python, we don’t always expect errors to happen. For instance, when we use the `find()` string method, we know that it will return `-1` if nothing is found, so we don’t need to catch errors there.\n",
    "\n",
    "In other cases, such as when opening a file, all kinds of things can happen."
   ]
  },
  {
   "cell_type": "code",
   "execution_count": null,
   "metadata": {},
   "outputs": [],
   "source": [
    "filename = 'data.txt'\n",
    "f = open(filename, 'r')"
   ]
  },
  {
   "cell_type": "markdown",
   "metadata": {
    "nbgrader": {
     "cell_type": "markdown",
     "checksum": "2a4b6ec0bdf77ffb7e435f6b7976f4ce",
     "grade": false,
     "grade_id": "cell-bd0a6133fc779c53",
     "locked": true,
     "schema_version": 3,
     "solution": false,
     "task": false
    }
   },
   "source": [
    "The file might not exist, or it might be in a wrong format, or it might not be a valid text file, or … we definitely expect that some kind of error is going to come up. This is a good place to use `try`.\n",
    "\n",
    "\n",
    "## The `except` companion keyword\n",
    "\n",
    "The `try` keyword tells Python that the indented chunk of code might `raise` errors. The `except` keyword is the companion to try, just like `else` is a companion to `if`. Any errors named after `except` will be caught be `except` and handled by its indented code.\n",
    "\n",
    "Let’s see how it works:"
   ]
  },
  {
   "cell_type": "code",
   "execution_count": null,
   "metadata": {},
   "outputs": [],
   "source": [
    "filename = 'data.txt'\n",
    "try:\n",
    "    f = open(filename, 'r', encoding=\"ascii\")\n",
    "except FileNotFoundError:\n",
    "    print('File was not found.')"
   ]
  },
  {
   "cell_type": "markdown",
   "metadata": {
    "nbgrader": {
     "cell_type": "markdown",
     "checksum": "f2c971219b5d715ac7eaf79df57ae9c1",
     "grade": false,
     "grade_id": "cell-7f9f37ae84951319",
     "locked": true,
     "schema_version": 3,
     "solution": false,
     "task": false
    }
   },
   "source": [
    "Notice that `FileNotFoundError` did not cause the program to exit prematurely, unlike the previous cell. The `except` keyword caught the `FileNotFoundError` and ran the indented code cell, which printed the error.\n",
    "\n",
    "So how do we tell Python to continue with our code if `FileNotFoundError` _was not raised_?"
   ]
  },
  {
   "cell_type": "code",
   "execution_count": null,
   "metadata": {},
   "outputs": [],
   "source": [
    "filename = 'data.txt'\n",
    "try:\n",
    "    f = open(filename, 'r', encoding=\"ascii\")\n",
    "except FileNotFoundError:\n",
    "    print('File was not found.')\n",
    "else:\n",
    "    data = f.readlines()"
   ]
  },
  {
   "cell_type": "markdown",
   "metadata": {
    "nbgrader": {
     "cell_type": "markdown",
     "checksum": "a616d3dca4e55bd67205a005990271ad",
     "grade": false,
     "grade_id": "cell-05f6efee5453eba1",
     "locked": true,
     "schema_version": 3,
     "solution": false,
     "task": false
    }
   },
   "source": [
    "`try-except` also accepts an `else` keyword. Code indented under `else` will run **only if the `try` statement was successful**.\n",
    "\n",
    "We learnt in Lesson 5b that file handles must always be closed properly. Where should we put `f.close()`?\n",
    "\n",
    "If we indent it under `except`, it will only close the file when `FileNotFoundError` is raised.\n",
    "\n",
    "If we indent it under `else`, it will only close the file when no error is raised.\n",
    "\n",
    "If we wnt `f.close()` to be called **regardless of the outcome of `try`**, we do this:"
   ]
  },
  {
   "cell_type": "code",
   "execution_count": null,
   "metadata": {},
   "outputs": [],
   "source": [
    "filename = 'data.txt'\n",
    "try:\n",
    "    f = open(filename, 'r', encoding=\"ascii\")\n",
    "except FileNotFoundError:\n",
    "    print('File was not found.')\n",
    "else:\n",
    "    data = f.readlines()\n",
    "finally:\n",
    "    f.close()"
   ]
  },
  {
   "cell_type": "markdown",
   "metadata": {
    "nbgrader": {
     "cell_type": "markdown",
     "checksum": "46d1eaf3c4834cec8ed1fac00f588c0f",
     "grade": false,
     "grade_id": "cell-cfc4fb7ccee561e7",
     "locked": true,
     "schema_version": 3,
     "solution": false,
     "task": false
    }
   },
   "source": [
    "Code that is indented under the `finally` keyword will run regardless of the outcome of `try`.\n",
    "\n",
    "## Catching generic errors\n",
    "\n",
    "In the above code, if we got some other error besides `FileNotFoundError`, it would have slipped past our `try-except` statement.\n",
    "\n",
    "Just as we have `if-elif-else` statements, we often also have a final `except` to catch all other uncaught errors. Besides `FileNotFoundError`, who knows what other errors we might get? This is what we would do:"
   ]
  },
  {
   "cell_type": "code",
   "execution_count": null,
   "metadata": {},
   "outputs": [],
   "source": [
    "filename = 'data.txt'\n",
    "try:\n",
    "    f = open(filename, 'r', encoding=\"ascii\")\n",
    "except FileNotFoundError:\n",
    "    print(f'File \\'{filename}\\' was not found.')\n",
    "except:\n",
    "    print('An error occured.')\n",
    "else:\n",
    "    data = f.readlines()\n",
    "finally:\n",
    "    f.close()"
   ]
  },
  {
   "cell_type": "markdown",
   "metadata": {
    "nbgrader": {
     "cell_type": "markdown",
     "checksum": "abb0ce811e07688c455b3174818bba3b",
     "grade": false,
     "grade_id": "cell-82ca549b3e787afc",
     "locked": true,
     "schema_version": 3,
     "solution": false,
     "task": false
    }
   },
   "source": [
    "Hmm, but that’s not very helpful. If you were debugging and you simply saw `An error occured`, you would have no idea where to begin debugging (besides knowing that the error was not one of those you were looking out for).\n",
    "\n",
    "We can try to catch generic errors and print them like this:"
   ]
  },
  {
   "cell_type": "code",
   "execution_count": null,
   "metadata": {},
   "outputs": [],
   "source": [
    "filename = 'data.txt'\n",
    "try:\n",
    "    f = open(filename, 'r', encoding=\"ascii\")\n",
    "except FileNotFoundError:\n",
    "    print(f'File \\'{filename}\\' was not found.')\n",
    "except Exception as e:\n",
    "    print(e)\n",
    "else:\n",
    "    data = f.readlines()\n",
    "finally:\n",
    "    f.close()"
   ]
  },
  {
   "cell_type": "markdown",
   "metadata": {
    "nbgrader": {
     "cell_type": "markdown",
     "checksum": "a1f7fd8fd77fb2b06b093638af6a732d",
     "grade": false,
     "grade_id": "cell-6dd0adde7c04c259",
     "locked": true,
     "schema_version": 3,
     "solution": false,
     "task": false
    }
   },
   "source": [
    "Here, `Exception` is an object that represents a generic error (This will make more sense after Lesson 9 and 10, on Object-Oriented Programming).\n",
    "\n",
    "`except Exception` tells Python to catch any exceptions (if it is not a `FileNotFoundError` which would have been caught earlier), and run the indented code.\n",
    "\n",
    "`except Exception as e` tells Python to catch any exceptions and assign them to the variable `e`. Exceptions are objects in Python too, with attributes and methods. We can then do things with `e`, such as print it for a more helpful statement.\n",
    "\n",
    "## Capturing errors as variables\n",
    "\n",
    "Lets see an example where this would be helpful:"
   ]
  },
  {
   "cell_type": "code",
   "execution_count": null,
   "metadata": {},
   "outputs": [],
   "source": [
    "filename = 'emoji.txt'\n",
    "try:\n",
    "    f = open(filename, 'r', encoding=\"ascii\")\n",
    "except FileNotFoundError:\n",
    "    print(f'File \\'{filename}\\' was not found.')\n",
    "except Exception as e:\n",
    "    print(e)\n",
    "else:\n",
    "    data = f.readlines()\n",
    "finally:\n",
    "    f.close()"
   ]
  },
  {
   "cell_type": "markdown",
   "metadata": {
    "nbgrader": {
     "cell_type": "markdown",
     "checksum": "4198e07d0ee5fd4b84c6cf0657647021",
     "grade": false,
     "grade_id": "cell-3d5c4c47ccf9a6cd",
     "locked": true,
     "schema_version": 3,
     "solution": false,
     "task": false
    }
   },
   "source": [
    "Oops … we encountered an error on line 9, within the `else` statement. Guess we need to nest another `try-except` there.\n",
    "\n",
    "If we just use a simple `try-except` without assigning the exception:"
   ]
  },
  {
   "cell_type": "code",
   "execution_count": null,
   "metadata": {},
   "outputs": [],
   "source": [
    "filename = 'emoji.txt'\n",
    "try:\n",
    "    f = open(filename, 'r', encoding=\"ascii\")\n",
    "except FileNotFoundError:\n",
    "    print(f'File \\'{filename}\\' was not found.')\n",
    "except Exception as e:\n",
    "    print(e)\n",
    "else:\n",
    "    # Let’s nest another try-except to catch file read errors\n",
    "    try:\n",
    "        data = f.readlines()\n",
    "    except:\n",
    "        print('File read error')\n",
    "finally:\n",
    "    f.close()"
   ]
  },
  {
   "cell_type": "markdown",
   "metadata": {
    "nbgrader": {
     "cell_type": "markdown",
     "checksum": "c09920e61b0fb02ca005510c59f42b1b",
     "grade": false,
     "grade_id": "cell-1e4974041dbea837",
     "locked": true,
     "schema_version": 3,
     "solution": false,
     "task": false
    }
   },
   "source": [
    "We get an unhelpful error message. If we want to examine what kind of error it is, we catch the generic exception (through the `Exception` object), and assign it to a variable (I usually just use `e`):"
   ]
  },
  {
   "cell_type": "code",
   "execution_count": null,
   "metadata": {},
   "outputs": [],
   "source": [
    "filename = 'emoji.txt'\n",
    "try:\n",
    "    f = open(filename, 'r', encoding=\"ascii\")\n",
    "except FileNotFoundError:\n",
    "    print(f'File \\'{filename}\\' was not found.')\n",
    "except Exception as e:\n",
    "    print(e)\n",
    "else:\n",
    "    try:\n",
    "        data = f.readlines()\n",
    "    # Catch all exceptions and assign them to e\n",
    "    except Exception as e:\n",
    "        print(e)\n",
    "finally:\n",
    "    f.close()"
   ]
  },
  {
   "cell_type": "markdown",
   "metadata": {
    "nbgrader": {
     "cell_type": "markdown",
     "checksum": "cb867d5cd830dbcd2bb8eda184c557d2",
     "grade": false,
     "grade_id": "cell-e1f2bc32c371feb3",
     "locked": true,
     "schema_version": 3,
     "solution": false,
     "task": false
    }
   },
   "source": [
    "No more `UnicodeDecodeError`, instead we get the error message that it would have printed.\n",
    "\n",
    "From this, we can tell that some characters in `'emoji.txt'` are not in the ASCII range. Well, all emoji characters are not in the ASCII table, but we haven’t learnt this yet.\n",
    "\n",
    "## Other applications of `try-except`\n",
    "\n",
    "Let’s see where else we can use this.\n",
    "\n",
    "Some of you have discovered a quick way to check if a number is float:"
   ]
  },
  {
   "cell_type": "code",
   "execution_count": null,
   "metadata": {},
   "outputs": [],
   "source": [
    "def isfloat(num_str):\n",
    "    try:\n",
    "        float(num_str)\n",
    "    except ValueError:\n",
    "        return False\n",
    "    else:\n",
    "        return True\n",
    "        \n",
    "isfloat('1.234.5')"
   ]
  },
  {
   "cell_type": "markdown",
   "metadata": {
    "nbgrader": {
     "cell_type": "markdown",
     "checksum": "784bebdcd931622e5a4ae7d0e72a1976",
     "grade": false,
     "grade_id": "cell-e9b9f0360b3cdee0",
     "locked": true,
     "schema_version": 3,
     "solution": false,
     "task": false
    }
   },
   "source": [
    "This works by simply trying to cast the number to a `float`. Normally, a `ValueError` exception will be raised if the number is not a valid `float`. We can catch that exception, knowing that this means the number cannot be cast to a `float`, and use that to return `False`.\n",
    "\n",
    "Note that we can do this witn `int()` too!\n",
    "\n",
    "Other examples come when you get deeper into Python. There are many commands that naturally raise `Exception`s, many of them from opening files or network connections. We will look at those when we encounter them."
   ]
  },
  {
   "cell_type": "markdown",
   "metadata": {
    "nbgrader": {
     "cell_type": "markdown",
     "checksum": "49ea499ad3208bce36c5963c6e7ccbae",
     "grade": false,
     "grade_id": "cell-4217d5c7b36cf30d",
     "locked": true,
     "schema_version": 3,
     "solution": false,
     "task": false
    }
   },
   "source": [
    "## `try-except` vs `if-else`\n",
    "\n",
    "These two seem to be somewhat similar: Both run different sets of code depending on the outcome of a line (or a few lines of code).\n",
    "\n",
    "The difference is that `if-else` checks for a (boolean) result of an expression, `try-except` checks for `Exception`s.\n",
    "\n",
    "It is important that you do not get into the bad habit of using `try-except` to catch errors that should be fixed by proper programming logic. For example, catching `ZeroDivisionError` when you should be validating your input properly.\n",
    "\n",
    "`if-else` should be used whenever it is possible to check that certain conditions are met.\n",
    "\n",
    "`try-except` should **only** be used:\n",
    "\n",
    "- when `Exception`s are **unavoidable in the course of running the program**, and need to be handled properly,\n",
    "- if it provides a much faster/simpler alternative to writing your own (possibly buggy) code (for example, catching `ValueError` from `float()` to determine if a number is a `float`)."
   ]
  },
  {
   "cell_type": "markdown",
   "metadata": {
    "nbgrader": {
     "cell_type": "markdown",
     "checksum": "a73f930f3a4d5f2ad3b57db90b5ce714",
     "grade": false,
     "grade_id": "cell-89c5e1867b900806",
     "locked": true,
     "schema_version": 3,
     "solution": false,
     "task": false
    }
   },
   "source": [
    "## Good `try-except` practices\n",
    "\n",
    "### Minimise `try` code\n",
    "\n",
    "A good practice when using `try-except` is to write **as little code as possible** within the `try` statement.\n",
    "\n",
    "Since the `Exception` is handled by `except` and does not reach the Python debugger, you will have _no information_ about which line is responsible for raising the `Exception`. this makes your debugging harder compared to `if-else`. Keeping the `try` code minimal makes it clear what is causing the problem.\n",
    "\n",
    "### Re-raising uncaught `Exception`s\n",
    "\n",
    "When in doubt, it is always a good idea to put the following line of code as the last `except` statement:\n",
    "\n",
    "    except:\n",
    "        raise\n",
    "\n",
    "The `raise` statement, when used like this without any exceptions named after it, will **re-raise the last `Exception`**. This is very handy for debugging, as any `Exception`s that were not caught will still be raised, giving you info about which line of code caused it and what the problem is.\n",
    "\n",
    "### Closing resources properly in `finally`\n",
    "\n",
    "If the code you are writing requires resources to be closed/handled properly, it is good practice to do so in the `finally` statement.\n",
    "\n",
    "Closing file handles, database cursors, network connections, etc should be done here."
   ]
  }
 ],
 "metadata": {
  "kernelspec": {
   "display_name": "Python 3 (ipykernel)",
   "language": "python",
   "name": "python3"
  },
  "language_info": {
   "codemirror_mode": {
    "name": "ipython",
    "version": 3
   },
   "file_extension": ".py",
   "mimetype": "text/x-python",
   "name": "python",
   "nbconvert_exporter": "python",
   "pygments_lexer": "ipython3",
   "version": "3.8.12"
  }
 },
 "nbformat": 4,
 "nbformat_minor": 2
}
