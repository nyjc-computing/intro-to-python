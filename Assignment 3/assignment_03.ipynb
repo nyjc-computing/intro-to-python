{
 "cells": [
  {
   "cell_type": "markdown",
   "metadata": {},
   "source": [
    "## 1-minute introduction to Jupyter ##\n",
    "\n",
    "A Jupyter notebook consists of cells. Each cell contains either text or code.\n",
    "\n",
    "A text cell will not have any text to the left of the cell. A code cell has `In [ ]:` to the left of the cell.\n",
    "\n",
    "If the cell contains code, you can edit it. Press <kbd>Enter</kbd> to edit the selected cell. While editing the code, press <kbd>Enter</kbd> to create a new line, or <kbd>Shift</kbd>+<kbd>Enter</kbd> to run the code. If you are not editing the code, select a cell and press <kbd>Ctrl</kbd>+<kbd>Enter</kbd> to run the code."
   ]
  },
  {
   "cell_type": "markdown",
   "metadata": {},
   "source": [
    "Before you turn this problem in, make sure everything runs as expected. First, **restart the kernel** (in the menubar, select Kernel$\\rightarrow$Restart) and then **run all cells** (in the menubar, select Cell$\\rightarrow$Run All).\n",
    "\n",
    "Make sure you fill in any place that says `YOUR CODE HERE` or \"YOUR ANSWER HERE\", as well as your name and collaborators below:"
   ]
  },
  {
   "cell_type": "code",
   "execution_count": null,
   "metadata": {},
   "outputs": [],
   "source": [
    "NAME = \"\"\n",
    "COLLABORATORS = \"\""
   ]
  },
  {
   "cell_type": "markdown",
   "metadata": {},
   "source": [
    "---"
   ]
  },
  {
   "cell_type": "markdown",
   "metadata": {
    "deletable": false,
    "editable": false,
    "nbgrader": {
     "cell_type": "markdown",
     "checksum": "f05149951e8ceaf5c75c89f03fd92578",
     "grade": false,
     "grade_id": "cell-87bcefb9e93ee461",
     "locked": true,
     "schema_version": 3,
     "solution": false,
     "task": false
    }
   },
   "source": [
    "# Assignment 3: Branching and validation"
   ]
  },
  {
   "cell_type": "markdown",
   "metadata": {
    "deletable": false,
    "editable": false,
    "nbgrader": {
     "cell_type": "markdown",
     "checksum": "adb46beeadbc672670357b3db56d0cca",
     "grade": false,
     "grade_id": "cell-2fb25e7b2e8966fb",
     "locked": true,
     "schema_version": 3,
     "solution": false,
     "task": false
    }
   },
   "source": [
    "## Part 1\n",
    "\n",
    "The Singapore NRIC number is made up of 7 digits and a letter behind. This letter is calculated from the first 7 digits using the modulus eleven method.\n",
    "\n",
    "Write program code to:\n",
    "\n",
    "1. Ask the user to input an NRIC number,\n",
    "2. validate the check digit,\n",
    "3. Print the validation result."
   ]
  },
  {
   "cell_type": "markdown",
   "metadata": {
    "deletable": false,
    "editable": false,
    "nbgrader": {
     "cell_type": "markdown",
     "checksum": "1d8c3c499d5a9a900c305d81f9de144e",
     "grade": false,
     "grade_id": "cell-56fa92136450a223",
     "locked": true,
     "schema_version": 3,
     "solution": false,
     "task": false
    }
   },
   "source": [
    "### Task 1: Validation rules\n",
    "\n",
    "A valid NRIC number must obey the following rules:\n",
    "\n",
    "1. The first letter must be 'S', 'T', 'F', or 'G' (not case-sensitive).\n",
    "2. There must be 7 numerical digits.\n",
    "3. There must only be one letter after the 7 numerical digits.\n",
    "4. The last letter must match the digits according to the [check digit rule](#Check-digit) (not case-sensitive).\n",
    "\n",
    "Write program code to:\n",
    "\n",
    "1. Ask the user to input an NRIC number,\n",
    "2. validate the input according to the above rules,\n",
    "3. Print the validation result.\n",
    "\n",
    "### Expected output\n",
    "\n",
    "    Enter an NRIC number: S1234567A\n",
    "    NRIC format is valid.\n",
    "    Enter an NRIC number: S123456B\n",
    "    NRIC format is invalid.\n",
    "    Enter an NRIC number: C1234567C\n",
    "    NRIC format is invalid."
   ]
  },
  {
   "cell_type": "code",
   "execution_count": null,
   "metadata": {
    "deletable": false,
    "nbgrader": {
     "cell_type": "code",
     "checksum": "d1d9dab75e5e278a6c9ad09e153adba6",
     "grade": true,
     "grade_id": "cell-0a135abf4783c763",
     "locked": false,
     "points": 4,
     "schema_version": 3,
     "solution": true,
     "task": false
    }
   },
   "outputs": [],
   "source": [
    "nric = input('Enter an NRIC number: ')\n",
    "\n",
    "# type your code here\n",
    "\n",
    "# do not change any code beyond this point"
   ]
  },
  {
   "cell_type": "markdown",
   "metadata": {
    "deletable": false,
    "editable": false,
    "nbgrader": {
     "cell_type": "markdown",
     "checksum": "80b5b42d6ae547a48a75ebde74050f78",
     "grade": false,
     "grade_id": "cell-31f135f05e54fe55",
     "locked": true,
     "schema_version": 3,
     "solution": false,
     "task": false
    }
   },
   "source": [
    "### Task 2: Check digit rule\n",
    "\n",
    "The steps involved to obtain the check digit are:\n",
    "\n",
    "1. Multiply each digit in the NRIC number by its weight (See Table 1).\n",
    "2. Add the products from Step 1 together.\n",
    "3. Divide the resulting sum in Step 2 by 11 and keep the remainder.\n",
    "4. Subtract the remainder in Step 3 from 11 to give the check digit.\n",
    "5. Check the check digit against the table to obtain the alphabet (See Table 2).\n",
    "\n",
    "The following table shows the weight for each digit of the NRIC number:\n",
    "\n",
    "  ```\n",
    "  ┍━━━━━━━━━━━━━━━━┯━━━━━━━━━━━━━━━━━━━━━┑\n",
    "  │Digit sequence  │ 1  2  3  4  5  6  7 │\n",
    "  ┝━━━━━━━━━━━━━━━━┿━━━━━━━━━━━━━━━━━━━━━┥\n",
    "  │Digit weight    │ 2  7  6  5  4  3  2 │\n",
    "  ┕━━━━━━━━━━━━━━━━┷━━━━━━━━━━━━━━━━━━━━━┙\n",
    "  Table 1: Weight table for each NRIC digit\n",
    "  ```\n",
    "\n",
    "The following table is used to change the check digit into the corresponding alphabet.\n",
    "\n",
    "  ```\n",
    "  ┍━━━━━━━━━━━━━┯━━━━━━━━━━━━━━━━━━━━━━━━━━━━━━━━━━━┑\n",
    "  │Check Digit  │ 1  2  3  4  5  6  7  8  9  10  11 │\n",
    "  ┝━━━━━━━━━━━━━┿━━━━━━━━━━━━━━━━━━━━━━━━━━━━━━━━━━━┥\n",
    "  │Alphabet     │ A  B  C  D  E  F  G  H  I  Z   J  │ \n",
    "  ┕━━━━━━━━━━━━━┷━━━━━━━━━━━━━━━━━━━━━━━━━━━━━━━━━━━┙\n",
    "  Table 2: Check digit to alphabet conversion\n",
    "  ```\n",
    "\n",
    "### Validation reporting\n",
    "\n",
    "The validation report should inform the user whether the NRIC string is valid. No reason needs to be provided.\n",
    "\n",
    "Write program code to:\n",
    "\n",
    "1. validate the check digit of the NRIC number,\n",
    "2. Print the result of the NRIC validation (valid or invalid only)\n",
    "\n",
    "The variable `nric` is still available to the below code if you run the code cell from Task 1 first.\n",
    "\n",
    "### Expected output\n",
    "\n",
    "    The input NRIC is S1234567A.\n",
    "    NRIC is invalid.\n",
    "    The input NRIC is S1234567D.\n",
    "    NRIC is valid.\n",
    "    The input NRIC is <your NRIC>.\n",
    "    NRIC is valid."
   ]
  },
  {
   "cell_type": "code",
   "execution_count": null,
   "metadata": {
    "deletable": false,
    "nbgrader": {
     "cell_type": "code",
     "checksum": "7ddc7abe6f87bc9b4e27d5848ffb612f",
     "grade": true,
     "grade_id": "cell-63c29de4394b2df1",
     "locked": false,
     "points": 4,
     "schema_version": 3,
     "solution": true,
     "task": false
    }
   },
   "outputs": [],
   "source": [
    "# The variable `nric` is still available for use.\n",
    "print(f'The input NRIC is {nric}.')\n",
    "# type your code here\n",
    "\n",
    "# do not change any code beyond this point"
   ]
  },
  {
   "cell_type": "markdown",
   "metadata": {
    "deletable": false,
    "editable": false,
    "nbgrader": {
     "cell_type": "markdown",
     "checksum": "0cb749e059f2d8754d84cf880fac1c22",
     "grade": false,
     "grade_id": "cell-4c699c03fd113f32",
     "locked": true,
     "schema_version": 3,
     "solution": false,
     "task": false
    }
   },
   "source": [
    "## Part 2\n",
    "\n",
    "Modify your program code from [Assignment 2 Part 3](assignment_02.ipynb#Part-3) to **validate the user input** before returning the result in scientific E notation.\n",
    "\n",
    "Valid text-based scientific notation must obey the following rules:\n",
    "\n",
    "1. The only valid characters in scientific notation are the digits 0-9, the letter `x`, and the caret symbol `^`. No spaces are allowed in the string.\n",
    "2. There should be no more than one period (`.`), multiply symbol (`x`), or caret symbol (`^`) in the input string.\n",
    "3. The mantissa should have only one integer to the left of the decimal place, between 1 to 9 inclusive.\n",
    "4. The exponent should be a valid integer (no floats allowed).\n",
    "\n",
    "If the input is not in valid scientific notation, print an error message informing the user and **do not report the conversion result**.\n",
    "\n",
    "### Expected output:\n",
    "\n",
    "    Enter a number in scientific notation: 1.1x10^-3\n",
    "    This number in E notation is 1.1E-3.\n",
    "    Enter a number in scientific notation: -1.5x10^3\n",
    "    This number in E notation is -1.5E3.\n",
    "    Enter a number in scientific notation: 1.2x10^3.4\n",
    "    Error converting to scientific E notation."
   ]
  },
  {
   "cell_type": "code",
   "execution_count": null,
   "metadata": {
    "deletable": false,
    "nbgrader": {
     "cell_type": "code",
     "checksum": "66ed7e33d551d83e98b6aa0d8512bca2",
     "grade": true,
     "grade_id": "cell-b9fe456d06736fee",
     "locked": false,
     "points": 4,
     "schema_version": 3,
     "solution": true,
     "task": false
    }
   },
   "outputs": [],
   "source": [
    "stdform = input('Enter a number in scientific notation: ')\n",
    "stdform = stdform.strip()\n",
    "\n",
    "# Paste your code from Assignment 2 Part 3 here\n",
    "# and edit it to validate the user input\n"
   ]
  },
  {
   "cell_type": "markdown",
   "metadata": {
    "deletable": false,
    "editable": false,
    "nbgrader": {
     "cell_type": "markdown",
     "checksum": "bae2a97b7bb5da1aec048afa49a13e2d",
     "grade": false,
     "grade_id": "cell-1f86e0e08250408e",
     "locked": true,
     "schema_version": 3,
     "solution": false,
     "task": false
    }
   },
   "source": [
    "## Part 3\n",
    "\n",
    "Python's `round()` function follows an algorithm known as **Rounding Half To Even**.\n",
    "\n",
    "  **Round Half To Even**\n",
    "  ```\n",
    "  >>> round(1.5)\n",
    "  2\n",
    "  >>> round(2.5)\n",
    "  2\n",
    "  ```\n",
    "  \n",
    "This is not the usual way that numbers are rounded.\n",
    "\n",
    "In the next two tasks, you will write a procedure to implement a **Round Half Up** algorithm that rounds numbers ending in 5 towards the larger value.\n",
    "  \n",
    "  **Round Half Up**\n",
    "  ```\n",
    "  >>> round(1.5)\n",
    "  2\n",
    "  >>> round(2.5)\n",
    "  3\n",
    "  >>> round(-1.5)\n",
    "  -1\n",
    "  ```"
   ]
  },
  {
   "cell_type": "markdown",
   "metadata": {
    "deletable": false,
    "editable": false,
    "nbgrader": {
     "cell_type": "markdown",
     "checksum": "bc3f09020aa55139d8ed8fc7595776cf",
     "grade": false,
     "grade_id": "cell-88371b61656437a6",
     "locked": true,
     "schema_version": 3,
     "solution": false,
     "task": false
    }
   },
   "source": [
    "### Task 1:  Round Half Up to decimal place\n",
    "\n",
    "Write program code to:\n",
    "\n",
    "1. Ask the user to input a number,\n",
    "2. Ask the user to input the desired number of decimal places to round off to,\n",
    "3. Print the rounded number.\n",
    "\n",
    "You may use your code from Assignment 2 to determine the number of decimal places for the user input value.\n",
    "\n",
    "In cases where it would not be possible to carry out the rounding, you should print an error message.\n",
    "\n",
    "**Hint 1:** Determine which is the digit to be rounded. Then determine which digit to check (i.e. the digit to the right of rounding digit).\n",
    "\n",
    "**Hint 2:** A quick way to round up a decimal is to remove the decimal first, round up the resulting integer, then replace the decimal again.\n",
    "\n",
    "### Expected output\n",
    "\n",
    "    Enter a number to be rounded off: 1.23456\n",
    "    Enter number of dp to be rounded to (integer): 3\n",
    "    1.23456 rounded to 3 dp is 1.235.\n",
    "    \n",
    "    Enter a number to be rounded off: 1.23456\n",
    "    Enter number of dp to be rounded to (integer): 2\n",
    "    1.23456 rounded to 2 dp is 1.23."
   ]
  },
  {
   "cell_type": "code",
   "execution_count": null,
   "metadata": {
    "deletable": false,
    "nbgrader": {
     "cell_type": "code",
     "checksum": "8540cf64b5fdc34ca515fb287eced4e0",
     "grade": true,
     "grade_id": "cell-d41b4176a0690d76",
     "locked": false,
     "points": 2,
     "schema_version": 3,
     "solution": true,
     "task": false
    }
   },
   "outputs": [],
   "source": [
    "num = input('Enter a number to be rounded off: ')\n",
    "dp = int(input('Enter number of dp to be rounded to (integer): '))\n",
    "\n",
    "num = num.strip()\n",
    "\n",
    "# type your code here\n",
    "\n",
    "# do not change any code beyond this point\n",
    "\n",
    "print(f'{num} rounded to {dp} dp is {rounded_num}.')"
   ]
  },
  {
   "cell_type": "markdown",
   "metadata": {
    "deletable": false,
    "editable": false,
    "nbgrader": {
     "cell_type": "markdown",
     "checksum": "b14f8aeed342eea02e9f902e33cd7c50",
     "grade": false,
     "grade_id": "cell-19c462e6b56d67eb",
     "locked": true,
     "schema_version": 3,
     "solution": false,
     "task": false
    }
   },
   "source": [
    "### Task 2:  Round Half Up to significant figure\n",
    "\n",
    "Write program code to:\n",
    "\n",
    "1. Ask the user to input a number,\n",
    "2. Ask the user to input the desired number of significant figures to round off to,\n",
    "3. Print the rounded number.\n",
    "\n",
    "You may use your code from Assignment 2 to determine the number of significant figures for the user input value.\n",
    "\n",
    "In cases where it would not be possible to carry out the rounding, you should print an error message.\n",
    "\n",
    "**Hint:** See *Hint 2* from [Task 1](#Task-1:--Round-Half-Up-to-decimal-place). You will need to determine the number of dp of the original input.\n",
    "\n",
    "### Expected output\n",
    "\n",
    "    Enter a number to be rounded off: 12345\n",
    "    Enter number of sf to be rounded to (integer): 3\n",
    "    12345 rounded to 3 sf is 123.\n",
    "    \n",
    "    Enter a number to be rounded off: 123.45\n",
    "    Enter number of sf to be rounded to (integer): 4\n",
    "    123.45 rounded to 4 sf is 123.5."
   ]
  },
  {
   "cell_type": "code",
   "execution_count": null,
   "metadata": {
    "deletable": false,
    "nbgrader": {
     "cell_type": "code",
     "checksum": "f856067a2f115017c05b83f658365870",
     "grade": true,
     "grade_id": "cell-1cbb2783f6b22567",
     "locked": false,
     "points": 2,
     "schema_version": 3,
     "solution": true,
     "task": false
    }
   },
   "outputs": [],
   "source": [
    "num = input('Enter a number to be rounded off: ')\n",
    "sf = int(input('Enter number of sf to be rounded to (integer): '))\n",
    "\n",
    "num = num.strip()\n",
    "\n",
    "# type your code here\n",
    "\n",
    "# do not change any code beyond this point\n",
    "\n",
    "print(f'{num} rounded to {sf} sf is {rounded_num}.')"
   ]
  },
  {
   "cell_type": "markdown",
   "metadata": {
    "deletable": false,
    "editable": false,
    "nbgrader": {
     "cell_type": "markdown",
     "checksum": "64810f80fa06a25675ec180f6f553a5e",
     "grade": false,
     "grade_id": "cell-08cbbb4ea772f0ac",
     "locked": true,
     "schema_version": 3,
     "solution": false,
     "task": false
    }
   },
   "source": [
    "# Feedback and suggestions\n",
    "\n",
    "Any feedback or suggestions for this assignment?"
   ]
  },
  {
   "cell_type": "markdown",
   "metadata": {
    "deletable": false,
    "nbgrader": {
     "cell_type": "markdown",
     "checksum": "164b74d5dbfac380ffb4a38866a0a0f4",
     "grade": true,
     "grade_id": "cell-bee7c85e05e44719",
     "locked": false,
     "points": 0,
     "schema_version": 3,
     "solution": true,
     "task": false
    }
   },
   "source": [
    "YOUR ANSWER HERE"
   ]
  }
 ],
 "metadata": {
  "kernelspec": {
   "display_name": "Python 3",
   "language": "python",
   "name": "python3"
  },
  "language_info": {
   "codemirror_mode": {
    "name": "ipython",
    "version": 3
   },
   "file_extension": ".py",
   "mimetype": "text/x-python",
   "name": "python",
   "nbconvert_exporter": "python",
   "pygments_lexer": "ipython3",
   "version": "3.6.7"
  }
 },
 "nbformat": 4,
 "nbformat_minor": 2
}
