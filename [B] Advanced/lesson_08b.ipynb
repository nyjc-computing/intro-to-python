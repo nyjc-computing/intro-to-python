{
 "cells": [
  {
   "cell_type": "markdown",
   "metadata": {},
   "source": [
    "## 1-minute introduction to Jupyter ##\n",
    "\n",
    "A Jupyter notebook consists of cells. Each cell contains either text or code.\n",
    "\n",
    "A text cell will not have any text to the left of the cell. A code cell has `In [ ]:` to the left of the cell.\n",
    "\n",
    "If the cell contains code, you can edit it. Press <kbd>Enter</kbd> to edit the selected cell. While editing the code, press <kbd>Enter</kbd> to create a new line, or <kbd>Shift</kbd>+<kbd>Enter</kbd> to run the code. If you are not editing the code, select a cell and press <kbd>Ctrl</kbd>+<kbd>Enter</kbd> to run the code.\n",
    "\n",
    "On a tablet, use the ▶️ button to run the code."
   ]
  },
  {
   "cell_type": "markdown",
   "metadata": {
    "nbgrader": {
     "cell_type": "markdown",
     "checksum": "e751fa644cc3b7b4124c55aa8c3b641d",
     "grade": false,
     "grade_id": "cell-42e2c6c28565fc8a",
     "locked": true,
     "schema_version": 3,
     "solution": false,
     "task": false
    }
   },
   "source": [
    "# Lesson 8b: Recursion\n",
    "\n",
    "The `os` module in Python contains functions for working with files and directories. The `os.listdir(path)` function returns a `list` of files and folders in in the given `path`."
   ]
  },
  {
   "cell_type": "code",
   "execution_count": null,
   "metadata": {},
   "outputs": [],
   "source": [
    "import os\n",
    "\n",
    "os.listdir()"
   ]
  },
  {
   "cell_type": "markdown",
   "metadata": {
    "nbgrader": {
     "cell_type": "markdown",
     "checksum": "e751fa644cc3b7b4124c55aa8c3b641d",
     "grade": false,
     "grade_id": "cell-42e2c6c28565fc8a",
     "locked": true,
     "schema_version": 3,
     "solution": false,
     "task": false
    }
   },
   "source": [
    "Unfortunately, if it comes across any directories, `listdir()` will not do us the favour of listing its contents. How would we write a function that is able to get us the contents of the folder, **and** any subfolders within it?\n",
    "\n",
    "Our function would have to:\n",
    "\n",
    "1. Check each item in the current directory\n",
    "2. Add it to the listing\n",
    "3. If the item is a directory, get a list of items within the directory and add them to the listing\n",
    "\n",
    "This would be complicated with a `for` or `while` loop. It shouldn't be this difficult! After all, our function already returns a list of items within itself and its subfolders; can't we just call this function again with every directory we encounter?\n",
    "\n",
    "This idea of *using a function within itself* is called **recursion**.\n",
    "\n",
    "Let's try writing this function, `recursive_listdir()`."
   ]
  },
  {
   "cell_type": "code",
   "execution_count": null,
   "metadata": {},
   "outputs": [],
   "source": [
    "import os\n",
    "\n",
    "def recursive_listdir(filepath):\n",
    "    listing = []\n",
    "    for item in os.listdir(filepath):\n",
    "        listing.append(item)\n",
    "        listing.extend(recursive_listdir(item))\n",
    "    return listing\n",
    "\n",
    "recursive_listdir('.')  # recursively list the current directory"
   ]
  },
  {
   "cell_type": "markdown",
   "metadata": {},
   "source": [
    "## Problem 1\n",
    "\n",
    "First problem: not everything is a directory.\n",
    "\n",
    "### Task\n",
    "\n",
    "Modify the code below to only call `recursive_listdir()` on the item if it is a directory.\n",
    "\n",
    "You may wish to revisit Lesson 6b if you are stuck."
   ]
  },
  {
   "cell_type": "code",
   "execution_count": null,
   "metadata": {},
   "outputs": [],
   "source": [
    "import os\n",
    "\n",
    "def recursive_listdir(filepath):\n",
    "    listing = []\n",
    "    for item in os.listdir(filepath):\n",
    "        listing.append(item)\n",
    "        listing.extend(recursive_listdir(item))\n",
    "    return listing\n",
    "\n",
    "recursive_listdir('.')  # recursively list the current directory"
   ]
  },
  {
   "cell_type": "markdown",
   "metadata": {},
   "source": [
    "Did you manage to get a listing successfully? Great!\n",
    "\n",
    "But notice that `folder1-1` and `folder1-2` are actually not empty. Did you function include the contents of these two folders in the listing?\n",
    "\n",
    "If yes, wonderful! If not, tackle Problem 2 below."
   ]
  },
  {
   "cell_type": "markdown",
   "metadata": {},
   "source": [
    "## Problem 2\n",
    "\n",
    "Remember that `listdir()` only gives the names of the files or directories in the given path; it will not construct the proper path to that file/directory for you!\n",
    "\n",
    "You may wish to revisit Lesson 6b to see how to join the path and item name to obtain the full path before passing it to `recursive_listdir()`."
   ]
  },
  {
   "cell_type": "markdown",
   "metadata": {},
   "source": [
    "## Checking a recursive implementation\n",
    "\n",
    "In general, recursive functions should meet the following 3 conditions:\n",
    "\n",
    "1. A recursive function should have at least one **base case** that returns a value directly without calling itself.\n",
    "   - This is necessary because it must eventually reach a starting value from which it can \"work backward\".\n",
    "\n",
    "\n",
    "2. A recursive function should call itself (**self-invocation**) when the base case is unmet.\n",
    "\n",
    "\n",
    "3. Each successive recursive call should **reduce the input** (problem) to bring it *closer to the base case*.\n",
    "\n",
    "If you are having trouble writing or formulating a recursive function, check that it fulfills all three conditions above."
   ]
  },
  {
   "cell_type": "markdown",
   "metadata": {},
   "source": [
    "# How does recursive_listdir() meet these conditions?\n",
    "\n",
    "1. **Base case**: There must necessarily be a folder that contains no other folders.\n",
    "2. **Self-invocation**: `recursive_listdir()` calls itself when a subdirectory is detected. Each subdirectory does not contain items listed in earlier recursive calls, thus shrinking the input.\n",
    "3. **Return value**: `recursive_listdir()` returns the list of files and directories that it has built up so far, allowing the calling function to add that to its own list."
   ]
  },
  {
   "cell_type": "markdown",
   "metadata": {
    "nbgrader": {
     "cell_type": "markdown",
     "checksum": "a3838d1a932ce9b0ae75875658bac7bd",
     "grade": false,
     "grade_id": "cell-f0bf5698b5875ed6",
     "locked": true,
     "schema_version": 3,
     "solution": false,
     "task": false
    }
   },
   "source": [
    "## (optional) Tracking recursion level\n",
    "\n",
    "Edit the code for `recursive_listdir()` to include one more parameter, `lvl`, that indicates how many folders deep the current recursive call is in."
   ]
  },
  {
   "cell_type": "markdown",
   "metadata": {
    "nbgrader": {
     "cell_type": "markdown",
     "checksum": "05c0e5929d3c359860e0570571cc1521",
     "grade": false,
     "grade_id": "cell-4da421bb4bcda7b0",
     "locked": true,
     "schema_version": 3,
     "solution": false,
     "task": false
    }
   },
   "source": [
    "## Exercise 1: Write a recursive Fibonacci function\n",
    "\n",
    "In the Fibonacci sequence, each term is the sum of the **previous two terms**.\n",
    "\n",
    "A non-recursive implementation of the fibonacci sequence is shown below:"
   ]
  },
  {
   "cell_type": "code",
   "execution_count": null,
   "metadata": {},
   "outputs": [],
   "source": [
    "def fibonacci(n):\n",
    "    if type(n) != int or n <= 0:\n",
    "        raise ValueError('n must be a positive integer (got {n})')\n",
    "    if n == 1:\n",
    "        return 0\n",
    "    elif n == 2:\n",
    "        return 1\n",
    "    else:\n",
    "        prev = 0\n",
    "        this = 1\n",
    "        for i in range(3, n + 1):\n",
    "            new = this + prev\n",
    "            prev = this\n",
    "            this = new\n",
    "        return this\n",
    "\n",
    "for n in range(1, 10):\n",
    "    print(f'{fibonacci(n)}, ', end='')\n",
    "print(fibonacci(10))"
   ]
  },
  {
   "cell_type": "markdown",
   "metadata": {
    "nbgrader": {
     "cell_type": "markdown",
     "checksum": "7e5f82357c388952581c2536d38e360d",
     "grade": false,
     "grade_id": "cell-1949252e62a431ad",
     "locked": true,
     "schema_version": 3,
     "solution": false,
     "task": false
    }
   },
   "source": [
    "Write a function that calculates the Fibonacci sequence **recursively**."
   ]
  },
  {
   "cell_type": "code",
   "execution_count": null,
   "metadata": {
    "nbgrader": {
     "cell_type": "code",
     "checksum": "706ae401a36e14d9dacdfdb8351075a7",
     "grade": false,
     "grade_id": "cell-5bd358484bf17945",
     "locked": false,
     "schema_version": 3,
     "solution": true,
     "task": false
    }
   },
   "outputs": [],
   "source": [
    "def fibonacci(n):\n",
    "    if type(n) != int or n <= 0:\n",
    "        raise ValueError('n must be a positive integer (got {n})')\n",
    "    if n == 1:\n",
    "        return 0\n",
    "    elif n == 2:\n",
    "        return 1\n",
    "    else:\n",
    "        return fibonacci(n - 1) + fibonacci(n - 2)\n",
    "\n",
    "for n in range(1,10):\n",
    "    print(f'{fibonacci(n)}, ', end='')\n",
    "print(fibonacci(10))"
   ]
  },
  {
   "cell_type": "code",
   "execution_count": null,
   "metadata": {
    "nbgrader": {
     "cell_type": "code",
     "checksum": "ba78ae1a6cf7edf1df13644b5fa50605",
     "grade": true,
     "grade_id": "cell-d66d94a748265c3a",
     "locked": true,
     "points": 2,
     "schema_version": 3,
     "solution": false,
     "task": false
    }
   },
   "outputs": [],
   "source": [
    "test_ans = [0, 1, 1, 2, 3, 5, 8, 13, 21, 34]\n",
    "\n",
    "for i in range(len(test_ans)):\n",
    "    result = fibonacci(i + 1)\n",
    "    assert result == test_ans[i], \\\n",
    "        f'Term {i} of fibonacci sequence should be {test_ans[i]}, got {result} instead.'"
   ]
  }
 ],
 "metadata": {
  "kernelspec": {
   "display_name": "Python 3 (ipykernel)",
   "language": "python",
   "name": "python3"
  },
  "language_info": {
   "codemirror_mode": {
    "name": "ipython",
    "version": 3
   },
   "file_extension": ".py",
   "mimetype": "text/x-python",
   "name": "python",
   "nbconvert_exporter": "python",
   "pygments_lexer": "ipython3",
   "version": "3.8.12"
  }
 },
 "nbformat": 4,
 "nbformat_minor": 2
}
