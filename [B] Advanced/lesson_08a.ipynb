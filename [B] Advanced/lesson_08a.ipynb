{
 "cells": [
  {
   "cell_type": "markdown",
   "metadata": {},
   "source": [
    "## 1-minute introduction to Jupyter ##\n",
    "\n",
    "A Jupyter notebook consists of cells. Each cell contains either text or code.\n",
    "\n",
    "A text cell will not have any text to the left of the cell. A code cell has `In [ ]:` to the left of the cell.\n",
    "\n",
    "If the cell contains code, you can edit it. Press <kbd>Enter</kbd> to edit the selected cell. While editing the code, press <kbd>Enter</kbd> to create a new line, or <kbd>Shift</kbd>+<kbd>Enter</kbd> to run the code. If you are not editing the code, select a cell and press <kbd>Ctrl</kbd>+<kbd>Enter</kbd> to run the code.\n",
    "\n",
    "On a tablet, use the ▶️ button to run the code."
   ]
  },
  {
   "cell_type": "markdown",
   "metadata": {
    "nbgrader": {
     "cell_type": "markdown",
     "checksum": "e751fa644cc3b7b4124c55aa8c3b641d",
     "grade": false,
     "grade_id": "cell-42e2c6c28565fc8a",
     "locked": true,
     "schema_version": 3,
     "solution": false,
     "task": false
    }
   },
   "source": [
    "# Lesson 8a: Pseudocode and trace tables\n",
    "\n",
    "A simple algorithm for calculating the lowest common multiple of integers `a` and `b` is as follows:\n",
    "\n",
    "1. Check if `a` and `b` are equal\n",
    "2. If they are equal, `a == b == lcm` (lowest common multiple) [EXIT]\n",
    "3. If they are not equal, check whether `a` or `b` is smaller.\n",
    "4. The smaller variable is incremented by its original value.\n",
    "5. Go back to Step 1"
   ]
  },
  {
   "cell_type": "markdown",
   "metadata": {},
   "source": [
    "## Debugging\n",
    "\n",
    "When debugging our code, sometimes it can be difficult to figure out which part of a loop is incorrect. Take the following code:"
   ]
  },
  {
   "cell_type": "code",
   "execution_count": null,
   "metadata": {},
   "outputs": [],
   "source": [
    "def lcm(a, b):\n",
    "    while a != b:\n",
    "        if a < b:\n",
    "            a += a\n",
    "        else:\n",
    "            b += b\n",
    "    return a\n",
    "\n",
    "lcm(3, 4)"
   ]
  },
  {
   "cell_type": "markdown",
   "metadata": {},
   "source": [
    "This code fails to terminate, and it's hard to tell what's going on without further information (unless you have extensive debugging experience)."
   ]
  },
  {
   "cell_type": "markdown",
   "metadata": {},
   "source": [
    "## Trace tables\n",
    "\n",
    "While debugging a function or program, we should know beforehand the result at each step of the algorithm. Applying the above algorithm, we would expect the following values of `a` and `b` at the end of each iteration:\n",
    "\n",
    "| Iteration | a | b |\n",
    "|:---------:|:-:|:-:|\n",
    "|     0     | 3 | 4 |\n",
    "|     1     | 6 | 4 |\n",
    "|     2     | 6 | 8 |\n",
    "|     3     | 9 | 8 |\n",
    "|     4     | 9 | 12|\n",
    "|     5     | 12| 12|\n",
    "\n",
    "<center><small>Table 1: Trace table of LCM algorithm with a = 3 and b = 4</small></center>\n",
    "\n",
    "The above table is called a **trace table**, and provides a useful way to check our program for the correct operation.\n",
    "\n",
    "### Exercise\n",
    "\n",
    "Edit the code cell below so that the function `lcm()` prints the values of `a` and `b` at the end of each iteration of the loop.\n",
    "\n",
    "**Bonus:** Edit the code cell so that in addition to printing the values of `a` and `b`, it also prints the iteration count."
   ]
  },
  {
   "cell_type": "code",
   "execution_count": null,
   "metadata": {},
   "outputs": [],
   "source": [
    "def lcm(a, b):\n",
    "    a_orig = a\n",
    "    b_orig = b\n",
    "    while a != b:\n",
    "        if a < b:\n",
    "            a = a + a_orig\n",
    "        else:\n",
    "            b = b + b_orig\n",
    "        print('a =', a, ', b=', b)\n",
    "    return a\n",
    "\n",
    "lcm(3, 4)"
   ]
  },
  {
   "cell_type": "markdown",
   "metadata": {},
   "source": [
    "With a trace table, it is easy to see at which step your algorithm started to deviate from expected behaviour. This is immensely helpful in debugging."
   ]
  },
  {
   "cell_type": "markdown",
   "metadata": {
    "nbgrader": {
     "cell_type": "markdown",
     "checksum": "e751fa644cc3b7b4124c55aa8c3b641d",
     "grade": false,
     "grade_id": "cell-42e2c6c28565fc8a",
     "locked": true,
     "schema_version": 3,
     "solution": false,
     "task": false
    }
   },
   "source": [
    "## Pseudocode\n",
    "\n",
    "Some algorithms can be very lengthy if written in English. Even if the english description is short, most algorithms benefit from a clearer description. Thus, algorithms are often presented in a language called **pseudocode**, which looks like a programming language but cannot be run as a program.\n",
    "\n",
    "Presented below is one way of presenting the above LCM algorithm as pseudocode:\n",
    "\n",
    "```\n",
    "FUNCTION LCM(A : INTEGER, B : INTEGER) RETURNS INTEGER\n",
    "    A0 = A\n",
    "    B0 = B\n",
    "    WHILE A <> B DO  // <> means \"not equal\"\n",
    "        IF A < B\n",
    "          THEN\n",
    "            A = A + A0\n",
    "          ELSE\n",
    "            B = B + B0\n",
    "        ENDIF\n",
    "    ENDWHILE\n",
    "    RETURN A\n",
    "ENDFUNCTION\n",
    "```\n",
    "\n",
    "Notice that unlike in Python, most keywords in pseudocode have a terminal (ending) `END` keyword that indicates where the code block ends. Python is rare in that it relies entirely on indentation to indicate the scope of code blocks; most other languages have a symbol or keyword to indicate where code blocks end.\n",
    "\n",
    " For the full guide on Pseudocode, look through the [9608 Pseudocode Reference](https://drive.google.com/drive/folders/1IlcYw9LlREiQuKZ5EJvxTt3mebQw2b2F)"
   ]
  }
 ],
 "metadata": {
  "kernelspec": {
   "display_name": "Python 3 (ipykernel)",
   "language": "python",
   "name": "python3"
  },
  "language_info": {
   "codemirror_mode": {
    "name": "ipython",
    "version": 3
   },
   "file_extension": ".py",
   "mimetype": "text/x-python",
   "name": "python",
   "nbconvert_exporter": "python",
   "pygments_lexer": "ipython3",
   "version": "3.8.12"
  }
 },
 "nbformat": 4,
 "nbformat_minor": 2
}
