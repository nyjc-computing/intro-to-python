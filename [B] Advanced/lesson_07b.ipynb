{
 "cells": [
  {
   "cell_type": "markdown",
   "metadata": {},
   "source": [
    "## 1-minute introduction to Jupyter ##\n",
    "\n",
    "A Jupyter notebook consists of cells. Each cell contains either text or code.\n",
    "\n",
    "A text cell will not have any text to the left of the cell. A code cell has `In [ ]:` to the left of the cell.\n",
    "\n",
    "If the cell contains code, you can edit it. Press <kbd>Enter</kbd> to edit the selected cell. While editing the code, press <kbd>Enter</kbd> to create a new line, or <kbd>Shift</kbd>+<kbd>Enter</kbd> to run the code. If you are not editing the code, select a cell and press <kbd>Ctrl</kbd>+<kbd>Enter</kbd> to run the code.\n",
    "\n",
    "On a tablet, use the ▶️ button to run the code."
   ]
  },
  {
   "cell_type": "markdown",
   "metadata": {
    "nbgrader": {
     "cell_type": "markdown",
     "checksum": "a9870caa8fa89dbe209b007aa3970c19",
     "grade": false,
     "grade_id": "cell-8dd8af14517735ca",
     "locked": true,
     "schema_version": 3,
     "solution": false,
     "task": false
    }
   },
   "source": [
    "# Lesson 7b: Python data types: `tuple`\n",
    "\n",
    "By this point in our lessons on Python, you have come across many instances of grouped values. Some examples:\n",
    "\n",
    "- student, class\n",
    "- hour, minute, second\n",
    "- year, month, day\n",
    "- sign, mantissa, exponent\n",
    "\n",
    "A pair of values may be called a couple; three values may be called a triple, four values: a quadruple, ...\n",
    "\n",
    "five values: a quintuple  \n",
    "six values: a sextuple  \n",
    "seven values: a septuple  \n",
    "eight values: an octuple  \n",
    "... and so on.\n",
    "\n",
    "we can refer to such collections of `n` values as `n`-tuples, or **tuples** in short. So a tuple is just a collection of variables.\n",
    "\n",
    "We define tuples using `(`parenthesis`)` operators:"
   ]
  },
  {
   "cell_type": "code",
   "execution_count": null,
   "metadata": {},
   "outputs": [],
   "source": [
    "triple = (1, 2, 3)\n",
    "type(triple)"
   ]
  },
  {
   "cell_type": "code",
   "execution_count": null,
   "metadata": {},
   "outputs": [],
   "source": [
    "print('This is potentially confusing: We also use parentheses to group expressions:')\n",
    "\n",
    "number = '91234567'\n",
    "result = (len(number) == 8 and number.startswith('9'))\n",
    "print(result)  # result is not a tuple!\n",
    "\n",
    "print('')\n",
    "print('If I want to define a tuple with a single value, I might try to do this:')\n",
    "single = (1)\n",
    "print(type(single))  # this is an integer, not a tuple!\n",
    "\n",
    "print('')\n",
    "print('To define a single (tuple with one value), do it this way:')\n",
    "single = (1,)\n",
    "print(type(single))  # this is a 1-tuple\n",
    "\n",
    "print('')\n",
    "print('We can also use the constructor function tuple() to get an empty tuple:')\n",
    "empty = tuple()\n",
    "print(empty)"
   ]
  },
  {
   "cell_type": "markdown",
   "metadata": {
    "nbgrader": {
     "cell_type": "markdown",
     "checksum": "3ad694b8c0aaf97c7b5f9120f88c35df",
     "grade": false,
     "grade_id": "cell-5018d33c4abbc108",
     "locked": true,
     "schema_version": 3,
     "solution": false,
     "task": false
    }
   },
   "source": [
    "## Uses of `tuple`s\n",
    "\n",
    "So when will we need to use a tuple? We won't often *use* them intentionally, but we will often *encounter* them. For instance:\n",
    "\n"
   ]
  },
  {
   "cell_type": "code",
   "execution_count": null,
   "metadata": {},
   "outputs": [],
   "source": [
    "a_dict = {\n",
    "    'key1': 'value1',\n",
    "    'key2': 'value2',\n",
    "    'key3': 'value3',\n",
    "}\n",
    "\n",
    "for item in a_dict.items():\n",
    "    print(f'Item: {item} (type: {type(item)})')\n",
    "print('The key-value pairs from dict.items() are given as a tuple!')"
   ]
  },
  {
   "cell_type": "markdown",
   "metadata": {
    "nbgrader": {
     "cell_type": "markdown",
     "checksum": "08869220043e39e7e6a1483a561befce",
     "grade": false,
     "grade_id": "cell-34a9e5bf5cc97052",
     "locked": true,
     "schema_version": 3,
     "solution": false,
     "task": false
    }
   },
   "source": [
    "In the preivous lesson, we used `for key, value in a_dict.items()` to iterate through a dict. What's the difference between `for item in ...` and `for key, value in ...`\n",
    "\n",
    "Let's see:"
   ]
  },
  {
   "cell_type": "code",
   "execution_count": null,
   "metadata": {},
   "outputs": [],
   "source": [
    "print('Let\\'s try assigning key, value from a tuple manually.')\n",
    "key, value = ('key1', 'value1')\n",
    "print(f'key = {key}')\n",
    "print(f'value = {value}')\n",
    "print(\n",
    "    'Interesting huh? Python will unpack a tuple for you if you try to'\n",
    "    'assign it to multiple variables.'\n",
    ")"
   ]
  },
  {
   "cell_type": "markdown",
   "metadata": {
    "nbgrader": {
     "cell_type": "markdown",
     "checksum": "3823074f755b105c936e42f5599a7e13",
     "grade": false,
     "grade_id": "cell-ee77403bfc3b26b0",
     "locked": true,
     "schema_version": 3,
     "solution": false,
     "task": false
    }
   },
   "source": [
    "## Tuple unpacking\n",
    "\n",
    "Tuple unpacking is a very powerful feature in Python. You can use it to do many things. But you have to ensure that for tuples with more than one element, the number of variables on the left must match the number of tuple elements on the right:"
   ]
  },
  {
   "cell_type": "code",
   "execution_count": null,
   "metadata": {},
   "outputs": [],
   "source": [
    "a, b = (1, 2, 3)  # this will not work. What error do you get?"
   ]
  },
  {
   "cell_type": "markdown",
   "metadata": {
    "nbgrader": {
     "cell_type": "markdown",
     "checksum": "b4c460d621207a78095027e76a822f12",
     "grade": false,
     "grade_id": "cell-5eacaca9c6437cf7",
     "locked": true,
     "schema_version": 3,
     "solution": false,
     "task": false
    }
   },
   "source": [
    "If you don't need all of the values from the tuple, you still have to ensure that the number of variables on the left matches the number of tuple values on the right. It is a common **convention** to use a variable name like '`_`' or '`__`' as a stand-in for unused variables. Python will still assign the values to `_`, but other programmers will understand that that value is not meant to be used."
   ]
  },
  {
   "cell_type": "code",
   "execution_count": null,
   "metadata": {},
   "outputs": [],
   "source": [
    "a, b, _, _ = (1, 2, 'unused1', 'unused2')\n",
    "print(f'a: {a}')\n",
    "print(f'b: {b}')\n",
    "print(f'_: {_}')"
   ]
  },
  {
   "cell_type": "markdown",
   "metadata": {
    "nbgrader": {
     "cell_type": "markdown",
     "checksum": "aeffaeea6a8b19cd5e7a4cd649354e2c",
     "grade": false,
     "grade_id": "cell-d590a0263a2c681e",
     "locked": true,
     "schema_version": 3,
     "solution": false,
     "task": false
    }
   },
   "source": [
    "## `tuple`s without parentheses\n",
    "\n",
    "In Python, any variables separated by commas and not inside a function/method call is interpreted as a tuple:"
   ]
  },
  {
   "cell_type": "code",
   "execution_count": null,
   "metadata": {},
   "outputs": [],
   "source": [
    "a = 1, 2\n",
    "print(f'type of a: {type(a)}')\n",
    "\n",
    "print('')\n",
    "print('So you can do tuple unpacking like this as well:')\n",
    "a, b, _ = 1, 2, 3\n",
    "print(f'a: {a}')\n",
    "print(f'b: {b}')\n",
    "print(f'_: {_}')\n",
    "\n",
    "print('')\n",
    "print('This is a common way to swap variable values in Python:')\n",
    "a = 3\n",
    "b = 5\n",
    "print(f'a = {a}, b = {b}')\n",
    "a, b = b, a\n",
    "print(f'a = {a}, b = {b}')"
   ]
  },
  {
   "cell_type": "markdown",
   "metadata": {
    "nbgrader": {
     "cell_type": "markdown",
     "checksum": "eba257d13605067efe90c704dd5693db",
     "grade": false,
     "grade_id": "cell-5662d1783f55ec45",
     "locked": true,
     "schema_version": 3,
     "solution": false,
     "task": false
    }
   },
   "source": [
    "## Converting other collection types to `tuple`s\n",
    "\n",
    "Other collection types can be converted to `tuple`s:"
   ]
  },
  {
   "cell_type": "code",
   "execution_count": null,
   "metadata": {},
   "outputs": [],
   "source": [
    "a_list = [1, 2, 3]\n",
    "list_converted = tuple(a_list)\n",
    "print(f'A list converted to a tuple: {list_converted}')\n",
    "\n",
    "print('')\n",
    "a_dict = {'a': 1, 'b': 2, 'c': 3}\n",
    "dict_converted = tuple(a_dict)\n",
    "print(f'A dict converted to a tuple: {dict_converted}')\n",
    "print('(Notice that only keys are converted; values are left out.)')"
   ]
  },
  {
   "cell_type": "markdown",
   "metadata": {
    "nbgrader": {
     "cell_type": "markdown",
     "checksum": "5a80e9b445b3c1df651205d72ccca344",
     "grade": false,
     "grade_id": "cell-2b8e73510fafc75d",
     "locked": true,
     "schema_version": 3,
     "solution": false,
     "task": false
    }
   },
   "source": [
    "## Other `tuple` features\n",
    "\n",
    "Review Lesson 4 on `list`s again. `list`s have many methods, functions, and operators associated with them: \n",
    "\n",
    "- indexing\n",
    "- slicing\n",
    "- collection editing methods\n",
    "- collection operators\n",
    "- `min()`, `max()`, `sorted()`, `sum()` functions\n",
    "- `count()` and `reverse()` methods\n",
    "- Iterating over collections\n",
    "- collection comparators\n",
    "\n",
    "Which of those features work with `tuple`s? Which features do not work with `tuple`s?"
   ]
  },
  {
   "cell_type": "code",
   "execution_count": null,
   "metadata": {},
   "outputs": [],
   "source": [
    "# Try your code here"
   ]
  },
  {
   "cell_type": "markdown",
   "metadata": {
    "nbgrader": {
     "cell_type": "markdown",
     "checksum": "dd32bc4d4a407b93a60a40786c31a705",
     "grade": false,
     "grade_id": "cell-4fcdafe5b5c6ca13",
     "locked": true,
     "schema_version": 3,
     "solution": false,
     "task": false
    }
   },
   "source": [
    "## `list` vs `tuple`\n",
    "\n",
    "So if `list`s and `tuple`s are both collections of elements, what's the difference between them?"
   ]
  },
  {
   "cell_type": "code",
   "execution_count": null,
   "metadata": {},
   "outputs": [],
   "source": [
    "a_list = [1, 2, 3]\n",
    "a_list[2] = 4\n",
    "print(a_list)"
   ]
  },
  {
   "cell_type": "code",
   "execution_count": null,
   "metadata": {},
   "outputs": [],
   "source": [
    "a_tuple = (1, 2, 3)\n",
    "a_tuple[2] = 4\n",
    "print(a_tuple)"
   ]
  },
  {
   "cell_type": "markdown",
   "metadata": {
    "nbgrader": {
     "cell_type": "markdown",
     "checksum": "5d608a943213053df71251e026409f06",
     "grade": false,
     "grade_id": "cell-9f602fa251cbce66",
     "locked": true,
     "schema_version": 3,
     "solution": false,
     "task": false
    }
   },
   "source": [
    "### `list`s are mutable and `tuple`s are immutable\n",
    "\n",
    "You can edit the elements of a `list`; we say that a `list` is **mutable**.\n",
    "\n",
    "A `tuple`, on the other hand, cannot be edited. You cannot add elements to it, change its existing elements, or delete elements. In fact, if you examine it with the `dir()` helper function, you'll see that it has only two non-special methods available: `count()` and `index()`; it does not have any of the other `list` methods! We say that a `tuple` is **immutable**.\n",
    "\n",
    "So why use a `tuple` if it is so inflexible?\n",
    "\n",
    "No reason really. It is often used in code where the returned result does not need to be edited (e.g. iterating over key-value pairs in a `dict`). For practical purposes, you will hardly need to use it since `list`s will suffice for most purposes. But you do need to know how to handle one when you see one!"
   ]
  }
 ],
 "metadata": {
  "kernelspec": {
   "display_name": "Python 3 (ipykernel)",
   "language": "python",
   "name": "python3"
  },
  "language_info": {
   "codemirror_mode": {
    "name": "ipython",
    "version": 3
   },
   "file_extension": ".py",
   "mimetype": "text/x-python",
   "name": "python",
   "nbconvert_exporter": "python",
   "pygments_lexer": "ipython3",
   "version": "3.8.12"
  }
 },
 "nbformat": 4,
 "nbformat_minor": 2
}
