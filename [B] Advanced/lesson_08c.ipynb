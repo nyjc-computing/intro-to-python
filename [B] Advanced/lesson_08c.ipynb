{
 "cells": [
  {
   "cell_type": "markdown",
   "metadata": {},
   "source": [
    "## 1-minute introduction to Jupyter ##\n",
    "\n",
    "A Jupyter notebook consists of cells. Each cell contains either text or code.\n",
    "\n",
    "A text cell will not have any text to the left of the cell. A code cell has `In [ ]:` to the left of the cell.\n",
    "\n",
    "If the cell contains code, you can edit it. Press <kbd>Enter</kbd> to edit the selected cell. While editing the code, press <kbd>Enter</kbd> to create a new line, or <kbd>Shift</kbd>+<kbd>Enter</kbd> to run the code. If you are not editing the code, select a cell and press <kbd>Ctrl</kbd>+<kbd>Enter</kbd> to run the code.\n",
    "\n",
    "On a tablet, use the ▶️ button to run the code."
   ]
  },
  {
   "cell_type": "markdown",
   "metadata": {
    "nbgrader": {
     "cell_type": "markdown",
     "checksum": "e751fa644cc3b7b4124c55aa8c3b641d",
     "grade": false,
     "grade_id": "cell-42e2c6c28565fc8a",
     "locked": true,
     "schema_version": 3,
     "solution": false,
     "task": false
    }
   },
   "source": [
    "# Lesson 8c: Function annotations\n",
    "\n",
    "If you are new to recursion, it's easy to get lost in your mind while following the trail of recursive calls.\n",
    "\n",
    "One way to stay grounded is to be continually aware of your function's:\n",
    "\n",
    "- input parameters and their types\n",
    "- output value and type\n",
    "\n",
    "This is easier to do if you can add that information directly in your code, so it stays in your view.\n",
    "\n",
    "Fortunately, Python has a syntax feature that allows you to do just this, without affecting the functionality of your code."
   ]
  },
  {
   "cell_type": "markdown",
   "metadata": {},
   "source": [
    "## Annotating parameters\n",
    "\n",
    "Let's use a recursive function `length()` that takes a list and returns the number of elements in the list:\n",
    "\n",
    "```python\n",
    "def length(data):\n",
    "    \"\"\"Returns the number of items in data.\"\"\"\n",
    "```\n",
    "\n",
    "This is a straightforward example, but if you are very new to recursion (or if you are working with a more advanced function) it is easy to forget what type `data` is: it might be a `list`? Or `dict`?\n",
    "\n",
    "We can add argument types to the function after a `:`:"
   ]
  },
  {
   "cell_type": "code",
   "execution_count": null,
   "metadata": {},
   "outputs": [],
   "source": [
    "def length(data: list):\n",
    "    \"\"\"Returns the number of items in data.\"\"\"\n",
    "    pass"
   ]
  },
  {
   "cell_type": "markdown",
   "metadata": {},
   "source": [
    "This is a hint that the input argument _should_ be a list. Note that Python will not enforce this for us; if we pass another data type to the function, no error will be raised by Python."
   ]
  },
  {
   "cell_type": "code",
   "execution_count": null,
   "metadata": {},
   "outputs": [],
   "source": [
    "# When you run this code cell, note that\n",
    "# no error is raised by passing a dict where a list is expected.\n",
    "length({\"a\": 1, \"b\": 2})"
   ]
  },
  {
   "cell_type": "markdown",
   "metadata": {},
   "source": [
    "## Annotating return types\n",
    "\n",
    "If we forget that `length()` is supposed to return an integer, we may `return None` or an empty list instead. Worse, if we are trying to use `length()` in another function and want to check what data type it returns, we would have to hunt in our code and check all the lines where it uses `return`. That is a lot of work for something that should be more straightforward.\n",
    "\n",
    "We can annotate the function with the return type using a `->` after the closing parenthesis.\n",
    "\n",
    "Again, Python will not enforce this for us; if we return another data type to the function, no error will be raised by Python."
   ]
  },
  {
   "cell_type": "code",
   "execution_count": null,
   "metadata": {},
   "outputs": [],
   "source": [
    "def length(data: list) -> int:\n",
    "    \"\"\"Returns the number of items in data.\"\"\"\n",
    "    return None\n",
    "\n",
    "# Note that this function call does not raise an error\n",
    "# even though the function returns None instead of an int\n",
    "length([0, 1, 2])"
   ]
  },
  {
   "cell_type": "markdown",
   "metadata": {},
   "source": [
    "## Worked example\n",
    "\n",
    "Remember that recursive functions should meet the following 3 conditions:\n",
    "\n",
    "1. A recursive function should have at least one **base case** that returns a value directly without calling itself.\n",
    "   - This is necessary because it must eventually reach a starting value from which it can \"work backward\".\n",
    "\n",
    "2. A recursive function should call itself (**self-invocation**) when the base case is unmet.\n",
    "   - It should call itself with a different state, i.e. the input to the next function call should not be the same as the input for the current function call.\n",
    "   - Each successive recursive call should **reduce the input** (problem) to bring it *closer to the base case*.\n",
    "\n",
    "3. A recursive function should have a **return value** that enables the calling function (i.e. the \"parent\" function) to build up the final return value.\n",
    "   - It is much easier to think through the logic of recursion if the *return value has a consistent type*.\n",
    "\n",
    "With these conditions in mind, let's implement `length()`."
   ]
  },
  {
   "cell_type": "code",
   "execution_count": null,
   "metadata": {},
   "outputs": [],
   "source": [
    "def length(data: list) -> int:\n",
    "    \"\"\"Returns the number of items in data.\"\"\"\n",
    "    # Base case: data is empty\n",
    "    if data == []:\n",
    "        return 0"
   ]
  },
  {
   "cell_type": "markdown",
   "metadata": {},
   "source": [
    "(I avoided using `len()` here because that function performs the same task as `length()` but non-recursively)\n",
    "\n",
    "Knowing that `length()` must return an `int`, it is easy to see the the base case must return 0.\n",
    "\n",
    "In any other case, we need to call `length()` with a subset of `data`, in a way that lets us build up the final value.  \n",
    "The simplest way I can think of to do this is to ignore the first value in `data`, and call `length()` again on the rest of `data`:"
   ]
  },
  {
   "cell_type": "code",
   "execution_count": null,
   "metadata": {},
   "outputs": [],
   "source": [
    "def length(data: list) -> int:\n",
    "    \"\"\"Returns the number of items in data.\"\"\"\n",
    "    # Base case: data is empty\n",
    "    if data == []:\n",
    "        return 0\n",
    "    return 1 + length(data[1:])"
   ]
  },
  {
   "cell_type": "markdown",
   "metadata": {},
   "source": [
    "The value returned by `length()` in the recursive call will be the number of items in it. (We don't _know_ this for sure since we are still implementing the function, but let's trust it will be!)\n",
    "\n",
    "To include the current item which was excluded, we add `1` to this value and return it."
   ]
  },
  {
   "cell_type": "code",
   "execution_count": null,
   "metadata": {},
   "outputs": [],
   "source": [
    "# Test our recursive length() function\n",
    "length([1, 2, 3, 4, 5])"
   ]
  },
  {
   "cell_type": "markdown",
   "metadata": {},
   "source": [
    "## Exercise\n",
    "\n",
    "The cells below contain recursive function definitions that act on a list of integers. Edit them to add parameter and return type annotations:"
   ]
  },
  {
   "cell_type": "code",
   "execution_count": null,
   "metadata": {},
   "outputs": [],
   "source": [
    "def sum(data):\n",
    "    if data == []:\n",
    "        return 0\n",
    "    return data[0] + sum(data[1:])"
   ]
  },
  {
   "cell_type": "code",
   "execution_count": null,
   "metadata": {},
   "outputs": [],
   "source": [
    "def min(data):\n",
    "    if len(data) == 0:\n",
    "        raise ValueError(\"data is empty\")\n",
    "    if len(data) == 1:\n",
    "        return data[0]\n",
    "    value = min(data[1:])\n",
    "    if data[0] < value:\n",
    "        return data[0]\n",
    "    else:\n",
    "        return value"
   ]
  },
  {
   "cell_type": "code",
   "execution_count": null,
   "metadata": {},
   "outputs": [],
   "source": [
    "def to_str(data):\n",
    "    \"\"\"Returns a list of strings representing the information in data\"\"\"\n",
    "    if len(data) == 0:\n",
    "        return []\n",
    "    return [str(data[0])] + to_str(data[1:])"
   ]
  },
  {
   "cell_type": "markdown",
   "metadata": {},
   "source": [
    "Subsequent lessons will include type annotations to clarify the code."
   ]
  }
 ],
 "metadata": {
  "kernelspec": {
   "display_name": "Python 3 (ipykernel)",
   "language": "python",
   "name": "python3"
  },
  "language_info": {
   "codemirror_mode": {
    "name": "ipython",
    "version": 3
   },
   "file_extension": ".py",
   "mimetype": "text/x-python",
   "name": "python",
   "nbconvert_exporter": "python",
   "pygments_lexer": "ipython3",
   "version": "3.8.12"
  }
 },
 "nbformat": 4,
 "nbformat_minor": 2
}
