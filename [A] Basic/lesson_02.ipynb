{
 "cells": [
  {
   "cell_type": "markdown",
   "metadata": {},
   "source": [
    "## 1-minute introduction to Jupyter ##\n",
    "\n",
    "A Jupyter notebook consists of cells. Each cell contains either text or code.\n",
    "\n",
    "A text cell will not have any text to the left of the cell. A code cell has `In [ ]:` to the left of the cell.\n",
    "\n",
    "If the cell contains code, you can edit it. Press <kbd>Enter</kbd> to edit the selected cell. While editing the code, press <kbd>Enter</kbd> to create a new line, or <kbd>Shift</kbd>+<kbd>Enter</kbd> to run the code. If you are not editing the code, select a cell and press <kbd>Ctrl</kbd>+<kbd>Enter</kbd> to run the code.\n",
    "\n",
    "On a tablet, use the ▶️ button to run the code."
   ]
  },
  {
   "cell_type": "markdown",
   "metadata": {
    "nbgrader": {
     "cell_type": "markdown",
     "checksum": "c355a39b7162a1754c8d1d086bf5722f",
     "grade": false,
     "grade_id": "cell-5fddd0ed68552baf",
     "locked": true,
     "schema_version": 3,
     "solution": false,
     "task": false
    }
   },
   "source": [
    "# Lesson 2: Basic data manipulation\n",
    "\n",
    "We need more ways to manipulate the text and numbers that users input. Python provides a number of built-in functions to do this."
   ]
  },
  {
   "cell_type": "markdown",
   "metadata": {
    "nbgrader": {
     "cell_type": "markdown",
     "checksum": "27de640b8a8f657d64d3cb046d47ef43",
     "grade": false,
     "grade_id": "cell-ad1d74142002aebb",
     "locked": true,
     "schema_version": 3,
     "solution": false,
     "task": false
    }
   },
   "source": [
    "## Quotient and modulo\n",
    "\n",
    "The `divmod()` function performs division, but returns two values instead of one. The first value returned is the floored quotient, while the second value returned is the remainder modulo.\n",
    "\n",
    "Such functions require two variables to be named on the left hand side of the assignment (`=`) operator.\n",
    "\n",
    "Run the code cell below. It will produce no output.\n",
    "\n",
    "**Task 1: Modify code**\n",
    "\n",
    "Write program code in the cell to examine the value of the variables `floor_quotient` and `remainder`."
   ]
  },
  {
   "cell_type": "code",
   "execution_count": null,
   "metadata": {},
   "outputs": [],
   "source": [
    "floor_quotient, remainder = divmod(5, 2)\n",
    "\n",
    "#Write code to examine floor_quotient and remainder\n"
   ]
  },
  {
   "cell_type": "markdown",
   "metadata": {
    "nbgrader": {
     "cell_type": "markdown",
     "checksum": "159fa7465c04c2efe6c4b1cb96cb5f98",
     "grade": false,
     "grade_id": "cell-3328749817f96f79",
     "locked": true,
     "schema_version": 3,
     "solution": false,
     "task": false
    }
   },
   "source": [
    "## Exercise 1\n",
    "\n",
    "Modify the lines below to print the output of `floor_quotient` and `remainder`."
   ]
  },
  {
   "cell_type": "code",
   "execution_count": null,
   "metadata": {},
   "outputs": [],
   "source": [
    "one_variable = divmod(5, 2)\n",
    "\n",
    "print('The value of one_variable is', one_variable)"
   ]
  },
  {
   "cell_type": "code",
   "execution_count": null,
   "metadata": {
    "nbgrader": {
     "cell_type": "code",
     "checksum": "887dc62995f223d66d8acbfbb598368b",
     "grade": true,
     "grade_id": "cell-76f655e1ae0de6de",
     "locked": false,
     "points": 1,
     "schema_version": 3,
     "solution": true,
     "task": false
    }
   },
   "outputs": [],
   "source": [
    "floor_quotient, remainder = divmod(5.0, 2.0)\n",
    "\n",
    "print('The quotient is', floor_quotient)\n",
    "print('The remainder is', remainder)"
   ]
  },
  {
   "cell_type": "markdown",
   "metadata": {
    "nbgrader": {
     "cell_type": "markdown",
     "checksum": "75050de21486c5e764160c6dc70fdd43",
     "grade": false,
     "grade_id": "cell-1506172ff4826e4f",
     "locked": true,
     "schema_version": 3,
     "solution": false,
     "task": false
    }
   },
   "source": [
    "<ol>\n",
    "<li><details><summary><p>What would happen if you modify the above code with only one variable on the left of the assignment operator?<br />(<i>Try to answer before clicking to reveal</i>)</p></summary>\n",
    "<p>Floor_quotient will contain two values.</p>\n",
    "</details></li>\n",
    "<li><details><summary><p>Does <code>divmod()</code> work with floats?<br />(<i>Try to answer before clicking to reveal</i>)</p></summary>\n",
    "<p>Yes. It returns float values.</p>\n",
    "</details></li>\n",
    "</ol>"
   ]
  },
  {
   "cell_type": "markdown",
   "metadata": {
    "nbgrader": {
     "cell_type": "markdown",
     "checksum": "7643338a54d938ed660764c786681429",
     "grade": false,
     "grade_id": "cell-fa30d0a1b1718afa",
     "locked": true,
     "schema_version": 3,
     "solution": false,
     "task": false
    }
   },
   "source": [
    "## Python float method: `is_integer()`\n",
    "\n",
    "Python's data types have some built-in features that make them easy to use. These built-in feaures are known as **methods**, and they are accessed by adding the feature name to the back of the variable or value, separated by a dot (`.`). These methods are usually named with brackets, for reasons that will be examined in Object-Oriented Programming.\n",
    "\n",
    "The `is_integer()` method returns a boolean (`True` or `False`) informing you if the float value can be expressed as an integer.\n",
    "\n",
    "Run the code cell below:"
   ]
  },
  {
   "cell_type": "code",
   "execution_count": null,
   "metadata": {},
   "outputs": [],
   "source": [
    "num1 = 2.0  #Try this with different float and int values\n",
    "\n",
    "num1.is_integer()"
   ]
  },
  {
   "cell_type": "markdown",
   "metadata": {
    "nbgrader": {
     "cell_type": "markdown",
     "checksum": "21c76f368c411f2855aca80c6f40d6cc",
     "grade": false,
     "grade_id": "cell-e8dcce1e6621f1a8",
     "locked": true,
     "schema_version": 3,
     "solution": false,
     "task": false
    }
   },
   "source": [
    "Q3: Modify the above cell and give `num1` an integer value, then run the cell again. What happens?"
   ]
  },
  {
   "cell_type": "markdown",
   "metadata": {
    "nbgrader": {
     "cell_type": "markdown",
     "checksum": "6bdbeed7af030b1042985d87826ab036",
     "grade": false,
     "grade_id": "cell-ad4d01232266160b",
     "locked": true,
     "schema_version": 3,
     "solution": false,
     "task": false
    }
   },
   "source": [
    "## Python function: `abs()`\n",
    "\n",
    "Investigate the function `abs()`, which takes in one numerical variable and returns one value. Test the function with `int` and `float` values."
   ]
  },
  {
   "cell_type": "code",
   "execution_count": null,
   "metadata": {},
   "outputs": [],
   "source": [
    "#Type code here to test the function:\n",
    "\n"
   ]
  },
  {
   "cell_type": "markdown",
   "metadata": {
    "nbgrader": {
     "cell_type": "markdown",
     "checksum": "e722f4b9be4a558f7744ba5d237db627",
     "grade": false,
     "grade_id": "cell-f5948c5d33b9218c",
     "locked": true,
     "schema_version": 3,
     "solution": false,
     "task": false
    }
   },
   "source": [
    "Q4: What does the function `abs()` do:\n",
    "\n",
    "1. When given an `int` value?\n",
    "2. When given a `float` value?"
   ]
  },
  {
   "cell_type": "markdown",
   "metadata": {
    "nbgrader": {
     "cell_type": "markdown",
     "checksum": "217903b16a44437b9592b535ee2523da",
     "grade": false,
     "grade_id": "cell-8fc18e60e2c4c542",
     "locked": true,
     "schema_version": 3,
     "solution": false,
     "task": false
    }
   },
   "source": [
    "## Python function: `len()`\n",
    "\n",
    "Investigate the function `len()`, which takes in one variable and returns one value."
   ]
  },
  {
   "cell_type": "code",
   "execution_count": null,
   "metadata": {},
   "outputs": [],
   "source": [
    "#Type code here to test the function:\n",
    "\n"
   ]
  },
  {
   "cell_type": "markdown",
   "metadata": {
    "nbgrader": {
     "cell_type": "markdown",
     "checksum": "e89ac84d2c586a973390bd3e757e8f9c",
     "grade": false,
     "grade_id": "cell-63ba10fc6cd03157",
     "locked": true,
     "schema_version": 3,
     "solution": false,
     "task": false
    }
   },
   "source": [
    "Does the function `len()` work when given:\n",
    "\n",
    "1. `int` values?\n",
    "2. `float` values?\n",
    "3. `str` values?"
   ]
  },
  {
   "cell_type": "markdown",
   "metadata": {
    "nbgrader": {
     "cell_type": "markdown",
     "checksum": "6bd8f3024150a9ae19d5d3c27ac7d762",
     "grade": false,
     "grade_id": "cell-fd062ad77ca19e01",
     "locked": true,
     "schema_version": 3,
     "solution": false,
     "task": false
    }
   },
   "source": [
    "## Exercise 2\n",
    "\n",
    "In the cell below, replace the blank lines (`_____`) with appropriate function names or variables to ask the user for a word, and print the number of letters in the word."
   ]
  },
  {
   "cell_type": "code",
   "execution_count": null,
   "metadata": {
    "nbgrader": {
     "cell_type": "code",
     "checksum": "90fc6c8501e765a6fc08131e6d7a3c49",
     "grade": true,
     "grade_id": "cell-a9dc13f5de359595",
     "locked": false,
     "points": 3,
     "schema_version": 3,
     "solution": true,
     "task": false
    }
   },
   "outputs": [],
   "source": [
    "word = input(\"Type a word and press Enter: \")\n",
    "\n",
    "print('The word', word, 'has', len(word), 'letters.')\n"
   ]
  },
  {
   "cell_type": "markdown",
   "metadata": {
    "nbgrader": {
     "cell_type": "markdown",
     "checksum": "e37e693cf42d3a6d1f99eb3d1627f688",
     "grade": false,
     "grade_id": "cell-db09fecb6c1576ff",
     "locked": true,
     "schema_version": 3,
     "solution": false,
     "task": false
    }
   },
   "source": [
    "## Python string manipulation methods: `lower()`, `upper()`, `title()`, `lstrip()`, `rstrip()`, `strip()`\n",
    "\n",
    "Python has many methods available for use to manipulate strings. We will introduce some of the most commonly used methods below.\n",
    "\n",
    "### `lower()`, `upper()`, `title()` methods\n",
    "\n",
    "The following methods format the string by changing the letter cases:\n",
    "\n",
    "- `lower()` changes a string to all-lowercase letters.\n",
    "- `upper()` changes a string to all-uppercase letters.\n",
    "- `title()` changes a string that starts with an uppercase letter and the remaining characters are lowercase.\n",
    "\n",
    "Run the following code cell to see these methods in action:"
   ]
  },
  {
   "cell_type": "code",
   "execution_count": null,
   "metadata": {},
   "outputs": [],
   "source": [
    "example = \"ThisFormattingIsKnownAsCamelCase\"\n",
    "\n",
    "print('Lowercase:', example.lower())\n",
    "print('Uppercase:', example.upper())\n",
    "print('Title Case:', example.title())"
   ]
  },
  {
   "cell_type": "markdown",
   "metadata": {
    "nbgrader": {
     "cell_type": "markdown",
     "checksum": "f8f03c40cd5361ef1e739d75d788c2d5",
     "grade": false,
     "grade_id": "cell-9012cbf689c217b5",
     "locked": true,
     "schema_version": 3,
     "solution": false,
     "task": false
    }
   },
   "source": [
    "### `lstrip()` and `rstrip()` methods\n",
    "\n",
    "The `lstrip()` method removes characters from the leftmost end of the string. These characters are given to the function as a string. If no value is given, it removes whitespace (i.e. spaces).\n",
    "\n",
    "The `rstrip()` method works the same way, but removes characters from the rightmost end of the string.\n",
    "\n",
    "**Example**\n",
    "\n",
    "Run each code cell below to investigate how the `lstrip()` method works. "
   ]
  },
  {
   "cell_type": "code",
   "execution_count": null,
   "metadata": {},
   "outputs": [],
   "source": [
    "filename = '   mymovie.mp4'\n",
    "\n",
    "filename.strip()"
   ]
  },
  {
   "cell_type": "code",
   "execution_count": null,
   "metadata": {},
   "outputs": [],
   "source": [
    "email_quote_line = '> Hi John,'\n",
    "\n",
    "email_quote_line.lstrip(' >')"
   ]
  },
  {
   "cell_type": "markdown",
   "metadata": {
    "nbgrader": {
     "cell_type": "markdown",
     "checksum": "693f64808bb9c48039b1a77a87b1b415",
     "grade": false,
     "grade_id": "cell-0a519fac1d6dc0d8",
     "locked": true,
     "schema_version": 3,
     "solution": false,
     "task": false
    }
   },
   "source": [
    "Note that the characters to be removed do not follow any particular order; `email_quote_line.lstrip(' >')` will give the same result as `email_quote_line.lstrip('> ')`"
   ]
  },
  {
   "cell_type": "markdown",
   "metadata": {},
   "source": [
    "### Handling the result of string manipulation\n",
    "\n",
    "Simply executing `email_quote_line.lstrip(' >')` does not change `email_quote_line`:"
   ]
  },
  {
   "cell_type": "code",
   "execution_count": null,
   "metadata": {},
   "outputs": [],
   "source": [
    "email_quote_line = '> Hi John,'\n",
    "email_quote_line.lstrip(' >')\n",
    "email_quote_line"
   ]
  },
  {
   "cell_type": "markdown",
   "metadata": {},
   "source": [
    "That is because string methods do not modify the original string. Instead, they return a new string with the changes applied.\n",
    "\n",
    "To overwrite the original variable, we have to reassign the results:"
   ]
  },
  {
   "cell_type": "code",
   "execution_count": null,
   "metadata": {},
   "outputs": [],
   "source": [
    "email_quote_line = '> Hi John,'\n",
    "email_quote_line = email_quote_line.lstrip(' >')\n",
    "email_quote_line"
   ]
  },
  {
   "cell_type": "markdown",
   "metadata": {
    "nbgrader": {
     "cell_type": "markdown",
     "checksum": "01d7b1b808e5295e8482485200ccac2b",
     "grade": false,
     "grade_id": "cell-a042b717e1bb0a59",
     "locked": true,
     "schema_version": 3,
     "solution": false,
     "task": false
    }
   },
   "source": [
    "Can we do the following?\n",
    "\n",
    "`email_quote_line = email_quote_line.lstrip(' >').rstrip(',')`"
   ]
  },
  {
   "cell_type": "markdown",
   "metadata": {},
   "source": [
    "### Method chaining\n",
    "\n",
    "When methods are used one after another, we say that they are **chain**ed.\n",
    "\n",
    "Python handles chained methods by evaluating the result of the first method, then calling the second method on the result, and so on.\n",
    "\n",
    "In `email_quote_line = email_quote_line.lstrip(' >').rstrip(',')`, Python evaluates `email_quote_line = email_quote_line.lstrip(' >')` into `'Hi John,'`, and then calls the `.lstrip()` method on that string.\n",
    "\n",
    "**Example**\n",
    "\n",
    "Run the code cell below to see how the `lstrip()` and `rstrip()` methods can be used together in the same line.\n",
    "\n",
    "**Challenge**\n",
    "\n",
    "Modify it so that it gives the output with numbers only."
   ]
  },
  {
   "cell_type": "code",
   "execution_count": null,
   "metadata": {
    "nbgrader": {
     "cell_type": "code",
     "checksum": "b0de66e60d66f138ae9b37577ba67f0e",
     "grade": true,
     "grade_id": "cell-3f01d18863644368",
     "locked": false,
     "points": 1,
     "schema_version": 3,
     "solution": true,
     "task": false
    }
   },
   "outputs": [],
   "source": [
    "postal_code = 'S(123456)'\n",
    "\n",
    "postal_code.lstrip('S').rstrip(')')\n",
    "\n"
   ]
  },
  {
   "cell_type": "markdown",
   "metadata": {
    "nbgrader": {
     "cell_type": "markdown",
     "checksum": "9eabf25ddbdd9600e38e5ff754268457",
     "grade": false,
     "grade_id": "cell-31564cb6d0a40d28",
     "locked": true,
     "schema_version": 3,
     "solution": false,
     "task": false
    }
   },
   "source": [
    "### `strip()` method\n",
    "\n",
    "The `strip()` method also removes characters from the ends of the string. Whereas `lstrip()` and `rstrip()` only remove characters from the leftmost and rightmost end respectively, `strip()` removes the given characters from both ends."
   ]
  },
  {
   "cell_type": "markdown",
   "metadata": {
    "nbgrader": {
     "cell_type": "markdown",
     "checksum": "9ecd3c2fca815f62d889c21366fc137f",
     "grade": false,
     "grade_id": "cell-1febaf00bc76e400",
     "locked": true,
     "schema_version": 3,
     "solution": false,
     "task": false
    }
   },
   "source": [
    "## Exercise 3\n",
    "\n",
    "Modify the code cell below to change `'  <body>  '` to `'body'`."
   ]
  },
  {
   "cell_type": "code",
   "execution_count": null,
   "metadata": {
    "nbgrader": {
     "cell_type": "code",
     "checksum": "141cdeeda13d4e6eaeb51de469522f81",
     "grade": true,
     "grade_id": "cell-a605333ac70b88f9",
     "locked": false,
     "points": 1,
     "schema_version": 3,
     "solution": true,
     "task": false
    }
   },
   "outputs": [],
   "source": [
    "html_tag = '  <body>  ' #Do not edit this line\n",
    "\n",
    "#Replace the underscores (_____) with appropriate strings or methods to produce the desired output\n",
    "html_tag.strip().lstrip(_____)._____('>')\n",
    "\n"
   ]
  },
  {
   "cell_type": "markdown",
   "metadata": {
    "nbgrader": {
     "cell_type": "markdown",
     "checksum": "f40c0560f885086b727c993d5404b855",
     "grade": false,
     "grade_id": "cell-07510cc0dc95f524",
     "locked": true,
     "schema_version": 3,
     "solution": false,
     "task": false
    }
   },
   "source": [
    "#### Diving into strip()\n",
    "\n",
    "Why do the 4 examples below work?"
   ]
  },
  {
   "cell_type": "code",
   "execution_count": null,
   "metadata": {
    "nbgrader": {
     "cell_type": "code",
     "checksum": "17e077c7431e91ea15a74055e9fe8db7",
     "grade": true,
     "grade_id": "cell-982595767ba50b74",
     "locked": false,
     "points": 1,
     "schema_version": 3,
     "solution": true,
     "task": false
    }
   },
   "outputs": [],
   "source": [
    "html_tag = '  <body>  ' #Do not edit this line\n",
    "\n",
    "#Write a line of code that will return 'body' using only the strip() method\n",
    "html_tag.strip(' <>')\n",
    "html_tag.strip(' < > ')\n",
    "html_tag.strip('<> ')\n",
    "html_tag.strip('> <')"
   ]
  },
  {
   "cell_type": "markdown",
   "metadata": {},
   "source": [
    "Why doesn't the 2 examples below work?"
   ]
  },
  {
   "cell_type": "code",
   "execution_count": null,
   "metadata": {},
   "outputs": [],
   "source": [
    "html_tag.strip('><')\n",
    "html_tag.strip(' ')"
   ]
  },
  {
   "cell_type": "markdown",
   "metadata": {
    "nbgrader": {
     "cell_type": "markdown",
     "checksum": "1cc47e9f5cfe31446b8c5fb0b41df7b5",
     "grade": false,
     "grade_id": "cell-c3d7f10ea1ad7123",
     "locked": true,
     "schema_version": 3,
     "solution": false,
     "task": false
    }
   },
   "source": [
    "## Accessing subsets of strings: string slicing\n",
    "\n",
    "Parts of a string can be accessed through **slicing**.\n",
    "\n",
    "Run the following code cell to see string slicing in action:"
   ]
  },
  {
   "cell_type": "code",
   "execution_count": null,
   "metadata": {},
   "outputs": [],
   "source": [
    "this_string = 'One fine day'\n",
    "\n",
    "## Subsets of strings are addressed by their numerical index.\n",
    "## Numerical indexes start from 0, not 1\n",
    "\n",
    "## Substrings are indexed using the square bracket [] syntax, not with parentheses ()\n",
    "print('Line 1:', this_string[0])\n",
    "\n",
    "## The second character has index 1\n",
    "print('Line 2:', this_string[1])\n",
    "\n",
    "## You can address a range of characters using the colon (:) symbol.\n",
    "print('Line 3:', this_string[0:6])\n",
    "## Note that [0:6] gives the first 6 characters, not the first 7 characters! The last index in a range is ignored.\n",
    "\n",
    "## If the first index is omitted, slicing begins from the first element.\n",
    "print('Line 4:', this_string[:6])\n",
    "\n",
    "## If the last index is omitted, slicing ends at the last element.\n",
    "print('Line 5:', this_string[6:])\n",
    "\n",
    "## Negative indexes are allowed. An index of -1 refers to the last element.\n",
    "print('Line 6:', this_string[-1])\n",
    "\n",
    "## You can specify ranges using negative indexes. Note that the last element is ignored.\n",
    "## (Omit the last index to address to the last element.)\n",
    "print('Line 7:', this_string[-5:-1])\n",
    "\n",
    "## Omitting both the first and the last index specifies the entire string\n",
    "print('Line 8:', this_string[:])\n",
    "\n",
    "## You can specify the **stride** by adding a third number, separated by a colon.\n",
    "## The stride value slices the string, selecting every nth character.\n",
    "## Stride length of 2 takes characters with index 0,2,4 (excluding 5)\n",
    "print('Line 9:', this_string[0:5:2])\n",
    "\n",
    "## Can you explain the output for this string slicing?\n",
    "print('Line 10:',this_string[::-1])"
   ]
  },
  {
   "cell_type": "markdown",
   "metadata": {},
   "source": [
    "Note that string slicing also returns a new copy of the string, and does not modify the original string."
   ]
  },
  {
   "cell_type": "markdown",
   "metadata": {
    "nbgrader": {
     "cell_type": "markdown",
     "checksum": "7f6a636e8b1c2843f2778afac2af7d6d",
     "grade": false,
     "grade_id": "cell-e0110b5c4b50aad3",
     "locked": true,
     "schema_version": 3,
     "solution": false,
     "task": false
    }
   },
   "source": [
    "**Fill-in-the-blanks: extracting postal code with string slicing**\n",
    "\n",
    "In the cell below, replace the blanks (`_____`) with appropriate string slicing indexes to select the digits of the postal code from the given string."
   ]
  },
  {
   "cell_type": "code",
   "execution_count": null,
   "metadata": {
    "nbgrader": {
     "cell_type": "code",
     "checksum": "1dea4d8dab6157f2e0e3e4cffb2ce837",
     "grade": true,
     "grade_id": "cell-eb9ee334ffaf2be4",
     "locked": false,
     "points": 1,
     "schema_version": 3,
     "solution": true,
     "task": false
    }
   },
   "outputs": [],
   "source": [
    "postal_code = 'S(123456)'\n",
    "\n",
    "# Replace _____ with a string slice to extract only the digits from the postal code\n",
    "postal_code_digits = postal_code[_____]\n"
   ]
  },
  {
   "cell_type": "markdown",
   "metadata": {
    "nbgrader": {
     "cell_type": "markdown",
     "checksum": "e6c75c150c6bf632de11ae2ca6294cad",
     "grade": false,
     "grade_id": "cell-1fb6430c12126647",
     "locked": true,
     "schema_version": 3,
     "solution": false,
     "task": false
    }
   },
   "source": [
    "## Exercise 4: extracting NRIC parts with string slicing\n",
    "\n",
    "Write string-slicing code in the cell below to:\n",
    "\n",
    "1. Select the first letter of the NRIC (the prefix).\n",
    "2. Select the numerical digits of the NRIC (the digits).\n",
    "3. Select the last letter of the NRIC (the suffix)."
   ]
  },
  {
   "cell_type": "code",
   "execution_count": null,
   "metadata": {
    "nbgrader": {
     "cell_type": "code",
     "checksum": "17ca7840a35d3054e24ebcb5b1259b1f",
     "grade": true,
     "grade_id": "cell-d21a0be4fe383d68",
     "locked": false,
     "points": 1,
     "schema_version": 3,
     "solution": true,
     "task": false
    }
   },
   "outputs": [],
   "source": [
    "nric = 'S1234567A'  # Do not remove this line\n",
    "\n",
    "#Replace the blanks below with appropriate expressions:\n",
    "prefix = nric[0]\n",
    "digits = nric[1:8]\n",
    "suffix = nric[8]\n"
   ]
  },
  {
   "cell_type": "markdown",
   "metadata": {
    "nbgrader": {
     "cell_type": "markdown",
     "checksum": "2871f55442bbff3ac734f0a81e3fe4b4",
     "grade": false,
     "grade_id": "cell-d5dd7265603d6d8d",
     "locked": true,
     "schema_version": 3,
     "solution": false,
     "task": false
    }
   },
   "source": [
    "**Fill-in-the-blanks: using variables in string slicing**\n",
    "\n",
    "In the cell below, replace the blanks (`_____`) with an appropriate value so that the code prints the digits of the postal code only (without the parentheses).\n",
    "\n"
   ]
  },
  {
   "cell_type": "code",
   "execution_count": null,
   "metadata": {
    "nbgrader": {
     "cell_type": "code",
     "checksum": "6fb5cdf1cabf2706601781b1db9e36a4",
     "grade": true,
     "grade_id": "cell-c73157e092de255d",
     "locked": false,
     "points": 1,
     "schema_version": 3,
     "solution": true,
     "task": false
    }
   },
   "outputs": [],
   "source": [
    "address = '128 Serangoon Ave 3, S(556111)'\n",
    "\n",
    "start = _____  # Replace the blanks with an appropriate value\n",
    "\n",
    "# Replace the blanks below with appropriate expressions:\n",
    "postal_code = address[_____:_____]  # Replace the blanks with an appropriate value\n",
    "print('Postal code:', postal_code)\n"
   ]
  },
  {
   "cell_type": "markdown",
   "metadata": {
    "nbgrader": {
     "cell_type": "markdown",
     "checksum": "c98d985070501245bce72a73c4cd6f35",
     "grade": false,
     "grade_id": "cell-0c1aec4e5874d17e",
     "locked": true,
     "schema_version": 3,
     "solution": false,
     "task": false
    }
   },
   "source": [
    "**Task: extract area code from phone number**\n",
    "\n",
    "In the cell below, complete the code to extract the area code (e.g. `+65` for Singapore) from the phone number and assign it to the variable `area_code`."
   ]
  },
  {
   "cell_type": "code",
   "execution_count": null,
   "metadata": {
    "nbgrader": {
     "cell_type": "code",
     "checksum": "381140113ddc9700054a3bb370986d83",
     "grade": true,
     "grade_id": "cell-b15d01bc719bfb85",
     "locked": false,
     "points": 1,
     "schema_version": 3,
     "solution": true,
     "task": false
    }
   },
   "outputs": [],
   "source": [
    "phone_number = '+6016-7899287'\n",
    "\n",
    "# Replace the blanks below with appropriate expressions:\n",
    "area_code = phone_number[_____]"
   ]
  },
  {
   "cell_type": "markdown",
   "metadata": {
    "nbgrader": {
     "cell_type": "markdown",
     "checksum": "a973248e40d3a4fed9d2e442d765edff",
     "grade": false,
     "grade_id": "cell-c031045634261f16",
     "locked": true,
     "schema_version": 3,
     "solution": false,
     "task": false
    }
   },
   "source": [
    "## Python string search method: `find()`, `replace()`\n",
    "\n",
    "### `find()` method\n",
    "\n",
    "The `find()` method searches a given string for a shorter substring and returns the position of the substring in the string.\n",
    "\n",
    "**Example**\n",
    "\n",
    "Run the code cell below, which returns the position of the period (`.`) in the filename 'mymovie.mp4'."
   ]
  },
  {
   "cell_type": "code",
   "execution_count": null,
   "metadata": {},
   "outputs": [],
   "source": [
    "filename = 'mymovie.mp4'\n",
    "\n",
    "filename.find('.')"
   ]
  },
  {
   "cell_type": "markdown",
   "metadata": {
    "nbgrader": {
     "cell_type": "markdown",
     "checksum": "8ebeeaac2ab52d05f4e9f3f6eec3f8de",
     "grade": false,
     "grade_id": "cell-d7a1a751991f4f7f",
     "locked": true,
     "schema_version": 3,
     "solution": false,
     "task": false
    }
   },
   "source": [
    "<details><summary><p>The period (<code>.</code>) is the 8th character. Why is the value of <code>position</code> equal to 7, and not 8?<br />(<i>Try to answer before clicking to reveal</i>)</p></summary>\n",
    "<p>Python uses zero-based indexing, so the first character is at index 0.</p>\n",
    "</details>"
   ]
  },
  {
   "cell_type": "markdown",
   "metadata": {
    "nbgrader": {
     "cell_type": "markdown",
     "checksum": "8859f9c3064e3161b068dd469f9dd776",
     "grade": false,
     "grade_id": "cell-abd52bc4e7f3963b",
     "locked": true,
     "schema_version": 3,
     "solution": false,
     "task": false
    }
   },
   "source": [
    "### `replace()` method\n",
    "\n",
    "The `replace()` method searches a given string for a shorter substring and replaces it with a different substring.\n",
    "\n",
    "**Example**\n",
    "\n",
    "Run the code cell below, which replaces the filename extension \".mov\" with \".mp4\"."
   ]
  },
  {
   "cell_type": "code",
   "execution_count": null,
   "metadata": {},
   "outputs": [],
   "source": [
    "filename = 'mymovie.mov'\n",
    "\n",
    "filename.replace('.mov', '.mp4')"
   ]
  },
  {
   "cell_type": "markdown",
   "metadata": {
    "nbgrader": {
     "cell_type": "markdown",
     "checksum": "050f4d61610575b3348656bad19de1b2",
     "grade": false,
     "grade_id": "cell-80c354fd5ee010c2",
     "locked": true,
     "schema_version": 3,
     "solution": false,
     "task": false
    }
   },
   "source": [
    "**Fill-in-the-blanks: splitting address into state and postal code**\n",
    "\n",
    "In the code cell below, replace the blanks (`_____`) with appropriate methods or values so that the code extracts the state and postal code information from the address string.\n",
    "\n",
    "Your code should work with the following address strings as well:\n",
    "\n",
    "- 'Chicago 86484'\n",
    "- 'Massachusett 43865'"
   ]
  },
  {
   "cell_type": "code",
   "execution_count": null,
   "metadata": {
    "nbgrader": {
     "cell_type": "code",
     "checksum": "5d5ea4ca523c29466639aab1282f59a7",
     "grade": true,
     "grade_id": "cell-230b6c048283d8af",
     "locked": false,
     "points": 3,
     "schema_version": 3,
     "solution": true,
     "task": false
    }
   },
   "outputs": [],
   "source": [
    "address_string = 'Oregon 90221'\n",
    "\n",
    "# Extract the position of the space in the address string\n",
    "space_pos = address_string._____(_____)\n",
    "#Complete the code below using string slicing\n",
    "state = address_string[_____]\n",
    "print('State:', state)\n",
    "postal_code = address_string[_____]\n",
    "print('Postal Code:', postal_code)\n"
   ]
  },
  {
   "cell_type": "markdown",
   "metadata": {
    "nbgrader": {
     "cell_type": "markdown",
     "checksum": "3bd37012fc5aecf7a5c2064f2c99215f",
     "grade": false,
     "grade_id": "cell-9f7f0e50844fdfb2",
     "locked": true,
     "schema_version": 3,
     "solution": false,
     "task": false
    }
   },
   "source": [
    "**Modify the code: print state in UPPERCASE**\n",
    "\n",
    "Modify the code in the cell above so that the state is printed in UPPERCASE."
   ]
  },
  {
   "cell_type": "markdown",
   "metadata": {
    "nbgrader": {
     "cell_type": "markdown",
     "checksum": "f3dc38929ac226e8fa5d585f9dc2a0fc",
     "grade": false,
     "grade_id": "cell-5089c7c446f0d8f4",
     "locked": true,
     "schema_version": 3,
     "solution": false,
     "task": false
    }
   },
   "source": [
    "**Task: print address string with a comma**\n",
    "\n",
    "In the cell below, use an appropriate string method to print the address string with a comma.\n",
    "\n",
    "e.g. from `'Oregon 90221'` to `'Oregon, 90221'`"
   ]
  },
  {
   "cell_type": "code",
   "execution_count": null,
   "metadata": {
    "nbgrader": {
     "cell_type": "code",
     "checksum": "0a64f2ccd10e168dd43e3312d5fef382",
     "grade": true,
     "grade_id": "cell-65b9619de8ea8f5b",
     "locked": false,
     "points": 1,
     "schema_version": 3,
     "solution": true,
     "task": false
    }
   },
   "outputs": [],
   "source": [
    "address_string = 'Oregon 90221'\n",
    "\n",
    "# Replace the blanks below with appropriate expressions\n",
    "# to print the address string with a comma\n",
    "print(address_string._____)\n"
   ]
  },
  {
   "cell_type": "markdown",
   "metadata": {
    "nbgrader": {
     "cell_type": "markdown",
     "checksum": "af110bc6b3445d592d687224083b20aa",
     "grade": false,
     "grade_id": "cell-c911a964226a38bb",
     "locked": true,
     "schema_version": 3,
     "solution": false,
     "task": false
    }
   },
   "source": [
    "## Python Self-Help: the `dir()` function\n",
    "\n",
    "The `dir()` function lets you examine a Python object and find out what methods and attributes it has. Attributes will be covered in the lesson on Object-Oriented Programming.\n",
    "\n",
    "Run the code cell below for an example of how to use the `dir()` function."
   ]
  },
  {
   "cell_type": "code",
   "execution_count": null,
   "metadata": {
    "scrolled": true
   },
   "outputs": [],
   "source": [
    "string = 'a string'\n",
    "dir(string)"
   ]
  },
  {
   "cell_type": "markdown",
   "metadata": {
    "nbgrader": {
     "cell_type": "markdown",
     "checksum": "cb4f01806ef793f9810334f79a072776",
     "grade": false,
     "grade_id": "cell-983a6f4713b0ceb1",
     "locked": true,
     "schema_version": 3,
     "solution": false,
     "task": false
    }
   },
   "source": [
    "You will see that strings have many methods associated with them."
   ]
  },
  {
   "cell_type": "markdown",
   "metadata": {
    "nbgrader": {
     "cell_type": "markdown",
     "checksum": "0a93db1a22f16517485cedbe6f685a04",
     "grade": false,
     "grade_id": "cell-c05eef7756e5b3fd",
     "locked": true,
     "schema_version": 3,
     "solution": false,
     "task": false
    }
   },
   "source": [
    "### Special methods\n",
    "Some of them start and end with a double-underscore (`__`). These are special methods that will be covered in the lesson on Object-Oriented Programming.\n",
    "\n",
    "### Normal methods\n",
    "Of the other methods, those without double-underscores, some you have just learnt above. And some you have not used before. We will not learn to use all the methods; if you wish to find out how they work, you can search online for examples of how to use them."
   ]
  },
  {
   "cell_type": "markdown",
   "metadata": {
    "nbgrader": {
     "cell_type": "markdown",
     "checksum": "df3c4b484178aa6813efd23dced89122",
     "grade": false,
     "grade_id": "cell-30161239cbb9c214",
     "locked": true,
     "schema_version": 3,
     "solution": false,
     "task": false
    }
   },
   "source": [
    "**Task: examine the output type from `dir('a string')`**\n",
    "\n",
    "Write program code in the code cell below to examine the **type** of data returned from the `dir()` function . What type is it?"
   ]
  },
  {
   "cell_type": "code",
   "execution_count": null,
   "metadata": {
    "nbgrader": {
     "cell_type": "code",
     "checksum": "ddc763485ce568d026d793280d544547",
     "grade": true,
     "grade_id": "cell-d63f1acf497dfe86",
     "locked": false,
     "points": 1,
     "schema_version": 3,
     "solution": true,
     "task": false
    }
   },
   "outputs": [],
   "source": [
    "# Write code below to examine the type of data returned\n",
    "# from the dir() function\n",
    "\n"
   ]
  },
  {
   "cell_type": "markdown",
   "metadata": {
    "nbgrader": {
     "cell_type": "markdown",
     "checksum": "f2dc00a7daabf66c62f9c2e6c90f27b4",
     "grade": false,
     "grade_id": "cell-f30795d04579f224",
     "locked": true,
     "schema_version": 3,
     "solution": false,
     "task": false
    }
   },
   "source": [
    "If you need a quick revision on how to use the known methods, you can use the `help()` function.\n",
    "\n",
    "## Python Self-Help: the `help()` function\n",
    "\n",
    "Use the `help()` function to get a quick hint on how to use a function or method.\n",
    "\n",
    "Run the code cell below for an example of how to get help on the `isalpha()` method. Notice that you can invoke the method without having to use a variable. So you can also use `'a string'.isalpha()` to check if `'a string'` consists entirely of letters."
   ]
  },
  {
   "cell_type": "code",
   "execution_count": null,
   "metadata": {},
   "outputs": [],
   "source": [
    "help('a string'.isalpha)"
   ]
  },
  {
   "cell_type": "markdown",
   "metadata": {
    "nbgrader": {
     "cell_type": "markdown",
     "checksum": "22e4300d78d768ea11953e26dfac11a4",
     "grade": false,
     "grade_id": "cell-04c113f5ebe565b8",
     "locked": true,
     "schema_version": 3,
     "solution": false,
     "task": false
    }
   },
   "source": [
    "<details><summary><p>The variable passed to the <code>help()</code> function does not include the parentheses. Can you explain why?<br />(<i>Try to answer before clicking to reveal</i>)</p></summary>\n",
    "<p>The <code>help()</code> function is called on an object, without calling the object.</p>\n",
    "</details>"
   ]
  },
  {
   "cell_type": "markdown",
   "metadata": {
    "nbgrader": {
     "cell_type": "markdown",
     "checksum": "2467bb212f40bd956190ed7e226723a3",
     "grade": false,
     "grade_id": "cell-4c92dd0f13fc7032",
     "locked": true,
     "schema_version": 3,
     "solution": false,
     "task": false
    }
   },
   "source": [
    "**Task: get help for the `count()` string method**\n",
    "\n",
    "In the code cell below, write code to get help with using the `count()` string method. Run the code cell."
   ]
  },
  {
   "cell_type": "code",
   "execution_count": null,
   "metadata": {
    "nbgrader": {
     "cell_type": "code",
     "checksum": "48f52ebec1789fbf2a8282ed88f001ee",
     "grade": true,
     "grade_id": "cell-412b741416de7749",
     "locked": false,
     "points": 1,
     "schema_version": 3,
     "solution": true,
     "task": false
    }
   },
   "outputs": [],
   "source": [
    "# Write code below to get help with the count() method\n",
    "\n"
   ]
  },
  {
   "cell_type": "markdown",
   "metadata": {
    "nbgrader": {
     "cell_type": "markdown",
     "checksum": "70c1488a09657fddbfd325c1bc7eca69",
     "grade": false,
     "grade_id": "cell-cf82459dccf13360",
     "locked": true,
     "schema_version": 3,
     "solution": false,
     "task": false
    }
   },
   "source": [
    "\n",
    "\n",
    "**Task: compare methods and their outputs**\n",
    "\n",
    "In the code cell below, using the `type()` function, examine the output of `'a string'.isalpha` and `'a string'.isalpha()`."
   ]
  },
  {
   "cell_type": "code",
   "execution_count": null,
   "metadata": {},
   "outputs": [],
   "source": [
    "# Examine 'a string'.isalpha and 'a string'.isalpha() using\n",
    "# the type() function\n",
    "\n"
   ]
  },
  {
   "cell_type": "markdown",
   "metadata": {},
   "source": [
    "<details><summary><p>What is the difference between the two outputs?<br />(<i>Try to answer before clicking to reveal</i>)</p></summary>\n",
    "<p><code>isalpha</code> is a bound method while <code>isalpha()</code> returns a boolean.</p>\n",
    "</details>"
   ]
  },
  {
   "cell_type": "markdown",
   "metadata": {},
   "source": [
    "## Errors in Python: `TypeError`\n",
    "\n",
    "When you give the wrong data type to a function, Python will halt and raise a `TypeError`.\n",
    "\n",
    "In the cell below, try to raise a `TypeError` by invoking an operation, a function, or method and giving it the wrong data type."
   ]
  },
  {
   "cell_type": "code",
   "execution_count": null,
   "metadata": {
    "nbgrader": {
     "cell_type": "code",
     "checksum": "baa954a877bbf1d5456d312fe65996f5",
     "grade": true,
     "grade_id": "cell-4a38d66a15bb806c",
     "locked": false,
     "points": 1,
     "schema_version": 3,
     "solution": true,
     "task": false
    }
   },
   "outputs": [],
   "source": [
    "## Try to raise a TypeError\n",
    "\n"
   ]
  }
 ],
 "metadata": {
  "celltoolbar": "Edit Metadata",
  "kernelspec": {
   "display_name": "Python 3 (ipykernel)",
   "language": "python",
   "name": "python3"
  },
  "language_info": {
   "codemirror_mode": {
    "name": "ipython",
    "version": 3
   },
   "file_extension": ".py",
   "mimetype": "text/x-python",
   "name": "python",
   "nbconvert_exporter": "python",
   "pygments_lexer": "ipython3",
   "version": "3.8.12"
  }
 },
 "nbformat": 4,
 "nbformat_minor": 2
}
