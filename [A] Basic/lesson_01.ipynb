{
 "cells": [
  {
   "cell_type": "markdown",
   "metadata": {},
   "source": [
    "## 1-minute introduction to Jupyter ##\n",
    "\n",
    "A Jupyter notebook consists of cells. Each cell contains either text or code.\n",
    "\n",
    "A text cell will not have any text to the left of the cell. A code cell has `In [ ]:` to the left of the cell.\n",
    "\n",
    "If the cell contains code, you can edit it. Press <kbd>Enter</kbd> to edit the selected cell. While editing the code, press <kbd>Enter</kbd> to create a new line, or <kbd>Shift</kbd>+<kbd>Enter</kbd> to run the code. If you are not editing the code, select a cell and press <kbd>Ctrl</kbd>+<kbd>Enter</kbd> to run the code."
   ]
  },
  {
   "cell_type": "markdown",
   "metadata": {
    "nbgrader": {
     "cell_type": "markdown",
     "checksum": "e3f2546f975a44bbcc8ecac2a1e8711b",
     "grade": false,
     "grade_id": "cell-bc1e6616ebf9ca21",
     "locked": true,
     "schema_version": 3,
     "solution": false,
     "task": false
    }
   },
   "source": [
    "# Lesson 1: Python basic operators and data types\n",
    "\n",
    "Your graphical calculator is a computer. Before you can use it to perform calculations, you need to learn how to talk to it. You already know that pressing the <kbd>=</kbd> button after inputting an expression will give you a value.\n",
    "\n",
    "The calculator only gives you a few buttons, and it is very difficult for you to come up with an expression that it cannot handle. But for that reason, it can't do very much beyond simple calculations.\n",
    "\n",
    "The computer in front of you is different. You get an entire keyboard, and full access to all the letters, numbers, symbols, and control keys. How do you use it to talk to your computer so that it can perform really powerful computations for you?"
   ]
  },
  {
   "cell_type": "markdown",
   "metadata": {
    "nbgrader": {
     "cell_type": "markdown",
     "checksum": "6178545e3d039cfc81cdba273e09a07d",
     "grade": false,
     "grade_id": "cell-ae1d0c497b0a8de4",
     "locked": true,
     "schema_version": 3,
     "solution": false,
     "task": false
    }
   },
   "source": [
    "## Python basic operators for integers\n",
    "\n",
    "Python can understand basic mathematical operations. It can handle the following operations:\n",
    "\n",
    "- `+` = plus  \n",
    "- `-` = minus  \n",
    "- `*` = multiply  \n",
    "- `/` = divide  \n",
    "- `//` = floor-quotient (round down after division)\n",
    "- `**` = exponent (power)\n",
    "- `%` = modulo (remainder after division)\n",
    "\n",
    "Type the following expressions line by line in the code cell below and run them to see the result.  \n",
    "(Remember to press <kbd>Ctrl</kbd>+<kbd>Enter</kbd> with the cell selected to actually run the code.)\n",
    "\n",
    "1. `2 + 2`\n",
    "2. `(3 + 4) * 2` (Python follows mathematical order of operations)\n",
    "3. `5 / 2` (Python returns the result of division operations as a float; see next section)\n",
    "4. `5 // 2` (Python can return an integer result by rounding down the result; this is called a floored quotient)\n",
    "5. `-5 // 2` (Floor-division is always rounded towards minus infinity)\n",
    "6. `3 ** 2`\n",
    "7. `2 % 2`\n",
    "8. `5 % 4`\n",
    "\n",
    "Try other expressions too, to understand how the above operators work."
   ]
  },
  {
   "cell_type": "code",
   "execution_count": null,
   "metadata": {},
   "outputs": [],
   "source": [
    "# Try your code in this cell\n",
    "\n",
    "2 + 2"
   ]
  },
  {
   "cell_type": "markdown",
   "metadata": {
    "nbgrader": {
     "cell_type": "markdown",
     "checksum": "929891382a2651a9aebb17829f4f1e03",
     "grade": false,
     "grade_id": "cell-3a6fe27b6d81ef7a",
     "locked": true,
     "schema_version": 3,
     "solution": false,
     "task": false
    }
   },
   "source": [
    "If you tried to run multiple lines at the same time in the cell above, you might notice that only one result is returned. The Jupyter Notebook cell runs the code line by line, and outputs only the final result, overriding the last result.\n",
    "\n",
    "To produce multiple lines of output, we will need the <a href=\"lesson_01.ipynb#The-print()-function\">`print()` **function**</a> (covered later in this lesson).\n"
   ]
  },
  {
   "cell_type": "markdown",
   "metadata": {
    "nbgrader": {
     "cell_type": "markdown",
     "checksum": "6c59f06663dfa4eb283e575cb3bed8ac",
     "grade": false,
     "grade_id": "cell-1b6c669e016b1ea2",
     "locked": true,
     "schema_version": 3,
     "solution": false,
     "task": false
    }
   },
   "source": [
    "## Python data type: floats\n",
    "\n",
    "In Python, numbers with decimals are known as **floats**.\n",
    "\n",
    "Type the following expressions line by line in the code cell below and run them to see the result.\n",
    "\n",
    "1. type(2)\n",
    "2. type(2.0)\n",
    "\n",
    "The `type()` function will be covered <a href=\"lesson_01.ipynb#Python-Self-Help:-the-type()-function\">later in this lesson</a>."
   ]
  },
  {
   "cell_type": "code",
   "execution_count": null,
   "metadata": {},
   "outputs": [],
   "source": [
    "# Try your code in this cell\n",
    "\n",
    "type(2)"
   ]
  },
  {
   "cell_type": "markdown",
   "metadata": {
    "nbgrader": {
     "cell_type": "markdown",
     "checksum": "508b82ce644be6b53da2a5d2c2aacf39",
     "grade": false,
     "grade_id": "cell-65621968006cda2d",
     "locked": true,
     "schema_version": 3,
     "solution": false,
     "task": false
    }
   },
   "source": [
    "## Python basic operators for floats\n",
    "\n",
    "Python's operators work on floats as well.\n",
    "\n",
    "- `+` = plus  \n",
    "- `-` = minus  \n",
    "- `*` = multiply  \n",
    "- `/` = divide  \n",
    "- `**` = exponent (power)\n",
    "- `%` = modulo (remainder after division)\n",
    "\n",
    "Type these expressions yourself in the code cell below and run them to see the result.\n",
    "(Remember to press <kbd>Ctrl</kbd>+<kbd>Enter</kbd> with the cell selected to actually run the code.)\n",
    "\n",
    "1. `2 + 2.0` (Unlike with integers, in any operation involving a float, Python will cast the result as a float.)\n",
    "2. `(3 + 4) * 2.0` (Python follows mathematical order of operations for floats too)\n",
    "3. `4 / 2` (Python returns the result of division operations as a float, even if the answer can be represented as an integer.)\n",
    "4. `5.0 // 2` (Even floor-division returns a float.)\n",
    "5. `3.0 ** 2` (Even the power operator always returns a float result when either value is a float.)\n",
    "6. `2 % 2.0`\n",
    "7. `5 % 4.0`\n",
    "8. `5.0 / 0` (Python will raise a `ZeroDivisionError` when dividing by zero.)\n",
    "9. `5.0 % 0` (Python will raise a `ZeroDivisionError` with modulo zero.)"
   ]
  },
  {
   "cell_type": "code",
   "execution_count": null,
   "metadata": {},
   "outputs": [],
   "source": [
    "# Try your code in this cell\n",
    "\n"
   ]
  },
  {
   "cell_type": "markdown",
   "metadata": {
    "nbgrader": {
     "cell_type": "markdown",
     "checksum": "58af5a418886ecf52b3049c5d5594408",
     "grade": false,
     "grade_id": "cell-ebebf69c4f8e2735",
     "locked": true,
     "schema_version": 3,
     "solution": false,
     "task": false
    }
   },
   "source": [
    "## Variables\n",
    "\n",
    "It would be troublesome if you have to keep typing in all the values in a calculation. What if you need to use constants, such as pi? Python lets you *assign* a value to a **variable**.\n",
    "\n",
    "In Python, a variable needs a name. Variable names cannot begin with a number; they must begin with a letter or underscore (`_`). Variable names can use letters, numbers, and underscore.\n",
    "\n",
    "**Invalid variable name:** `2019_lessons`  \n",
    "**Valid variable name:** `_2019lessons`, `lesson2019`\n",
    "\n",
    "By convention, variables begin with lowercase letters.\n",
    "\n",
    "[Reserved keywords](https://docs.python.org/3.6/reference/lexical_analysis.html#keywords) cannot be used as variable names in Python. Attempting to do so will result in a `SyntaxError`."
   ]
  },
  {
   "cell_type": "markdown",
   "metadata": {
    "nbgrader": {
     "cell_type": "markdown",
     "checksum": "e924f67bee19cf331c7f0a2781a00082",
     "grade": false,
     "grade_id": "cell-ae242b409b809cce",
     "locked": true,
     "schema_version": 3,
     "solution": false,
     "task": false
    }
   },
   "source": [
    "## Assigning values to variables ##\n",
    "\n",
    "To view the value of a variable in the Python shell, just type its name and run the code in the cell.\n",
    "\n",
    "Run these expressions one by one in the code cell below and see the result.\n",
    "\n",
    "1. `num1 + 2`\n",
    "2. `num1 ** num1`\n",
    "3. `num2 = num1 + 2`"
   ]
  },
  {
   "cell_type": "code",
   "execution_count": null,
   "metadata": {},
   "outputs": [],
   "source": [
    "# The next line creates the variable num1.\n",
    "# Subsequent lines of code can access this value.\n",
    "num1 = 2 # Do not remove this line. Type your code below this line.\n",
    "\n",
    "num1 + 2"
   ]
  },
  {
   "cell_type": "markdown",
   "metadata": {
    "nbgrader": {
     "cell_type": "markdown",
     "checksum": "f1b0a8dcb7fbd7c17b026113d9294feb",
     "grade": false,
     "grade_id": "cell-3d8fe01f1e514590",
     "locked": true,
     "schema_version": 3,
     "solution": false,
     "task": false
    }
   },
   "source": [
    "Notice that line 3, `num2 = num1 + 2`, does not produce any output. But `num2` has been created, and a value assigned to it!\n",
    "\n",
    "Run the cell below to see:"
   ]
  },
  {
   "cell_type": "code",
   "execution_count": null,
   "metadata": {},
   "outputs": [],
   "source": [
    "# Try your code in this cell\n",
    "\n",
    "num2"
   ]
  },
  {
   "cell_type": "markdown",
   "metadata": {
    "nbgrader": {
     "cell_type": "markdown",
     "checksum": "4382d66d124c1f3420d2d794f6dfb94c",
     "grade": false,
     "grade_id": "cell-b8a5ac8db79478b6",
     "locked": true,
     "schema_version": 3,
     "solution": false,
     "task": false
    }
   },
   "source": [
    "You can assign any value to a variable in this way."
   ]
  },
  {
   "cell_type": "markdown",
   "metadata": {
    "nbgrader": {
     "cell_type": "markdown",
     "checksum": "5eaa42a330786cc05eccec1911de82a4",
     "grade": false,
     "grade_id": "cell-32ceb1b4ed37f417",
     "locked": true,
     "schema_version": 3,
     "solution": false,
     "task": false
    }
   },
   "source": [
    "## Inserting comments\n",
    "\n",
    "Did you see this part of the line? `# Do not remove this line. Type your code below this line.`\n",
    "\n",
    "Python ignores everything typed after a `#` in the line. You can use this to insert comments in your code. Comments can be used to make notes for yourself to understand your code later.\n",
    "\n",
    "By convention, Python programmers leave a space between the `#` and the comment text."
   ]
  },
  {
   "cell_type": "markdown",
   "metadata": {
    "nbgrader": {
     "cell_type": "markdown",
     "checksum": "b87aa311953b282a48ae4568bb13055f",
     "grade": false,
     "grade_id": "cell-7d4421b98d9ab227",
     "locked": true,
     "schema_version": 3,
     "solution": false,
     "task": false
    }
   },
   "source": [
    "## The `print()` function\n",
    "\n",
    "Python enables manipulation of data through **functions**.\n",
    "\n",
    "A function takes in zero, one, or more variables, and returns an output.\n",
    "\n",
    "To make Python **print** the result in the output, we can use the `print()` function. The print function requires an input variable to work. this input variable goes inside the parentheses of the `print()` function.\n",
    "\n",
    "Run the code cell below:"
   ]
  },
  {
   "cell_type": "code",
   "execution_count": null,
   "metadata": {},
   "outputs": [],
   "source": [
    "# Try your code in this cell\n",
    "\n",
    "num1 = 2\n",
    "print(num1)\n",
    "\n",
    "num2 = num1 + 2\n",
    "print(num2)\n",
    "\n",
    "num3 = num1 ** num1\n",
    "print(num3)"
   ]
  },
  {
   "cell_type": "markdown",
   "metadata": {
    "nbgrader": {
     "cell_type": "markdown",
     "checksum": "0af57030ecf2c4770efe02d08aab9621",
     "grade": false,
     "grade_id": "cell-e3d5b433b5c56568",
     "locked": true,
     "schema_version": 3,
     "solution": false,
     "task": false
    }
   },
   "source": [
    "Expected output:\n",
    "\n",
    "```\n",
    "2\n",
    "4\n",
    "4\n",
    "```\n",
    "\n",
    "Each `print()` function produces one line of output.\n",
    "\n",
    "You can also give a mathematical expression directly to the `print()` function. Run the code cell below:"
   ]
  },
  {
   "cell_type": "code",
   "execution_count": null,
   "metadata": {},
   "outputs": [],
   "source": [
    "# Try your code in this cell\n",
    "\n",
    "print(num1 + 2)"
   ]
  },
  {
   "cell_type": "markdown",
   "metadata": {
    "nbgrader": {
     "cell_type": "markdown",
     "checksum": "7f7a9338d1ed3cf1a4a226d562122a73",
     "grade": false,
     "grade_id": "cell-03eed2fd53a7c483",
     "locked": true,
     "schema_version": 3,
     "solution": false,
     "task": false
    }
   },
   "source": [
    "Python will **evaluate** the expression within the parentheses \"`()`\" first, and then send the result to the `print()` function."
   ]
  },
  {
   "cell_type": "markdown",
   "metadata": {
    "nbgrader": {
     "cell_type": "markdown",
     "checksum": "01ec3ac23edca6bf025d0ecbfe55a8f1",
     "grade": false,
     "grade_id": "cell-8be4e5eff6c6848e",
     "locked": true,
     "schema_version": 3,
     "solution": false,
     "task": false
    }
   },
   "source": [
    "## Constants\n",
    "\n",
    "Other programming languages have special variables known as **constants**. Constants are variables whose value **cannot be changed** after they are initially assigned.\n",
    "\n",
    "Python does not support such variables. Instead, by convention, constants are named in all-UPPERCASE. This is a hint to other Python developers that changing its value is a Very Bad Idea."
   ]
  },
  {
   "cell_type": "markdown",
   "metadata": {
    "nbgrader": {
     "cell_type": "markdown",
     "checksum": "ad55cb153536ec4001f93877222332a1",
     "grade": false,
     "grade_id": "cell-337e7213c8ace44b",
     "locked": true,
     "schema_version": 3,
     "solution": false,
     "task": false
    }
   },
   "source": [
    "## Exercise 1: Use a constant\n",
    "\n",
    "Use the constant `PI` below to calcuate the circumference of a circle with radius 1.3."
   ]
  },
  {
   "cell_type": "code",
   "execution_count": null,
   "metadata": {
    "nbgrader": {
     "cell_type": "code",
     "checksum": "e2233feeac991b326ac34bd851344c86",
     "grade": true,
     "grade_id": "cell-69386b5cadc6a2c6",
     "locked": false,
     "points": 1,
     "schema_version": 3,
     "solution": true,
     "task": false
    }
   },
   "outputs": [],
   "source": [
    "# Try your code in this cell\n",
    "\n",
    "PI = 3.14159 #Do not remove this line. Type your code below this line.\n",
    "\n",
    "# Complete the code below using the constant PI and\n",
    "# the variable r, and any appropriate operators\n",
    "r = 1.3\n",
    "circumference = #Write code here\n",
    "\n",
    "\n",
    "circumference"
   ]
  },
  {
   "cell_type": "markdown",
   "metadata": {
    "nbgrader": {
     "cell_type": "markdown",
     "checksum": "a59db4a843425a62d3a5c2723701b297",
     "grade": false,
     "grade_id": "cell-f37472d81becc1d0",
     "locked": true,
     "schema_version": 3,
     "solution": false,
     "task": false
    }
   },
   "source": [
    "## Python Self-Help: the `type()` function\n",
    "\n",
    "The `type()` function lets you examine a Python object and find out what type of object it is."
   ]
  },
  {
   "cell_type": "markdown",
   "metadata": {
    "nbgrader": {
     "cell_type": "markdown",
     "checksum": "f95844721493afeebe879a32eac3ec3d",
     "grade": false,
     "grade_id": "cell-7aa027cd1940abcf",
     "locked": true,
     "schema_version": 3,
     "solution": false,
     "task": false
    }
   },
   "source": [
    "## Python data type: string\n",
    "\n",
    "In the examples above, we were working only with numbers. One feature of Python that makes it very powerful is its ability to work with text as well.\n",
    "\n",
    "Text is stored as a string in Python. Python recognises anything between single-quotes `''` or double-quotes `\"\"` as a string.\n",
    "\n",
    "Run the following expressions one by one in the cell below:\n",
    "\n",
    "1. `type(1)` (This is an integer.)\n",
    "2. `type(1.0)` (This is a float. Decimal numbers are known as **float**s)\n",
    "3. `type('1')` (This is a string.)\n",
    "4. `type(\"1\")` (This is also a string.)\n",
    "5. `num1 = 1; type(num1)` (The variable `num1` has a value of `1` which is an integer.)\n",
    "6. `num1 = 1; type(\"num1\")` (Explain: Why does this say `str` even though num1 should be an integer?)"
   ]
  },
  {
   "cell_type": "code",
   "execution_count": null,
   "metadata": {},
   "outputs": [],
   "source": [
    "# Try your code in this cell\n",
    "\n",
    "type(1)"
   ]
  },
  {
   "cell_type": "markdown",
   "metadata": {
    "nbgrader": {
     "cell_type": "markdown",
     "checksum": "ba27e7a9a04dfcbbfb88a2cce5688fc4",
     "grade": false,
     "grade_id": "cell-bdf7218ff918d4bd",
     "locked": true,
     "schema_version": 3,
     "solution": false,
     "task": false
    }
   },
   "source": [
    "The `type()` function in Python tells you what type of data is contained in an object.\n",
    "\n",
    "Notice in expressions 5 and 6 that we can put two expressions in one line by separating them with a semicolon. This is not recommended practice, but you can use it in a pinch when using the Python interpreter."
   ]
  },
  {
   "cell_type": "markdown",
   "metadata": {
    "nbgrader": {
     "cell_type": "markdown",
     "checksum": "01110e5db4e2423b98ffd6e2813d80dc",
     "grade": false,
     "grade_id": "cell-d7becf85651e9e78",
     "locked": true,
     "schema_version": 3,
     "solution": false,
     "task": false
    }
   },
   "source": [
    "## Single or double quotes?\n",
    "\n",
    "Run the following lines one by one in the cell below:\n",
    "\n",
    "1. `print(\"This is a string.\")`\n",
    "2. `print(\"Is this a \"string\"?\")`\n",
    "3. `print(\"It's a string!\")`\n",
    "4. `print('What's a string?')`"
   ]
  },
  {
   "cell_type": "code",
   "execution_count": null,
   "metadata": {},
   "outputs": [],
   "source": [
    "# Try your code in this cell\n",
    "\n"
   ]
  },
  {
   "cell_type": "markdown",
   "metadata": {
    "nbgrader": {
     "cell_type": "markdown",
     "checksum": "98b739d3c7a4ec880c87d4424eef7664",
     "grade": false,
     "grade_id": "cell-4738295065e65af8",
     "locked": true,
     "schema_version": 3,
     "solution": false,
     "task": false
    }
   },
   "source": [
    "- single quotes may not be used within a single-quoted string.\n",
    "- double-quotes may not be used within a double-quoted string."
   ]
  },
  {
   "cell_type": "markdown",
   "metadata": {
    "nbgrader": {
     "cell_type": "markdown",
     "checksum": "61b1d12217f5388991458bf7c6a59d0c",
     "grade": false,
     "grade_id": "cell-fbf2baf0d1aee7ca",
     "locked": true,
     "schema_version": 3,
     "solution": false,
     "task": false
    }
   },
   "source": [
    "## Python string operators: `+`, `*`\n",
    "\n",
    "Run the following expressions one by one in the cell below:\n",
    "\n",
    "1. `\"This\" \"string\"` (Adjacent strings without any operators will be joined together.)\n",
    "2. `\"This\" + \" \" + \"string\"` (The `+` operator joins strings.)\n",
    "3. `\"This \" + \"joins \" + 3 + \"strings\"` (The `+` operator only works on expressions with integers *or* strings, but not both.)\n",
    "4. `\"This \" + \"joins \" + str(3) + \"strings\"` (The `str()` function converts integers and floats to strings.)\n",
    "5. `print(\"This\", \"joins\", 3, \"strings\")` (The `print()` function outputs multiple strings separated by a space, and **auto-converts other data types to strings**.)\n",
    "6. `\"This\" - \"joins\"` (Strings do not work with the `-` operator, or with `/`, `**` for that matter.)\n",
    "7. `print(\"Many\" * 3, \"strings\")` (Strings may be repeated with the `*` operator followed by an integer.)"
   ]
  },
  {
   "cell_type": "code",
   "execution_count": null,
   "metadata": {},
   "outputs": [],
   "source": [
    "# Try your code in this cell\n",
    "\n"
   ]
  },
  {
   "cell_type": "markdown",
   "metadata": {
    "nbgrader": {
     "cell_type": "markdown",
     "checksum": "7dc908b861dc0966a79a2d888e18f42f",
     "grade": false,
     "grade_id": "cell-1c23a06973d6567e",
     "locked": true,
     "schema_version": 3,
     "solution": false,
     "task": false
    }
   },
   "source": [
    "## Obtaining user input ##\n",
    "\n",
    "Sometimes, you need the user to give you some data for you to use in your program. One way to get simple input is using the `input()` function.\n",
    "\n",
    "Run the expression in the cell below without changing it. Type in different things in the input box and see what you get."
   ]
  },
  {
   "cell_type": "code",
   "execution_count": null,
   "metadata": {},
   "outputs": [],
   "source": [
    "# Try your code in this cell\n",
    "\n",
    "var = input('Type something: ')\n",
    "var_type = type(var)\n",
    "print('Your input is type', var_type)"
   ]
  },
  {
   "cell_type": "markdown",
   "metadata": {
    "nbgrader": {
     "cell_type": "markdown",
     "checksum": "32f40123d0591a4fc056aabdeeee5e96",
     "grade": false,
     "grade_id": "cell-983155ae9d31d1b0",
     "locked": true,
     "schema_version": 3,
     "solution": false,
     "task": false
    }
   },
   "source": [
    "Notice that input is always treated as a string, even if you only keyed in numbers. If you want numerical input, you will have to manually **cast** the input string to `int` using the `int()` function, or to `float` using the `float()` function.\n",
    "\n",
    "Run the cells below:"
   ]
  },
  {
   "cell_type": "code",
   "execution_count": null,
   "metadata": {},
   "outputs": [],
   "source": [
    "var = input('Type a number: ')\n",
    "int(var)"
   ]
  },
  {
   "cell_type": "code",
   "execution_count": null,
   "metadata": {},
   "outputs": [],
   "source": [
    "var = input('Type another number: ')\n",
    "float(var)"
   ]
  },
  {
   "cell_type": "markdown",
   "metadata": {
    "nbgrader": {
     "cell_type": "markdown",
     "checksum": "07bf173e1201ccc7e68706ac03b5cd39",
     "grade": false,
     "grade_id": "cell-64895b7a9847e54e",
     "locked": true,
     "schema_version": 3,
     "solution": false,
     "task": false
    }
   },
   "source": [
    "You can also convert `int` to `float`, or `float to `int`, using these functions.\n",
    "\n",
    "Run the cells below:"
   ]
  },
  {
   "cell_type": "code",
   "execution_count": null,
   "metadata": {},
   "outputs": [],
   "source": [
    "num = 2\n",
    "float(num)"
   ]
  },
  {
   "cell_type": "code",
   "execution_count": null,
   "metadata": {},
   "outputs": [],
   "source": [
    "num = 2.0\n",
    "int(num)"
   ]
  },
  {
   "cell_type": "markdown",
   "metadata": {
    "nbgrader": {
     "cell_type": "markdown",
     "checksum": "e1315c3a88101f82d0806c6aec049e1a",
     "grade": false,
     "grade_id": "cell-12c83ac0e0f04db3",
     "locked": true,
     "schema_version": 3,
     "solution": false,
     "task": false
    }
   },
   "source": [
    "You can cast numbers to strings using the `str()` function.\n",
    "\n",
    "What happens if you run the code in the below cell *without* the `str()` function?"
   ]
  },
  {
   "cell_type": "code",
   "execution_count": null,
   "metadata": {},
   "outputs": [],
   "source": [
    "var = 2\n",
    "new_var = str(var) #What happens if you remove the str() function from this line?\n",
    "print('The value of var is ' + new_var)"
   ]
  },
  {
   "cell_type": "markdown",
   "metadata": {
    "nbgrader": {
     "cell_type": "markdown",
     "checksum": "921917daf166916fabffd941d87d9cb8",
     "grade": false,
     "grade_id": "cell-5249de3f7eef9c69",
     "locked": true,
     "schema_version": 3,
     "solution": false,
     "task": false
    }
   },
   "source": [
    "Q1: Can the above code work if `var` is a float?"
   ]
  },
  {
   "cell_type": "markdown",
   "metadata": {
    "nbgrader": {
     "cell_type": "markdown",
     "checksum": "cede21f2a9e238945a046b590e84ef36",
     "grade": false,
     "grade_id": "cell-fe12b2174bf37b4b",
     "locked": true,
     "schema_version": 3,
     "solution": false,
     "task": false
    }
   },
   "source": [
    "## Python comparators ##\n",
    "\n",
    "Python provides a few **comparators** for comparing objects or variables.  \n",
    "The comparators return `True` if the expression is true, or `False` if the expression is false.\n",
    "\n",
    "The following operators are supported:\n",
    "\n",
    "- `a == b` (`a` equal to `b`)  \n",
    "- `a != b` (`a` not equal to `b`)  \n",
    "- `a < b` (`a` less than `b`)  \n",
    "- `a <= b` (`a` less than or equal to `b`)  \n",
    "- `a > b` (`a` greater than `b`)  \n",
    "- `a >= b` (`a` greater than or equal to `b`)\n",
    "\n",
    "Run the following expressions one by one in the cell below:\n",
    "\n",
    "1. `1 == 1` (Replace the `==` in this expression with the other comparators and see what result you get.)\n",
    "2. `1 == 2` (Replace the `==` in this expression with the other comparators and see what result you get.)\n",
    "3. `'a' = 'a'` (Comparators work on strings as well.)\n",
    "4. `'a' == 'A'` (lowercase and uppercase strings are treated differently.)\n",
    "5. `(1 + 4) != (2 + 3)` (Python can compare the result of expressions if they are enclosed in parentheses.)\n",
    "6. `1 + 4 == 2 + 3` (... and can do so even if they are not!)\n",
    "7. `'104' <= '1050'` (Try the comparators with strings. Are you surprised by the result? Can you figure out what the rule for comparing strings is?)"
   ]
  },
  {
   "cell_type": "code",
   "execution_count": null,
   "metadata": {},
   "outputs": [],
   "source": [
    "# Try your code in this cell\n",
    "\n"
   ]
  },
  {
   "cell_type": "markdown",
   "metadata": {
    "nbgrader": {
     "cell_type": "markdown",
     "checksum": "4de0a430943a7fd97b8ed97dc2e7ad0c",
     "grade": false,
     "grade_id": "cell-455b2d64cf498ff3",
     "locked": true,
     "schema_version": 3,
     "solution": false,
     "task": false
    }
   },
   "source": [
    "## Python booleans\n",
    "\n",
    "Notice that the result of each line above is always `True` or `False` (case-sensitive). These are special data types known as **booleans**. There are only two boolean values, and they are the reverse of each other.\n",
    "\n",
    "Run the following expressions one by one in the cell below:\n",
    "\n",
    "1. `type(True)` (booleans are a different data type fron integers, floats, and strings)\n",
    "2. `not True` (The keyword `not` in front of a Boolean reverses its value)\n",
    "3. `not(False)` (`not()` is available for use as a function)\n",
    "4. `int(True), int(False)` (`True` and `False` values are represented as the integers `1` and `0` when converted. You can cast booleans to `float` as well.)\n",
    "5. `str(True), str(False)` (Note that `True` and `False` are not strings. To use them with other strings, they must first be converted.)\n",
    "6. `type(true)` (`True` and `False` booleans are special keywords and must always start with uppercase. `true` and `false` will be treated as variables!)\n",
    "7. `True + 1` (When using booleans with operators, they are automatically casted to numerical values.)\n",
    "8. `print('This sentence is', True)` (When using booleans in sentences that autocast types to strings, `True` and `False` are casted as strings)"
   ]
  },
  {
   "cell_type": "code",
   "execution_count": null,
   "metadata": {},
   "outputs": [],
   "source": [
    "# Try your code in this cell\n",
    "\n"
   ]
  },
  {
   "cell_type": "markdown",
   "metadata": {
    "nbgrader": {
     "cell_type": "markdown",
     "checksum": "9d2f0e4abe488234456e019dead73613",
     "grade": false,
     "grade_id": "cell-8709de2157ea4e31",
     "locked": true,
     "schema_version": 3,
     "solution": false,
     "task": false
    }
   },
   "source": [
    "## Errors in Python: `SyntaxError`\n",
    "\n",
    "When Python is not able to carry out an operation in the code you typed, it will halt and raise an error.\n",
    "\n",
    "One common error you might encounter from running the code so far is `SyntaxError`. Syntax refers to the grammatical rules of the programming language. Some examples of syntax rules are below:\n",
    "\n",
    "1. The number of opening parentheses \"`(`\" must match the number of closing parentheses \"`)`\".\n",
    "3. Both sides of the assignment operator `=` must have a valid expression\n",
    "...\n",
    "\n",
    "and so on.\n",
    "\n",
    "A `SyntaxError` means there is a problem with your syntax and the Python interpreter is unable to understand your code.\n",
    "\n",
    "Run the following lines of code one by one and see what message is returned with `SyntaxError`:\n",
    "\n",
    "1. `num1 =` (This line is incomplete; `SyntaxError` will show you where the code terminated using a caret `^` character)\n",
    "2. `print(2 + 2` (This line has a missing closing parenthesis \"`)`\"; Python unexpectedly reached the **End Of File**, also known as **EOF**, before the code is complete.)"
   ]
  },
  {
   "cell_type": "code",
   "execution_count": null,
   "metadata": {},
   "outputs": [],
   "source": [
    "# Try your code in this cell\n",
    "print(2 + 2"
   ]
  }
 ],
 "metadata": {
  "celltoolbar": "Edit Metadata",
  "kernelspec": {
   "display_name": "Python 3 (ipykernel)",
   "language": "python",
   "name": "python3"
  },
  "language_info": {
   "codemirror_mode": {
    "name": "ipython",
    "version": 3
   },
   "file_extension": ".py",
   "mimetype": "text/x-python",
   "name": "python",
   "nbconvert_exporter": "python",
   "pygments_lexer": "ipython3",
   "version": "3.8.12"
  }
 },
 "nbformat": 4,
 "nbformat_minor": 2
}
