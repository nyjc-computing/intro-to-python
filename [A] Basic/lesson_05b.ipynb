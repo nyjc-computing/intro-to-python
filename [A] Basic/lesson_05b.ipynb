{
 "cells": [
  {
   "cell_type": "markdown",
   "metadata": {},
   "source": [
    "## 1-minute introduction to Jupyter ##\n",
    "\n",
    "A Jupyter notebook consists of cells. Each cell contains either text or code.\n",
    "\n",
    "A text cell will not have any text to the left of the cell. A code cell has `In [ ]:` to the left of the cell.\n",
    "\n",
    "If the cell contains code, you can edit it. Press <kbd>Enter</kbd> to edit the selected cell. While editing the code, press <kbd>Enter</kbd> to create a new line, or <kbd>Shift</kbd>+<kbd>Enter</kbd> to run the code. If you are not editing the code, select a cell and press <kbd>Ctrl</kbd>+<kbd>Enter</kbd> to run the code.\n",
    "\n",
    "On a tablet, use the ▶️ button to run the code."
   ]
  },
  {
   "cell_type": "markdown",
   "metadata": {
    "nbgrader": {
     "cell_type": "markdown",
     "checksum": "3aec9d60734e178b3249c7e7b399058e",
     "grade": false,
     "grade_id": "cell-42fc2d2bb7b50703",
     "locked": true,
     "schema_version": 3,
     "solution": false,
     "task": false
    }
   },
   "source": [
    "# Lesson 5b: File IO\n",
    "\n",
    "In lesson 5a, we looked at how to write functions that take in input data and return output data.\n",
    "\n",
    "This data has to come from someplace, and usually the output is also stored someplace else. Very often, the data will be read in from a text file, sometimes from a database, sometimes even from a server on the internet. And you will also need to store data into a file (the same way you save a Word document to a `.docx` file).\n",
    "\n",
    "Since such operations involve **in**put or **out**put of data, they are referred to as **In/Out** operations, or **IO** in short.\n",
    "\n",
    "Python provides a built-in function, `open()`, that lets you open text files for reading, writing, or appending (editing)."
   ]
  },
  {
   "cell_type": "markdown",
   "metadata": {
    "nbgrader": {
     "cell_type": "markdown",
     "checksum": "f2cd2b1ba13768bdda61a44acb366fda",
     "grade": false,
     "grade_id": "cell-825bf660d745a9d0",
     "locked": true,
     "schema_version": 3,
     "solution": false,
     "task": false
    }
   },
   "source": [
    "## The `open()` function\n",
    "\n",
    "    >>> help(open)\n",
    "    Help on built-in function open in module io:\n",
    "    \n",
    "    open(file, mode='r', ...)\n",
    "\n",
    "The `open()` function requires at least one argument: the filename.\n",
    "\n",
    "`open('data.txt', 'r')` will look in the current directory for a file named `data.txt` and open it for **r**eading; you will not be able to write data to it.\n",
    "\n",
    "`open('data.txt', 'w')` will open the `data.txt` file and **w**rite new data to it, overwriting any existing data. If `data.txt` does not exist, an empty file will first be created.\n",
    "\n",
    "`open('data.txt', 'a')` will open the `data.txt` file for **a**ppending, causing new data to be written after the last line of the existing file. If `data.txt` does not exist, an empty file will first be created.\n",
    "\n",
    "You can see that the second argument specifies the **mode** to open the file in.\n",
    "\n",
    "Arguments and their associated modes\n",
    "\n",
    "- `'r'` opens the file in **read** mode (no writing)\n",
    "- `'w'` opens the file in **write** mode (no reading)\n",
    "- `'x'` creates a new file and opens it for writing (if file doesn't exist)\n",
    "- `'a'` opens the file for writing in **append** mode\n",
    "- `'+'` opens the file for both reading and writing\n",
    "\n",
    "There are also two modes that differ in the way data is read: text or binary.\n",
    "\n",
    "- `'t'` opens the file in **text** mode (this is the default way to read data)\n",
    "- `'b'` opens the file in **binary** mode\n",
    "\n",
    "See `help(open)` for more details on usage. There are other optional arguments for advanced users, which we will not need."
   ]
  },
  {
   "cell_type": "markdown",
   "metadata": {
    "nbgrader": {
     "cell_type": "markdown",
     "checksum": "7ebf2450e2bdc343d8eaf414d1e6bbb1",
     "grade": false,
     "grade_id": "cell-ad0119bdcbd6b19d",
     "locked": true,
     "schema_version": 3,
     "solution": false,
     "task": false
    }
   },
   "source": [
    "## Opening a text file for reading\n",
    "\n",
    "In more advanced Python programs, we may have multiple files open. For example, there may be one file to store settings (`settings.ini`), one file to store logs for troubleshooting (`errors.log`), and other files which users of the program may be working on (`mydocument.doc`).\n",
    "\n",
    "Each file that is opened has a **file handle** associated with it. A file handle is (you guessed it) another Python object, with its own attributes and methods.\n",
    "\n",
    "Run the code cell below to examine the output from `type()` and `dir()`:"
   ]
  },
  {
   "cell_type": "code",
   "execution_count": null,
   "metadata": {},
   "outputs": [],
   "source": [
    "file_handle = open('data.txt', 'w')\n",
    "\n",
    "print(f'type: {type(file_handle)}')\n",
    "print(f'attributes and methods: {dir(file_handle)}')\n",
    "file_handle.close()"
   ]
  },
  {
   "cell_type": "markdown",
   "metadata": {
    "nbgrader": {
     "cell_type": "markdown",
     "checksum": "4e91e339ca78e524ab859379297c7cfc",
     "grade": false,
     "grade_id": "cell-46594b060ce09c31",
     "locked": true,
     "schema_version": 3,
     "solution": false,
     "task": false
    }
   },
   "source": [
    "The methods `read()`, `readline()`, and `readlines()` in `file_handle` each serve a different purpose.\n",
    "\n",
    "Run each code cell below. Using any necessary code, examine the `data` variable and explain what each method does.\n",
    "\n",
    "What argument(s) does it require? What output does it produce?\n",
    "\n",
    "You can open `words.txt` in another window and compare the output to discern the function of `read()`."
   ]
  },
  {
   "cell_type": "code",
   "execution_count": null,
   "metadata": {},
   "outputs": [],
   "source": [
    "file_handle = open('words.txt', 'r')\n",
    "data = file_handle.read()\n",
    "file_handle.close()\n",
    "\n",
    "# Write any additional code you need below this line, to examine data\n"
   ]
  },
  {
   "cell_type": "markdown",
   "metadata": {
    "nbgrader": {
     "cell_type": "markdown",
     "checksum": "2fde407b6c83fbf1ffa4801864d8b293",
     "grade": false,
     "grade_id": "cell-aead19c374849b5b",
     "locked": true,
     "schema_version": 3,
     "solution": false,
     "task": false
    }
   },
   "source": [
    "Q1: What does the `read()` method of `file_handle` do?"
   ]
  },
  {
   "cell_type": "markdown",
   "metadata": {
    "nbgrader": {
     "cell_type": "markdown",
     "checksum": "0b1285426b666f5803518f7be49bbc90",
     "grade": true,
     "grade_id": "cell-6274feb3284ff999",
     "locked": false,
     "points": 1,
     "schema_version": 3,
     "solution": true,
     "task": false
    }
   },
   "source": [
    "A1:\n",
    "YOUR ANSWER HERE"
   ]
  },
  {
   "cell_type": "code",
   "execution_count": null,
   "metadata": {},
   "outputs": [],
   "source": [
    "data = [] # Initialise empty array\n",
    "file_handle = open('words.txt', 'r')\n",
    "data.append(file_handle.readline())\n",
    "data.append(file_handle.readline())\n",
    "data.append(file_handle.readline())\n",
    "data.append(file_handle.readline())\n",
    "data.append(file_handle.readline())\n",
    "file_handle.close()\n",
    "\n",
    "# Write any additional code you need below this line, to examine data\n"
   ]
  },
  {
   "cell_type": "markdown",
   "metadata": {
    "nbgrader": {
     "cell_type": "markdown",
     "checksum": "e49ffb39309cf8036bd7982d50c48f1e",
     "grade": false,
     "grade_id": "cell-01297cfb3eda38a6",
     "locked": true,
     "schema_version": 3,
     "solution": false,
     "task": false
    }
   },
   "source": [
    "Q2: What does the `readline()` method of `file_handle` do?"
   ]
  },
  {
   "cell_type": "markdown",
   "metadata": {
    "nbgrader": {
     "cell_type": "markdown",
     "checksum": "9bb7bc32903b3056dc4261afe0cd03fe",
     "grade": true,
     "grade_id": "cell-7c9e65d98c78fad4",
     "locked": false,
     "points": 1,
     "schema_version": 3,
     "solution": true,
     "task": false
    }
   },
   "source": [
    "A2:\n",
    "YOUR ANSWER HERE"
   ]
  },
  {
   "cell_type": "code",
   "execution_count": null,
   "metadata": {},
   "outputs": [],
   "source": [
    "file_handle = open('words.txt', 'r')\n",
    "data = file_handle.readlines()\n",
    "file_handle.close()\n",
    "\n",
    "# Write any additional code you need below this line, to examine data\n"
   ]
  },
  {
   "cell_type": "markdown",
   "metadata": {
    "nbgrader": {
     "cell_type": "markdown",
     "checksum": "cf6a071c32358ec24c314779e984b8e9",
     "grade": false,
     "grade_id": "cell-85892de5889da36e",
     "locked": true,
     "schema_version": 3,
     "solution": false,
     "task": false
    }
   },
   "source": [
    "Q3: What does the `readlines()` method of `file_handle` do?"
   ]
  },
  {
   "cell_type": "markdown",
   "metadata": {
    "nbgrader": {
     "cell_type": "markdown",
     "checksum": "f5fc1c7755f32d11bdb445131575e5a0",
     "grade": true,
     "grade_id": "cell-dd57cc11e9d0221d",
     "locked": false,
     "points": 1,
     "schema_version": 3,
     "solution": true,
     "task": false
    }
   },
   "source": [
    "A3:\n",
    "YOUR ANSWER HERE"
   ]
  },
  {
   "cell_type": "markdown",
   "metadata": {
    "nbgrader": {
     "cell_type": "markdown",
     "checksum": "544836aca31ae47d3b3386c2ac23ed5b",
     "grade": false,
     "grade_id": "cell-60896d92b89530da",
     "locked": true,
     "schema_version": 3,
     "solution": false,
     "task": false
    }
   },
   "source": [
    "### Python conventions: file handle naming\n",
    "\n",
    "If you are going to keep a file open for a long time and need to use the file handle in multiple functions, it is good practice to give the file handle a useful, descriptive variable name, such as `data_file`, `settings_file`, etc.\n",
    "\n",
    "However, if you are only opening the file to read in data and then closing the file immediately (with the `close()` method of the file handle), such as in the examples above, it is acceptable (and common) to use a short variable name, often `f` or `f_handle`.\n",
    "\n",
    "In the rest of the examples, we will be using `f` as a file handle name for quick file reading/writing."
   ]
  },
  {
   "cell_type": "markdown",
   "metadata": {
    "nbgrader": {
     "cell_type": "markdown",
     "checksum": "bb72f5ba3d6456af25f725d0008b82f2",
     "grade": false,
     "grade_id": "cell-a3bfbb5ae0357a91",
     "locked": true,
     "schema_version": 3,
     "solution": false,
     "task": false
    }
   },
   "source": [
    "## Opening a text file for writing\n",
    "\n",
    "The file handle has two methods for writing data to a file: `write()` and `writelines()`.\n",
    "\n",
    "Run each code cell below. Using any necessary code, examine the file `fruits.txt` that is created in the same directory, and explain what each method does. What argument(s) does it require? What output does it produce?"
   ]
  },
  {
   "cell_type": "code",
   "execution_count": null,
   "metadata": {},
   "outputs": [],
   "source": [
    "fruit = ['apple', 'banana', 'cherry', 'durian', 'elderberry']\n",
    "\n",
    "f = open('fruits.txt', 'w')\n",
    "for each in fruit:\n",
    "    f.write(each)\n",
    "f.close()"
   ]
  },
  {
   "cell_type": "markdown",
   "metadata": {
    "nbgrader": {
     "cell_type": "markdown",
     "checksum": "2fc36cdae12543d7a0e7f47f48a134a6",
     "grade": false,
     "grade_id": "cell-5942b9533384b0fc",
     "locked": true,
     "schema_version": 3,
     "solution": false,
     "task": false
    }
   },
   "source": [
    "Q4: What does the `write()` method of `f` do?"
   ]
  },
  {
   "cell_type": "markdown",
   "metadata": {
    "nbgrader": {
     "cell_type": "markdown",
     "checksum": "22fdd6653f961a9d59b1bebc74ca59ec",
     "grade": true,
     "grade_id": "cell-f7681ad4aef6bb35",
     "locked": false,
     "points": 1,
     "schema_version": 3,
     "solution": true,
     "task": false
    }
   },
   "source": [
    "A4:\n",
    "YOUR ANSWER HERE"
   ]
  },
  {
   "cell_type": "code",
   "execution_count": null,
   "metadata": {},
   "outputs": [],
   "source": [
    "fruit = ['apple', 'banana', 'cherry', 'durian', 'elderberry']\n",
    "\n",
    "f = open('fruits.txt', 'w')\n",
    "f.writelines(fruit)\n",
    "f.close()"
   ]
  },
  {
   "cell_type": "markdown",
   "metadata": {
    "nbgrader": {
     "cell_type": "markdown",
     "checksum": "f1fefc6136ab935e88c1928ccd25651c",
     "grade": false,
     "grade_id": "cell-eba80712f3ea7619",
     "locked": true,
     "schema_version": 3,
     "solution": false,
     "task": false
    }
   },
   "source": [
    "Q5: What does the `writelines()` method of `f` do?"
   ]
  },
  {
   "cell_type": "markdown",
   "metadata": {
    "nbgrader": {
     "cell_type": "markdown",
     "checksum": "6ce96c65fe437af42aeebbd0bad2a6be",
     "grade": true,
     "grade_id": "cell-246ef7815f971770",
     "locked": false,
     "points": 1,
     "schema_version": 3,
     "solution": true,
     "task": false
    }
   },
   "source": [
    "A5:\n",
    "YOUR ANSWER HERE"
   ]
  },
  {
   "cell_type": "markdown",
   "metadata": {
    "nbgrader": {
     "cell_type": "markdown",
     "checksum": "d530cd08294681a33345aaa7ce6b696a",
     "grade": false,
     "grade_id": "cell-d5a3e9945ef42b61",
     "locked": true,
     "schema_version": 3,
     "solution": false,
     "task": false
    }
   },
   "source": [
    "## Special characters: `\\n` et al.\n",
    "\n",
    "From the above tasks, you would have noticed the `\\n`s that came from the output of the `read()` method.\n",
    "\n",
    "When Python reads in data from a text file, the data is just one long string of text. How does it know where the next line begins?\n",
    "\n",
    "Text format follows a specification known as [ASCII](http://www.asciitable.com/), which not only specifies how to store letters, numbers, and symbols, but also special function characters. We will learn more about ASCII in a future lesson. Some of these special function characters are listed below.\n",
    "\n",
    "- newline character (`\\n`)\n",
    "- tab character (`\\t`)\n",
    "- backspace (`\\b`)\n",
    "- carriage return (`\\r`)\n",
    "\n",
    "These special function characters can be invoked through the use of the **escape character** '`\\`'. This enables us to use symbols that we wouldn't otherwise be able to use.\n",
    "\n",
    "Try each of the follow lines of code one by one in the code cell below to see examples of how to print special characters using the escape character. Doing so is known as **escaping** the character.\n",
    "\n",
    "1. `print('That\\'s great!')`  \n",
    "   (To use a single-quote or double-quote in a string, you have to escape the quote so that it does not get interpreted as ending the string.)\n",
    "2. `print('Great job!\\b?')`\n",
    "   (The backspace character deletes the previous character and moves the cursor back by one.)\n",
    "3. `print('Heading 1\\tHeading 2\\tHeading 3')`  \n",
    "   (The tab character moves the cursor to the next alignment mark. Useful for printing text-only tables.)\n",
    "4. `print('Line 1\\nLine 2\\nLine 3')`\n",
    "   (The newline character moves the cursor to the next line and resets its horizontal position to the left.)\n",
    "5. `print('The special character \\\\')`\n",
    "   (Since `\\` itself is a special character, if we want to print it in a string, we need to escape it too.)"
   ]
  },
  {
   "cell_type": "code",
   "execution_count": null,
   "metadata": {},
   "outputs": [],
   "source": [
    "# Try your code here\n",
    "\n"
   ]
  },
  {
   "cell_type": "markdown",
   "metadata": {
    "nbgrader": {
     "cell_type": "markdown",
     "checksum": "f28df4983122c0231eb2de845d3708e0",
     "grade": false,
     "grade_id": "cell-ac58558f751777a2",
     "locked": true,
     "schema_version": 3,
     "solution": false,
     "task": false
    }
   },
   "source": [
    "All those `\\n`s from the `read()` method? Those indicated where the file should move to the next line.\n",
    "\n",
    "Did you wonder why the `write()` and `writelines()` methods printed all 5 fruits to `fruits.txt` in a single line? That's because we didn't print an `\\n` between each fruit. To have each fruit on a new line, we need to print a `\\n` after each fruit.\n",
    "\n",
    "Complete the program code below by replacing the underscores (`_____`) with an appropriate expression or variable, so that it writes each fruit to a separate line in the text file:"
   ]
  },
  {
   "cell_type": "code",
   "execution_count": null,
   "metadata": {
    "nbgrader": {
     "cell_type": "code",
     "checksum": "8080aafee7bf3fc3beb88985858b6167",
     "grade": true,
     "grade_id": "cell-72e5db523638e8bc",
     "locked": false,
     "points": 1,
     "schema_version": 3,
     "solution": true,
     "task": false
    }
   },
   "outputs": [],
   "source": [
    "fruit = ['apple', 'banana', 'cherry', 'durian', 'elderberry']\n",
    "\n",
    "f = open('fruits.txt', 'w')\n",
    "for each in fruit:\n",
    "    f.write(each)\n",
    "    f.write(_____)\n",
    "f.close()\n"
   ]
  },
  {
   "cell_type": "markdown",
   "metadata": {
    "nbgrader": {
     "cell_type": "markdown",
     "checksum": "9752b10262116e31464162652eba743c",
     "grade": false,
     "grade_id": "cell-10c9b302ad0589b8",
     "locked": true,
     "schema_version": 3,
     "solution": false,
     "task": false
    }
   },
   "source": [
    "### Task 1: Tab-delimited output\n",
    "\n",
    "Modify the code cell below so that it produces a text file with the fruits separated by tabs instead of newlines.\n",
    "\n",
    "#### Example output\n",
    "\n",
    "    apple\tbanana\tcherry\tdurian\telderberry\t"
   ]
  },
  {
   "cell_type": "code",
   "execution_count": null,
   "metadata": {
    "nbgrader": {
     "cell_type": "code",
     "checksum": "141143d425ae016c6712f04b05f1bda6",
     "grade": true,
     "grade_id": "cell-5f1bf5d53296bc20",
     "locked": false,
     "points": 1,
     "schema_version": 3,
     "solution": true,
     "task": false
    }
   },
   "outputs": [],
   "source": [
    "fruit = ['apple', 'banana', 'cherry', 'durian', 'elderberry']\n",
    "\n",
    "f = open('fruits.txt', 'w')\n",
    "for each in fruit:\n",
    "    f.write(each)\n",
    "    f.write(_____)\n",
    "f.close()\n"
   ]
  },
  {
   "cell_type": "markdown",
   "metadata": {
    "nbgrader": {
     "cell_type": "markdown",
     "checksum": "789c178711380ddcff339e555cd5fedd",
     "grade": false,
     "grade_id": "cell-ecb242cc33def875",
     "locked": true,
     "schema_version": 3,
     "solution": false,
     "task": false
    }
   },
   "source": [
    "### Task 2: Comma-delimited output\n",
    "\n",
    "Modify the code cell below so that it produces a text file with the fruits separated by commas instead of newlines.\n",
    "\n",
    "#### Example output\n",
    "\n",
    "    apple,banana,cherry,durian,elderberry"
   ]
  },
  {
   "cell_type": "code",
   "execution_count": null,
   "metadata": {
    "nbgrader": {
     "cell_type": "code",
     "checksum": "ac5c7bb55c3468780c40961802bf4000",
     "grade": true,
     "grade_id": "cell-3b130ef61c74b757",
     "locked": false,
     "points": 1,
     "schema_version": 3,
     "solution": true,
     "task": false
    }
   },
   "outputs": [],
   "source": [
    "fruit = ['apple', 'banana', 'cherry', 'durian', 'elderberry']\n",
    "\n",
    "f = open('fruits.txt', 'w')\n",
    "for each in fruit:\n",
    "    f.write(each)\n",
    "    f.write(_____)\n",
    "f.close()\n"
   ]
  },
  {
   "cell_type": "markdown",
   "metadata": {
    "nbgrader": {
     "cell_type": "markdown",
     "checksum": "c54cb29ad65a3ca639109d8b49403de5",
     "grade": false,
     "grade_id": "cell-552c1dd6e6890102",
     "locked": true,
     "schema_version": 3,
     "solution": false,
     "task": false
    }
   },
   "source": [
    "## Iterating over the file handle\n",
    "\n",
    "The `readline()` method only reads in one line and moves the cursor to the next line. That makes it difficult to read in all data unless we know how many lines there are in the file.\n",
    "\n",
    "For convenience, when in text mode (`'t'`), Python file handles can also be iterated over using a `for` loop. Each iteration returns a value that is equivalent to the output from `readline()`.  \n",
    "(Run the code cell below.)"
   ]
  },
  {
   "cell_type": "code",
   "execution_count": null,
   "metadata": {},
   "outputs": [],
   "source": [
    "data = [] # Initialise empty array\n",
    "f = open('words.txt', 'r')\n",
    "for line in f:\n",
    "    data.append(line)\n",
    "f.close()\n",
    "\n",
    "data"
   ]
  },
  {
   "cell_type": "markdown",
   "metadata": {
    "nbgrader": {
     "cell_type": "markdown",
     "checksum": "77938e7519e5ec03aa2b3de81127d862",
     "grade": false,
     "grade_id": "cell-1ead6eef93f1a55f",
     "locked": true,
     "schema_version": 3,
     "solution": false,
     "task": false
    }
   },
   "source": [
    "Each `line` is equivalent to the output from `f.readline()`, and the final list object `data` is equivalent to the output from `f.readlines()`. "
   ]
  },
  {
   "cell_type": "markdown",
   "metadata": {
    "nbgrader": {
     "cell_type": "markdown",
     "checksum": "ffd4ef81c396cc7a1aca91ddd6123991",
     "grade": false,
     "grade_id": "cell-a1e0ff619dd414f2",
     "locked": true,
     "schema_version": 3,
     "solution": false,
     "task": false
    }
   },
   "source": [
    "## Stripping whitespace\n",
    "\n",
    "To get rid of the trailing newline `\\n`, use the `strip()` string method. Newlines (`\\n`) and tabs (`\\t`) are treated as whitespace and will be removed.\n",
    "(Run the code cell below.)"
   ]
  },
  {
   "cell_type": "code",
   "execution_count": null,
   "metadata": {},
   "outputs": [],
   "source": [
    "data = [] # Initialise empty array\n",
    "f = open('words.txt', 'r')\n",
    "for line in f:\n",
    "    data.append(line.strip())\n",
    "f.close()\n",
    "\n",
    "data"
   ]
  },
  {
   "cell_type": "markdown",
   "metadata": {
    "nbgrader": {
     "cell_type": "markdown",
     "checksum": "23e531b0694628ba93fae51397cf4446",
     "grade": false,
     "grade_id": "cell-c3665a9e7f98274a",
     "locked": true,
     "schema_version": 3,
     "solution": false,
     "task": false
    }
   },
   "source": [
    "## Appending to a file\n",
    "\n",
    "Notice that each time you open `fruits.txt` in `'w'` mode, the old data is wiped out. You don't always want this; sometimes you just want to add more data at the end.\n",
    "\n",
    "To do so, you need to open the file in `'a'` mode. Run the code cell below to see how it works."
   ]
  },
  {
   "cell_type": "code",
   "execution_count": null,
   "metadata": {},
   "outputs": [],
   "source": [
    "# Let's reset the state of fruits.txt first\n",
    "fruit = ['apple', 'banana', 'cherry', 'durian', 'elderberry']\n",
    "\n",
    "# Write these fruits to fruits.txt\n",
    "f = open('fruits.txt', 'w')\n",
    "for each in fruit:\n",
    "    f.write(each)\n",
    "    f.write('\\n')\n",
    "f.close()\n",
    "\n",
    "# Let's append some data after the last line\n",
    "more_fruits = ['figs', 'guava', 'honeydew']\n",
    "f = open('fruits.txt', 'a')\n",
    "for each in more_fruits:\n",
    "    f.write(each)\n",
    "    f.write('\\n')\n",
    "f.close()"
   ]
  },
  {
   "cell_type": "markdown",
   "metadata": {
    "nbgrader": {
     "cell_type": "markdown",
     "checksum": "a49b529825fe54323c5b052979c9d888",
     "grade": false,
     "grade_id": "cell-76c348aba3c30947",
     "locked": true,
     "schema_version": 3,
     "solution": false,
     "task": false
    }
   },
   "source": [
    "# File locks and file handles"
   ]
  },
  {
   "cell_type": "markdown",
   "metadata": {
    "nbgrader": {
     "cell_type": "markdown",
     "checksum": "38c738dbf78187e915332b1ca294c62b",
     "grade": false,
     "grade_id": "cell-cd66fd6e1cf4773a",
     "locked": true,
     "schema_version": 3,
     "solution": false,
     "task": false
    }
   },
   "source": [
    "## Context managers: the `with` keyword\n",
    "\n",
    "In Python, you often work with items that need to be closed properly, such as file handles. There are other things you may need to work in future with that also need proper closing, such as\n",
    "\n",
    "- network sockets and connections\n",
    "- databases\n",
    "- execution threads for parallel processing\n",
    "\n",
    "If you forget to `close()` the file handle, you may end up hogging resources, or cause a program to hang.\n",
    "\n",
    "Python has a feature, called a **context manager**, to help you automatically close any open resources once your code is done with them. This feature can be used for file handles too.\n",
    "\n",
    "The context manager is invoked using the `with` keyword.\n",
    "\n",
    "### Using `with` for opening files\n",
    "\n",
    "This block of code:\n",
    "\n",
    "    f = open('words.txt', 'r')\n",
    "    data = f.readlines()\n",
    "    f.close()\n",
    "\n",
    "is equivalent to this:\n",
    "\n",
    "    with open('words.txt', 'r') as f:\n",
    "        data = f.readlines()\n",
    "\n",
    "`f.close()` does not need to be called explicitly, because upon reaching the end of the `with` code block, Python will call it automatically.\n",
    "\n",
    "To ensure you do not run into any problems due to file-locking, it is good practice to always open files using the `with` statement, unless you have good reasons not to do so."
   ]
  },
  {
   "cell_type": "markdown",
   "metadata": {
    "nbgrader": {
     "cell_type": "markdown",
     "checksum": "38c738dbf78187e915332b1ca294c62b",
     "grade": false,
     "grade_id": "cell-cd66fd6e1cf4773a",
     "locked": true,
     "schema_version": 3,
     "solution": false,
     "task": false
    }
   },
   "source": [
    "### Task 3: Refactoring\n",
    "\n",
    "The act of rewriting code to better organise it is known as **refactoring**.\n",
    "\n",
    "Refactor the code cell below to use the `with` statement: "
   ]
  },
  {
   "cell_type": "code",
   "execution_count": null,
   "metadata": {
    "nbgrader": {
     "cell_type": "code",
     "checksum": "b9a22c411bd36450e2c03cdb8a3878d4",
     "grade": true,
     "grade_id": "cell-168ab7368da7d3e9",
     "locked": false,
     "points": 1,
     "schema_version": 3,
     "solution": true,
     "task": false
    }
   },
   "outputs": [],
   "source": [
    "# Let's reset the state of fruits.txt first\n",
    "fruit = ['apple', 'banana', 'cherry', 'durian', 'elderberry']\n",
    "\n",
    "f = open('fruits.txt', 'w')\n",
    "for each in fruit:\n",
    "    f.write(each)\n",
    "    f.write('\\n')\n",
    "f.close()\n",
    "\n",
    "# Let's append some data after the last line\n",
    "more_fruits = ['figs', 'guava', 'honeydew']\n",
    "\n",
    "f = open('fruits.txt', 'a')\n",
    "for each in more_fruits:\n",
    "    f.write(each)\n",
    "    f.write('\\n')\n",
    "f.close()\n"
   ]
  },
  {
   "cell_type": "markdown",
   "metadata": {
    "nbgrader": {
     "cell_type": "markdown",
     "checksum": "06ec3c1b99f3a4505b355691b309814e",
     "grade": false,
     "grade_id": "cell-38fe47d4b33f5eab",
     "locked": true,
     "schema_version": 3,
     "solution": false,
     "task": false
    }
   },
   "source": [
    "## Useful string methods: `split()`, `join()`\n",
    "\n",
    "The [Comma-Separated Values](https://en.wikipedia.org/wiki/Comma-separated_values) format (**CSV**) is a popular format for storing organised data, such as those from spreadsheets or databases.\n",
    "\n",
    "In this format, each row of data is stored on a new line, while values from each cell within the row are separated by commas (`,`). In some variations, tabs (`\\t`) or semicolons (`;`) may also be used. The separating symbol is known as a **delimiter** (_delimit_ (verb): \"determine the limits or boundaries of\").\n",
    "\n",
    "The `split()` method from strings comes in very handy for parsing each item of data from the entire line.\n",
    "\n",
    "### The `split()` string method\n",
    "\n",
    "Run the code cell below to understand how the `split()` method works:"
   ]
  },
  {
   "cell_type": "code",
   "execution_count": null,
   "metadata": {},
   "outputs": [],
   "source": [
    "line = 'data1,data2,data3,data4,data5'\n",
    "\n",
    "line.split(',')"
   ]
  },
  {
   "cell_type": "markdown",
   "metadata": {
    "nbgrader": {
     "cell_type": "markdown",
     "checksum": "b508d498e4376561f5c0fa8ee04a191b",
     "grade": false,
     "grade_id": "cell-0cd83308b647e9cb",
     "locked": true,
     "schema_version": 3,
     "solution": false,
     "task": false
    }
   },
   "source": [
    "Notice that the output of `split()` is a `list`, not a string. Each item that is separated by a comma (`,`) is now an element of the list."
   ]
  },
  {
   "cell_type": "markdown",
   "metadata": {
    "nbgrader": {
     "cell_type": "markdown",
     "checksum": "0ea799656c400867fb5d6d0aa6d98fc2",
     "grade": false,
     "grade_id": "cell-bf15e42c77466227",
     "locked": true,
     "schema_version": 3,
     "solution": false,
     "task": false
    }
   },
   "source": [
    "### The `join()` string method\n",
    "\n",
    "Run the code cell below to understand how the `join()` method works:"
   ]
  },
  {
   "cell_type": "code",
   "execution_count": null,
   "metadata": {},
   "outputs": [],
   "source": [
    "line = ['data1', 'data2', 'data3', 'data4', 'data5']\n",
    "\n",
    "','.join(line)"
   ]
  },
  {
   "cell_type": "markdown",
   "metadata": {
    "nbgrader": {
     "cell_type": "markdown",
     "checksum": "f15709999c9b551dd13fc96802261634",
     "grade": false,
     "grade_id": "cell-1a83fae3b92420ce",
     "locked": true,
     "schema_version": 3,
     "solution": false,
     "task": false
    }
   },
   "source": [
    "With `split()`, we called the method from `line` which was a string. However, with `join()`, the variable `line` is not a string but a list! It would not have access to the `join()` method.\n",
    "\n",
    "So we call `join()` from the string that we use to **join** the elements of `list`. `join()` must take in a list as its argument, and it returns a string output."
   ]
  },
  {
   "cell_type": "markdown",
   "metadata": {
    "nbgrader": {
     "cell_type": "markdown",
     "checksum": "4f20fe4a25c6a2726ebb32dbdfa6d3f5",
     "grade": false,
     "grade_id": "cell-d59fca04dbb14df9",
     "locked": true,
     "schema_version": 3,
     "solution": false,
     "task": false
    }
   },
   "source": [
    "## Reading CSV data into a nested list\n",
    "\n",
    "One way to parse CSV data into Python is in the form of a **nested list**.  \n",
    "(Run the code cell below.)"
   ]
  },
  {
   "cell_type": "code",
   "execution_count": null,
   "metadata": {},
   "outputs": [],
   "source": [
    "data = []\n",
    "with open('grades.csv', 'r') as f:\n",
    "    for line in f:\n",
    "        row_list = line.strip().split(',')\n",
    "        data.append(row_list)\n",
    "        \n",
    "data"
   ]
  },
  {
   "cell_type": "markdown",
   "metadata": {
    "nbgrader": {
     "cell_type": "markdown",
     "checksum": "1dc90a5c7cffd0762145b96e1ea6441f",
     "grade": false,
     "grade_id": "cell-76f081dfd02155cd",
     "locked": true,
     "schema_version": 3,
     "solution": false,
     "task": false
    }
   },
   "source": [
    "Notice the **two levels of lists**. Each inner list represents one line of data, while the outer list contains each inner list as an element.\n",
    "\n",
    "How are we going to get data out of this nested list? We will need two indexes.\n",
    "\n",
    "The first index selects the inner list to access:  \n",
    "(Run the code cell below.)"
   ]
  },
  {
   "cell_type": "code",
   "execution_count": null,
   "metadata": {},
   "outputs": [],
   "source": [
    "# Replace the underscores (_____) with an appropriate expression\n",
    "# to print each line of data\n",
    "\n",
    "for _____ in range(_____):\n",
    "    print(_____)"
   ]
  },
  {
   "cell_type": "markdown",
   "metadata": {
    "nbgrader": {
     "cell_type": "markdown",
     "checksum": "4ced6ad683b63393883f27a0aaebcc9d",
     "grade": false,
     "grade_id": "cell-318ad252d9ab7be5",
     "locked": true,
     "schema_version": 3,
     "solution": false,
     "task": false
    }
   },
   "source": [
    "`data[0]` is the first element in the outer list, `data`.\n",
    "\n",
    "```\n",
    ">>> data[0]\n",
    "['A', '70']\n",
    "```\n",
    "\n",
    "The first element in `data`, `data[0]` is a list containing two elements. To access the first element of this list, we add another index after the first:\n",
    "\n",
    "```\n",
    ">>> data[0][0]\n",
    "'A'\n",
    ">>> data[0][1]\n",
    "'70'\n",
    "```\n",
    "\n",
    "To access the elements of the **next row**, we change the **first index**:\n",
    "\n",
    "```\n",
    ">>> data[1][0]\n",
    "'B'\n",
    ">>> data[1][1]\n",
    "'60'\n",
    "```\n",
    "\n",
    "We can then print `data` into a custom format in a `for` loop:  \n",
    "(Run the code cell below.)"
   ]
  },
  {
   "cell_type": "code",
   "execution_count": null,
   "metadata": {},
   "outputs": [],
   "source": [
    "for row in data:\n",
    "    print(f'{row[0]}: {row[1]}')"
   ]
  },
  {
   "cell_type": "markdown",
   "metadata": {
    "nbgrader": {
     "cell_type": "markdown",
     "checksum": "33c990e7a5b790ded7781f7eb57c2130",
     "grade": false,
     "grade_id": "cell-ded7159a12cf03c4",
     "locked": true,
     "schema_version": 3,
     "solution": false,
     "task": false
    }
   },
   "source": [
    "Of course, you do not need to name the iterating variable as `row`, you can use `i` too. But it is good practice to write code and name your variables as intuitively and systematically as possible, so that it is easy for other programmers (including yourself) to understand the code when you have to read it again."
   ]
  },
  {
   "cell_type": "markdown",
   "metadata": {
    "nbgrader": {
     "cell_type": "markdown",
     "checksum": "64516cf76461c9f7d29fafc1db622f44",
     "grade": false,
     "grade_id": "cell-3862578a56a81ed8",
     "locked": true,
     "schema_version": 3,
     "solution": false,
     "task": false
    }
   },
   "source": [
    "## Errors in Python: `ValueError`\n",
    "\n",
    "Apart from `IndexError`, the other error you are likely to get with lists is `ValueError`. A `ValueError` is raised when you are trying to access a value (such as a list element) that is not available or does not exist, and the problem is not with an invalid index (that will raise an `IndexError` instead).\n",
    "\n",
    "Try the code cell below to see how removing a non-existent element causes a `ValueError`:"
   ]
  },
  {
   "cell_type": "code",
   "execution_count": null,
   "metadata": {},
   "outputs": [],
   "source": [
    "fruit = ['apple', 'banana', 'cherry', 'durian', 'elderberry']\n",
    "\n",
    "fruit.remove('mango')"
   ]
  }
 ],
 "metadata": {
  "celltoolbar": "Edit Metadata",
  "kernelspec": {
   "display_name": "Python 3 (ipykernel)",
   "language": "python",
   "name": "python3"
  },
  "language_info": {
   "codemirror_mode": {
    "name": "ipython",
    "version": 3
   },
   "file_extension": ".py",
   "mimetype": "text/x-python",
   "name": "python",
   "nbconvert_exporter": "python",
   "pygments_lexer": "ipython3",
   "version": "3.8.12"
  }
 },
 "nbformat": 4,
 "nbformat_minor": 2
}
