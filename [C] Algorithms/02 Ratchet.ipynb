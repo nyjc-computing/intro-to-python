{
 "cells": [
  {
   "cell_type": "markdown",
   "id": "54100b40",
   "metadata": {},
   "source": [
    "# Ratchet\n",
    "\n",
    "**Prerequisites**: Accumulator\n",
    "\n",
    "Have you seen [a ratchet](https://en.wikipedia.org/wiki/Ratchet_%28device%29) in action before?\n",
    "\n",
    "![Ratchet animation](https://upload.wikimedia.org/wikipedia/commons/thumb/3/32/Ratchet_Gear_and_Pawl.gif/330px-Ratchet_Gear_and_Pawl.gif)\n",
    "\n",
    "A ratchet mechanism only allows movement in one direction, blocking any attempt to reverse.\n",
    "\n",
    "## Maximum and minimum\n",
    "\n",
    "A similar logic exists as a variant of the accumulator pattern. For example, we can use it to determine the maximum and minimum values in a sequence.\n",
    "\n",
    "Instead of adding to a `total`, we use `max_value` or `min_value` variables to track the maximum or minimum value up to that point. In each iteration, we compare the current item to the maximum or minimum value, updating them as necessary. This works like a ratchet: throughout the iterations, the max value should only increase monotonically, and the min value should only decrease monotonically.\n",
    "\n",
    "### Exercise\n",
    "\n",
    "Complete the code below for the functions `max(sequence: list)`  and `min(sequence: list)` which returns the maximum and minimum values from the sequence respectively."
   ]
  },
  {
   "cell_type": "code",
   "execution_count": null,
   "id": "ba4c0134",
   "metadata": {},
   "outputs": [],
   "source": [
    "def max(sequence: list):\n",
    "    \"\"\"Returns the largest item in sequence.\"\"\"\n",
    "    # Write your code below\n",
    "\n",
    "\n",
    "def min(sequence: list):\n",
    "    \"\"\"Returns the largest item in sequence.\"\"\"\n",
    "    # Write your code below\n",
    "\n"
   ]
  }
 ],
 "metadata": {
  "kernelspec": {
   "display_name": "Python 3 (ipykernel)",
   "language": "python",
   "name": "python3"
  },
  "language_info": {
   "codemirror_mode": {
    "name": "ipython",
    "version": 3
   },
   "file_extension": ".py",
   "mimetype": "text/x-python",
   "name": "python",
   "nbconvert_exporter": "python",
   "pygments_lexer": "ipython3",
   "version": "3.8.12"
  }
 },
 "nbformat": 4,
 "nbformat_minor": 5
}
