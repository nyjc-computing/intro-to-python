{
 "cells": [
  {
   "cell_type": "markdown",
   "id": "e3294cde",
   "metadata": {},
   "source": [
    "# Hash Table\n",
    "\n",
    "**Prerequisites**: Accumulator\n",
    "\n",
    "A hash table is both a data structure and a strategy for quickly locating an item in a sequence of key-value pairs.\n",
    "\n",
    "A hash table associates keys to values. Each key in a hash table is unique.\n",
    "\n",
    "## Hash function\n",
    "\n",
    "A hash table needs a hash function that returns the same value for each unique key.\n",
    "\n",
    "### Exercise\n",
    "\n",
    "Complete the code below for the function `hash(key: str, m: int) -> int` which returns a hash location for the given key.\n",
    "\n",
    "Note that this will override Python's built-in `hash()` function. This is intentional.\n",
    "\n",
    "For this exercise, we will use the [rolling polynomial hash algorithm](https://cp-algorithms.com/string/string-hashing.html). Use the following values:\n",
    "\n",
    "- `m = <size of hash table>`\n",
    "- `p = 127`"
   ]
  },
  {
   "cell_type": "code",
   "execution_count": null,
   "id": "4240167c",
   "metadata": {},
   "outputs": [],
   "source": [
    "def hash(key: str, size: int) -> int:\n",
    "    \"\"\"Calculates the hash of a string using rolling polynomial algorithm.\"\"\"\n",
    "    p = 127\n",
    "    total = 0\n",
    "    # Write code below to calculate the hash location (integer) from the key.\n",
    "    for i, char in enumerate(key):\n",
    "        total += ord(char) * (p**i)\n",
    "    return total % size"
   ]
  },
  {
   "cell_type": "markdown",
   "id": "0fc3a30e",
   "metadata": {},
   "source": [
    "## Hash table using array\n",
    "\n",
    "Let's start with a hash table of size 10. This means the hash table starts out with 10 locations for storing key-value pairs, though at the time of initialisation none of them will be in use. (In practice you can start out with a hash table of any size.)\n",
    "\n",
    "How do we know if a slot is in use? We need a **sentinel value** (see Lesson 6); for this exercise, we will use Python's `None` value as our sentinel.\n",
    "\n",
    "A slot will contain:\n",
    "- `None` if it is not in use\n",
    "- `(key, value)` stored as a 2-element `tuple` if it is in use"
   ]
  },
  {
   "cell_type": "code",
   "execution_count": null,
   "id": "5c1564b7",
   "metadata": {},
   "outputs": [],
   "source": [
    "SIZE = 10\n",
    "\n",
    "table = [None] * SIZE\n",
    "table"
   ]
  },
  {
   "cell_type": "markdown",
   "id": "9e06ac61",
   "metadata": {},
   "source": [
    "I'll provide two helper functions for inspecting the data in the table:\n",
    "\n",
    "- `clear(table: list) -> None`  \n",
    "  Remove all entries from the hash table\n",
    "\n",
    "- `inspect(table: list) -> None`  \n",
    "  Display the contents of the hash table for inspection\n",
    "  \n",
    "\n",
    "### Exercise\n",
    "\n",
    "Now we need some functions for manipulating this table. Let's define the following functions:\n",
    "\n",
    "- `add(table: list, key: str, value: Any) -> None`  \n",
    "  Adds a key-value pair to the hash table\n",
    "\n",
    "- `get(table: list, key: str) -> Any`  \n",
    "  Return the value associated with the key from the table\n",
    "\n",
    "- `remove(table: list, key: str) -> None`  \n",
    "  Remove a key-value pair from the table"
   ]
  },
  {
   "cell_type": "code",
   "execution_count": null,
   "id": "a66f6ec8",
   "metadata": {},
   "outputs": [],
   "source": [
    "from typing import Any\n",
    "\n",
    "\n",
    "# Helper functions\n",
    "def clear(table: list) -> None:\n",
    "    \"\"\"Remove all entries from the table\"\"\"\n",
    "    # Use this function for resetting your table\n",
    "    for i in range(len(table)):\n",
    "        table[i] = None\n",
    "\n",
    "        \n",
    "def inspect(table: list) -> None:\n",
    "    \"\"\"Display the contents of the hash table for inspection\"\"\"\n",
    "    for i in range(len(table)):\n",
    "        if table[i]:  # ignore empty slots\n",
    "            key, value = table[i]\n",
    "            print(f\"[slot {i}] '{key}': {value}\")\n",
    "\n",
    "\n",
    "# Manipulation functions\n",
    "def add(table: list, key: str, value: Any) -> None:\n",
    "    \"\"\"Adds a key-value pair to the hash table\"\"\"\n",
    "    index = hash(key, SIZE)\n",
    "    table[index] = (key, value)\n",
    "\n",
    "\n",
    "def get(table: list, key: str) -> Any:\n",
    "    \"\"\"Return the value associated with the key from the table\"\"\"\n",
    "    index = hash(key, SIZE)\n",
    "    key, value = table[index]\n",
    "    return value\n",
    "\n",
    "\n",
    "def remove(table: list, key: str) -> None:\n",
    "    \"\"\"Remove a key-value pair from the table\"\"\"\n",
    "    index = hash(key, SIZE)\n",
    "    table[index] = None\n",
    "\n",
    "    \n",
    "clear(table)\n",
    "add(table, 'Apricot', 0)\n",
    "add(table, 'Banana', 1)\n",
    "print(get(table, 'Apricot'))\n",
    "print(get(table, 'Banana'))\n",
    "inspect(table)\n",
    "\n",
    "# Expected output:\n",
    "# 0\n",
    "# 1\n",
    "# [slot 0] 'Apricot': 0\n",
    "# [slot 5] 'Banana': 1"
   ]
  },
  {
   "cell_type": "markdown",
   "id": "fe12a7e5",
   "metadata": {},
   "source": [
    "## Key collisions\n",
    "\n",
    "This is all well and good, but sometimes two keys can hash to the same location:"
   ]
  },
  {
   "cell_type": "code",
   "execution_count": null,
   "id": "6614e879",
   "metadata": {},
   "outputs": [],
   "source": [
    "clear(table)\n",
    "add(table, 'Apricot', 0)\n",
    "add(table, 'Elderberry', 1)\n",
    "print(get(table, 'Apricot'))\n",
    "inspect(table)"
   ]
  },
  {
   "cell_type": "markdown",
   "id": "6eda4e95",
   "metadata": {},
   "source": [
    "Oops, `'Elderberry'` just overwrote `Apricot` ... It's easy to see why. Let's check the hash of both values:"
   ]
  },
  {
   "cell_type": "code",
   "execution_count": null,
   "id": "d5a9ddee",
   "metadata": {},
   "outputs": [],
   "source": [
    "print(hash('Apricot', SIZE))\n",
    "print(hash('Elderberry', SIZE))"
   ]
  },
  {
   "cell_type": "markdown",
   "id": "d644d179",
   "metadata": {},
   "source": [
    "Both keys hash to the same location, `0`. This is difficult to avoid with small hash tables, but nonetheless we can't accept this result. We need a way to handle key collisions."
   ]
  },
  {
   "cell_type": "markdown",
   "id": "2605ad27",
   "metadata": {},
   "source": [
    "## Collision resolution strategy: open addressing\n",
    "*(Implementation is not in syllabus)*\n",
    "\n",
    "One strategy is to **rehash** the key, generating another slot that we can check for availability.\n",
    "\n",
    "There are a variety of rehashing strategies, the simplest rehashing algorithm is to increment the existing slot by 1.\n",
    "\n",
    "We can't keep re-hashing, that will make our hash table slow. Let's cap the number of re-hashes to 5. (You can choose any number of retries in your own code.)"
   ]
  },
  {
   "cell_type": "code",
   "execution_count": null,
   "id": "e4c9f9d9",
   "metadata": {},
   "outputs": [],
   "source": [
    "def rehash(slot: int, size: int) -> int:\n",
    "    \"\"\"Rehash a slot to find another available one\"\"\"\n",
    "    return (slot + 1) % size\n"
   ]
  },
  {
   "cell_type": "markdown",
   "id": "d464079e",
   "metadata": {},
   "source": [
    "We will need to re-implement our manipulation functions to rehash the slot until we find an available one. Starting with `add()`:"
   ]
  },
  {
   "cell_type": "code",
   "execution_count": null,
   "id": "5ae502d5",
   "metadata": {},
   "outputs": [],
   "source": [
    "def add(table: list, key: str, value: Any) -> None:\n",
    "    \"\"\"Adds a key-value pair to the hash table\"\"\"\n",
    "    index = hash(key, SIZE)\n",
    "    tries = 5\n",
    "    while tries > 0:\n",
    "        # If slot is empty, store key-value\n",
    "        if table[index] is None:\n",
    "            table[index] = (key, value)\n",
    "            return\n",
    "        # If slot already contains same key, update value\n",
    "        table_key, table_value = table[index]\n",
    "        if key == table_key:\n",
    "            table[index] = (key, value)\n",
    "            return\n",
    "        # If slot contains different key, re-hash\n",
    "        index = rehash(index, SIZE)\n",
    "        tries -= 1\n",
    "    # If this point is reached, no slot can be found after retrying.\n",
    "    # Another strategy is required, e.g. expanding the hash table\n",
    "\n",
    "\n",
    "clear(table)\n",
    "add(table, 'Apricot', 0)\n",
    "add(table, 'Elderberry', 1)\n",
    "print(get(table, 'Apricot'))\n",
    "inspect(table)"
   ]
  },
  {
   "cell_type": "markdown",
   "id": "e5759344",
   "metadata": {},
   "source": [
    "Now we also need to retrieve the value using `get()`, which also needs to be rewritten to handle rehashing."
   ]
  },
  {
   "cell_type": "code",
   "execution_count": null,
   "id": "ac9bcdc4",
   "metadata": {},
   "outputs": [],
   "source": [
    "def get(table: list, key: str) -> Any:\n",
    "    \"\"\"Return the value associated with the key from the table\"\"\"\n",
    "    index = hash(key, SIZE)\n",
    "    tries = 5\n",
    "    while tries > 0:\n",
    "        # If slot is empty, raise KeyError\n",
    "        if table[index] is None:\n",
    "            raise KeyError\n",
    "        # If slot already contains same key, return value\n",
    "        table_key, table_value = table[index]\n",
    "        if key == table_key:\n",
    "            return table_value\n",
    "        # If slot contains different key, re-hash\n",
    "        index = rehash(index, SIZE)\n",
    "        tries -= 1\n",
    "    # If this point is reached, it is assumed the key is not in the table.\n",
    "    raise KeyError"
   ]
  },
  {
   "cell_type": "markdown",
   "id": "152774ca",
   "metadata": {},
   "source": [
    "That was somewhat simpler than adding, but removing will be more complex. That's because removing a slot might disrupt the rehashing process - the current slot might now result in `get()` returning `None` instead of rehashing the next slot.\n",
    "\n",
    "So we have to check subsequent slots, moving them up if necessary."
   ]
  },
  {
   "cell_type": "code",
   "execution_count": null,
   "id": "eb4bb60d",
   "metadata": {},
   "outputs": [],
   "source": [
    "def remove(table: list, key: str) -> None:\n",
    "    \"\"\"Remove a key-value pair from the table\"\"\"\n",
    "    index = hash(key, SIZE)\n",
    "    tries = 5\n",
    "    found = False\n",
    "    while tries > 0:\n",
    "        # If slot is empty, raise KeyError\n",
    "        if table[index] is None:\n",
    "            raise KeyError\n",
    "        # If slot already contains same key, remove key-value\n",
    "        table_key, table_value = table[index]\n",
    "        if key == table_key:\n",
    "            table[index] = None\n",
    "            found = True\n",
    "            break\n",
    "        # If slot contains different key, re-hash\n",
    "        index = rehash(index, SIZE)\n",
    "        tries -= 1\n",
    "    if not found:\n",
    "        raise KeyError\n",
    "    \n",
    "    # Check if subsequent slots need to be re-added\n",
    "    index = rehash(index, SIZE)\n",
    "    # - if the slot is empty, stop\n",
    "    while table[index] is not None:\n",
    "        table_key, table_value = table[index]\n",
    "        # - if the key's hashed location does not match the slot index,\n",
    "        #   remove and re-add, then check next slot.\n",
    "        if hash(table_key, SIZE) != index:\n",
    "            table[index] = None\n",
    "            add(table, table_key, table_value)\n",
    "        # - if the key's hashed location matches the slot index, check the next slot\n",
    "        index = rehash(index, SIZE)"
   ]
  },
  {
   "cell_type": "markdown",
   "id": "e87e8c59",
   "metadata": {},
   "source": [
    "Let's check the results."
   ]
  },
  {
   "cell_type": "code",
   "execution_count": null,
   "id": "5e814848",
   "metadata": {},
   "outputs": [],
   "source": [
    "clear(table)\n",
    "add(table, 'Apricot', 0)\n",
    "add(table, 'Banana', 1)\n",
    "add(table, 'Coconut', 2)\n",
    "add(table, 'Durian', 3)\n",
    "add(table, 'Elderberry', 4)\n",
    "print(get(table, 'Apricot'))\n",
    "print(get(table, 'Banana'))\n",
    "print(get(table, 'Elderberry'))\n",
    "print(\"Initial:\")\n",
    "inspect(table)\n",
    "\n",
    "remove(table, 'Apricot')\n",
    "print(\"After removing 'Apricot':\")\n",
    "inspect(table)\n",
    "\n",
    "remove(table, 'Banana')\n",
    "print(\"After removing 'Banana':\")\n",
    "inspect(table)"
   ]
  },
  {
   "cell_type": "markdown",
   "id": "9f3f1c73",
   "metadata": {},
   "source": [
    "Phew! That was a lot. Fortunately we don't need to do this for the exam practical."
   ]
  },
  {
   "cell_type": "markdown",
   "id": "d65b8fbc",
   "metadata": {},
   "source": [
    "## Collision resolution strategy: closed addressing\n",
    "*(Implementation is not in syllabus)*\n",
    "\n",
    "Another strategy is to use a linked list for each slot. No rehashing is needed, but we have to walk the linked list until we find a matching key.\n",
    "\n",
    "Let's make a Linked List:"
   ]
  },
  {
   "cell_type": "code",
   "execution_count": null,
   "id": "d4092c2f",
   "metadata": {},
   "outputs": [],
   "source": [
    "class LinkedList:\n",
    "    def __init__(self) -> None:\n",
    "        self.head = None\n",
    "    \n",
    "    def __repr__(self) -> str:\n",
    "        return \"LinkedList()\"\n",
    "    \n",
    "    def __str__(self) -> str:\n",
    "        contents = []\n",
    "        node = self.head\n",
    "        while node is not None:\n",
    "            contents.append(str(node))\n",
    "            node = node.next()\n",
    "        return '(' + \", \".join(contents) + ')'\n",
    "        \n",
    "    def isempty(self) -> bool:\n",
    "        return self.head is None\n",
    "    \n",
    "    def add(self, key: str, value: Any) -> None:\n",
    "        if self.head is None:\n",
    "            self.head = Node(key, value)\n",
    "            return\n",
    "        node = self.head\n",
    "        while node.next() is not None:\n",
    "            node = node.next()\n",
    "        node.link(Node(key, value))\n",
    "    \n",
    "    def get(self, key: str) -> Any:\n",
    "        node = self.head\n",
    "        while node is not None:\n",
    "            if node.key == key:\n",
    "                return node.value\n",
    "            node = node.next()\n",
    "        raise KeyError\n",
    "    \n",
    "    def remove(self, key: str) -> None:\n",
    "        if self.head is None:\n",
    "            raise KeyError\n",
    "        if self.head.key == key:\n",
    "            self.head = self.head.next()\n",
    "            return\n",
    "        prev, node = self.head, self.head.next()\n",
    "        while node is not None:\n",
    "            if node.key == key:\n",
    "                prev.link(node.next())\n",
    "                return\n",
    "            prev, node = node, node.next()\n",
    "\n",
    "\n",
    "class Node:\n",
    "    def __init__(self, key: str, value: Any) -> None:\n",
    "        self.key = key\n",
    "        self.value = value\n",
    "        self._next = None\n",
    "    \n",
    "    def __repr__(self) -> str:\n",
    "        return f\"Node('{self.key}', {self.value})\"\n",
    "    \n",
    "    def __str__(self) -> str:\n",
    "        return f\"'{self.key}': {self.value}\"\n",
    "    \n",
    "    def next(self) -> \"Node\":\n",
    "        return self._next\n",
    "    \n",
    "    def link(self, node: \"Node\") -> None:\n",
    "        \"\"\"Link self to the given node\"\"\"\n",
    "        self._next = node"
   ]
  },
  {
   "cell_type": "markdown",
   "id": "9908a05f",
   "metadata": {},
   "source": [
    "We will initialise the table using our Linked List.\n",
    "\n",
    "Since the structure of our table is different, we will need new `clear()` and `inspect()` helpers as well."
   ]
  },
  {
   "cell_type": "code",
   "execution_count": null,
   "id": "12e49d38",
   "metadata": {},
   "outputs": [],
   "source": [
    "def clear(table: list) -> None:\n",
    "    \"\"\"Remove all entries from the table\"\"\"\n",
    "    # Use this function for resetting your table\n",
    "    for i in range(len(table)):\n",
    "        table[i] = LinkedList()\n",
    "\n",
    "def inspect(table: list) -> None:\n",
    "    \"\"\"Display the contents of the hash table for inspection\"\"\"\n",
    "    for i in range(len(table)):\n",
    "        if not table[i].isempty():  # ignore empty slots\n",
    "            print(f\"[slot {i}] {str(table[i])}\")\n",
    "\n",
    "\n",
    "table = [LinkedList() for i in range(SIZE)]"
   ]
  },
  {
   "cell_type": "markdown",
   "id": "01f53ffe",
   "metadata": {},
   "source": [
    "And we re-implement our manipulating functions to use our LinkedList's methods:"
   ]
  },
  {
   "cell_type": "code",
   "execution_count": null,
   "id": "fd38106d",
   "metadata": {},
   "outputs": [],
   "source": [
    "def add(table: list, key: str, value: Any) -> None:\n",
    "    \"\"\"Adds a key-value pair to the hash table\"\"\"\n",
    "    index = hash(key, SIZE)\n",
    "    table[index].add(key, value)\n"
   ]
  },
  {
   "cell_type": "code",
   "execution_count": null,
   "id": "d149e58f",
   "metadata": {},
   "outputs": [],
   "source": [
    "def get(table: list, key: str) -> Any:\n",
    "    \"\"\"Return the value associated with the key from the table\"\"\"\n",
    "    index = hash(key, SIZE)\n",
    "    return table[index].get(key)\n"
   ]
  },
  {
   "cell_type": "code",
   "execution_count": null,
   "id": "99e4ea36",
   "metadata": {},
   "outputs": [],
   "source": [
    "def remove(table: list, key: str) -> None:\n",
    "    \"\"\"Remove a key-value pair from the table\"\"\"\n",
    "    index = hash(key, SIZE)\n",
    "    table[index].remove(key)\n"
   ]
  },
  {
   "cell_type": "markdown",
   "id": "8409ae0a",
   "metadata": {},
   "source": [
    "Let's check the results."
   ]
  },
  {
   "cell_type": "code",
   "execution_count": null,
   "id": "a46cc29f",
   "metadata": {},
   "outputs": [],
   "source": [
    "clear(table)\n",
    "add(table, 'Apricot', 0)\n",
    "add(table, 'Banana', 1)\n",
    "add(table, 'Coconut', 2)\n",
    "add(table, 'Durian', 3)\n",
    "add(table, 'Elderberry', 4)\n",
    "print(get(table, 'Apricot'))\n",
    "print(get(table, 'Banana'))\n",
    "print(get(table, 'Elderberry'))\n",
    "print(\"Initial:\")\n",
    "inspect(table)\n",
    "\n",
    "remove(table, 'Apricot')\n",
    "print(\"After removing 'Apricot':\")\n",
    "inspect(table)\n",
    "\n",
    "remove(table, 'Banana')\n",
    "print(\"After removing 'Banana':\")\n",
    "inspect(table)"
   ]
  }
 ],
 "metadata": {
  "kernelspec": {
   "display_name": "Python 3 (ipykernel)",
   "language": "python",
   "name": "python3"
  },
  "language_info": {
   "codemirror_mode": {
    "name": "ipython",
    "version": 3
   },
   "file_extension": ".py",
   "mimetype": "text/x-python",
   "name": "python",
   "nbconvert_exporter": "python",
   "pygments_lexer": "ipython3",
   "version": "3.8.12"
  }
 },
 "nbformat": 4,
 "nbformat_minor": 5
}
