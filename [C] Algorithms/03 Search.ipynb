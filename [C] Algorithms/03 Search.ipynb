{
 "cells": [
  {
   "cell_type": "markdown",
   "id": "e3294cde",
   "metadata": {},
   "source": [
    "# Search\n",
    "\n",
    "**Prerequisites**: Accumulator\n",
    "\n",
    "A search is a variant of the accumulator which doesn't require initialisation.\n",
    "\n",
    "## Linear search\n",
    "\n",
    "The simplest form of search is called a linear search. Instead of accumulating a result, it iterates through a sequence, returning the first matching result.\n",
    "\n",
    "### Exercise\n",
    "\n",
    "Complete the code below for the function `linear_search(sequence: list, target: Any) -> int` which returns the **index** of the first item matching `target`."
   ]
  },
  {
   "cell_type": "code",
   "execution_count": null,
   "id": "4240167c",
   "metadata": {},
   "outputs": [],
   "source": [
    "def linear_search(sequence: list, target) -> int:\n",
    "    \"\"\"Returns the index of the first item in sequence that matches value.\"\"\"\n",
    "    # Write your code below"
   ]
  },
  {
   "cell_type": "markdown",
   "id": "9f3f1c73",
   "metadata": {},
   "source": [
    "Linear search has a time complexity of O(n), which means that the maximum time taken to return a result scales linearly with `n`, the number of items in `sequence`. It is easy to see why."
   ]
  },
  {
   "cell_type": "markdown",
   "id": "11b21de5",
   "metadata": {},
   "source": [
    "## Binary search\n",
    "\n",
    "The binary search algorithm is a search algorithm with a time complexity of O(log n): the maximum time taken to return a result scales with log(n) instead of n. This is a much more efficient algorithm!\n",
    "\n",
    "The caveat here is that it only works on **sorted sequences**. It will return the wrong result for unsorted sequences.\n",
    "\n",
    "It is easier to understand binary search with a simple example.\n",
    "\n",
    "### Number-guessing\n",
    "\n",
    "I am thinking of a number from 1 to 100 (inclusive of both). You have 7 tries to guess this number correctly. What is your strategy?\n",
    "\n",
    "If your strategy is to always guess the middle number of the valid range, that's binary search!\n",
    "\n",
    "### Algorithm description\n",
    "\n",
    "In most programming languages, binary search is implemented as follows:\n",
    "\n",
    "1. Track the valid range (e.g. with a `start` and `end` integer)\n",
    "2. Determine the middle index\n",
    "3. If the middle item is equal to the search value, return its index\n",
    "4. If the middle item is greater than or less than the search value, update the valid range\n",
    "5. Repeat from step 2 until the valid range is empty\n",
    "\n",
    "### Exercise\n",
    "\n",
    "Complete the code below for the function `binary_search(sequence: list, target: Any) -> int` which returns the **index** of any item matching `value`."
   ]
  },
  {
   "cell_type": "code",
   "execution_count": null,
   "id": "d714e3be",
   "metadata": {},
   "outputs": [],
   "source": [
    "def binary_search(sequence: list, target) -> int:\n",
    "    \"\"\"Returns the index of any item in sequence that matches value,\n",
    "    using the binary search algorithm.\n",
    "    \"\"\"\n",
    "    # Write your code below"
   ]
  }
 ],
 "metadata": {
  "kernelspec": {
   "display_name": "Python 3 (ipykernel)",
   "language": "python",
   "name": "python3"
  },
  "language_info": {
   "codemirror_mode": {
    "name": "ipython",
    "version": 3
   },
   "file_extension": ".py",
   "mimetype": "text/x-python",
   "name": "python",
   "nbconvert_exporter": "python",
   "pygments_lexer": "ipython3",
   "version": "3.8.12"
  }
 },
 "nbformat": 4,
 "nbformat_minor": 5
}
