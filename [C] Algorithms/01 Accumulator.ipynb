{
 "cells": [
  {
   "cell_type": "markdown",
   "id": "d3cd5a63",
   "metadata": {},
   "source": [
    "# Accumulator\n",
    "\n",
    "**Prerequisites**: Basic Python, lists\n",
    "\n",
    "Python has a built-in `sum()` function for adding up a list of integers. But often we will have more complicated tasks that `sum()` can't handle. For example, if I have a list of strings like `['1', '2', '3']`, `sum()` won't know what to do with that:"
   ]
  },
  {
   "cell_type": "code",
   "execution_count": null,
   "id": "485f29e9",
   "metadata": {},
   "outputs": [],
   "source": [
    "# This code doesn't work; try it and see\n",
    "\n",
    "result = sum(['1', '2', '3'])"
   ]
  },
  {
   "cell_type": "markdown",
   "id": "5dbd7574",
   "metadata": {},
   "source": [
    "If we need to do anything more advanced that just adding a list of integers, we have to roll up our sleeves and do some additional work.\n",
    "\n",
    "The basic pattern for adding is simple:"
   ]
  },
  {
   "cell_type": "code",
   "execution_count": null,
   "id": "2bb03dfd",
   "metadata": {},
   "outputs": [],
   "source": [
    "data = ['1', '2', '3']\n",
    "\n",
    "total = 0\n",
    "for item in data:\n",
    "    total = total + int(item)\n",
    "print(\"Total:\", total)"
   ]
  },
  {
   "cell_type": "markdown",
   "id": "2e9b51da",
   "metadata": {},
   "source": [
    "There are three key steps involved.\n",
    "\n",
    "1. **[line 3]** Initialisation\n",
    "2. **[line 4]** Iteration\n",
    "3. **[line 5]** Accumulation\n",
    "\n",
    "### Initialisation\n",
    "\n",
    "This step sets the initial value of `total` which will be added to in the accumulation step.\n",
    "\n",
    "### Iteration\n",
    "\n",
    "This step \"goes through\" each item in the sequence, assigning it to the `item` variable.\n",
    "\n",
    "### Accumulation\n",
    "\n",
    "In each iteration, perform the necessary operations to accumulate the result."
   ]
  },
  {
   "cell_type": "markdown",
   "id": "e1cbbba9",
   "metadata": {},
   "source": [
    "# Exercises\n",
    "\n",
    "Accumulation forms the basis for more advanced algorithms and patterns.\n",
    "\n",
    "## Counting\n",
    "\n",
    "Complete the code below to count and display the number of `'a'` letters in the string."
   ]
  },
  {
   "cell_type": "code",
   "execution_count": null,
   "id": "f1459c0f",
   "metadata": {},
   "outputs": [],
   "source": [
    "string = \"This step sets the initial value of total which will be added to in the accumulation step.\"\n",
    "\n",
    "count = 0  # Initialisation\n",
    "# Write your code below so that count represents the number of 'a' in the string\n"
   ]
  },
  {
   "cell_type": "markdown",
   "id": "fc1debcd",
   "metadata": {},
   "source": [
    "Accumulation doesn't mean only adding. We can also use this pattern to filter a sequence for matching items.\n",
    "\n",
    "## Filtering\n",
    "\n",
    "Complete the code below to build up a list of words containing the letter `'a'`."
   ]
  },
  {
   "cell_type": "code",
   "execution_count": null,
   "id": "9e5620f0",
   "metadata": {},
   "outputs": [],
   "source": [
    "words = [\n",
    "    'This', 'step', 'sets', 'the', 'initial', 'value', 'of', 'total',\n",
    "    'which', 'will', 'be', 'added', 'to', 'in', 'the', 'accumulation', 'step'\n",
    "]\n",
    "\n",
    "words_with_a = []  # Initialisation\n",
    "# Write your code below to append words from the above list into words_with_a\n",
    "# if they have the letter 'a' in them\n",
    "\n"
   ]
  },
  {
   "cell_type": "markdown",
   "id": "3a750ae1",
   "metadata": {},
   "source": [
    "Complete the code below to build up a list of unique letters from the sequence `letters`."
   ]
  },
  {
   "cell_type": "code",
   "execution_count": null,
   "id": "f9097e96",
   "metadata": {},
   "outputs": [],
   "source": [
    "letters = 'lltjerabvllwnxfozokc'\n",
    "unique_letters = []"
   ]
  },
  {
   "cell_type": "markdown",
   "id": "ed8ec6ef",
   "metadata": {},
   "source": [
    "Naturally, we can also apply operations on the items before accumulation.\n",
    "\n",
    "## Mapping\n",
    "\n",
    "Write code below to create a list of ints, `numbers`, from the list of strs `number_strs`."
   ]
  },
  {
   "cell_type": "code",
   "execution_count": null,
   "id": "3e3fb9e2",
   "metadata": {},
   "outputs": [],
   "source": [
    "number_strs = ['1', '2', '3', '4', '5']\n",
    "\n",
    "# Write your code below to create a list called `numbers`\n",
    "# containing the numbers in number_strs, but in integer form"
   ]
  },
  {
   "cell_type": "markdown",
   "id": "382a4efb",
   "metadata": {},
   "source": [
    "While the accumulator pattern is simple, it adds a lot of code which can make the main program harder to understand.\n",
    "\n",
    "We usually write helper functions to perform these tasks for us instead.\n",
    "\n",
    "## Count helper\n",
    "\n",
    "Write a function, `count(sequence: list, value: Any) -> int` that counts the number of times `value` appears in `sequence`."
   ]
  },
  {
   "cell_type": "code",
   "execution_count": null,
   "id": "481e31a6",
   "metadata": {},
   "outputs": [],
   "source": [
    "def count(sequence, value) -> int:\n",
    "    \"\"\"Return an integer representing the number of times value appears in sequence.\"\"\"\n",
    "    # Write your code below\n",
    "\n",
    "# Test your code with at least three examples"
   ]
  }
 ],
 "metadata": {
  "kernelspec": {
   "display_name": "Python 3 (ipykernel)",
   "language": "python",
   "name": "python3"
  },
  "language_info": {
   "codemirror_mode": {
    "name": "ipython",
    "version": 3
   },
   "file_extension": ".py",
   "mimetype": "text/x-python",
   "name": "python",
   "nbconvert_exporter": "python",
   "pygments_lexer": "ipython3",
   "version": "3.8.12"
  }
 },
 "nbformat": 4,
 "nbformat_minor": 5
}
