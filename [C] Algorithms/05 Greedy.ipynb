{
 "cells": [
  {
   "cell_type": "markdown",
   "id": "ad8b0c2d",
   "metadata": {},
   "source": [
    "# Greedy\n",
    "\n",
    "**Pre-requisites:** Tokenisation\n",
    "\n",
    "The greedy algorithm is one you probably know intuitively, even if you have never heard of this algorithm. This is a variant of tokenisation, but the tokens are not determined from the input: from a collection of known tokens, you break down the input into a sequence of these known tokens.\n",
    "\n",
    "## Making change\n",
    "\n",
    "If you ever had to find change for cash, you know what this is like. If you need 80c in change, you could give four 20c coins, but the minimum number of coins required is three: 50c + 20c + 10c.\n",
    "\n",
    "We can determine the minimum number of coins needed to make up any amount with an algorithm as follows:\n",
    "\n",
    "1. For each coin in decreasing value (i.e. $1.00, 50c, 20c, 10c),\n",
    "2. If the remaining amount is greater than this coin value, tokenise this value (by adding it to the return list and subtracting the value from the remaining amount).\n",
    "3. If the remaining amount is less than this coin value, move to the next coin value.\n",
    "\n",
    "## Exercise\n",
    "\n",
    "Write a function `small_change(amount: int, coins: list[int]) -> list[int]` that:\n",
    "- breaks down the integer `amount` into a list of integer values\n",
    "  - The list consists only of values found in the `coins` list\n",
    "  - The number of values in the return list is the minimum possible number required\n",
    "- returns this list"
   ]
  },
  {
   "cell_type": "code",
   "execution_count": null,
   "id": "16718d4d",
   "metadata": {},
   "outputs": [],
   "source": [
    "sg_coins = [100, 50, 20, 10]\n",
    "\n",
    "def small_change(amount: int, coins: \"list[int]\") -> \"list[int]\":\n",
    "    \"\"\"Returns the shortest possible list of tokens that make up the amount.\"\"\"\n",
    "    # Complete your code below.\n",
    "\n",
    "# Test your code with this function call\n",
    "# It should return [100, 100, 50, 20, 10]\n",
    "print(small_change(280, sg_coins))"
   ]
  },
  {
   "cell_type": "markdown",
   "id": "378f0442",
   "metadata": {},
   "source": [
    "This pattern can be applied in many circumstances where the operation to be performed is conditional on each value in a sequence."
   ]
  }
 ],
 "metadata": {
  "kernelspec": {
   "display_name": "Python 3 (ipykernel)",
   "language": "python",
   "name": "python3"
  },
  "language_info": {
   "codemirror_mode": {
    "name": "ipython",
    "version": 3
   },
   "file_extension": ".py",
   "mimetype": "text/x-python",
   "name": "python",
   "nbconvert_exporter": "python",
   "pygments_lexer": "ipython3",
   "version": "3.8.12"
  }
 },
 "nbformat": 4,
 "nbformat_minor": 5
}
