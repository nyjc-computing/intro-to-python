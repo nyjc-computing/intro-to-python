{
 "cells": [
  {
   "cell_type": "markdown",
   "id": "ec84ccc2",
   "metadata": {},
   "source": [
    "# Multiple iteration\n",
    "\n",
    "**Prerequisites**: Basic Python, lists\n",
    "\n",
    "You have learned to write simple loops like these:\n",
    "\n",
    "```python\n",
    "total = 0\n",
    "for number in numbers:\n",
    "    total = total + number\n",
    "```\n",
    "\n",
    "But what if we need to iterate through two or more lists at the same time?\n",
    "\n",
    "For example, in calculating the NRIC checksum, we need to multiple each digit of the NRIC by an integer weight before summing the products.\n",
    "\n",
    "One way to do so is to use an index:"
   ]
  },
  {
   "cell_type": "code",
   "execution_count": null,
   "id": "fcd5e273",
   "metadata": {},
   "outputs": [],
   "source": [
    "nric_digits = [1, 2, 3, 4, 5, 6, 7]\n",
    "weights = [2, 7, 6, 5, 4, 3, 2]\n",
    "\n",
    "total = 0\n",
    "for i in range(len(nric_digits)):\n",
    "    total = total + (nric_digits[i] * weights[i])\n",
    "\n",
    "print(\"Total:\", total)"
   ]
  },
  {
   "cell_type": "markdown",
   "id": "970e628f",
   "metadata": {},
   "source": [
    "## Repacking\n",
    "\n",
    "Another way to do so is to \"repack\" the lists.\n",
    "\n",
    "### Exercise\n",
    "\n",
    "Using the accumulator pattern (or otherwise), write a function `zip(list1, list2)` that repacks the two lists into a single list containing pairs of items from `list1` and `list2`.\n",
    "\n",
    "**Example**\n",
    "\n",
    "    >>> list1 = [1, 2, 3, 4, 5, 6, 7]\n",
    "    >>> list2 = [2, 7, 6, 5, 4, 3, 2]\n",
    "    >>> zip(list1, list2)\n",
    "    [[1, 2], [2, 7], [3, 6], [4, 5], [5, 4], [6, 3], [7, 2]]"
   ]
  },
  {
   "cell_type": "code",
   "execution_count": null,
   "id": "255df7c4",
   "metadata": {},
   "outputs": [],
   "source": [
    "def zip(list1: list, list2: list) -> list:\n",
    "    \"\"\"Returns a list containing pairs of items from list1 and list2.\"\"\"\n",
    "    # Complete your code below.\n",
    "    "
   ]
  },
  {
   "cell_type": "markdown",
   "id": "56e96488",
   "metadata": {},
   "source": [
    "## Zip\n",
    "\n",
    "With our helper function `zip()`, iterating over two lists becomes easier:"
   ]
  },
  {
   "cell_type": "code",
   "execution_count": null,
   "id": "3fe505aa",
   "metadata": {},
   "outputs": [],
   "source": [
    "# This code only works if your zip() function is implemented correctly!\n",
    "nric_digits = [1, 2, 3, 4, 5, 6, 7]\n",
    "weights = [2, 7, 6, 5, 4, 3, 2]\n",
    "\n",
    "total = 0\n",
    "for digit, weight in zip(nric_digits, weights):\n",
    "    total = total + (nric_digit * weight)\n",
    "\n",
    "print(\"Total:\", total)"
   ]
  },
  {
   "cell_type": "markdown",
   "id": "ccb0e5ba",
   "metadata": {},
   "source": [
    "## Builtin function: zip()\n",
    "\n",
    "Fortunately, we don't have to recreate the `zip()` function each time we need it: Python already provides it as a built-in function. However, it works a little differently from our version:"
   ]
  },
  {
   "cell_type": "code",
   "execution_count": null,
   "id": "40ca8674",
   "metadata": {},
   "outputs": [],
   "source": [
    "try:\n",
    "    del zip  # Delete our version and \"restore\" Python's built-in version\n",
    "except:\n",
    "    pass\n",
    "\n",
    "zip(nric_digits, weights)"
   ]
  },
  {
   "cell_type": "markdown",
   "id": "c6ee48f3",
   "metadata": {},
   "source": [
    "You'll notice that the built-in `zip()` function does not return a list, but a strange-looking object. This object is called an iterator. We can't use it as a list, but we can use it in a loop:"
   ]
  },
  {
   "cell_type": "code",
   "execution_count": null,
   "id": "54990a4b",
   "metadata": {},
   "outputs": [],
   "source": [
    "for digit, weight in zip(nric_digits, weights):\n",
    "    print(\"Digit:\", digit, \"Weight:\", weight)"
   ]
  }
 ],
 "metadata": {
  "kernelspec": {
   "display_name": "Python 3 (ipykernel)",
   "language": "python",
   "name": "python3"
  },
  "language_info": {
   "codemirror_mode": {
    "name": "ipython",
    "version": 3
   },
   "file_extension": ".py",
   "mimetype": "text/x-python",
   "name": "python",
   "nbconvert_exporter": "python",
   "pygments_lexer": "ipython3",
   "version": "3.8.12"
  }
 },
 "nbformat": 4,
 "nbformat_minor": 5
}
