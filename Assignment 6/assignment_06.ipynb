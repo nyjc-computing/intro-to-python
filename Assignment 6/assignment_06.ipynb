{
 "cells": [
  {
   "cell_type": "markdown",
   "metadata": {},
   "source": [
    "## 1-minute introduction to Jupyter ##\n",
    "\n",
    "A Jupyter notebook consists of cells. Each cell contains either text or code.\n",
    "\n",
    "A text cell will not have any text to the left of the cell. A code cell has `In [ ]:` to the left of the cell.\n",
    "\n",
    "If the cell contains code, you can edit it. Press <kbd>Enter</kbd> to edit the selected cell. While editing the code, press <kbd>Enter</kbd> to create a new line, or <kbd>Shift</kbd>+<kbd>Enter</kbd> to run the code. If you are not editing the code, select a cell and press <kbd>Ctrl</kbd>+<kbd>Enter</kbd> to run the code."
   ]
  },
  {
   "cell_type": "markdown",
   "metadata": {},
   "source": [
    "Before you turn this problem in, make sure everything runs as expected. First, **restart the kernel** (in the menubar, select Kernel$\\rightarrow$Restart) and then **run all cells** (in the menubar, select Cell$\\rightarrow$Run All).\n",
    "\n",
    "Make sure you fill in any place that says `YOUR CODE HERE` or \"YOUR ANSWER HERE\", as well as your name and collaborators below:"
   ]
  },
  {
   "cell_type": "code",
   "execution_count": null,
   "metadata": {},
   "outputs": [],
   "source": [
    "NAME = \"\"\n",
    "COLLABORATORS = \"\""
   ]
  },
  {
   "cell_type": "markdown",
   "metadata": {},
   "source": [
    "---"
   ]
  },
  {
   "cell_type": "markdown",
   "metadata": {
    "deletable": false,
    "editable": false,
    "nbgrader": {
     "cell_type": "markdown",
     "checksum": "767f4d872612069e8f9e2a8a6987008a",
     "grade": false,
     "grade_id": "cell-a965c0c70630d0c7",
     "locked": true,
     "schema_version": 3,
     "solution": false,
     "task": false
    }
   },
   "source": [
    "# Assignment 6: Standard libraries, `while` loops\n",
    "\n",
    "In this assignment, you should write your code in a **readable** way, and **modularise** chunks of code that would otherwise be repeated.\n",
    "\n",
    "Modularising a section of program code means to reorganise it in a way that allows it to be reused in another part of the code easily, usually in the form of a function.\n",
    "\n",
    "Your function definitions should have appropriate **docstrings**."
   ]
  },
  {
   "cell_type": "markdown",
   "metadata": {
    "deletable": false,
    "editable": false,
    "nbgrader": {
     "cell_type": "markdown",
     "checksum": "728f01c1b6641610e318fbd6d161152b",
     "grade": false,
     "grade_id": "cell-c2da72fd4a959c3c",
     "locked": true,
     "schema_version": 3,
     "solution": false,
     "task": false
    }
   },
   "source": [
    "## Part 1\n",
    "\n",
    "Write a function, `clock(n)`, that will show the time and update it once every second, for `n` number of seconds.\n",
    "\n",
    "Your clock should show the time in `HH:MM:SS` format without milliseconds.\n",
    "\n",
    "### Expected output\n",
    "\n",
    "    >>> clock(3)\n",
    "    12:59:17"
   ]
  },
  {
   "cell_type": "code",
   "execution_count": null,
   "metadata": {
    "deletable": false,
    "nbgrader": {
     "cell_type": "code",
     "checksum": "70e79cf90af50918e43b38004db5abe7",
     "grade": true,
     "grade_id": "cell-7cc4baaf0efdd0cc",
     "locked": false,
     "points": 2,
     "schema_version": 3,
     "solution": true,
     "task": false
    }
   },
   "outputs": [],
   "source": [
    "# Write a function to show the time and update it once every second for n seconds\n",
    "\n",
    "### YOUR ANSWER HERE\n",
    "def clock(n):\n",
    "\n",
    "\n",
    "clock(3)"
   ]
  },
  {
   "cell_type": "markdown",
   "metadata": {
    "deletable": false,
    "editable": false,
    "nbgrader": {
     "cell_type": "markdown",
     "checksum": "60d1dd4e7bacc20e3015d9ac3e90ca8c",
     "grade": false,
     "grade_id": "cell-bd0f917d9eb44b40",
     "locked": true,
     "schema_version": 3,
     "solution": false,
     "task": false
    }
   },
   "source": [
    "## Part 2\n",
    "\n",
    "The `os.listdir(directory)` function from the `os` module returns a `list` of files in the given `directory`. If no argument is given to `os.listdir()`, it uses `'.'` as the default value.\n",
    "\n",
    "    >>> import os\n",
    "    >>> os.listdir('.')\n",
    "    ['.ipynb_checkpoints',\n",
    "     'assignment_06.ipynb',\n",
    "     'folder1',\n",
    "     'words.txt']\n",
    "     \n",
    "    >>> os.listdir()\n",
    "    ['.ipynb_checkpoints',\n",
    "     'assignment_06.ipynb',\n",
    "     'folder1',\n",
    "     'words.txt']\n",
    "     \n",
    "    >>> os.listdir('folder1')\n",
    "    ['file1.txt', 'folder1-1', 'folder1-2']\n",
    "    "
   ]
  },
  {
   "cell_type": "markdown",
   "metadata": {
    "deletable": false,
    "editable": false,
    "nbgrader": {
     "cell_type": "markdown",
     "checksum": "93ce340e883ea9b57f798233b1cbd5fb",
     "grade": false,
     "grade_id": "cell-2dc2ea67c5efa567",
     "locked": true,
     "schema_version": 3,
     "solution": false,
     "task": false
    }
   },
   "source": [
    "### Task 1\n",
    "\n",
    "This program code defines a function `list_files(filepath)` that takes in a `filepath` (string) and returns a `list` of files in the filepath.\n",
    "\n",
    "    def list_files(filepath):\n",
    "        import os\n",
    "\n",
    "        list_of_files = os.listdir(filepath)\n",
    "        return list_of_files\n",
    "\n",
    "Modify the code so that it is able to return a list of files in the current directory when no argument is given to `list_files()`.\n",
    "\n",
    "### Expected output\n",
    "\n",
    "    >>> list_files()\n",
    "    ['assignment_06.ipynb', 'folder1', '.ipynb_checkpoints']"
   ]
  },
  {
   "cell_type": "code",
   "execution_count": 7,
   "metadata": {},
   "outputs": [
    {
     "name": "stderr",
     "output_type": "stream",
     "text": [
      "ERROR:root:Internal Python error in the inspect module.\n",
      "Below is the traceback from this internal error.\n",
      "\n"
     ]
    },
    {
     "name": "stdout",
     "output_type": "stream",
     "text": [
      "Traceback (most recent call last):\n",
      "  File \"/opt/tljh/user/lib/python3.6/site-packages/IPython/core/interactiveshell.py\", line 3319, in run_code\n",
      "    exec(code_obj, self.user_global_ns, self.user_ns)\n",
      "  File \"<ipython-input-7-a93ffb0f98e0>\", line 2, in <module>\n",
      "    os.getcwd()\n",
      "FileNotFoundError: [Errno 2] No such file or directory\n",
      "\n",
      "During handling of the above exception, another exception occurred:\n",
      "\n",
      "Traceback (most recent call last):\n",
      "  File \"/opt/tljh/user/lib/python3.6/site-packages/IPython/core/interactiveshell.py\", line 2034, in showtraceback\n",
      "    stb = value._render_traceback_()\n",
      "AttributeError: 'FileNotFoundError' object has no attribute '_render_traceback_'\n",
      "\n",
      "During handling of the above exception, another exception occurred:\n",
      "\n",
      "Traceback (most recent call last):\n",
      "  File \"/opt/tljh/user/lib/python3.6/site-packages/IPython/core/ultratb.py\", line 1151, in get_records\n",
      "    return _fixed_getinnerframes(etb, number_of_lines_of_context, tb_offset)\n",
      "  File \"/opt/tljh/user/lib/python3.6/site-packages/IPython/core/ultratb.py\", line 319, in wrapped\n",
      "    return f(*args, **kwargs)\n",
      "  File \"/opt/tljh/user/lib/python3.6/site-packages/IPython/core/ultratb.py\", line 353, in _fixed_getinnerframes\n",
      "    records = fix_frame_records_filenames(inspect.getinnerframes(etb, context))\n",
      "  File \"/opt/tljh/user/lib/python3.6/inspect.py\", line 1488, in getinnerframes\n",
      "    frameinfo = (tb.tb_frame,) + getframeinfo(tb, context)\n",
      "  File \"/opt/tljh/user/lib/python3.6/inspect.py\", line 1446, in getframeinfo\n",
      "    filename = getsourcefile(frame) or getfile(frame)\n",
      "  File \"/opt/tljh/user/lib/python3.6/inspect.py\", line 696, in getsourcefile\n",
      "    if getattr(getmodule(object, filename), '__loader__', None) is not None:\n",
      "  File \"/opt/tljh/user/lib/python3.6/inspect.py\", line 725, in getmodule\n",
      "    file = getabsfile(object, _filename)\n",
      "  File \"/opt/tljh/user/lib/python3.6/inspect.py\", line 709, in getabsfile\n",
      "    return os.path.normcase(os.path.abspath(_filename))\n",
      "  File \"/opt/tljh/user/lib/python3.6/posixpath.py\", line 376, in abspath\n",
      "    cwd = os.getcwd()\n",
      "FileNotFoundError: [Errno 2] No such file or directory\n"
     ]
    },
    {
     "ename": "FileNotFoundError",
     "evalue": "[Errno 2] No such file or directory",
     "output_type": "error",
     "traceback": [
      "\u001b[0;31m---------------------------------------------------------------------------\u001b[0m"
     ]
    }
   ],
   "source": [
    "import os\n",
    "os.getcwd()"
   ]
  },
  {
   "cell_type": "code",
   "execution_count": null,
   "metadata": {
    "deletable": false,
    "nbgrader": {
     "cell_type": "code",
     "checksum": "fded14adf358a46732e09080d6cf390e",
     "grade": false,
     "grade_id": "cell-23b717520f88e8dc",
     "locked": false,
     "schema_version": 3,
     "solution": true,
     "task": false
    }
   },
   "outputs": [],
   "source": [
    "# Task 1: Modify the code so that this code cell works without raising an Exception\n",
    "### YOUR ANSWER HERE\n",
    "\n",
    "\n",
    "# Do not modify any code after this line\n",
    "list_files() # This line should work without modification"
   ]
  },
  {
   "cell_type": "code",
   "execution_count": null,
   "metadata": {
    "deletable": false,
    "editable": false,
    "nbgrader": {
     "cell_type": "code",
     "checksum": "d13701a1dee64ff210b855961be1e87b",
     "grade": true,
     "grade_id": "cell-5b4e4050fa3152cd",
     "locked": true,
     "points": 1,
     "schema_version": 3,
     "solution": false,
     "task": false
    }
   },
   "outputs": [],
   "source": [
    "import os\n",
    "assert list_files() == os.listdir(os.getcwd()), \\\n",
    "'File list from list_files() does not match current directory listing'"
   ]
  },
  {
   "cell_type": "markdown",
   "metadata": {
    "deletable": false,
    "editable": false,
    "nbgrader": {
     "cell_type": "markdown",
     "checksum": "b256120149ba24393cb4189ad869cc90",
     "grade": false,
     "grade_id": "cell-34044f4322faeb8c",
     "locked": true,
     "schema_version": 3,
     "solution": false,
     "task": false
    }
   },
   "source": [
    "### Listing subdirectories with `os.listdir()`\n",
    "\n",
    "The path of files and folders in subdirectories must be given relative to the current folder. \n",
    "\n",
    "Each level down into a subfolder is demarcated by a forward slash '/' in the `filepath`.\n",
    "\n",
    "E.g. `folder1/folder1-1` means that `folder1` is in the current directory, while `folder1-1` is a folder in `folder1`.\n",
    "\n",
    "    >>> os.listdir('folder1-1')\n",
    "    FileNotFoundError: [WinError 3] The system cannot find the path specified: 'folder1-1'\n",
    "    >>> os.listdir('folder1/folder1-1')\n",
    "    ['file1-1-1.txt', 'folder1-1-1']\n",
    "\n"
   ]
  },
  {
   "cell_type": "code",
   "execution_count": null,
   "metadata": {},
   "outputs": [],
   "source": [
    "# Test your code here\n",
    "os.listdir('folder1-1')"
   ]
  },
  {
   "cell_type": "markdown",
   "metadata": {
    "deletable": false,
    "editable": false,
    "nbgrader": {
     "cell_type": "markdown",
     "checksum": "3201f817ca99625562b6c21852a2b3fa",
     "grade": false,
     "grade_id": "cell-5b7e1fed03482cf0",
     "locked": true,
     "schema_version": 3,
     "solution": false,
     "task": false
    }
   },
   "source": [
    "### Task 2\n",
    "\n",
    "The function `walk_listing(filepath)` prints all the names of items in `filepath`. For each item, its type (file or directory) is indicated in `[`square brackets`]`.\n",
    "\n",
    "    def walk_listing(filepath):\n",
    "        list_of_files = list_files(filepath)\n",
    "        for this in list_of_files:\n",
    "            if os.path.isfile(this):\n",
    "                print(f'[file] {this}')\n",
    "            elif os.path.isdir(this):\n",
    "                print(f'[dir] {this}')\n",
    "\n",
    "Modify the function so that it **returns a list** all the names of items in `filepath`, **including the contents of subdirectories**. you do not need to include `[file]` or `[dir]`.\n",
    "\n",
    "### Expected output\n",
    "\n",
    "    >>> walk_listing('.')\n",
    "    ['./assignment_06.ipynb',\n",
    "     './folder1',\n",
    "     './folder1/folder1-2',\n",
    "     './folder1/folder1-2/file1-2.txt',\n",
    "     './folder1/folder1-2/.ipynb_checkpoints',\n",
    "     './folder1/.ipynb_checkpoints',\n",
    "     './folder1/folder1-1',\n",
    "     './folder1/folder1-1/file1-1-1.txt',\n",
    "     './folder1/folder1-1/.ipynb_checkpoints',\n",
    "     './folder1/folder1-1/folder1-1-1',\n",
    "     './folder1/folder1-1/folder1-1-1/.ipynb_checkpoints',\n",
    "     './folder1/folder1-1/folder1-1-1/file1-1-1-1.txt',\n",
    "     './.ipynb_checkpoints',\n",
    "     './.ipynb_checkpoints/assignment_06-checkpoint.ipynb']\n",
    "\n",
    "Remember that `os.listdir()` needs the path of items in subdirectories relative to the current folder."
   ]
  },
  {
   "cell_type": "code",
   "execution_count": null,
   "metadata": {
    "deletable": false,
    "nbgrader": {
     "cell_type": "code",
     "checksum": "fd87000e9db3df6c9b2f2115941deb37",
     "grade": false,
     "grade_id": "cell-07e78fcbd441e896",
     "locked": false,
     "schema_version": 3,
     "solution": true,
     "task": false
    }
   },
   "outputs": [],
   "source": [
    "# Task 2: Write code to list all files in the current directory recursively\n",
    "import os, time\n",
    "\n",
    "def walk_listing(filepath):\n",
    "    ### YOUR ANSWER HERE\n",
    "    newlist = []\n",
    "    initiallist = os.listdir(filepath)\n",
    "    for filename in initiallist:\n",
    "        fullname = f'{filepath}/{filename}'\n",
    "        newlist.append(fullname)\n",
    "    i = 0\n",
    "    while i < len(newlist):\n",
    "        time.sleep(0.1)\n",
    "        filename = newlist[i]\n",
    "#     for filename in os.listdir(filepath):\n",
    "        fullname = f'{filepath}/{filename}'\n",
    "        newlist.append(fullname)\n",
    "        if os.path.isdir(fullname):\n",
    "            for subfilename in os.listdir(fullname):\n",
    "                subfullname = f'{fullname}/{subfilename}'\n",
    "                newlist.append(subfullname)\n",
    "        i += 1\n",
    "        print(newlist)\n",
    "\n",
    "walk_listing('.')"
   ]
  },
  {
   "cell_type": "code",
   "execution_count": null,
   "metadata": {
    "deletable": false,
    "editable": false,
    "nbgrader": {
     "cell_type": "code",
     "checksum": "882a31a5aa5c2502d0a546b92b3518d7",
     "grade": true,
     "grade_id": "cell-eabc1493975e9724",
     "locked": true,
     "points": 1,
     "schema_version": 3,
     "solution": false,
     "task": false
    }
   },
   "outputs": [],
   "source": [
    "# Run this cell to test your solution\n",
    "for file in ('./assignment_06.ipynb', './folder1'):\n",
    "    assert file in walk_listing('.'), f'Missing file {file} in listing'"
   ]
  },
  {
   "cell_type": "code",
   "execution_count": null,
   "metadata": {
    "deletable": false,
    "editable": false,
    "nbgrader": {
     "cell_type": "code",
     "checksum": "ae2cf497838ed9e656471f4e9f8d5b36",
     "grade": true,
     "grade_id": "cell-982ad207e4a7b11f",
     "locked": true,
     "points": 1,
     "schema_version": 3,
     "solution": false,
     "task": false
    }
   },
   "outputs": [],
   "source": [
    "# Hidden tests, ignore this cell"
   ]
  },
  {
   "cell_type": "markdown",
   "metadata": {
    "deletable": false,
    "editable": false,
    "nbgrader": {
     "cell_type": "markdown",
     "checksum": "3fe9179b81eeb0edd4635a3e490afefb",
     "grade": false,
     "grade_id": "cell-c0db9824513dada2",
     "locked": true,
     "schema_version": 3,
     "solution": false,
     "task": false
    }
   },
   "source": [
    "## Part 3: Lowest common multiple (LCM) with `while` loop\n",
    "\n",
    "A simple algorithm for calculating the lowest common multiple of `a` and `b` is as follows:\n",
    "\n",
    "1. Check if a and b are equal\n",
    "2. If they are equal, a = b = lcm (lowest common multiple) [EXIT]\n",
    "3. If they are not equal, check whether a or b is smaller.\n",
    "4. The smaller variable is incremented by its original value.\n",
    "    - i.e. a += a_original, or b += b_original\n",
    "5. Go back to Step 1\n",
    "\n",
    "Implement the above algorithm using a `while` loop. Write your code as a function, `lcm(a,b)` that returns the lowest common multiple of `a` and `b`.\n",
    "\n",
    "### Example output\n",
    "\n",
    "    >>> lcm(2,3)\n",
    "    6\n",
    "    >>> lcm(12,5)\n",
    "    60"
   ]
  },
  {
   "cell_type": "code",
   "execution_count": null,
   "metadata": {
    "deletable": false,
    "nbgrader": {
     "cell_type": "code",
     "checksum": "6b5e8ba36b127ceef3cbb18622e27f8c",
     "grade": false,
     "grade_id": "cell-54b83892fb1327a4",
     "locked": false,
     "schema_version": 3,
     "solution": true,
     "task": false
    }
   },
   "outputs": [],
   "source": [
    "def lcm(a, b):\n",
    "    ### YOUR ANSWER HERE\n",
    "    \n",
    "\n",
    "lcm(2,3)"
   ]
  },
  {
   "cell_type": "code",
   "execution_count": null,
   "metadata": {
    "deletable": false,
    "editable": false,
    "nbgrader": {
     "cell_type": "code",
     "checksum": "db63e64c8054d80af3abc3ba5489e5f0",
     "grade": true,
     "grade_id": "cell-c5f6becdce13a059",
     "locked": true,
     "points": 1,
     "schema_version": 3,
     "solution": false,
     "task": false
    }
   },
   "outputs": [],
   "source": [
    "# Run this cell to test your solution\n",
    "testdata = [(2,3,6),\n",
    "            (12,5,60),\n",
    "            (11,12,132),\n",
    "            (0,7,0),\n",
    "           ]\n",
    "\n",
    "for a,b,ans in testdata:\n",
    "    assert lcm(a,b) == ans, f'Wrong result for lcm({a},{b}): should be {ans}'"
   ]
  },
  {
   "cell_type": "code",
   "execution_count": null,
   "metadata": {
    "deletable": false,
    "editable": false,
    "nbgrader": {
     "cell_type": "code",
     "checksum": "7df921bc2e141a8d08e136a19fd61540",
     "grade": true,
     "grade_id": "cell-665aea77873dd09f",
     "locked": true,
     "points": 1,
     "schema_version": 3,
     "solution": false,
     "task": false
    }
   },
   "outputs": [],
   "source": [
    "# Hidden tests, ignore this cell"
   ]
  },
  {
   "cell_type": "markdown",
   "metadata": {
    "deletable": false,
    "editable": false,
    "nbgrader": {
     "cell_type": "markdown",
     "checksum": "5e419c137544885e9c687b0be98fac16",
     "grade": false,
     "grade_id": "cell-98fab6e51e6d94cc",
     "locked": true,
     "schema_version": 3,
     "solution": false,
     "task": false
    }
   },
   "source": [
    "## Part 4: Greatest common factor (GCF) with `while` loop\n",
    "\n",
    "[Euclid's Algorithm](https://en.wikipedia.org/wiki/Euclidean_algorithm) is an algorithm for calculating the greatest common factor `g` of `a` and `b` such that both `a` and `b` are divisible by `g`:\n",
    "\n",
    "1. Check if a and b are equal\n",
    "2. If they are equal, a = b = gcf (greatest common factor) [EXIT]\n",
    "3. If they are not equal, the difference between the two variables, `d`, must also be divisible by `g`.\n",
    "4. Calculate the GCF of the two smallest variables among `a`, `b`, and `g` (Start from Step 1)\n",
    "\n",
    "Implement the above algorithm using a `while` loop. Write your code as a function, `gcf(a,b)` that returns the greatest common factor of `a` and `b`.\n",
    "\n",
    "### Example output\n",
    "\n",
    "    >>> gcf(60,48)\n",
    "    12\n",
    "    >>> gcf(70,14)\n",
    "    14"
   ]
  },
  {
   "cell_type": "code",
   "execution_count": null,
   "metadata": {
    "deletable": false,
    "nbgrader": {
     "cell_type": "code",
     "checksum": "ba2d2e9f41d76eb426869e6d60c37722",
     "grade": false,
     "grade_id": "cell-7e2d4d1903b626da",
     "locked": false,
     "schema_version": 3,
     "solution": true,
     "task": false
    }
   },
   "outputs": [],
   "source": [
    "def gcf(a, b):\n",
    "    ### YOUR ANSWER HERE\n",
    "    \n",
    "\n",
    "gcf(60,48)"
   ]
  },
  {
   "cell_type": "code",
   "execution_count": null,
   "metadata": {
    "deletable": false,
    "editable": false,
    "nbgrader": {
     "cell_type": "code",
     "checksum": "9cbc41391d746fe892032bd41bd65537",
     "grade": true,
     "grade_id": "cell-bea6eb02680a1e06",
     "locked": true,
     "points": 1,
     "schema_version": 3,
     "solution": false,
     "task": false
    }
   },
   "outputs": [],
   "source": [
    "# Run this cell to test your solution\n",
    "testdata = [(60,48,12),\n",
    "            (70,14,14),\n",
    "            (99,0,99),\n",
    "#             (0,3,0),\n",
    "            (0,3,3),\n",
    "            (58,26,2),\n",
    "            (27,13,1),\n",
    "            (100,100,100),\n",
    "           ]\n",
    "\n",
    "for a,b,ans in testdata:\n",
    "    result = gcf(a,b)\n",
    "    assert result == ans, f'Wrong result for gcf({a},{b}): got {result}, should be {ans}'"
   ]
  },
  {
   "cell_type": "code",
   "execution_count": null,
   "metadata": {
    "deletable": false,
    "editable": false,
    "nbgrader": {
     "cell_type": "code",
     "checksum": "883d067f910d48d68199702a820c6618",
     "grade": true,
     "grade_id": "cell-9c49f2217ea939de",
     "locked": true,
     "points": 1,
     "schema_version": 3,
     "solution": false,
     "task": false
    }
   },
   "outputs": [],
   "source": [
    "# Hidden tests, ignore this cell"
   ]
  },
  {
   "cell_type": "markdown",
   "metadata": {
    "deletable": false,
    "editable": false,
    "nbgrader": {
     "cell_type": "markdown",
     "checksum": "6261f5013b0bc976c1bc84c3ac2e5879",
     "grade": false,
     "grade_id": "cell-ad1672e66728167f",
     "locked": true,
     "schema_version": 3,
     "solution": false,
     "task": false
    }
   },
   "source": [
    "# Feedback and suggestions\n",
    "\n",
    "Any feedback or suggestions for this assignment?"
   ]
  },
  {
   "cell_type": "markdown",
   "metadata": {
    "deletable": false,
    "nbgrader": {
     "cell_type": "markdown",
     "checksum": "8b2c5aa73b1a793329d6b92780994acd",
     "grade": true,
     "grade_id": "cell-63f8f1cb7ff65bb1",
     "locked": false,
     "points": 0,
     "schema_version": 3,
     "solution": true,
     "task": false
    }
   },
   "source": [
    "YOUR ANSWER HERE"
   ]
  }
 ],
 "metadata": {
  "kernelspec": {
   "display_name": "Python 3",
   "language": "python",
   "name": "python3"
  },
  "language_info": {
   "codemirror_mode": {
    "name": "ipython",
    "version": 3
   },
   "file_extension": ".py",
   "mimetype": "text/x-python",
   "name": "python",
   "nbconvert_exporter": "python",
   "pygments_lexer": "ipython3",
   "version": "3.6.7"
  }
 },
 "nbformat": 4,
 "nbformat_minor": 2
}
