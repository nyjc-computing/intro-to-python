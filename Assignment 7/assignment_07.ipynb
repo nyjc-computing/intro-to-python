{
 "cells": [
  {
   "cell_type": "markdown",
   "metadata": {},
   "source": [
    "## 1-minute introduction to Jupyter ##\n",
    "\n",
    "A Jupyter notebook consists of cells. Each cell contains either text or code.\n",
    "\n",
    "A text cell will not have any text to the left of the cell. A code cell has `In [ ]:` to the left of the cell.\n",
    "\n",
    "If the cell contains code, you can edit it. Press <kbd>Enter</kbd> to edit the selected cell. While editing the code, press <kbd>Enter</kbd> to create a new line, or <kbd>Shift</kbd>+<kbd>Enter</kbd> to run the code. If you are not editing the code, select a cell and press <kbd>Ctrl</kbd>+<kbd>Enter</kbd> to run the code."
   ]
  },
  {
   "cell_type": "markdown",
   "metadata": {},
   "source": [
    "Before you turn this problem in, make sure everything runs as expected. First, **restart the kernel** (in the menubar, select Kernel$\\rightarrow$Restart) and then **run all cells** (in the menubar, select Cell$\\rightarrow$Run All).\n",
    "\n",
    "Make sure you fill in any place that says `YOUR CODE HERE` or \"YOUR ANSWER HERE\", as well as your name and collaborators below:"
   ]
  },
  {
   "cell_type": "code",
   "execution_count": null,
   "metadata": {},
   "outputs": [],
   "source": [
    "NAME = \"\"\n",
    "COLLABORATORS = \"\""
   ]
  },
  {
   "cell_type": "markdown",
   "metadata": {},
   "source": [
    "---"
   ]
  },
  {
   "cell_type": "markdown",
   "metadata": {
    "deletable": false,
    "editable": false,
    "nbgrader": {
     "cell_type": "markdown",
     "checksum": "e092d6c6ae4be087700eabdd4622bb8f",
     "grade": false,
     "grade_id": "cell-a965c0c70630d0c7",
     "locked": true,
     "schema_version": 3,
     "solution": false,
     "task": false
    }
   },
   "source": [
    "# Assignment 7: Python data types: `dict`, `tuple`, `set`\n",
    "\n",
    "In this assignment, you should write your code in a **readable** way, and **modularise** chunks of code that would otherwise be repeated.\n",
    "\n",
    "Modularising a section of program code means to reorganise it in a way that allows it to be reused in another part of the code easily, usually in the form of a function.\n",
    "\n",
    "Your function definitions should have appropriate **docstrings**."
   ]
  },
  {
   "cell_type": "markdown",
   "metadata": {
    "deletable": false,
    "editable": false,
    "nbgrader": {
     "cell_type": "markdown",
     "checksum": "cdfdc5e2d3f92eff65d2a80f3d49e8b0",
     "grade": false,
     "grade_id": "cell-041351b87d333512",
     "locked": true,
     "schema_version": 3,
     "solution": false,
     "task": false
    }
   },
   "source": [
    "## Part 1: Numerals to text\n",
    "\n",
    "In the formal style guides for the English language, it is recommended to spell out singular numbers in full. Applications that follow this guideline have to be able to convert numbers to text in a consistent fashion.\n",
    "\n",
    "Write a function, `text_numeral(num)` that takes in `num` (`int` < 1000) and returns a `str` of `num` in text format.\n",
    "\n",
    "### Expected output\n",
    "\n",
    "    >>> text_numeral(15)\n",
    "    'fifteen'\n",
    "    >>> text_numeral(29)\n",
    "    'twenty-nine'\n",
    "    >>> text_numeral(132)\n",
    "    'one hundred and thirty-two'\n",
    "    >>> text_numeral(250)\n",
    "    'two hundred and fifty'\n",
    "    \n",
    "**Hint:** Draw up a list of all the words you will need. Use a `dict` to store mappings of single-word numbers to strings (e.g. one, two, tree, ... , ten, eleven, twelve, ... twenty, thirty, forty, ...).  \n",
    "Numbers not in this list have to be broken down to combinations of two single-word numbers.  "
   ]
  },
  {
   "cell_type": "code",
   "execution_count": null,
   "metadata": {
    "deletable": false,
    "nbgrader": {
     "cell_type": "code",
     "checksum": "09c689160f23f9f7447a6dae2ce12807",
     "grade": false,
     "grade_id": "cell-ec172748d0a763bc",
     "locked": false,
     "schema_version": 3,
     "solution": true,
     "task": false
    }
   },
   "outputs": [],
   "source": [
    "# Write a function to convert numbers to text numerals\n",
    "\n",
    "def text_numeral(num:int):\n"
   ]
  },
  {
   "cell_type": "markdown",
   "metadata": {
    "deletable": false,
    "nbgrader": {
     "cell_type": "markdown",
     "checksum": "91141909f770089da1b2e82a81ed37cb",
     "grade": true,
     "grade_id": "cell-1c54094ea29e1cf6",
     "locked": false,
     "points": 1,
     "schema_version": 3,
     "solution": true,
     "task": false
    }
   },
   "source": [
    "## Cell for manual grading; ignore this cell\n",
    "\n",
    "YOUR ANSWER HERE"
   ]
  },
  {
   "cell_type": "code",
   "execution_count": null,
   "metadata": {
    "deletable": false,
    "editable": false,
    "nbgrader": {
     "cell_type": "code",
     "checksum": "5079ebe17b54a2d1a63e1a60881f0c22",
     "grade": true,
     "grade_id": "cell-0c7909ca3e617a23",
     "locked": true,
     "points": 3,
     "schema_version": 3,
     "solution": false,
     "task": false
    }
   },
   "outputs": [],
   "source": [
    "# Run this code cell to validate your function\n",
    "test_values = {15: 'fifteen',\n",
    "               29: 'twenty-nine',\n",
    "               132: 'one hundred and thirty-two',\n",
    "               250: 'two hundred and fifty',\n",
    "               735: 'seven hundred and thirty-five',\n",
    "              }\n",
    "for test,ans in test_values.items():\n",
    "    result = text_numeral(test)\n",
    "    print(f'{test}: {result}')\n",
    "    assert result == ans, f'input {test} gave {result}, should be {ans} instead'"
   ]
  },
  {
   "cell_type": "markdown",
   "metadata": {
    "deletable": false,
    "editable": false,
    "nbgrader": {
     "cell_type": "markdown",
     "checksum": "219a7b97350602a2493b779f6295789e",
     "grade": false,
     "grade_id": "cell-914b80a8defda316",
     "locked": true,
     "schema_version": 3,
     "solution": false,
     "task": false
    }
   },
   "source": [
    "## Part 2: Score and grade calculation\n",
    "\n",
    "The file `testscores.csv` contains test scores for a cohort of students. The first row contains header names.\n",
    "\n",
    "### Task 1: Score to grade mapping\n",
    "\n",
    "**Generate** a `dict`, `grade_for`, that has score 0-100 (`int`) as keys, and the appropriate grade as values.  \n",
    "You may use a `for` or `while` loop.\n",
    "\n",
    "The letter grade for each score range is as follows:\n",
    "\n",
    "    A:      score >= 70\n",
    "    B: 70 > score >= 60\n",
    "    C: 60 > score >= 55\n",
    "    D: 55 > score >= 50\n",
    "    E: 50 > score >= 45\n",
    "    S: 45 > score >= 40\n",
    "    U: 40 > score\n",
    "    \n",
    "### Expected output\n",
    "\n",
    "    >>> grade_for[30]\n",
    "    'U'\n",
    "    >>> grade_for[55]\n",
    "    'C'\n",
    "    >>> grade_for[69]\n",
    "    'B'"
   ]
  },
  {
   "cell_type": "code",
   "execution_count": null,
   "metadata": {
    "deletable": false,
    "nbgrader": {
     "cell_type": "code",
     "checksum": "60ab805a67c10826521688d9a8218cc1",
     "grade": false,
     "grade_id": "cell-08b4caba74070014",
     "locked": false,
     "schema_version": 3,
     "solution": true,
     "task": false
    }
   },
   "outputs": [],
   "source": [
    "# Generate grade_for, a dict containing score as key and grade as value\n"
   ]
  },
  {
   "cell_type": "code",
   "execution_count": null,
   "metadata": {
    "deletable": false,
    "editable": false,
    "nbgrader": {
     "cell_type": "code",
     "checksum": "88b44e9bc819809a7aab357454d58689",
     "grade": true,
     "grade_id": "cell-206387614b7b43e3",
     "locked": true,
     "points": 3,
     "schema_version": 3,
     "solution": false,
     "task": false
    }
   },
   "outputs": [],
   "source": [
    "# Run this cell to validate your dict\n",
    "assert grade_for[30] == 'U', f'Grade for 30 should be U'\n",
    "assert grade_for[55] == 'C', f'Grade for 55 should be C'\n",
    "assert grade_for[69] == 'B', f'Grade for 69 should be B'"
   ]
  },
  {
   "cell_type": "code",
   "execution_count": null,
   "metadata": {
    "deletable": false,
    "editable": false,
    "nbgrader": {
     "cell_type": "code",
     "checksum": "85cd5833a616cb49d423d9d6a8eb2d6f",
     "grade": true,
     "grade_id": "cell-7d1f75943a2cd036",
     "locked": true,
     "points": 2,
     "schema_version": 3,
     "solution": false,
     "task": false
    }
   },
   "outputs": [],
   "source": [
    "# Hidden tests; ignore this cell"
   ]
  },
  {
   "cell_type": "markdown",
   "metadata": {
    "deletable": false,
    "nbgrader": {
     "cell_type": "markdown",
     "checksum": "cc4a4f87b757a23f41ca6b7bb53bc581",
     "grade": true,
     "grade_id": "cell-e12a9743d19ddc85",
     "locked": false,
     "points": 2,
     "schema_version": 3,
     "solution": true,
     "task": false
    }
   },
   "source": [
    "## Cell for manual grading; ignore this cell\n",
    "\n",
    "YOUR ANSWER HERE"
   ]
  },
  {
   "cell_type": "markdown",
   "metadata": {
    "deletable": false,
    "editable": false,
    "nbgrader": {
     "cell_type": "markdown",
     "checksum": "21f09cad318717530591fdb2b6cfaed3",
     "grade": false,
     "grade_id": "cell-acc7e9570795403d",
     "locked": true,
     "schema_version": 3,
     "solution": false,
     "task": false
    }
   },
   "source": [
    "### Task 2: File reading and score calculation\n",
    "\n",
    "Write a function, `read_testscores(filename)` that opens `filename` and:\n",
    "\n",
    "1. Reads in the student data and returns it as a `list` of `dict`s, with each `dict` representing a student,\n",
    "2. Stores the score data of each student in a `dict` with appropriate keys,\n",
    "3. Calculates the overall score of each student and stores it under an `'overall'` key,\n",
    "4. Determines the grade of each student and stores it under the `'grade'` key.\n",
    "5. Return the `list` of student data\n",
    "\n",
    "### Overall score calculation formula\n",
    "\n",
    "The overall score is calculated using the following formula:\n",
    "\n",
    "    overall = p1/30*15 + p2/40*30 + p3/80*35 + p4/30*20\n",
    "    \n",
    "Where `p1`, `p2`, `p3`, and `p4` are the scores for P1, P2, P3, and P4 respectively.  \n",
    "The overall score is to be **rounded up** to the nearest integer. You may use the `ceil()` function from the `math` module to do this.\n",
    "\n",
    "**Hint:** You are recommended to store the scores for P1 to P4 as a quadruple (4-`tuple`) under a `'score'` key, instead of under separate `'p1'` to `'p4'` keys, for easier retrieval.  \n",
    "You may use the `zip()` function to handle multiple iterable collections in a single loop.\n",
    "\n",
    "### Expected output\n",
    "\n",
    "    >>> studentdata = read_testscores('testscores.csv')\n",
    "    >>> studentdata[0]['class']\n",
    "    'Class1'\n",
    "    >>> studentdata[0]['name']\n",
    "    'Student1'\n",
    "    >>> studentdata[0]['overall']\n",
    "    51\n",
    "    >>> studentdata[0]['grade']\n",
    "    'D'"
   ]
  },
  {
   "cell_type": "code",
   "execution_count": null,
   "metadata": {
    "deletable": false,
    "nbgrader": {
     "cell_type": "code",
     "checksum": "af40acfc4184723c72f4ed0f04296c2b",
     "grade": false,
     "grade_id": "cell-4f04c23647096d3e",
     "locked": false,
     "schema_version": 3,
     "solution": true,
     "task": false
    }
   },
   "outputs": [],
   "source": [
    "# Write a function that opens a file and returns student data\n",
    "\n",
    "def read_testscores(filename):\n"
   ]
  },
  {
   "cell_type": "markdown",
   "metadata": {
    "deletable": false,
    "nbgrader": {
     "cell_type": "markdown",
     "checksum": "3420156b8ff446c7a510e37e4513c9c0",
     "grade": true,
     "grade_id": "cell-3b1d7481c7ed87c9",
     "locked": false,
     "points": 5,
     "schema_version": 3,
     "solution": true,
     "task": false
    }
   },
   "source": [
    "## Cell for manual grading; ignore this cell\n",
    "\n",
    "YOUR ANSWER HERE"
   ]
  },
  {
   "cell_type": "code",
   "execution_count": null,
   "metadata": {
    "deletable": false,
    "editable": false,
    "nbgrader": {
     "cell_type": "code",
     "checksum": "68e9162ba7441ccea08d7a3607075f7a",
     "grade": true,
     "grade_id": "cell-532cf5963a408736",
     "locked": true,
     "points": 2,
     "schema_version": 3,
     "solution": false,
     "task": false
    }
   },
   "outputs": [],
   "source": [
    "# Run this cell to validate your dict\n",
    "studentdata = read_testscores('testscores.csv')\n",
    "\n",
    "for k,v in {'class':'Class1',\n",
    "            'name': 'Student1',\n",
    "            'overall': 51,\n",
    "            'grade': 'D'}.items():\n",
    "    assert studentdata[0][k] == v, f'Student 0: key {k} should give value {v} instead of {studentdata[0][k]}'"
   ]
  },
  {
   "cell_type": "markdown",
   "metadata": {
    "deletable": false,
    "editable": false,
    "nbgrader": {
     "cell_type": "markdown",
     "checksum": "d7aa42c5e525073de0fb38873ce3a13e",
     "grade": false,
     "grade_id": "cell-0308f0a8e2c9e4b0",
     "locked": true,
     "schema_version": 3,
     "solution": false,
     "task": false
    }
   },
   "source": [
    "## Part 3: Grade analysis\n",
    "\n",
    "Using `set`s, determine:\n",
    "\n",
    "1. Which class(es) have no distinctions (grade 'A')\n",
    "2. Which class(es) have 100% pass (grades A-E)\n",
    "\n",
    "Print the result.\n",
    "\n",
    "**Hint:** You should construct a new collection to hold the class grades, then use `set` operators to answer the above questions."
   ]
  },
  {
   "cell_type": "code",
   "execution_count": null,
   "metadata": {
    "deletable": false,
    "nbgrader": {
     "cell_type": "code",
     "checksum": "2ca0c42bf21b700041fb00ffad5922ac",
     "grade": true,
     "grade_id": "cell-129b553507ccc54c",
     "locked": false,
     "points": 1,
     "schema_version": 3,
     "solution": true,
     "task": false
    }
   },
   "outputs": [],
   "source": [
    "# Use sets to determine which class(es) have no distinctions\n",
    "\n"
   ]
  },
  {
   "cell_type": "code",
   "execution_count": null,
   "metadata": {
    "deletable": false,
    "nbgrader": {
     "cell_type": "code",
     "checksum": "796a272670bd313decd972d629e05ebe",
     "grade": true,
     "grade_id": "cell-493ec62e26090c99",
     "locked": false,
     "points": 1,
     "schema_version": 3,
     "solution": true,
     "task": false
    }
   },
   "outputs": [],
   "source": [
    "# Use sets to determine which class(es) have 100% pass\n",
    "\n"
   ]
  },
  {
   "cell_type": "markdown",
   "metadata": {
    "deletable": false,
    "editable": false,
    "nbgrader": {
     "cell_type": "markdown",
     "checksum": "6261f5013b0bc976c1bc84c3ac2e5879",
     "grade": false,
     "grade_id": "cell-ad1672e66728167f",
     "locked": true,
     "schema_version": 3,
     "solution": false,
     "task": false
    }
   },
   "source": [
    "# Feedback and suggestions\n",
    "\n",
    "Any feedback or suggestions for this assignment?"
   ]
  },
  {
   "cell_type": "markdown",
   "metadata": {
    "deletable": false,
    "nbgrader": {
     "cell_type": "markdown",
     "checksum": "8b2c5aa73b1a793329d6b92780994acd",
     "grade": true,
     "grade_id": "cell-63f8f1cb7ff65bb1",
     "locked": false,
     "points": 0,
     "schema_version": 3,
     "solution": true,
     "task": false
    }
   },
   "source": [
    "YOUR ANSWER HERE"
   ]
  }
 ],
 "metadata": {
  "kernelspec": {
   "display_name": "Python 3",
   "language": "python",
   "name": "python3"
  },
  "language_info": {
   "codemirror_mode": {
    "name": "ipython",
    "version": 3
   },
   "file_extension": ".py",
   "mimetype": "text/x-python",
   "name": "python",
   "nbconvert_exporter": "python",
   "pygments_lexer": "ipython3",
   "version": "3.6.7"
  }
 },
 "nbformat": 4,
 "nbformat_minor": 2
}
