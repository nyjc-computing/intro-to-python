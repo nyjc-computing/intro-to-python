{
 "cells": [
  {
   "cell_type": "markdown",
   "metadata": {},
   "source": [
    "## 1-minute introduction to Jupyter ##\n",
    "\n",
    "A Jupyter notebook consists of cells. Each cell contains either text or code.\n",
    "\n",
    "A text cell will not have any text to the left of the cell. A code cell has `In [ ]:` to the left of the cell.\n",
    "\n",
    "If the cell contains code, you can edit it. Press <kbd>Enter</kbd> to edit the selected cell. While editing the code, press <kbd>Enter</kbd> to create a new line, or <kbd>Shift</kbd>+<kbd>Enter</kbd> to run the code. If you are not editing the code, select a cell and press <kbd>Ctrl</kbd>+<kbd>Enter</kbd> to run the code."
   ]
  },
  {
   "cell_type": "markdown",
   "metadata": {
    "deletable": false,
    "editable": false,
    "nbgrader": {
     "cell_type": "markdown",
     "checksum": "3fae481e652c3a54cb5e8c00230fa563",
     "grade": false,
     "grade_id": "cell-b10e5636ae6dc30d",
     "locked": true,
     "schema_version": 3,
     "solution": false,
     "task": false
    }
   },
   "source": [
    "# Assignment 1: Python basic operators and data types"
   ]
  },
  {
   "cell_type": "markdown",
   "metadata": {
    "deletable": false,
    "editable": false,
    "nbgrader": {
     "cell_type": "markdown",
     "checksum": "54c761519e1d1251d1ac52db28b1a6c7",
     "grade": false,
     "grade_id": "cell-403c63df3f91d28e",
     "locked": true,
     "schema_version": 3,
     "solution": false,
     "task": false
    }
   },
   "source": [
    "## Part 1\n",
    "\n",
    "Write program code to:\n",
    "\n",
    "1. ask the user to input the number of seconds,\n",
    "2. convert seconds to minutes in decimals,\n",
    "3. print the number of minutes.\n",
    "\n",
    "The steps involved are:\n",
    "\n",
    "1. Get the number of seconds from the user as an integer.\n",
    "2. Convert `seconds` to `minutes`.\n",
    "3. Output the value of `minutes`.\n",
    "\n",
    "### Expected output\n",
    "\n",
    "    Enter the number of seconds (integer): 48\n",
    "    The duration is 0.8 minutes.\n",
    "    Enter the number of seconds (integer): 72\n",
    "    The duration is 1.2 minutes."
   ]
  },
  {
   "cell_type": "code",
   "execution_count": null,
   "metadata": {
    "deletable": false,
    "nbgrader": {
     "cell_type": "code",
     "checksum": "4959ec6a58cf5b2fd843482917f29588",
     "grade": true,
     "grade_id": "cell-1ce057e052ae5b58",
     "locked": false,
     "points": 1,
     "schema_version": 3,
     "solution": true,
     "task": false
    }
   },
   "outputs": [],
   "source": [
    "value1 = input('Enter the number of seconds (integer): ')\n",
    "value1 = int(value1)\n",
    "\n",
    "# ... complete the code below\n",
    "\n",
    "\n",
    "print('The duration is', minutes, 'minutes.')"
   ]
  },
  {
   "cell_type": "markdown",
   "metadata": {
    "deletable": false,
    "editable": false,
    "nbgrader": {
     "cell_type": "markdown",
     "checksum": "df4b7acef4b03e0e2b40b031098a6d09",
     "grade": false,
     "grade_id": "cell-a2051e96fc638c2c",
     "locked": true,
     "schema_version": 3,
     "solution": false,
     "task": false
    }
   },
   "source": [
    "## Part 2\n",
    "\n",
    "Write program code to:\n",
    "\n",
    "1. ask the user to input the number of seconds,\n",
    "2. convert seconds to minutes and seconds (as integers),\n",
    "3. print the number of minutes and seconds.\n",
    "\n",
    "*Hint: You can use `divmod()` to get the number of minutes and seconds in the same step.*\n",
    "\n",
    "### Expected output\n",
    "\n",
    "    Enter the number of seconds (integer): 48\n",
    "    The duration is 0 minutes and 48 seconds.\n",
    "    Enter the number of seconds (integer): 72\n",
    "    The duration is 1 minutes and 12 seconds."
   ]
  },
  {
   "cell_type": "code",
   "execution_count": null,
   "metadata": {
    "deletable": false,
    "nbgrader": {
     "cell_type": "code",
     "checksum": "114c7d6b2ed8baaf2cb0963b9316637b",
     "grade": true,
     "grade_id": "cell-4e8317de24a4418b",
     "locked": false,
     "points": 3,
     "schema_version": 3,
     "solution": true,
     "task": false
    }
   },
   "outputs": [],
   "source": [
    "# Replace the underscores (_____) with a valid expression to get user input\n",
    "value2 = _____\n",
    "value2 = int(value2)\n",
    "\n",
    "# ... complete the code below\n",
    "\n",
    "\n",
    "print('The duration is', minutes, 'minutes and', seconds, 'seconds.')"
   ]
  },
  {
   "cell_type": "markdown",
   "metadata": {
    "deletable": false,
    "editable": false,
    "nbgrader": {
     "cell_type": "markdown",
     "checksum": "33b3f32eba427b56fd30b7b3dd6dbf09",
     "grade": false,
     "grade_id": "cell-a35f8b447470f9d4",
     "locked": true,
     "schema_version": 3,
     "solution": false,
     "task": false
    }
   },
   "source": [
    "## Part 3\n",
    "\n",
    "Write program code to:\n",
    "\n",
    "1. ask the user to input the number of **minutes**,\n",
    "2. convert **minutes** to hours and minutes (as integers),\n",
    "3. print the number of **hours and minutes**.\n",
    "\n",
    "*Hint: You can use `divmod()` to get the number of hours and minutes in the same step.*\n",
    "\n",
    "### Expected output\n",
    "\n",
    "    Enter the number of minutes (integer): 48\n",
    "    The duration is 0 hours and 48 minutes.\n",
    "    Enter the number of minutes (integer): 72\n",
    "    The duration is 1 hours and 12 minutes."
   ]
  },
  {
   "cell_type": "code",
   "execution_count": null,
   "metadata": {
    "deletable": false,
    "nbgrader": {
     "cell_type": "code",
     "checksum": "44397aa837abf1d4fd5335fed0fcd1ac",
     "grade": true,
     "grade_id": "cell-12707c7362c69921",
     "locked": false,
     "points": 2,
     "schema_version": 3,
     "solution": true,
     "task": false
    }
   },
   "outputs": [],
   "source": [
    "# Replace the underscores (_____) with a valid expression to get user input\n",
    "value3 = _____\n",
    "value3 = int(value3)\n",
    "\n",
    "# ... complete the code below\n",
    "\n",
    "\n",
    "# Replace the underscores (_____) with a valid expression to print the number of hours and minutes\n",
    "print(_____)"
   ]
  },
  {
   "cell_type": "markdown",
   "metadata": {
    "deletable": false,
    "editable": false,
    "nbgrader": {
     "cell_type": "markdown",
     "checksum": "911096e859d29b63f939cca21d6bbff1",
     "grade": false,
     "grade_id": "cell-6e99e374d4309fc3",
     "locked": true,
     "schema_version": 3,
     "solution": false,
     "task": false
    }
   },
   "source": [
    "## Part 4 (final)\n",
    "\n",
    "Write program code to:\n",
    "\n",
    "1. ask the user to input the number of **seconds**,\n",
    "2. convert seconds to hours, minutes, and seconds (as integers),\n",
    "3. print the number of **hours, minutes, and seconds**."
   ]
  },
  {
   "cell_type": "code",
   "execution_count": null,
   "metadata": {
    "deletable": false,
    "nbgrader": {
     "cell_type": "code",
     "checksum": "43d29609de5a3216ec4e28aa8179de43",
     "grade": true,
     "grade_id": "cell-2284470cb74cc6e9",
     "locked": false,
     "points": 3,
     "schema_version": 3,
     "solution": true,
     "task": false
    }
   },
   "outputs": [],
   "source": [
    "### Type your code below\n",
    "\n"
   ]
  }
 ],
 "metadata": {
  "celltoolbar": "Edit Metadata",
  "kernelspec": {
   "display_name": "Python 3 (ipykernel)",
   "language": "python",
   "name": "python3"
  },
  "language_info": {
   "codemirror_mode": {
    "name": "ipython",
    "version": 3
   },
   "file_extension": ".py",
   "mimetype": "text/x-python",
   "name": "python",
   "nbconvert_exporter": "python",
   "pygments_lexer": "ipython3",
   "version": "3.8.12"
  }
 },
 "nbformat": 4,
 "nbformat_minor": 2
}
