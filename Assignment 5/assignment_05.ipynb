{
 "cells": [
  {
   "cell_type": "markdown",
   "metadata": {},
   "source": [
    "## 1-minute introduction to Jupyter ##\n",
    "\n",
    "A Jupyter notebook consists of cells. Each cell contains either text or code.\n",
    "\n",
    "A text cell will not have any text to the left of the cell. A code cell has `In [ ]:` to the left of the cell.\n",
    "\n",
    "If the cell contains code, you can edit it. Press <kbd>Enter</kbd> to edit the selected cell. While editing the code, press <kbd>Enter</kbd> to create a new line, or <kbd>Shift</kbd>+<kbd>Enter</kbd> to run the code. If you are not editing the code, select a cell and press <kbd>Ctrl</kbd>+<kbd>Enter</kbd> to run the code."
   ]
  },
  {
   "cell_type": "markdown",
   "metadata": {},
   "source": [
    "Before you turn this problem in, make sure everything runs as expected. First, **restart the kernel** (in the menubar, select Kernel$\\rightarrow$Restart) and then **run all cells** (in the menubar, select Cell$\\rightarrow$Run All).\n",
    "\n",
    "Make sure you fill in any place that says `YOUR CODE HERE` or \"YOUR ANSWER HERE\", as well as your name and collaborators below:"
   ]
  },
  {
   "cell_type": "code",
   "execution_count": null,
   "metadata": {},
   "outputs": [],
   "source": [
    "NAME = \"\"\n",
    "COLLABORATORS = \"\""
   ]
  },
  {
   "cell_type": "markdown",
   "metadata": {},
   "source": [
    "---"
   ]
  },
  {
   "cell_type": "markdown",
   "metadata": {
    "deletable": false,
    "editable": false,
    "nbgrader": {
     "cell_type": "markdown",
     "checksum": "56b63df5fed1fbab777dd7e1be9d3c2e",
     "grade": false,
     "grade_id": "cell-a965c0c70630d0c7",
     "locked": true,
     "schema_version": 3,
     "solution": false,
     "task": false
    }
   },
   "source": [
    "# Assignment 5: Functions and File IO\n",
    "\n",
    "In this assignment, you should write your code in a **readable** way, and **modularise** chunks of code that would otherwise be repeated.\n",
    "\n",
    "Modularising a section of program code means to reorganise it in a way that allows it to be reused in another part of the code easily, usually in the form of a function.\n",
    "\n",
    "Your function definitions should have **appropriate docstrings**."
   ]
  },
  {
   "cell_type": "markdown",
   "metadata": {
    "deletable": false,
    "editable": false,
    "nbgrader": {
     "cell_type": "markdown",
     "checksum": "b22d20b14a6d25475cb78023bb1323fe",
     "grade": false,
     "grade_id": "cell-02838356a51fa544",
     "locked": true,
     "schema_version": 3,
     "solution": false,
     "task": false
    }
   },
   "source": [
    "## Part 1\n",
    "\n",
    "**Refactor** your code from [Assignment 1](assignment_01.ipynb) to produce a **function** `to_hms(seconds)` that:\n",
    "\n",
    "1. takes in an integer argument `seconds` containing the number of seconds,\n",
    "2. validates the variable `seconds`,\n",
    "3. returns a list containing the number of hours, minutes, and seconds if the input is valid,\n",
    "4. prints an error message if the input is invalid.\n",
    "\n",
    "\n",
    "### Example output\n",
    "\n",
    "```\n",
    ">>> to_hms(10)\n",
    "[0,0,10]\n",
    ">>> to_hms(61)\n",
    "[0,1,1]\n",
    ">>> to_hms(7199)\n",
    "[1,59,59]\n",
    ">>> to_hms('10')\n",
    "Unsupported input type.\n",
    "```"
   ]
  },
  {
   "cell_type": "code",
   "execution_count": null,
   "metadata": {
    "deletable": false,
    "nbgrader": {
     "cell_type": "code",
     "checksum": "65634ad96352552d2c4ce2f71ed06ca0",
     "grade": false,
     "grade_id": "cell-9b9f38df6c73abf7",
     "locked": false,
     "schema_version": 3,
     "solution": true,
     "task": false
    }
   },
   "outputs": [],
   "source": [
    "def to_hms(seconds):\n",
    "    '''\n",
    "    Converts seconds to hours, minutes, and seconds, and returns it as a list.\n",
    "    \n",
    "    Example:\n",
    "    >>> to_hms(10)\n",
    "    [0,0,10]\n",
    "    >>> to_hms(61)\n",
    "    [0,1,1]\n",
    "    >>> to_hms(7199)\n",
    "    [1,59,59]\n",
    "    '''\n",
    "# Type your code below\n"
   ]
  },
  {
   "cell_type": "code",
   "execution_count": null,
   "metadata": {},
   "outputs": [],
   "source": [
    "to_hms('10')"
   ]
  },
  {
   "cell_type": "code",
   "execution_count": null,
   "metadata": {
    "deletable": false,
    "nbgrader": {
     "cell_type": "code",
     "checksum": "45496faf9873fd1aca2a2cbfd892e728",
     "grade": true,
     "grade_id": "cell-1b132205dc999580",
     "locked": false,
     "points": 1,
     "schema_version": 3,
     "solution": true,
     "task": false
    }
   },
   "outputs": [],
   "source": [
    "# Cell for manual tests; ignore this cell\n"
   ]
  },
  {
   "cell_type": "code",
   "execution_count": null,
   "metadata": {
    "deletable": false,
    "editable": false,
    "nbgrader": {
     "cell_type": "code",
     "checksum": "cff59b066523afa7abd53a0f92d740be",
     "grade": true,
     "grade_id": "cell-6e54723dcb764cc5",
     "locked": true,
     "points": 1,
     "schema_version": 3,
     "solution": false,
     "task": false
    }
   },
   "outputs": [],
   "source": [
    "# Autograding tests for docstring (hidden); ignore this cell"
   ]
  },
  {
   "cell_type": "code",
   "execution_count": null,
   "metadata": {
    "deletable": false,
    "editable": false,
    "nbgrader": {
     "cell_type": "code",
     "checksum": "1d6228ae658fc8fbb6e8a4711add2798",
     "grade": true,
     "grade_id": "cell-eb88ff8155591045",
     "locked": true,
     "points": 2,
     "schema_version": 3,
     "solution": false,
     "task": false
    }
   },
   "outputs": [],
   "source": [
    "# Autograding tests for return type\n",
    "# If your code works, this cell should produce no output when run\n",
    "for test_val in (10,61,7199):\n",
    "    result = to_hms(test_val)\n",
    "    assert type(result) == list, 'Wrong return value type.'\n",
    "    if type(result) == list:\n",
    "        for element in result:\n",
    "            assert type(element) == int, 'Wrong value type in return list.'"
   ]
  },
  {
   "cell_type": "code",
   "execution_count": null,
   "metadata": {
    "deletable": false,
    "editable": false,
    "nbgrader": {
     "cell_type": "code",
     "checksum": "6a04f2bdb3cd4db115b6b249d5fac923",
     "grade": true,
     "grade_id": "cell-90eb1f046edbc52b",
     "locked": true,
     "points": 1,
     "schema_version": 3,
     "solution": false,
     "task": false
    }
   },
   "outputs": [],
   "source": [
    "# Autograding tests for output\n",
    "# If your code works, this cell should produce no output when run\n",
    "assert to_hms(10) == [0,0,10], 'Wrong return value.'\n",
    "assert to_hms(61) == [0,1,1], 'Wrong return value.'\n",
    "assert to_hms(7199) == [1,59,59], 'Wrong return value.'"
   ]
  },
  {
   "cell_type": "code",
   "execution_count": null,
   "metadata": {
    "deletable": false,
    "editable": false,
    "nbgrader": {
     "cell_type": "code",
     "checksum": "3f54b609082d462178b1e23e73a95ea9",
     "grade": true,
     "grade_id": "cell-425b8609cf228b31",
     "locked": true,
     "points": 1,
     "schema_version": 3,
     "solution": false,
     "task": false
    }
   },
   "outputs": [],
   "source": [
    "# Autograding tests for error message\n",
    "# If your code works, this cell should produce no output when run\n",
    "import sys\n",
    "from io import StringIO\n",
    "\n",
    "capture = StringIO()\n",
    "temp = sys.stdout\n",
    "sys.stdout = capture\n",
    "to_hms('10')\n",
    "sys.stdout = temp\n",
    "assert capture.getvalue() == 'Unsupported input type.\\n', 'Wrong error message'"
   ]
  },
  {
   "cell_type": "markdown",
   "metadata": {},
   "source": [
    "## Part 2\n",
    "\n",
    "Write a **function** `to_hms(seconds,output)` that:\n",
    "\n",
    "1. takes in an integer variable `seconds` containing the number of seconds,  \n",
    "   and a string variable `output` indicating the type of output required,\n",
    "2. validates the variable `seconds`,\n",
    "3. if `output == 'list'`, returns a list containing the number of hours, minutes, and seconds if the input is valid,\n",
    "4. or if `output == 'string'`, returns a string with the number of hours, minutes, and seconds, formatted appropriately,\n",
    "5. prints an error message if either input is invalid and exits the program,\n",
    "\n",
    "**Example**\n",
    "\n",
    "```\n",
    ">>> to_hms(7199,'list')\n",
    "[1,59,59]\n",
    ">>> to_hms(7199,'string')\n",
    "'1 hour, 59 minutes, 59 seconds'\n",
    ">>> to_hms(61,'string')\n",
    "'1 minute, 1 second'\n",
    ">>> to_hms('10')\n",
    "Unsupported input type.\n",
    ">>> to_hms(61,'str')\n",
    "Unsupported output type.\n",
    "```"
   ]
  },
  {
   "cell_type": "code",
   "execution_count": null,
   "metadata": {
    "deletable": false,
    "nbgrader": {
     "cell_type": "code",
     "checksum": "0fdd251913991fda799ec718b5b19408",
     "grade": false,
     "grade_id": "cell-0d10502d16c7beed",
     "locked": false,
     "schema_version": 3,
     "solution": true,
     "task": false
    }
   },
   "outputs": [],
   "source": [
    "def to_hms(seconds,output):\n",
    "# Type your code below\n"
   ]
  },
  {
   "cell_type": "code",
   "execution_count": null,
   "metadata": {
    "deletable": false,
    "nbgrader": {
     "cell_type": "code",
     "checksum": "0fcbf51dd1aab7fb468928b07429e9af",
     "grade": true,
     "grade_id": "cell-ec756d2e9ea07eb3",
     "locked": false,
     "points": 1,
     "schema_version": 3,
     "solution": true,
     "task": false
    }
   },
   "outputs": [],
   "source": [
    "# Cell for manual tests; ignore this cell\n"
   ]
  },
  {
   "cell_type": "code",
   "execution_count": null,
   "metadata": {
    "deletable": false,
    "editable": false,
    "nbgrader": {
     "cell_type": "code",
     "checksum": "1a46602acee02a498ec07b362008269b",
     "grade": true,
     "grade_id": "cell-3c5a032a6906981f",
     "locked": true,
     "points": 1,
     "schema_version": 3,
     "solution": false,
     "task": false
    }
   },
   "outputs": [],
   "source": [
    "# Hidden test; ignore this cell"
   ]
  },
  {
   "cell_type": "code",
   "execution_count": null,
   "metadata": {
    "deletable": false,
    "editable": false,
    "nbgrader": {
     "cell_type": "code",
     "checksum": "cec3f50789c5091a9ec23ddf7246f2fb",
     "grade": true,
     "grade_id": "cell-b6cfaa00a2633420",
     "locked": true,
     "points": 2,
     "schema_version": 3,
     "solution": false,
     "task": false
    }
   },
   "outputs": [],
   "source": [
    "# Autograding test for return type\n",
    "# If your code works, this cell should produce no output when run\n",
    "for test_val,test_type in ((7199,'list'),(7199,'string'),(61,'string')):\n",
    "    result = to_hms(test_val,test_type)\n",
    "    if test_type == 'list':\n",
    "        assert type(result) == list, 'Wrong return value type.'\n",
    "    elif test_type == 'string':\n",
    "        assert type(result) == str, 'Wrong return value type.'"
   ]
  },
  {
   "cell_type": "code",
   "execution_count": null,
   "metadata": {
    "deletable": false,
    "editable": false,
    "nbgrader": {
     "cell_type": "code",
     "checksum": "293437f36609fa7ef79edc62f41e54d2",
     "grade": true,
     "grade_id": "cell-e9f976ea780dc06a",
     "locked": true,
     "points": 1,
     "schema_version": 3,
     "solution": false,
     "task": false
    }
   },
   "outputs": [],
   "source": [
    "# Autograding test for return value (list)\n",
    "# If your code works, this cell should produce no output when run\n",
    "assert to_hms(7199,'list') == [1,59,59], 'Wrong return value.'\n",
    "assert to_hms(10,'list') == [0,0,10], 'Wrong return value.'\n",
    "assert to_hms(61,'list') == [0,1,1], 'Wrong return value.'\n"
   ]
  },
  {
   "cell_type": "code",
   "execution_count": null,
   "metadata": {
    "deletable": false,
    "editable": false,
    "nbgrader": {
     "cell_type": "code",
     "checksum": "51300bd625d52d4e773e14bda17556c0",
     "grade": true,
     "grade_id": "cell-2718dc46148bb0e9",
     "locked": true,
     "points": 1,
     "schema_version": 3,
     "solution": false,
     "task": false
    }
   },
   "outputs": [],
   "source": [
    "# Autograding test for return value (string)\n",
    "# If your code works, this cell should produce no output when run\n",
    "assert to_hms(7199,'string') == '1 hour, 59 minutes, 59 seconds', 'Wrong return value.'\n",
    "assert to_hms(10,'string') == '10 seconds', 'Wrong return value.'\n",
    "assert to_hms(61,'string') == '1 minute, 1 second', 'Wrong return value.'"
   ]
  },
  {
   "cell_type": "code",
   "execution_count": null,
   "metadata": {
    "deletable": false,
    "editable": false,
    "nbgrader": {
     "cell_type": "code",
     "checksum": "b5b10fb0b60ce7bc93122cb815e85e00",
     "grade": true,
     "grade_id": "cell-30b08c7bdc444bc4",
     "locked": true,
     "points": 1,
     "schema_version": 3,
     "solution": false,
     "task": false
    }
   },
   "outputs": [],
   "source": [
    "# Autograding test for error message (input string)\n",
    "# If your code works, this cell should produce no output when run\n",
    "import sys\n",
    "from io import StringIO\n",
    "\n",
    "capture = StringIO()\n",
    "temp = sys.stdout\n",
    "sys.stdout = capture\n",
    "to_hms('10','string')\n",
    "sys.stdout = temp\n",
    "assert capture.getvalue() == 'Unsupported input type.\\n', 'Wrong error message'"
   ]
  },
  {
   "cell_type": "code",
   "execution_count": null,
   "metadata": {
    "deletable": false,
    "editable": false,
    "nbgrader": {
     "cell_type": "code",
     "checksum": "e692e63cdca2b5dec946b521291af821",
     "grade": true,
     "grade_id": "cell-37a0f5c3129b3693",
     "locked": true,
     "points": 1,
     "schema_version": 3,
     "solution": false,
     "task": false
    }
   },
   "outputs": [],
   "source": [
    "# Autograding test for error message (output str)\n",
    "# If your code works, this cell should produce no output when run\n",
    "import sys\n",
    "from io import StringIO\n",
    "\n",
    "capture = StringIO()\n",
    "temp = sys.stdout\n",
    "sys.stdout = capture\n",
    "to_hms(61,'str')\n",
    "sys.stdout = temp\n",
    "assert capture.getvalue() == 'Unsupported output type.\\n', 'Wrong error message'"
   ]
  },
  {
   "cell_type": "markdown",
   "metadata": {
    "deletable": false,
    "editable": false,
    "nbgrader": {
     "cell_type": "markdown",
     "checksum": "a93fb63b79d280e7656dd5337c3773c6",
     "grade": false,
     "grade_id": "cell-dd55b6b29108791a",
     "locked": true,
     "schema_version": 3,
     "solution": false,
     "task": false
    }
   },
   "source": [
    "## Part 3\n",
    "\n",
    "Implement the two procedures from Assignment 3 Part 3 as **functions**.\n",
    "\n",
    "### Task 1:  Implement `round_dp()` to round half up to `n` decimal places\n",
    "\n",
    "Write a function, `round_dp(num_str,n)`, that takes in a numerical string `num_str` and an integer `n`, and rounds `num_str` to `n` decimal places, and returns it as a `string`.\n",
    "\n",
    "**Hint:** You may find it useful to implement Assignment 2 Part 2 as a function, `get_dp(num_str)` if you need to check the number of decimal places in the input value.\n",
    "\n",
    "**Example**\n",
    "\n",
    "    >>> round_dp('56.789',2)\n",
    "    56.79\n",
    "\n",
    "**Suggested procedure**\n",
    "\n",
    "A rounding check is done by checking the **digit after the last significant digit** to see if it is greater than or equal to 5.\n",
    "\n",
    "    round_dp('56.789',2):\n",
    "    \n",
    "    digit after last significant digit: 9\n",
    "    number up to last significant digit: 56.78\n",
    "    \n",
    "It is easier to round the number by removing the decimal first and treating it as an integer, then adding the decimal again.\n",
    "\n",
    "    number up to last significant digit, without decimal: 5678\n",
    "    rounded up: 5679\n",
    "    number up to last significant digit, decimal added back: 56.79"
   ]
  },
  {
   "cell_type": "code",
   "execution_count": null,
   "metadata": {
    "deletable": false,
    "nbgrader": {
     "cell_type": "code",
     "checksum": "33b036108a11064cae57aa02bd84c548",
     "grade": false,
     "grade_id": "cell-5dc91f58e9abba4f",
     "locked": false,
     "schema_version": 3,
     "solution": true,
     "task": false
    }
   },
   "outputs": [],
   "source": [
    "# Type your code here\n",
    "\n",
    "\n",
    "\n",
    "round_dp('56.789',2)"
   ]
  },
  {
   "cell_type": "code",
   "execution_count": null,
   "metadata": {
    "deletable": false,
    "editable": false,
    "nbgrader": {
     "cell_type": "code",
     "checksum": "ae2e565fced676ab2dcfc65ee52e79e1",
     "grade": true,
     "grade_id": "cell-29bd67db5f3cefbc",
     "locked": true,
     "points": 1,
     "schema_version": 3,
     "solution": false,
     "task": false
    }
   },
   "outputs": [],
   "source": [
    "# Autograding test for return type\n",
    "# If your code works, this cell should produce no output when run\n",
    "for n in range(4):\n",
    "    assert type(round_dp('56.789',n)) == str, 'Wrong return type.'"
   ]
  },
  {
   "cell_type": "code",
   "execution_count": null,
   "metadata": {
    "deletable": false,
    "editable": false,
    "nbgrader": {
     "cell_type": "code",
     "checksum": "25e5f9f6600c7c10c53ba0e016bc9710",
     "grade": true,
     "grade_id": "cell-9ad7683f4896b7c3",
     "locked": true,
     "points": 3,
     "schema_version": 3,
     "solution": false,
     "task": false
    }
   },
   "outputs": [],
   "source": [
    "# Autograding test for return value\n",
    "# If your code works, this cell should produce no output when run\n",
    "test_cases = ((0,'23'),\n",
    "              (1,'23.5'),\n",
    "              (2,'23.46'),\n",
    "              (3,'23.456'),\n",
    "              (4,'23.456'))\n",
    "\n",
    "for n,result in test_cases:\n",
    "    assert round_dp('23.456',n) == result, f\"Wrong value returned for round_dp('23.456',{n}). Should be {result}, got {round_dp('23.456',n)}\""
   ]
  },
  {
   "cell_type": "markdown",
   "metadata": {
    "deletable": false,
    "editable": false,
    "nbgrader": {
     "cell_type": "markdown",
     "checksum": "99ed1c658c64a5474983c886617e8db2",
     "grade": false,
     "grade_id": "cell-125e51a403919157",
     "locked": true,
     "schema_version": 3,
     "solution": false,
     "task": false
    }
   },
   "source": [
    "### Task 2:  Implement `round_sf()` to round half up to `n` significant figures\n",
    "\n",
    "Write a function, `round_sf(num,n)`, that takes in a numerical string `num`, rounds it to `n` significant figures, and returns it as a `string`.\n",
    "\n",
    "**Hint:** It will be useful to implement Assignment 2 Part 1 as a function, `get_sf(num)` if you need to check the number of significant figures in the input value.\n",
    "\n",
    "**Example**\n",
    "\n",
    "    >>> round_sf('56.789',3)\n",
    "    56.8\n",
    "    >>> round_sf('56.789',1)\n",
    "    60\n",
    "    >>> round_sf('56789',3)\n",
    "    56800\n",
    "\n",
    "**Suggested procedure**\n",
    "\n",
    "A rounding check is done by checking the **digit after the last significant digit** to see if it is greater than or equal to 5.\n",
    "\n",
    "    round_sf('56.789',3):\n",
    "    \n",
    "    digit after last significant digit: 8\n",
    "    number up to last significant digit: 56.7\n",
    "    \n",
    "It is easier to round the number by removing the decimal first and treating it as an integer, then adding the decimal again.\n",
    "\n",
    "    number up to last significant digit, without decimal: 567\n",
    "    rounded up: 568\n",
    "    number up to last significant digit, decimal added back: 56.8\n",
    "\n",
    "If there is no decimal, the number should be padded up to the ones place.\n",
    "\n",
    "    round_sf('56789',3):\n",
    "    \n",
    "    digit after last significant digit: 8\n",
    "    number up to last significant digit: 567\n",
    "    rounded up: 568\n",
    "    number up to last significant digit: zero-padded: 56800"
   ]
  },
  {
   "cell_type": "code",
   "execution_count": null,
   "metadata": {
    "deletable": false,
    "nbgrader": {
     "cell_type": "code",
     "checksum": "5411bc14549db653e8d897c5c6b6db77",
     "grade": false,
     "grade_id": "cell-5719ce87e3fb5f07",
     "locked": false,
     "schema_version": 3,
     "solution": true,
     "task": false
    }
   },
   "outputs": [],
   "source": [
    "# Type your code here\n",
    "\n",
    "\n",
    "\n",
    "print(round_sf('56.789',3))\n",
    "print(round_sf('56.789',1))\n",
    "print(round_sf('56789',3))"
   ]
  },
  {
   "cell_type": "code",
   "execution_count": null,
   "metadata": {
    "deletable": false,
    "editable": false,
    "nbgrader": {
     "cell_type": "code",
     "checksum": "f1cc81cfaff3a20d0d04d772b28e2af6",
     "grade": true,
     "grade_id": "cell-3263da3656704f22",
     "locked": true,
     "points": 1,
     "schema_version": 3,
     "solution": false,
     "task": false
    }
   },
   "outputs": [],
   "source": [
    "# Autograding test for return value\n",
    "# If your code works, this cell should produce no output when run\n",
    "for n in range(1,6):\n",
    "    assert type(round_sf('23.456',n)) == str, 'Wrong return type.'"
   ]
  },
  {
   "cell_type": "code",
   "execution_count": null,
   "metadata": {
    "deletable": false,
    "editable": false,
    "nbgrader": {
     "cell_type": "code",
     "checksum": "c47d1637c549cf733ab5e2ed81c59588",
     "grade": true,
     "grade_id": "cell-be3bed1f0ec15581",
     "locked": true,
     "points": 3,
     "schema_version": 3,
     "solution": false,
     "task": false
    }
   },
   "outputs": [],
   "source": [
    "# Autograding test for return value\n",
    "# If your code works, this cell should produce no output when run\n",
    "test_cases = ((1,'20'),\n",
    "              (2,'23'),\n",
    "              (3,'23.5'),\n",
    "              (4,'23.46'),\n",
    "              (5,'23.456'),\n",
    "              (6,'23.456'))\n",
    "\n",
    "for n,result in test_cases:\n",
    "    assert round_sf('23.456',n) == result, f\"Wrong value returned for round_dp('23.456',{n}).\""
   ]
  },
  {
   "cell_type": "markdown",
   "metadata": {
    "deletable": false,
    "editable": false,
    "nbgrader": {
     "cell_type": "markdown",
     "checksum": "c30d6963d7573a2abaac5b34ca810085",
     "grade": false,
     "grade_id": "cell-09665c756de3271e",
     "locked": true,
     "schema_version": 3,
     "solution": false,
     "task": false
    }
   },
   "source": [
    "## Part 4: Read data from a CSV file and edit it\n",
    "\n",
    "The file `pre-u-enrolment-by-age.csv` contains data on pre-university enrolment numbers, sorted by year, age, and gender.\n",
    "\n",
    "### Task 1: Read the data into a nested list\n",
    "\n",
    "Define a function, `read_csv(filename)`, that will read in CSV data stored in `filename` and return:\n",
    "\n",
    "- a **list** `header` containing the column labels (from the first row)\n",
    "- a **nested list** `data` containing the data."
   ]
  },
  {
   "cell_type": "code",
   "execution_count": null,
   "metadata": {
    "deletable": false,
    "nbgrader": {
     "cell_type": "code",
     "checksum": "157d4b9b92f9ec3c3aac01fbc9710253",
     "grade": false,
     "grade_id": "cell-96f7224b8f6dad15",
     "locked": false,
     "schema_version": 3,
     "solution": true,
     "task": false
    }
   },
   "outputs": [],
   "source": [
    "def read_csv(filename):\n",
    "# Type your code below\n",
    "\n",
    "\n",
    "    return header,data"
   ]
  },
  {
   "cell_type": "code",
   "execution_count": null,
   "metadata": {},
   "outputs": [],
   "source": [
    "# Not an autograding test!\n",
    "# Use this code snippet to check if your read_csv() function is working correctly\n",
    "header,data = read_csv('pre-u-enrolment-by-age.csv')\n",
    "print(header)\n",
    "for row in data:\n",
    "    for idx in range(len(header)):\n",
    "        print(f'{header[idx]}: {row[idx]}')"
   ]
  },
  {
   "cell_type": "code",
   "execution_count": null,
   "metadata": {
    "deletable": false,
    "editable": false,
    "nbgrader": {
     "cell_type": "code",
     "checksum": "c0d859bcf0ceea585ca85c796ddf4bc8",
     "grade": true,
     "grade_id": "cell-c08fb977b749c256",
     "locked": true,
     "points": 2,
     "schema_version": 3,
     "solution": false,
     "task": false
    }
   },
   "outputs": [],
   "source": [
    "# Autograding test for return type\n",
    "# If your code works, this cell should produce no output when run\n",
    "header,data = read_csv('pre-u-enrolment-by-age.csv')\n",
    "\n",
    "assert type(header) == list, 'Wrong header type'\n",
    "assert type(data) == list, 'Wrong data type'\n",
    "for i,row in enumerate(data):\n",
    "    assert type(row) == list, f'Wrong data type for row {i}'"
   ]
  },
  {
   "cell_type": "code",
   "execution_count": null,
   "metadata": {
    "deletable": false,
    "editable": false,
    "nbgrader": {
     "cell_type": "code",
     "checksum": "eee34a6ad64792c28b3e85fa4d33e540",
     "grade": true,
     "grade_id": "cell-fab497cb8a31254f",
     "locked": true,
     "points": 2,
     "schema_version": 3,
     "solution": false,
     "task": false
    }
   },
   "outputs": [],
   "source": [
    "# Autograding test for return value\n",
    "# If your code works, this cell should produce no output when run\n",
    "def ans_read_csv(filename):\n",
    "    data = []\n",
    "    with open(filename,'r') as f:\n",
    "        for line in f:\n",
    "            row = line.strip().split(',')\n",
    "            data.append(row)\n",
    "    header = data.pop(0)\n",
    "    return header,data\n",
    "\n",
    "header,data = read_csv('pre-u-enrolment-by-age.csv')\n",
    "ans_header,ans_data = ans_read_csv('pre-u-enrolment-by-age.csv')\n",
    "\n",
    "assert header == ans_header, 'Wrong header'\n",
    "for i,row in enumerate(ans_data):\n",
    "    assert data[i] == row, f'Wrong data in row {i}'"
   ]
  },
  {
   "cell_type": "markdown",
   "metadata": {},
   "source": [
    "If you run the cells above first, the variables `header` and `data` will continue to be accessible to code that is run in subsequent cells below.\n",
    "\n",
    "### Task 2: Filter the data\n",
    "\n",
    "Define a function, `filter_gender(data,sex)`, that will:\n",
    "\n",
    "1. Only keep rows of `data` where the value in the `sex` column is 'MF'\n",
    "   (We are only keeping data for total enrolment, not split by gender.)\n",
    "2. Remove the `sex` column.\n",
    "\n",
    "You should end up with data for three columns: `year`, `age`, and `enrolment_jc`.\n",
    "\n",
    "### Sample output: new_data\n",
    "\n",
    "    >>> new_data = filter_gender(data,'MF')\n",
    "    >>> new_data\n",
    "    [[1984,'17 YRS',8710],\n",
    "     [1984,'18 YRS',3927],\n",
    "     [...],\n",
    "     [...],\n",
    "     ...]\n",
    "\n",
    "Write your code in the code cell below. Do not overwrite the original nested list, `data`.  \n",
    "(This is also good practice in data science so that you preserve the original data.)\n",
    "\n",
    "You may use the header indexes directly without using `index()`."
   ]
  },
  {
   "cell_type": "code",
   "execution_count": null,
   "metadata": {
    "deletable": false,
    "nbgrader": {
     "cell_type": "code",
     "checksum": "530d6b86d2a9d3fe7e55dea55b9f0996",
     "grade": false,
     "grade_id": "cell-52e6f0e461fa07dc",
     "locked": false,
     "schema_version": 3,
     "solution": true,
     "task": false
    }
   },
   "outputs": [],
   "source": [
    "def filter_gender(data,sex):\n",
    "# Type your code below\n",
    "\n",
    "    return new_data\n",
    "\n",
    "new_data = filter_gender(data,'MF')"
   ]
  },
  {
   "cell_type": "code",
   "execution_count": null,
   "metadata": {},
   "outputs": [],
   "source": [
    "# Not an autograding test!\n",
    "# You can write code here to test the value of new_data\n",
    "\n",
    "new_data"
   ]
  },
  {
   "cell_type": "code",
   "execution_count": null,
   "metadata": {
    "deletable": false,
    "editable": false,
    "nbgrader": {
     "cell_type": "code",
     "checksum": "7d827e5515e5ec6963a8e4216e398908",
     "grade": true,
     "grade_id": "cell-334b852dc327ca45",
     "locked": true,
     "points": 2,
     "schema_version": 3,
     "solution": false,
     "task": false
    }
   },
   "outputs": [],
   "source": [
    "# Autograding test for return value\n",
    "# If your code works, this cell should produce no output when run\n",
    "def ans_filter_gender(data,sex):\n",
    "    new_data = []\n",
    "    for this_row in data:\n",
    "        if this_row[2] == 'MF':\n",
    "            new_row = [this_row[0],this_row[1],this_row[3]]\n",
    "            new_data.append(new_row)\n",
    "        return new_data\n",
    "\n",
    "new_data = filter_gender(data,'MF')\n",
    "ans_new_data = ans_filter_gender(data,'MF')\n",
    "for i,row in enumerate(ans_new_data):\n",
    "    assert new_data[i] == row, 'Error in new_data for row {i}'"
   ]
  },
  {
   "cell_type": "markdown",
   "metadata": {
    "deletable": false,
    "editable": false,
    "nbgrader": {
     "cell_type": "markdown",
     "checksum": "23129c8d5c39ec62d2f9945610542060",
     "grade": false,
     "grade_id": "cell-598687442031759a",
     "locked": true,
     "schema_version": 3,
     "solution": false,
     "task": false
    }
   },
   "source": [
    "### Task 3: Sum up enrolment by year\n",
    "\n",
    "Define a function, `sum_by_year(new_data)`, that will:\n",
    "\n",
    "1. Add up the total enrolment for each year, regardless of age\n",
    "2. Remove the `age` column.\n",
    "\n",
    "You should end up with data for two columns: `year` and `total_enrolment`.\n",
    "\n",
    "### Sample output: new2_data\n",
    "\n",
    "    >>> new2_data = sum_by_year(new_data)\n",
    "    >>> new2_data\n",
    "    [[1984,21471],\n",
    "     [1985,24699],\n",
    "     [...],\n",
    "     [...],\n",
    "     ...]\n",
    "\n",
    "Write your code in the code cell below. Do not overwrite the previous nested lists, `data` and `new_data`.  "
   ]
  },
  {
   "cell_type": "code",
   "execution_count": null,
   "metadata": {
    "deletable": false,
    "nbgrader": {
     "cell_type": "code",
     "checksum": "03fbe22e77484d21a83a0a13f5264a15",
     "grade": false,
     "grade_id": "cell-04eaf46adc8969f0",
     "locked": false,
     "schema_version": 3,
     "solution": true,
     "task": false
    }
   },
   "outputs": [],
   "source": [
    "def sum_by_year(new_data):\n",
    "    '''\n",
    "    [ENTER YOUR DOCSTRING HERE]\n",
    "    '''\n",
    "    new2_data = []\n",
    "    # Type your code below\n",
    "    \n",
    "    return new2_data\n",
    "\n",
    "new2_data = sum_by_year(new_data)"
   ]
  },
  {
   "cell_type": "code",
   "execution_count": null,
   "metadata": {},
   "outputs": [],
   "source": [
    "# Not an autograding test!\n",
    "# You can write code here to test the value of new2_data\n",
    "\n",
    "new2_data"
   ]
  },
  {
   "cell_type": "code",
   "execution_count": null,
   "metadata": {
    "deletable": false,
    "editable": false,
    "nbgrader": {
     "cell_type": "code",
     "checksum": "8ca693df10458bbe4a29b2d5806bff9b",
     "grade": true,
     "grade_id": "cell-991c91784b7008dc",
     "locked": true,
     "points": 2,
     "schema_version": 3,
     "solution": false,
     "task": false
    }
   },
   "outputs": [],
   "source": [
    "# Autograding test (hidden); ignore this cell"
   ]
  },
  {
   "cell_type": "markdown",
   "metadata": {
    "deletable": false,
    "editable": false,
    "nbgrader": {
     "cell_type": "markdown",
     "checksum": "30bbb6ffbfea243cfd9465b980f45fe4",
     "grade": false,
     "grade_id": "cell-d30138ada62d67e7",
     "locked": true,
     "schema_version": 3,
     "solution": false,
     "task": false
    }
   },
   "source": [
    "### Task 4: Write the data to a CSV file\n",
    "\n",
    "Define a function, `write_csv(filename,header,data)`, that will write `header` and `data` to `filename` in CSV format and return the number of lines written. Any existing data in `filename` should be erased.\n",
    "\n",
    "Write your data to a CSV file, `total-enrolment-by-year.csv`, in the same format as the original file.\n",
    "\n",
    "### Sample output\n",
    "\n",
    "    >>> filename = 'total-enrolment-by-year.csv'\n",
    "    >>> new2_header = ['year','total_enrolment']\n",
    "    >>> write_csv(filename,new2_header,new2_data)\n",
    "    35"
   ]
  },
  {
   "cell_type": "code",
   "execution_count": null,
   "metadata": {
    "deletable": false,
    "nbgrader": {
     "cell_type": "code",
     "checksum": "7f5378992ef83856209043d3d9a66121",
     "grade": false,
     "grade_id": "cell-c098376db8c13ffa",
     "locked": false,
     "schema_version": 3,
     "solution": true,
     "task": false
    }
   },
   "outputs": [],
   "source": [
    "def write_csv(filename,header,data):\n",
    "    # Type your code below\n",
    "    \n",
    "    return row_count"
   ]
  },
  {
   "cell_type": "code",
   "execution_count": null,
   "metadata": {},
   "outputs": [],
   "source": [
    "# Not an autograding test!\n",
    "# You can write code here to test the value of new2_data\n",
    "\n",
    "filename = 'total-enrolment-by-year.csv'\n",
    "new2_header = ['year','total_enrolment']\n",
    "write_csv(filename,new2_header,new2_data)"
   ]
  },
  {
   "cell_type": "code",
   "execution_count": null,
   "metadata": {
    "deletable": false,
    "editable": false,
    "nbgrader": {
     "cell_type": "code",
     "checksum": "4c85a76bce513efaeaabe7b209029409",
     "grade": true,
     "grade_id": "cell-f9fda41e27539459",
     "locked": true,
     "points": 1,
     "schema_version": 3,
     "solution": false,
     "task": false
    }
   },
   "outputs": [],
   "source": [
    "# Autograding test for data writing\n",
    "# If your code works, this cell should produce no output when run\n",
    "new2_header = ['year','total_enrolment']\n",
    "filename = 'total-enrolment-by-year.csv'\n",
    "rows_written = write_csv(filename,new2_header,new2_data)\n",
    "\n",
    "assert rows_written == len(new2_data)+1, 'Wrong number of rows written'"
   ]
  },
  {
   "cell_type": "code",
   "execution_count": null,
   "metadata": {
    "deletable": false,
    "editable": false,
    "nbgrader": {
     "cell_type": "code",
     "checksum": "933b4c0bc526d7857d08d2f29b0c940d",
     "grade": true,
     "grade_id": "cell-357849a4bf4d2a70",
     "locked": true,
     "points": 2,
     "schema_version": 3,
     "solution": false,
     "task": false
    }
   },
   "outputs": [],
   "source": [
    "# Autograding test for return value\n",
    "# If your code works, this cell should produce no output when run\n",
    "filename = 'total-enrolment-by-year.csv'\n",
    "with open(filename,'r') as f:\n",
    "    header = f.readline().strip().split(',')\n",
    "    data = []\n",
    "    for line in f:\n",
    "        row = line.strip().split(',')\n",
    "        row[1] = int(row[1])\n",
    "        data.append(row)\n",
    "\n",
    "assert header == ['year', 'total_enrolment'], 'Wrong header'\n",
    "for i,row in enumerate(data):\n",
    "    for j,element in enumerate(row):\n",
    "        assert str(element) == str(new2_data[i][j]), 'Wrong data for row {i}, element {j} of new2_data'"
   ]
  },
  {
   "cell_type": "markdown",
   "metadata": {
    "deletable": false,
    "editable": false,
    "nbgrader": {
     "cell_type": "markdown",
     "checksum": "6261f5013b0bc976c1bc84c3ac2e5879",
     "grade": false,
     "grade_id": "cell-ad1672e66728167f",
     "locked": true,
     "schema_version": 3,
     "solution": false,
     "task": false
    }
   },
   "source": [
    "# Feedback and suggestions\n",
    "\n",
    "Any feedback or suggestions for this assignment?"
   ]
  },
  {
   "cell_type": "markdown",
   "metadata": {
    "deletable": false,
    "nbgrader": {
     "cell_type": "markdown",
     "checksum": "8b2c5aa73b1a793329d6b92780994acd",
     "grade": true,
     "grade_id": "cell-63f8f1cb7ff65bb1",
     "locked": false,
     "points": 0,
     "schema_version": 3,
     "solution": true,
     "task": false
    }
   },
   "source": [
    "YOUR ANSWER HERE"
   ]
  }
 ],
 "metadata": {
  "kernelspec": {
   "display_name": "Python 3",
   "language": "python",
   "name": "python3"
  },
  "language_info": {
   "codemirror_mode": {
    "name": "ipython",
    "version": 3
   },
   "file_extension": ".py",
   "mimetype": "text/x-python",
   "name": "python",
   "nbconvert_exporter": "python",
   "pygments_lexer": "ipython3",
   "version": "3.6.7"
  }
 },
 "nbformat": 4,
 "nbformat_minor": 2
}
