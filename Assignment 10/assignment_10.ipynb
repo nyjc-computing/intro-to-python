{
 "cells": [
  {
   "cell_type": "markdown",
   "metadata": {},
   "source": [
    "## 1-minute introduction to Jupyter ##\n",
    "\n",
    "A Jupyter notebook consists of cells. Each cell contains either text or code.\n",
    "\n",
    "A text cell will not have any text to the left of the cell. A code cell has `In [ ]:` to the left of the cell.\n",
    "\n",
    "If the cell contains code, you can edit it. Press <kbd>Enter</kbd> to edit the selected cell. While editing the code, press <kbd>Enter</kbd> to create a new line, or <kbd>Shift</kbd>+<kbd>Enter</kbd> to run the code. If you are not editing the code, select a cell and press <kbd>Ctrl</kbd>+<kbd>Enter</kbd> to run the code."
   ]
  },
  {
   "cell_type": "markdown",
   "metadata": {},
   "source": [
    "Before you turn this problem in, make sure everything runs as expected. First, **restart the kernel** (in the menubar, select Kernel$\\rightarrow$Restart) and then **run all cells** (in the menubar, select Cell$\\rightarrow$Run All).\n",
    "\n",
    "Make sure you fill in any place that says `YOUR CODE HERE` or \"YOUR ANSWER HERE\", as well as your name and collaborators below:"
   ]
  },
  {
   "cell_type": "code",
   "execution_count": null,
   "metadata": {},
   "outputs": [],
   "source": [
    "NAME = \"\"\n",
    "COLLABORATORS = \"\""
   ]
  },
  {
   "cell_type": "markdown",
   "metadata": {},
   "source": [
    "---"
   ]
  },
  {
   "cell_type": "markdown",
   "metadata": {
    "deletable": false,
    "editable": false,
    "nbgrader": {
     "cell_type": "markdown",
     "checksum": "d7581d01cccef86c931a03276638654e",
     "grade": false,
     "grade_id": "cell-a965c0c70630d0c7",
     "locked": true,
     "schema_version": 3,
     "solution": false,
     "task": false
    }
   },
   "source": [
    "# Assignment 10: Advanced modular programming, testing\n",
    "\n",
    "In this assignment, you should write your code in a **readable** way, and **modularise** chunks of code that would otherwise be repeated.\n",
    "\n",
    "Modularising a section of program code means to reorganise it in a way that allows it to be reused in another part of the code easily, usually in the form of a function.\n",
    "\n",
    "Your function definitions should have appropriate **docstrings**."
   ]
  },
  {
   "cell_type": "markdown",
   "metadata": {
    "deletable": false,
    "editable": false,
    "nbgrader": {
     "cell_type": "markdown",
     "checksum": "d40de432d74890ebf5f204493b78d5d5",
     "grade": false,
     "grade_id": "cell-1725022ebfb43d85",
     "locked": true,
     "schema_version": 3,
     "solution": false,
     "task": false
    }
   },
   "source": [
    "## Part 1: Testing a Sudoku solver\n",
    "\n",
    "A 3×3 sudoku solver receives the following generated input:"
   ]
  },
  {
   "cell_type": "code",
   "execution_count": null,
   "metadata": {},
   "outputs": [],
   "source": [
    "puzzle = [[None, 9, None],\n",
    "          [3, None, 7],\n",
    "          [None, 1, None],\n",
    "          ]"
   ]
  },
  {
   "cell_type": "markdown",
   "metadata": {
    "deletable": false,
    "editable": false,
    "nbgrader": {
     "cell_type": "markdown",
     "checksum": "97e82441e3163279b8b3b4dfe12fe4da",
     "grade": false,
     "grade_id": "cell-9729b16d2ccecc36",
     "locked": true,
     "schema_version": 3,
     "solution": false,
     "task": false
    }
   },
   "source": [
    "It is called to solve the puzzle, and it returns the following output:"
   ]
  },
  {
   "cell_type": "code",
   "execution_count": null,
   "metadata": {},
   "outputs": [],
   "source": [
    "solution = [[4, 9, 2],\n",
    "            [3, 5, 7],\n",
    "            [8, 1, 6],\n",
    "            ]"
   ]
  },
  {
   "cell_type": "markdown",
   "metadata": {
    "deletable": false,
    "editable": false,
    "nbgrader": {
     "cell_type": "markdown",
     "checksum": "7bb68360f1a54c094d9ecc0e80e9ead4",
     "grade": false,
     "grade_id": "cell-a29b9923da204a58",
     "locked": true,
     "schema_version": 3,
     "solution": false,
     "task": false
    }
   },
   "source": [
    "**Task:** Write `assert` statements to _verify_ that the solution is correct.\n",
    "\n",
    "A correct solution should have all its rows, columns, and diagonals sum to 15."
   ]
  },
  {
   "cell_type": "code",
   "execution_count": null,
   "metadata": {
    "deletable": false,
    "nbgrader": {
     "cell_type": "code",
     "checksum": "a58f1419d002aedf4f9e049f1182ed5c",
     "grade": true,
     "grade_id": "cell-e03c120171de668c",
     "locked": false,
     "points": 3,
     "schema_version": 3,
     "solution": true,
     "task": false
    }
   },
   "outputs": [],
   "source": []
  },
  {
   "cell_type": "markdown",
   "metadata": {
    "deletable": false,
    "editable": false,
    "nbgrader": {
     "cell_type": "markdown",
     "checksum": "9d757d211009f3f0f24ae8ee2368e79b",
     "grade": false,
     "grade_id": "cell-02630fc3daa783fd",
     "locked": true,
     "schema_version": 3,
     "solution": false,
     "task": false
    }
   },
   "source": [
    "## Part 2: Setting a `debug` flag for `print`ing\n",
    "\n",
    "Now that you have learned how to use keyword arguments, let’s try using them for something potentially useful: `print()` statements for debugging.\n",
    "\n",
    "When you don’t need them, you are afraid to remove them, because re-inserting them again is so annoying. Is there a better alternative to commenting out multiple `print()` statements, then uncommenting them again?\n",
    "\n",
    "Yes! Let’s use keyword arguments to determine whether the function should print debug statements or not.\n",
    "\n",
    "A sample `text_numeral()` function is provided in the code cell below.\n",
    "\n",
    "### Task: Add keyword arguments\n",
    "\n",
    "Edit the code so that the `print()` statements are executed only when the following function call is made:\n",
    "\n",
    "    >>> text_numeral(367, debug=True)\n",
    "    prev_key: 0\n",
    "    this_key: 1\n",
    "    prev_key: 1\n",
    "    [...] <-- represents truncated output\n",
    "    selected key: 7\n",
    "    output: three hundred and sixty-seven\n",
    "    remainder: 0\n",
    "    'three hundred and sixty-seven' <-- this is the output value (str type)\n",
    "\n",
    "but not when it is called without the `debug` keyword argument:\n",
    "\n",
    "    >>> text_numeral(367)\n",
    "    'three hundred and sixty-seven' <-- this is the output value (str type)\n",
    "\n",
    "**Hint:** The keyword arguments are passed to the function as a dictionary. you can use the dict’s `.get()` method to retrieve the keyword argument, and set it to a fallback value if it is not provided."
   ]
  },
  {
   "cell_type": "code",
   "execution_count": null,
   "metadata": {
    "deletable": false,
    "nbgrader": {
     "cell_type": "code",
     "checksum": "99044a50152e7f6cb8204e8557b8b4f3",
     "grade": false,
     "grade_id": "cell-06d02db7c32d0c73",
     "locked": false,
     "schema_version": 3,
     "solution": true,
     "task": false
    }
   },
   "outputs": [],
   "source": [
    "# Edit this code to print() only when debug=True is passed to the function as a keyword argument\n",
    "\n",
    "def text_numeral(num:int, **kwargs):\n",
    "    '''\n",
    "    Takes in a number below 1000 and converts it to text form.\n",
    "    \n",
    "    Usage:\n",
    "    text_numeral(num)\n",
    "    '''\n",
    "    \n",
    "    \n",
    "    if num >= 1000:\n",
    "        raise ValueError('input must be less than 1000.')\n",
    "\n",
    "    numeral = {1: 'one', 2: 'two', 3: 'three', 4: 'four', 5: 'five',\n",
    "               6: 'six', 7: 'seven', 8: 'eight', 9: 'nine', 10: 'ten',\n",
    "               11: 'eleven', 12: 'twelve', 13: 'thirteen', 14: 'fourteen', 15: 'fifteen',\n",
    "               16: 'sixteen', 17: 'seventeen', 18: 'eighteen', 19: 'nineteen', 20: 'twenty',\n",
    "               30: 'thirty',\n",
    "               40: 'forty',\n",
    "               50: 'fifty',\n",
    "               60: 'sixty',\n",
    "               70: 'seventy',\n",
    "               80: 'eighty',\n",
    "               90: 'ninety',\n",
    "               }\n",
    "\n",
    "    output = ''\n",
    "    while num > 0:\n",
    "        # Select largest key that is still smaller than num\n",
    "        # Since we need to check that this_key is greater than num,\n",
    "        # we need to store prev_key and prev_word since they are the\n",
    "        # actual key and value we want.\n",
    "        key, word = 100, 'hundred'\n",
    "        prev_key, prev_word = 0, None\n",
    "        for this_key, this_word in numeral.items():\n",
    "            print(f'prev_key: {prev_key}')\n",
    "            print(f'this_key: {this_key}')\n",
    "            if prev_key <= num < this_key:\n",
    "                print(f'match: {prev_key} <= {num} < {this_key}')\n",
    "                key, word = prev_key, prev_word\n",
    "            prev_key, prev_word = this_key, this_word\n",
    "        print(f'selected key: {key}')\n",
    "\n",
    "        # Build up the output string\n",
    "        if key == 100:\n",
    "            hundred_count, num = divmod(num, key)\n",
    "            output += f'{numeral[hundred_count]} {word}'\n",
    "            if num > 0:\n",
    "                output += ' and '\n",
    "        else:\n",
    "            output += word\n",
    "            num -= key\n",
    "            if num > 0:\n",
    "                output += '-'\n",
    "        print(f'output: {output}')\n",
    "        print(f'remainder: {num}')\n",
    "        if num == 0:\n",
    "            return output"
   ]
  },
  {
   "cell_type": "code",
   "execution_count": null,
   "metadata": {
    "deletable": false,
    "editable": false,
    "nbgrader": {
     "cell_type": "code",
     "checksum": "0917033406f15ccde3ba54f268eac95e",
     "grade": true,
     "grade_id": "cell-0d323b2b11660e53",
     "locked": true,
     "points": 2,
     "schema_version": 3,
     "solution": false,
     "task": false
    }
   },
   "outputs": [],
   "source": [
    "# Autograding test for no debug kwarg\n",
    "# If your code works, this cell should produce no output when run\n",
    "\n",
    "\n",
    "import sys\n",
    "from io import StringIO\n",
    "\n",
    "\n",
    "capture = StringIO()\n",
    "temp = sys.stdout\n",
    "sys.stdout = capture\n",
    "result = text_numeral(367)\n",
    "sys.stdout = temp\n",
    "assert capture.getvalue().strip() == '', 'Function printed output when it should be silent'\n",
    "assert result == 'three hundred and sixty-seven', f'output from function \\'{result}\\' is incorrect'"
   ]
  },
  {
   "cell_type": "code",
   "execution_count": null,
   "metadata": {
    "deletable": false,
    "editable": false,
    "nbgrader": {
     "cell_type": "code",
     "checksum": "7a801a7e1776706c270917bf6ce8b668",
     "grade": true,
     "grade_id": "cell-1c657f7fe577e4be",
     "locked": true,
     "points": 2,
     "schema_version": 3,
     "solution": false,
     "task": false
    }
   },
   "outputs": [],
   "source": [
    "# Autograding test for debug=True kwarg\n",
    "# If your code works, this cell should produce no output when run\n",
    "\n",
    "\n",
    "import sys\n",
    "from io import StringIO\n",
    "\n",
    "\n",
    "capture = StringIO()\n",
    "temp = sys.stdout\n",
    "sys.stdout = capture\n",
    "result = text_numeral(367, debug=True)\n",
    "sys.stdout = temp\n",
    "for each in ('selected key: 7',\n",
    "             'output: three hundred and sixty-seven',\n",
    "             'remainder: 0',\n",
    "             ):\n",
    "    assert each in capture.getvalue().strip(), f'expected print statement not found: {each}'\n",
    "assert result == 'three hundred and sixty-seven', f'output from function \\'{result}\\' is incorrect'"
   ]
  },
  {
   "cell_type": "markdown",
   "metadata": {
    "deletable": false,
    "editable": false,
    "nbgrader": {
     "cell_type": "markdown",
     "checksum": "36250801a8bedd36d630469d88db7dc6",
     "grade": false,
     "grade_id": "cell-c531f9728731d658",
     "locked": true,
     "schema_version": 3,
     "solution": false,
     "task": false
    }
   },
   "source": [
    "## Part 2: Write a `try-except` structure\n",
    "\n",
    "The Open Library API (application programming interface) offers programmers a way to search for books and retrieve book information in their program. The following functions are provided below:\n",
    "\n",
    "1. `search()` takes in a `searchterm` (`str`) argument and returns search results from the Open Library API\n",
    "2. `save_to_csv()` takes in `list_of_dict` (`list`) and `filepath` (`str`) positional arguments, and writes the title, author name, and first year of publication of the results to a CSV file located in `filepath`."
   ]
  },
  {
   "cell_type": "code",
   "execution_count": null,
   "metadata": {},
   "outputs": [],
   "source": [
    "# Run this cell to use the functions below\n",
    "# Do not modify the functions\n",
    "\n",
    "from openlibrary import search, save_to_csv"
   ]
  },
  {
   "cell_type": "code",
   "execution_count": null,
   "metadata": {},
   "outputs": [],
   "source": [
    "help(search)"
   ]
  },
  {
   "cell_type": "code",
   "execution_count": null,
   "metadata": {},
   "outputs": [],
   "source": [
    "help(save_to_csv)"
   ]
  },
  {
   "cell_type": "markdown",
   "metadata": {
    "deletable": false,
    "editable": false,
    "nbgrader": {
     "cell_type": "markdown",
     "checksum": "f4a8e8281038d4de3b9e6ff138886398",
     "grade": false,
     "grade_id": "cell-72d1267cba41c5cc",
     "locked": true,
     "schema_version": 3,
     "solution": false,
     "task": false
    }
   },
   "source": [
    "A developer is trying to use these two functions to save search results to a CSV file in _his_ function `search_and_save()` (in the code cell below). He wants the search results to be saved into a folder representing the current date, to keep the files organised. But he keeps encountering a `FileNotFoundError`.\n",
    "\n",
    "This `FileNotFoundError` happens because the directory `'20200420'` does not exist yet. He needs to call `os.mkdir(folder)` to create the folder. But `os.mkdir()` will raise a `FileExistsError` if the directory already exists.\n",
    "\n",
    "**Task:** Modify the code in `search_and_save()` below by adding `try-except` statements so that these errors are handled successfully.\n",
    "\n",
    "**Hint:** You may have to write nested `try-except` statements to handle further Exceptions that occur in the `except`, `else`, or `finally` statements"
   ]
  },
  {
   "cell_type": "code",
   "execution_count": null,
   "metadata": {
    "deletable": false,
    "nbgrader": {
     "cell_type": "code",
     "checksum": "7bb49c93deef30f91eabd0964958c7d5",
     "grade": false,
     "grade_id": "cell-89d8ab25ade8cd31",
     "locked": false,
     "schema_version": 3,
     "solution": true,
     "task": false
    }
   },
   "outputs": [],
   "source": [
    "# Modify the code in this cell with try-except-else statements\n",
    "# To take appropriate actions when exceptions occur\n",
    "# And write the CSV file successfully\n",
    "\n",
    "import os\n",
    "from datetime import date\n",
    "\n",
    "\n",
    "def search_and_save(searchterm):\n",
    "    '''\n",
    "    Search for results from Open Library API for searchterm,\n",
    "    and print the results to a file in a folder.\n",
    "    \n",
    "    Folder is named by date, YYYYMMDD format.\n",
    "    \n",
    "    File path: ./<YYYYMMDD>/<searchterm>.csv\n",
    "    '''\n",
    "    result = search(searchterm)\n",
    "    folder = date.today().strftime('%Y%m%d')\n",
    "    filepath = f'./{folder}/{searchterm}.csv'\n",
    "    save_to_csv(result['docs'], filepath)\n",
    "    "
   ]
  },
  {
   "cell_type": "code",
   "execution_count": null,
   "metadata": {
    "deletable": false,
    "editable": false,
    "nbgrader": {
     "cell_type": "code",
     "checksum": "c0722f74c4e0c201996dd40ef680cee4",
     "grade": true,
     "grade_id": "cell-77b553ad9dd7a273",
     "locked": true,
     "points": 4,
     "schema_version": 3,
     "solution": false,
     "task": false
    }
   },
   "outputs": [],
   "source": [
    "# AUTOGRADING: Test for file creation and correct data\n",
    "\n",
    "import os, shutil\n",
    "from datetime import date\n",
    "import unittest\n",
    "from pathlib import Path\n",
    "\n",
    "\n",
    "def readfile(filepath):\n",
    "    if os.path.exists(filepath):\n",
    "        with open(filepath, 'r') as f:\n",
    "            data = [row.strip().split(',') for row in f.readlines()]\n",
    "    return data.pop(0), data\n",
    "\n",
    "def remove_notexist_raise(filepath):\n",
    "    try:\n",
    "        assert os.path.exists(filepath), f'File not found: {filepath}'\n",
    "    except Exception:\n",
    "        raise\n",
    "    else:\n",
    "        shutil.rmtree(Path(filepath).parent)\n",
    "\n",
    "\n",
    "class testCheck(unittest.TestCase):\n",
    "    def testNotRaiseError(self):\n",
    "        searchterm = '50 Shades of Grey'\n",
    "        try:\n",
    "            search_and_save(searchterm)\n",
    "        except Exception as e:\n",
    "            print(f'{e.__class__} Test failed, exception raised: {e}')\n",
    "        finally:\n",
    "            folder = date.today().strftime('%Y%m%d')\n",
    "            filepath_to_check = f'./{folder}/{searchterm}.csv'\n",
    "            if os.path.exists(filepath_to_check):\n",
    "                shutil.rmtree(f'./{folder}')\n",
    "\n",
    "    def testFileCreated(self):\n",
    "        searchterm = 'Harry Potter'\n",
    "        folder = date.today().strftime('%Y%m%d')\n",
    "        filepath = f'./{folder}/{searchterm}.csv'\n",
    "        try:\n",
    "            search_and_save(searchterm)\n",
    "        except Exception as e:\n",
    "            print(f'{e.__class__} Test failed, exception raised: {e}')\n",
    "        else:\n",
    "            assert os.path.isfile(filepath), f'File not found: {filepath}'\n",
    "        finally:\n",
    "            remove_notexist_raise(filepath)\n",
    "        \n",
    "    def testDataHeader(self):\n",
    "        searchterm = 'Harry Potter'\n",
    "        folder = date.today().strftime('%Y%m%d')\n",
    "        filepath = f'./{folder}/{searchterm}.csv'\n",
    "        try:\n",
    "            search_and_save(searchterm)\n",
    "        except Exception as e:\n",
    "            print(f'{e.__class__} Test failed, exception raised: {e}')\n",
    "        else:\n",
    "            header, data = readfile(filepath)\n",
    "            assert header == ['title', 'author_name', 'first_publish_year'], \\\n",
    "                f'Wrong header ({header} != [\\'title\\', \\'author_name\\', \\'first_publish_year\\'])'\n",
    "        finally:\n",
    "            remove_notexist_raise(filepath)\n",
    "\n",
    "    def testDataFormat(self):\n",
    "        searchterm = 'Harry Potter'\n",
    "        folder = date.today().strftime('%Y%m%d')\n",
    "        filepath = f'./{folder}/{searchterm}.csv'\n",
    "        try:\n",
    "            search_and_save(searchterm)\n",
    "        except Exception as e:\n",
    "            print(f'{e.__class__} Test failed, exception raised: {e}')\n",
    "        else:\n",
    "            header, data = readfile(filepath)\n",
    "            for row in data:\n",
    "                assert len(row) == 3, f'Wrong number of elements in row ({len(row)}), expected 3\\n' + \\\n",
    "                                      f'Row data: {row}'\n",
    "        finally:\n",
    "            remove_notexist_raise(filepath)\n",
    "\n",
    "# unittest.main looks at sys.argv and first parameter is what started IPython or Jupyter\n",
    "# exit=False prevents unittest.main from shutting down the kernel process\n",
    "result = unittest.main(argv=['ignored'], exit=False)"
   ]
  },
  {
   "cell_type": "markdown",
   "metadata": {
    "deletable": false,
    "editable": false,
    "nbgrader": {
     "cell_type": "markdown",
     "checksum": "6261f5013b0bc976c1bc84c3ac2e5879",
     "grade": false,
     "grade_id": "cell-ad1672e66728167f",
     "locked": true,
     "schema_version": 3,
     "solution": false,
     "task": false
    }
   },
   "source": [
    "# Feedback and suggestions\n",
    "\n",
    "Any feedback or suggestions for this assignment?"
   ]
  },
  {
   "cell_type": "markdown",
   "metadata": {
    "deletable": false,
    "nbgrader": {
     "cell_type": "markdown",
     "checksum": "8b2c5aa73b1a793329d6b92780994acd",
     "grade": true,
     "grade_id": "cell-63f8f1cb7ff65bb1",
     "locked": false,
     "points": 0,
     "schema_version": 3,
     "solution": true,
     "task": false
    }
   },
   "source": [
    "YOUR ANSWER HERE"
   ]
  }
 ],
 "metadata": {
  "kernelspec": {
   "display_name": "Python 3",
   "language": "python",
   "name": "python3"
  },
  "language_info": {
   "codemirror_mode": {
    "name": "ipython",
    "version": 3
   },
   "file_extension": ".py",
   "mimetype": "text/x-python",
   "name": "python",
   "nbconvert_exporter": "python",
   "pygments_lexer": "ipython3",
   "version": "3.6.7"
  }
 },
 "nbformat": 4,
 "nbformat_minor": 2
}
