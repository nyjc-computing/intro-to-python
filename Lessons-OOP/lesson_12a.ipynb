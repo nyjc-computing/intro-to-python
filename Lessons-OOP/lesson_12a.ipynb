{
 "cells": [
  {
   "cell_type": "markdown",
   "metadata": {},
   "source": [
    "## 1-minute introduction to Jupyter ##\n",
    "\n",
    "A Jupyter notebook consists of cells. Each cell contains either text or code.\n",
    "\n",
    "A text cell will not have any text to the left of the cell. A code cell has `In [ ]:` to the left of the cell.\n",
    "\n",
    "If the cell contains code, you can edit it. Press <kbd>Enter</kbd> to edit the selected cell. While editing the code, press <kbd>Enter</kbd> to create a new line, or <kbd>Shift</kbd>+<kbd>Enter</kbd> to run the code. If you are not editing the code, select a cell and press <kbd>Ctrl</kbd>+<kbd>Enter</kbd> to run the code."
   ]
  },
  {
   "cell_type": "markdown",
   "metadata": {},
   "source": [
    "Before you turn this problem in, make sure everything runs as expected. First, **restart the kernel** (in the menubar, select Kernel$\\rightarrow$Restart) and then **run all cells** (in the menubar, select Cell$\\rightarrow$Run All).\n",
    "\n",
    "Make sure you fill in any place that says `YOUR CODE HERE` or \"YOUR ANSWER HERE\", as well as your name and collaborators below:"
   ]
  },
  {
   "cell_type": "code",
   "execution_count": null,
   "metadata": {},
   "outputs": [],
   "source": [
    "NAME = \"\"\n",
    "COLLABORATORS = \"\""
   ]
  },
  {
   "cell_type": "markdown",
   "metadata": {},
   "source": [
    "---"
   ]
  },
  {
   "cell_type": "markdown",
   "metadata": {
    "deletable": false,
    "editable": false,
    "nbgrader": {
     "cell_type": "markdown",
     "checksum": "ad4c1e7bbae8f83752e89e1684160a56",
     "grade": false,
     "grade_id": "cell-14f44f9d69754075",
     "locked": true,
     "schema_version": 3,
     "solution": false,
     "task": false
    }
   },
   "source": [
    "# Lesson 12a: Class inheritance, local imports"
   ]
  },
  {
   "cell_type": "code",
   "execution_count": null,
   "metadata": {},
   "outputs": [],
   "source": [
    "# This code cell loads a PEP8 linter\n",
    "# Linting is the process of flagging programming errors,\n",
    "# bugs, stylistic errors, and other code problems\n",
    "# pycodestyle is a linter that highlights any syntax that\n",
    "# is not PEP8-compliant.\n",
    "\n",
    "%load_ext pycodestyle_magic\n",
    "%pycodestyle_on"
   ]
  },
  {
   "cell_type": "markdown",
   "metadata": {
    "deletable": false,
    "editable": false,
    "nbgrader": {
     "cell_type": "markdown",
     "checksum": "285b3097d7573e8d4423e76b419d7311",
     "grade": false,
     "grade_id": "cell-d65565d88719ca2f",
     "locked": true,
     "schema_version": 3,
     "solution": false,
     "task": false
    }
   },
   "source": [
    "## Class Inheritance\n",
    "\n",
    "While `class`es are really useful, we will find ourselves repeating a lot of code if we don’t think through and plan the code in advance. Let’s try writing a simple chess game. Before we start writing any code, it helps immensely to think about what we will need first.\n",
    "\n",
    "At the least, we will need:\n",
    "\n",
    "- a chess board\n",
    "- chess pieces\n",
    "  - king\n",
    "  - queen\n",
    "  - rook\n",
    "  - bishop\n",
    "  - knight\n",
    "  - pawn\n",
    "  \n",
    "The pieces have one common characteristics:\n",
    "\n",
    "- a colour (white or black)\n",
    "\n",
    "6 different types of pieces. That means repeating our `__init__()`, `__repr__()`, and other methods _6 times_! And if we change our minds and decide to change one of those features, we will have to change it in 6 places … Is there any way we can reduce that repetition?\n",
    "\n",
    "Of course. Python lets us define classes _based on other classes_.\n",
    "\n",
    "Since all chess pieces have some common characteristics, let’s define a `BasePiece` class that represents a _generic_ chess piece. It will implement code that is common to all chess pieces:"
   ]
  },
  {
   "cell_type": "code",
   "execution_count": null,
   "metadata": {},
   "outputs": [],
   "source": [
    "class BasePiece:\n",
    "    def __init__(self, colour):\n",
    "        if type(colour) != str:\n",
    "            raise TypeError('colour argument must be str')\n",
    "        elif colour.lower() not in {'white', 'black'}:\n",
    "            raise ValueError('colour must be {white, black}')\n",
    "        else:\n",
    "            self.colour = colour\n",
    "\n",
    "    def __repr__(self):\n",
    "        return f'BasePiece({repr(self.colour)})'"
   ]
  },
  {
   "cell_type": "markdown",
   "metadata": {
    "deletable": false,
    "editable": false,
    "nbgrader": {
     "cell_type": "markdown",
     "checksum": "044e73e2fa014125c3e57b118e7e003a",
     "grade": false,
     "grade_id": "cell-7249741517df0410",
     "locked": true,
     "schema_version": 3,
     "solution": false,
     "task": false
    }
   },
   "source": [
    "## Child classes\n",
    "\n",
    "Our child classes should have the attributes of the `BasePiece`, which is the parent class. We call them child classes because they are derived from the parent class. We say that the child class **inherits** the attributes and methods of the parent class.\n",
    "\n",
    "Let’s start with our first child class, the `King`:"
   ]
  },
  {
   "cell_type": "code",
   "execution_count": null,
   "metadata": {},
   "outputs": [],
   "source": [
    "class King(BasePiece):\n",
    "    pass"
   ]
  },
  {
   "cell_type": "markdown",
   "metadata": {
    "deletable": false,
    "editable": false,
    "nbgrader": {
     "cell_type": "markdown",
     "checksum": "3aee21519945337393f501dc5234a696",
     "grade": false,
     "grade_id": "cell-84c100e9677aadba",
     "locked": true,
     "schema_version": 3,
     "solution": false,
     "task": false
    }
   },
   "source": [
    "This child class inherits the `colour` attribute, as well as the `__init__()` and `__repr__()` methods from `BasePiece`."
   ]
  },
  {
   "cell_type": "code",
   "execution_count": null,
   "metadata": {},
   "outputs": [],
   "source": [
    "k = King('white')\n",
    "k"
   ]
  },
  {
   "cell_type": "markdown",
   "metadata": {
    "deletable": false,
    "editable": false,
    "nbgrader": {
     "cell_type": "markdown",
     "checksum": "2ae97ef52448515e17d30057df591519",
     "grade": false,
     "grade_id": "cell-c2160e2ef03d9f70",
     "locked": true,
     "schema_version": 3,
     "solution": false,
     "task": false
    }
   },
   "source": [
    "## Class attributes\n",
    "\n",
    "Hmm, that’s not so helpful now. Our `BasePiece` only needed a `colour` since it was a generic piece, but now that we are creating pieces of a specific type, `__repr__()` should also return the piece name.\n",
    "\n",
    "We will need to **override** the `__repr__()` method of `BasePiece` by defining a new one for `King`. But how do we create a `name` attribute for `King` without going through the `__init__()` method?\n",
    "\n",
    "We can set it as a **class attribute** instead.\n",
    "\n",
    "Notice that the `colour` attribute of `BasePiece` was set only in `__init__()`. The `BasePiece` class **does not** actually have this attribute, only its instances have it:"
   ]
  },
  {
   "cell_type": "code",
   "execution_count": null,
   "metadata": {},
   "outputs": [],
   "source": [
    "b = BasePiece('white')\n",
    "print(f'b.colour: {b.colour}')\n",
    "print(f'BasePiece.colour: {BasePiece.colour}')"
   ]
  },
  {
   "cell_type": "markdown",
   "metadata": {
    "deletable": false,
    "editable": false,
    "nbgrader": {
     "cell_type": "markdown",
     "checksum": "248f1360a48ccb5f965c5c238003c203",
     "grade": false,
     "grade_id": "cell-e6bb389584d93f6e",
     "locked": true,
     "schema_version": 3,
     "solution": false,
     "task": false
    }
   },
   "source": [
    "The `King` class, on the other hand, represents a `king` piece, whether it has been instantiated or not. I should be able to do this:\n",
    "\n",
    "    >>> King.name\n",
    "    'king'\n",
    "    \n",
    "So let’s go ahead and give the `King` class a `name` class attribute, and a new `__repr__()` method."
   ]
  },
  {
   "cell_type": "code",
   "execution_count": null,
   "metadata": {
    "deletable": false,
    "nbgrader": {
     "cell_type": "code",
     "checksum": "08c7b2a45675481b363040172f69c8ee",
     "grade": false,
     "grade_id": "cell-3802ffc0c1e63c1d",
     "locked": false,
     "schema_version": 3,
     "solution": true,
     "task": false
    }
   },
   "outputs": [],
   "source": [
    "class King(BasePiece):\n",
    "    # define a `name` class attribute for the King class\n",
    "    name = 'king'\n",
    "\n",
    "    def __repr__(self):\n",
    "        # define the __repr__() method for the King class\n",
    "        \n",
    "\n",
    "\n",
    "k = King('white')\n",
    "print(k)"
   ]
  },
  {
   "cell_type": "code",
   "execution_count": null,
   "metadata": {
    "deletable": false,
    "editable": false,
    "nbgrader": {
     "cell_type": "code",
     "checksum": "24c48edfbcc5a402f51b70afd5d64766",
     "grade": true,
     "grade_id": "cell-0ec41b1ba6d08097",
     "locked": true,
     "points": 2,
     "schema_version": 3,
     "solution": false,
     "task": false
    }
   },
   "outputs": [],
   "source": [
    "# AUTOGRADING: test class attribute and __repr__()\n",
    "assert King.name == 'king', \\\n",
    "    '`name` attribute wrongly defined for King class'\n",
    "assert repr(King('white')) == \"King('white')\", \\\n",
    "    \"__repr__() method wrongly defined for King class\""
   ]
  },
  {
   "cell_type": "markdown",
   "metadata": {
    "deletable": false,
    "editable": false,
    "nbgrader": {
     "cell_type": "markdown",
     "checksum": "3a8c1c0f4098355c749438bc5897b1b2",
     "grade": false,
     "grade_id": "cell-32c482a95e1f5b84",
     "locked": true,
     "schema_version": 3,
     "solution": false,
     "task": false
    }
   },
   "source": [
    "### Task 1\n",
    "\n",
    "Later, we are going to need a `__str__()` method to produce a simple description (e.g. `'white king'`) too. That’s a simple combination of the `colour` and `name` attributes, and it would be tedious to repeat the `__str__()` definition for all the piece classes.\n",
    "\n",
    "So let’s define it in `BasePiece` instead, using `try-except` to catch the `NameError` if the `name` attribute is not found:"
   ]
  },
  {
   "cell_type": "code",
   "execution_count": null,
   "metadata": {
    "deletable": false,
    "nbgrader": {
     "cell_type": "code",
     "checksum": "992c5c09f63fdab68a4292b82a169503",
     "grade": false,
     "grade_id": "cell-534d4dd36222427d",
     "locked": false,
     "schema_version": 3,
     "solution": true,
     "task": false
    }
   },
   "outputs": [],
   "source": [
    "class BasePiece:\n",
    "    def __init__(self, colour):\n",
    "        if type(colour) != str:\n",
    "            raise TypeError('colour argument must be str')\n",
    "        elif colour.lower() not in {'white', 'black'}:\n",
    "            raise ValueError('colour must be {white, black}')\n",
    "        else:\n",
    "            self.colour = colour\n",
    "\n",
    "    def __repr__(self):\n",
    "        return f'BasePiece({repr(self.colour)})'\n",
    "\n",
    "    def __str__(self):\n",
    "        try:\n",
    "            # define __str__() to return a simple description\n",
    "            # e.g. 'white king', 'black queen'\n",
    "            \n",
    "        except NameError:\n",
    "            return f'{self.colour} piece'\n",
    "\n",
    "\n",
    "class King(BasePiece):\n",
    "    name = 'king'\n",
    "\n",
    "    def __repr__(self):\n",
    "        return f'King({repr(self.colour)})'\n",
    "\n",
    "\n",
    "k = King('white')\n",
    "print(k)"
   ]
  },
  {
   "cell_type": "code",
   "execution_count": null,
   "metadata": {
    "deletable": false,
    "editable": false,
    "nbgrader": {
     "cell_type": "code",
     "checksum": "f83f608c8498c16eb9842543355cfa1a",
     "grade": true,
     "grade_id": "cell-1cfd5126d0a565b6",
     "locked": true,
     "points": 1,
     "schema_version": 3,
     "solution": false,
     "task": false
    }
   },
   "outputs": [],
   "source": [
    "# Test cell to check your code\n",
    "assert str(King('white')).strip() == 'white king', \\\n",
    "    \"__str__() method wrongly defined for King class\""
   ]
  },
  {
   "cell_type": "markdown",
   "metadata": {
    "deletable": false,
    "editable": false,
    "nbgrader": {
     "cell_type": "markdown",
     "checksum": "9a9e4edb2f3728a375634765670df38a",
     "grade": false,
     "grade_id": "cell-eed8296446f9bcd0",
     "locked": true,
     "schema_version": 3,
     "solution": false,
     "task": false
    }
   },
   "source": [
    "There, `King` is working much better now.\n",
    "\n",
    "## Instance attributes and attribute overriding\n",
    "\n",
    "Wait, why is `self.name` able to be used when we didn’t set it in `__init__()`? That’s because class attributes are available to all its instances. If you set the `name` attribute of an instance, it will override its class attribute (note that the class attribute is not deleted). And if you delete the instance attribute, the class attribute will be used again:"
   ]
  },
  {
   "cell_type": "code",
   "execution_count": null,
   "metadata": {},
   "outputs": [],
   "source": [
    "k.name = 'da king'\n",
    "# Uses instance attribute\n",
    "print(f'After overriding class attribute: {k.name}')\n",
    "del k.name\n",
    "# Back to class attribute\n",
    "print(f'After removing instance attribute: {k.name}')"
   ]
  },
  {
   "cell_type": "markdown",
   "metadata": {
    "deletable": false,
    "editable": false,
    "nbgrader": {
     "cell_type": "markdown",
     "checksum": "2f8cffd0d57c4741ce6af37c83accf32",
     "grade": false,
     "grade_id": "cell-adb80ad7190a22a4",
     "locked": true,
     "schema_version": 3,
     "solution": false,
     "task": false
    }
   },
   "source": [
    "Lets go ahead and make `Board` first, before we come back to look at the other pieces.\n",
    "\n",
    "## Making `Board`\n",
    "\n",
    "Our chess board needs to have an 8×8 grid. It also needs to have a way to keep track of which piece is on which square of the grid. How should we go about doing this?\n",
    "\n",
    "A newcomer might think of creating an 8-by-8 nested list, like this:"
   ]
  },
  {
   "cell_type": "code",
   "execution_count": null,
   "metadata": {},
   "outputs": [],
   "source": [
    "board = []\n",
    "for x in range(8):\n",
    "    none_row = [None]*8\n",
    "    board.append(none_row)\n",
    "board[0][4] = King('black')\n",
    "board[7][4] = King('white')\n",
    "board"
   ]
  },
  {
   "cell_type": "markdown",
   "metadata": {
    "deletable": false,
    "editable": false,
    "nbgrader": {
     "cell_type": "markdown",
     "checksum": "797a737163c3a024f697cb65f9d567fe",
     "grade": false,
     "grade_id": "cell-0f51d4ba275679b6",
     "locked": true,
     "schema_version": 3,
     "solution": false,
     "task": false
    }
   },
   "source": [
    "But then you are going to have a hard time tracking their positions; how are you going to find `King('black')` after it has moved?\n",
    "\n",
    "    for x in range(8):\n",
    "        for y in range(8):\n",
    "            piece =  board[x][y]\n",
    "            if piece.name == 'king' and piece.colour = 'black':\n",
    "                <your code goes here>\n",
    "\n",
    "That could work, but it’s so inefficient. You have 64 board positions, and 32 board pieces. How complex is your code going to have to be?\n",
    "\n",
    "It would be easier instead to just store the positions of the pieces. Lets think about our ideal code. We would like to be able to get the positions of each chess piece this way:\n",
    "\n",
    "    >>> b = Board() # instantiates a game board\n",
    "    <-- Suppose our chess pieces have been placed on the board at this point -->\n",
    "    >>> b.position_of_piece('white king') # indexes start from 0\n",
    "    (7, 4)\n",
    "    \n",
    "It would also be helpful if we could examine which piece was at a particular position:\n",
    "\n",
    "    >>> b.piece_at_position(7, 4)\n",
    "    'white king'\n",
    "    \n",
    "Then it looks like each piece is **mapped** to a position. Sounds familiar? Perhaps we could use a `dict` to map each chess piece to a position!\n",
    "\n",
    "Oh man, there’s no easy way around this. We are going to have to write code to set the initial position of each piece.\n",
    "\n",
    "### Task 2\n",
    "\n",
    "Before you run the cell below, time to define the other classes first so this will work:"
   ]
  },
  {
   "cell_type": "code",
   "execution_count": null,
   "metadata": {
    "deletable": false,
    "nbgrader": {
     "cell_type": "code",
     "checksum": "c3d54c0e46f18af8dbda2ac64926cb66",
     "grade": false,
     "grade_id": "cell-9fb036c14c5bdf48",
     "locked": false,
     "schema_version": 3,
     "solution": true,
     "task": false
    }
   },
   "outputs": [],
   "source": [
    "# Define the other chess piece classes and their reprs here:\n",
    "\n",
    "\n"
   ]
  },
  {
   "cell_type": "markdown",
   "metadata": {},
   "source": [
    "Now that we have our pieces, we can start to set them up on the playing board. We will map each piece to a specific position on the board. `dict`s accept any immutable object as a key, so we will use tuples as the key for each piece; the piece object itself is the value.\n",
    "\n",
    "We also need a method, `display()`, to print the entire board, so that we can see what is going on."
   ]
  },
  {
   "cell_type": "code",
   "execution_count": null,
   "metadata": {
    "deletable": false,
    "nbgrader": {
     "cell_type": "code",
     "checksum": "216d56fc262a21fc2188beff11513ce7",
     "grade": false,
     "grade_id": "cell-3b4e7f2e9790ca6a",
     "locked": false,
     "schema_version": 3,
     "solution": true,
     "task": false
    }
   },
   "outputs": [],
   "source": [
    "# Run this cell to update `Board` and generate\n",
    "# a playing position with starting positions\n",
    "\n",
    "\n",
    "class Board:\n",
    "    def __init__(self):\n",
    "        pass\n",
    "    \n",
    "    def start(self):\n",
    "        self.position = []\n",
    "\n",
    "        colour = 'black'\n",
    "        self.position[(0, 7)] = Rook(colour)\n",
    "        self.position[(1, 7)] = Knight(colour)\n",
    "        self.position[(2, 7)] = Bishop(colour)\n",
    "        self.position[(3, 7)] = Queen(colour)\n",
    "        self.position[(4, 7)] = King(colour)\n",
    "        self.position[(5, 7)] = Bishop(colour)\n",
    "        self.position[(6, 7)] = Knight(colour)\n",
    "        self.position[(7, 7)] = Rook(colour)\n",
    "        for x in range(0, 8):\n",
    "            self.position[(x, 6)] = Pawn(colour)\n",
    "\n",
    "        colour = 'white'\n",
    "        self.position[(0, 0)] = Rook(colour)\n",
    "        self.position[(1, 0)] = Knight(colour)\n",
    "        self.position[(2, 0)] = Bishop(colour)\n",
    "        self.position[(3, 0)] = Queen(colour)\n",
    "        self.position[(4, 0)] = King(colour)\n",
    "        self.position[(5, 0)] = Bishop(colour)\n",
    "        self.position[(6, 0)] = Knight(colour)\n",
    "        self.position[(7, 0)] = Rook(colour)\n",
    "        for x in range(0, 8):\n",
    "            self.position[(x, 1)] = Pawn(colour)\n",
    "\n",
    "    def display(self):\n",
    "        '''\n",
    "        Displays the contents of the board.\n",
    "        Each piece is represented by two letters.\n",
    "        First letter is the colour (W for white, B for black).\n",
    "        Second letter is the name (Starting letter for each piece).\n",
    "        '''\n",
    "        # Write your code here\n",
    "        \n",
    "\n",
    "b = Board()\n",
    "b.position"
   ]
  },
  {
   "cell_type": "markdown",
   "metadata": {
    "deletable": false,
    "editable": false,
    "nbgrader": {
     "cell_type": "markdown",
     "checksum": "fb2425a2d477cfc6946dc5780401a6f4",
     "grade": false,
     "grade_id": "cell-d534cfda66349dd7",
     "locked": true,
     "schema_version": 3,
     "solution": false,
     "task": false
    }
   },
   "source": [
    "That’s all the _information_ we need about the pieces. But we will need more _methods_ in the process of programming the chess game. We will continue that in **Lesson 12b**.\n",
    "\n",
    "For now, we have quite a lot of code scattered across many cells. Let’s put them all into a single file so that it is easier to manage. In Python, this is known as making a **module**.\n",
    "\n",
    "## Task 1: Making a `chess` (single-file) module\n",
    "\n",
    "Copy the latest code for `Board`, `BasePiece`, and each chess piece class (`King`,`Queen`,`Bishop`,`Knight`,`Rook`,`Pawn`) into `chess.py`, overriding the old definitions."
   ]
  },
  {
   "cell_type": "markdown",
   "metadata": {
    "deletable": false,
    "editable": false,
    "nbgrader": {
     "cell_type": "markdown",
     "checksum": "569082b0702e6921ae2abb19490eadd5",
     "grade": false,
     "grade_id": "cell-4c4066e33c728cd7",
     "locked": true,
     "schema_version": 3,
     "solution": false,
     "task": false
    }
   },
   "source": [
    "## Local imports\n",
    "\n",
    "Besides the standard Python libraries, you can also install other libraries. The most common way of doing this is through the <b>P</b>ackage <b>I</b>nstaller for <b>P</b>ython, also known as `pip`. It acts like an “app store” for Python, except it has python libraries instead of apps.\n",
    "\n",
    "You can’t run `pip` on the school laptops as you don’t have administrator permissions, but on your own laptop you can do so. We will look at `pip` use once we begin on group-based projects. For now, let’s look at a related concern: how do you import a library you wrote yourself, but which is not available on `pip`?"
   ]
  },
  {
   "cell_type": "markdown",
   "metadata": {
    "deletable": false,
    "editable": false,
    "nbgrader": {
     "cell_type": "markdown",
     "checksum": "3b687a4c7b86036af47b16028271e40d",
     "grade": false,
     "grade_id": "cell-632e8d30534ffcd6",
     "locked": true,
     "schema_version": 3,
     "solution": false,
     "task": false
    }
   },
   "source": [
    "## Importing from another Python file (`.py`) in the same directory\n",
    "\n",
    "A library can be very simple; nothing more than another `.py` file containing functions and classes. It can also be very complex, consisting of multiple layers of files and directories, possibly even requiring installation.\n",
    "\n",
    "We have just created a`chess` module, inside `chess.py`, in the same directory as this Jupyter Notebook.\n",
    "Let’s import those objects into this notebook."
   ]
  },
  {
   "cell_type": "code",
   "execution_count": null,
   "metadata": {},
   "outputs": [],
   "source": [
    "from chess import Board, BasePiece, King, Queen, Bishop, Knight, Rook, Pawn\n",
    "\n",
    "b = Board()\n",
    "b.field"
   ]
  },
  {
   "cell_type": "markdown",
   "metadata": {
    "deletable": false,
    "editable": false,
    "nbgrader": {
     "cell_type": "markdown",
     "checksum": "96d72ea340f870558a82cfaf644a8bef",
     "grade": false,
     "grade_id": "cell-1a37e5bb4542fb68",
     "locked": true,
     "schema_version": 3,
     "solution": false,
     "task": false
    }
   },
   "source": [
    "For modules with many more objects, it can get tedious to list every single class and function. In those cases, to keep the names clear (remember how hard it is to name things?), we simply import the module. The classes (and any functions) are available with the `module.class` (or `module.function`) syntax:"
   ]
  },
  {
   "cell_type": "code",
   "execution_count": null,
   "metadata": {},
   "outputs": [],
   "source": [
    "import chess\n",
    "\n",
    "board = chess.Board()\n",
    "board.field"
   ]
  },
  {
   "cell_type": "markdown",
   "metadata": {
    "deletable": false,
    "editable": false,
    "nbgrader": {
     "cell_type": "markdown",
     "checksum": "839d4f5eff590814ef91fa699a0ca4c6",
     "grade": false,
     "grade_id": "cell-afba2f0d88dd36b3",
     "locked": true,
     "schema_version": 3,
     "solution": false,
     "task": false
    }
   },
   "source": [
    "Very similar to your normal `import`s, right?\n",
    "\n",
    "Python will first search in the directory to see if there is a file or library named `chess`. If it doesn’t exist, then Python will search in a list of directories to see if there are any libraries or modules named `chess`. This list of directories is known as the **system path**."
   ]
  },
  {
   "cell_type": "code",
   "execution_count": null,
   "metadata": {},
   "outputs": [],
   "source": [
    "import sys\n",
    "\n",
    "print('Directories in system path:')\n",
    "for path in sys.path:\n",
    "    print(path)"
   ]
  },
  {
   "cell_type": "markdown",
   "metadata": {
    "deletable": false,
    "editable": false,
    "nbgrader": {
     "cell_type": "markdown",
     "checksum": "daf033d9e7ca36262781d670cc56b096",
     "grade": false,
     "grade_id": "cell-d02d539f9376ab14",
     "locked": true,
     "schema_version": 3,
     "solution": false,
     "task": false
    }
   },
   "source": [
    "If nothing named `chess` is found in any of these places, Python raises a `ModuleNotFoundError`. For example:"
   ]
  },
  {
   "cell_type": "code",
   "execution_count": null,
   "metadata": {},
   "outputs": [],
   "source": [
    "import chess2"
   ]
  },
  {
   "cell_type": "markdown",
   "metadata": {
    "deletable": false,
    "editable": false,
    "nbgrader": {
     "cell_type": "markdown",
     "checksum": "ea8844023fcfff5962c46ae3796aa844",
     "grade": false,
     "grade_id": "cell-47d2f518f97c0b3a",
     "locked": true,
     "schema_version": 3,
     "solution": false,
     "task": false
    }
   },
   "source": [
    "# Feedback and suggestions\n",
    "\n",
    "Any feedback or suggestions for this assignment?"
   ]
  },
  {
   "cell_type": "markdown",
   "metadata": {
    "deletable": false,
    "nbgrader": {
     "cell_type": "markdown",
     "checksum": "15d2aed18f5b9e24f087da8775492e9f",
     "grade": true,
     "grade_id": "cell-cff3e51d3e9a7c7b",
     "locked": false,
     "points": 0,
     "schema_version": 3,
     "solution": true,
     "task": false
    }
   },
   "source": [
    "YOUR ANSWER HERE"
   ]
  }
 ],
 "metadata": {
  "kernelspec": {
   "display_name": "Python 3",
   "language": "python",
   "name": "python3"
  },
  "language_info": {
   "codemirror_mode": {
    "name": "ipython",
    "version": 3
   },
   "file_extension": ".py",
   "mimetype": "text/x-python",
   "name": "python",
   "nbconvert_exporter": "python",
   "pygments_lexer": "ipython3",
   "version": "3.6.7"
  }
 },
 "nbformat": 4,
 "nbformat_minor": 2
}
