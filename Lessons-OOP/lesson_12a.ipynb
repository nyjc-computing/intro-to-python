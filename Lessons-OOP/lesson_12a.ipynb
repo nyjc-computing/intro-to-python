{
 "cells": [
  {
   "cell_type": "markdown",
   "metadata": {},
   "source": [
    "# Lesson 12a: Class inheritance, local imports"
   ]
  },
  {
   "cell_type": "code",
   "execution_count": 1,
   "metadata": {},
   "outputs": [],
   "source": [
    "# This code cell loads a PEP8 linter\n",
    "# Linting is the process of flagging programming errors,\n",
    "# bugs, stylistic errors, and other code problems\n",
    "# pycodestyle is a linter that highlights any syntax that\n",
    "# is not PEP8-compliant.\n",
    "\n",
    "%load_ext pycodestyle_magic\n",
    "%pycodestyle_on"
   ]
  },
  {
   "cell_type": "markdown",
   "metadata": {},
   "source": [
    "## Class Inheritance\n",
    "\n",
    "While `class`es are really useful, we will find ourselves repeating a lot of code if we don’t think through and plan the code in advance. Let’s try writing a simple chess game. Before we start writing any code, it helps immensely to think about what we will need first.\n",
    "\n",
    "At the least, we will need:\n",
    "\n",
    "- a chess board\n",
    "- chess pieces\n",
    "  - king\n",
    "  - queen\n",
    "  - rook\n",
    "  - bishop\n",
    "  - knight\n",
    "  - pawn\n",
    "  \n",
    "The pieces have one common characteristics:\n",
    "\n",
    "- a colour (white or black)\n",
    "\n",
    "6 different types of pieces. That means repeating our `__init__()`, `__repr__()`, and other methods _6 times_! And if we change our minds and decide to change one of those features, we will have to change it in 6 places … Is there any way we can reduce that repetition?\n",
    "\n",
    "Of course. Python lets us define classes _based on other classes_.\n",
    "\n",
    "Since all chess pieces have some common characteristics, let’s define a `BasePiece` class that represents a _generic_ chess piece. It will implement code that is common to all chess pieces:"
   ]
  },
  {
   "cell_type": "code",
   "execution_count": 2,
   "metadata": {},
   "outputs": [],
   "source": [
    "class BasePiece:\n",
    "    def __init__(self, colour):\n",
    "        if type(colour) != str:\n",
    "            raise TypeError('colour argument must be str')\n",
    "        elif colour.lower() not in {'white', 'black'}:\n",
    "            raise ValueError('colour must be {white, black}')\n",
    "        else:\n",
    "            self.colour = colour\n",
    "\n",
    "    def __repr__(self):\n",
    "        return f'BasePiece({repr(self.colour)})'"
   ]
  },
  {
   "cell_type": "markdown",
   "metadata": {},
   "source": [
    "## Child classes\n",
    "\n",
    "Our child classes should have the attributes of the `BasePiece`, which is the parent class. We call them child classes because they are derived from the parent class. We say that the child class **inherits** the attributes and methods of the parent class.\n",
    "\n",
    "Let’s start with our first child class, the `King`:"
   ]
  },
  {
   "cell_type": "code",
   "execution_count": 3,
   "metadata": {},
   "outputs": [],
   "source": [
    "class King(BasePiece):\n",
    "    pass"
   ]
  },
  {
   "cell_type": "markdown",
   "metadata": {},
   "source": [
    "This child class inherits the `colour` attribute, as well as the `__init__()` and `__repr__()` methods from `BasePiece`."
   ]
  },
  {
   "cell_type": "code",
   "execution_count": 4,
   "metadata": {},
   "outputs": [
    {
     "data": {
      "text/plain": [
       "BasePiece('white')"
      ]
     },
     "execution_count": 4,
     "metadata": {},
     "output_type": "execute_result"
    }
   ],
   "source": [
    "k = King('white')\n",
    "k"
   ]
  },
  {
   "cell_type": "markdown",
   "metadata": {},
   "source": [
    "## Class attributes\n",
    "\n",
    "Hmm, that’s not so helpful now. Our `BasePiece` only needed a `colour` since it was a generic piece, but now that we are creating pieces of a specific type, `__repr__()` should also return the piece name.\n",
    "\n",
    "We will need to **override** the `__repr__()` method of `BasePiece` by defining a new one for `King`. But how do we create a `name` attribute for `King` without going through the `__init__()` method?\n",
    "\n",
    "We can set it as a **class attribute** instead.\n",
    "\n",
    "Notice that the `colour` attribute of `BasePiece` was set only in `__init__()`. The `BasePiece` class **does not** actually have this attribute, only its instances have it:"
   ]
  },
  {
   "cell_type": "code",
   "execution_count": 5,
   "metadata": {
    "scrolled": true
   },
   "outputs": [
    {
     "name": "stdout",
     "output_type": "stream",
     "text": [
      "b.colour: white\n"
     ]
    },
    {
     "ename": "AttributeError",
     "evalue": "type object 'BasePiece' has no attribute 'colour'",
     "output_type": "error",
     "traceback": [
      "\u001b[0;31m---------------------------------------------------------------------------\u001b[0m",
      "\u001b[0;31mAttributeError\u001b[0m                            Traceback (most recent call last)",
      "\u001b[0;32m<ipython-input-5-d269f639e359>\u001b[0m in \u001b[0;36m<module>\u001b[0;34m\u001b[0m\n\u001b[1;32m      1\u001b[0m \u001b[0mb\u001b[0m \u001b[0;34m=\u001b[0m \u001b[0mBasePiece\u001b[0m\u001b[0;34m(\u001b[0m\u001b[0;34m'white'\u001b[0m\u001b[0;34m)\u001b[0m\u001b[0;34m\u001b[0m\u001b[0;34m\u001b[0m\u001b[0m\n\u001b[1;32m      2\u001b[0m \u001b[0mprint\u001b[0m\u001b[0;34m(\u001b[0m\u001b[0;34mf'b.colour: {b.colour}'\u001b[0m\u001b[0;34m)\u001b[0m\u001b[0;34m\u001b[0m\u001b[0;34m\u001b[0m\u001b[0m\n\u001b[0;32m----> 3\u001b[0;31m \u001b[0mprint\u001b[0m\u001b[0;34m(\u001b[0m\u001b[0;34mf'BasePiece.colour: {BasePiece.colour}'\u001b[0m\u001b[0;34m)\u001b[0m\u001b[0;34m\u001b[0m\u001b[0;34m\u001b[0m\u001b[0m\n\u001b[0m",
      "\u001b[0;31mAttributeError\u001b[0m: type object 'BasePiece' has no attribute 'colour'"
     ]
    }
   ],
   "source": [
    "b = BasePiece('white')\n",
    "print(f'b.colour: {b.colour}')\n",
    "print(f'BasePiece.colour: {BasePiece.colour}')"
   ]
  },
  {
   "cell_type": "markdown",
   "metadata": {},
   "source": [
    "The `King` class, on the other hand, is a `king` piece, whether it has been instantiated or not. I should be able to do this:\n",
    "\n",
    "    >>> King.name\n",
    "    'king'\n",
    "    \n",
    "So let’s go ahead and give the `King` class a `name` class attribute, and a new `__repr__()` method."
   ]
  },
  {
   "cell_type": "code",
   "execution_count": 6,
   "metadata": {},
   "outputs": [
    {
     "name": "stderr",
     "output_type": "stream",
     "text": [
      "7:9: E266 too many leading '#' for block comment\n",
      "9:9: E266 too many leading '#' for block comment\n"
     ]
    },
    {
     "name": "stdout",
     "output_type": "stream",
     "text": [
      "King('white')\n"
     ]
    }
   ],
   "source": [
    "class King(BasePiece):\n",
    "    # define a `name` class attribute for the King class\n",
    "    name = 'king'\n",
    "\n",
    "    def __repr__(self):\n",
    "        # define the __repr__() method for the King class\n",
    "        ### BEGIN SOLUTION\n",
    "        return f'King({repr(self.colour)})'\n",
    "        ### END SOLUTION\n",
    "\n",
    "\n",
    "k = King('white')\n",
    "print(k)"
   ]
  },
  {
   "cell_type": "code",
   "execution_count": 7,
   "metadata": {
    "scrolled": true
   },
   "outputs": [],
   "source": [
    "# AUTOGRADING: test class attribute and __repr__()\n",
    "assert King.name == 'king', \\\n",
    "    '`name` attribute wrongly defined for King class'\n",
    "assert repr(King('white')) == \"King('white')\", \\\n",
    "    \"__repr__() method wrongly defined for King class\""
   ]
  },
  {
   "cell_type": "markdown",
   "metadata": {},
   "source": [
    "Later, we are going to need a `__str__()` method to produce a simple description (e.g. `'white king'`) too. That’s a simple combination of the `colour` and `name` attributes, and it would be tedious to repeat the `__str__()` definition for all the piece classes.\n",
    "\n",
    "So let’s define it in `BasePiece` instead, using `try-except` to catch the `NameError` if the `name` attribute is not found:"
   ]
  },
  {
   "cell_type": "code",
   "execution_count": 8,
   "metadata": {},
   "outputs": [
    {
     "name": "stderr",
     "output_type": "stream",
     "text": [
      "17:13: E266 too many leading '#' for block comment\n",
      "19:13: E266 too many leading '#' for block comment\n"
     ]
    },
    {
     "name": "stdout",
     "output_type": "stream",
     "text": [
      "white king\n"
     ]
    }
   ],
   "source": [
    "class BasePiece:\n",
    "    def __init__(self, colour):\n",
    "        if type(colour) != str:\n",
    "            raise TypeError('colour argument must be str')\n",
    "        elif colour.lower() not in {'white', 'black'}:\n",
    "            raise ValueError('colour must be {white, black}')\n",
    "        else:\n",
    "            self.colour = colour\n",
    "\n",
    "    def __repr__(self):\n",
    "        return f'BasePiece({repr(self.colour)})'\n",
    "\n",
    "    def __str__(self):\n",
    "        try:\n",
    "            # define __str__() to return a simple description\n",
    "            # e.g. 'white king', 'black queen'\n",
    "            ### BEGIN SOLUTION\n",
    "            return f'{self.colour} {self.name}'\n",
    "            ### END SOLUTION\n",
    "        except NameError:\n",
    "            return f'{self.colour} piece'\n",
    "\n",
    "\n",
    "class King(BasePiece):\n",
    "    name = 'king'\n",
    "\n",
    "    def __repr__(self):\n",
    "        return f'King({repr(self.colour)})'\n",
    "\n",
    "\n",
    "k = King('white')\n",
    "print(k)"
   ]
  },
  {
   "cell_type": "code",
   "execution_count": null,
   "metadata": {},
   "outputs": [],
   "source": [
    "# Test cell to check your code\n",
    "assert str(King('white')) == 'white king', \\\n",
    "    \"__str__() method wrongly defined for King class\""
   ]
  },
  {
   "cell_type": "markdown",
   "metadata": {},
   "source": [
    "There, `King` is working much better now.\n",
    "\n",
    "## Instance attributes and attribute overriding\n",
    "\n",
    "Wait, why is `self.name` able to be used when we didn’t set it in `__init__()`? That’s because class attributes are available to all its instances. If you set the `name` attribute of an instance, it will override its class instance. And if you delete the instance attribute, the class attribute will be used again:"
   ]
  },
  {
   "cell_type": "code",
   "execution_count": 9,
   "metadata": {},
   "outputs": [
    {
     "name": "stdout",
     "output_type": "stream",
     "text": [
      "After overriding class attribute: da king\n",
      "After removing instance attribute: king\n"
     ]
    }
   ],
   "source": [
    "k.name = 'da king'\n",
    "# Uses instance attribute\n",
    "print(f'After overriding class attribute: {k.name}')\n",
    "del k.name\n",
    "# Back to class attribute\n",
    "print(f'After removing instance attribute: {k.name}')"
   ]
  },
  {
   "cell_type": "markdown",
   "metadata": {},
   "source": [
    "Lets go ahead and make `Board` first, before we come back to look at the other pieces.\n",
    "\n",
    "## Making `Board`\n",
    "\n",
    "Our chess board needs to have an 8×8 grid. It also needs to have a way to keep track of which piece is on which square of the grid. How should we go about doing this?\n",
    "\n",
    "A newcomer might think of creating an 8-by-8 nested list, like this:"
   ]
  },
  {
   "cell_type": "code",
   "execution_count": null,
   "metadata": {},
   "outputs": [],
   "source": [
    "board = []\n",
    "for x in range(8):\n",
    "    none_row = [None]*8\n",
    "    board.append(none_row)\n",
    "board[0][4] = King('black')\n",
    "board[7][4] = King('white')\n",
    "board"
   ]
  },
  {
   "cell_type": "markdown",
   "metadata": {},
   "source": [
    "But then you are going to have a hard time tracking their positions; how are you going to find `King('black')` after it has moved?\n",
    "\n",
    "    for x in range(8):\n",
    "        for y in range(8):\n",
    "            piece =  board[x][y]\n",
    "            if piece.name == 'king' and piece.colour = 'black':\n",
    "                <your code goes here>\n",
    "\n",
    "That could work, but it’s so inefficient. You have 64 board positions, and 32 board pieces. How complex is your code going to have to be?\n",
    "\n",
    "It would be easier instead to just store the positions of the pieces. Lets think about our ideal code. We would like to be able to get the positions of each chess piece this way:\n",
    "\n",
    "    >>> b = Board() # instantiates a game board\n",
    "    <-- Suppose our chess pieces have been placed on the board at this point -->\n",
    "    >>> b.find('white king') # indexes start from 0\n",
    "    7,4\n",
    "    \n",
    "It would also be nice if we could examine which piece was at a particular position:\n",
    "\n",
    "    >>> b.examine(7,4)\n",
    "    'white king'\n",
    "    \n",
    "It looks like each piece is **mapped** to a position. Sounds familiar? Perhaps we could use a `list` of `dict`s to map each chess piece to a position!\n",
    "\n",
    "Oh man, there’s no easy way around this. We are going to have to write code to set the initial position of each piece. Before you run the cell below, time to define the other classes first so this will work:"
   ]
  },
  {
   "cell_type": "code",
   "execution_count": 10,
   "metadata": {},
   "outputs": [
    {
     "name": "stderr",
     "output_type": "stream",
     "text": [
      "4:1: E266 too many leading '#' for block comment\n",
      "38:1: E266 too many leading '#' for block comment\n"
     ]
    }
   ],
   "source": [
    "# Define the other chess piece classes here:\n",
    "\n",
    "\n",
    "### BEGIN SOLUTION\n",
    "class Queen(BasePiece):\n",
    "    name = 'queen'\n",
    "\n",
    "    def __repr__(self):\n",
    "        return f'Queen({repr(self.colour)})'\n",
    "\n",
    "\n",
    "class Bishop(BasePiece):\n",
    "    name = 'bishop'\n",
    "\n",
    "    def __repr__(self):\n",
    "        return f'Bishop({repr(self.colour)})'\n",
    "\n",
    "\n",
    "class Knight(BasePiece):\n",
    "    name = 'knight'\n",
    "\n",
    "    def __repr__(self):\n",
    "        return f'Knight({repr(self.colour)})'\n",
    "\n",
    "\n",
    "class Rook(BasePiece):\n",
    "    name = 'rook'\n",
    "\n",
    "    def __repr__(self):\n",
    "        return f'Rook({repr(self.colour)})'\n",
    "\n",
    "\n",
    "class Pawn(BasePiece):\n",
    "    name = 'pawn'\n",
    "\n",
    "    def __repr__(self):\n",
    "        return f'Pawn({repr(self.colour)})'\n",
    "### END SOLUTION"
   ]
  },
  {
   "cell_type": "code",
   "execution_count": 21,
   "metadata": {},
   "outputs": [
    {
     "data": {
      "text/plain": [
       "[{'piece': Rook('black'), 'position': (0, 7)},\n",
       " {'piece': Knight('black'), 'position': (1, 7)},\n",
       " {'piece': Bishop('black'), 'position': (2, 7)},\n",
       " {'piece': Queen('black'), 'position': (3, 7)},\n",
       " {'piece': King('black'), 'position': (4, 7)},\n",
       " {'piece': Bishop('black'), 'position': (5, 7)},\n",
       " {'piece': Knight('black'), 'position': (6, 7)},\n",
       " {'piece': Rook('black'), 'position': (7, 7)},\n",
       " {'piece': Pawn('black'), 'position': (0, 6)},\n",
       " {'piece': Pawn('black'), 'position': (1, 6)},\n",
       " {'piece': Pawn('black'), 'position': (2, 6)},\n",
       " {'piece': Pawn('black'), 'position': (3, 6)},\n",
       " {'piece': Pawn('black'), 'position': (4, 6)},\n",
       " {'piece': Pawn('black'), 'position': (5, 6)},\n",
       " {'piece': Pawn('black'), 'position': (6, 6)},\n",
       " {'piece': Pawn('black'), 'position': (7, 6)},\n",
       " {'piece': Pawn('white'), 'position': (0, 1)},\n",
       " {'piece': Pawn('white'), 'position': (1, 1)},\n",
       " {'piece': Pawn('white'), 'position': (2, 1)},\n",
       " {'piece': Pawn('white'), 'position': (3, 1)},\n",
       " {'piece': Pawn('white'), 'position': (4, 1)},\n",
       " {'piece': Pawn('white'), 'position': (5, 1)},\n",
       " {'piece': Pawn('white'), 'position': (6, 1)},\n",
       " {'piece': Pawn('white'), 'position': (7, 1)},\n",
       " {'piece': Rook('white'), 'position': (0, 0)},\n",
       " {'piece': Knight('white'), 'position': (1, 0)},\n",
       " {'piece': Bishop('white'), 'position': (2, 0)},\n",
       " {'piece': Queen('white'), 'position': (3, 0)},\n",
       " {'piece': King('white'), 'position': (4, 0)},\n",
       " {'piece': Bishop('white'), 'position': (5, 0)},\n",
       " {'piece': Knight('white'), 'position': (6, 0)},\n",
       " {'piece': Rook('white'), 'position': (7, 0)}]"
      ]
     },
     "execution_count": 21,
     "metadata": {},
     "output_type": "execute_result"
    }
   ],
   "source": [
    "# Run this cell to update `Board` and generate a playing field\n",
    "\n",
    "\n",
    "def baserow(colour):\n",
    "    '''\n",
    "    Returns a list containing the base row pieces:\n",
    "    Rook, Knight, Bishop, Queen, King, Bishop, Knight, Rook\n",
    "    '''\n",
    "    baserow = [None]*8\n",
    "    for col, piece in enumerate((Rook, Knight, Bishop, Queen,\n",
    "                                 King, Bishop, Knight, Rook)):\n",
    "        baserow[col] = piece(colour)\n",
    "    return baserow\n",
    "\n",
    "\n",
    "class Board:\n",
    "    def __init__(self):\n",
    "        self.field = [None]*32\n",
    "        idx = 0\n",
    "\n",
    "        colour = 'black'\n",
    "        y = 7\n",
    "        for x, piece in enumerate(baserow(colour)):\n",
    "            self.field[idx] = {'piece': piece, 'position': (x, y)}\n",
    "            idx += 1\n",
    "        y = 6\n",
    "        for x in range(8):\n",
    "            self.field[idx] = {'piece': Pawn(colour), 'position': (x, y)}\n",
    "            idx += 1\n",
    "\n",
    "        colour = 'white'\n",
    "        y = 1\n",
    "        for x in range(8):\n",
    "            self.field[idx] = {'piece': Pawn(colour), 'position': (x, y)}\n",
    "            idx += 1\n",
    "        y = 0\n",
    "        for x, piece in enumerate(baserow(colour)):\n",
    "            self.field[idx] = {'piece': piece, 'position': (x, y)}\n",
    "            idx += 1\n",
    "\n",
    "\n",
    "b = Board()\n",
    "b.field"
   ]
  },
  {
   "cell_type": "markdown",
   "metadata": {},
   "source": [
    "That’s all the _information_ we need about the pieces. But we will need more methods in the process of programming the chess game. We will continue that in **Lesson 10b**.\n",
    "\n",
    "For now, we have quite a lot of code scattered across many cells. Let’s put them all into a single file so that it is easier to manage. In Python, this is known as making a **module**\n",
    "\n",
    "## Task 1: Making a `chess` (single-file) module\n",
    "\n",
    "Copy the latest code for `Board`, `BasePiece`, and each chess piece class (`King`,`Queen`,`Bishop`,`Knight`,`Rook`,`Pawn`) into `chess.py`, overriding the old definitions."
   ]
  },
  {
   "cell_type": "markdown",
   "metadata": {},
   "source": [
    "## local imports\n",
    "\n",
    "Besides the standard Python libraries, you can also install other libraries. The most common way of doing this is through the <b>P</b>ackage <b>I</b>nstaller for <b>P</b>ython, also known as `pip`. It acts like an “app store” for Python, except it has python libraries instead of apps.\n",
    "\n",
    "You can’t run `pip` on the school laptops as you don’t have administrator permissions, but on your own laptop you can do so. We will look at `pip` use once we begin on group-based projects. For now, let’s look at a related concern: how do you import a library you wrote yourself, but which is not available on `pip`?"
   ]
  },
  {
   "cell_type": "markdown",
   "metadata": {},
   "source": [
    "## Importing from another Python file (`.py`) in the same directory\n",
    "\n",
    "A library can be very simple; nothing more than another `.py` file containing functions and classes. It can also be very complex, consisting of multiple layers of files and directories, possibly even requiring installation.\n",
    "\n",
    "We have just created a`chess` module, inside `chess.py`, in the same directory as this Jupyter Notebook.\n",
    "Let’s import those objects into this notebook."
   ]
  },
  {
   "cell_type": "code",
   "execution_count": null,
   "metadata": {},
   "outputs": [],
   "source": [
    "from chess import Board, BasePiece, King, Queen, Bishop, Knight, Rook, Pawn\n",
    "\n",
    "b = Board()\n",
    "b.field"
   ]
  },
  {
   "cell_type": "markdown",
   "metadata": {},
   "source": [
    "For modules with many more objects, it can get tedious to list every single class and function. In those cases, to keep the names clear (remember how hard it is to name things?), we simply import the module. The classes (and any functions) are available with the `module.class` (or `module.function`) syntax:"
   ]
  },
  {
   "cell_type": "code",
   "execution_count": null,
   "metadata": {},
   "outputs": [],
   "source": [
    "import chess\n",
    "\n",
    "b = chess.Board()\n",
    "b.field"
   ]
  },
  {
   "cell_type": "markdown",
   "metadata": {},
   "source": [
    "Very similar to your normal `import`s, right?\n",
    "\n",
    "Python will first search in the directory to see if there is a file or library named `chess`. If it doesn’t exist, then Python will search in a list of directories to see if there are any libraries or modules named `chess`. This list of directories are known as the **system path**."
   ]
  },
  {
   "cell_type": "code",
   "execution_count": null,
   "metadata": {},
   "outputs": [],
   "source": [
    "import sys\n",
    "\n",
    "print('Directories in system path:')\n",
    "for path in sys.path:\n",
    "    print(path)"
   ]
  },
  {
   "cell_type": "markdown",
   "metadata": {},
   "source": [
    "If nothing named `chess` is found in any of these places, Python raises a `ModuleNotFoundError`. For example:"
   ]
  },
  {
   "cell_type": "code",
   "execution_count": 1,
   "metadata": {},
   "outputs": [
    {
     "ename": "ModuleNotFoundError",
     "evalue": "No module named 'chess2'",
     "output_type": "error",
     "traceback": [
      "\u001b[0;31m---------------------------------------------------------------------------\u001b[0m",
      "\u001b[0;31mModuleNotFoundError\u001b[0m                       Traceback (most recent call last)",
      "\u001b[0;32m<ipython-input-1-c5c55c7581d3>\u001b[0m in \u001b[0;36m<module>\u001b[0;34m\u001b[0m\n\u001b[0;32m----> 1\u001b[0;31m \u001b[0;32mimport\u001b[0m \u001b[0mchess2\u001b[0m\u001b[0;34m\u001b[0m\u001b[0;34m\u001b[0m\u001b[0m\n\u001b[0m",
      "\u001b[0;31mModuleNotFoundError\u001b[0m: No module named 'chess2'"
     ]
    }
   ],
   "source": [
    "import chess2"
   ]
  },
  {
   "cell_type": "markdown",
   "metadata": {
    "nbgrader": {
     "grade": false,
     "grade_id": "cell-47d2f518f97c0b3a",
     "locked": true,
     "schema_version": 3,
     "solution": false,
     "task": false
    }
   },
   "source": [
    "# Feedback and suggestions\n",
    "\n",
    "Any feedback or suggestions for this assignment?"
   ]
  },
  {
   "cell_type": "markdown",
   "metadata": {
    "nbgrader": {
     "grade": true,
     "grade_id": "cell-cff3e51d3e9a7c7b",
     "locked": false,
     "points": 0,
     "schema_version": 3,
     "solution": true,
     "task": false
    }
   },
   "source": []
  }
 ],
 "metadata": {
  "celltoolbar": "Create Assignment",
  "kernelspec": {
   "display_name": "Python 3",
   "language": "python",
   "name": "python3"
  },
  "language_info": {
   "codemirror_mode": {
    "name": "ipython",
    "version": 3
   },
   "file_extension": ".py",
   "mimetype": "text/x-python",
   "name": "python",
   "nbconvert_exporter": "python",
   "pygments_lexer": "ipython3",
   "version": "3.6.4"
  }
 },
 "nbformat": 4,
 "nbformat_minor": 2
}
