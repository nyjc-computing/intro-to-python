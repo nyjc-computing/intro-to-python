{
 "cells": [
  {
   "cell_type": "markdown",
   "metadata": {
    "nbgrader": {
     "grade": false,
     "grade_id": "cell-8dd8af14517735ca",
     "locked": true,
     "schema_version": 3,
     "solution": false,
     "task": false
    }
   },
   "source": [
    "# Lesson 11b: Object instances and `id()`\n",
    "\n",
    "What happens when you write code like this:"
   ]
  },
  {
   "cell_type": "code",
   "execution_count": 20,
   "metadata": {},
   "outputs": [
    {
     "name": "stdout",
     "output_type": "stream",
     "text": [
      "CPU times: user 1.48 s, sys: 51.9 ms, total: 1.54 s\n",
      "Wall time: 1.61 s\n"
     ]
    }
   ],
   "source": [
    "from random import randint\n",
    "\n",
    "# Lets create a long list of random elements\n",
    "\n",
    "def large_obj():\n",
    "    obj = [None]*1024**2\n",
    "    for i in range(len(obj1)):\n",
    "        obj[i] = randint(0,1023)\n",
    "    return obj\n",
    "\n",
    "# %time is a special Jupyter notebook feature to measure the execution time of a line of code\n",
    "%time obj1 = large_obj()"
   ]
  },
  {
   "cell_type": "markdown",
   "metadata": {},
   "source": [
    "Naturally, it takes rather long to generate about a million random values in a list; a few seconds is forever in CPU time!\n",
    "\n",
    "Lets make a copy of this large object, `obj1`, and name it `obj2`:"
   ]
  },
  {
   "cell_type": "code",
   "execution_count": 21,
   "metadata": {},
   "outputs": [
    {
     "name": "stdout",
     "output_type": "stream",
     "text": [
      "CPU times: user 12.3 ms, sys: 3.58 ms, total: 15.9 ms\n",
      "Wall time: 19.9 ms\n"
     ]
    }
   ],
   "source": [
    "%time obj2 = obj1"
   ]
  },
  {
   "cell_type": "markdown",
   "metadata": {},
   "source": [
    "That was so much faster. What is going on?\n",
    "\n",
    "Lets see fi they are really identical copies:"
   ]
  },
  {
   "cell_type": "code",
   "execution_count": 11,
   "metadata": {},
   "outputs": [
    {
     "data": {
      "text/plain": [
       "True"
      ]
     },
     "execution_count": 11,
     "metadata": {},
     "output_type": "execute_result"
    }
   ],
   "source": [
    "obj1 == obj2"
   ]
  },
  {
   "cell_type": "markdown",
   "metadata": {},
   "source": [
    "Hmm, it turns out they are. Let’s see if they re really _copies_. If I change `obj1`, will `obj2` change as well?"
   ]
  },
  {
   "cell_type": "code",
   "execution_count": 22,
   "metadata": {},
   "outputs": [
    {
     "name": "stdout",
     "output_type": "stream",
     "text": [
      "Originally, index 10 of obj1 is 922.\n",
      "changing obj1[10] to 'hello'.\n",
      "Now, index 10 of obj1 is hello.\n",
      "Now, index 10 of obj2 is hello.\n"
     ]
    }
   ],
   "source": [
    "print(f'Originally, index 10 of obj1 is {obj1[10]}.')\n",
    "print(f'changing obj1[10] to \\'hello\\'.')\n",
    "obj1[10] = 'hello'\n",
    "print(f'Now, index 10 of obj1 is {obj1[10]}.')\n",
    "print(f'Now, index 10 of obj2 is {obj2[10]}.')"
   ]
  },
  {
   "cell_type": "markdown",
   "metadata": {},
   "source": [
    "Hey! We didn’t change `obj2`, but when `obj1` was modified, `obj2` changed as well. What _is_ going on?\n",
    "\n",
    "When an object is initialised in Python (remember, Python treats everything as an object, even basic data types and data structures), Python allocates some memory to store its data. Each object gets a unique `id`, which you can examine using the `id()` function:\n",
    "\n",
    "(This is why `id` is a reserved keyword.)"
   ]
  },
  {
   "cell_type": "code",
   "execution_count": 24,
   "metadata": {},
   "outputs": [
    {
     "name": "stdout",
     "output_type": "stream",
     "text": [
      "id of obj1 is 140572937677256.\n",
      "id of obj2 is 140572937677256.\n"
     ]
    }
   ],
   "source": [
    "print(f'id of obj1 is {id(obj1)}.')\n",
    "print(f'id of obj2 is {id(obj2)}.')"
   ]
  },
  {
   "cell_type": "markdown",
   "metadata": {},
   "source": [
    "Huh! `obj1` and `obj2` both have the same id! How is that possible if they are supposed to be _copies_ of each other?\n",
    "\n",
    "## Python names vs Python objects\n",
    "\n",
    "Heres something mindblowing: Python treats names and objects separately. (Many other object-oriented programming languages, e.g. C++, do this too.)\n",
    "\n",
    "    obj = [None]*1024**2\n",
    "    \n",
    "Here, Python creates a `[None]` object first. It is a single-element list containing the value `None`. Python then concatenates this object to itself `1024**2` times, creating _another object_. So far, these objects have no names yet. There is no way for us to access them in the REPL shell.\n",
    "\n",
    "When you use the assignment operator, though, Python assigns the final object to the variable. So the concatenated object can now be accessed through the `obj` name.\n",
    "\n",
    "    for i in range(len(obj1)):\n",
    "        obj[i] = randint(0,1023)\n",
    "\n",
    "Here, each iteration of the for loop creates a new object from the output of `randint(0,1023)`. This object is assigned to `obj[i]`. Wait, isn’t `obj` already a name? Yes, it is a name that **points** to a list. `obj[i]` is _another name_ in that list which now points to—you guessed it—the newly created random `int`.\n",
    "\n",
    "So `obj` is actually a list of names, rather than a list of values!\n",
    "\n",
    "    obj2 = obj1\n",
    "    \n",
    "What happens here? When we assign `obj1` to `obj2`, Python checks to see which **object** the `obj1` name points to. It then creates another name, `obj2`, and also assigns it to the same object.\n",
    "\n",
    "So when we modify `obj1` in the line `obj1[10] = 'hello'`, we modified the underlying object, which also affects `obj2`.\n",
    "\n",
    "Understanding this concept will help you understand some of the more obscure bugs you come across in your Python code. The name is not the object!"
   ]
  },
  {
   "cell_type": "markdown",
   "metadata": {},
   "source": [
    "## Python garbage collecting\n",
    "\n",
    "Hold on … wouldn’t that leave a whole trail of unnamed objects as we write our code? That would be such a waste of memory!\n",
    "\n",
    "Yup, in the olden days of programming (the days of C programming), programmers had to allocate and deallocate memory themselves. If they did not manage memory properly, their code would accumulate more and more objects until it finally runs out of memory, causing a **stack overflow**. (Now you know the origin of your favourite website’s name.)\n",
    "\n",
    "Python (as well as other high-level programming languages) performs **garbage collection** on your behalf. It will check for objects that are no longer referenced (i.e. objects that are no longer in use and not referenced by anything). The memory used by these objects is then deallocated.\n",
    "\n",
    "You can read about Python’s garbage collection implementation [in more detail here](https://stackify.com/python-garbage-collection/)."
   ]
  },
  {
   "cell_type": "markdown",
   "metadata": {},
   "source": [
    "## Making true copies in Python\n",
    "\n",
    "Okay, so if `obj2 = obj1` does not actually make a _true_ copy of obj1, how do we make a copy of obj1?\n",
    "\n",
    "    obj2 = []\n",
    "    for el in obj1:\n",
    "        obj2.append(el)\n",
    "        \n",
    "Nah, we don’t actually have to resort to that. Python has a [`copy` library](https://docs.python.org/3.6/library/copy.html) for doing this.\n",
    "\n",
    "### Shallow copy"
   ]
  },
  {
   "cell_type": "code",
   "execution_count": 2,
   "metadata": {
    "scrolled": true
   },
   "outputs": [
    {
     "name": "stdout",
     "output_type": "stream",
     "text": [
      "Note that abc and abd are different objects. They have different ids.\n",
      "id of abc is 139672340047368\n",
      "id of abd is 139672340205896\n",
      "Result of abc == abd: True\n",
      "Result of abc is abd: False\n",
      "\n",
      "abc is a separate copy of abd. If we reassign an element of abd, it will not affect abc.\n",
      "abc: [[1, 2, 3], [4, 5, 6], [7, 8, 9]]\n",
      "abd: [[1, 2, 3], [4, 5, 6], [10, 11, 12]]\n",
      "But if we modify the first element of abc directly without reassigning, abd will get affected as well:\n",
      "abc is [[1, 2, 3, 123], [4, 5, 6], [7, 8, 9]]\n",
      "abd is [[1, 2, 3, 123], [4, 5, 6], [10, 11, 12]]\n",
      "\n",
      "A shallow copy only copies the outermost element, but keeps the inner references the same.\n"
     ]
    }
   ],
   "source": [
    "import copy\n",
    "\n",
    "a = [1,2,3]\n",
    "b = [4,5,6]\n",
    "c = [7,8,9]\n",
    "d = [10,11,12]\n",
    "abc = [a,b,c]\n",
    "abd = copy.copy(abc) # This creates a shallow copy of abc\n",
    "\n",
    "print('Note that abc and abd are different objects. \\\n",
    "They have different ids.')\n",
    "print(f'id of abc is {id(abc)}')\n",
    "print(f'id of abd is {id(abd)}')\n",
    "\n",
    "print('Result of abc == abd: ',end='')\n",
    "print(f'{abc == abd}')\n",
    "print('Result of abc is abd: ',end='')\n",
    "print(f'{abc is abd}')\n",
    "print('')\n",
    "print('abc is a separate copy of abd. If we reassign an \\\n",
    "element of abd, it will not affect abc.')\n",
    "abd[2] = d\n",
    "print(f'abc: {abc}')\n",
    "print(f'abd: {abd}')\n",
    "print('But if we modify the first element of abc directly \\\n",
    "without reassigning, abd will get affected as well:')\n",
    "abc[0].append(123)\n",
    "print(f'abc is {abc}')\n",
    "print(f'abd is {abd}')\n",
    "print('')\n",
    "print('A shallow copy only copies the outermost element, \\\n",
    "but keeps the inner references the same.')"
   ]
  },
  {
   "cell_type": "markdown",
   "metadata": {},
   "source": [
    "### Deep copy"
   ]
  },
  {
   "cell_type": "code",
   "execution_count": 3,
   "metadata": {},
   "outputs": [
    {
     "name": "stdout",
     "output_type": "stream",
     "text": [
      "This time, if we modify the first element of abc directly, abd will NOT get affected:\n",
      "abc: [[1, 2, 3, 123], [4, 5, 6], [7, 8, 9]]\n",
      "abd: [[1, 2, 3], [4, 5, 6], [7, 8, 9]]\n",
      "\n",
      "A deep copy will make a completely new copy of every object referenced within the outer object.\n"
     ]
    }
   ],
   "source": [
    "import copy\n",
    "\n",
    "a = [1,2,3]\n",
    "b = [4,5,6]\n",
    "c = [7,8,9]\n",
    "d = [10,11,12]\n",
    "abc = [a,b,c]\n",
    "abd = copy.deepcopy(abc) # This creates a deep copy of abc\n",
    "\n",
    "print('This time, if we modify the first element of abc directly, \\\n",
    "abd will NOT get affected:')\n",
    "abc[0].append(123)\n",
    "print(f'abc: {abc}')\n",
    "print(f'abd: {abd}')\n",
    "print('')\n",
    "print('A deep copy will make a completely new copy of every object referenced \\\n",
    "within the outer object.')"
   ]
  },
  {
   "cell_type": "code",
   "execution_count": null,
   "metadata": {},
   "outputs": [],
   "source": []
  },
  {
   "cell_type": "markdown",
   "metadata": {},
   "source": [
    "## Equality and identity (`==` vs `is`)\n",
    "\n",
    "The equality operator (`==`) checks if the **result of evaluation** for two expressions/objects is the same.\n",
    "\n",
    "The `is` keyword checks if two names **point to the same object**. You can verify this by using the `id()` helper function.\n",
    "\n",
    "The two features serve different purposes.\n",
    "\n",
    "This is why you never write `str1 is str2`, if they happen to be pointing to two different copies of identical strings, you would have a really bad time debugging it!\n",
    "\n",
    "On the other hand, we write `value is None` or `value is not None` instead of `value == None` / `value != None`, because `None` is supposed to repreent no value. We can use `is` keyword because `None` is known as a **singleton object**. That means there can only be one copy of it at any time. `copy` would not work on it, and you can be assured that if two objects point to `None`, they must have the same id.\n",
    "\n",
    "Let’s verify this:"
   ]
  },
  {
   "cell_type": "code",
   "execution_count": 9,
   "metadata": {},
   "outputs": [
    {
     "name": "stdout",
     "output_type": "stream",
     "text": [
      "None has id 94746301573776\n",
      "none2 is a copy of None and has id 94746301573776\n",
      "none2 is None: True\n"
     ]
    }
   ],
   "source": [
    "import copy\n",
    "\n",
    "print(f'None has id {id(None)}')\n",
    "none2 = copy.copy(None)\n",
    "print(f'none2 is a copy of None and has id {id(None)}')\n",
    "print(f'none2 is None: {none2 is None}')"
   ]
  },
  {
   "cell_type": "markdown",
   "metadata": {},
   "source": [
    "This does not work for other types, e.g. strings:"
   ]
  },
  {
   "cell_type": "code",
   "execution_count": 8,
   "metadata": {},
   "outputs": [
    {
     "name": "stdout",
     "output_type": "stream",
     "text": [
      "'a' has id 139672432489168\n",
      "a2 is a copy of 'a' and has id 139672340929992\n",
      "a2 is 'a': False\n"
     ]
    }
   ],
   "source": [
    "import copy\n",
    "\n",
    "print(f'\\'a\\' has id {id(\"a\")}')\n",
    "a2 = copy.copy(a)\n",
    "print(f'a2 is a copy of \\'a\\' and has id {id(a)}')\n",
    "print(f'a2 is \\'a\\': {a2 is \"a\"}')"
   ]
  },
  {
   "cell_type": "markdown",
   "metadata": {},
   "source": [
    "How might we use this with classes? First, let’s think about what we would _like_ to happen. After all, as programmers and engineers, when designing a piece of software, we desire that it behaves a certain way, and then we write code that makes it happen. We don’t do it the other way around and say “too bad, the software is like this because the code behaves that way.”\n",
    "\n",
    "## `Line`, revisited"
   ]
  },
  {
   "cell_type": "code",
   "execution_count": 65,
   "metadata": {},
   "outputs": [],
   "source": [
    "class Line:\n",
    "    '''\n",
    "    A class representing a line with x- and y-dimensions.\n",
    "    \n",
    "    Methods:\n",
    "    - length()\n",
    "    - add(another_line)\n",
    "      Returns a Line object representing the vector sum of\n",
    "      the current Line and another_line.\n",
    "    '''\n",
    "    def __init__(self,x,y):\n",
    "        self.x = x\n",
    "        self.y = y\n",
    " \n",
    "    def __repr__(self):\n",
    "        return f'Line({self.x},{self.y})'\n",
    "        \n",
    "    # It is good practice to define all your dunder methods first,\n",
    "    # starting with __init__(), before defining other methods after them.\n",
    "    def length(self):\n",
    "        return math.sqrt(self.x**2 + self.y**2)\n",
    "\n",
    "    def add(self,line):\n",
    "        new_x = self.x + line.x\n",
    "        new_y = self.y + line.y\n",
    "        return Line(new_x,new_y)"
   ]
  },
  {
   "cell_type": "markdown",
   "metadata": {},
   "source": [
    "Ideally, this should work:\n",
    "\n",
    "    >>> line0 = Line(0,0) # a line\n",
    "    >>> line1 = Line(0,0) # another line\n",
    "    >>> line0 is line1\n",
    "    False\n",
    "    >>> line0 == line1\n",
    "    True\n",
    "    \n",
    "Let’s try it:"
   ]
  },
  {
   "cell_type": "code",
   "execution_count": 67,
   "metadata": {},
   "outputs": [
    {
     "name": "stdout",
     "output_type": "stream",
     "text": [
      "False\n",
      "False\n"
     ]
    }
   ],
   "source": [
    "line0 = Line(0,0)\n",
    "line1 = Line(1,1)\n",
    "print(f'{line0 is line1}')\n",
    "print(f'{line0 == line1}')"
   ]
  },
  {
   "cell_type": "markdown",
   "metadata": {},
   "source": [
    "Odd ... that didn’t work. Why not?\n",
    "\n",
    "## The `__eq__()` dunder method\n",
    "\n",
    "When we write `line0 == line1`, Python checks to see if the `__eq__()` dunder method is implemented for `line0`. If the `line0` object does not have an `__eq__()` method, Python returns `False`. This is what happened."
   ]
  },
  {
   "cell_type": "code",
   "execution_count": 68,
   "metadata": {},
   "outputs": [
    {
     "name": "stdout",
     "output_type": "stream",
     "text": [
      "NotImplemented\n"
     ]
    }
   ],
   "source": [
    "print(f'{line0.__eq__(line1)}')"
   ]
  },
  {
   "cell_type": "markdown",
   "metadata": {},
   "source": [
    "If `line0` does have an `__eq__()` method, Python will evaluate the expression `line0.__eq__(line1)` instead.\n",
    "\n",
    "Let’s implement `__eq__()` for `Line`.\n",
    "\n",
    "## Task 1: Define `__eq__()` dunder method for `Line`"
   ]
  },
  {
   "cell_type": "code",
   "execution_count": 71,
   "metadata": {},
   "outputs": [],
   "source": [
    "class Line:\n",
    "    '''\n",
    "    A class representing a line with x- and y-dimensions.\n",
    "    \n",
    "    Methods:\n",
    "    - length()\n",
    "    - add(another_line)\n",
    "      Returns a Line object representing the vector sum of\n",
    "      the current Line and another_line.\n",
    "    '''\n",
    "    def __init__(self,x,y):\n",
    "        self.x = x\n",
    "        self.y = y\n",
    " \n",
    "    def __repr__(self):\n",
    "        return f'Line({self.x},{self.y})'\n",
    "    \n",
    "    def __eq__(self, other):\n",
    "        # Implement code here to return True of another_line has\n",
    "        # the same x and y coordinate has this object, or return\n",
    "        # False if the x or y coordinate is not the same.\n",
    "        ### BEGIN SOLUTION\n",
    "        return (self.x == other.x) and (self.y == other.y)\n",
    "        ### END SOLUTION\n",
    "        \n",
    "    # It is good practice to define all your dunder methods first,\n",
    "    # starting with __init__(), before defining other methods after them.\n",
    "    def length(self):\n",
    "        return math.sqrt(self.x**2 + self.y**2)\n",
    "\n",
    "    def add(self, other):\n",
    "        new_x = self.x + other.x\n",
    "        new_y = self.y + other.y\n",
    "        return Line(new_x,new_y)"
   ]
  },
  {
   "cell_type": "code",
   "execution_count": 73,
   "metadata": {},
   "outputs": [
    {
     "name": "stdout",
     "output_type": "stream",
     "text": [
      "True\n",
      "False\n"
     ]
    }
   ],
   "source": [
    "# Use this code cell to test\n",
    "line0 = Line(0,0)\n",
    "line1 = Line(0,0)\n",
    "line2 = Line(0,1)\n",
    "print(f'{line0 == line1}')\n",
    "print(f'{line0 == line2}')"
   ]
  },
  {
   "cell_type": "markdown",
   "metadata": {},
   "source": [
    "## Other comparison dunder methods\n",
    "\n",
    "If `__eq__()` is the dunder method called by the `==` operator, there must be other dunder methods for other comparison operators right? Yes, that’s right! The full list of dunders can be found in the [Python Data Model](https://docs.python.org/3.6/reference/datamodel.html) documentation, under [Special method names](https://docs.python.org/3.6/reference/datamodel.html#special-method-names).\n",
    "\n",
    "| This dunder method …  |  Is called by this operator  |\n",
    "| --------------------- | ---------------------------- |\n",
    "|  `__lt__(self,other)` | `<` (less than)              |\n",
    "|                                                      |\n",
    "| `__le__(self, other)` | `<=` (less than or equal)    |\n",
    "|                                                      |\n",
    "| `__ne__(self, other)` | `!=` (not equal)             |\n",
    "|                                                      |\n",
    "| `__gt__(self, other)` | `>` (greater than)           |\n",
    "|                                                      |\n",
    "| `__ge__(self, other)` | `>=` (greater than or equal) |"
   ]
  },
  {
   "cell_type": "markdown",
   "metadata": {},
   "source": [
    "## Why would we need this?\n",
    "\n",
    "The Python `datetime` library uses custom implementations of the comparison operators to enable you to compare different times (code examples from [tutorialspoint](https://www.tutorialspoint.com/comparing-dates-in-python)):"
   ]
  },
  {
   "attachments": {
    "datetime_compare.png": {
     "image/png": "[encoded data removed]"
    }
   },
   "cell_type": "markdown",
   "metadata": {},
   "source": [
    "![datetime_compare.png](attachment:datetime_compare.png)"
   ]
  },
  {
   "cell_type": "markdown",
   "metadata": {},
   "source": [
    "You may one day find yourself needing to implement a custom object type for a measurement or quantity. You could come up with your own unintuitive methods to compare two different objects, or you could define these dunder methods to enable them to be compared with the comparison operators instead. It’s your choice."
   ]
  },
  {
   "cell_type": "markdown",
   "metadata": {
    "nbgrader": {
     "grade": false,
     "grade_id": "cell-47d2f518f97c0b3a",
     "locked": true,
     "schema_version": 3,
     "solution": false,
     "task": false
    }
   },
   "source": [
    "# Feedback and suggestions\n",
    "\n",
    "Any feedback or suggestions for this assignment?"
   ]
  },
  {
   "cell_type": "markdown",
   "metadata": {
    "nbgrader": {
     "grade": true,
     "grade_id": "cell-cff3e51d3e9a7c7b",
     "locked": false,
     "points": 0,
     "schema_version": 3,
     "solution": true,
     "task": false
    }
   },
   "source": []
  }
 ],
 "metadata": {
  "celltoolbar": "Create Assignment",
  "kernelspec": {
   "display_name": "Python 3",
   "language": "python",
   "name": "python3"
  },
  "language_info": {
   "codemirror_mode": {
    "name": "ipython",
    "version": 3
   },
   "file_extension": ".py",
   "mimetype": "text/x-python",
   "name": "python",
   "nbconvert_exporter": "python",
   "pygments_lexer": "ipython3",
   "version": "3.6.4"
  }
 },
 "nbformat": 4,
 "nbformat_minor": 2
}
