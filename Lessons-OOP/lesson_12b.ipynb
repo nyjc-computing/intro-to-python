{
 "cells": [
  {
   "cell_type": "markdown",
   "metadata": {},
   "source": [
    "## 1-minute introduction to Jupyter ##\n",
    "\n",
    "A Jupyter notebook consists of cells. Each cell contains either text or code.\n",
    "\n",
    "A text cell will not have any text to the left of the cell. A code cell has `In [ ]:` to the left of the cell.\n",
    "\n",
    "If the cell contains code, you can edit it. Press <kbd>Enter</kbd> to edit the selected cell. While editing the code, press <kbd>Enter</kbd> to create a new line, or <kbd>Shift</kbd>+<kbd>Enter</kbd> to run the code. If you are not editing the code, select a cell and press <kbd>Ctrl</kbd>+<kbd>Enter</kbd> to run the code."
   ]
  },
  {
   "cell_type": "markdown",
   "metadata": {},
   "source": [
    "Before you turn this problem in, make sure everything runs as expected. First, **restart the kernel** (in the menubar, select Kernel$\\rightarrow$Restart) and then **run all cells** (in the menubar, select Cell$\\rightarrow$Run All).\n",
    "\n",
    "Make sure you fill in any place that says `YOUR CODE HERE` or \"YOUR ANSWER HERE\", as well as your name and collaborators below:"
   ]
  },
  {
   "cell_type": "code",
   "execution_count": null,
   "metadata": {},
   "outputs": [],
   "source": [
    "NAME = \"\"\n",
    "COLLABORATORS = \"\""
   ]
  },
  {
   "cell_type": "markdown",
   "metadata": {},
   "source": [
    "---"
   ]
  },
  {
   "cell_type": "markdown",
   "metadata": {
    "deletable": false,
    "editable": false,
    "nbgrader": {
     "cell_type": "markdown",
     "checksum": "b25492a1f6702556f5114c5573e05f85",
     "grade": false,
     "grade_id": "cell-6b13fa3502d6f71c",
     "locked": true,
     "schema_version": 3,
     "solution": false,
     "task": false
    }
   },
   "source": [
    "# Lesson 12b: Module planning and design"
   ]
  },
  {
   "cell_type": "code",
   "execution_count": null,
   "metadata": {},
   "outputs": [],
   "source": [
    "# This code cell loads a PEP8 linter\n",
    "# Linting is the process of flagging programming errors,\n",
    "# bugs, stylistic errors, and other code problems\n",
    "# pycodestyle is a linter that highlights any syntax that\n",
    "# is not PEP8-compliant.\n",
    "\n",
    "%load_ext pycodestyle_magic\n",
    "%pycodestyle_on"
   ]
  },
  {
   "cell_type": "markdown",
   "metadata": {
    "deletable": false,
    "editable": false,
    "nbgrader": {
     "cell_type": "markdown",
     "checksum": "bd26718218f7c833b193544fe9b2e7d4",
     "grade": false,
     "grade_id": "cell-3c08a06c5ec12d22",
     "locked": true,
     "schema_version": 3,
     "solution": false,
     "task": false
    }
   },
   "source": [
    "Now that we have our `Board` and pieces defined, we can start to think through what else we need to have a working game.\n",
    "\n",
    "Before we start to write the code, again, let’s think through what our program needs to do.\n",
    "\n",
    "**Tasks to be done**\n",
    "\n",
    "1. Display the game board\n",
    "2. Ask white player for a move\n",
    "3. Check if it is a valid move\n",
    "   - move must follow movement rules of the piece\n",
    "   - destination must not have a piece of the same colour\n",
    "4. Update board positions\n",
    "5. Repeat steps 1–4 for black player\n",
    "\n",
    "## Task 1: Display the game board\n",
    "\n",
    "Let’s keep it simple. For now, just display each board position as two ASCII characters, with a two-space gap between positions.\n",
    "\n",
    "The chess pieces are represented by two letters that indicate their colour and name.\n",
    "- White pieces are represented as W\n",
    "- Black pieces are represented as B\n",
    "- Chess pieces are represented by the first letter of their name (uppercase)\n",
    "\n",
    "So a white king will be represented as `WK`, a black pawn will be represented as `BP`.\n",
    "\n",
    "### Expected output\n",
    "\n",
    "The entire board will look like this:\n",
    "\n",
    "    BR  BK  BB  BQ  BK  BB  BK  BR\n",
    "\n",
    "    BP  BP  BP  BP  BP  BP  BP  BP\n",
    "\n",
    "\n",
    "\n",
    "\n",
    "\n",
    "\n",
    "\n",
    "\n",
    "\n",
    "    WP  WP  WP  WP  WP  WP  WP  WP\n",
    "\n",
    "    WR  WK  WB  WQ  WK  WB  WK  WR"
   ]
  },
  {
   "cell_type": "code",
   "execution_count": null,
   "metadata": {
    "deletable": false,
    "nbgrader": {
     "cell_type": "code",
     "checksum": "7f6d86886cf7592debe082432e0ade8b",
     "grade": false,
     "grade_id": "cell-d1f3ff0b84d16d9b",
     "locked": false,
     "schema_version": 3,
     "solution": true,
     "task": false
    }
   },
   "outputs": [],
   "source": [
    "from chess import Board, King, Queen, Bishop, Knight, Rook, Pawn\n",
    "\n",
    "\n",
    "# Define a method, display(), to display the contents of the board\n",
    "def display(self):\n",
    "    '''\n",
    "    Displays the contents of the board.\n",
    "    Each piece is represented by two letters.\n",
    "    First letter is the colour (W for white, B for black).\n",
    "    Second letter is the name (Starting letter for each piece).\n",
    "    '''\n",
    "    # Write your code here\n",
    "    \n",
    "\n",
    "\n",
    "# Add this method to `Board`\n",
    "Board.display = display\n",
    "\n",
    "# Instantiate a board and display it\n",
    "b = Board()\n",
    "b.display()"
   ]
  },
  {
   "cell_type": "markdown",
   "metadata": {
    "deletable": false,
    "editable": false,
    "nbgrader": {
     "cell_type": "markdown",
     "checksum": "91e31cec2995ea58ec03d6d1be45caf7",
     "grade": false,
     "grade_id": "cell-91d17b4b1494ca0d",
     "locked": true,
     "schema_version": 3,
     "solution": false,
     "task": false
    }
   },
   "source": [
    "## Task 2: Ask white player for a move\n",
    "\n",
    "The simplest way for white to move is to indicate the starting position and the ending position. From that input, we can tell which piece is at the starting position, and attempt to move it to the ending position.\n",
    "\n",
    "Looking ahead, we will need to reuse this for the black player as well. So this method should allow reuse by letting us choose if it should prompt the white player or black player.\n",
    "\n",
    "If the player gives an invalid input, naturally we should prompt them again to give valid input. It is also considerate to give a useful help message, either informing them of their error, or informing them of the correct value or format needed.\n",
    "\n",
    "### Expected output\n",
    "\n",
    "So that would look like this:\n",
    "\n",
    "    >>> start,end = b.prompt('white')\n",
    "    White player: 01,09\n",
    "    Invalid move. Please enter your move in the following format: __ __, _ represents a digit.\n",
    "    White player: 01 09\n",
    "    Invalid move. Move digits should be < 8.\n",
    "    White player: 01 02\n",
    "    >>> start,end\n",
    "    ((0,1), (0,2))\n",
    "\n",
    "### Validation\n",
    "\n",
    "Naturally, we need to validate this input first. What rules do you think are needed for this input?\n",
    "\n",
    "### Separation of concerns\n",
    "\n",
    "Code is much easier to read, understand, and debug if we write them so that each chunk of code serves one main purpose. You do yourself and others a service if you write your code so that it validates the data first, and only parses the user input when it has been validated.\n",
    "\n",
    "Parsing is the act of resolving a line into different parts. In this case, we are parsing a single line of user input into a start position and end position. This task is made much easier if you can assume that the data is validated (obeys certain assumptions)."
   ]
  },
  {
   "cell_type": "code",
   "execution_count": null,
   "metadata": {
    "deletable": false,
    "nbgrader": {
     "cell_type": "code",
     "checksum": "e9596b345afae33f73357f4ad31cca0f",
     "grade": false,
     "grade_id": "cell-cc44b64839581087",
     "locked": false,
     "schema_version": 3,
     "solution": true,
     "task": false
    }
   },
   "outputs": [],
   "source": [
    "def prompt(self, colour):\n",
    "    # Write code to prompt the user for a move\n",
    "    # Validate the move input\n",
    "    # Return the start and end positions\n",
    "    \n",
    "\n",
    "\n",
    "# Add this method to `Board`\n",
    "Board.prompt = prompt\n",
    "b = Board()\n",
    "start, end = b.prompt('white')\n",
    "start, end"
   ]
  },
  {
   "cell_type": "markdown",
   "metadata": {
    "deletable": false,
    "editable": false,
    "nbgrader": {
     "cell_type": "markdown",
     "checksum": "05c96f100c8441b72ecbbc9e613fec9e",
     "grade": false,
     "grade_id": "cell-0511af000d7bac32",
     "locked": true,
     "schema_version": 3,
     "solution": false,
     "task": false
    }
   },
   "source": [
    "## Task 3: Validate move\n",
    "\n",
    "This task is rather more complex than the other two. Before we write any code, let’s think it through.\n",
    "\n",
    "We need to:\n",
    "\n",
    "1. Identify which piece is at the start position\n",
    "2. Identify the colour and name of the piece\n",
    "3. Check if the move is valid for that piece name (e.g. a rook cannot move diagonally)\n",
    "4. Check if there is a piece of the same colour at the end position\n",
    "\n",
    "(1) and (2) are simple enough. (3) looks complex though. We should dig deeper.\n",
    "\n",
    "How would we validate the move for each piece?\n",
    "\n",
    "It makes sense that the rules for movement should be associated with the piece, not the board. We could write it as a method _belonging to that piece’s class_, rather than belonging to `Board`. We could pass the start and end positions as 2-ple (tuple with 2 elements) arguments to this method, and it will return `True` (for valid move) and `False` (for invalid move):\n",
    "\n",
    "    >>> Pawn.isvalid((0,1),(0,2))\n",
    "    True\n",
    "    \n",
    "We will need to write separate validators for each piece class. You can refer to [this page](http://www.chesscoachonline.com/chess-articles/chess-rules) for basic movement rules (ignore special rules e.g. rook castling)\n",
    "\n",
    "At this point, you may assume that the data has been validated and does not need further validation. If you encounter any instances of invalid input, you should check your code for `prompt()` in **Task 2**.\n",
    "\n",
    "Isn’t separation of concerns so lovely?"
   ]
  },
  {
   "cell_type": "code",
   "execution_count": null,
   "metadata": {},
   "outputs": [],
   "source": [
    "# Let's try writing some code for two pieces: Pawn and King\n",
    "\n",
    "\n",
    "# move validation for Pawn\n",
    "def isvalid(self, start, end):\n",
    "    x_move = end[0] - start[0]\n",
    "    y_move = end[1] - start[1]\n",
    "    dist = abs(x_move) + abs(y_move)\n",
    "    if x_move == 0:\n",
    "        if (self.colour == 'black' and y_move == -1) or \\\n",
    "           (self.colour == 'white' and y_move == 1):\n",
    "            return True\n",
    "    else:\n",
    "        return False\n",
    "\n",
    "\n",
    "# move validation for King\n",
    "def isvalid(self, start, end):\n",
    "    x_move = end[0] - start[0]\n",
    "    y_move = end[1] - start[1]\n",
    "    dist = abs(x_move) + abs(y_move)\n",
    "    if dist == 1:\n",
    "        return True\n",
    "    else:\n",
    "        return False"
   ]
  },
  {
   "cell_type": "markdown",
   "metadata": {
    "deletable": false,
    "editable": false,
    "nbgrader": {
     "cell_type": "markdown",
     "checksum": "d6d9bcaef52426ddf8aeeb3fab0ef065",
     "grade": false,
     "grade_id": "cell-f625d29e5a45dab9",
     "locked": true,
     "schema_version": 3,
     "solution": false,
     "task": false
    }
   },
   "source": [
    "I can foresee that this chunk of code is going to be needed a lot for the rest of the classes:\n",
    "\n",
    "    x_move = end[0] - start[0]\n",
    "    y_move = end[1] - start[1]\n",
    "    dist = abs(x_move) + abs(y_move)\n",
    "\n",
    "So much repetition! Let's make a helper function:"
   ]
  },
  {
   "cell_type": "code",
   "execution_count": null,
   "metadata": {},
   "outputs": [],
   "source": [
    "def vector(start, end):\n",
    "    x_move = end[0] - start[0]\n",
    "    y_move = end[1] - start[1]\n",
    "    dist = abs(x_move) + abs(y_move)\n",
    "    return x_move, y_move, dist"
   ]
  },
  {
   "cell_type": "markdown",
   "metadata": {
    "deletable": false,
    "editable": false,
    "nbgrader": {
     "cell_type": "markdown",
     "checksum": "acf0a0b920e990c14493fb189ee67db7",
     "grade": false,
     "grade_id": "cell-c1e2c036261a8706",
     "locked": true,
     "schema_version": 3,
     "solution": false,
     "task": false
    }
   },
   "source": [
    "Now we can use `vector()` to help us with the move validation:"
   ]
  },
  {
   "cell_type": "code",
   "execution_count": null,
   "metadata": {},
   "outputs": [],
   "source": [
    "# move validation for Pawn\n",
    "def isvalid(self, start, end):\n",
    "    x_move, y_move, dist = vector(start, end)\n",
    "    if x_move == 0:\n",
    "        if self.colour == 'black' and y_move == -1:\n",
    "            return True\n",
    "        elif self.colour == 'white' and y_move == 1:\n",
    "            return True\n",
    "    return False\n",
    "    # The pawn has a special 'capturing' move.\n",
    "    # We will handle this separately, later on.\n",
    "\n",
    "\n",
    "# Add this method to `Pawn`\n",
    "Pawn.isvalid = isvalid\n",
    "\n",
    "\n",
    "# move validation for King\n",
    "def isvalid(self, start, end):\n",
    "    x_move, y_move, dist = vector(start, end)\n",
    "    if dist == 1:\n",
    "        return True\n",
    "    else:\n",
    "        return False\n",
    "\n",
    "\n",
    "# Add this method to `King`\n",
    "King.isvalid = isvalid"
   ]
  },
  {
   "cell_type": "code",
   "execution_count": null,
   "metadata": {
    "deletable": false,
    "editable": false,
    "nbgrader": {
     "cell_type": "code",
     "checksum": "0a03e0b636d931b9e05eae4516e23bc7",
     "grade": true,
     "grade_id": "cell-dd809280cd2ee771",
     "locked": true,
     "points": 0,
     "schema_version": 3,
     "solution": false,
     "task": false
    }
   },
   "outputs": [],
   "source": [
    "# Autograder tests for King move validation\n",
    "\n",
    "testdata = {King('white'): [(4, 0), (4, 1), True],\n",
    "            King('white'): [(4, 0), (4, 2), False],\n",
    "            }\n",
    "for piece, (start, end, ans) in testdata.items():\n",
    "    result = piece.isvalid(start, end)\n",
    "    assert result == ans, \\\n",
    "        f'{piece}({start},{end} should return {ans}, got {result} instead)'"
   ]
  },
  {
   "cell_type": "markdown",
   "metadata": {
    "deletable": false,
    "editable": false,
    "nbgrader": {
     "cell_type": "markdown",
     "checksum": "04cf12eb59f612711af7ec0124a56936",
     "grade": false,
     "grade_id": "cell-bb80bccd4e07fe92",
     "locked": true,
     "schema_version": 3,
     "solution": false,
     "task": false
    }
   },
   "source": [
    "Your turn.\n",
    "\n",
    "### Part 1\n",
    "\n",
    "Define the move validation methods for the remaining pieces:"
   ]
  },
  {
   "cell_type": "code",
   "execution_count": null,
   "metadata": {
    "deletable": false,
    "nbgrader": {
     "cell_type": "code",
     "checksum": "b288881147f53bd04264b969c1a26666",
     "grade": false,
     "grade_id": "cell-f2098596b2c81886",
     "locked": false,
     "schema_version": 3,
     "solution": true,
     "task": false
    }
   },
   "outputs": [],
   "source": [
    "# move validation for Queen\n",
    "def isvalid(self, start, end):\n",
    "    x_move, y_move, dist = vector(start, end)\n",
    "    # Write your move validation here\n",
    "    \n",
    "\n",
    "\n",
    "# Add this method to `Queen`\n",
    "Queen.isvalid = isvalid"
   ]
  },
  {
   "cell_type": "code",
   "execution_count": null,
   "metadata": {
    "deletable": false,
    "editable": false,
    "nbgrader": {
     "cell_type": "code",
     "checksum": "fb08ba5b9a28703b61a98484202ea4ee",
     "grade": true,
     "grade_id": "cell-6e9f4225a7915776",
     "locked": true,
     "points": 1,
     "schema_version": 3,
     "solution": false,
     "task": false
    }
   },
   "outputs": [],
   "source": [
    "# Autograder tests for Queen move validation\n",
    "\n",
    "testdata = {Queen('white'): [(3, 0), (5, 2), True],\n",
    "            Queen('white'): [(3, 0), (5, 3), False],\n",
    "            }\n",
    "for piece, (start, end, ans) in testdata.items():\n",
    "    result = piece.isvalid(start, end)\n",
    "    assert result == ans, \\\n",
    "        f'{piece}({start},{end} should return {ans}, got {result} instead)'"
   ]
  },
  {
   "cell_type": "code",
   "execution_count": null,
   "metadata": {
    "deletable": false,
    "nbgrader": {
     "cell_type": "code",
     "checksum": "a155eafc2c38d400b0a5c0bf56f0bca4",
     "grade": false,
     "grade_id": "cell-8d43454618f8d53f",
     "locked": false,
     "schema_version": 3,
     "solution": true,
     "task": false
    }
   },
   "outputs": [],
   "source": [
    "# move validation for Bishop\n",
    "def isvalid(self, start, end):\n",
    "    x_move, y_move, dist = vector(start, end)\n",
    "    # Write your move validation here\n",
    "    \n",
    "\n",
    "\n",
    "# Add this method to `Bishop`\n",
    "Bishop.isvalid = isvalid"
   ]
  },
  {
   "cell_type": "code",
   "execution_count": null,
   "metadata": {
    "deletable": false,
    "editable": false,
    "nbgrader": {
     "cell_type": "code",
     "checksum": "1d59bf83bfb8f7fd62cb8cf2fe32b0d3",
     "grade": true,
     "grade_id": "cell-e8541847f90168bf",
     "locked": true,
     "points": 1,
     "schema_version": 3,
     "solution": false,
     "task": false
    }
   },
   "outputs": [],
   "source": [
    "# Autograder tests for Bishop move validation\n",
    "\n",
    "testdata = {Bishop('white'): [(2, 0), (0, 2), True],\n",
    "            Bishop('white'): [(2, 0), (1, 2), False],\n",
    "            }\n",
    "for piece, (start, end, ans) in testdata.items():\n",
    "    result = piece.isvalid(start, end)\n",
    "    assert result == ans, \\\n",
    "        f'{piece}({start},{end} should return {ans}, got {result} instead)'"
   ]
  },
  {
   "cell_type": "code",
   "execution_count": null,
   "metadata": {
    "deletable": false,
    "nbgrader": {
     "cell_type": "code",
     "checksum": "f8390aebba5378ad8abf9c59d2167198",
     "grade": false,
     "grade_id": "cell-cdcf53f36a10928c",
     "locked": false,
     "schema_version": 3,
     "solution": true,
     "task": false
    }
   },
   "outputs": [],
   "source": [
    "# move validation for Knight\n",
    "def isvalid(self, start, end):\n",
    "    x_move, y_move, dist = vector(start, end)\n",
    "    # Write your move validation here\n",
    "    \n",
    "\n",
    "\n",
    "# Add this method to `Knight`\n",
    "Knight.isvalid = isvalid"
   ]
  },
  {
   "cell_type": "code",
   "execution_count": null,
   "metadata": {
    "deletable": false,
    "editable": false,
    "nbgrader": {
     "cell_type": "code",
     "checksum": "900fa858b8d1dfa98eb2ab8192019375",
     "grade": true,
     "grade_id": "cell-2f432ee5d6a6d1dc",
     "locked": true,
     "points": 1,
     "schema_version": 3,
     "solution": false,
     "task": false
    }
   },
   "outputs": [],
   "source": [
    "# Autograder tests for Knight move validation\n",
    "\n",
    "testdata = {Knight('white'): [(1, 0), (2, 2), True],\n",
    "            Knight('white'): [(1, 0), (1, 2), False],\n",
    "            }\n",
    "for piece, (start, end, ans) in testdata.items():\n",
    "    result = piece.isvalid(start, end)\n",
    "    assert result == ans, \\\n",
    "        f'{piece}({start},{end} should return {ans}, got {result} instead)'"
   ]
  },
  {
   "cell_type": "code",
   "execution_count": null,
   "metadata": {
    "deletable": false,
    "nbgrader": {
     "cell_type": "code",
     "checksum": "5400e2ccc9ce1aeb22ec7351044f4992",
     "grade": false,
     "grade_id": "cell-2ce76a6cee7080ce",
     "locked": false,
     "schema_version": 3,
     "solution": true,
     "task": false
    }
   },
   "outputs": [],
   "source": [
    "# move validation for Rook\n",
    "def isvalid(self, start, end):\n",
    "    x_move, y_move, dist = vector(start, end)\n",
    "    # Write your move validation here\n",
    "    \n",
    "\n",
    "\n",
    "# Add this method to `Rook`\n",
    "Rook.isvalid = isvalid"
   ]
  },
  {
   "cell_type": "code",
   "execution_count": null,
   "metadata": {
    "deletable": false,
    "editable": false,
    "nbgrader": {
     "cell_type": "code",
     "checksum": "c9951b733277c890c4fdddde05a247ae",
     "grade": true,
     "grade_id": "cell-2d6cc78efb1f40fb",
     "locked": true,
     "points": 1,
     "schema_version": 3,
     "solution": false,
     "task": false
    }
   },
   "outputs": [],
   "source": [
    "# Autograder tests for Rook move validation\n",
    "\n",
    "testdata = {Rook('white'): [(0, 0), (0, 1), True],\n",
    "            Rook('white'): [(0, 0), (1, 1), False],\n",
    "            }\n",
    "for piece, (start, end, ans) in testdata.items():\n",
    "    result = piece.isvalid(start, end)\n",
    "    assert result == ans, \\\n",
    "        f'{piece}({start},{end} should return {ans}, got {result} instead)'"
   ]
  },
  {
   "cell_type": "markdown",
   "metadata": {
    "deletable": false,
    "editable": false,
    "nbgrader": {
     "cell_type": "markdown",
     "checksum": "09876a9c78d6e8ff5d6a0bd3f21b5de0",
     "grade": false,
     "grade_id": "cell-6c2dec96ae662d22",
     "locked": true,
     "schema_version": 3,
     "solution": false,
     "task": false
    }
   },
   "source": [
    "### Part 2\n",
    "\n",
    "We have not done step 4 yet: Check if there is a piece of the same colour at the end position.\n",
    "\n",
    "Thi is something that the piece objects will not be able to do, since they don’t have access to the board information. So we will need to define this method on `Board` instead.\n",
    "\n",
    "A quick refresher on the `field` attribute that `Board` has:"
   ]
  },
  {
   "cell_type": "code",
   "execution_count": null,
   "metadata": {},
   "outputs": [],
   "source": [
    "b = Board()\n",
    "b.field"
   ]
  },
  {
   "cell_type": "markdown",
   "metadata": {
    "deletable": false,
    "editable": false,
    "nbgrader": {
     "cell_type": "markdown",
     "checksum": "4971c7e503f086c05c1e882bcb720f47",
     "grade": false,
     "grade_id": "cell-c4e69ef11b627c6e",
     "locked": true,
     "schema_version": 3,
     "solution": false,
     "task": false
    }
   },
   "source": [
    "Let’s start by defining a method, `piece_at()` to get information about the piece at a position (`x`,`y`):"
   ]
  },
  {
   "cell_type": "code",
   "execution_count": null,
   "metadata": {},
   "outputs": [],
   "source": [
    "def piece_at(self, coord):\n",
    "    '''\n",
    "    Retrieves the piece at `coord`.\n",
    "    `coord` is assumed to be a 2-ple of ints representing\n",
    "    (col,row).\n",
    "\n",
    "    Return:\n",
    "    dict\n",
    "    - 'piece': {King, Queen, Bishop, Knight, Rook, Pawn}\n",
    "    - position: (col,row)\n",
    "    or None if no piece found\n",
    "    '''\n",
    "    for each in self.field:\n",
    "        if each['position'] == coord:\n",
    "            return each\n",
    "    return None\n",
    "\n",
    "\n",
    "# Add this method to `Board`\n",
    "Board.piece_at = piece_at"
   ]
  },
  {
   "cell_type": "markdown",
   "metadata": {
    "deletable": false,
    "editable": false,
    "nbgrader": {
     "cell_type": "markdown",
     "checksum": "e5b96aa4ce158f39ba69597aa2f61a52",
     "grade": false,
     "grade_id": "cell-f6370af4285c5565",
     "locked": true,
     "schema_version": 3,
     "solution": false,
     "task": false
    }
   },
   "source": [
    "Your turn.\n",
    "\n",
    "Define the move validation method for `Board`, using the method `.piece_at()` to help you retrieve the pieces from the board:"
   ]
  },
  {
   "cell_type": "code",
   "execution_count": null,
   "metadata": {
    "deletable": false,
    "nbgrader": {
     "cell_type": "code",
     "checksum": "2f4f34f6722ebb7dcbffc9b5b57c0272",
     "grade": false,
     "grade_id": "cell-8891078617ad1eda",
     "locked": false,
     "schema_version": 3,
     "solution": true,
     "task": false
    }
   },
   "outputs": [],
   "source": [
    "def isvalid(self, start, end):\n",
    "    '''\n",
    "    Determines if the board move is valid by:\n",
    "    1. Checking if the piece at `start` and the piece at `end`\n",
    "       are the same colour\n",
    "\n",
    "    Returns:\n",
    "    True if valid\n",
    "    False if invalid\n",
    "    '''\n",
    "    x_move, y_move, dist = vector(start, end)\n",
    "    start_piece = self.piece_at(start)['piece']\n",
    "    # Write your code here\n",
    "    \n",
    "\n",
    "\n",
    "# Add this method to `Board`\n",
    "Board.isvalid = isvalid"
   ]
  },
  {
   "cell_type": "markdown",
   "metadata": {
    "deletable": false,
    "editable": false,
    "nbgrader": {
     "cell_type": "markdown",
     "checksum": "8abec309f1fe42e3aa5b993ebfe1c670",
     "grade": false,
     "grade_id": "cell-d714327f4e62eb01",
     "locked": true,
     "schema_version": 3,
     "solution": false,
     "task": false
    }
   },
   "source": [
    "## Task 4: Update board positions\n",
    "\n",
    "Once we have confirmed that the move is valid, we can move the piece and update the result. This involves a few steps:\n",
    "\n",
    "1. Remove any opponent piece that is at that position\n",
    "2. Update the position of the piece\n",
    "3. Print the result of the move\n",
    "   - 'white king 30 -> 31'\n",
    "   - 'black queen 37 -> 31 captures white pawn'\n",
    "   \n",
    "The piece positions are stored in `Board`, and the pieces have no info about their current position, so it makes sense to define this method under `Board` (after all, in real chess, the pieces are moved; they do not move themselves!).\n",
    "\n",
    "A quick refresher on the attributes and methods of a chess piece:"
   ]
  },
  {
   "cell_type": "code",
   "execution_count": null,
   "metadata": {},
   "outputs": [],
   "source": [
    "k = King('white')\n",
    "for attr in dir(k):\n",
    "    if not attr.startswith('__'):\n",
    "        print(attr)"
   ]
  },
  {
   "cell_type": "markdown",
   "metadata": {
    "deletable": false,
    "editable": false,
    "nbgrader": {
     "cell_type": "markdown",
     "checksum": "9db542110760cd3c42b43f7217b596a7",
     "grade": false,
     "grade_id": "cell-b8cb36cdc5c2444b",
     "locked": true,
     "schema_version": 3,
     "solution": false,
     "task": false
    }
   },
   "source": [
    "Define a method to move a piece from `start` position to `end` position.\n",
    "\n",
    "- You may assume that `start` and `end` are 2-ples containing a pair of `int`s. The first `int` is the column index, the second `int` is the row index.\n",
    "- You may assume the move has been validated.\n",
    "\n",
    "### Part 1\n",
    "\n",
    "Define an `index_at()` method that:\n",
    "\n",
    "1. Takes in a `list` of 2-ple positions,\n",
    "2. Returns a `list` of `int`s representing the `self.field` indexes of the pieces at those positions.\n",
    "   - return `None` if there is no piece at that position.\n",
    "\n",
    "**Hint 1:** The code to search for the piece at the `start` position is very similar to `piece_at()` method, so you can modify your code from that."
   ]
  },
  {
   "cell_type": "code",
   "execution_count": null,
   "metadata": {
    "deletable": false,
    "nbgrader": {
     "cell_type": "code",
     "checksum": "5aeb646f29498951621a917764607ab8",
     "grade": false,
     "grade_id": "cell-cd97e36362d7c709",
     "locked": false,
     "schema_version": 3,
     "solution": true,
     "task": false
    }
   },
   "outputs": [],
   "source": [
    "def index_at(self, pos_list):\n",
    "    '''\n",
    "    Get the indexes of board pieces at the positions\n",
    "    given in `pos_list`.\n",
    "    Each position is a 2-ple represent col,row.\n",
    "\n",
    "    Return:\n",
    "    tuple of `int` corresponding to piece index,\n",
    "    None if no piece at that position\n",
    "    '''\n",
    "    # Write your code here\n",
    "    \n",
    "\n",
    "\n",
    "# Add this method to `Board`\n",
    "Board.index_at = index_at"
   ]
  },
  {
   "cell_type": "code",
   "execution_count": null,
   "metadata": {
    "deletable": false,
    "editable": false,
    "nbgrader": {
     "cell_type": "code",
     "checksum": "96cece2983045fd3a4e6a46735231f59",
     "grade": true,
     "grade_id": "cell-31b55a28dc10b06e",
     "locked": true,
     "points": 1,
     "schema_version": 3,
     "solution": false,
     "task": false
    }
   },
   "outputs": [],
   "source": [
    "# TEST: Check correct output for `index_at()`\n",
    "test_b = Board()\n",
    "\n",
    "# Get all the piece positions\n",
    "test_pos_list = [test_b.field[i]['position'] for i in range(len(test_b.field))]\n",
    "# Return all piece indexes\n",
    "result_index_list = test_b.index_at(test_pos_list)\n",
    "\n",
    "# Test that position returned by board matches returned list\n",
    "for pos_index, piece_index in enumerate(result_index_list):\n",
    "    piece = test_b.field[piece_index]['piece']\n",
    "    position = test_b.field[piece_index]['position']\n",
    "    result = test_pos_list[pos_index]\n",
    "    assert position == result, \\\n",
    "        f'Piece index {piece_index} ({str(piece)}) ' \\\n",
    "        f'is at {position}, got {result} instead.'\n",
    "# Printed if no AssertionError raised\n",
    "print('All OK')"
   ]
  },
  {
   "cell_type": "markdown",
   "metadata": {
    "deletable": false,
    "editable": false,
    "nbgrader": {
     "cell_type": "markdown",
     "checksum": "f9989a21bb1779171430bb8999cef057",
     "grade": false,
     "grade_id": "cell-149ed29cda27fc71",
     "locked": true,
     "schema_version": 3,
     "solution": false,
     "task": false
    }
   },
   "source": [
    "### Part 2\n",
    "\n",
    "Update the code in the `move_piece()` method to\n",
    "\n",
    "1. Remove the `self.field` dict at `end` position index (if any),\n",
    "2. Set the `'position'` key of `self.field` dict at `start` position index to the `end` position.\n"
   ]
  },
  {
   "cell_type": "code",
   "execution_count": null,
   "metadata": {
    "deletable": false,
    "nbgrader": {
     "cell_type": "code",
     "checksum": "feee4f7b575eaea3e48215300e5227c8",
     "grade": false,
     "grade_id": "cell-cb881d5884263ff8",
     "locked": false,
     "schema_version": 3,
     "solution": true,
     "task": false
    }
   },
   "outputs": [],
   "source": [
    "def move_piece(self, start, end):\n",
    "    '''\n",
    "    Move piece from `start` to `end`.\n",
    "\n",
    "    1. Removes any opponent pieces at `end`,\n",
    "    2. Updates the position of `piece` in the board.\n",
    "\n",
    "    Return:\n",
    "    opponent_piece if opponent piece removed\n",
    "    None if no opponent piece removed\n",
    "    '''\n",
    "    # Write your code here\n",
    "    \n",
    "\n",
    "\n",
    "# Add this method to `Board`\n",
    "Board.move_piece = move_piece"
   ]
  },
  {
   "cell_type": "code",
   "execution_count": null,
   "metadata": {
    "deletable": false,
    "editable": false,
    "nbgrader": {
     "cell_type": "code",
     "checksum": "110750d2a9642525e2a0cb4dfe7dc16e",
     "grade": true,
     "grade_id": "cell-0206e37fb2945172",
     "locked": true,
     "points": 1,
     "schema_version": 3,
     "solution": false,
     "task": false
    }
   },
   "outputs": [],
   "source": [
    "# TEST: player_piece successfully moved, return value is None\n",
    "\n",
    "# Move black rook\n",
    "start = (7, 7)\n",
    "end = (7, 4)\n",
    "\n",
    "test_b = Board()\n",
    "piece_index = test_b.index_at([start])[0]\n",
    "opponent_piece = test_b.move_piece(start, end)\n",
    "own_piece = test_b.field[piece_index]['piece']\n",
    "own_piece_pos = test_b.field[piece_index]['position']\n",
    "\n",
    "assert own_piece_pos == end, \\\n",
    "    f'{own_piece} {start} -> {end}, result was {own_piece_pos} instead.'\n",
    "assert opponent_piece is None, \\\n",
    "    'Return value is not None (no opponent piece removed)'\n",
    "# Printed if no AssertionError raised\n",
    "print('All OK')"
   ]
  },
  {
   "cell_type": "code",
   "execution_count": null,
   "metadata": {
    "deletable": false,
    "editable": false,
    "nbgrader": {
     "cell_type": "code",
     "checksum": "d79dd5d681a7b2a7a32eb6f8b874097f",
     "grade": true,
     "grade_id": "cell-f7fb451239025d26",
     "locked": true,
     "points": 1,
     "schema_version": 3,
     "solution": false,
     "task": false
    }
   },
   "outputs": [],
   "source": [
    "# TEST: opponent_piece successfully removed from board,\n",
    "#       returned by move_piece()\n",
    "\n",
    "# Black queen takes white pawn\n",
    "start = (3, 7)\n",
    "end = (3, 1)\n",
    "\n",
    "test_b = Board()\n",
    "piece_index = test_b.index_at([start])[0]\n",
    "opponent_piece = test_b.move_piece(start, end)['piece']\n",
    "own_piece = test_b.field[piece_index]['piece']\n",
    "own_piece_pos = test_b.field[piece_index]['position']\n",
    "\n",
    "assert own_piece_pos == end, \\\n",
    "    f'{own_piece} {start} -> {end}, result was {own_piece_pos} instead.'\n",
    "assert str(opponent_piece) == 'white pawn', \\\n",
    "    f'white pawn not taken (opponent piece was {opponent_piece})'\n",
    "# Printed if no AssertionError raised\n",
    "print('All OK')"
   ]
  },
  {
   "cell_type": "markdown",
   "metadata": {
    "deletable": false,
    "editable": false,
    "nbgrader": {
     "cell_type": "markdown",
     "checksum": "e96e47b06c7f61b55d1091e136203c7f",
     "grade": false,
     "grade_id": "cell-a3cdcea324cea322",
     "locked": true,
     "schema_version": 3,
     "solution": false,
     "task": false
    }
   },
   "source": [
    "## Polymorphism\n",
    "\n",
    "One thing that made this game so easy to write is that all the piece classes use the same method names. Besides the methods they inherited from `BasePiece`, each piece also has an `isvalid()` method. Although the `isvalid()` method for each piece works differently, it takes in the same type of input and returns the same type of output.\n",
    "\n",
    "As long as we can _assume_ that every piece has an `isvalid()` method that will return a `bool`, we dont need to worry about the _details_ of how the piece class is implemented. This feature of being able to use different classes with the same code is known as **polymorphism**.\n",
    "\n",
    "## Endgame\n",
    "\n",
    "We now have the basic classes and methods in place to write the main code of the game. See you in Assignment 12."
   ]
  },
  {
   "cell_type": "markdown",
   "metadata": {
    "deletable": false,
    "editable": false,
    "nbgrader": {
     "cell_type": "markdown",
     "checksum": "ea8844023fcfff5962c46ae3796aa844",
     "grade": false,
     "grade_id": "cell-47d2f518f97c0b3a",
     "locked": true,
     "schema_version": 3,
     "solution": false,
     "task": false
    }
   },
   "source": [
    "# Feedback and suggestions\n",
    "\n",
    "Any feedback or suggestions for this assignment?"
   ]
  },
  {
   "cell_type": "markdown",
   "metadata": {
    "deletable": false,
    "nbgrader": {
     "cell_type": "markdown",
     "checksum": "15d2aed18f5b9e24f087da8775492e9f",
     "grade": true,
     "grade_id": "cell-cff3e51d3e9a7c7b",
     "locked": false,
     "points": 0,
     "schema_version": 3,
     "solution": true,
     "task": false
    }
   },
   "source": [
    "YOUR ANSWER HERE"
   ]
  }
 ],
 "metadata": {
  "kernelspec": {
   "display_name": "Python 3",
   "language": "python",
   "name": "python3"
  },
  "language_info": {
   "codemirror_mode": {
    "name": "ipython",
    "version": 3
   },
   "file_extension": ".py",
   "mimetype": "text/x-python",
   "name": "python",
   "nbconvert_exporter": "python",
   "pygments_lexer": "ipython3",
   "version": "3.6.7"
  }
 },
 "nbformat": 4,
 "nbformat_minor": 2
}
