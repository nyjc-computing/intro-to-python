{
 "cells": [
  {
   "cell_type": "markdown",
   "metadata": {},
   "source": [
    "# Lesson 12b: Module planning and design"
   ]
  },
  {
   "cell_type": "code",
   "execution_count": 11,
   "metadata": {},
   "outputs": [],
   "source": [
    "# This code cell loads a PEP8 linter\n",
    "# Linting is the process of flagging programming errors,\n",
    "# bugs, stylistic errors, and other code problems\n",
    "# pycodestyle is a linter that highlights any syntax that\n",
    "# is not PEP8-compliant.\n",
    "\n",
    "%load_ext pycodestyle_magic\n",
    "%pycodestyle_on"
   ]
  },
  {
   "cell_type": "markdown",
   "metadata": {},
   "source": [
    "Now that we have our `Board` and pieces defined, we can start to think through what else we need to have a working game.\n",
    "\n",
    "Before we start to write the code, again, let’s think through what our program needs to do.\n",
    "\n",
    "**Tasks to be done**\n",
    "\n",
    "1. Display the game board\n",
    "2. Ask white player for a move\n",
    "3. Check if it is a valid move\n",
    "   - move must follow movement rules of the piece\n",
    "   - destination must not have a piece of the same colour\n",
    "4. Update board positions\n",
    "5. Repeat steps 1–4 for black player\n",
    "\n",
    "## Task 1: Display the game board\n",
    "\n",
    "Let’s keep it simple. For now, just display each board position as two characters, with a two-space gap between positions.\n",
    "\n",
    "The chess pieces are represented by two letters that indicate their colour and name.\n",
    "- White pieces are represented as W\n",
    "- Black pieces are represented as B\n",
    "- Chess pieces are represented by the first letter of their name (uppercase)\n",
    "\n",
    "So a white king will be represented as `WK`, a black pawn will be represented as `BP`\n",
    "\n",
    "### Expected output\n",
    "\n",
    "The entire board will look like this:\n",
    "\n",
    "    BR  BK  BB  BQ  BK  BB  BK  BR\n",
    "\n",
    "    BP  BP  BP  BP  BP  BP  BP  BP\n",
    "\n",
    "\n",
    "\n",
    "\n",
    "\n",
    "\n",
    "\n",
    "\n",
    "\n",
    "    WP  WP  WP  WP  WP  WP  WP  WP\n",
    "\n",
    "    WR  WK  WB  WQ  WK  WB  WK  WR"
   ]
  },
  {
   "cell_type": "code",
   "execution_count": 2,
   "metadata": {},
   "outputs": [
    {
     "name": "stdout",
     "output_type": "stream",
     "text": [
      "BR  BK  BB  BQ  BK  BB  BK  BR\n",
      "               \n",
      "BP  BP  BP  BP  BP  BP  BP  BP\n",
      "               \n",
      "                      \n",
      "               \n",
      "                      \n",
      "               \n",
      "                      \n",
      "               \n",
      "                      \n",
      "               \n",
      "WP  WP  WP  WP  WP  WP  WP  WP\n",
      "               \n",
      "WR  WK  WB  WQ  WK  WB  WK  WR\n"
     ]
    }
   ],
   "source": [
    "from chess import Board, King, Queen, Bishop, Knight, Rook, Pawn\n",
    "\n",
    "\n",
    "# Define a method, display(), to display the contents of the board\n",
    "def display(self):\n",
    "    '''\n",
    "    Displays the contents of the board.\n",
    "    Each piece is represented by two letters.\n",
    "    First letter is the colour (W for white, B for black).\n",
    "    Second letter is the name (Starting letter for each piece).\n",
    "    '''\n",
    "    # Write your code here\n",
    "    ### BEGIN SOLUTION\n",
    "    # Generate a list of piece positions for easy checking\n",
    "    position = [None] * len(self.field)\n",
    "    for i in range(len(self.field)):\n",
    "        this = self.field[i]     # this -> dict\n",
    "        position[i] = tuple(this['position'])\n",
    "\n",
    "    for row in range(7, -1, -1):\n",
    "        for col in range(8):\n",
    "            coord = (col, row)\n",
    "            try:                 # to see if there is a chess piece\n",
    "                i = position.index(coord)\n",
    "            except ValueError:   # means no chess piece\n",
    "                print(' ', end='')\n",
    "            else:                # means chess piece found\n",
    "                piece = self.field[i]['piece']\n",
    "                colour_sym = piece.colour[0].upper()\n",
    "                piece_sym = piece.name[0].upper()\n",
    "                print(f'{colour_sym}{piece_sym}', end='')\n",
    "            finally:\n",
    "                if col == 7:     # Put line break at the end\n",
    "                    print('')\n",
    "                else:            # Print two spaces between pieces\n",
    "                    print('  ', end='')\n",
    "        if row != 0:\n",
    "            print(' '*15)\n",
    "    ### END SOLUTION\n",
    "\n",
    "\n",
    "# Add this method to `Board`\n",
    "Board.display = display\n",
    "\n",
    "# Instantiate a board and display it\n",
    "b = Board()\n",
    "b.display()"
   ]
  },
  {
   "cell_type": "markdown",
   "metadata": {},
   "source": [
    "## Task 2: Ask white player for a move\n",
    "\n",
    "The simplest way for white to move is to indicate the starting position and the ending position. From that input, we can tell which piece is at the starting position, and attempt to move it to the ending position.\n",
    "\n",
    "Looking ahead, we will need to reuse this for the black player as well. So this method should allow reuse by letting us choose if it should prompt the white player or black player.\n",
    "\n",
    "If the player gives an invalid input, naturally we should prompt them again to give valid input. It is also considerate to give a useful help message, either informing them of their error, or informing them of the correct value or format needed.\n",
    "\n",
    "### Expected output\n",
    "\n",
    "So that would look like this:\n",
    "\n",
    "    >>> start,end = b.prompt('white')\n",
    "    White player: 01,09\n",
    "    Invalid move. Please enter your move in the following format: __ __, _ represents a digit.\n",
    "    White player: 01 09\n",
    "    Invalid move. Move digits should be < 8.\n",
    "    White player: 01 02\n",
    "    >>> start,end\n",
    "    ((0,1), (0,2))\n",
    "\n",
    "### Validation\n",
    "\n",
    "Naturally, we need to validate this input first. What rules do you think are needed for this input?\n",
    "\n",
    "### Separation of concerns\n",
    "\n",
    "Code is much easier to read, understand, and debug if we write them so that each chunk of code serves one main purpose. You do yourself and others a service if you write your code so that it validates the data first, and only parses the user input when it has been validated.\n",
    "\n",
    "Parsing is the act of resolving a line into different parts. In this case, we are parsing a single line of user input into a start position and end position. This task is made much easier if you can assume that the data is validated (obeys certain assumptions)."
   ]
  },
  {
   "cell_type": "code",
   "execution_count": 3,
   "metadata": {},
   "outputs": [
    {
     "name": "stdout",
     "output_type": "stream",
     "text": [
      "White player: 01 02\n"
     ]
    },
    {
     "data": {
      "text/plain": [
       "((0, 1), (0, 2))"
      ]
     },
     "execution_count": 3,
     "metadata": {},
     "output_type": "execute_result"
    },
    {
     "name": "stderr",
     "output_type": "stream",
     "text": [
      "5:5: E266 too many leading '#' for block comment\n",
      "28:5: E266 too many leading '#' for block comment\n"
     ]
    }
   ],
   "source": [
    "def prompt(self, colour):\n",
    "    # Write code to prompt the user for a move\n",
    "    # Validate the move input\n",
    "    # Return the start and end positions\n",
    "    ### BEGIN SOLUTION\n",
    "    # Write code to prompt the user for a move\n",
    "    move_is_valid = False\n",
    "    while not move_is_valid:\n",
    "        move = input(f'{colour.title()} player: ')\n",
    "\n",
    "        # Validate the move input\n",
    "        if len(move) != 5 or move[2] != ' ':\n",
    "            print('INVALID: Please enter your move in the following '\n",
    "                  'format: __ __, _ represents a digit.')\n",
    "        elif not (move[0].isdigit() and move[1].isdigit()\n",
    "                  and move[3].isdigit() and move[4].isdigit()):\n",
    "            print('INVALID: Please enter your move in the following '\n",
    "                  'format: __ __, _ represents a digit.')\n",
    "        elif not all(int(move[i]) < 8 for i in (0, 1, 3, 4)):\n",
    "            print('Invalid move. Move digits should be < 8.')\n",
    "        else:\n",
    "            move_is_valid = True\n",
    "\n",
    "    # Return the start and end positions\n",
    "    start = int(move[0]), int(move[1])\n",
    "    end = int(move[3]), int(move[4])\n",
    "    return start, end\n",
    "    ### END SOLUTION\n",
    "\n",
    "\n",
    "# Add this method to `Board`\n",
    "Board.prompt = prompt\n",
    "b = Board()\n",
    "start, end = b.prompt('white')\n",
    "start, end"
   ]
  },
  {
   "cell_type": "markdown",
   "metadata": {},
   "source": [
    "## Task 3: Validate move\n",
    "\n",
    "This task is rather more complex than the other two. Before we write any code, let’s think it through.\n",
    "\n",
    "We need to:\n",
    "\n",
    "1. Identify which piece is at the start position\n",
    "2. Identify the colour and name of the piece\n",
    "3. Check if the move is valid for that piece name (e.g. a rook cannot move diagonally)\n",
    "4. Check if there is a piece of the same colour at the end position\n",
    "\n",
    "(1) and (2) are simple enough. (3) looks complex though. We should dig deeper.\n",
    "\n",
    "How would we validate the move for each piece?\n",
    "\n",
    "It makes sense that the rules for movement should be associated with the piece, not the board. We could write it as a method _belonging to that piece’s class_, rather than belonging to `Board`. We could pass the start and end positions as 2-ple (tuple with 2 elements) arguments to this method, and it will return `True` (for valid move) and `False` (for invalid move):\n",
    "\n",
    "    >>> Pawn.isvalid((0,1),(0,2))\n",
    "    True\n",
    "    \n",
    "We will need to write separate validators for each piece class. You can refer to [this page](http://www.chesscoachonline.com/chess-articles/chess-rules) for basic movement rules (ignore special rules e.g. rook castling)\n",
    "\n",
    "At this point, you may assume that the data has been validated and does not need further validation. If you encounter any instances of invalid input, you should check your code for `prompt()` in **Task 2**.\n",
    "\n",
    "Isn’t separation of concerns so lovely?"
   ]
  },
  {
   "cell_type": "code",
   "execution_count": 4,
   "metadata": {},
   "outputs": [],
   "source": [
    "# Let's try writing some code for two pieces: Pawn and King\n",
    "\n",
    "\n",
    "# move validation for Pawn\n",
    "def isvalid(self, start, end):\n",
    "    x_move = end[0] - start[0]\n",
    "    y_move = end[1] - start[1]\n",
    "    dist = abs(x_move) + abs(y_move)\n",
    "    if x_move == 0:\n",
    "        if (self.colour == 'black' and y_move == -1) or \\\n",
    "           (self.colour == 'white' and y_move == 1):\n",
    "            return True\n",
    "    else:\n",
    "        return False\n",
    "\n",
    "\n",
    "# move validation for King\n",
    "def isvalid(self, start, end):\n",
    "    x_move = end[0] - start[0]\n",
    "    y_move = end[1] - start[1]\n",
    "    dist = abs(x_move) + abs(y_move)\n",
    "    if dist == 1:\n",
    "        return True\n",
    "    else:\n",
    "        return False"
   ]
  },
  {
   "cell_type": "markdown",
   "metadata": {},
   "source": [
    "I can foresee that this chunk of code is going to be needed a lot for the rest of the classes:\n",
    "\n",
    "    x_move = end[0] - start[0]\n",
    "    y_move = end[1] - start[1]\n",
    "    dist = abs(x_move) + abs(y_move)\n",
    "\n",
    "So much repetition! Let's make a helper function:"
   ]
  },
  {
   "cell_type": "code",
   "execution_count": 9,
   "metadata": {},
   "outputs": [],
   "source": [
    "def vector(start, end):\n",
    "    x_move = end[0] - start[0]\n",
    "    y_move = end[1] - start[1]\n",
    "    dist = abs(x_move) + abs(y_move)\n",
    "    return x_move, y_move, dist"
   ]
  },
  {
   "cell_type": "markdown",
   "metadata": {},
   "source": [
    "Now we can use `vector()` to help us with the move validation:"
   ]
  },
  {
   "cell_type": "code",
   "execution_count": 3,
   "metadata": {},
   "outputs": [],
   "source": [
    "# move validation for Pawn\n",
    "def isvalid(self, start, end):\n",
    "    x_move, y_move, dist = vector(start, end)\n",
    "    if x_move == 0:\n",
    "        if self.colour == 'black' and y_move == -1:\n",
    "            return True\n",
    "        elif self.colour == 'white' and y_move == 1:\n",
    "            return True\n",
    "    return False\n",
    "    # The pawn has a special 'capturing' move.\n",
    "    # We will handle this separately, later on.\n",
    "\n",
    "\n",
    "# Add this method to `Pawn`\n",
    "Pawn.isvalid = isvalid\n",
    "\n",
    "\n",
    "# move validation for King\n",
    "def isvalid(self, start, end):\n",
    "    x_move, y_move, dist = vector(start, end)\n",
    "    if dist == 1:\n",
    "        return True\n",
    "    else:\n",
    "        return False\n",
    "\n",
    "\n",
    "# Add this method to `King`\n",
    "King.isvalid = isvalid"
   ]
  },
  {
   "cell_type": "markdown",
   "metadata": {},
   "source": [
    "Your turn.\n",
    "\n",
    "### Part 1\n",
    "\n",
    "Define the move validation methods for the remaining pieces:"
   ]
  },
  {
   "cell_type": "code",
   "execution_count": 4,
   "metadata": {},
   "outputs": [],
   "source": [
    "# move validation for Queen\n",
    "def isvalid(self, start, end):\n",
    "    x_move, y_move, dist = vector(start, end)\n",
    "    # Write your move validation here\n",
    "    ### BEGIN SOLUTION\n",
    "    if dist > 0:\n",
    "        if abs(x_move) == abs(y_move):\n",
    "            return True\n",
    "        elif abs(x_move) == 0 or abs(y_move) == 0:\n",
    "            return True\n",
    "    return False\n",
    "    ### END SOLUTION\n",
    "\n",
    "\n",
    "# Add this method to `Queen`\n",
    "Queen.isvalid = isvalid"
   ]
  },
  {
   "cell_type": "code",
   "execution_count": 5,
   "metadata": {},
   "outputs": [],
   "source": [
    "# move validation for Bishop\n",
    "def isvalid(self, start, end):\n",
    "    x_move, y_move, dist = vector(start, end)\n",
    "    # Write your move validation here\n",
    "    ### BEGIN SOLUTION\n",
    "    if dist > 0:\n",
    "        if abs(x_move) == abs(y_move):\n",
    "            return True\n",
    "    return False\n",
    "    ### END SOLUTION\n",
    "\n",
    "\n",
    "# Add this method to `Bishop`\n",
    "Bishop.isvalid = isvalid"
   ]
  },
  {
   "cell_type": "code",
   "execution_count": 6,
   "metadata": {},
   "outputs": [],
   "source": [
    "# move validation for Knight\n",
    "def isvalid(self, start, end):\n",
    "    x_move, y_move, dist = vector(start, end)\n",
    "    # Write your move validation here\n",
    "    ### BEGIN SOLUTION\n",
    "    if dist == 3:\n",
    "        if abs(x_move) > 0 and abs(y_move) > 0:\n",
    "            return True\n",
    "    return False\n",
    "    ### END SOLUTION\n",
    "\n",
    "\n",
    "# Add this method to `Knight`\n",
    "Knight.isvalid = isvalid"
   ]
  },
  {
   "cell_type": "code",
   "execution_count": 7,
   "metadata": {},
   "outputs": [],
   "source": [
    "# move validation for Rook\n",
    "def isvalid(self, start, end):\n",
    "    x_move, y_move, dist = vector(start, end)\n",
    "    # Write your move validation here\n",
    "    ### BEGIN SOLUTION\n",
    "    if dist > 0:\n",
    "        if abs(x_move) == 0 or abs(y_move) == 0:\n",
    "            return True\n",
    "    return False\n",
    "    ### END SOLUTION\n",
    "\n",
    "\n",
    "# Add this method to `Rook`\n",
    "Rook.isvalid = isvalid"
   ]
  },
  {
   "cell_type": "code",
   "execution_count": 10,
   "metadata": {},
   "outputs": [],
   "source": [
    "testdata = {King('white'): [(4, 0), (4, 1), True],\n",
    "            King('white'): [(4, 0), (4, 2), False],\n",
    "            Queen('white'): [(3, 0), (5, 2), True],\n",
    "            Queen('white'): [(3, 0), (5, 3), False],\n",
    "            Bishop('white'): [(2, 0), (0, 2), True],\n",
    "            Bishop('white'): [(2, 0), (1, 2), False],\n",
    "            Knight('white'): [(1, 0), (2, 2), True],\n",
    "            Knight('white'): [(1, 0), (1, 2), False],\n",
    "            Rook('white'): [(0, 0), (0, 1), True],\n",
    "            Rook('white'): [(0, 0), (1, 1), False],\n",
    "            }\n",
    "for piece, (start, end, ans) in testdata.items():\n",
    "    result = piece.isvalid(start, end)\n",
    "    assert result == ans, \\\n",
    "        f'{piece}({start},{end} should return {ans}, got {result} instead)'"
   ]
  },
  {
   "cell_type": "markdown",
   "metadata": {},
   "source": [
    "### Part 2\n",
    "\n",
    "We have not done step 4 yet: Check if there is a piece of the same colour at the end position.\n",
    "\n",
    "Thi is something that the piece objects will not be able to do, since they don’t have access to the board information. So we will need to define this method on `Board` instead.\n",
    "\n",
    "A quick refresher on the `field` attribute that `Board` has:"
   ]
  },
  {
   "cell_type": "code",
   "execution_count": 12,
   "metadata": {},
   "outputs": [
    {
     "data": {
      "text/plain": [
       "[{'piece': Rook('black'), 'position': [0, 7]},\n",
       " {'piece': Knight('black'), 'position': [1, 7]},\n",
       " {'piece': Bishop('black'), 'position': [2, 7]},\n",
       " {'piece': Queen('black'), 'position': [3, 7]},\n",
       " {'piece': King('black'), 'position': [4, 7]},\n",
       " {'piece': Bishop('black'), 'position': [5, 7]},\n",
       " {'piece': Knight('black'), 'position': [6, 7]},\n",
       " {'piece': Rook('black'), 'position': [7, 7]},\n",
       " {'piece': Pawn('black'), 'position': [0, 6]},\n",
       " {'piece': Pawn('black'), 'position': [1, 6]},\n",
       " {'piece': Pawn('black'), 'position': [2, 6]},\n",
       " {'piece': Pawn('black'), 'position': [3, 6]},\n",
       " {'piece': Pawn('black'), 'position': [4, 6]},\n",
       " {'piece': Pawn('black'), 'position': [5, 6]},\n",
       " {'piece': Pawn('black'), 'position': [6, 6]},\n",
       " {'piece': Pawn('black'), 'position': [7, 6]},\n",
       " {'piece': Pawn('white'), 'position': [0, 1]},\n",
       " {'piece': Pawn('white'), 'position': [1, 1]},\n",
       " {'piece': Pawn('white'), 'position': [2, 1]},\n",
       " {'piece': Pawn('white'), 'position': [3, 1]},\n",
       " {'piece': Pawn('white'), 'position': [4, 1]},\n",
       " {'piece': Pawn('white'), 'position': [5, 1]},\n",
       " {'piece': Pawn('white'), 'position': [6, 1]},\n",
       " {'piece': Pawn('white'), 'position': [7, 1]},\n",
       " {'piece': Rook('white'), 'position': [0, 0]},\n",
       " {'piece': Knight('white'), 'position': [1, 0]},\n",
       " {'piece': Bishop('white'), 'position': [2, 0]},\n",
       " {'piece': Queen('white'), 'position': [3, 0]},\n",
       " {'piece': King('white'), 'position': [4, 0]},\n",
       " {'piece': Bishop('white'), 'position': [5, 0]},\n",
       " {'piece': Knight('white'), 'position': [6, 0]},\n",
       " {'piece': Rook('white'), 'position': [7, 0]}]"
      ]
     },
     "execution_count": 12,
     "metadata": {},
     "output_type": "execute_result"
    }
   ],
   "source": [
    "b = Board()\n",
    "b.field"
   ]
  },
  {
   "cell_type": "markdown",
   "metadata": {},
   "source": [
    "Let’s start by defining a method, `piece_at()` to get information about the piece at a position (`x`,`y`):"
   ]
  },
  {
   "cell_type": "code",
   "execution_count": 17,
   "metadata": {},
   "outputs": [],
   "source": [
    "def piece_at(self, coord):\n",
    "    '''\n",
    "    Retrieves the piece at `coord`.\n",
    "    `coord` is assumed to be a 2-ple of ints representing\n",
    "    (col,row).\n",
    "\n",
    "    Return:\n",
    "    dict\n",
    "    - 'piece': {King, Queen, Bishop, Knight, Rook, Pawn}\n",
    "    - position: (col,row)\n",
    "    or None if no piece found\n",
    "    '''\n",
    "    for each in self.field:\n",
    "        if each['position'] == coord:\n",
    "            return each\n",
    "    return None\n",
    "\n",
    "\n",
    "# Add this method to `Board`\n",
    "Board.piece_at = piece_at"
   ]
  },
  {
   "cell_type": "markdown",
   "metadata": {},
   "source": [
    "Your turn.\n",
    "\n",
    "Define the move validation method for `Board`, using the method `.piece_at()` to help you retrieve the pieces from the board:"
   ]
  },
  {
   "cell_type": "code",
   "execution_count": 12,
   "metadata": {},
   "outputs": [
    {
     "name": "stderr",
     "output_type": "stream",
     "text": [
      "14:5: E266 too many leading '#' for block comment\n",
      "20:5: E266 too many leading '#' for block comment\n"
     ]
    }
   ],
   "source": [
    "def isvalid(self, start, end):\n",
    "    '''\n",
    "    Determines if the board move is valid by:\n",
    "    1. Checking if the piece at `start` and the piece at `end`\n",
    "       are the same colour\n",
    "\n",
    "    Returns:\n",
    "    True if valid\n",
    "    False if invalid\n",
    "    '''\n",
    "    x_move, y_move, dist = vector(start, end)\n",
    "    start_piece = self.piece_at(start)['piece']\n",
    "    # Write your code here\n",
    "    ### BEGIN SOLUTION\n",
    "    end_piece = self.piece_at(end)['piece']\n",
    "    if start_piece is not None and end_piece is not None:\n",
    "        if start_piece.colour == end_piece.colour:\n",
    "            return False\n",
    "    return True\n",
    "    ### END SOLUTION\n",
    "\n",
    "\n",
    "# Add this method to `Board`\n",
    "Board.isvalid = isvalid"
   ]
  },
  {
   "cell_type": "markdown",
   "metadata": {},
   "source": [
    "## Task 4: Update board positions\n",
    "\n",
    "Once we have confirmed that the move is valid, we can move the piece and update the result. This involves a few steps:\n",
    "\n",
    "1. Remove any opponent piece that is at that position\n",
    "2. Update the position of the piece\n",
    "3. Print the result of the move\n",
    "   - 'white king 30 -> 31'\n",
    "   - 'black queen 37 -> 31 captures white pawn'\n",
    "   \n",
    "The piece positions are stored in `Board`, and the pieces have no info about their current position, so it makes sense to define this method under `Board` (after all, in real chess, the pieces are moved; they do not move themselves!).\n",
    "\n",
    "A quick refresher on the attributes and methods of a chess piece:"
   ]
  },
  {
   "cell_type": "code",
   "execution_count": 21,
   "metadata": {},
   "outputs": [
    {
     "name": "stdout",
     "output_type": "stream",
     "text": [
      "colour\n",
      "isvalid\n",
      "name\n"
     ]
    }
   ],
   "source": [
    "k = King('white')\n",
    "for attr in dir(k):\n",
    "    if not attr.startswith('__'):\n",
    "        print(attr)"
   ]
  },
  {
   "cell_type": "markdown",
   "metadata": {},
   "source": [
    "Define a method to move a piece from `start` position to `end` position.\n",
    "\n",
    "- You may assume that `start` and `end` are 2-ples containing a pair of `int`s. The first `int` is the column index, the second `int` is the row index.\n",
    "- You may assume the move has been validated.\n",
    "\n",
    "### Part 1\n",
    "\n",
    "Define an `index_at()` method that:\n",
    "\n",
    "1. Takes in a `list` of 2-ple positions,\n",
    "2. Returns a `list` of `int`s representing the `self.field` indexes of the pieces at those positions.\n",
    "   - return `None` if there is no piece at that position.\n",
    "\n",
    "**Hint 1:** The code to search for the piece at the `start` position is very similar to `piece_at()` method, so you can modify your code from that."
   ]
  },
  {
   "cell_type": "code",
   "execution_count": 18,
   "metadata": {},
   "outputs": [
    {
     "name": "stderr",
     "output_type": "stream",
     "text": [
      "12:5: E266 too many leading '#' for block comment\n"
     ]
    }
   ],
   "source": [
    "def index_at(self, pos_list):\n",
    "    '''\n",
    "    Get the indexes of board pieces at the positions\n",
    "    given in `pos_list`.\n",
    "    Each position is a 2-ple represent col,row.\n",
    "\n",
    "    Return:\n",
    "    tuple of `int` corresponding to piece index,\n",
    "    None if no piece at that position\n",
    "    '''\n",
    "    # Write your code here\n",
    "    ### BEGIN SOLUTION\n",
    "    if type(pos_list) != list:\n",
    "        raise TypeError(f'pos_list must be list type, not {type(pos_list)}')\n",
    "    return_list = [None] * len(pos_list)\n",
    "\n",
    "    piece_index = 0\n",
    "    while None in return_list and piece_index < len(self.field):\n",
    "        this_piece = self.field[piece_index]\n",
    "        for list_index in range(len(pos_list)):\n",
    "            if return_list[list_index] is None \\\n",
    "                    and this_piece['position'] == tuple(pos_list[list_index]):\n",
    "                return_list[list_index] = piece_index\n",
    "        piece_index += 1\n",
    "    return tuple(return_list)\n",
    "\n",
    "\n",
    "# Add this method to `Board`\n",
    "Board.index_at = index_at"
   ]
  },
  {
   "cell_type": "code",
   "execution_count": 15,
   "metadata": {},
   "outputs": [
    {
     "name": "stdout",
     "output_type": "stream",
     "text": [
      "All OK\n"
     ]
    }
   ],
   "source": [
    "# TEST: Check correct output for `index_at()`\n",
    "test_b = Board()\n",
    "\n",
    "# Get all the piece positions\n",
    "test_pos_list = [test_b.field[i]['position'] for i in range(len(test_b.field))]\n",
    "# Return all piece indexes\n",
    "result_index_list = test_b.index_at(test_pos_list)\n",
    "\n",
    "# Test that position returned by board matches returned list\n",
    "for pos_index, piece_index in enumerate(result_index_list):\n",
    "    piece = test_b.field[piece_index]['piece']\n",
    "    position = test_b.field[piece_index]['position']\n",
    "    result = test_pos_list[pos_index]\n",
    "    assert position == result, \\\n",
    "        f'Piece index {piece_index} ({str(piece)}) ' \\\n",
    "        f'is at {position}, got {result} instead.'\n",
    "# Printed if no AssertionError raised\n",
    "print('All OK')"
   ]
  },
  {
   "cell_type": "markdown",
   "metadata": {},
   "source": [
    "### Part 2\n",
    "\n",
    "Update the code in the `move_piece()` method to\n",
    "\n",
    "1. Remove the `self.field` dict at `end` position index (if any),\n",
    "2. Set the `'position'` key of `self.field` dict at `start` position index to the `end` position.\n"
   ]
  },
  {
   "cell_type": "code",
   "execution_count": 25,
   "metadata": {},
   "outputs": [
    {
     "name": "stderr",
     "output_type": "stream",
     "text": [
      "13:5: E266 too many leading '#' for block comment\n",
      "36:5: E266 too many leading '#' for block comment\n"
     ]
    }
   ],
   "source": [
    "def move_piece(self, start, end):\n",
    "    '''\n",
    "    Move piece from `start` to `end`.\n",
    "\n",
    "    1. Removes any opponent pieces at `end`,\n",
    "    2. Updates the position of `piece` in the board.\n",
    "\n",
    "    Return:\n",
    "    opponent_piece if opponent piece removed\n",
    "    None if no opponent piece removed\n",
    "    '''\n",
    "    # Write your code here\n",
    "    ### BEGIN SOLUTION\n",
    "    # Get piece indexes for `start` and `end` position.\n",
    "    start_index, end_index = self.index_at([start, end])\n",
    "\n",
    "    # Remove end_piece if any.\n",
    "    if end_index is not None:\n",
    "        opponent_piece = self.field.pop(end_index)\n",
    "\n",
    "    # Move start_piece by updating its position.\n",
    "    if start_index is not None:\n",
    "        self.field[start_index]['position'] = end\n",
    "    else:\n",
    "        # We haven’t created a custom error yet so we’ll just use\n",
    "        # Exception for now. This is not good practice! It is only temporary.\n",
    "        raise Exception(f'Invalid move, no piece at {start}')\n",
    "\n",
    "    # If variable opponent_piece exists, return it. If not, return None.\n",
    "    try:\n",
    "        return opponent_piece\n",
    "    except NameError:\n",
    "        return None\n",
    "    except Exception as e:\n",
    "        raise\n",
    "    ### END SOLUTION\n",
    "\n",
    "\n",
    "# Add this method to `Board`\n",
    "Board.move_piece = move_piece"
   ]
  },
  {
   "cell_type": "code",
   "execution_count": 26,
   "metadata": {},
   "outputs": [
    {
     "name": "stdout",
     "output_type": "stream",
     "text": [
      "All OK\n"
     ]
    }
   ],
   "source": [
    "# TEST: player_piece successfully moved, return value is None\n",
    "\n",
    "# Move black rook\n",
    "start = (7, 7)\n",
    "end = (7, 4)\n",
    "\n",
    "test_b = Board()\n",
    "piece_index = test_b.index_at([start])[0]\n",
    "opponent_piece = test_b.move_piece(start, end)\n",
    "own_piece = test_b.field[piece_index]['piece']\n",
    "own_piece_pos = test_b.field[piece_index]['position']\n",
    "\n",
    "assert own_piece_pos == end, \\\n",
    "    f'{own_piece} {start} -> {end}, result was {own_piece_pos} instead.'\n",
    "assert opponent_piece is None, \\\n",
    "    'Return value is not None (no opponent piece removed)'\n",
    "# Printed if no AssertionError raised\n",
    "print('All OK')"
   ]
  },
  {
   "cell_type": "code",
   "execution_count": 32,
   "metadata": {},
   "outputs": [
    {
     "name": "stdout",
     "output_type": "stream",
     "text": [
      "All OK\n"
     ]
    }
   ],
   "source": [
    "# TEST: opponent_piece successfully removed from board,\n",
    "#       returned by move_piece()\n",
    "\n",
    "# Black queen takes white pawn\n",
    "start = (3, 7)\n",
    "end = (3, 1)\n",
    "\n",
    "test_b = Board()\n",
    "piece_index = test_b.index_at([start])[0]\n",
    "opponent_piece = test_b.move_piece(start, end)['piece']\n",
    "own_piece = test_b.field[piece_index]['piece']\n",
    "own_piece_pos = test_b.field[piece_index]['position']\n",
    "\n",
    "assert own_piece_pos == end, \\\n",
    "    f'{own_piece} {start} -> {end}, result was {own_piece_pos} instead.'\n",
    "assert str(opponent_piece) == 'white pawn', \\\n",
    "    f'white pawn not taken (opponent piece was {opponent_piece})'\n",
    "# Printed if no AssertionError raised\n",
    "print('All OK')"
   ]
  },
  {
   "cell_type": "markdown",
   "metadata": {},
   "source": [
    "## Polymorphism\n",
    "\n",
    "One thing that made this game so easy to write is that all the piece classes use the same method names. Besides the methods they inherited from `BasePiece`, each piece also has an `isvalid()` method. Although the `isvalid()` method for each piece works differently, it takes in the same type of input and returns the same type of output.\n",
    "\n",
    "As long as we can _assume_ that every piece has an `isvalid()` method that will return a `bool`, we dont need to worry about the _details_ of how the piece class is implemented. This feature of being able to use different classes with the same code is known as **polymorphism**.\n",
    "\n",
    "## Endgame\n",
    "\n",
    "We now have the basic classes and methods in place to write the main code of the game. See you in Assignment 10. You will do Assignment 10 in groups, each member working to implement one additional feature of the game."
   ]
  },
  {
   "cell_type": "markdown",
   "metadata": {
    "nbgrader": {
     "grade": false,
     "grade_id": "cell-47d2f518f97c0b3a",
     "locked": true,
     "schema_version": 3,
     "solution": false,
     "task": false
    }
   },
   "source": [
    "# Feedback and suggestions\n",
    "\n",
    "Any feedback or suggestions for this assignment?"
   ]
  },
  {
   "cell_type": "markdown",
   "metadata": {
    "nbgrader": {
     "grade": true,
     "grade_id": "cell-cff3e51d3e9a7c7b",
     "locked": false,
     "points": 0,
     "schema_version": 3,
     "solution": true,
     "task": false
    }
   },
   "source": []
  }
 ],
 "metadata": {
  "celltoolbar": "Create Assignment",
  "kernelspec": {
   "display_name": "Python 3",
   "language": "python",
   "name": "python3"
  },
  "language_info": {
   "codemirror_mode": {
    "name": "ipython",
    "version": 3
   },
   "file_extension": ".py",
   "mimetype": "text/x-python",
   "name": "python",
   "nbconvert_exporter": "python",
   "pygments_lexer": "ipython3",
   "version": "3.6.4"
  }
 },
 "nbformat": 4,
 "nbformat_minor": 2
}
