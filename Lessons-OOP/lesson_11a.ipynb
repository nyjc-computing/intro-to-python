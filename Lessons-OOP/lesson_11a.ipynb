{
 "cells": [
  {
   "cell_type": "markdown",
   "metadata": {
    "nbgrader": {
     "grade": false,
     "grade_id": "cell-911447fd6fdf5c85",
     "locked": true,
     "schema_version": 3,
     "solution": false,
     "task": false
    }
   },
   "source": [
    "#### Crash course for `pycodestyle`\n",
    "\n",
    "We have completed the lesson modules for Basic Python and Advanced Python, and will be moving beyond introducing language features to thinking about how to structure, organise, and improve code.\n",
    "\n",
    "In the industry, developers do not rely on people to catch syntax and other language feature errors. Tools exist for that, and I will introduce them on top of the lesson content from this point onwards.\n",
    "\n",
    "In their own words:\n",
    "\n",
    "> [`pycodestyle`](http://pycodestyle.pycqa.org/en/latest/intro.html) is a tool to check your Python code against some of the style conventions in PEP 8.\n",
    "\n",
    "Such tools are known as **linters**. They help to pick out undesirable bits of code, kind of like picking lint off wool clothing.\n",
    "\n",
    "The cell below loads `pycodestyle` into Jupyter Notebook and enables it in the subsequent cells:"
   ]
  },
  {
   "cell_type": "code",
   "execution_count": null,
   "metadata": {},
   "outputs": [],
   "source": [
    "# This code cell loads a PEP8 linter.\n",
    "# Linting is the process of flagging programming errors,\n",
    "# bugs, stylistic errors, and other code problems\n",
    "# pycodestyle is a linter that highlights any syntax that\n",
    "# is not PEP8-compliant.\n",
    "# You only need to load it once in each notebook.\n",
    "\n",
    "%load_ext pycodestyle_magic\n",
    "%pycodestyle_on"
   ]
  },
  {
   "cell_type": "markdown",
   "metadata": {
    "nbgrader": {
     "grade": false,
     "grade_id": "cell-7c83958e6bce822c",
     "locked": true,
     "schema_version": 3,
     "solution": false,
     "task": false
    }
   },
   "source": [
    "When you run any subsequent code cells, it will highlight syntax errors. If you see any such highlighted syntax errors, please fix them. It will greatly improve the readability of your code."
   ]
  },
  {
   "cell_type": "markdown",
   "metadata": {
    "nbgrader": {
     "grade": false,
     "grade_id": "cell-8dd8af14517735ca",
     "locked": true,
     "schema_version": 3,
     "solution": false,
     "task": false
    }
   },
   "source": [
    "# Lesson 11a: Python Objects\n",
    "\n",
    "We started with simple types, like `int`, `float`, `str`, and `bool`, which really just store a value and little else. Python made them really useful by giving them some methods (which other programming languages don’t implement in the same way), but they are otherwise just different representations of **data types**.\n",
    "\n",
    "We saw that it quickly gets unwieldy to juggle so many variables, so we started to group them into **data structures** instead. These data structures: `list`, `dict`, `tuple`, and `set` let us work on more data with fewer variable names to juggle.\n",
    "\n",
    "To make more complex programs, it makes sense to start to think about **objects** rather than data types and data structures. While other programming languages treat data types, data structures, and objects differently, Python implements them all as objects. For example, when you open a file for reading or writing, the file handle that you get is an object.\n",
    "\n",
    "An object differs from a plain data type or data structure in a number of ways.\n",
    "\n",
    "## Object attributes\n",
    "\n",
    "Objects can have **attributes**:"
   ]
  },
  {
   "cell_type": "code",
   "execution_count": 9,
   "metadata": {},
   "outputs": [
    {
     "data": {
      "text/plain": [
       "'anexistingfilename.txt'"
      ]
     },
     "execution_count": 9,
     "metadata": {},
     "output_type": "execute_result"
    }
   ],
   "source": [
    "f = open('anexistingfilename.txt','w')\n",
    "f.name"
   ]
  },
  {
   "cell_type": "markdown",
   "metadata": {
    "nbgrader": {
     "grade": false,
     "grade_id": "cell-19a1ced72b13d8c8",
     "locked": true,
     "schema_version": 3,
     "solution": false,
     "task": false
    }
   },
   "source": [
    "An attribute is a variable that is attached to an object. When you create a file handle `f`, it has an attribute `f.name` which is a `str` representing the filename you opened. you can use `f.name` in almost any way you can use a `str`."
   ]
  },
  {
   "cell_type": "code",
   "execution_count": 4,
   "metadata": {},
   "outputs": [
    {
     "data": {
      "text/plain": [
       "_io.TextIOWrapper"
      ]
     },
     "execution_count": 4,
     "metadata": {},
     "output_type": "execute_result"
    }
   ],
   "source": [
    "type(f)"
   ]
  },
  {
   "cell_type": "markdown",
   "metadata": {
    "nbgrader": {
     "grade": false,
     "grade_id": "cell-0c69a6f850f1dc52",
     "locked": true,
     "schema_version": 3,
     "solution": false,
     "task": false
    }
   },
   "source": [
    "The `f` file handle object is apparently a `_io.TextIOWrapper` type. We’ll see what that means shortly.\n",
    "\n",
    "Objects can do a lot more than just bundle methods and attributes together. Within an object, you can also write your own code to make the object behave differently from a normal function or variable. For example:\n",
    "\n",
    "    >>> f.name = 'anotherfilename.txt'\n",
    "    AttributeError: attribute 'name' of '_io.TextIOWrapper' objects is not writable\n",
    "    \n",
    "Within itself, `f` has code that prevents us from overwriting its `name` attribute. This makes sense: `f` is a handle to the `'anexistingfilename.txt'` file (opened in `'r'` mode), and changing the `name` attribute would be misleading! If we could modify it, anyone else who later checks `f.name` would think it was a handle to `'anotherfilename.txt'`.\n",
    "\n",
    "## Classes\n",
    "\n",
    "Let’s create another file handle and see the similarities and differences with `f`."
   ]
  },
  {
   "cell_type": "code",
   "execution_count": 10,
   "metadata": {},
   "outputs": [
    {
     "data": {
      "text/plain": [
       "'yetanotherexistingfilename.txt'"
      ]
     },
     "execution_count": 10,
     "metadata": {},
     "output_type": "execute_result"
    }
   ],
   "source": [
    "g = open('yetanotherexistingfilename.txt','w')\n",
    "g.name   "
   ]
  },
  {
   "cell_type": "markdown",
   "metadata": {
    "nbgrader": {
     "grade": false,
     "grade_id": "cell-b83c29ece976dfef",
     "locked": true,
     "schema_version": 3,
     "solution": false,
     "task": false
    }
   },
   "source": [
    "`g` also has a `name` attribute, but its value is different."
   ]
  },
  {
   "cell_type": "code",
   "execution_count": 3,
   "metadata": {},
   "outputs": [
    {
     "data": {
      "text/plain": [
       "_io.TextIOWrapper"
      ]
     },
     "execution_count": 3,
     "metadata": {},
     "output_type": "execute_result"
    }
   ],
   "source": [
    "type(g)    "
   ]
  },
  {
   "cell_type": "markdown",
   "metadata": {
    "nbgrader": {
     "grade": false,
     "grade_id": "cell-0dfe5bce8f10dc7b",
     "locked": true,
     "schema_version": 3,
     "solution": false,
     "task": false
    }
   },
   "source": [
    "It’s apparently the same “type” as `f`! Hmmm.\n",
    "\n",
    "    >>> g.name = 'notanotherfilename.txt'\n",
    "    AttributeError: attribute 'name' of '_io.TextIOWrapper' objects is not writable\n",
    "\n",
    "So it looks like `f` and `g` are separate objects of the same type. In Python, we say that `f` and `g` are **instances** of the same **class**.\n",
    "\n",
    "Let's clean up those two files and don't leave them lying around."
   ]
  },
  {
   "cell_type": "code",
   "execution_count": 11,
   "metadata": {},
   "outputs": [],
   "source": [
    "f.close()\n",
    "g.close()\n",
    "\n",
    "import os\n",
    "os.remove(f.name)\n",
    "os.remove(g.name)"
   ]
  },
  {
   "cell_type": "markdown",
   "metadata": {
    "nbgrader": {
     "grade": false,
     "grade_id": "cell-5cd0173eb7f056a4",
     "locked": true,
     "schema_version": 3,
     "solution": false,
     "task": false
    }
   },
   "source": [
    "What is a class? Let’s illustrate with an example and some code."
   ]
  },
  {
   "cell_type": "markdown",
   "metadata": {
    "nbgrader": {
     "grade": false,
     "grade_id": "cell-19464f9bc8a19325",
     "locked": true,
     "schema_version": 3,
     "solution": false,
     "task": false
    }
   },
   "source": [
    "## Introduction to vectors\n",
    "\n",
    "If I am trying to describe points in a Cartesian grid with an x-coordinate and a y-coordinate, I could do this:"
   ]
  },
  {
   "cell_type": "code",
   "execution_count": 12,
   "metadata": {},
   "outputs": [],
   "source": [
    "x0 = 0\n",
    "y0 = 0"
   ]
  },
  {
   "cell_type": "markdown",
   "metadata": {
    "nbgrader": {
     "grade": false,
     "grade_id": "cell-045d6497330aa488",
     "locked": true,
     "schema_version": 3,
     "solution": false,
     "task": false
    }
   },
   "source": [
    "Two separate variables. What if I want another point?"
   ]
  },
  {
   "cell_type": "code",
   "execution_count": 13,
   "metadata": {},
   "outputs": [],
   "source": [
    "x1 = 1\n",
    "y1 = 1"
   ]
  },
  {
   "cell_type": "markdown",
   "metadata": {
    "nbgrader": {
     "grade": false,
     "grade_id": "cell-8768c5db461c3680",
     "locked": true,
     "schema_version": 3,
     "solution": false,
     "task": false
    }
   },
   "source": [
    "If I want the length of the line between the points (`x0`,`y0`) and (`x1`,`y1`)?\n",
    "\n",
    "I will have to use the square root function, `sqrt()` from the `math` library:"
   ]
  },
  {
   "cell_type": "code",
   "execution_count": 14,
   "metadata": {},
   "outputs": [
    {
     "data": {
      "text/plain": [
       "<function math.sqrt>"
      ]
     },
     "execution_count": 14,
     "metadata": {},
     "output_type": "execute_result"
    }
   ],
   "source": [
    "import math\n",
    "math.sqrt # This line is just to show you that sqrt() is a function of the math library"
   ]
  },
  {
   "cell_type": "code",
   "execution_count": 15,
   "metadata": {},
   "outputs": [
    {
     "data": {
      "text/plain": [
       "1.4142135623730951"
      ]
     },
     "execution_count": 15,
     "metadata": {},
     "output_type": "execute_result"
    }
   ],
   "source": [
    "import math\n",
    "x0_x1 = x1 - x0\n",
    "y0_y1 = y1 - y0\n",
    "math.sqrt(x0_x1**2 + y0_y1**2)"
   ]
  },
  {
   "cell_type": "markdown",
   "metadata": {},
   "source": [
    "I hope you can see that this is no way to be managing hundreds of points and lines, especially if you want to write your own image-editing software!"
   ]
  },
  {
   "cell_type": "markdown",
   "metadata": {},
   "source": [
    "## (optional) What about using lists and dicts?\n",
    "\n",
    "Okay, maybe we can make it simpler using lists? We could define a point `point0` as a pair of `x`,`y` values, and define a function `mod()` to get the length:"
   ]
  },
  {
   "cell_type": "code",
   "execution_count": 14,
   "metadata": {},
   "outputs": [
    {
     "name": "stdout",
     "output_type": "stream",
     "text": [
      "1.4142135623730951\n"
     ]
    }
   ],
   "source": [
    "def mod(p1,p2):\n",
    "    '''\n",
    "    Returns the length of the straight line between points p1 and p2.\n",
    "    '''\n",
    "    import math\n",
    "\n",
    "    if len(p1) != len(p2):\n",
    "        raise ValueError(f'{p1} and {p2} do not have the same number of dimensions.')\n",
    "    \n",
    "    sum_of_squares = 0\n",
    "    for i in range(len(p1)):\n",
    "        sum_of_squares += (p2[i] - p1[i])**2\n",
    "    return math.sqrt(sum_of_squares)\n",
    "\n",
    "point0 = [0,0]\n",
    "point1 = [1,1]\n",
    "length_1_2 = mod(point0,point1)\n",
    "print(length_1_2)"
   ]
  },
  {
   "cell_type": "markdown",
   "metadata": {
    "nbgrader": {
     "grade": false,
     "grade_id": "cell-f123427e605a8edf",
     "locked": true,
     "schema_version": 3,
     "solution": false,
     "task": false
    }
   },
   "source": [
    "And then how are you going to keep track of each point? Using another list, or a dict? Here’s a better way."
   ]
  },
  {
   "cell_type": "markdown",
   "metadata": {
    "nbgrader": {
     "grade": false,
     "grade_id": "cell-180e1051b9fe65e1",
     "locked": true,
     "schema_version": 3,
     "solution": false,
     "task": false
    }
   },
   "source": [
    "How do real-world programmers do it?\n",
    "\n",
    "## Defining classes\n",
    "\n",
    "In a Cartesian plane, we have _points_ and _lines_. Instead of trying to use simple variables to represent them, real-world programmers use **objects** so that they are reasier to think about. So we should have a `Point` class and a `Line` class, that we can create instances of point objects and line objects from.\n",
    "\n",
    "How do we define a class?"
   ]
  },
  {
   "cell_type": "code",
   "execution_count": 16,
   "metadata": {},
   "outputs": [],
   "source": [
    "#run this code cell\n",
    "# Define a Point class\n",
    "class Point:\n",
    "    pass"
   ]
  },
  {
   "cell_type": "markdown",
   "metadata": {
    "nbgrader": {
     "grade": false,
     "grade_id": "cell-dcffa0d22114bd5e",
     "locked": true,
     "schema_version": 3,
     "solution": false,
     "task": false
    }
   },
   "source": [
    "This defines a class named `Point`. It’s that simple. (Now you know why you can’t use `class` as a variable name in Assignment 5.)\n",
    "\n",
    "Notice that the class name starts with an uppercase letter.\n",
    "\n",
    "How do we actually do something with it, like give it an `x` and `y` attribute?"
   ]
  },
  {
   "cell_type": "code",
   "execution_count": 18,
   "metadata": {},
   "outputs": [
    {
     "name": "stdout",
     "output_type": "stream",
     "text": [
      "x: 1\n",
      "y: 2\n"
     ]
    }
   ],
   "source": [
    "#run this code cell\n",
    "class Point:\n",
    "    x = 1\n",
    "    y = 2\n",
    "\n",
    "print('x:', Point.x)\n",
    "print('y:', Point.y)"
   ]
  },
  {
   "cell_type": "markdown",
   "metadata": {
    "nbgrader": {
     "grade": false,
     "grade_id": "cell-91635643810dab17",
     "locked": true,
     "schema_version": 3,
     "solution": false,
     "task": false
    }
   },
   "source": [
    "You can access the class’s attributes using the same `class.attribute` format that you are so used to. `Point.x` returns the `x` attribute of `Point`, while `Point.y` returns the `y` attribute of `Point`.\n",
    "\n",
    "Okay, how do we generate multiple points from this class?"
   ]
  },
  {
   "cell_type": "code",
   "execution_count": 19,
   "metadata": {},
   "outputs": [
    {
     "name": "stdout",
     "output_type": "stream",
     "text": [
      "point0.x: 1\n",
      "point0.y: 2\n",
      "point1.x: 1\n",
      "point1.y: 2\n"
     ]
    }
   ],
   "source": [
    "#run this code cell\n",
    "point0 = Point()\n",
    "point1 = Point()\n",
    "\n",
    "print('point0.x:',point0.x)\n",
    "print('point0.y:',point0.y)\n",
    "print('point1.x:',point1.x)\n",
    "print('point1.y:',point1.y)"
   ]
  },
  {
   "cell_type": "markdown",
   "metadata": {
    "nbgrader": {
     "grade": false,
     "grade_id": "cell-6c11e5c88f4cc381",
     "locked": true,
     "schema_version": 3,
     "solution": false,
     "task": false
    }
   },
   "source": [
    "Uhh ... but I want point 1 to be (1,1) instead of (0,0).\n",
    "\n",
    "Oops. Okay, let’s try this:"
   ]
  },
  {
   "cell_type": "code",
   "execution_count": 20,
   "metadata": {},
   "outputs": [
    {
     "name": "stdout",
     "output_type": "stream",
     "text": [
      "point0.x: 1\n",
      "point0.y: 2\n",
      "point1.x: 1\n",
      "point1.y: 1\n"
     ]
    }
   ],
   "source": [
    "#run this code cell\n",
    "point1.x = 1\n",
    "point1.y = 1\n",
    "\n",
    "print('point0.x:',point0.x)\n",
    "print('point0.y:',point0.y)\n",
    "print('point1.x:',point1.x)\n",
    "print('point1.y:',point1.y)"
   ]
  },
  {
   "cell_type": "markdown",
   "metadata": {
    "nbgrader": {
     "grade": false,
     "grade_id": "cell-03b132d0b6e29e00",
     "locked": true,
     "schema_version": 3,
     "solution": false,
     "task": false
    }
   },
   "source": [
    "There’s got to be a better way than this, right? Could we possibly do this instead:"
   ]
  },
  {
   "cell_type": "code",
   "execution_count": 21,
   "metadata": {},
   "outputs": [
    {
     "ename": "TypeError",
     "evalue": "object() takes no parameters",
     "output_type": "error",
     "traceback": [
      "\u001b[1;31m---------------------------------------------------------------------------\u001b[0m",
      "\u001b[1;31mTypeError\u001b[0m                                 Traceback (most recent call last)",
      "\u001b[1;32m<ipython-input-21-654d0d40a5a8>\u001b[0m in \u001b[0;36m<module>\u001b[1;34m()\u001b[0m\n\u001b[0;32m      1\u001b[0m \u001b[1;31m#run this code cell\u001b[0m\u001b[1;33m\u001b[0m\u001b[1;33m\u001b[0m\u001b[0m\n\u001b[1;32m----> 2\u001b[1;33m \u001b[0mpoint0\u001b[0m \u001b[1;33m=\u001b[0m \u001b[0mPoint\u001b[0m\u001b[1;33m(\u001b[0m\u001b[1;36m0\u001b[0m\u001b[1;33m,\u001b[0m\u001b[1;36m0\u001b[0m\u001b[1;33m)\u001b[0m\u001b[1;33m\u001b[0m\u001b[0m\n\u001b[0m\u001b[0;32m      3\u001b[0m \u001b[0mpoint1\u001b[0m \u001b[1;33m=\u001b[0m \u001b[0mPoint\u001b[0m\u001b[1;33m(\u001b[0m\u001b[1;36m1\u001b[0m\u001b[1;33m,\u001b[0m\u001b[1;36m1\u001b[0m\u001b[1;33m)\u001b[0m\u001b[1;33m\u001b[0m\u001b[0m\n",
      "\u001b[1;31mTypeError\u001b[0m: object() takes no parameters"
     ]
    }
   ],
   "source": [
    "#run this code cell\n",
    "point0 = Point(0, 0)\n",
    "point1 = Point(1, 1)"
   ]
  },
  {
   "cell_type": "markdown",
   "metadata": {
    "nbgrader": {
     "grade": false,
     "grade_id": "cell-7781065b3896fc30",
     "locked": true,
     "schema_version": 3,
     "solution": false,
     "task": false
    }
   },
   "source": [
    "Hmm, the `Point` class doesn’t take parameters. How do we make it take an input and set its own attributes?"
   ]
  },
  {
   "cell_type": "markdown",
   "metadata": {
    "nbgrader": {
     "grade": false,
     "grade_id": "cell-065a70bf365c7d93",
     "locked": true,
     "schema_version": 3,
     "solution": false,
     "task": false
    }
   },
   "source": [
    "## Introduction to dunder methods\n",
    "\n",
    "Introducing the first dunder (<b>d</b>ouble <b>under</b>line) method you must learn: `__init__()`.\n",
    "\n",
    "**Methods** are functions that belong to an object. You can only call them through the object (using the `object.method()` format), they are not available outside of the object.\n",
    "\n",
    "**Dunder** methods are special methods that enable special features on the object. We will begin to explore some of them gradually—its a bit much to release them all in one lesson. These special methods are identified by a special format in Python: they start and end with a double underline (`__`).\n",
    "\n",
    "When you use the `dir()` function on an object, you will often see many such methods. These methods are not meant to be used directly; they are called by Python when you try to use certain operators or built-in functions.\n",
    "\n",
    "`__init__()` (short for \"**init**ialise\") is the special method that Python calls when you **initialise** an object (that’s the technical term for “create”). The `__init__()` method takes in parameters that are given the the class upon initialisation, and runs the code on the newly instantiated object.\n",
    "\n",
    "We want `Point` to take in a pair of values and set its own `x` and `y` attributes. Let’s upgrade it:"
   ]
  },
  {
   "cell_type": "code",
   "execution_count": null,
   "metadata": {},
   "outputs": [],
   "source": [
    "#run this code cell\n",
    "class Point:\n",
    "    def __init__(x, y):\n",
    "        ??? = x\n",
    "        ??? = y\n",
    "        \n",
    "point0 = Point(0, 0)"
   ]
  },
  {
   "cell_type": "markdown",
   "metadata": {
    "nbgrader": {
     "grade": false,
     "grade_id": "cell-c15f1af9f60f4d9e",
     "locked": true,
     "schema_version": 3,
     "solution": false,
     "task": false
    }
   },
   "source": [
    "Hmm ... how do we write the code? Which variable do we put on the left to store the `x` and `y` variables?\n",
    "\n",
    "We want the `__init__()` method of the object to store those attributes in it**self**. We could write it like this:\n",
    "\n",
    "    class Point:\n",
    "    def __init__(x,y):\n",
    "        self.x = x\n",
    "        self.y = y\n",
    "        \n",
    "Hold on a sec. There are only two parameters: `x` and `y`. If we use a variable `self` inside `__init__()`, we would get `local variable referenced before assignment`, wouldn’t we?\n",
    "\n",
    "So we need to pass `self` in as the first parameter:"
   ]
  },
  {
   "cell_type": "code",
   "execution_count": 63,
   "metadata": {},
   "outputs": [],
   "source": [
    "#run this code cell\n",
    "class Point:\n",
    "    x = None\n",
    "    y = None\n",
    "    # I am taking out the class attributes since they will now be defined in __init__()\n",
    "    def __init__(self, b, c):\n",
    "        # this is the local space of the method (function belonging to the class)\n",
    "        self.x = b\n",
    "        self.y = c\n",
    "        print(f'y-attribute: {instance.y}')"
   ]
  },
  {
   "cell_type": "markdown",
   "metadata": {
    "nbgrader": {
     "grade": false,
     "grade_id": "cell-25f754f68aca016d",
     "locked": true,
     "schema_version": 3,
     "solution": false,
     "task": false
    }
   },
   "source": [
    "I know lots of things don’t make sense at this point. It gets a bit clearer when you see it in action. Let’s try making some points first. I will write:\n",
    "\n",
    "    >>> point0 = Point(0,0)\n",
    "    \n",
    "Hold on—the `__init__()` method was defined with 3 parameters, but here we only give it 2 arguments! Is that going to work? Let’s try:"
   ]
  },
  {
   "cell_type": "code",
   "execution_count": 65,
   "metadata": {
    "scrolled": true
   },
   "outputs": [
    {
     "name": "stdout",
     "output_type": "stream",
     "text": [
      "y-attribute: 1\n",
      "point0.x: 0\n",
      "point0.y: 1\n",
      "Point.x: None\n",
      "Point.y: None\n"
     ]
    }
   ],
   "source": [
    "#run this code cell\n",
    "# this is the global space\n",
    "Point(0, 1)\n",
    "\n",
    "print('point0.x:',point0.x)\n",
    "print('point0.y:',point0.y)\n",
    "print('Point.x:',Point.x)\n",
    "print('Point.y:',Point.y)"
   ]
  },
  {
   "cell_type": "markdown",
   "metadata": {
    "nbgrader": {
     "grade": false,
     "grade_id": "cell-8e100c3973282dd7",
     "locked": true,
     "schema_version": 3,
     "solution": false,
     "task": false
    }
   },
   "source": [
    "Huh, it worked.\n",
    "\n",
    "Yup, the creator of Python, Guido van Rossum, didn’t think it made sense to have to call a method while still telling it that the first argument is itself. Imagine if you had to call the string `.join()` method like this:\n",
    "\n",
    "    >>> comma = ', '\n",
    "    >>> comma.join(comma,[1,2,3])\n",
    "    \n",
    "It would be tedious, confusing, and annoying.\n",
    "\n",
    "So internally, you have to define the methods with `self` as the first parameter, but when you instantiate an object using the class, you do not need to provide `self` as the first parameter—Python already knows.\n",
    "\n",
    "We’re making good progress on `Point` class, what about `Line`s? Lines will also need to have `x` and `y` dimensions, although they represent lengths instead of positions.\n",
    "\n",
    "## Task 1: Define a `Line` class\n",
    "\n",
    "Define a `Line` class that has an `x` attribute and a `y` attribute, representing the x and y dimensions respectively."
   ]
  },
  {
   "cell_type": "code",
   "execution_count": null,
   "metadata": {},
   "outputs": [],
   "source": [
    "# Complete the class definition by replacing the\n",
    "# underscores (_____) with appropriate keywords.\n",
    "_____ Line:\n",
    "    _____ __init__(self,x,y):\n",
    "        self.x = x\n",
    "        self.y = y"
   ]
  },
  {
   "cell_type": "markdown",
   "metadata": {},
   "source": [
    "You should be able to instantiate a line using this code: `line0 = Line(2,3)`"
   ]
  },
  {
   "cell_type": "code",
   "execution_count": 22,
   "metadata": {},
   "outputs": [
    {
     "name": "stdout",
     "output_type": "stream",
     "text": [
      "line0: x=2, y=3\n"
     ]
    }
   ],
   "source": [
    "#run this code cell\n",
    "line0 = Line(2,3)\n",
    "print(f'line0: x={line0.x}, y={line0.y}')"
   ]
  },
  {
   "cell_type": "code",
   "execution_count": 20,
   "metadata": {},
   "outputs": [],
   "source": [
    "#run this code cell\n",
    "class Line:\n",
    "    def __init__(self,x,y):\n",
    "        self.x = x\n",
    "        self.y = y"
   ]
  },
  {
   "cell_type": "markdown",
   "metadata": {
    "nbgrader": {
     "grade": false,
     "grade_id": "cell-592c9f45de6bf8cd",
     "locked": true,
     "schema_version": 3,
     "solution": false,
     "task": false
    }
   },
   "source": [
    "If we have a line, we should be able to get its length. I could write a function like this:"
   ]
  },
  {
   "cell_type": "code",
   "execution_count": 34,
   "metadata": {},
   "outputs": [
    {
     "data": {
      "text/plain": [
       "3.605551275463989"
      ]
     },
     "execution_count": 34,
     "metadata": {},
     "output_type": "execute_result"
    }
   ],
   "source": [
    "#run this code cell\n",
    "def length_of(line):\n",
    "    '''\n",
    "    Returns the length of a Line object.\n",
    "    '''\n",
    "    import math\n",
    "    length = math.sqrt(line.x**2 + line.y**2)\n",
    "    return length\n",
    "\n",
    "line = Line(2,3)\n",
    "length = length_of(line)\n",
    "length"
   ]
  },
  {
   "cell_type": "markdown",
   "metadata": {
    "nbgrader": {
     "grade": false,
     "grade_id": "cell-d22708a69b900838",
     "locked": true,
     "schema_version": 3,
     "solution": false,
     "task": false
    }
   },
   "source": [
    "That defeats the point of working with objects. The length is a property of the object, I _want_ to be able to get it using an object method, like so:\n",
    "\n",
    "    >>> line.length()\n",
    "    3.605551275463989\n",
    "    \n",
    "Time to upgrade the `Line` class.\n",
    "\n",
    "## Task 2: Add a `.length()` method to `Line`\n",
    "\n",
    "\n",
    "Define a `length()` method that takes in no arguments and returns the length of the `Line` object."
   ]
  },
  {
   "cell_type": "code",
   "execution_count": null,
   "metadata": {},
   "outputs": [],
   "source": [
    "import math\n",
    "\n",
    "class Line:\n",
    "    def __init__(self,x,y):\n",
    "        self.x = x\n",
    "        self.y = y\n",
    "        \n",
    "    def length(self):\n",
    "        # Write code below to *return* the length of the object\n",
    "        # Since we are within the scope of the length method,\n",
    "        # we only have access to the `self` object.\n",
    "        # This object, a Line object, has an x and y attribute.\n",
    "        # We can assign its attributes to a variable for use.\n",
    "        x = self.x\n",
    "        y = self.y\n",
    "        ### BEGIN SOLUTION\n",
    "        return math.sqrt(x**2 + y**2)\n",
    "        ### END SOLUTION\n"
   ]
  },
  {
   "cell_type": "markdown",
   "metadata": {},
   "source": [
    "Notice that our new method, `.length()` needs to have `self` as the first parameter too, even if it doesn't need to be called with any arguments. This may take some time getting used to, but you will get the hang of it.\n",
    "\n",
    "Great. We now have a `Point` class that can represent a `point` (x,y). We also have a `Line` class that can represent a `line` (x,y), and we can get its length using `line.length()`.\n",
    "\n",
    "Lets do more ambitious things.\n",
    "\n",
    "## Vector math, revisited\n",
    "\n",
    "You learned that you can add vectors this way:\n",
    "\n",
    "$$\\vec{AB} + \\vec{BC} = \\vec{AC}$$\n",
    "\n",
    "How would we implement this using our newly-baked `Line` class?\n",
    "\n",
    "In pseudocode, it makes sense that `Line(1,2) + Line(2,3)` should return an object represented by `Line(3,5)` right?\n",
    "\n",
    "Since we just learned methods, let’s try implementing it as a method.\n",
    "\n",
    "## Task 3: Add an `.add()` method to `Line`\n",
    "\n",
    "Define a `add()` method that takes in an argument `line` and returns a `Line` object representing the vector sum of the object with `line`."
   ]
  },
  {
   "cell_type": "code",
   "execution_count": 35,
   "metadata": {},
   "outputs": [],
   "source": [
    "# Add an `add()` method to the Line class\n",
    "class Line:\n",
    "    def __init__(self,x,y):\n",
    "        self.x = x\n",
    "        self.y = y\n",
    "        \n",
    "    def length(self):\n",
    "        # Paste your `length()` method definition from above here\n",
    "        return math.sqrt(self.x**2 + self.y**2)\n",
    "\n",
    "        \n",
    "    # Complete the method definition below by replacing\n",
    "    # the underscores(_____) with appropriate keywords or names\n",
    "    def _____(_____,line):\n",
    "        new_x = self.x + line.x\n",
    "        new_y = self.y + line.y\n",
    "        return Line(new_x,new_y)"
   ]
  },
  {
   "cell_type": "code",
   "execution_count": 38,
   "metadata": {},
   "outputs": [
    {
     "name": "stdout",
     "output_type": "stream",
     "text": [
      "line01 x,y: 3 5\n"
     ]
    }
   ],
   "source": [
    "# Use this cell to test your code\n",
    "line0 = Line(1,2)\n",
    "line1 = Line(2,3)\n",
    "line01 = line0.add(line1)\n",
    "print('line01 x,y:',line01.x,line01.y)\n",
    "### Expected output: line01 x,y: 3 5"
   ]
  },
  {
   "cell_type": "markdown",
   "metadata": {},
   "source": [
    "Got it working? Great.\n",
    "\n",
    "Time to learn another dunder method.\n",
    "\n",
    "When we create a list, it is easy to examine the contents of the list by just putting in the name of the variable:\n",
    "\n",
    "    >>> a_list = [1,2,3]\n",
    "    >>> a_list\n",
    "    [1, 2, 3]\n",
    "    \n",
    "Let’s try that with our newly instantiated line object:"
   ]
  },
  {
   "cell_type": "code",
   "execution_count": 29,
   "metadata": {},
   "outputs": [
    {
     "data": {
      "text/plain": [
       "<__main__.Line at 0x7fa0b05a97f0>"
      ]
     },
     "execution_count": 29,
     "metadata": {},
     "output_type": "execute_result"
    }
   ],
   "source": [
    "line01"
   ]
  },
  {
   "cell_type": "markdown",
   "metadata": {
    "nbgrader": {
     "grade": false,
     "grade_id": "cell-70693c752f241152",
     "locked": true,
     "schema_version": 3,
     "solution": false,
     "task": false
    }
   },
   "source": [
    "That’s not very nice, I wanted to know what its x and y dimensions were.\n",
    "\n",
    "We can make it give us something more helpful by defining another dunder method.\n",
    "\n",
    "When we debug, Python has to have some way of showing us what the object is. The output to the console must be in text form, so Python needs a text <b>repr</b>esentation of this object. It uses the `__repr__()` dunder method to know what this text representation is. Let’s add a `__repr__()` method to our `Line` class. While we’re at it, let’s upgrade our `Point` class as well.\n",
    "\n",
    "A _general guideline_ to implementing `__repr__()` is to use the expression we type to create that object. there will be many exceptions to this rule, but it is a good enough starting point for us.\n",
    "\n",
    "We want to achieve the following:\n",
    "\n",
    "### Example output\n",
    "\n",
    "    >>> line01\n",
    "    Line(3,5)\n",
    "    >>> point0\n",
    "    Point(0,0)\n",
    "    \n",
    "This is much more readable and helpful.\n",
    "\n",
    "## Task 4: Define `__repr__()` dunder method for `Line` and `Point`\n",
    "\n",
    "1. Add a docstring for the `Point` class\n",
    "2. Define a `__repr__()` method for `Point`"
   ]
  },
  {
   "cell_type": "code",
   "execution_count": 40,
   "metadata": {},
   "outputs": [],
   "source": [
    "# See how __repr__() is implemented for Line.\n",
    "class Line:\n",
    "    '''\n",
    "    A class representing a line with x- and y-dimensions.\n",
    "    \n",
    "    Methods:\n",
    "    - length()\n",
    "    - add(another_line)\n",
    "      Returns a Line object representing the vector sum of\n",
    "      the current Line and another_line.\n",
    "    '''\n",
    "    def __init__(self,x,y):\n",
    "        self.x = x\n",
    "        self.y = y\n",
    " \n",
    "    def __repr__(self):\n",
    "        # Note that although the result appears in the output, you do not need\n",
    "        # to print it yourself. Python will do that for you. You need to *return*\n",
    "        # the result instead.\n",
    "        return f'Line({self.x},{self.y})'\n",
    "        \n",
    "    # It is good practice to define all your dunder methods first,\n",
    "    # starting with __init__(), before defining other methods after them.\n",
    "    def length(self):\n",
    "        return math.sqrt(self.x**2 + self.y**2)\n",
    "\n",
    "    def add(self,line):\n",
    "        new_x = self.x + line.x\n",
    "        new_y = self.y + line.y\n",
    "        return Line(new_x,new_y)\n",
    "    \n",
    "# Task 4\n",
    "class Point:\n",
    "    # (1) Add a docstring for the Point class\n",
    "    def __init__(self,x,y):\n",
    "        self.x = x\n",
    "        self.y = y\n",
    "        \n",
    "    # (2) Define a __repr__() method for Point.\n",
    "    def __repr__(self):\n",
    "        # Type your code here\n",
    "        ### BEGIN SOLUTION\n",
    "        return f'Point({self.x},{self.y})'\n",
    "        ### END SOLUTION"
   ]
  },
  {
   "cell_type": "code",
   "execution_count": 56,
   "metadata": {},
   "outputs": [
    {
     "data": {
      "text/plain": [
       "Point(0,0)"
      ]
     },
     "execution_count": 56,
     "metadata": {},
     "output_type": "execute_result"
    }
   ],
   "source": [
    "# Use this cell to test your code\n",
    "line01 = Line(3,5)\n",
    "line01\n",
    "# Expected: Line(3,5)\n",
    "point0 = Point(0,0)\n",
    "point0\n",
    "# Expected: Point(0,0)"
   ]
  },
  {
   "cell_type": "markdown",
   "metadata": {},
   "source": [
    "This is helpful for debugging, but when I use a `print()` statement like:\n",
    "\n",
    "    >>> print(f'Points on this grid: {point0} and {point1}')\n",
    "    Points on this grid: Point(0,0) and Point(1,1)\n",
    "    \n",
    "That’s helpful, but not very _pretty_. If we ever need to display these points in a list or output them in the command line, that’s going to be too wordy. It would be nice if we could have the following:\n",
    "\n",
    "    >>> print(f'Points on this grid: {point0} and {point1}')\n",
    "    Points on this grid: (0,0) and (1,1)\n",
    "    \n",
    "That’s more like how you would write it in Math, and it looks neater too without losing any clarity.\n",
    "\n",
    "That means we need another method besides `__repr__()`. Python has just  the thing for us, and it is called `__str__()`.\n",
    "\n",
    "## Task 5: Define `__str__()` dunder method for `Line` and `Point`"
   ]
  },
  {
   "cell_type": "code",
   "execution_count": 70,
   "metadata": {},
   "outputs": [],
   "source": [
    "# See how __str__() is implemented for Line.\n",
    "class Line:\n",
    "    '''\n",
    "    A class representing a line with x- and y-dimensions.\n",
    "    \n",
    "    Methods:\n",
    "    - length()\n",
    "    - add(another_line)\n",
    "      Returns a Line object representing the vector sum of\n",
    "      the current Line and another_line.\n",
    "    '''\n",
    "    def __init__(self,x,y):\n",
    "        self.x = x\n",
    "        self.y = y\n",
    " \n",
    "    def __repr__(self):\n",
    "        return f'Line({self.x},{self.y})'\n",
    "    \n",
    "    def __str__(self):\n",
    "        return f'({self.x},{self.y})'\n",
    "        \n",
    "    def length(self):\n",
    "        return math.sqrt(self.x**2 + self.y**2)\n",
    "\n",
    "    def add(self,line):\n",
    "        new_x = self.x + line.x\n",
    "        new_y = self.y + line.y\n",
    "        return Line(new_x,new_y)\n",
    "    \n",
    "# Task 4\n",
    "class Point:\n",
    "    # (1) Add a docstring for the Point class\n",
    "    def __init__(self,x,y):\n",
    "        self.x = x\n",
    "        self.y = y\n",
    "        \n",
    "    def __repr__(self):\n",
    "        # Paste your __repr__() representation for Point here\n",
    "\n",
    "    # (2) Define a __str__() method for Point.\n",
    "    # Type your code here\n",
    "    ### BEGIN SOLUTION\n",
    "    def __str__(self):\n",
    "        return f'({self.x},{self.y})'\n",
    "    ### END SOLUTION\n"
   ]
  },
  {
   "cell_type": "code",
   "execution_count": 71,
   "metadata": {},
   "outputs": [
    {
     "name": "stdout",
     "output_type": "stream",
     "text": [
      "Points on this grid: (0,0) and (1,1)\n"
     ]
    }
   ],
   "source": [
    "# Use this cell to test your code\n",
    "line01 = Line(3,5)\n",
    "point0 = Point(0,0)\n",
    "point1 = Point(1,1)\n",
    "print(f'Points on this grid: {point0} and {point1}')"
   ]
  },
  {
   "cell_type": "markdown",
   "metadata": {},
   "source": [
    "## `__repr__()` vs `__str__()`\n",
    "\n",
    "These two methods seem very similar. Which is more important, and why do we need two?\n",
    "\n",
    "These methods are called by Python when the functions `repr()` and `str()` are called. You have already been instroduced to `str()`, but not to `repr()`.\n",
    "\n",
    "The main purpose of `repr()`, as far as I can tell, is to get the “source code” of the object; to know how to create the same object in the Python shell. This is useful mainly for debugging, when the skimpy `print()` statements don’t give enough information or if you need to try creating that object in your test code.\n",
    "\n",
    "`str()`, on the other hand, is called when the `print()` function encounters an object that is not a `str`. That is why it can handle non-`str` types—provided they have a `__str__()` that can be called. So the main purpose of `str()` is to give a concise, simple representation of the object for printing.\n",
    "\n",
    "If `__str__()` is not implemented in an object, Python will check if the object has a `__repr__()` method and use that. But if `__repr__()` is not implemented, Python will just give the default representation (e.g. `<__main__.Line at 0x7fa0b05a97f0>`) without checking for a `__str__()` method.\n",
    "\n",
    "For this reason, **you should always have a `__repr__()` method** for every object you create. If you need something different to use in `print()`, you can implement a `__str__()` method as well."
   ]
  },
  {
   "cell_type": "markdown",
   "metadata": {
    "nbgrader": {
     "grade": false,
     "grade_id": "cell-47d2f518f97c0b3a",
     "locked": true,
     "schema_version": 3,
     "solution": false,
     "task": false
    }
   },
   "source": [
    "# Feedback and suggestions\n",
    "\n",
    "Any feedback or suggestions for this assignment?"
   ]
  },
  {
   "cell_type": "markdown",
   "metadata": {
    "nbgrader": {
     "grade": true,
     "grade_id": "cell-cff3e51d3e9a7c7b",
     "locked": false,
     "points": 0,
     "schema_version": 3,
     "solution": true,
     "task": false
    }
   },
   "source": []
  }
 ],
 "metadata": {
  "celltoolbar": "Create Assignment",
  "kernelspec": {
   "display_name": "Python 3",
   "language": "python",
   "name": "python3"
  },
  "language_info": {
   "codemirror_mode": {
    "name": "ipython",
    "version": 3
   },
   "file_extension": ".py",
   "mimetype": "text/x-python",
   "name": "python",
   "nbconvert_exporter": "python",
   "pygments_lexer": "ipython3",
   "version": "3.6.4"
  }
 },
 "nbformat": 4,
 "nbformat_minor": 2
}
