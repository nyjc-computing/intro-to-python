{
 "cells": [
  {
   "cell_type": "markdown",
   "metadata": {},
   "source": [
    "## 1-minute introduction to Jupyter ##\n",
    "\n",
    "A Jupyter notebook consists of cells. Each cell contains either text or code.\n",
    "\n",
    "A text cell will not have any text to the left of the cell. A code cell has `In [ ]:` to the left of the cell.\n",
    "\n",
    "If the cell contains code, you can edit it. Press <kbd>Enter</kbd> to edit the selected cell. While editing the code, press <kbd>Enter</kbd> to create a new line, or <kbd>Shift</kbd>+<kbd>Enter</kbd> to run the code. If you are not editing the code, select a cell and press <kbd>Ctrl</kbd>+<kbd>Enter</kbd> to run the code."
   ]
  },
  {
   "cell_type": "markdown",
   "metadata": {},
   "source": [
    "Before you turn this problem in, make sure everything runs as expected. First, **restart the kernel** (in the menubar, select Kernel$\\rightarrow$Restart) and then **run all cells** (in the menubar, select Cell$\\rightarrow$Run All).\n",
    "\n",
    "Make sure you fill in any place that says `YOUR CODE HERE` or \"YOUR ANSWER HERE\", as well as your name and collaborators below:"
   ]
  },
  {
   "cell_type": "code",
   "execution_count": null,
   "metadata": {},
   "outputs": [],
   "source": [
    "NAME = \"\"\n",
    "COLLABORATORS = \"\""
   ]
  },
  {
   "cell_type": "markdown",
   "metadata": {},
   "source": [
    "---"
   ]
  },
  {
   "cell_type": "markdown",
   "metadata": {
    "deletable": false,
    "editable": false,
    "nbgrader": {
     "cell_type": "markdown",
     "checksum": "630438aa04d1eb1f61a15c740e2d6898",
     "grade": false,
     "grade_id": "cell-911447fd6fdf5c85",
     "locked": true,
     "schema_version": 3,
     "solution": false,
     "task": false
    }
   },
   "source": [
    "#### Crash course for `pycodestyle`\n",
    "\n",
    "We have completed the lesson modules for Basic Python and Advanced Python, and will be moving beyond introducing language features to thinking about how to structure, organise, and improve code.\n",
    "\n",
    "In the industry, developers do not rely on people to catch syntax and other language feature errors. Tools exist for that, and I will introduce them on top of the lesson content from this point onwards.\n",
    "\n",
    "In their own words:\n",
    "\n",
    "> [`pycodestyle`](http://pycodestyle.pycqa.org/en/latest/intro.html) is a tool to check your Python code against some of the style conventions in PEP 8.\n",
    "\n",
    "Such tools are known as **linters**. They help to pick out undesirable bits of code, kind of like picking lint off wool clothing.\n",
    "\n",
    "The cell below loads `pycodestyle` into Jupyter Notebook and enables it in the subsequent cells:"
   ]
  },
  {
   "cell_type": "code",
   "execution_count": null,
   "metadata": {},
   "outputs": [],
   "source": [
    "# This code cell loads a PEP8 linter.\n",
    "# Linting is the process of flagging programming errors,\n",
    "# bugs, stylistic errors, and other code problems\n",
    "# pycodestyle is a linter that highlights any syntax that\n",
    "# is not PEP8-compliant.\n",
    "# You only need to load it once in each notebook.\n",
    "\n",
    "%load_ext pycodestyle_magic\n",
    "%pycodestyle_on"
   ]
  },
  {
   "cell_type": "markdown",
   "metadata": {
    "deletable": false,
    "editable": false,
    "nbgrader": {
     "cell_type": "markdown",
     "checksum": "2481ed9bdb11282cde39cc6081998bf6",
     "grade": false,
     "grade_id": "cell-7c83958e6bce822c",
     "locked": true,
     "schema_version": 3,
     "solution": false,
     "task": false
    }
   },
   "source": [
    "When you run any subsequent code cells, it will highlight syntax errors. If you see any such highlighted syntax errors, please fix them. It will greatly improve the readability of your code."
   ]
  },
  {
   "cell_type": "markdown",
   "metadata": {
    "deletable": false,
    "editable": false,
    "nbgrader": {
     "cell_type": "markdown",
     "checksum": "23e4d3cd8d567f7fbd7a62125bab92d1",
     "grade": false,
     "grade_id": "cell-8dd8af14517735ca",
     "locked": true,
     "schema_version": 3,
     "solution": false,
     "task": false
    }
   },
   "source": [
    "# Lesson 11a: Python Objects\n",
    "\n",
    "We started with simple types, like `int`, `float`, `str`, and `bool`, which really just store a value and little else. Python made them really useful by giving them some methods (which other programming languages don’t implement in the same way), but they are otherwise just different representations of **data types**.\n",
    "\n",
    "We saw that it quickly gets unwieldy to juggle so many variables, so we started to group them into **data structures** instead. These data structures: `list`, `dict`, `tuple`, and `set` let us work on more data with fewer variable names to juggle.\n",
    "\n",
    "To make more complex programs, it makes sense to start to think about **objects** rather than data types and data structures. While other programming languages treat data types, data structures, and objects differently, Python implements them all as objects. For example, when you open a file for reading or writing, the file handle that you get is an object.\n",
    "\n",
    "An object differs from a plain data type or data structure in a number of ways.\n",
    "\n",
    "## Object attributes\n",
    "\n",
    "Objects can have **attributes**:"
   ]
  },
  {
   "cell_type": "code",
   "execution_count": null,
   "metadata": {},
   "outputs": [],
   "source": [
    "f = open('anexistingfilename.txt', 'w')\n",
    "f.name"
   ]
  },
  {
   "cell_type": "markdown",
   "metadata": {
    "deletable": false,
    "editable": false,
    "nbgrader": {
     "cell_type": "markdown",
     "checksum": "f29137c8970900fb34eb118886d73763",
     "grade": false,
     "grade_id": "cell-19a1ced72b13d8c8",
     "locked": true,
     "schema_version": 3,
     "solution": false,
     "task": false
    }
   },
   "source": [
    "An attribute is a variable that is attached to an object. When you create a file handle `f`, it has an attribute `f.name` which is a `str` representing the filename you opened. you can use `f.name` in almost any way you can use a `str`."
   ]
  },
  {
   "cell_type": "code",
   "execution_count": null,
   "metadata": {},
   "outputs": [],
   "source": [
    "type(f)"
   ]
  },
  {
   "cell_type": "markdown",
   "metadata": {
    "deletable": false,
    "editable": false,
    "nbgrader": {
     "cell_type": "markdown",
     "checksum": "a513de5916001287dcb8a8f99e1e4ba2",
     "grade": false,
     "grade_id": "cell-0c69a6f850f1dc52",
     "locked": true,
     "schema_version": 3,
     "solution": false,
     "task": false
    }
   },
   "source": [
    "The `f` file handle object is apparently a `_io.TextIOWrapper` type. We’ll see what that means shortly.\n",
    "\n",
    "Objects can do a lot more than just bundle methods and attributes together. Within an object, you can also write your own code to make the object behave differently from a normal function or variable. For example:\n",
    "\n",
    "    >>> f.name = 'anotherfilename.txt'\n",
    "    AttributeError: attribute 'name' of '_io.TextIOWrapper' objects is not writable\n",
    "    \n",
    "Within itself, `f` has code that prevents us from overwriting its `name` attribute. This makes sense: `f` is a handle to the `'anexistingfilename.txt'` file (opened in `'r'` mode), and changing the `name` attribute would be misleading! If we could modify it, anyone else who later checks `f.name` would think it was a handle to `'anotherfilename.txt'`.\n",
    "\n",
    "## Classes\n",
    "\n",
    "Let’s create another file handle and see the similarities and differences with `f`."
   ]
  },
  {
   "cell_type": "code",
   "execution_count": null,
   "metadata": {},
   "outputs": [],
   "source": [
    "g = open('yetanotherexistingfilename.txt', 'w')\n",
    "g.name"
   ]
  },
  {
   "cell_type": "markdown",
   "metadata": {
    "deletable": false,
    "editable": false,
    "nbgrader": {
     "cell_type": "markdown",
     "checksum": "312f868634e19f31aef79ac03c71098d",
     "grade": false,
     "grade_id": "cell-b83c29ece976dfef",
     "locked": true,
     "schema_version": 3,
     "solution": false,
     "task": false
    }
   },
   "source": [
    "`g` also has a `name` attribute, but its value is different."
   ]
  },
  {
   "cell_type": "code",
   "execution_count": null,
   "metadata": {},
   "outputs": [],
   "source": [
    "type(g)"
   ]
  },
  {
   "cell_type": "markdown",
   "metadata": {
    "deletable": false,
    "editable": false,
    "nbgrader": {
     "cell_type": "markdown",
     "checksum": "d4d2ca5c52a05eeb50515245208ba4f1",
     "grade": false,
     "grade_id": "cell-0dfe5bce8f10dc7b",
     "locked": true,
     "schema_version": 3,
     "solution": false,
     "task": false
    }
   },
   "source": [
    "It’s apparently the same “type” as `f`! Hmmm.\n",
    "\n",
    "    >>> g.name = 'notanotherfilename.txt'\n",
    "    AttributeError: attribute 'name' of '_io.TextIOWrapper' objects is not writable\n",
    "\n",
    "So it looks like `f` and `g` are separate objects of the same type. In Python, we say that `f` and `g` are **instances** of the same **class**.\n",
    "\n",
    "Let's clean up those two files and don't leave them lying around."
   ]
  },
  {
   "cell_type": "code",
   "execution_count": null,
   "metadata": {},
   "outputs": [],
   "source": [
    "f.close()\n",
    "g.close()\n",
    "\n",
    "import os\n",
    "os.remove(f.name)\n",
    "os.remove(g.name)"
   ]
  },
  {
   "cell_type": "markdown",
   "metadata": {
    "deletable": false,
    "editable": false,
    "nbgrader": {
     "cell_type": "markdown",
     "checksum": "f9bb2b9b4d1ce30986423e7471cef0e9",
     "grade": false,
     "grade_id": "cell-5cd0173eb7f056a4",
     "locked": true,
     "schema_version": 3,
     "solution": false,
     "task": false
    }
   },
   "source": [
    "What is a class? Let’s illustrate with an example and some code."
   ]
  },
  {
   "cell_type": "markdown",
   "metadata": {
    "deletable": false,
    "editable": false,
    "nbgrader": {
     "cell_type": "markdown",
     "checksum": "f3e31a0e7390687e3034494c5273b756",
     "grade": false,
     "grade_id": "cell-19464f9bc8a19325",
     "locked": true,
     "schema_version": 3,
     "solution": false,
     "task": false
    }
   },
   "source": [
    "## Introduction to vectors\n",
    "\n",
    "If I am trying to describe points in a Cartesian grid with an x-coordinate and a y-coordinate, I could do this:"
   ]
  },
  {
   "cell_type": "code",
   "execution_count": null,
   "metadata": {},
   "outputs": [],
   "source": [
    "x0 = 0\n",
    "y0 = 0"
   ]
  },
  {
   "cell_type": "markdown",
   "metadata": {
    "deletable": false,
    "editable": false,
    "nbgrader": {
     "cell_type": "markdown",
     "checksum": "3228d012df269f0725cd59619a93f853",
     "grade": false,
     "grade_id": "cell-045d6497330aa488",
     "locked": true,
     "schema_version": 3,
     "solution": false,
     "task": false
    }
   },
   "source": [
    "Two separate variables. What if I want another point?"
   ]
  },
  {
   "cell_type": "code",
   "execution_count": null,
   "metadata": {},
   "outputs": [],
   "source": [
    "x1 = 1\n",
    "y1 = 1"
   ]
  },
  {
   "cell_type": "markdown",
   "metadata": {
    "deletable": false,
    "editable": false,
    "nbgrader": {
     "cell_type": "markdown",
     "checksum": "9331a1f62c1994b421db8812541a6005",
     "grade": false,
     "grade_id": "cell-8768c5db461c3680",
     "locked": true,
     "schema_version": 3,
     "solution": false,
     "task": false
    }
   },
   "source": [
    "If I want the length of the line between the points (`x0`,`y0`) and (`x1`,`y1`)?\n",
    "\n",
    "I will have to use the square root function, `sqrt()` from the `math` library:"
   ]
  },
  {
   "cell_type": "code",
   "execution_count": null,
   "metadata": {},
   "outputs": [],
   "source": [
    "import math\n",
    "# This line is just to show you that sqrt() is a function of the math library\n",
    "math.sqrt"
   ]
  },
  {
   "cell_type": "code",
   "execution_count": null,
   "metadata": {},
   "outputs": [],
   "source": [
    "import math\n",
    "x0_x1 = x1 - x0\n",
    "y0_y1 = y1 - y0\n",
    "math.sqrt(x0_x1**2 + y0_y1**2)"
   ]
  },
  {
   "cell_type": "markdown",
   "metadata": {
    "deletable": false,
    "editable": false,
    "nbgrader": {
     "cell_type": "markdown",
     "checksum": "8144a8b9de81a67111e1c5929cf50c2f",
     "grade": false,
     "grade_id": "cell-466290ecf3bd32ac",
     "locked": true,
     "schema_version": 3,
     "solution": false,
     "task": false
    }
   },
   "source": [
    "I hope you can see that this is no way to be managing hundreds of points and lines, especially if you want to write your own image-editing software!"
   ]
  },
  {
   "cell_type": "markdown",
   "metadata": {
    "deletable": false,
    "editable": false,
    "nbgrader": {
     "cell_type": "markdown",
     "checksum": "249627659b97a31e984909779e466a45",
     "grade": false,
     "grade_id": "cell-636306236887799c",
     "locked": true,
     "schema_version": 3,
     "solution": false,
     "task": false
    }
   },
   "source": [
    "## (optional) What about using lists and dicts?\n",
    "\n",
    "Okay, maybe we can make it simpler using lists? We could define a point `point0` as a pair of `x`,`y` values, and define a function `mod()` to get the length:"
   ]
  },
  {
   "cell_type": "code",
   "execution_count": null,
   "metadata": {},
   "outputs": [],
   "source": [
    "def mod(p1, p2):\n",
    "    '''\n",
    "    Returns the length of the straight line between points p1 and p2.\n",
    "    '''\n",
    "    import math\n",
    "\n",
    "    if len(p1) != len(p2):\n",
    "        raise ValueError(f'{p1} and {p2} do not have the same number of dimensions.')\n",
    "    \n",
    "    sum_of_squares = 0\n",
    "    for i in range(len(p1)):\n",
    "        sum_of_squares += (p2[i] - p1[i])**2\n",
    "    return math.sqrt(sum_of_squares)\n",
    "\n",
    "point0 = [0, 0]\n",
    "point1 = [1, 1]\n",
    "length_1_2 = mod(point0, point1)\n",
    "print(length_1_2)"
   ]
  },
  {
   "cell_type": "markdown",
   "metadata": {
    "deletable": false,
    "editable": false,
    "nbgrader": {
     "cell_type": "markdown",
     "checksum": "3b8ab89de40837fc1bbca74a705421d4",
     "grade": false,
     "grade_id": "cell-f123427e605a8edf",
     "locked": true,
     "schema_version": 3,
     "solution": false,
     "task": false
    }
   },
   "source": [
    "And then how are you going to keep track of each point? Using another list, or a dict? Here’s a better way."
   ]
  },
  {
   "cell_type": "markdown",
   "metadata": {
    "deletable": false,
    "editable": false,
    "nbgrader": {
     "cell_type": "markdown",
     "checksum": "55de58f0617d1a935c8900b8d81da4d4",
     "grade": false,
     "grade_id": "cell-180e1051b9fe65e1",
     "locked": true,
     "schema_version": 3,
     "solution": false,
     "task": false
    }
   },
   "source": [
    "How do real-world programmers do it?\n",
    "\n",
    "## Defining classes\n",
    "\n",
    "In a Cartesian plane, we have _points_ and _lines_. Instead of trying to use simple variables to represent them, real-world programmers use **objects** so that they are reasier to think about. So we should have a `Point` class and a `Line` class, that we can create instances of point objects and line objects from.\n",
    "\n",
    "How do we define a class?"
   ]
  },
  {
   "cell_type": "code",
   "execution_count": null,
   "metadata": {},
   "outputs": [],
   "source": [
    "# run this code cell\n",
    "# Define a Point class\n",
    "\n",
    "\n",
    "class Point:\n",
    "    pass"
   ]
  },
  {
   "cell_type": "markdown",
   "metadata": {
    "deletable": false,
    "editable": false,
    "nbgrader": {
     "cell_type": "markdown",
     "checksum": "850db3eedca7ca2f54169dfc9b685c15",
     "grade": false,
     "grade_id": "cell-dcffa0d22114bd5e",
     "locked": true,
     "schema_version": 3,
     "solution": false,
     "task": false
    }
   },
   "source": [
    "This defines a class named `Point`. It’s that simple. (Now you know why you can’t use `class` as a variable name in Assignment 5.)\n",
    "\n",
    "Notice that the class name starts with an uppercase letter.\n",
    "\n",
    "How do we actually do something with it, like give it an `x` and `y` attribute?"
   ]
  },
  {
   "cell_type": "code",
   "execution_count": null,
   "metadata": {},
   "outputs": [],
   "source": [
    "# run this code cell\n",
    "\n",
    "\n",
    "class Point:\n",
    "    x = 0\n",
    "    y = 0\n",
    "\n",
    "\n",
    "print('x:', Point.x)\n",
    "print('y:', Point.y)"
   ]
  },
  {
   "cell_type": "markdown",
   "metadata": {
    "deletable": false,
    "editable": false,
    "nbgrader": {
     "cell_type": "markdown",
     "checksum": "85757323f662f695fa27b80ef56bb1ee",
     "grade": false,
     "grade_id": "cell-91635643810dab17",
     "locked": true,
     "schema_version": 3,
     "solution": false,
     "task": false
    }
   },
   "source": [
    "You can access the class’s attributes using the same `class.attribute` format that you are so used to. `Point.x` returns the `x` attribute of `Point`, while `Point.y` returns the `y` attribute of `Point`.\n",
    "\n",
    "Okay, how do we generate multiple points from this class?"
   ]
  },
  {
   "cell_type": "code",
   "execution_count": null,
   "metadata": {},
   "outputs": [],
   "source": [
    "# run this code cell\n",
    "\n",
    "point0 = Point()\n",
    "point1 = Point()\n",
    "\n",
    "print('point0.x:', point0.x)\n",
    "print('point0.y:', point0.y)\n",
    "print('point1.x:', point1.x)\n",
    "print('point1.y:', point1.y)"
   ]
  },
  {
   "cell_type": "markdown",
   "metadata": {
    "deletable": false,
    "editable": false,
    "nbgrader": {
     "cell_type": "markdown",
     "checksum": "556c521a473215683c702cc523c14fb5",
     "grade": false,
     "grade_id": "cell-6c11e5c88f4cc381",
     "locked": true,
     "schema_version": 3,
     "solution": false,
     "task": false
    }
   },
   "source": [
    "Uhh ... but I want point 1 to be (1,1) instead of (0,0).\n",
    "\n",
    "Oops. Okay, let’s try this:"
   ]
  },
  {
   "cell_type": "code",
   "execution_count": null,
   "metadata": {},
   "outputs": [],
   "source": [
    "# run this code cell\n",
    "\n",
    "point1.x = 1\n",
    "point1.y = 1\n",
    "\n",
    "print('point0.x:', point0.x)\n",
    "print('point0.y:', point0.y)\n",
    "print('point1.x:', point1.x)\n",
    "print('point1.y:', point1.y)"
   ]
  },
  {
   "cell_type": "markdown",
   "metadata": {
    "deletable": false,
    "editable": false,
    "nbgrader": {
     "cell_type": "markdown",
     "checksum": "b2e75feb1da8bbca037823a99736312f",
     "grade": false,
     "grade_id": "cell-03b132d0b6e29e00",
     "locked": true,
     "schema_version": 3,
     "solution": false,
     "task": false
    }
   },
   "source": [
    "There’s got to be a better way than this, right? Could we possibly do this instead:"
   ]
  },
  {
   "cell_type": "code",
   "execution_count": null,
   "metadata": {},
   "outputs": [],
   "source": [
    "# run this code cell\n",
    "\n",
    "point0 = Point(0, 0)\n",
    "point1 = Point(1, 1)"
   ]
  },
  {
   "cell_type": "markdown",
   "metadata": {
    "deletable": false,
    "editable": false,
    "nbgrader": {
     "cell_type": "markdown",
     "checksum": "c2b3d78b37480e6be1f3706693ab6508",
     "grade": false,
     "grade_id": "cell-7781065b3896fc30",
     "locked": true,
     "schema_version": 3,
     "solution": false,
     "task": false
    }
   },
   "source": [
    "Hmm, the `Point` class doesn’t take parameters. How do we make it take an input and set its own attributes?"
   ]
  },
  {
   "cell_type": "markdown",
   "metadata": {
    "deletable": false,
    "editable": false,
    "nbgrader": {
     "cell_type": "markdown",
     "checksum": "0565d1bc6f7dfc9be6a6e1879b7df118",
     "grade": false,
     "grade_id": "cell-065a70bf365c7d93",
     "locked": true,
     "schema_version": 3,
     "solution": false,
     "task": false
    }
   },
   "source": [
    "## Introduction to dunder methods\n",
    "\n",
    "Introducing the first dunder (<b>d</b>ouble <b>under</b>line) method you must learn: `__init__()`.\n",
    "\n",
    "**Methods** are functions that belong to an object. You can only call them through the object (using the `object.method()` format), they are not available outside of the object.\n",
    "\n",
    "**Dunder** methods are special methods that enable special features on the object. We will begin to explore some of them gradually—its a bit much to release them all in one lesson. These special methods are identified by a special format in Python: they start and end with a double underline (`__`).\n",
    "\n",
    "When you use the `dir()` function on an object, you will often see many such methods. These methods are not meant to be used directly; they are called by Python when you try to use certain operators or built-in functions.\n",
    "\n",
    "`__init__()` (short for \"**init**ialise\") is the special method that Python calls when you **initialise** an object (that’s the technical term for “create”). The `__init__()` method takes in parameters that are given the the class upon initialisation, and runs the code on the newly instantiated object.\n",
    "\n",
    "We want `Point` to take in a pair of values and set its own `x` and `y` attributes. Let’s upgrade it:"
   ]
  },
  {
   "cell_type": "code",
   "execution_count": null,
   "metadata": {
    "deletable": false,
    "editable": false,
    "nbgrader": {
     "cell_type": "code",
     "checksum": "7210eec71a1f40fc012687e2f66a5c19",
     "grade": false,
     "grade_id": "cell-04f495c8b2648286",
     "locked": true,
     "schema_version": 3,
     "solution": false,
     "task": false
    }
   },
   "outputs": [],
   "source": [
    "#run this code cell\n",
    "class Point:\n",
    "    def __init__(x, y):\n",
    "        ??? = x\n",
    "        ??? = y"
   ]
  },
  {
   "cell_type": "markdown",
   "metadata": {
    "deletable": false,
    "editable": false,
    "nbgrader": {
     "cell_type": "markdown",
     "checksum": "5185f9b06e15013df6e597f93d176622",
     "grade": false,
     "grade_id": "cell-c15f1af9f60f4d9e",
     "locked": true,
     "schema_version": 3,
     "solution": false,
     "task": false
    }
   },
   "source": [
    "Hmm ... how do we write the code to assign the arguments to the attributes? Which object do we put on the left (in place of `???`) to store the `x` and `y` variables?\n",
    "\n",
    "We want the `__init__()` method of the object to store those attributes in it**self**. We could write it like this:\n",
    "\n",
    "    class Point:\n",
    "    def __init__(x, y):\n",
    "        self.x = x\n",
    "        self.y = y\n",
    "        \n",
    "Hold on a sec. There are only two parameters: `x` and `y`. If we use a variable `self` inside `__init__()`, we would get `local variable referenced before assignment`, wouldn’t we?\n",
    "\n",
    "So we need to pass `self` in as the first parameter:"
   ]
  },
  {
   "cell_type": "code",
   "execution_count": null,
   "metadata": {},
   "outputs": [],
   "source": [
    "# run this code cell\n",
    "\n",
    "\n",
    "class Point:\n",
    "    # I am taking out the class attributes since they will now be defined in __init__()\n",
    "    def __init__(self, x, y):\n",
    "        self.x = x\n",
    "        self.y = y"
   ]
  },
  {
   "cell_type": "markdown",
   "metadata": {
    "deletable": false,
    "editable": false,
    "nbgrader": {
     "cell_type": "markdown",
     "checksum": "190dad413f28f29f4793e4e8490bde66",
     "grade": false,
     "grade_id": "cell-25f754f68aca016d",
     "locked": true,
     "schema_version": 3,
     "solution": false,
     "task": false
    }
   },
   "source": [
    "I know lots of things don’t make sense at this point. It gets a bit clearer when you see it in action. Let’s try making some points first. I will write:\n",
    "\n",
    "    >>> point0 = Point(0,0)\n",
    "    \n",
    "Hold on—the `__init__()` method was defined with 3 parameters, but here we only give it 2 arguments! Is that going to work? Let’s try:"
   ]
  },
  {
   "cell_type": "code",
   "execution_count": null,
   "metadata": {},
   "outputs": [],
   "source": [
    "# run this code cell\n",
    "\n",
    "point0 = Point(0, 0)\n",
    "\n",
    "print('point0.x:', point0.x)\n",
    "print('point0.y:', point0.y)"
   ]
  },
  {
   "cell_type": "markdown",
   "metadata": {
    "deletable": false,
    "editable": false,
    "nbgrader": {
     "cell_type": "markdown",
     "checksum": "afafcdcc2f8c1666f7ab3bad9d4a3f5e",
     "grade": false,
     "grade_id": "cell-8e100c3973282dd7",
     "locked": true,
     "schema_version": 3,
     "solution": false,
     "task": false
    }
   },
   "source": [
    "Huh, it worked.\n",
    "\n",
    "Yup, the creator of Python, Guido van Rossum, didn’t think it made sense to have to call a method while still telling it that the first argument is itself. Imagine if you had to call the string `.join()` method like this:\n",
    "\n",
    "    >>> comma = ', '\n",
    "    >>> comma.join(comma,[1,2,3])\n",
    "    \n",
    "It would be tedious, confusing, and annoying.\n",
    "\n",
    "So internally, you have to define the methods with `self` as the first parameter, but when you instantiate an object using the class, you do not need to provide `self` as the first parameter—Python already knows.\n",
    "\n",
    "We’re making good progress on `Point` class, what about `Line`s? Lines will also need to have `x` and `y` dimensions, although they represent lengths instead of positions.\n",
    "\n",
    "## Task 1: Define a `Line` class\n",
    "\n",
    "Define a `Line` class that has an `x` attribute and a `y` attribute, representing the x and y dimensions respectively."
   ]
  },
  {
   "cell_type": "code",
   "execution_count": null,
   "metadata": {},
   "outputs": [],
   "source": [
    "# Complete the class definition by replacing the\n",
    "# underscores (_____) with appropriate keywords.\n",
    "_____ Line:\n",
    "    _____ __init__(self, x, y):\n",
    "        self.x = x\n",
    "        self.y = y"
   ]
  },
  {
   "cell_type": "markdown",
   "metadata": {
    "deletable": false,
    "editable": false,
    "nbgrader": {
     "cell_type": "markdown",
     "checksum": "e8b1f45156b70c58678b8bd677be7270",
     "grade": false,
     "grade_id": "cell-44dd6a1573ba855d",
     "locked": true,
     "schema_version": 3,
     "solution": false,
     "task": false
    }
   },
   "source": [
    "You should be able to instantiate a line using this code: `line0 = Line(2,3)`"
   ]
  },
  {
   "cell_type": "code",
   "execution_count": null,
   "metadata": {},
   "outputs": [],
   "source": [
    "#run this code cell\n",
    "line0 = Line(2, 3)\n",
    "print(f'line0: x={line0.x}, y={line0.y}')"
   ]
  },
  {
   "cell_type": "code",
   "execution_count": null,
   "metadata": {},
   "outputs": [],
   "source": [
    "#run this code cell\n",
    "class Line:\n",
    "    def __init__(self, x, y):\n",
    "        self.x = x\n",
    "        self.y = y"
   ]
  },
  {
   "cell_type": "markdown",
   "metadata": {
    "deletable": false,
    "editable": false,
    "nbgrader": {
     "cell_type": "markdown",
     "checksum": "0b413a04d89108a4ee76aea1a1ec2fd3",
     "grade": false,
     "grade_id": "cell-592c9f45de6bf8cd",
     "locked": true,
     "schema_version": 3,
     "solution": false,
     "task": false
    }
   },
   "source": [
    "If we have a line, we should be able to get its length. I could write a function like this:"
   ]
  },
  {
   "cell_type": "code",
   "execution_count": null,
   "metadata": {},
   "outputs": [],
   "source": [
    "#run this code cell\n",
    "def length_of(line):\n",
    "    '''\n",
    "    Returns the length of a Line object.\n",
    "    '''\n",
    "    import math\n",
    "    length = math.sqrt(line.x**2 + line.y**2)\n",
    "    return length\n",
    "\n",
    "line = Line(2,3)\n",
    "length = length_of(line)\n",
    "length"
   ]
  },
  {
   "cell_type": "markdown",
   "metadata": {
    "deletable": false,
    "editable": false,
    "nbgrader": {
     "cell_type": "markdown",
     "checksum": "6eb045c92fb9218faf2624eba259f403",
     "grade": false,
     "grade_id": "cell-d22708a69b900838",
     "locked": true,
     "schema_version": 3,
     "solution": false,
     "task": false
    }
   },
   "source": [
    "That defeats the point of working with objects. The length is a property of the object, I _want_ to be able to get it using an object method, like so:\n",
    "\n",
    "    >>> line.length()\n",
    "    3.605551275463989\n",
    "    \n",
    "Time to upgrade the `Line` class.\n",
    "\n",
    "## Task 2: Add a `.length()` method to `Line`\n",
    "\n",
    "\n",
    "Define a `length()` method that takes in no arguments and returns the length of the `Line` object."
   ]
  },
  {
   "cell_type": "code",
   "execution_count": null,
   "metadata": {
    "deletable": false,
    "nbgrader": {
     "cell_type": "code",
     "checksum": "13233cff85602cb91dd544f85efc701b",
     "grade": true,
     "grade_id": "cell-cdeb178a5ac9599c",
     "locked": false,
     "points": 0,
     "schema_version": 3,
     "solution": true,
     "task": false
    }
   },
   "outputs": [],
   "source": [
    "import math\n",
    "\n",
    "class Line:\n",
    "    def __init__(self, x, y):\n",
    "        self.x = x\n",
    "        self.y = y\n",
    "        \n",
    "    def length(self):\n",
    "        # Write code below to *return* the length of the object\n",
    "        # Since we are within the scope of the length method,\n",
    "        # we only have access to the `self` object.\n",
    "        # This object, a Line object, has an x and y attribute.\n",
    "        # We can assign its attributes to a variable for use.\n",
    "        x = self.x\n",
    "        y = self.y\n",
    "        \n"
   ]
  },
  {
   "cell_type": "markdown",
   "metadata": {
    "deletable": false,
    "editable": false,
    "nbgrader": {
     "cell_type": "markdown",
     "checksum": "0145f801d887de81ed67d73fa52f296c",
     "grade": false,
     "grade_id": "cell-c82f3339c7acae21",
     "locked": true,
     "schema_version": 3,
     "solution": false,
     "task": false
    }
   },
   "source": [
    "Notice that our new method, `.length()` needs to have `self` as the first parameter too, even if it doesn't need to be called with any arguments. This may take some time getting used to, but you will get the hang of it.\n",
    "\n",
    "Great. We now have a `Point` class that can represent a `point` (x,y). We also have a `Line` class that can represent a `line` (x,y), and we can get its length using `line.length()`.\n",
    "\n",
    "Lets do more ambitious things.\n",
    "\n",
    "## Vector math, revisited\n",
    "\n",
    "You learned that you can add vectors this way:\n",
    "\n",
    "$$\\vec{AB} + \\vec{BC} = \\vec{AC}$$\n",
    "\n",
    "How would we implement this using our newly-baked `Line` class?\n",
    "\n",
    "In pseudocode, it makes sense that `Line(1,2) + Line(2,3)` should return an object represented by `Line(3,5)` right?\n",
    "\n",
    "Since we just learned methods, let’s try implementing it as a method.\n",
    "\n",
    "## Task 3: Add an `.add()` method to `Line`\n",
    "\n",
    "Define a `add()` method that takes in an argument `line` and returns a `Line` object representing the vector sum of the object with `line`."
   ]
  },
  {
   "cell_type": "code",
   "execution_count": null,
   "metadata": {},
   "outputs": [],
   "source": [
    "# Add an `add()` method to the Line class\n",
    "class Line:\n",
    "    def __init__(self, x, y):\n",
    "        self.x = x\n",
    "        self.y = y\n",
    "        \n",
    "    def length(self):\n",
    "        # Paste your `length()` method definition from above here\n",
    "        return math.sqrt(self.x**2 + self.y**2)\n",
    "\n",
    "        \n",
    "    # Complete the method definition below by replacing\n",
    "    # the underscores(_____) with appropriate keywords or names\n",
    "    def _____(_____,line):\n",
    "        new_x = self.x + line.x\n",
    "        new_y = self.y + line.y\n",
    "        return Line(new_x, new_y)"
   ]
  },
  {
   "cell_type": "code",
   "execution_count": null,
   "metadata": {},
   "outputs": [],
   "source": [
    "# Use this cell to test your code\n",
    "line0 = Line(1,2)\n",
    "line1 = Line(2,3)\n",
    "line01 = line0.add(line1)\n",
    "print('line01 x,y:', line01.x, line01.y)\n",
    "### Expected output: line01 x,y: 3 5"
   ]
  },
  {
   "cell_type": "markdown",
   "metadata": {
    "deletable": false,
    "editable": false,
    "nbgrader": {
     "cell_type": "markdown",
     "checksum": "aad83a95325ed722e49e0551264fafcf",
     "grade": false,
     "grade_id": "cell-3bc92b505abbe280",
     "locked": true,
     "schema_version": 3,
     "solution": false,
     "task": false
    }
   },
   "source": [
    "Got it working? Great.\n",
    "\n",
    "Time to learn another dunder method.\n",
    "\n",
    "When we create a list, it is easy to examine the contents of the list by just putting in the name of the variable:\n",
    "\n",
    "    >>> a_list = [1,2,3]\n",
    "    >>> a_list\n",
    "    [1, 2, 3]\n",
    "    \n",
    "Let’s try that with our newly instantiated line object:"
   ]
  },
  {
   "cell_type": "code",
   "execution_count": null,
   "metadata": {},
   "outputs": [],
   "source": [
    "line01"
   ]
  },
  {
   "cell_type": "markdown",
   "metadata": {
    "deletable": false,
    "editable": false,
    "nbgrader": {
     "cell_type": "markdown",
     "checksum": "5bede3583526f1c2cc8706eb4c5b611f",
     "grade": false,
     "grade_id": "cell-70693c752f241152",
     "locked": true,
     "schema_version": 3,
     "solution": false,
     "task": false
    }
   },
   "source": [
    "That’s not very nice, I wanted to know what its x and y dimensions were.\n",
    "\n",
    "We can make it give us something more helpful by defining another dunder method.\n",
    "\n",
    "When we debug, Python has to have some way of showing us what the object is. The output to the console must be in text form, so Python needs a text <b>repr</b>esentation of this object. It uses the `__repr__()` dunder method to know what this text representation is. Let’s add a `__repr__()` method to our `Line` class. While we’re at it, let’s upgrade our `Point` class as well.\n",
    "\n",
    "A _general guideline_ to implementing `__repr__()` is to use the expression we type to create that object. there will be many exceptions to this rule, but it is a good enough starting point for us.\n",
    "\n",
    "We want to achieve the following:\n",
    "\n",
    "### Example output\n",
    "\n",
    "    >>> line01\n",
    "    Line(3,5)\n",
    "    >>> point0\n",
    "    Point(0,0)\n",
    "    \n",
    "This is much more readable and helpful.\n",
    "\n",
    "## Task 4: Define `__repr__()` dunder method for `Line` and `Point`\n",
    "\n",
    "1. Add a docstring for the `Point` class\n",
    "2. Define a `__repr__()` method for `Point`"
   ]
  },
  {
   "cell_type": "code",
   "execution_count": null,
   "metadata": {
    "deletable": false,
    "nbgrader": {
     "cell_type": "code",
     "checksum": "ff398cf1d1a2fe181794533a5af626a1",
     "grade": true,
     "grade_id": "cell-de7c74fdcb4a6521",
     "locked": false,
     "points": 0,
     "schema_version": 3,
     "solution": true,
     "task": false
    }
   },
   "outputs": [],
   "source": [
    "# See how __repr__() is implemented for Line.\n",
    "class Line:\n",
    "    '''\n",
    "    A class representing a line with x- and y-dimensions.\n",
    "    \n",
    "    Methods:\n",
    "    - length()\n",
    "    - add(another_line)\n",
    "      Returns a Line object representing the vector sum of\n",
    "      the current Line and another_line.\n",
    "    '''\n",
    "    def __init__(self, x, y):\n",
    "        self.x = x\n",
    "        self.y = y\n",
    " \n",
    "    def __repr__(self):\n",
    "        # Note that although the result appears in the output, you do not need\n",
    "        # to print it yourself. Python will do that for you. You need to *return*\n",
    "        # the result instead.\n",
    "        return f'Line({self.x}, {self.y})'\n",
    "        \n",
    "    # It is good practice to define all your dunder methods first,\n",
    "    # starting with __init__(), before defining other methods after them.\n",
    "    def length(self):\n",
    "        return math.sqrt(self.x**2 + self.y**2)\n",
    "\n",
    "    def add(self,line):\n",
    "        new_x = self.x + line.x\n",
    "        new_y = self.y + line.y\n",
    "        return Line(new_x, new_y)\n",
    "    \n",
    "# Task 4\n",
    "class Point:\n",
    "    # (1) Add a docstring for the Point class\n",
    "    def __init__(self, x, y):\n",
    "        self.x = x\n",
    "        self.y = y\n",
    "        \n",
    "    # (2) Define a __repr__() method for Point.\n",
    "    def __repr__(self):\n",
    "        # Type your code here\n",
    "        "
   ]
  },
  {
   "cell_type": "code",
   "execution_count": null,
   "metadata": {},
   "outputs": [],
   "source": [
    "# Use this cell to test your code\n",
    "line01 = Line(3,5)\n",
    "line01\n",
    "# Expected: Line(3,5)\n",
    "point0 = Point(0,0)\n",
    "point0\n",
    "# Expected: Point(0,0)"
   ]
  },
  {
   "cell_type": "markdown",
   "metadata": {
    "deletable": false,
    "editable": false,
    "nbgrader": {
     "cell_type": "markdown",
     "checksum": "df9c299922e8e3c63e633cdf85389816",
     "grade": false,
     "grade_id": "cell-cd0116a27dc0226d",
     "locked": true,
     "schema_version": 3,
     "solution": false,
     "task": false
    }
   },
   "source": [
    "This is helpful for debugging, but when I use a `print()` statement like:\n",
    "\n",
    "    >>> print(f'Points on this grid: {point0} and {point1}')\n",
    "    Points on this grid: Point(0,0) and Point(1,1)\n",
    "    \n",
    "That’s helpful, but not very _pretty_. If we ever need to display these points in a list or output them in the command line, that’s going to be too wordy. It would be nice if we could have the following:\n",
    "\n",
    "    >>> print(f'Points on this grid: {point0} and {point1}')\n",
    "    Points on this grid: (0,0) and (1,1)\n",
    "    \n",
    "That’s more like how you would write it in Math, and it looks neater too without losing any clarity.\n",
    "\n",
    "That means we need another method besides `__repr__()`. Python has just  the thing for us, and it is called `__str__()`.\n",
    "\n",
    "## Task 5: Define `__str__()` dunder method for `Line` and `Point`"
   ]
  },
  {
   "cell_type": "code",
   "execution_count": null,
   "metadata": {
    "deletable": false,
    "nbgrader": {
     "cell_type": "code",
     "checksum": "33dc93188fbab5a14eed120120f13b1d",
     "grade": true,
     "grade_id": "cell-fcc1714572aa1c61",
     "locked": false,
     "points": 0,
     "schema_version": 3,
     "solution": true,
     "task": false
    }
   },
   "outputs": [],
   "source": [
    "# See how __str__() is implemented for Line.\n",
    "class Line:\n",
    "    '''\n",
    "    A class representing a line with x- and y-dimensions.\n",
    "    \n",
    "    Methods:\n",
    "    - length()\n",
    "    - add(another_line)\n",
    "      Returns a Line object representing the vector sum of\n",
    "      the current Line and another_line.\n",
    "    '''\n",
    "    def __init__(self, x, y):\n",
    "        self.x = x\n",
    "        self.y = y\n",
    " \n",
    "    def __repr__(self):\n",
    "        return f'Line({self.x}, {self.y})'\n",
    "    \n",
    "    def __str__(self):\n",
    "        return f'({self.x}, {self.y})'\n",
    "        \n",
    "    def length(self):\n",
    "        return math.sqrt(self.x**2 + self.y**2)\n",
    "\n",
    "    def add(self,line):\n",
    "        new_x = self.x + line.x\n",
    "        new_y = self.y + line.y\n",
    "        return Line(new_x, new_y)\n",
    "    \n",
    "# Task 4\n",
    "class Point:\n",
    "    # (1) Add a docstring for the Point class\n",
    "    def __init__(self, x, y):\n",
    "        self.x = x\n",
    "        self.y = y\n",
    "        \n",
    "    def __repr__(self):\n",
    "        # Paste your __repr__() representation for Point here\n",
    "\n",
    "    # (2) Define a __str__() method for Point.\n",
    "    # Type your code here\n",
    "    \n"
   ]
  },
  {
   "cell_type": "code",
   "execution_count": null,
   "metadata": {},
   "outputs": [],
   "source": [
    "# Use this cell to test your code\n",
    "line01 = Line(3, 5)\n",
    "point0 = Point(0, 0)\n",
    "point1 = Point(1, 1)\n",
    "print(f'Points on this grid: {point0} and {point1}')"
   ]
  },
  {
   "cell_type": "markdown",
   "metadata": {
    "deletable": false,
    "editable": false,
    "nbgrader": {
     "cell_type": "markdown",
     "checksum": "eb8716cf73e06ec555957bee1150098e",
     "grade": false,
     "grade_id": "cell-b059f8294157692d",
     "locked": true,
     "schema_version": 3,
     "solution": false,
     "task": false
    }
   },
   "source": [
    "## `__repr__()` vs `__str__()`\n",
    "\n",
    "These two methods seem very similar. Which is more important, and why do we need two?\n",
    "\n",
    "These methods are called by Python when the functions `repr()` and `str()` are called. You have already been instroduced to `str()`, but not to `repr()`.\n",
    "\n",
    "The main purpose of `repr()`, as far as I can tell, is to get the “source code” of the object; to know how to create the same object in the Python shell. This is useful mainly for debugging, when the skimpy `print()` statements don’t give enough information or if you need to try creating that object in your test code.\n",
    "\n",
    "`str()`, on the other hand, is called when the `print()` function encounters an object that is not a `str`. That is why it can handle non-`str` types—provided they have a `__str__()` that can be called. So the main purpose of `str()` is to give a concise, simple representation of the object for printing.\n",
    "\n",
    "If `__str__()` is not implemented in an object, Python will check if the object has a `__repr__()` method and use that. But if `__repr__()` is not implemented, Python will just give the default representation (e.g. `<__main__.Line at 0x7fa0b05a97f0>`) without checking for a `__str__()` method.\n",
    "\n",
    "For this reason, **you should always have a `__repr__()` method** for every object you create. If you need something different to use in `print()`, you can implement a `__str__()` method as well."
   ]
  },
  {
   "cell_type": "markdown",
   "metadata": {
    "deletable": false,
    "editable": false,
    "nbgrader": {
     "cell_type": "markdown",
     "checksum": "ea8844023fcfff5962c46ae3796aa844",
     "grade": false,
     "grade_id": "cell-47d2f518f97c0b3a",
     "locked": true,
     "schema_version": 3,
     "solution": false,
     "task": false
    }
   },
   "source": [
    "# Feedback and suggestions\n",
    "\n",
    "Any feedback or suggestions for this assignment?"
   ]
  },
  {
   "cell_type": "markdown",
   "metadata": {
    "deletable": false,
    "nbgrader": {
     "cell_type": "markdown",
     "checksum": "15d2aed18f5b9e24f087da8775492e9f",
     "grade": true,
     "grade_id": "cell-cff3e51d3e9a7c7b",
     "locked": false,
     "points": 0,
     "schema_version": 3,
     "solution": true,
     "task": false
    }
   },
   "source": [
    "YOUR ANSWER HERE"
   ]
  }
 ],
 "metadata": {
  "kernelspec": {
   "display_name": "Python 3",
   "language": "python",
   "name": "python3"
  },
  "language_info": {
   "codemirror_mode": {
    "name": "ipython",
    "version": 3
   },
   "file_extension": ".py",
   "mimetype": "text/x-python",
   "name": "python",
   "nbconvert_exporter": "python",
   "pygments_lexer": "ipython3",
   "version": "3.6.7"
  }
 },
 "nbformat": 4,
 "nbformat_minor": 2
}
